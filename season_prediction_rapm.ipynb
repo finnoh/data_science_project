{
 "cells": [
  {
   "cell_type": "code",
   "execution_count": 1,
   "id": "bd1f1066-6fd7-42ca-8164-cab4c56e67bb",
   "metadata": {},
   "outputs": [],
   "source": [
    "import pandas as pd\n",
    "import numpy as np\n",
    "import seaborn as sns\n",
    "import matplotlib.pyplot as plt"
   ]
  },
  {
   "cell_type": "code",
   "execution_count": 2,
   "id": "6a779a1c-648d-4fcb-a946-776b36d3af3c",
   "metadata": {},
   "outputs": [],
   "source": [
    "from nba_api.stats.endpoints import playercareerstats\n",
    "import time\n",
    "from nba_api.stats.endpoints import leaguegamelog\n",
    "import pandas as pd\n",
    "\n",
    "def get_season_schedule(season):\n",
    "    \n",
    "    call_season = leaguegamelog.LeagueGameLog(season=season)\n",
    "    season = pd.concat(call_season.get_data_frames())\n",
    "    \n",
    "    season['home_game'] = season['MATCHUP'].apply(lambda x : False if (x.find('@') != -1) else True)\n",
    "    \n",
    "    return season\n",
    "from nba_api.stats.endpoints import playercareerstats\n",
    "from nba_api.stats.endpoints import boxscoretraditionalv2\n",
    "import time\n",
    "\n",
    "def player_data_for_game(game_id, team_ids):\n",
    "    \n",
    "    # get boxscore for game\n",
    "    call_boxscore = boxscoretraditionalv2.BoxScoreTraditionalV2(game_id=game_id)\n",
    "    boxscore = pd.concat(call_boxscore.get_data_frames())\n",
    "    \n",
    "    # get players listed for this game\n",
    "    players_game = boxscore['PLAYER_ID'].drop_duplicates().dropna()\n",
    "    \n",
    "    # init list of player data\n",
    "    list_player = list()\n",
    "    \n",
    "    # loop over theses players to get their career stats\n",
    "    for player in players_game:\n",
    "        \n",
    "        print(player)\n",
    "        call_player = playercareerstats.PlayerCareerStats(player_id=str(int(player)), per_mode36=\"PerGame\")\n",
    "        \n",
    "        # clean the returned\n",
    "        tmp = carrer_stats_clean(pd.concat(call_player.get_data_frames()))\n",
    "        \n",
    "        # append to list\n",
    "        list_player.append(tmp)\n",
    "        \n",
    "        # sleep to don't overstress - set as parameter in code later, to fine tune wait times more easily\n",
    "        time.sleep(1)\n",
    "        \n",
    "    return pd.concat(list_player), boxscore\n",
    "\n",
    "from nba_api.stats.endpoints import boxscoretraditionalv2\n",
    "import time\n",
    "\n",
    "def boxscores_for_team(team_id, season_obj):\n",
    "    \n",
    "    # get the ids of all the games our team has played\n",
    "    team_game_ids = season_obj[season_obj['TEAM_ID'] == team_id]\n",
    "    \n",
    "    # subset to those games\n",
    "    bool_matchups = season_obj['GAME_ID'].isin(team_game_ids['GAME_ID'])\n",
    "    team_season = season_obj[bool_matchups]\n",
    "    \n",
    "    # get the unique game ids for the teams season\n",
    "    game_ids = team_season['GAME_ID'].unique()\n",
    "    \n",
    "    # init the boxscore list\n",
    "    boxscore = list()\n",
    "    \n",
    "    # loop over those games\n",
    "    for game in game_ids:\n",
    "        \n",
    "        # get boxscore for game\n",
    "        call_boxscore = boxscoretraditionalv2.BoxScoreTraditionalV2(game_id=game)\n",
    "        boxscore.append(pd.concat(call_boxscore.get_data_frames()))\n",
    "        \n",
    "        # sleep and print\n",
    "        time.sleep(0.5)\n",
    "        print(game)\n",
    "    \n",
    "    # create full dataframe\n",
    "    team_boxscores = pd.concat(boxscore)\n",
    "    \n",
    "    # subset, such that only the starting fives are left (simplification)\n",
    "    bool_startingfive = ((team_boxscores['START_POSITION'] == \"G\")|(team_boxscores['START_POSITION'] == \"F\")|(team_boxscores['START_POSITION'] == \"C\"))\n",
    "    boxscore_startingfive = team_boxscores[bool_startingfive]\n",
    "    \n",
    "    return team_season, boxscore_startingfive\n",
    "\n",
    "from nba_api.stats.static import teams\n",
    "from nba_api.stats.endpoints import playercareerstats\n",
    "def player_ability(team_boxscores, team_id):\n",
    "    \n",
    "    starting_fives = team_boxscores[team_boxscores['TEAM_ID'] == team_id]['PLAYER_ID'].unique()\n",
    "    list_player = list()\n",
    "\n",
    "    for starter in starting_fives:\n",
    "        call_player = playercareerstats.PlayerCareerStats(player_id=str(int(starter)), per_mode36=\"PerGame\")\n",
    "\n",
    "        # clean the returned\n",
    "        df = pd.concat(call_player.get_data_frames())\n",
    "    \n",
    "        # get array of all team ids\n",
    "        nba_teams = pd.DataFrame(teams.get_teams())\n",
    "        team_ids = np.unique(nba_teams['id'])\n",
    "\n",
    "        # columns to drop\n",
    "        drop_list = [\"Team_ID\", \"ORGANIZATION_ID\", \"SCHOOL_NAME\", \"RANK_PG_MIN\", \"RANK_PG_FGM\", \"RANK_PG_FGA\",\n",
    "                 \"RANK_FG_PCT\", \"RANK_PG_FG3M\", \"RANK_PG_FG3A\", \"RANK_FG3_PCT\", \"RANK_PG_FTM\", \"RANK_PG_FTA\",\n",
    "                \"RANK_FT_PCT\", \"RANK_PG_OREB\", \"RANK_PG_DREB\", \"RANK_PG_REB\", \"RANK_PG_AST\", \"RANK_PG_STL\",\n",
    "                \"RANK_PG_BLK\", \"RANK_PG_TOV\", \"RANK_PG_PTS\", \"RANK_PG_EFF\"]\n",
    "\n",
    "        # ids of the nba teams - removes all-star appearances\n",
    "        bool_nbateam = df['TEAM_ID'].isin(team_ids)\n",
    "\n",
    "        # drop cols\n",
    "        df = df.loc[:, ['PLAYER_ID', 'SEASON_ID', 'TEAM_ID', 'PLAYER_AGE', 'GP', \n",
    "                        'GS', 'MIN', 'FG_PCT', 'FGA', 'FG3_PCT', 'FG3A', 'FT_PCT', 'FTA', 'OREB', 'DREB', 'REB',\n",
    "                       'AST', 'STL', 'BLK', 'TOV', 'PF', 'PTS']]\n",
    "\n",
    "        # remove all \"other teams\" e.g. all-star and totals\n",
    "        df = df[bool_nbateam]\n",
    "\n",
    "        # drop na's\n",
    "        df = df.dropna()\n",
    "\n",
    "        # keep first observations - what exactly are those?\n",
    "        tmp = df[~df.index.duplicated(keep='first')]\n",
    "\n",
    "        # append to list\n",
    "        list_player.append(tmp)\n",
    "\n",
    "        time.sleep(0.5)\n",
    "        print(starter)\n",
    "\n",
    "    # return dataframe\n",
    "    return pd.concat(list_player)\n",
    "\n",
    "def aggregate_stats(player_stats):\n",
    "    \n",
    "    # switch out creation for later procedure\n",
    "    aggregate_player = player_stats.groupby(\"PLAYER_ID\").mean()['MIN']\n",
    "    \n",
    "    # return in good shape and rename\n",
    "    tmp = pd.DataFrame(aggregate_player)\n",
    "    tmp = tmp.reset_index()\n",
    "    \n",
    "    return tmp.rename(columns={\"MIN\": \"ability_MIN\"})\n",
    "from nba_api.stats.static import teams\n",
    "from nba_api.stats.endpoints import playercareerstats\n",
    "import numpy as np\n",
    "import pandas as pd\n",
    "\n",
    "def get_carrer_stats_clean(player_id):\n",
    "    \n",
    "    # api call\n",
    "    call_player = playercareerstats.PlayerCareerStats(player_id=player_id, per_mode36=\"PerGame\")\n",
    "    df = pd.concat(call_player.get_data_frames())\n",
    "    \n",
    "    # get array of all team ids\n",
    "    nba_teams = pd.DataFrame(teams.get_teams())\n",
    "    team_ids = np.unique(nba_teams['id'])\n",
    "    \n",
    "    # columns to drop\n",
    "    drop_list = [\"Team_ID\", \"ORGANIZATION_ID\", \"SCHOOL_NAME\", \"RANK_PG_MIN\", \"RANK_PG_FGM\", \"RANK_PG_FGA\",\n",
    "             \"RANK_FG_PCT\", \"RANK_PG_FG3M\", \"RANK_PG_FG3A\", \"RANK_FG3_PCT\", \"RANK_PG_FTM\", \"RANK_PG_FTA\",\n",
    "            \"RANK_FT_PCT\", \"RANK_PG_OREB\", \"RANK_PG_DREB\", \"RANK_PG_REB\", \"RANK_PG_AST\", \"RANK_PG_STL\",\n",
    "            \"RANK_PG_BLK\", \"RANK_PG_TOV\", \"RANK_PG_PTS\", \"RANK_PG_EFF\"]\n",
    "    \n",
    "    # ids of the nba teams - removes all-star appearances\n",
    "    bool_nbateam = df['TEAM_ID'].isin(team_ids)\n",
    "    \n",
    "    # drop cols\n",
    "    df = df.loc[:, ['PLAYER_ID', 'SEASON_ID', 'TEAM_ID', 'PLAYER_AGE', 'GP', \n",
    "                    'GS', 'MIN', 'FG_PCT', 'FGA', 'FG3_PCT', 'FG3A', 'FT_PCT', 'FTA', 'OREB', 'DREB', 'REB',\n",
    "                   'AST', 'STL', 'BLK', 'TOV', 'PF', 'PTS']]\n",
    "    \n",
    "    # remove all \"other teams\" e.g. all-star and totals\n",
    "    df = df[bool_nbateam]\n",
    "    \n",
    "    # drop na's\n",
    "    df = df.dropna()\n",
    "    \n",
    "    # keep first observations - what exactly are those?\n",
    "    df = df[~df.index.duplicated(keep='first')]\n",
    "\n",
    "    return df"
   ]
  },
  {
   "cell_type": "code",
   "execution_count": 303,
   "id": "f4cf4c30-9afe-4eff-b61a-30f391034cd9",
   "metadata": {},
   "outputs": [],
   "source": [
    "scores = pd.read_csv(\"FourFactorsRAPM.csv\", delimiter=\",\", skiprows=1)\n",
    "scores = scores.reset_index().drop(['index'], axis=1)\n",
    "seasons_subset = ['2020-21', '2019-20', '2018-19', '2017-18', '2016-17']\n",
    "seasons = [22020, 22019, 22018, 22017, 22016]\n",
    "scores = scores[scores['season'].isin(seasons_subset)]"
   ]
  },
  {
   "cell_type": "code",
   "execution_count": 304,
   "id": "d151abe0-bf67-423f-9fff-9d248c9b95f6",
   "metadata": {},
   "outputs": [],
   "source": [
    "# rename for merging\n",
    "scores.loc[scores['season'] == \"2020-21\",'season'] = 22020\n",
    "scores.loc[scores['season'] == \"2019-20\",'season'] = 22019\n",
    "scores.loc[scores['season'] == \"2018-19\",'season'] = 22018\n",
    "scores.loc[scores['season'] == \"2017-18\",'season'] = 22017\n",
    "scores.loc[scores['season'] == \"2016-17\",'season'] = 22016"
   ]
  },
  {
   "cell_type": "code",
   "execution_count": 305,
   "id": "99984bd3-3387-4958-adc3-8ffa893ad414",
   "metadata": {},
   "outputs": [],
   "source": [
    "df_schedule, df_boxscores = pd.read_csv(\"./data/season_prediction/schedule.csv\"), pd.read_csv(\"./data/season_prediction/boxscores.csv\")"
   ]
  },
  {
   "cell_type": "code",
   "execution_count": 306,
   "id": "116e4700-635e-4894-95d4-182f714c470b",
   "metadata": {},
   "outputs": [],
   "source": [
    "# select seasons\n",
    "#seasons = [22020, 22019]\n",
    "df_schedule = df_schedule[df_schedule['SEASON_ID'].isin(seasons)]\n",
    "\n",
    "games = df_schedule['GAME_ID'].unique()\n",
    "df_boxscores = df_boxscores[df_boxscores['GAME_ID'].isin(games)]\n",
    "\n",
    "# merge schedule and boxscores\n",
    "df = pd.merge(df_schedule, df_boxscores, how='left', on=[\"GAME_ID\", 'TEAM_ID'], suffixes=(\"_team\", \"_player\"))\n",
    "df['home_game'] = df['MATCHUP'].apply(lambda x: x.find('@') == -1)\n",
    "\n",
    "# merge scores and df\n",
    "#df = pd.merge(df, scores, how='left', left_on=['PLAYER_ID', 'SEASON_ID'], right_on=['playerId', 'season'])"
   ]
  },
  {
   "cell_type": "code",
   "execution_count": 307,
   "id": "85e9d5d5-6c15-423a-a70b-9e429daea259",
   "metadata": {},
   "outputs": [
    {
     "data": {
      "text/html": [
       "<div>\n",
       "<style scoped>\n",
       "    .dataframe tbody tr th:only-of-type {\n",
       "        vertical-align: middle;\n",
       "    }\n",
       "\n",
       "    .dataframe tbody tr th {\n",
       "        vertical-align: top;\n",
       "    }\n",
       "\n",
       "    .dataframe thead th {\n",
       "        text-align: right;\n",
       "    }\n",
       "</style>\n",
       "<table border=\"1\" class=\"dataframe\">\n",
       "  <thead>\n",
       "    <tr style=\"text-align: right;\">\n",
       "      <th></th>\n",
       "      <th>Unnamed: 0_team</th>\n",
       "      <th>Unnamed: 0.1_team</th>\n",
       "      <th>SEASON_ID</th>\n",
       "      <th>TEAM_ID</th>\n",
       "      <th>TEAM_ABBREVIATION_team</th>\n",
       "      <th>TEAM_NAME_team</th>\n",
       "      <th>GAME_ID</th>\n",
       "      <th>GAME_DATE</th>\n",
       "      <th>MATCHUP</th>\n",
       "      <th>WL</th>\n",
       "      <th>...</th>\n",
       "      <th>PACE</th>\n",
       "      <th>PACE_PER40</th>\n",
       "      <th>POSS</th>\n",
       "      <th>PIE</th>\n",
       "      <th>TEAM_NAME_player</th>\n",
       "      <th>E_TM_TOV_PCT</th>\n",
       "      <th>Unnamed: 0.1.1</th>\n",
       "      <th>player_game_index</th>\n",
       "      <th>len_game_id</th>\n",
       "      <th>home_game</th>\n",
       "    </tr>\n",
       "  </thead>\n",
       "  <tbody>\n",
       "    <tr>\n",
       "      <th>0</th>\n",
       "      <td>0</td>\n",
       "      <td>0</td>\n",
       "      <td>22016</td>\n",
       "      <td>1610612739</td>\n",
       "      <td>CLE</td>\n",
       "      <td>Cleveland Cavaliers</td>\n",
       "      <td>21600001</td>\n",
       "      <td>2016-10-25</td>\n",
       "      <td>CLE vs. NYK</td>\n",
       "      <td>W</td>\n",
       "      <td>...</td>\n",
       "      <td>102.27</td>\n",
       "      <td>85.23</td>\n",
       "      <td>69</td>\n",
       "      <td>0.282</td>\n",
       "      <td>NaN</td>\n",
       "      <td>NaN</td>\n",
       "      <td>NaN</td>\n",
       "      <td>NaN</td>\n",
       "      <td>21600001</td>\n",
       "      <td>True</td>\n",
       "    </tr>\n",
       "    <tr>\n",
       "      <th>1</th>\n",
       "      <td>0</td>\n",
       "      <td>0</td>\n",
       "      <td>22016</td>\n",
       "      <td>1610612739</td>\n",
       "      <td>CLE</td>\n",
       "      <td>Cleveland Cavaliers</td>\n",
       "      <td>21600001</td>\n",
       "      <td>2016-10-25</td>\n",
       "      <td>CLE vs. NYK</td>\n",
       "      <td>W</td>\n",
       "      <td>...</td>\n",
       "      <td>105.67</td>\n",
       "      <td>88.06</td>\n",
       "      <td>55</td>\n",
       "      <td>0.344</td>\n",
       "      <td>NaN</td>\n",
       "      <td>NaN</td>\n",
       "      <td>NaN</td>\n",
       "      <td>NaN</td>\n",
       "      <td>21600001</td>\n",
       "      <td>True</td>\n",
       "    </tr>\n",
       "    <tr>\n",
       "      <th>2</th>\n",
       "      <td>0</td>\n",
       "      <td>0</td>\n",
       "      <td>22016</td>\n",
       "      <td>1610612739</td>\n",
       "      <td>CLE</td>\n",
       "      <td>Cleveland Cavaliers</td>\n",
       "      <td>21600001</td>\n",
       "      <td>2016-10-25</td>\n",
       "      <td>CLE vs. NYK</td>\n",
       "      <td>W</td>\n",
       "      <td>...</td>\n",
       "      <td>102.82</td>\n",
       "      <td>85.68</td>\n",
       "      <td>48</td>\n",
       "      <td>-0.026</td>\n",
       "      <td>NaN</td>\n",
       "      <td>NaN</td>\n",
       "      <td>NaN</td>\n",
       "      <td>NaN</td>\n",
       "      <td>21600001</td>\n",
       "      <td>True</td>\n",
       "    </tr>\n",
       "    <tr>\n",
       "      <th>3</th>\n",
       "      <td>0</td>\n",
       "      <td>0</td>\n",
       "      <td>22016</td>\n",
       "      <td>1610612739</td>\n",
       "      <td>CLE</td>\n",
       "      <td>Cleveland Cavaliers</td>\n",
       "      <td>21600001</td>\n",
       "      <td>2016-10-25</td>\n",
       "      <td>CLE vs. NYK</td>\n",
       "      <td>W</td>\n",
       "      <td>...</td>\n",
       "      <td>100.82</td>\n",
       "      <td>84.02</td>\n",
       "      <td>53</td>\n",
       "      <td>0.036</td>\n",
       "      <td>NaN</td>\n",
       "      <td>NaN</td>\n",
       "      <td>NaN</td>\n",
       "      <td>NaN</td>\n",
       "      <td>21600001</td>\n",
       "      <td>True</td>\n",
       "    </tr>\n",
       "    <tr>\n",
       "      <th>4</th>\n",
       "      <td>0</td>\n",
       "      <td>0</td>\n",
       "      <td>22016</td>\n",
       "      <td>1610612739</td>\n",
       "      <td>CLE</td>\n",
       "      <td>Cleveland Cavaliers</td>\n",
       "      <td>21600001</td>\n",
       "      <td>2016-10-25</td>\n",
       "      <td>CLE vs. NYK</td>\n",
       "      <td>W</td>\n",
       "      <td>...</td>\n",
       "      <td>98.25</td>\n",
       "      <td>81.87</td>\n",
       "      <td>61</td>\n",
       "      <td>0.219</td>\n",
       "      <td>NaN</td>\n",
       "      <td>NaN</td>\n",
       "      <td>NaN</td>\n",
       "      <td>NaN</td>\n",
       "      <td>21600001</td>\n",
       "      <td>True</td>\n",
       "    </tr>\n",
       "    <tr>\n",
       "      <th>...</th>\n",
       "      <td>...</td>\n",
       "      <td>...</td>\n",
       "      <td>...</td>\n",
       "      <td>...</td>\n",
       "      <td>...</td>\n",
       "      <td>...</td>\n",
       "      <td>...</td>\n",
       "      <td>...</td>\n",
       "      <td>...</td>\n",
       "      <td>...</td>\n",
       "      <td>...</td>\n",
       "      <td>...</td>\n",
       "      <td>...</td>\n",
       "      <td>...</td>\n",
       "      <td>...</td>\n",
       "      <td>...</td>\n",
       "      <td>...</td>\n",
       "      <td>...</td>\n",
       "      <td>...</td>\n",
       "      <td>...</td>\n",
       "      <td>...</td>\n",
       "    </tr>\n",
       "    <tr>\n",
       "      <th>160402</th>\n",
       "      <td>2159</td>\n",
       "      <td>2159</td>\n",
       "      <td>22020</td>\n",
       "      <td>1610612740</td>\n",
       "      <td>NOP</td>\n",
       "      <td>New Orleans Pelicans</td>\n",
       "      <td>22001072</td>\n",
       "      <td>2021-05-16</td>\n",
       "      <td>NOP vs. LAL</td>\n",
       "      <td>L</td>\n",
       "      <td>...</td>\n",
       "      <td>101.07</td>\n",
       "      <td>84.22</td>\n",
       "      <td>54</td>\n",
       "      <td>0.152</td>\n",
       "      <td>NaN</td>\n",
       "      <td>NaN</td>\n",
       "      <td>31013.0</td>\n",
       "      <td>31013.0</td>\n",
       "      <td>22001072</td>\n",
       "      <td>True</td>\n",
       "    </tr>\n",
       "    <tr>\n",
       "      <th>160403</th>\n",
       "      <td>2159</td>\n",
       "      <td>2159</td>\n",
       "      <td>22020</td>\n",
       "      <td>1610612740</td>\n",
       "      <td>NOP</td>\n",
       "      <td>New Orleans Pelicans</td>\n",
       "      <td>22001072</td>\n",
       "      <td>2021-05-16</td>\n",
       "      <td>NOP vs. LAL</td>\n",
       "      <td>L</td>\n",
       "      <td>...</td>\n",
       "      <td>106.72</td>\n",
       "      <td>88.94</td>\n",
       "      <td>14</td>\n",
       "      <td>0.000</td>\n",
       "      <td>NaN</td>\n",
       "      <td>NaN</td>\n",
       "      <td>31014.0</td>\n",
       "      <td>31014.0</td>\n",
       "      <td>22001072</td>\n",
       "      <td>True</td>\n",
       "    </tr>\n",
       "    <tr>\n",
       "      <th>160404</th>\n",
       "      <td>2159</td>\n",
       "      <td>2159</td>\n",
       "      <td>22020</td>\n",
       "      <td>1610612740</td>\n",
       "      <td>NOP</td>\n",
       "      <td>New Orleans Pelicans</td>\n",
       "      <td>22001072</td>\n",
       "      <td>2021-05-16</td>\n",
       "      <td>NOP vs. LAL</td>\n",
       "      <td>L</td>\n",
       "      <td>...</td>\n",
       "      <td>NaN</td>\n",
       "      <td>NaN</td>\n",
       "      <td>0</td>\n",
       "      <td>NaN</td>\n",
       "      <td>NaN</td>\n",
       "      <td>NaN</td>\n",
       "      <td>31015.0</td>\n",
       "      <td>31015.0</td>\n",
       "      <td>22001072</td>\n",
       "      <td>True</td>\n",
       "    </tr>\n",
       "    <tr>\n",
       "      <th>160405</th>\n",
       "      <td>2159</td>\n",
       "      <td>2159</td>\n",
       "      <td>22020</td>\n",
       "      <td>1610612740</td>\n",
       "      <td>NOP</td>\n",
       "      <td>New Orleans Pelicans</td>\n",
       "      <td>22001072</td>\n",
       "      <td>2021-05-16</td>\n",
       "      <td>NOP vs. LAL</td>\n",
       "      <td>L</td>\n",
       "      <td>...</td>\n",
       "      <td>NaN</td>\n",
       "      <td>NaN</td>\n",
       "      <td>0</td>\n",
       "      <td>NaN</td>\n",
       "      <td>NaN</td>\n",
       "      <td>NaN</td>\n",
       "      <td>31016.0</td>\n",
       "      <td>31016.0</td>\n",
       "      <td>22001072</td>\n",
       "      <td>True</td>\n",
       "    </tr>\n",
       "    <tr>\n",
       "      <th>160406</th>\n",
       "      <td>2159</td>\n",
       "      <td>2159</td>\n",
       "      <td>22020</td>\n",
       "      <td>1610612740</td>\n",
       "      <td>NOP</td>\n",
       "      <td>New Orleans Pelicans</td>\n",
       "      <td>22001072</td>\n",
       "      <td>2021-05-16</td>\n",
       "      <td>NOP vs. LAL</td>\n",
       "      <td>L</td>\n",
       "      <td>...</td>\n",
       "      <td>99.50</td>\n",
       "      <td>82.92</td>\n",
       "      <td>99</td>\n",
       "      <td>0.440</td>\n",
       "      <td>Pelicans</td>\n",
       "      <td>20.95</td>\n",
       "      <td>31017.0</td>\n",
       "      <td>31017.0</td>\n",
       "      <td>22001072</td>\n",
       "      <td>True</td>\n",
       "    </tr>\n",
       "  </tbody>\n",
       "</table>\n",
       "<p>160407 rows × 70 columns</p>\n",
       "</div>"
      ],
      "text/plain": [
       "        Unnamed: 0_team  Unnamed: 0.1_team  SEASON_ID     TEAM_ID  \\\n",
       "0                     0                  0      22016  1610612739   \n",
       "1                     0                  0      22016  1610612739   \n",
       "2                     0                  0      22016  1610612739   \n",
       "3                     0                  0      22016  1610612739   \n",
       "4                     0                  0      22016  1610612739   \n",
       "...                 ...                ...        ...         ...   \n",
       "160402             2159               2159      22020  1610612740   \n",
       "160403             2159               2159      22020  1610612740   \n",
       "160404             2159               2159      22020  1610612740   \n",
       "160405             2159               2159      22020  1610612740   \n",
       "160406             2159               2159      22020  1610612740   \n",
       "\n",
       "       TEAM_ABBREVIATION_team        TEAM_NAME_team   GAME_ID   GAME_DATE  \\\n",
       "0                         CLE   Cleveland Cavaliers  21600001  2016-10-25   \n",
       "1                         CLE   Cleveland Cavaliers  21600001  2016-10-25   \n",
       "2                         CLE   Cleveland Cavaliers  21600001  2016-10-25   \n",
       "3                         CLE   Cleveland Cavaliers  21600001  2016-10-25   \n",
       "4                         CLE   Cleveland Cavaliers  21600001  2016-10-25   \n",
       "...                       ...                   ...       ...         ...   \n",
       "160402                    NOP  New Orleans Pelicans  22001072  2021-05-16   \n",
       "160403                    NOP  New Orleans Pelicans  22001072  2021-05-16   \n",
       "160404                    NOP  New Orleans Pelicans  22001072  2021-05-16   \n",
       "160405                    NOP  New Orleans Pelicans  22001072  2021-05-16   \n",
       "160406                    NOP  New Orleans Pelicans  22001072  2021-05-16   \n",
       "\n",
       "            MATCHUP WL  ...    PACE  PACE_PER40  POSS    PIE  \\\n",
       "0       CLE vs. NYK  W  ...  102.27       85.23    69  0.282   \n",
       "1       CLE vs. NYK  W  ...  105.67       88.06    55  0.344   \n",
       "2       CLE vs. NYK  W  ...  102.82       85.68    48 -0.026   \n",
       "3       CLE vs. NYK  W  ...  100.82       84.02    53  0.036   \n",
       "4       CLE vs. NYK  W  ...   98.25       81.87    61  0.219   \n",
       "...             ... ..  ...     ...         ...   ...    ...   \n",
       "160402  NOP vs. LAL  L  ...  101.07       84.22    54  0.152   \n",
       "160403  NOP vs. LAL  L  ...  106.72       88.94    14  0.000   \n",
       "160404  NOP vs. LAL  L  ...     NaN         NaN     0    NaN   \n",
       "160405  NOP vs. LAL  L  ...     NaN         NaN     0    NaN   \n",
       "160406  NOP vs. LAL  L  ...   99.50       82.92    99  0.440   \n",
       "\n",
       "        TEAM_NAME_player  E_TM_TOV_PCT  Unnamed: 0.1.1  player_game_index  \\\n",
       "0                    NaN           NaN             NaN                NaN   \n",
       "1                    NaN           NaN             NaN                NaN   \n",
       "2                    NaN           NaN             NaN                NaN   \n",
       "3                    NaN           NaN             NaN                NaN   \n",
       "4                    NaN           NaN             NaN                NaN   \n",
       "...                  ...           ...             ...                ...   \n",
       "160402               NaN           NaN         31013.0            31013.0   \n",
       "160403               NaN           NaN         31014.0            31014.0   \n",
       "160404               NaN           NaN         31015.0            31015.0   \n",
       "160405               NaN           NaN         31016.0            31016.0   \n",
       "160406          Pelicans         20.95         31017.0            31017.0   \n",
       "\n",
       "        len_game_id  home_game  \n",
       "0          21600001       True  \n",
       "1          21600001       True  \n",
       "2          21600001       True  \n",
       "3          21600001       True  \n",
       "4          21600001       True  \n",
       "...             ...        ...  \n",
       "160402     22001072       True  \n",
       "160403     22001072       True  \n",
       "160404     22001072       True  \n",
       "160405     22001072       True  \n",
       "160406     22001072       True  \n",
       "\n",
       "[160407 rows x 70 columns]"
      ]
     },
     "execution_count": 307,
     "metadata": {},
     "output_type": "execute_result"
    }
   ],
   "source": [
    "df"
   ]
  },
  {
   "cell_type": "code",
   "execution_count": 9,
   "id": "ac41170d-42e9-4b5c-a211-3e7bb3321d75",
   "metadata": {
    "jupyter": {
     "source_hidden": true
    },
    "tags": []
   },
   "outputs": [],
   "source": [
    "from sklearn.model_selection import train_test_split\n",
    "import itertools\n",
    "\n",
    "# select seasons\n",
    "seasons = [22020, 22019]\n",
    "df_schedule = df_schedule[df_schedule['SEASON_ID'].isin(seasons)]\n",
    "\n",
    "games = df_schedule['GAME_ID'].unique()\n",
    "df_boxscores = df_boxscores[df_boxscores['GAME_ID'].isin(games)]\n",
    "\n",
    "# merge schedule and boxscores\n",
    "df = pd.merge(df_schedule, df_boxscores, how='left', on=[\"GAME_ID\", 'TEAM_ID'], suffixes=(\"_team\", \"_player\"))\n",
    "df['home_game'] = df['MATCHUP'].apply(lambda x: x.find('@') == -1)\n",
    "\n",
    "# merge scores and df\n",
    "df = pd.merge(df, scores, how='left', left_on=['PLAYER_ID', 'SEASON_ID'], right_on=['playerId', 'season'])\n",
    "\n",
    "# create sixth man\n",
    "sixth_man = pd.DataFrame(df[df['START_POSITION'].isna()].groupby(['TEAM_ID', 'GAME_ID'])['RAPM'].aggregate('mean')).reset_index().drop_duplicates()\n",
    "sixth_man['START_POSITION'] = \"SIXTH_MAN\"\n",
    "df_sixth = pd.merge(sixth_man, df[['GAME_ID', 'TEAM_ID', 'home_game']], on=['GAME_ID', 'TEAM_ID'])\n",
    "df_sixth = df_sixth.drop_duplicates()\n",
    "\n",
    "# calculate bench depth\n",
    "df['BENCH'] = df['START_POSITION'].isna()\n",
    "bench_depth = pd.DataFrame(df.groupby(['GAME_ID', 'TEAM_ID'])['BENCH'].sum()).reset_index().drop_duplicates()\n",
    "bench_depth = bench_depth.rename(columns={'BENCH':'BENCH_DEPTH'})\n",
    "df = pd.merge(df, bench_depth, how='left')\n",
    "\n",
    "# mark bench depth\n",
    "df.loc[df['home_game'], 'BENCH_DEPTH_TEAM'] = 'BENCH_DEPTH_HOME'\n",
    "df.loc[~df['home_game'], 'BENCH_DEPTH_TEAM'] = 'BENCH_DEPTH_AWAY'\n",
    "\n",
    "# append to dataframe\n",
    "df = df.append(df_sixth)\n",
    "\n",
    "# filter for Starters only\n",
    "df = df[~df['START_POSITION'].isna()]\n",
    "df2 = df\n",
    "\n",
    "# create counts\n",
    "half = int(df.shape[0] / 2)\n",
    "repetitions_half = int(half / 6)\n",
    "\n",
    "# first step for role player variable\n",
    "sixth_home = ['SIXTH_HOME_1'] * repetitions_half\n",
    "guard_home = ['GUARD_HOME_1', 'GUARD_HOME_2'] * repetitions_half\n",
    "forward_home = ['FORWARD_HOME_1', 'FORWARD_HOME_2'] * repetitions_half\n",
    "center_home = ['CENTER_HOME_1'] * repetitions_half\n",
    "\n",
    "sixth_away = ['SIXTH_AWAY_1'] * repetitions_half\n",
    "guard_away = ['GUARD_AWAY_1', 'GUARD_AWAY_2'] * repetitions_half\n",
    "forward_away = ['FORWARD_AWAY_1', 'FORWARD_AWAY_2'] * repetitions_half\n",
    "center_away = ['CENTER_AWAY_1'] * repetitions_half\n",
    "\n",
    "# create player role\n",
    "player_role = list(itertools.chain(sixth_home, guard_home, forward_home, center_home, \n",
    "                                   sixth_away, guard_away, forward_away, center_away))\n",
    "\n",
    "# sort values and insert the player role\n",
    "df = df.sort_values(['home_game', 'START_POSITION'], ascending=False)\n",
    "df['PLAYER_COURT_ROLE'] = np.asarray(player_role)\n",
    "\n",
    "#### return df ####\n",
    "\n",
    "\n",
    "# subset dataframes\n",
    "df_sub = df[['PLUS_MINUS', 'home_game', 'TEAM_ID','TEAM_ABBREVIATION_team','GAME_ID', 'PLAYER_ID', 'playerName', 'PLAYER_COURT_ROLE', 'RAPM', 'BENCH_DEPTH_TEAM', 'BENCH_DEPTH']]\n",
    "df_reg = df_sub[['PLUS_MINUS', 'home_game', 'TEAM_ID','GAME_ID', 'PLAYER_ID', 'PLAYER_COURT_ROLE', 'RAPM', 'BENCH_DEPTH_TEAM', 'BENCH_DEPTH']]\n",
    "\n",
    "sub_bench = df_reg[['GAME_ID', 'BENCH_DEPTH_TEAM', 'BENCH_DEPTH']].drop_duplicates()\n",
    "sub_bench = sub_bench.pivot('GAME_ID', 'BENCH_DEPTH_TEAM', 'BENCH_DEPTH').reset_index()\n",
    "\n",
    "# create df model frame\n",
    "df_reg_scores = df_reg[['GAME_ID', 'PLUS_MINUS', 'home_game']]\n",
    "wide = df_reg.pivot('GAME_ID', 'PLAYER_COURT_ROLE', 'RAPM').reset_index()\n",
    "df_model = pd.merge(wide, df_reg_scores)\n",
    "df_model = pd.merge(df_model, sub_bench, how='left', on='GAME_ID')\n",
    "\n",
    "df_interpretation = df_model[['GAME_ID', 'home_game', 'GUARD_HOME_1', 'GUARD_HOME_2', 'FORWARD_HOME_1', 'FORWARD_HOME_2', 'CENTER_HOME_1', 'SIXTH_HOME_1', 'BENCH_DEPTH_HOME', 'GUARD_AWAY_1', 'GUARD_AWAY_2', 'FORWARD_AWAY_1', 'FORWARD_AWAY_2', 'CENTER_AWAY_1', 'SIXTH_AWAY_1', 'BENCH_DEPTH_AWAY', 'PLUS_MINUS']]\n",
    "df_model = df_model[['home_game', 'GUARD_HOME_1', 'GUARD_HOME_2', 'FORWARD_HOME_1', 'FORWARD_HOME_2', 'CENTER_HOME_1', 'SIXTH_HOME_1', 'BENCH_DEPTH_HOME', 'GUARD_AWAY_1', 'GUARD_AWAY_2', 'FORWARD_AWAY_1', 'FORWARD_AWAY_2', 'CENTER_AWAY_1', 'SIXTH_AWAY_1', 'BENCH_DEPTH_AWAY', 'PLUS_MINUS']]\n",
    "\n",
    "# drop duplicates and keep only observations from HT perspective\n",
    "df_model = df_model.drop_duplicates()\n",
    "df_model = df_model.dropna()\n",
    "df_model = df_model[df_model['home_game']]\n",
    "\n",
    "df_interpretation = df_interpretation.drop_duplicates()\n",
    "df_interpretation = df_interpretation.dropna()\n",
    "df_interpretation = df_interpretation[df_interpretation['home_game']]\n",
    "\n",
    "# merge back to schedule for interpretation\n",
    "df_interpretation = pd.merge(df_schedule, df_interpretation, left_on=\"GAME_ID\", right_on=\"GAME_ID\", how='right')\n",
    "df_interpretation = df_interpretation[df_interpretation['is_home_game']]\n",
    "\n",
    "# seperate into labels and features\n",
    "y = df_model['PLUS_MINUS'].to_numpy()\n",
    "features_names = ['GUARD_HOME_1', 'GUARD_HOME_2', 'FORWARD_HOME_1', 'FORWARD_HOME_2', 'CENTER_HOME_1', 'SIXTH_HOME_1', 'BENCH_DEPTH_HOME', 'GUARD_AWAY_1', 'GUARD_AWAY_2', 'FORWARD_AWAY_1', 'FORWARD_AWAY_2', 'CENTER_AWAY_1', 'SIXTH_AWAY_1', 'BENCH_DEPTH_AWAY']\n",
    "X = df_model[features_names].to_numpy()\n",
    "\n",
    "# get bool for na rows\n",
    "na_rows = ~np.isnan(X).any(axis=1)\n",
    "\n",
    "# remove na rows\n",
    "X = X[na_rows]\n",
    "y = y[na_rows]\n",
    "\n",
    "# train, test split\n",
    "X_train, X_test, y_train, y_test = train_test_split(X, y, test_size=0.33, random_state=42)\n",
    "\n",
    "# games of first season / training season\n",
    "n_games = 1060\n",
    "\n",
    "# season split\n",
    "X_train, X_test, y_train, y_test = X[0:n_games], X[n_games:], y[0:n_games], y[n_games:]\n",
    "\n",
    "# keep track of real games\n",
    "df_int_train = df_interpretation.iloc[0:n_games,]\n",
    "df_int_test = df_interpretation.iloc[n_games:,]"
   ]
  },
  {
   "cell_type": "code",
   "execution_count": 402,
   "id": "82aecce0-532d-4586-b853-8b01e598759d",
   "metadata": {},
   "outputs": [],
   "source": [
    "import itertools\n",
    "\n",
    "def preprocess_season_data(schedule, boxscores, seasons: list):\n",
    "    \"\"\" create preprocessed dataframe from schedule and boxscores\n",
    "    \"\"\"\n",
    "    # init variables\n",
    "    df_schedule = schedule\n",
    "    df_boxscores = boxscores\n",
    "    \n",
    "    # select seasons\n",
    "    df_schedule = df_schedule[df_schedule['SEASON_ID'].isin(seasons)]\n",
    "\n",
    "    games = df_schedule['GAME_ID'].unique()\n",
    "    df_boxscores = df_boxscores[df_boxscores['GAME_ID'].isin(games)]\n",
    "\n",
    "    # merge schedule and boxscores\n",
    "    df = pd.merge(df_schedule, df_boxscores, how='left', on=[\"GAME_ID\", 'TEAM_ID'], suffixes=(\"_team\", \"_player\"))\n",
    "    df['home_game'] = df['MATCHUP'].apply(lambda x: x.find('@') == -1)\n",
    "\n",
    "    # merge scores and df\n",
    "    df = pd.merge(df, scores, how='left', left_on=['PLAYER_ID', 'SEASON_ID'], right_on=['playerId', 'season'])\n",
    "\n",
    "    # create sixth man\n",
    "    sixth_man = pd.DataFrame(df[df['START_POSITION'].isna()].groupby(['TEAM_ID', 'GAME_ID'])['RAPM'].aggregate('mean')).reset_index().drop_duplicates()\n",
    "    sixth_man['START_POSITION'] = \"SIXTH_MAN\"\n",
    "    df_sixth = pd.merge(sixth_man, df[['GAME_ID', 'TEAM_ID', 'home_game']], on=['GAME_ID', 'TEAM_ID'])\n",
    "    df_sixth = df_sixth.drop_duplicates()\n",
    "\n",
    "    # calculate bench depth\n",
    "    df['BENCH'] = df['START_POSITION'].isna()\n",
    "    bench_depth = pd.DataFrame(df.groupby(['GAME_ID', 'TEAM_ID'])['BENCH'].sum()).reset_index().drop_duplicates()\n",
    "    bench_depth = bench_depth.rename(columns={'BENCH':'BENCH_DEPTH'})\n",
    "    df = pd.merge(df, bench_depth, how='left')\n",
    "\n",
    "    # mark bench depth\n",
    "    df.loc[df['home_game'], 'BENCH_DEPTH_TEAM'] = 'BENCH_DEPTH_HOME'\n",
    "    df.loc[~df['home_game'], 'BENCH_DEPTH_TEAM'] = 'BENCH_DEPTH_AWAY'\n",
    "\n",
    "    # append to dataframe\n",
    "    df = df.append(df_sixth)\n",
    "\n",
    "    # filter for Starters only\n",
    "    df = df[~df['START_POSITION'].isna()]\n",
    "    df2 = df\n",
    "\n",
    "    # create counts\n",
    "    half = int(df.shape[0] / 2)\n",
    "    repetitions_half = int(half / 6)\n",
    "\n",
    "    # first step for role player variable\n",
    "    sixth_home = ['SIXTH_HOME_1'] * repetitions_half\n",
    "    guard_home = ['GUARD_HOME_1', 'GUARD_HOME_2'] * repetitions_half\n",
    "    forward_home = ['FORWARD_HOME_1', 'FORWARD_HOME_2'] * repetitions_half\n",
    "    center_home = ['CENTER_HOME_1'] * repetitions_half\n",
    "\n",
    "    sixth_away = ['SIXTH_AWAY_1'] * repetitions_half\n",
    "    guard_away = ['GUARD_AWAY_1', 'GUARD_AWAY_2'] * repetitions_half\n",
    "    forward_away = ['FORWARD_AWAY_1', 'FORWARD_AWAY_2'] * repetitions_half\n",
    "    center_away = ['CENTER_AWAY_1'] * repetitions_half\n",
    "\n",
    "    # create player role\n",
    "    player_role = list(itertools.chain(sixth_home, guard_home, forward_home, center_home, \n",
    "                                       sixth_away, guard_away, forward_away, center_away))\n",
    "\n",
    "    # sort values and insert the player role\n",
    "    df = df.sort_values(['home_game', 'START_POSITION'], ascending=False)\n",
    "    df['PLAYER_COURT_ROLE'] = np.asarray(player_role)\n",
    "    \n",
    "    # quick and dirty nan fill\n",
    "    df = df.sort_values('GAME_ID')\n",
    "    df['SEASON_ID'] = df['SEASON_ID'].ffill()\n",
    "    df['SEASON_ID'] = df['SEASON_ID'].bfill()\n",
    "    \n",
    "    df = df.sort_values(['SEASON_ID', 'GAME_ID'])\n",
    "    \n",
    "    return df"
   ]
  },
  {
   "cell_type": "code",
   "execution_count": 403,
   "id": "f08436d8-d432-4b34-b0d8-df612b292e8e",
   "metadata": {},
   "outputs": [],
   "source": [
    "def trade_player_function(player_in, player_out, df, scores):\n",
    "    \"\"\"\n",
    "    \n",
    "    :param df: dataframe, merged schedule and boxscores - already existing RAPM column\n",
    "    :param scores: dataframe, containt mapping from playerid and seasonid to performance score\n",
    "    \"\"\"\n",
    "    \n",
    "    # player in, player out id\n",
    "    player_in = 2544\n",
    "    player_out = 203939\n",
    "\n",
    "    # get name\n",
    "    player_in_name = df[df['PLAYER_ID'] == player_in]['PLAYER_NAME'].values[0]\n",
    "    player_out_name = df[df['PLAYER_ID'] == player_out]['PLAYER_NAME'].values[0]\n",
    "    \n",
    "    # get team of \"out\" player i.e. our team\n",
    "    out_team_id = df[df['PLAYER_ID'] == player_out]['TEAM_ID'].unique()[-1]\n",
    "    in_team_id = df[df['PLAYER_ID'] == player_in]['TEAM_ID'].unique()[-1]\n",
    "\n",
    "    # copy the dataframe\n",
    "    df2 = df.copy()\n",
    "\n",
    "    # get performance scores - be careful with the respective season!\n",
    "    recent_rapm_in = scores[scores['playerId'] == player_in].sort_values('season', ascending=False)['RAPM'].values[0]\n",
    "    recent_rapm_out = scores[scores['playerId'] == player_out].sort_values('season', ascending=False)['RAPM'].values[0]\n",
    "\n",
    "    # sub in the player_in\n",
    "    df2['PLAYER_OUT_ID'] = df2['PLAYER_ID']\n",
    "    df2.loc[df['PLAYER_ID'] == player_out, 'PLAYER_ID'] = player_in\n",
    "    df2.loc[df['PLAYER_ID'] == player_out, 'RAPM'] = recent_rapm_in\n",
    "    df2.loc[df['PLAYER_ID'] == player_out, 'PLAYER_NAME'] = player_in_name\n",
    "\n",
    "    # transfer player_out to player_in's former team\n",
    "    df2.loc[df2['PLAYER_OUT_ID'] == player_in, 'PLAYER_ID'] = player_out\n",
    "    df2.loc[df2['PLAYER_OUT_ID'] == player_in, 'RAPM'] = recent_rapm_out\n",
    "    df2.loc[df2['PLAYER_OUT_ID'] == player_in, 'PLAYER_NAME'] = player_out_name\n",
    "\n",
    "    return df2, out_team_id, in_team_id"
   ]
  },
  {
   "cell_type": "code",
   "execution_count": 540,
   "id": "4bfb6ba0-b5ee-4851-8913-abb9b1de453b",
   "metadata": {},
   "outputs": [],
   "source": [
    "def get_model_data(df):\n",
    "    \"\"\"\n",
    "    \"\"\"\n",
    "    # subset dataframes\n",
    "    df_sub = df[['PLUS_MINUS', 'home_game', 'TEAM_ID','TEAM_ABBREVIATION_team','GAME_ID', 'SEASON_ID', 'PLAYER_ID', 'playerName', 'PLAYER_COURT_ROLE', 'RAPM', 'BENCH_DEPTH_TEAM', 'BENCH_DEPTH']]\n",
    "    df_reg = df_sub[['PLUS_MINUS', 'home_game', 'TEAM_ID','GAME_ID', 'SEASON_ID', 'PLAYER_ID', 'PLAYER_COURT_ROLE', 'RAPM', 'BENCH_DEPTH_TEAM', 'BENCH_DEPTH']]\n",
    "\n",
    "    sub_bench = df_reg[['GAME_ID', 'BENCH_DEPTH_TEAM', 'BENCH_DEPTH']].drop_duplicates()\n",
    "    sub_bench = sub_bench.pivot('GAME_ID', 'BENCH_DEPTH_TEAM', 'BENCH_DEPTH').reset_index()\n",
    "\n",
    "    # create df model frame\n",
    "    df_reg_scores = df_reg[['GAME_ID', 'PLUS_MINUS', 'home_game']]\n",
    "    wide = df_reg.pivot(['GAME_ID', 'SEASON_ID'], 'PLAYER_COURT_ROLE', 'RAPM').reset_index()\n",
    "    df_model = pd.merge(wide, df_reg_scores)\n",
    "    df_model = pd.merge(df_model, sub_bench, how='left', on='GAME_ID')\n",
    "\n",
    "    df_interpretation = df_model[['GAME_ID', 'SEASON_ID', 'home_game', 'GUARD_HOME_1', 'GUARD_HOME_2', 'FORWARD_HOME_1', 'FORWARD_HOME_2', 'CENTER_HOME_1', 'SIXTH_HOME_1', 'BENCH_DEPTH_HOME', 'GUARD_AWAY_1', 'GUARD_AWAY_2', 'FORWARD_AWAY_1', 'FORWARD_AWAY_2', 'CENTER_AWAY_1', 'SIXTH_AWAY_1', 'BENCH_DEPTH_AWAY', 'PLUS_MINUS']]\n",
    "    df_model = df_model[['SEASON_ID','GAME_ID', 'home_game', 'GUARD_HOME_1', 'GUARD_HOME_2', 'FORWARD_HOME_1', 'FORWARD_HOME_2', 'CENTER_HOME_1', 'SIXTH_HOME_1', 'BENCH_DEPTH_HOME', 'GUARD_AWAY_1', 'GUARD_AWAY_2', 'FORWARD_AWAY_1', 'FORWARD_AWAY_2', 'CENTER_AWAY_1', 'SIXTH_AWAY_1', 'BENCH_DEPTH_AWAY', 'PLUS_MINUS']]\n",
    "\n",
    "    # drop duplicates and keep only observations from HT perspective\n",
    "    df_model = df_model.drop_duplicates()\n",
    "    df_model = df_model.dropna()\n",
    "    df_model = df_model[df_model['home_game']]\n",
    "    \n",
    "    df_interpretation = df_interpretation.drop_duplicates()\n",
    "    df_interpretation = df_interpretation.dropna()\n",
    "    df_interpretation = df_interpretation[df_interpretation['home_game']]\n",
    "\n",
    "    # merge back to schedule for interpretation\n",
    "    df_interpretation = pd.merge(df_schedule, df_interpretation, left_on=\"GAME_ID\", right_on=\"GAME_ID\", how='right')\n",
    "    df_interpretation = df_interpretation[df_interpretation['is_home_game']]\n",
    "    df_interpretation = df_interpretation.drop_duplicates()\n",
    "    \n",
    "    # get home and away team\n",
    "    df_interpretation['HOME_TEAM_ABB'] = df_interpretation['MATCHUP'].apply(lambda x: x[0:3])\n",
    "    df_interpretation['AWAY_TEAM_ABB'] = df_interpretation['MATCHUP'].apply(lambda x: x[-3:])\n",
    "    \n",
    "    return df_model.sort_values(['SEASON_ID', 'GAME_ID']), df_interpretation.sort_values(['SEASON_ID_x', 'GAME_ID'])"
   ]
  },
  {
   "cell_type": "code",
   "execution_count": 541,
   "id": "fca2ff96-8e92-4aa0-8127-ba1ddd654f40",
   "metadata": {},
   "outputs": [],
   "source": [
    "def get_train_season_games(df, last_train_season):\n",
    "    \"\"\" helper function to get n_games for subset\n",
    "    \n",
    "    :param last_train_season: enter in 22016 format\n",
    "    \"\"\"\n",
    "    train_seasons = np.arange(22016, last_train_season + 1)\n",
    "    n_games = df[df['SEASON_ID'].isin(train_seasons)].shape[0]\n",
    "    \n",
    "    return int(n_games / 12)"
   ]
  },
  {
   "cell_type": "code",
   "execution_count": 542,
   "id": "42176208-371e-46d7-bc16-92850e09d1aa",
   "metadata": {},
   "outputs": [],
   "source": [
    "def get_train_test_set(df_model, df_interpretation, n_games):\n",
    "    \"\"\"\n",
    "    \"\"\"\n",
    "    \n",
    "    df_model_train = df_model[0:n_games]\n",
    "    df_model_test = df_model[n_games:]\n",
    "    \n",
    "    # seperate into labels and features\n",
    "    y = df_model['PLUS_MINUS'].to_numpy()\n",
    "    features_names = ['GUARD_HOME_1', 'GUARD_HOME_2', 'FORWARD_HOME_1', 'FORWARD_HOME_2', 'CENTER_HOME_1', 'SIXTH_HOME_1', 'BENCH_DEPTH_HOME', 'GUARD_AWAY_1', 'GUARD_AWAY_2', 'FORWARD_AWAY_1', 'FORWARD_AWAY_2', 'CENTER_AWAY_1', 'SIXTH_AWAY_1', 'BENCH_DEPTH_AWAY']\n",
    "    X = df_model[features_names].to_numpy()\n",
    "\n",
    "    # get bool for na rows\n",
    "    na_rows = ~np.isnan(X).any(axis=1)\n",
    "\n",
    "    # remove na rows\n",
    "    X = X[na_rows]\n",
    "    y = y[na_rows]\n",
    "\n",
    "    # train, test split\n",
    "    #X_train, X_test, y_train, y_test = train_test_split(X, y, test_size=0.33, random_state=42)\n",
    "\n",
    "    # season split\n",
    "    X_train, X_test, y_train, y_test = X[0:n_games], X[n_games:], y[0:n_games], y[n_games:]\n",
    "    \n",
    "    # keep track of real games\n",
    "    df_int_train = df_interpretation.iloc[0:n_games,]\n",
    "    df_int_test = df_interpretation.iloc[n_games:,]\n",
    "    \n",
    "    return X_train, y_train, X_test, y_test, df_int_train, df_int_test, df_model_train, df_model_test"
   ]
  },
  {
   "cell_type": "markdown",
   "id": "40d3c742-b933-43fb-bc28-e68c049c5ad7",
   "metadata": {},
   "source": [
    "Function that counts out the wins per team!"
   ]
  },
  {
   "cell_type": "code",
   "execution_count": 543,
   "id": "091d7436-2008-442d-808e-ec195a05f8dc",
   "metadata": {},
   "outputs": [],
   "source": [
    "# standard training, test set\n",
    "df3 = preprocess_season_data(schedule=df_schedule, boxscores=df_boxscores, seasons = seasons)\n",
    "n_games = get_train_season_games(df3, last_train_season=22019)\n",
    "df_model, df_int = get_model_data(df=df3)\n",
    "X_train, y_train, X_test, y_test, df_int_train, df_int_test, df_model_train, df_model_test = get_train_test_set(df_model=df_model, df_interpretation=df_int, n_games=n_games)"
   ]
  },
  {
   "cell_type": "code",
   "execution_count": 544,
   "id": "100d1434-f9f5-4d63-a037-17d8676992c3",
   "metadata": {},
   "outputs": [
    {
     "data": {
      "text/html": [
       "<div>\n",
       "<style scoped>\n",
       "    .dataframe tbody tr th:only-of-type {\n",
       "        vertical-align: middle;\n",
       "    }\n",
       "\n",
       "    .dataframe tbody tr th {\n",
       "        vertical-align: top;\n",
       "    }\n",
       "\n",
       "    .dataframe thead th {\n",
       "        text-align: right;\n",
       "    }\n",
       "</style>\n",
       "<table border=\"1\" class=\"dataframe\">\n",
       "  <thead>\n",
       "    <tr style=\"text-align: right;\">\n",
       "      <th></th>\n",
       "      <th>Unnamed: 0</th>\n",
       "      <th>Unnamed: 0.1</th>\n",
       "      <th>SEASON_ID_x</th>\n",
       "      <th>TEAM_ID</th>\n",
       "      <th>TEAM_ABBREVIATION</th>\n",
       "      <th>TEAM_NAME</th>\n",
       "      <th>GAME_ID</th>\n",
       "      <th>GAME_DATE</th>\n",
       "      <th>MATCHUP</th>\n",
       "      <th>WL</th>\n",
       "      <th>...</th>\n",
       "      <th>GUARD_AWAY_1</th>\n",
       "      <th>GUARD_AWAY_2</th>\n",
       "      <th>FORWARD_AWAY_1</th>\n",
       "      <th>FORWARD_AWAY_2</th>\n",
       "      <th>CENTER_AWAY_1</th>\n",
       "      <th>SIXTH_AWAY_1</th>\n",
       "      <th>BENCH_DEPTH_AWAY</th>\n",
       "      <th>PLUS_MINUS_y</th>\n",
       "      <th>HOME_TEAM_ABB</th>\n",
       "      <th>AWAY_TEAM_ABB</th>\n",
       "    </tr>\n",
       "  </thead>\n",
       "  <tbody>\n",
       "    <tr>\n",
       "      <th>0</th>\n",
       "      <td>0</td>\n",
       "      <td>0</td>\n",
       "      <td>22016</td>\n",
       "      <td>1610612739</td>\n",
       "      <td>CLE</td>\n",
       "      <td>Cleveland Cavaliers</td>\n",
       "      <td>21600001</td>\n",
       "      <td>2016-10-25</td>\n",
       "      <td>CLE vs. NYK</td>\n",
       "      <td>W</td>\n",
       "      <td>...</td>\n",
       "      <td>-0.70</td>\n",
       "      <td>-0.08</td>\n",
       "      <td>-1.07</td>\n",
       "      <td>0.24</td>\n",
       "      <td>-0.96</td>\n",
       "      <td>-0.373750</td>\n",
       "      <td>9.0</td>\n",
       "      <td>29.0</td>\n",
       "      <td>CLE</td>\n",
       "      <td>NYK</td>\n",
       "    </tr>\n",
       "    <tr>\n",
       "      <th>2</th>\n",
       "      <td>4</td>\n",
       "      <td>4</td>\n",
       "      <td>22016</td>\n",
       "      <td>1610612757</td>\n",
       "      <td>POR</td>\n",
       "      <td>Portland Trail Blazers</td>\n",
       "      <td>21600002</td>\n",
       "      <td>2016-10-25</td>\n",
       "      <td>POR vs. UTA</td>\n",
       "      <td>W</td>\n",
       "      <td>...</td>\n",
       "      <td>0.13</td>\n",
       "      <td>1.82</td>\n",
       "      <td>0.47</td>\n",
       "      <td>-1.06</td>\n",
       "      <td>3.39</td>\n",
       "      <td>0.182500</td>\n",
       "      <td>9.0</td>\n",
       "      <td>9.0</td>\n",
       "      <td>POR</td>\n",
       "      <td>UTA</td>\n",
       "    </tr>\n",
       "    <tr>\n",
       "      <th>4</th>\n",
       "      <td>2</td>\n",
       "      <td>2</td>\n",
       "      <td>22016</td>\n",
       "      <td>1610612744</td>\n",
       "      <td>GSW</td>\n",
       "      <td>Golden State Warriors</td>\n",
       "      <td>21600003</td>\n",
       "      <td>2016-10-25</td>\n",
       "      <td>GSW vs. SAS</td>\n",
       "      <td>L</td>\n",
       "      <td>...</td>\n",
       "      <td>1.40</td>\n",
       "      <td>0.66</td>\n",
       "      <td>2.50</td>\n",
       "      <td>1.08</td>\n",
       "      <td>0.51</td>\n",
       "      <td>0.747500</td>\n",
       "      <td>9.0</td>\n",
       "      <td>-29.0</td>\n",
       "      <td>GSW</td>\n",
       "      <td>SAS</td>\n",
       "    </tr>\n",
       "    <tr>\n",
       "      <th>7</th>\n",
       "      <td>15</td>\n",
       "      <td>15</td>\n",
       "      <td>22016</td>\n",
       "      <td>1610612753</td>\n",
       "      <td>ORL</td>\n",
       "      <td>Orlando Magic</td>\n",
       "      <td>21600004</td>\n",
       "      <td>2016-10-26</td>\n",
       "      <td>ORL vs. MIA</td>\n",
       "      <td>L</td>\n",
       "      <td>...</td>\n",
       "      <td>1.15</td>\n",
       "      <td>0.27</td>\n",
       "      <td>0.08</td>\n",
       "      <td>0.01</td>\n",
       "      <td>0.86</td>\n",
       "      <td>-0.155000</td>\n",
       "      <td>9.0</td>\n",
       "      <td>-12.0</td>\n",
       "      <td>ORL</td>\n",
       "      <td>MIA</td>\n",
       "    </tr>\n",
       "    <tr>\n",
       "      <th>8</th>\n",
       "      <td>18</td>\n",
       "      <td>18</td>\n",
       "      <td>22016</td>\n",
       "      <td>1610612754</td>\n",
       "      <td>IND</td>\n",
       "      <td>Indiana Pacers</td>\n",
       "      <td>21600005</td>\n",
       "      <td>2016-10-26</td>\n",
       "      <td>IND vs. DAL</td>\n",
       "      <td>W</td>\n",
       "      <td>...</td>\n",
       "      <td>-0.52</td>\n",
       "      <td>-0.41</td>\n",
       "      <td>-0.16</td>\n",
       "      <td>0.22</td>\n",
       "      <td>-0.19</td>\n",
       "      <td>-0.388750</td>\n",
       "      <td>9.0</td>\n",
       "      <td>9.0</td>\n",
       "      <td>IND</td>\n",
       "      <td>DAL</td>\n",
       "    </tr>\n",
       "    <tr>\n",
       "      <th>...</th>\n",
       "      <td>...</td>\n",
       "      <td>...</td>\n",
       "      <td>...</td>\n",
       "      <td>...</td>\n",
       "      <td>...</td>\n",
       "      <td>...</td>\n",
       "      <td>...</td>\n",
       "      <td>...</td>\n",
       "      <td>...</td>\n",
       "      <td>...</td>\n",
       "      <td>...</td>\n",
       "      <td>...</td>\n",
       "      <td>...</td>\n",
       "      <td>...</td>\n",
       "      <td>...</td>\n",
       "      <td>...</td>\n",
       "      <td>...</td>\n",
       "      <td>...</td>\n",
       "      <td>...</td>\n",
       "      <td>...</td>\n",
       "      <td>...</td>\n",
       "    </tr>\n",
       "    <tr>\n",
       "      <th>11646</th>\n",
       "      <td>2142</td>\n",
       "      <td>2142</td>\n",
       "      <td>22020</td>\n",
       "      <td>1610612757</td>\n",
       "      <td>POR</td>\n",
       "      <td>Portland Trail Blazers</td>\n",
       "      <td>22001076</td>\n",
       "      <td>2021-05-16</td>\n",
       "      <td>POR vs. DEN</td>\n",
       "      <td>W</td>\n",
       "      <td>...</td>\n",
       "      <td>0.22</td>\n",
       "      <td>-0.06</td>\n",
       "      <td>2.59</td>\n",
       "      <td>1.12</td>\n",
       "      <td>1.77</td>\n",
       "      <td>-0.524444</td>\n",
       "      <td>10.0</td>\n",
       "      <td>16.0</td>\n",
       "      <td>POR</td>\n",
       "      <td>DEN</td>\n",
       "    </tr>\n",
       "    <tr>\n",
       "      <th>11648</th>\n",
       "      <td>2148</td>\n",
       "      <td>2148</td>\n",
       "      <td>22020</td>\n",
       "      <td>1610612758</td>\n",
       "      <td>SAC</td>\n",
       "      <td>Sacramento Kings</td>\n",
       "      <td>22001077</td>\n",
       "      <td>2021-05-16</td>\n",
       "      <td>SAC vs. UTA</td>\n",
       "      <td>L</td>\n",
       "      <td>...</td>\n",
       "      <td>2.51</td>\n",
       "      <td>3.62</td>\n",
       "      <td>1.33</td>\n",
       "      <td>3.03</td>\n",
       "      <td>4.51</td>\n",
       "      <td>-0.307000</td>\n",
       "      <td>11.0</td>\n",
       "      <td>-22.0</td>\n",
       "      <td>SAC</td>\n",
       "      <td>UTA</td>\n",
       "    </tr>\n",
       "    <tr>\n",
       "      <th>11651</th>\n",
       "      <td>2135</td>\n",
       "      <td>2135</td>\n",
       "      <td>22020</td>\n",
       "      <td>1610612759</td>\n",
       "      <td>SAS</td>\n",
       "      <td>San Antonio Spurs</td>\n",
       "      <td>22001078</td>\n",
       "      <td>2021-05-16</td>\n",
       "      <td>SAS vs. PHX</td>\n",
       "      <td>L</td>\n",
       "      <td>...</td>\n",
       "      <td>-0.04</td>\n",
       "      <td>1.59</td>\n",
       "      <td>1.95</td>\n",
       "      <td>-0.27</td>\n",
       "      <td>2.30</td>\n",
       "      <td>0.253750</td>\n",
       "      <td>9.0</td>\n",
       "      <td>-2.0</td>\n",
       "      <td>SAS</td>\n",
       "      <td>PHX</td>\n",
       "    </tr>\n",
       "    <tr>\n",
       "      <th>11653</th>\n",
       "      <td>2155</td>\n",
       "      <td>2155</td>\n",
       "      <td>22020</td>\n",
       "      <td>1610612761</td>\n",
       "      <td>TOR</td>\n",
       "      <td>Toronto Raptors</td>\n",
       "      <td>22001079</td>\n",
       "      <td>2021-05-16</td>\n",
       "      <td>TOR vs. IND</td>\n",
       "      <td>L</td>\n",
       "      <td>...</td>\n",
       "      <td>0.23</td>\n",
       "      <td>0.14</td>\n",
       "      <td>-0.61</td>\n",
       "      <td>0.89</td>\n",
       "      <td>-0.52</td>\n",
       "      <td>0.430000</td>\n",
       "      <td>8.0</td>\n",
       "      <td>-12.0</td>\n",
       "      <td>TOR</td>\n",
       "      <td>IND</td>\n",
       "    </tr>\n",
       "    <tr>\n",
       "      <th>11654</th>\n",
       "      <td>2152</td>\n",
       "      <td>2152</td>\n",
       "      <td>22020</td>\n",
       "      <td>1610612764</td>\n",
       "      <td>WAS</td>\n",
       "      <td>Washington Wizards</td>\n",
       "      <td>22001080</td>\n",
       "      <td>2021-05-16</td>\n",
       "      <td>WAS vs. CHA</td>\n",
       "      <td>W</td>\n",
       "      <td>...</td>\n",
       "      <td>-0.40</td>\n",
       "      <td>-1.53</td>\n",
       "      <td>0.89</td>\n",
       "      <td>-2.22</td>\n",
       "      <td>0.86</td>\n",
       "      <td>-0.277000</td>\n",
       "      <td>11.0</td>\n",
       "      <td>5.0</td>\n",
       "      <td>WAS</td>\n",
       "      <td>CHA</td>\n",
       "    </tr>\n",
       "  </tbody>\n",
       "</table>\n",
       "<p>5828 rows × 51 columns</p>\n",
       "</div>"
      ],
      "text/plain": [
       "       Unnamed: 0  Unnamed: 0.1  SEASON_ID_x     TEAM_ID TEAM_ABBREVIATION  \\\n",
       "0               0             0        22016  1610612739               CLE   \n",
       "2               4             4        22016  1610612757               POR   \n",
       "4               2             2        22016  1610612744               GSW   \n",
       "7              15            15        22016  1610612753               ORL   \n",
       "8              18            18        22016  1610612754               IND   \n",
       "...           ...           ...          ...         ...               ...   \n",
       "11646        2142          2142        22020  1610612757               POR   \n",
       "11648        2148          2148        22020  1610612758               SAC   \n",
       "11651        2135          2135        22020  1610612759               SAS   \n",
       "11653        2155          2155        22020  1610612761               TOR   \n",
       "11654        2152          2152        22020  1610612764               WAS   \n",
       "\n",
       "                    TEAM_NAME   GAME_ID   GAME_DATE      MATCHUP WL  ...  \\\n",
       "0         Cleveland Cavaliers  21600001  2016-10-25  CLE vs. NYK  W  ...   \n",
       "2      Portland Trail Blazers  21600002  2016-10-25  POR vs. UTA  W  ...   \n",
       "4       Golden State Warriors  21600003  2016-10-25  GSW vs. SAS  L  ...   \n",
       "7               Orlando Magic  21600004  2016-10-26  ORL vs. MIA  L  ...   \n",
       "8              Indiana Pacers  21600005  2016-10-26  IND vs. DAL  W  ...   \n",
       "...                       ...       ...         ...          ... ..  ...   \n",
       "11646  Portland Trail Blazers  22001076  2021-05-16  POR vs. DEN  W  ...   \n",
       "11648        Sacramento Kings  22001077  2021-05-16  SAC vs. UTA  L  ...   \n",
       "11651       San Antonio Spurs  22001078  2021-05-16  SAS vs. PHX  L  ...   \n",
       "11653         Toronto Raptors  22001079  2021-05-16  TOR vs. IND  L  ...   \n",
       "11654      Washington Wizards  22001080  2021-05-16  WAS vs. CHA  W  ...   \n",
       "\n",
       "       GUARD_AWAY_1  GUARD_AWAY_2  FORWARD_AWAY_1  FORWARD_AWAY_2  \\\n",
       "0             -0.70         -0.08           -1.07            0.24   \n",
       "2              0.13          1.82            0.47           -1.06   \n",
       "4              1.40          0.66            2.50            1.08   \n",
       "7              1.15          0.27            0.08            0.01   \n",
       "8             -0.52         -0.41           -0.16            0.22   \n",
       "...             ...           ...             ...             ...   \n",
       "11646          0.22         -0.06            2.59            1.12   \n",
       "11648          2.51          3.62            1.33            3.03   \n",
       "11651         -0.04          1.59            1.95           -0.27   \n",
       "11653          0.23          0.14           -0.61            0.89   \n",
       "11654         -0.40         -1.53            0.89           -2.22   \n",
       "\n",
       "       CENTER_AWAY_1  SIXTH_AWAY_1  BENCH_DEPTH_AWAY  PLUS_MINUS_y  \\\n",
       "0              -0.96     -0.373750               9.0          29.0   \n",
       "2               3.39      0.182500               9.0           9.0   \n",
       "4               0.51      0.747500               9.0         -29.0   \n",
       "7               0.86     -0.155000               9.0         -12.0   \n",
       "8              -0.19     -0.388750               9.0           9.0   \n",
       "...              ...           ...               ...           ...   \n",
       "11646           1.77     -0.524444              10.0          16.0   \n",
       "11648           4.51     -0.307000              11.0         -22.0   \n",
       "11651           2.30      0.253750               9.0          -2.0   \n",
       "11653          -0.52      0.430000               8.0         -12.0   \n",
       "11654           0.86     -0.277000              11.0           5.0   \n",
       "\n",
       "       HOME_TEAM_ABB  AWAY_TEAM_ABB  \n",
       "0                CLE            NYK  \n",
       "2                POR            UTA  \n",
       "4                GSW            SAS  \n",
       "7                ORL            MIA  \n",
       "8                IND            DAL  \n",
       "...              ...            ...  \n",
       "11646            POR            DEN  \n",
       "11648            SAC            UTA  \n",
       "11651            SAS            PHX  \n",
       "11653            TOR            IND  \n",
       "11654            WAS            CHA  \n",
       "\n",
       "[5828 rows x 51 columns]"
      ]
     },
     "execution_count": 544,
     "metadata": {},
     "output_type": "execute_result"
    }
   ],
   "source": [
    "df_int"
   ]
  },
  {
   "cell_type": "code",
   "execution_count": 545,
   "id": "14d81cea-9326-4971-b814-afc041cafe53",
   "metadata": {},
   "outputs": [
    {
     "data": {
      "text/plain": [
       "0        NYK\n",
       "2        UTA\n",
       "4        SAS\n",
       "7        MIA\n",
       "8        DAL\n",
       "        ... \n",
       "11646    DEN\n",
       "11648    UTA\n",
       "11651    PHX\n",
       "11653    IND\n",
       "11654    CHA\n",
       "Name: MATCHUP, Length: 5828, dtype: object"
      ]
     },
     "execution_count": 545,
     "metadata": {},
     "output_type": "execute_result"
    }
   ],
   "source": [
    "df_int['MATCHUP'].apply(lambda x: x[-3:])"
   ]
  },
  {
   "cell_type": "code",
   "execution_count": 546,
   "id": "a553c109-2ede-4e65-94c5-4f21f334859a",
   "metadata": {},
   "outputs": [
    {
     "data": {
      "text/plain": [
       "array([ 29.,   9., -29., -12.,   9.,   5.,  18., -11.,   4.,  -5.,  -6.,\n",
       "       -19.,   6.,  15.,   6.,  -8.,  -8.,  -3.,   9.,  26.,   3.,  -6.,\n",
       "        -8.,   7.,  -8., -32.,  -6.,   7.,   6.,  17.])"
      ]
     },
     "execution_count": 546,
     "metadata": {},
     "output_type": "execute_result"
    }
   ],
   "source": [
    "y_train[0:30]"
   ]
  },
  {
   "cell_type": "code",
   "execution_count": 547,
   "id": "493efe42-b43a-4d72-9b1d-f6a2fa687bd9",
   "metadata": {},
   "outputs": [
    {
     "data": {
      "text/html": [
       "<div>\n",
       "<style scoped>\n",
       "    .dataframe tbody tr th:only-of-type {\n",
       "        vertical-align: middle;\n",
       "    }\n",
       "\n",
       "    .dataframe tbody tr th {\n",
       "        vertical-align: top;\n",
       "    }\n",
       "\n",
       "    .dataframe thead th {\n",
       "        text-align: right;\n",
       "    }\n",
       "</style>\n",
       "<table border=\"1\" class=\"dataframe\">\n",
       "  <thead>\n",
       "    <tr style=\"text-align: right;\">\n",
       "      <th></th>\n",
       "      <th>SEASON_ID</th>\n",
       "      <th>GAME_ID</th>\n",
       "      <th>home_game</th>\n",
       "      <th>GUARD_HOME_1</th>\n",
       "      <th>GUARD_HOME_2</th>\n",
       "      <th>FORWARD_HOME_1</th>\n",
       "      <th>FORWARD_HOME_2</th>\n",
       "      <th>CENTER_HOME_1</th>\n",
       "      <th>SIXTH_HOME_1</th>\n",
       "      <th>BENCH_DEPTH_HOME</th>\n",
       "      <th>GUARD_AWAY_1</th>\n",
       "      <th>GUARD_AWAY_2</th>\n",
       "      <th>FORWARD_AWAY_1</th>\n",
       "      <th>FORWARD_AWAY_2</th>\n",
       "      <th>CENTER_AWAY_1</th>\n",
       "      <th>SIXTH_AWAY_1</th>\n",
       "      <th>BENCH_DEPTH_AWAY</th>\n",
       "      <th>PLUS_MINUS</th>\n",
       "    </tr>\n",
       "  </thead>\n",
       "  <tbody>\n",
       "    <tr>\n",
       "      <th>1</th>\n",
       "      <td>22016.0</td>\n",
       "      <td>21600001</td>\n",
       "      <td>True</td>\n",
       "      <td>-0.30</td>\n",
       "      <td>1.91</td>\n",
       "      <td>3.90</td>\n",
       "      <td>2.66</td>\n",
       "      <td>0.14</td>\n",
       "      <td>-0.338750</td>\n",
       "      <td>9.0</td>\n",
       "      <td>-0.70</td>\n",
       "      <td>-0.08</td>\n",
       "      <td>-1.07</td>\n",
       "      <td>0.24</td>\n",
       "      <td>-0.96</td>\n",
       "      <td>-0.373750</td>\n",
       "      <td>9.0</td>\n",
       "      <td>29.0</td>\n",
       "    </tr>\n",
       "    <tr>\n",
       "      <th>15</th>\n",
       "      <td>22016.0</td>\n",
       "      <td>21600002</td>\n",
       "      <td>True</td>\n",
       "      <td>0.95</td>\n",
       "      <td>1.13</td>\n",
       "      <td>1.53</td>\n",
       "      <td>0.74</td>\n",
       "      <td>0.49</td>\n",
       "      <td>-0.641250</td>\n",
       "      <td>9.0</td>\n",
       "      <td>0.13</td>\n",
       "      <td>1.82</td>\n",
       "      <td>0.47</td>\n",
       "      <td>-1.06</td>\n",
       "      <td>3.39</td>\n",
       "      <td>0.182500</td>\n",
       "      <td>9.0</td>\n",
       "      <td>9.0</td>\n",
       "    </tr>\n",
       "    <tr>\n",
       "      <th>26</th>\n",
       "      <td>22016.0</td>\n",
       "      <td>21600003</td>\n",
       "      <td>True</td>\n",
       "      <td>2.99</td>\n",
       "      <td>5.33</td>\n",
       "      <td>2.72</td>\n",
       "      <td>3.56</td>\n",
       "      <td>1.92</td>\n",
       "      <td>0.052500</td>\n",
       "      <td>9.0</td>\n",
       "      <td>1.40</td>\n",
       "      <td>0.66</td>\n",
       "      <td>2.50</td>\n",
       "      <td>1.08</td>\n",
       "      <td>0.51</td>\n",
       "      <td>0.747500</td>\n",
       "      <td>9.0</td>\n",
       "      <td>-29.0</td>\n",
       "    </tr>\n",
       "    <tr>\n",
       "      <th>36</th>\n",
       "      <td>22016.0</td>\n",
       "      <td>21600004</td>\n",
       "      <td>True</td>\n",
       "      <td>-0.52</td>\n",
       "      <td>0.50</td>\n",
       "      <td>0.67</td>\n",
       "      <td>-0.28</td>\n",
       "      <td>-0.46</td>\n",
       "      <td>-1.536250</td>\n",
       "      <td>9.0</td>\n",
       "      <td>1.15</td>\n",
       "      <td>0.27</td>\n",
       "      <td>0.08</td>\n",
       "      <td>0.01</td>\n",
       "      <td>0.86</td>\n",
       "      <td>-0.155000</td>\n",
       "      <td>9.0</td>\n",
       "      <td>-12.0</td>\n",
       "    </tr>\n",
       "    <tr>\n",
       "      <th>48</th>\n",
       "      <td>22016.0</td>\n",
       "      <td>21600005</td>\n",
       "      <td>True</td>\n",
       "      <td>-0.17</td>\n",
       "      <td>0.31</td>\n",
       "      <td>1.72</td>\n",
       "      <td>0.65</td>\n",
       "      <td>1.13</td>\n",
       "      <td>-0.766250</td>\n",
       "      <td>9.0</td>\n",
       "      <td>-0.52</td>\n",
       "      <td>-0.41</td>\n",
       "      <td>-0.16</td>\n",
       "      <td>0.22</td>\n",
       "      <td>-0.19</td>\n",
       "      <td>-0.388750</td>\n",
       "      <td>9.0</td>\n",
       "      <td>9.0</td>\n",
       "    </tr>\n",
       "    <tr>\n",
       "      <th>...</th>\n",
       "      <td>...</td>\n",
       "      <td>...</td>\n",
       "      <td>...</td>\n",
       "      <td>...</td>\n",
       "      <td>...</td>\n",
       "      <td>...</td>\n",
       "      <td>...</td>\n",
       "      <td>...</td>\n",
       "      <td>...</td>\n",
       "      <td>...</td>\n",
       "      <td>...</td>\n",
       "      <td>...</td>\n",
       "      <td>...</td>\n",
       "      <td>...</td>\n",
       "      <td>...</td>\n",
       "      <td>...</td>\n",
       "      <td>...</td>\n",
       "      <td>...</td>\n",
       "    </tr>\n",
       "    <tr>\n",
       "      <th>69902</th>\n",
       "      <td>22020.0</td>\n",
       "      <td>22001076</td>\n",
       "      <td>True</td>\n",
       "      <td>1.58</td>\n",
       "      <td>1.49</td>\n",
       "      <td>0.39</td>\n",
       "      <td>1.81</td>\n",
       "      <td>1.18</td>\n",
       "      <td>-0.270000</td>\n",
       "      <td>11.0</td>\n",
       "      <td>0.22</td>\n",
       "      <td>-0.06</td>\n",
       "      <td>2.59</td>\n",
       "      <td>1.12</td>\n",
       "      <td>1.77</td>\n",
       "      <td>-0.524444</td>\n",
       "      <td>10.0</td>\n",
       "      <td>16.0</td>\n",
       "    </tr>\n",
       "    <tr>\n",
       "      <th>69912</th>\n",
       "      <td>22020.0</td>\n",
       "      <td>22001077</td>\n",
       "      <td>True</td>\n",
       "      <td>0.45</td>\n",
       "      <td>-0.02</td>\n",
       "      <td>0.12</td>\n",
       "      <td>-0.61</td>\n",
       "      <td>-0.76</td>\n",
       "      <td>-0.430000</td>\n",
       "      <td>8.0</td>\n",
       "      <td>2.51</td>\n",
       "      <td>3.62</td>\n",
       "      <td>1.33</td>\n",
       "      <td>3.03</td>\n",
       "      <td>4.51</td>\n",
       "      <td>-0.307000</td>\n",
       "      <td>11.0</td>\n",
       "      <td>-22.0</td>\n",
       "    </tr>\n",
       "    <tr>\n",
       "      <th>69928</th>\n",
       "      <td>22020.0</td>\n",
       "      <td>22001078</td>\n",
       "      <td>True</td>\n",
       "      <td>-2.33</td>\n",
       "      <td>1.94</td>\n",
       "      <td>-0.85</td>\n",
       "      <td>-1.72</td>\n",
       "      <td>1.27</td>\n",
       "      <td>-0.370000</td>\n",
       "      <td>9.0</td>\n",
       "      <td>-0.04</td>\n",
       "      <td>1.59</td>\n",
       "      <td>1.95</td>\n",
       "      <td>-0.27</td>\n",
       "      <td>2.30</td>\n",
       "      <td>0.253750</td>\n",
       "      <td>9.0</td>\n",
       "      <td>-2.0</td>\n",
       "    </tr>\n",
       "    <tr>\n",
       "      <th>69940</th>\n",
       "      <td>22020.0</td>\n",
       "      <td>22001079</td>\n",
       "      <td>True</td>\n",
       "      <td>0.90</td>\n",
       "      <td>-1.54</td>\n",
       "      <td>-1.94</td>\n",
       "      <td>-0.98</td>\n",
       "      <td>-0.11</td>\n",
       "      <td>-0.502857</td>\n",
       "      <td>8.0</td>\n",
       "      <td>0.23</td>\n",
       "      <td>0.14</td>\n",
       "      <td>-0.61</td>\n",
       "      <td>0.89</td>\n",
       "      <td>-0.52</td>\n",
       "      <td>0.430000</td>\n",
       "      <td>8.0</td>\n",
       "      <td>-12.0</td>\n",
       "    </tr>\n",
       "    <tr>\n",
       "      <th>69949</th>\n",
       "      <td>22020.0</td>\n",
       "      <td>22001080</td>\n",
       "      <td>True</td>\n",
       "      <td>0.63</td>\n",
       "      <td>-0.11</td>\n",
       "      <td>1.15</td>\n",
       "      <td>-0.44</td>\n",
       "      <td>-0.98</td>\n",
       "      <td>-0.034444</td>\n",
       "      <td>10.0</td>\n",
       "      <td>-0.40</td>\n",
       "      <td>-1.53</td>\n",
       "      <td>0.89</td>\n",
       "      <td>-2.22</td>\n",
       "      <td>0.86</td>\n",
       "      <td>-0.277000</td>\n",
       "      <td>11.0</td>\n",
       "      <td>5.0</td>\n",
       "    </tr>\n",
       "  </tbody>\n",
       "</table>\n",
       "<p>5828 rows × 18 columns</p>\n",
       "</div>"
      ],
      "text/plain": [
       "       SEASON_ID   GAME_ID  home_game  GUARD_HOME_1  GUARD_HOME_2  \\\n",
       "1        22016.0  21600001       True         -0.30          1.91   \n",
       "15       22016.0  21600002       True          0.95          1.13   \n",
       "26       22016.0  21600003       True          2.99          5.33   \n",
       "36       22016.0  21600004       True         -0.52          0.50   \n",
       "48       22016.0  21600005       True         -0.17          0.31   \n",
       "...          ...       ...        ...           ...           ...   \n",
       "69902    22020.0  22001076       True          1.58          1.49   \n",
       "69912    22020.0  22001077       True          0.45         -0.02   \n",
       "69928    22020.0  22001078       True         -2.33          1.94   \n",
       "69940    22020.0  22001079       True          0.90         -1.54   \n",
       "69949    22020.0  22001080       True          0.63         -0.11   \n",
       "\n",
       "       FORWARD_HOME_1  FORWARD_HOME_2  CENTER_HOME_1  SIXTH_HOME_1  \\\n",
       "1                3.90            2.66           0.14     -0.338750   \n",
       "15               1.53            0.74           0.49     -0.641250   \n",
       "26               2.72            3.56           1.92      0.052500   \n",
       "36               0.67           -0.28          -0.46     -1.536250   \n",
       "48               1.72            0.65           1.13     -0.766250   \n",
       "...               ...             ...            ...           ...   \n",
       "69902            0.39            1.81           1.18     -0.270000   \n",
       "69912            0.12           -0.61          -0.76     -0.430000   \n",
       "69928           -0.85           -1.72           1.27     -0.370000   \n",
       "69940           -1.94           -0.98          -0.11     -0.502857   \n",
       "69949            1.15           -0.44          -0.98     -0.034444   \n",
       "\n",
       "       BENCH_DEPTH_HOME  GUARD_AWAY_1  GUARD_AWAY_2  FORWARD_AWAY_1  \\\n",
       "1                   9.0         -0.70         -0.08           -1.07   \n",
       "15                  9.0          0.13          1.82            0.47   \n",
       "26                  9.0          1.40          0.66            2.50   \n",
       "36                  9.0          1.15          0.27            0.08   \n",
       "48                  9.0         -0.52         -0.41           -0.16   \n",
       "...                 ...           ...           ...             ...   \n",
       "69902              11.0          0.22         -0.06            2.59   \n",
       "69912               8.0          2.51          3.62            1.33   \n",
       "69928               9.0         -0.04          1.59            1.95   \n",
       "69940               8.0          0.23          0.14           -0.61   \n",
       "69949              10.0         -0.40         -1.53            0.89   \n",
       "\n",
       "       FORWARD_AWAY_2  CENTER_AWAY_1  SIXTH_AWAY_1  BENCH_DEPTH_AWAY  \\\n",
       "1                0.24          -0.96     -0.373750               9.0   \n",
       "15              -1.06           3.39      0.182500               9.0   \n",
       "26               1.08           0.51      0.747500               9.0   \n",
       "36               0.01           0.86     -0.155000               9.0   \n",
       "48               0.22          -0.19     -0.388750               9.0   \n",
       "...               ...            ...           ...               ...   \n",
       "69902            1.12           1.77     -0.524444              10.0   \n",
       "69912            3.03           4.51     -0.307000              11.0   \n",
       "69928           -0.27           2.30      0.253750               9.0   \n",
       "69940            0.89          -0.52      0.430000               8.0   \n",
       "69949           -2.22           0.86     -0.277000              11.0   \n",
       "\n",
       "       PLUS_MINUS  \n",
       "1            29.0  \n",
       "15            9.0  \n",
       "26          -29.0  \n",
       "36          -12.0  \n",
       "48            9.0  \n",
       "...           ...  \n",
       "69902        16.0  \n",
       "69912       -22.0  \n",
       "69928        -2.0  \n",
       "69940       -12.0  \n",
       "69949         5.0  \n",
       "\n",
       "[5828 rows x 18 columns]"
      ]
     },
     "execution_count": 547,
     "metadata": {},
     "output_type": "execute_result"
    }
   ],
   "source": [
    "df_model"
   ]
  },
  {
   "cell_type": "code",
   "execution_count": 548,
   "id": "dce0621e-9576-4697-ae76-d499649164ec",
   "metadata": {},
   "outputs": [
    {
     "data": {
      "text/plain": [
       "(0.22896360530274273, 0.22896361608103755, 0.2062717177555622)"
      ]
     },
     "execution_count": 548,
     "metadata": {},
     "output_type": "execute_result"
    }
   ],
   "source": [
    "from sklearn.ensemble import RandomForestRegressor\n",
    "from sklearn.linear_model import LinearRegression\n",
    "from sklearn.linear_model import Ridge\n",
    "\n",
    "# estimate ridge\n",
    "ridge = Ridge(alpha=1e-3)\n",
    "ridge.fit(X_train, y_train)\n",
    "\n",
    "# estimate OLS\n",
    "ols = LinearRegression()\n",
    "ols.fit(X_train, y_train)\n",
    "\n",
    "# estiamte RF\n",
    "rf = RandomForestRegressor(max_depth=6, random_state=0, n_estimators=200)\n",
    "rf.fit(X_train, y_train)\n",
    "\n",
    "# test set scores\n",
    "pred_rf = regr.predict(X_test)\n",
    "pred_ols = ols.predict(X_test)\n",
    "pred_ridge = ridge.predict(X_test)\n",
    "\n",
    "trade_ols = ols.predict(X_trade)\n",
    "\n",
    "ols.score(X_test, y_test), ridge.score(X_test, y_test), rf.score(X_test, y_test)"
   ]
  },
  {
   "cell_type": "code",
   "execution_count": 549,
   "id": "c1ac3c78-f79e-4a44-8ac0-bea97f9ba251",
   "metadata": {},
   "outputs": [
    {
     "name": "stderr",
     "output_type": "stream",
     "text": [
      "<ipython-input-549-527513b61a2d>:2: SettingWithCopyWarning: \n",
      "A value is trying to be set on a copy of a slice from a DataFrame.\n",
      "Try using .loc[row_indexer,col_indexer] = value instead\n",
      "\n",
      "See the caveats in the documentation: https://pandas.pydata.org/pandas-docs/stable/user_guide/indexing.html#returning-a-view-versus-a-copy\n",
      "  df_int_test['Prediction_PM'] = prediction\n"
     ]
    }
   ],
   "source": [
    "prediction = rf.predict(X_test)\n",
    "df_int_test['Prediction_PM'] = prediction"
   ]
  },
  {
   "cell_type": "code",
   "execution_count": 1055,
   "id": "71b0a147-1369-4e57-9277-c93f373cced7",
   "metadata": {},
   "outputs": [],
   "source": [
    "df_trade, out_team_id, in_team_id = trade_player_function(player_in=2544 , player_out=202704, df=df3, scores=scores)\n",
    "\n",
    "n_games = get_train_season_games(df3, last_train_season=22019)\n",
    "df_model_trade, df_int_trade = get_model_data(df=df_trade)\n",
    "_, _, X_trade, _, _, _, _, df_model_test_trade = get_train_test_set(df_model=df_model_trade, df_interpretation=df_int_trade, n_games=n_games)"
   ]
  },
  {
   "cell_type": "code",
   "execution_count": 551,
   "id": "02cc0cbb-473a-4ae2-b036-0f437f9bc35b",
   "metadata": {},
   "outputs": [
    {
     "name": "stderr",
     "output_type": "stream",
     "text": [
      "<ipython-input-551-d9c17acd0675>:2: SettingWithCopyWarning: \n",
      "A value is trying to be set on a copy of a slice from a DataFrame.\n",
      "Try using .loc[row_indexer,col_indexer] = value instead\n",
      "\n",
      "See the caveats in the documentation: https://pandas.pydata.org/pandas-docs/stable/user_guide/indexing.html#returning-a-view-versus-a-copy\n",
      "  df_int_test['Prediction_Trade_PM'] = prediction\n"
     ]
    }
   ],
   "source": [
    "prediction = rf.predict(X_trade)\n",
    "df_int_test['Prediction_Trade_PM'] = prediction"
   ]
  },
  {
   "cell_type": "code",
   "execution_count": 553,
   "id": "e7c9c622-9949-4134-9498-05e7566131bb",
   "metadata": {},
   "outputs": [
    {
     "name": "stderr",
     "output_type": "stream",
     "text": [
      "<ipython-input-553-17ac881e2256>:1: SettingWithCopyWarning: \n",
      "A value is trying to be set on a copy of a slice from a DataFrame.\n",
      "Try using .loc[row_indexer,col_indexer] = value instead\n",
      "\n",
      "See the caveats in the documentation: https://pandas.pydata.org/pandas-docs/stable/user_guide/indexing.html#returning-a-view-versus-a-copy\n",
      "  df_int_test['WIN_HOME'] = np.where(df_int_test['PLUS_MINUS_y'] > 0, 1, 0)\n",
      "<ipython-input-553-17ac881e2256>:2: SettingWithCopyWarning: \n",
      "A value is trying to be set on a copy of a slice from a DataFrame.\n",
      "Try using .loc[row_indexer,col_indexer] = value instead\n",
      "\n",
      "See the caveats in the documentation: https://pandas.pydata.org/pandas-docs/stable/user_guide/indexing.html#returning-a-view-versus-a-copy\n",
      "  df_int_test['WIN_AWAY'] = np.where(df_int_test['PLUS_MINUS_y'] > 0, 0, 1)\n",
      "<ipython-input-553-17ac881e2256>:3: SettingWithCopyWarning: \n",
      "A value is trying to be set on a copy of a slice from a DataFrame.\n",
      "Try using .loc[row_indexer,col_indexer] = value instead\n",
      "\n",
      "See the caveats in the documentation: https://pandas.pydata.org/pandas-docs/stable/user_guide/indexing.html#returning-a-view-versus-a-copy\n",
      "  df_int_test['WIN_HOME_pred'] = np.where(df_int_test['Prediction_PM'] > 0, 1, 0)\n",
      "<ipython-input-553-17ac881e2256>:4: SettingWithCopyWarning: \n",
      "A value is trying to be set on a copy of a slice from a DataFrame.\n",
      "Try using .loc[row_indexer,col_indexer] = value instead\n",
      "\n",
      "See the caveats in the documentation: https://pandas.pydata.org/pandas-docs/stable/user_guide/indexing.html#returning-a-view-versus-a-copy\n",
      "  df_int_test['WIN_AWAY_pred'] = np.where(df_int_test['Prediction_PM'] > 0, 0, 1)\n",
      "<ipython-input-553-17ac881e2256>:5: SettingWithCopyWarning: \n",
      "A value is trying to be set on a copy of a slice from a DataFrame.\n",
      "Try using .loc[row_indexer,col_indexer] = value instead\n",
      "\n",
      "See the caveats in the documentation: https://pandas.pydata.org/pandas-docs/stable/user_guide/indexing.html#returning-a-view-versus-a-copy\n",
      "  df_int_test['WIN_HOME_trade'] = np.where(df_int_test['Prediction_Trade_PM'] > 0, 1, 0)\n",
      "<ipython-input-553-17ac881e2256>:6: SettingWithCopyWarning: \n",
      "A value is trying to be set on a copy of a slice from a DataFrame.\n",
      "Try using .loc[row_indexer,col_indexer] = value instead\n",
      "\n",
      "See the caveats in the documentation: https://pandas.pydata.org/pandas-docs/stable/user_guide/indexing.html#returning-a-view-versus-a-copy\n",
      "  df_int_test['WIN_AWAY_trade'] = np.where(df_int_test['Prediction_Trade_PM'] > 0, 0, 1)\n"
     ]
    }
   ],
   "source": [
    "df_int_test['WIN_HOME'] = np.where(df_int_test['PLUS_MINUS_y'] > 0, 1, 0)\n",
    "df_int_test['WIN_AWAY'] = np.where(df_int_test['PLUS_MINUS_y'] > 0, 0, 1)\n",
    "df_int_test['WIN_HOME_pred'] = np.where(df_int_test['Prediction_PM'] > 0, 1, 0)\n",
    "df_int_test['WIN_AWAY_pred'] = np.where(df_int_test['Prediction_PM'] > 0, 0, 1)\n",
    "df_int_test['WIN_HOME_trade'] = np.where(df_int_test['Prediction_Trade_PM'] > 0, 1, 0)\n",
    "df_int_test['WIN_AWAY_trade'] = np.where(df_int_test['Prediction_Trade_PM'] > 0, 0, 1)"
   ]
  },
  {
   "cell_type": "code",
   "execution_count": 556,
   "id": "e1c8e755-d3e4-4c05-aa10-0ae1d9ddd55e",
   "metadata": {},
   "outputs": [],
   "source": [
    "season_performance_home = df_int_test.groupby(['SEASON_ID_x', 'HOME_TEAM_ABB'])[['WIN_HOME', 'WIN_HOME_pred', 'WIN_HOME_trade']].sum()\n",
    "season_performance_away = df_int_test.groupby(['SEASON_ID_x', 'AWAY_TEAM_ABB'])[['WIN_AWAY', 'WIN_AWAY_pred', 'WIN_AWAY_trade']].sum()\n",
    "season_performance_home.reset_index(inplace=True)\n",
    "season_performance_away.reset_index(inplace=True)\n",
    "\n",
    "season_performance_tmp = pd.merge(season_performance_home, season_performance_away, left_on=['SEASON_ID_x', 'HOME_TEAM_ABB'], right_on=['SEASON_ID_x', 'AWAY_TEAM_ABB'])"
   ]
  },
  {
   "cell_type": "code",
   "execution_count": 602,
   "id": "d5a0be2b-1ec9-4529-bdf7-f6d8dadf3d40",
   "metadata": {},
   "outputs": [],
   "source": [
    "season_performance_tmp['WIN'] = season_performance_tmp['WIN_HOME'] + season_performance_tmp['WIN_AWAY']\n",
    "season_performance_tmp['WIN_pred'] = season_performance_tmp['WIN_HOME_pred'] + season_performance_tmp['WIN_AWAY_pred']\n",
    "season_performance_tmp['WIN_trade'] = season_performance_tmp['WIN_HOME_trade'] + season_performance_tmp['WIN_AWAY_trade']\n",
    "season_performance_tmp['TEAM_ABBREVIATION'] = season_performance_tmp['HOME_TEAM_ABB']\n",
    "\n",
    "season_performance_tmp['TRADE_CHANGE'] = season_performance_tmp['WIN_trade'] - season_performance_tmp['WIN_pred']\n",
    "\n",
    "season_performance = season_performance_tmp.drop(['HOME_TEAM_ABB', 'AWAY_TEAM_ABB', 'WIN_HOME', 'WIN_HOME_pred', 'WIN_HOME_trade', 'WIN_AWAY', 'WIN_AWAY_pred', 'WIN_AWAY_trade'], axis=1)\n",
    "\n",
    "season_performance['RANK'] = season_performance['WIN'].astype(int).rank(ascending=False)\n",
    "season_performance['RANK_pred'] = season_performance['WIN_pred'].astype(int).rank(ascending=False)\n",
    "season_performance['RANK_trade'] = season_performance['WIN_trade'].astype(int).rank(ascending=False)\n",
    "\n",
    "season_performance = season_performance.sort_values(['SEASON_ID_x', 'RANK'], ascending=True)"
   ]
  },
  {
   "cell_type": "code",
   "execution_count": 604,
   "id": "7e118fe8-172b-445b-aff7-287dd1907c33",
   "metadata": {},
   "outputs": [
    {
     "data": {
      "text/plain": [
       "0"
      ]
     },
     "execution_count": 604,
     "metadata": {},
     "output_type": "execute_result"
    }
   ],
   "source": [
    "season_performance['TRADE_CHANGE'].sum()"
   ]
  },
  {
   "cell_type": "markdown",
   "id": "afa719ec-622c-406e-8f8f-c4f31a76103c",
   "metadata": {},
   "source": [
    "Get Ids of home and away team and then do two seperate aggregatations, merge and add up"
   ]
  },
  {
   "cell_type": "code",
   "execution_count": 531,
   "id": "022b968c-ccf0-49ef-9bef-3e0ac8df9e28",
   "metadata": {},
   "outputs": [
    {
     "data": {
      "text/html": [
       "<div>\n",
       "<style scoped>\n",
       "    .dataframe tbody tr th:only-of-type {\n",
       "        vertical-align: middle;\n",
       "    }\n",
       "\n",
       "    .dataframe tbody tr th {\n",
       "        vertical-align: top;\n",
       "    }\n",
       "\n",
       "    .dataframe thead th {\n",
       "        text-align: right;\n",
       "    }\n",
       "</style>\n",
       "<table border=\"1\" class=\"dataframe\">\n",
       "  <thead>\n",
       "    <tr style=\"text-align: right;\">\n",
       "      <th></th>\n",
       "      <th></th>\n",
       "      <th>WIN_HOME</th>\n",
       "      <th>WIN_AWAY</th>\n",
       "      <th>WIN_HOME_pred</th>\n",
       "      <th>WIN_AWAY_pred</th>\n",
       "      <th>WIN_HOME_trade</th>\n",
       "      <th>WIN_AWAY_trade</th>\n",
       "    </tr>\n",
       "    <tr>\n",
       "      <th>SEASON_ID_x</th>\n",
       "      <th>TEAM_NAME</th>\n",
       "      <th></th>\n",
       "      <th></th>\n",
       "      <th></th>\n",
       "      <th></th>\n",
       "      <th></th>\n",
       "      <th></th>\n",
       "    </tr>\n",
       "  </thead>\n",
       "  <tbody>\n",
       "    <tr>\n",
       "      <th rowspan=\"30\" valign=\"top\">22020</th>\n",
       "      <th>Atlanta Hawks</th>\n",
       "      <td>25</td>\n",
       "      <td>11</td>\n",
       "      <td>30</td>\n",
       "      <td>6</td>\n",
       "      <td>30</td>\n",
       "      <td>6</td>\n",
       "    </tr>\n",
       "    <tr>\n",
       "      <th>Boston Celtics</th>\n",
       "      <td>21</td>\n",
       "      <td>15</td>\n",
       "      <td>32</td>\n",
       "      <td>4</td>\n",
       "      <td>32</td>\n",
       "      <td>4</td>\n",
       "    </tr>\n",
       "    <tr>\n",
       "      <th>Brooklyn Nets</th>\n",
       "      <td>27</td>\n",
       "      <td>8</td>\n",
       "      <td>29</td>\n",
       "      <td>6</td>\n",
       "      <td>29</td>\n",
       "      <td>6</td>\n",
       "    </tr>\n",
       "    <tr>\n",
       "      <th>Charlotte Hornets</th>\n",
       "      <td>18</td>\n",
       "      <td>18</td>\n",
       "      <td>18</td>\n",
       "      <td>18</td>\n",
       "      <td>18</td>\n",
       "      <td>18</td>\n",
       "    </tr>\n",
       "    <tr>\n",
       "      <th>Chicago Bulls</th>\n",
       "      <td>15</td>\n",
       "      <td>21</td>\n",
       "      <td>19</td>\n",
       "      <td>17</td>\n",
       "      <td>19</td>\n",
       "      <td>17</td>\n",
       "    </tr>\n",
       "    <tr>\n",
       "      <th>Cleveland Cavaliers</th>\n",
       "      <td>13</td>\n",
       "      <td>23</td>\n",
       "      <td>1</td>\n",
       "      <td>35</td>\n",
       "      <td>1</td>\n",
       "      <td>35</td>\n",
       "    </tr>\n",
       "    <tr>\n",
       "      <th>Dallas Mavericks</th>\n",
       "      <td>21</td>\n",
       "      <td>15</td>\n",
       "      <td>28</td>\n",
       "      <td>8</td>\n",
       "      <td>28</td>\n",
       "      <td>8</td>\n",
       "    </tr>\n",
       "    <tr>\n",
       "      <th>Denver Nuggets</th>\n",
       "      <td>25</td>\n",
       "      <td>11</td>\n",
       "      <td>31</td>\n",
       "      <td>5</td>\n",
       "      <td>31</td>\n",
       "      <td>5</td>\n",
       "    </tr>\n",
       "    <tr>\n",
       "      <th>Detroit Pistons</th>\n",
       "      <td>13</td>\n",
       "      <td>23</td>\n",
       "      <td>8</td>\n",
       "      <td>28</td>\n",
       "      <td>8</td>\n",
       "      <td>28</td>\n",
       "    </tr>\n",
       "    <tr>\n",
       "      <th>Golden State Warriors</th>\n",
       "      <td>25</td>\n",
       "      <td>11</td>\n",
       "      <td>23</td>\n",
       "      <td>13</td>\n",
       "      <td>24</td>\n",
       "      <td>12</td>\n",
       "    </tr>\n",
       "    <tr>\n",
       "      <th>Houston Rockets</th>\n",
       "      <td>9</td>\n",
       "      <td>27</td>\n",
       "      <td>3</td>\n",
       "      <td>33</td>\n",
       "      <td>3</td>\n",
       "      <td>33</td>\n",
       "    </tr>\n",
       "    <tr>\n",
       "      <th>Indiana Pacers</th>\n",
       "      <td>13</td>\n",
       "      <td>23</td>\n",
       "      <td>26</td>\n",
       "      <td>10</td>\n",
       "      <td>27</td>\n",
       "      <td>9</td>\n",
       "    </tr>\n",
       "    <tr>\n",
       "      <th>LA Clippers</th>\n",
       "      <td>26</td>\n",
       "      <td>10</td>\n",
       "      <td>34</td>\n",
       "      <td>2</td>\n",
       "      <td>34</td>\n",
       "      <td>2</td>\n",
       "    </tr>\n",
       "    <tr>\n",
       "      <th>Los Angeles Lakers</th>\n",
       "      <td>21</td>\n",
       "      <td>15</td>\n",
       "      <td>30</td>\n",
       "      <td>6</td>\n",
       "      <td>29</td>\n",
       "      <td>7</td>\n",
       "    </tr>\n",
       "    <tr>\n",
       "      <th>Memphis Grizzlies</th>\n",
       "      <td>18</td>\n",
       "      <td>18</td>\n",
       "      <td>32</td>\n",
       "      <td>4</td>\n",
       "      <td>32</td>\n",
       "      <td>4</td>\n",
       "    </tr>\n",
       "    <tr>\n",
       "      <th>Miami Heat</th>\n",
       "      <td>21</td>\n",
       "      <td>15</td>\n",
       "      <td>30</td>\n",
       "      <td>6</td>\n",
       "      <td>30</td>\n",
       "      <td>6</td>\n",
       "    </tr>\n",
       "    <tr>\n",
       "      <th>Milwaukee Bucks</th>\n",
       "      <td>26</td>\n",
       "      <td>10</td>\n",
       "      <td>35</td>\n",
       "      <td>1</td>\n",
       "      <td>35</td>\n",
       "      <td>1</td>\n",
       "    </tr>\n",
       "    <tr>\n",
       "      <th>Minnesota Timberwolves</th>\n",
       "      <td>13</td>\n",
       "      <td>23</td>\n",
       "      <td>10</td>\n",
       "      <td>26</td>\n",
       "      <td>10</td>\n",
       "      <td>26</td>\n",
       "    </tr>\n",
       "    <tr>\n",
       "      <th>New Orleans Pelicans</th>\n",
       "      <td>18</td>\n",
       "      <td>18</td>\n",
       "      <td>20</td>\n",
       "      <td>16</td>\n",
       "      <td>20</td>\n",
       "      <td>16</td>\n",
       "    </tr>\n",
       "    <tr>\n",
       "      <th>New York Knicks</th>\n",
       "      <td>25</td>\n",
       "      <td>11</td>\n",
       "      <td>30</td>\n",
       "      <td>6</td>\n",
       "      <td>30</td>\n",
       "      <td>6</td>\n",
       "    </tr>\n",
       "    <tr>\n",
       "      <th>Oklahoma City Thunder</th>\n",
       "      <td>10</td>\n",
       "      <td>26</td>\n",
       "      <td>7</td>\n",
       "      <td>29</td>\n",
       "      <td>7</td>\n",
       "      <td>29</td>\n",
       "    </tr>\n",
       "    <tr>\n",
       "      <th>Orlando Magic</th>\n",
       "      <td>11</td>\n",
       "      <td>25</td>\n",
       "      <td>9</td>\n",
       "      <td>27</td>\n",
       "      <td>9</td>\n",
       "      <td>27</td>\n",
       "    </tr>\n",
       "    <tr>\n",
       "      <th>Philadelphia 76ers</th>\n",
       "      <td>29</td>\n",
       "      <td>7</td>\n",
       "      <td>34</td>\n",
       "      <td>2</td>\n",
       "      <td>34</td>\n",
       "      <td>2</td>\n",
       "    </tr>\n",
       "    <tr>\n",
       "      <th>Phoenix Suns</th>\n",
       "      <td>27</td>\n",
       "      <td>9</td>\n",
       "      <td>35</td>\n",
       "      <td>1</td>\n",
       "      <td>35</td>\n",
       "      <td>1</td>\n",
       "    </tr>\n",
       "    <tr>\n",
       "      <th>Portland Trail Blazers</th>\n",
       "      <td>20</td>\n",
       "      <td>16</td>\n",
       "      <td>32</td>\n",
       "      <td>4</td>\n",
       "      <td>32</td>\n",
       "      <td>4</td>\n",
       "    </tr>\n",
       "    <tr>\n",
       "      <th>Sacramento Kings</th>\n",
       "      <td>16</td>\n",
       "      <td>20</td>\n",
       "      <td>24</td>\n",
       "      <td>12</td>\n",
       "      <td>23</td>\n",
       "      <td>13</td>\n",
       "    </tr>\n",
       "    <tr>\n",
       "      <th>San Antonio Spurs</th>\n",
       "      <td>14</td>\n",
       "      <td>22</td>\n",
       "      <td>16</td>\n",
       "      <td>20</td>\n",
       "      <td>16</td>\n",
       "      <td>20</td>\n",
       "    </tr>\n",
       "    <tr>\n",
       "      <th>Toronto Raptors</th>\n",
       "      <td>16</td>\n",
       "      <td>20</td>\n",
       "      <td>23</td>\n",
       "      <td>13</td>\n",
       "      <td>23</td>\n",
       "      <td>13</td>\n",
       "    </tr>\n",
       "    <tr>\n",
       "      <th>Utah Jazz</th>\n",
       "      <td>31</td>\n",
       "      <td>5</td>\n",
       "      <td>36</td>\n",
       "      <td>0</td>\n",
       "      <td>36</td>\n",
       "      <td>0</td>\n",
       "    </tr>\n",
       "    <tr>\n",
       "      <th>Washington Wizards</th>\n",
       "      <td>19</td>\n",
       "      <td>17</td>\n",
       "      <td>19</td>\n",
       "      <td>17</td>\n",
       "      <td>19</td>\n",
       "      <td>17</td>\n",
       "    </tr>\n",
       "  </tbody>\n",
       "</table>\n",
       "</div>"
      ],
      "text/plain": [
       "                                    WIN_HOME  WIN_AWAY  WIN_HOME_pred  \\\n",
       "SEASON_ID_x TEAM_NAME                                                   \n",
       "22020       Atlanta Hawks                 25        11             30   \n",
       "            Boston Celtics                21        15             32   \n",
       "            Brooklyn Nets                 27         8             29   \n",
       "            Charlotte Hornets             18        18             18   \n",
       "            Chicago Bulls                 15        21             19   \n",
       "            Cleveland Cavaliers           13        23              1   \n",
       "            Dallas Mavericks              21        15             28   \n",
       "            Denver Nuggets                25        11             31   \n",
       "            Detroit Pistons               13        23              8   \n",
       "            Golden State Warriors         25        11             23   \n",
       "            Houston Rockets                9        27              3   \n",
       "            Indiana Pacers                13        23             26   \n",
       "            LA Clippers                   26        10             34   \n",
       "            Los Angeles Lakers            21        15             30   \n",
       "            Memphis Grizzlies             18        18             32   \n",
       "            Miami Heat                    21        15             30   \n",
       "            Milwaukee Bucks               26        10             35   \n",
       "            Minnesota Timberwolves        13        23             10   \n",
       "            New Orleans Pelicans          18        18             20   \n",
       "            New York Knicks               25        11             30   \n",
       "            Oklahoma City Thunder         10        26              7   \n",
       "            Orlando Magic                 11        25              9   \n",
       "            Philadelphia 76ers            29         7             34   \n",
       "            Phoenix Suns                  27         9             35   \n",
       "            Portland Trail Blazers        20        16             32   \n",
       "            Sacramento Kings              16        20             24   \n",
       "            San Antonio Spurs             14        22             16   \n",
       "            Toronto Raptors               16        20             23   \n",
       "            Utah Jazz                     31         5             36   \n",
       "            Washington Wizards            19        17             19   \n",
       "\n",
       "                                    WIN_AWAY_pred  WIN_HOME_trade  \\\n",
       "SEASON_ID_x TEAM_NAME                                               \n",
       "22020       Atlanta Hawks                       6              30   \n",
       "            Boston Celtics                      4              32   \n",
       "            Brooklyn Nets                       6              29   \n",
       "            Charlotte Hornets                  18              18   \n",
       "            Chicago Bulls                      17              19   \n",
       "            Cleveland Cavaliers                35               1   \n",
       "            Dallas Mavericks                    8              28   \n",
       "            Denver Nuggets                      5              31   \n",
       "            Detroit Pistons                    28               8   \n",
       "            Golden State Warriors              13              24   \n",
       "            Houston Rockets                    33               3   \n",
       "            Indiana Pacers                     10              27   \n",
       "            LA Clippers                         2              34   \n",
       "            Los Angeles Lakers                  6              29   \n",
       "            Memphis Grizzlies                   4              32   \n",
       "            Miami Heat                          6              30   \n",
       "            Milwaukee Bucks                     1              35   \n",
       "            Minnesota Timberwolves             26              10   \n",
       "            New Orleans Pelicans               16              20   \n",
       "            New York Knicks                     6              30   \n",
       "            Oklahoma City Thunder              29               7   \n",
       "            Orlando Magic                      27               9   \n",
       "            Philadelphia 76ers                  2              34   \n",
       "            Phoenix Suns                        1              35   \n",
       "            Portland Trail Blazers              4              32   \n",
       "            Sacramento Kings                   12              23   \n",
       "            San Antonio Spurs                  20              16   \n",
       "            Toronto Raptors                    13              23   \n",
       "            Utah Jazz                           0              36   \n",
       "            Washington Wizards                 17              19   \n",
       "\n",
       "                                    WIN_AWAY_trade  \n",
       "SEASON_ID_x TEAM_NAME                               \n",
       "22020       Atlanta Hawks                        6  \n",
       "            Boston Celtics                       4  \n",
       "            Brooklyn Nets                        6  \n",
       "            Charlotte Hornets                   18  \n",
       "            Chicago Bulls                       17  \n",
       "            Cleveland Cavaliers                 35  \n",
       "            Dallas Mavericks                     8  \n",
       "            Denver Nuggets                       5  \n",
       "            Detroit Pistons                     28  \n",
       "            Golden State Warriors               12  \n",
       "            Houston Rockets                     33  \n",
       "            Indiana Pacers                       9  \n",
       "            LA Clippers                          2  \n",
       "            Los Angeles Lakers                   7  \n",
       "            Memphis Grizzlies                    4  \n",
       "            Miami Heat                           6  \n",
       "            Milwaukee Bucks                      1  \n",
       "            Minnesota Timberwolves              26  \n",
       "            New Orleans Pelicans                16  \n",
       "            New York Knicks                      6  \n",
       "            Oklahoma City Thunder               29  \n",
       "            Orlando Magic                       27  \n",
       "            Philadelphia 76ers                   2  \n",
       "            Phoenix Suns                         1  \n",
       "            Portland Trail Blazers               4  \n",
       "            Sacramento Kings                    13  \n",
       "            San Antonio Spurs                   20  \n",
       "            Toronto Raptors                     13  \n",
       "            Utah Jazz                            0  \n",
       "            Washington Wizards                  17  "
      ]
     },
     "execution_count": 531,
     "metadata": {},
     "output_type": "execute_result"
    }
   ],
   "source": [
    "season_performance"
   ]
  },
  {
   "cell_type": "code",
   "execution_count": 82,
   "id": "07e2758d-1716-41fd-949f-f21134b05d9c",
   "metadata": {},
   "outputs": [],
   "source": [
    "import arviz as az\n",
    "import bambi as bmb\n",
    "import matplotlib.pyplot as plt\n",
    "import numpy as np\n",
    "import pandas as pd\n",
    "import statsmodels.api as sm"
   ]
  },
  {
   "cell_type": "code",
   "execution_count": 83,
   "id": "541bfd6c-50e3-4d99-b984-94e37fc5db5a",
   "metadata": {},
   "outputs": [
    {
     "data": {
      "text/html": [
       "<div>\n",
       "<style scoped>\n",
       "    .dataframe tbody tr th:only-of-type {\n",
       "        vertical-align: middle;\n",
       "    }\n",
       "\n",
       "    .dataframe tbody tr th {\n",
       "        vertical-align: top;\n",
       "    }\n",
       "\n",
       "    .dataframe thead th {\n",
       "        text-align: right;\n",
       "    }\n",
       "</style>\n",
       "<table border=\"1\" class=\"dataframe\">\n",
       "  <thead>\n",
       "    <tr style=\"text-align: right;\">\n",
       "      <th></th>\n",
       "      <th>home_game</th>\n",
       "      <th>GUARD_HOME_1</th>\n",
       "      <th>GUARD_HOME_2</th>\n",
       "      <th>FORWARD_HOME_1</th>\n",
       "      <th>FORWARD_HOME_2</th>\n",
       "      <th>CENTER_HOME_1</th>\n",
       "      <th>SIXTH_HOME_1</th>\n",
       "      <th>BENCH_DEPTH_HOME</th>\n",
       "      <th>GUARD_AWAY_1</th>\n",
       "      <th>GUARD_AWAY_2</th>\n",
       "      <th>FORWARD_AWAY_1</th>\n",
       "      <th>FORWARD_AWAY_2</th>\n",
       "      <th>CENTER_AWAY_1</th>\n",
       "      <th>SIXTH_AWAY_1</th>\n",
       "      <th>BENCH_DEPTH_AWAY</th>\n",
       "      <th>PLUS_MINUS</th>\n",
       "    </tr>\n",
       "  </thead>\n",
       "  <tbody>\n",
       "    <tr>\n",
       "      <th>1</th>\n",
       "      <td>True</td>\n",
       "      <td>1.29</td>\n",
       "      <td>0.93</td>\n",
       "      <td>1.35</td>\n",
       "      <td>2.49</td>\n",
       "      <td>2.22</td>\n",
       "      <td>0.573750</td>\n",
       "      <td>9.0</td>\n",
       "      <td>-0.23</td>\n",
       "      <td>0.23</td>\n",
       "      <td>1.48</td>\n",
       "      <td>-0.54</td>\n",
       "      <td>1.67</td>\n",
       "      <td>-0.562500</td>\n",
       "      <td>9.0</td>\n",
       "      <td>8.0</td>\n",
       "    </tr>\n",
       "    <tr>\n",
       "      <th>13</th>\n",
       "      <td>True</td>\n",
       "      <td>-0.29</td>\n",
       "      <td>2.39</td>\n",
       "      <td>4.32</td>\n",
       "      <td>-0.29</td>\n",
       "      <td>1.80</td>\n",
       "      <td>0.178750</td>\n",
       "      <td>9.0</td>\n",
       "      <td>1.29</td>\n",
       "      <td>1.63</td>\n",
       "      <td>0.60</td>\n",
       "      <td>3.50</td>\n",
       "      <td>0.88</td>\n",
       "      <td>0.387500</td>\n",
       "      <td>9.0</td>\n",
       "      <td>10.0</td>\n",
       "    </tr>\n",
       "    <tr>\n",
       "      <th>25</th>\n",
       "      <td>True</td>\n",
       "      <td>-0.89</td>\n",
       "      <td>-2.22</td>\n",
       "      <td>-2.04</td>\n",
       "      <td>-0.53</td>\n",
       "      <td>-1.76</td>\n",
       "      <td>-0.313750</td>\n",
       "      <td>9.0</td>\n",
       "      <td>-1.35</td>\n",
       "      <td>-0.26</td>\n",
       "      <td>0.50</td>\n",
       "      <td>-0.47</td>\n",
       "      <td>0.43</td>\n",
       "      <td>-0.233750</td>\n",
       "      <td>9.0</td>\n",
       "      <td>1.0</td>\n",
       "    </tr>\n",
       "    <tr>\n",
       "      <th>37</th>\n",
       "      <td>True</td>\n",
       "      <td>-0.58</td>\n",
       "      <td>0.80</td>\n",
       "      <td>1.03</td>\n",
       "      <td>1.24</td>\n",
       "      <td>-0.27</td>\n",
       "      <td>0.055000</td>\n",
       "      <td>9.0</td>\n",
       "      <td>-0.80</td>\n",
       "      <td>1.29</td>\n",
       "      <td>-1.48</td>\n",
       "      <td>-1.82</td>\n",
       "      <td>-1.19</td>\n",
       "      <td>-0.147500</td>\n",
       "      <td>9.0</td>\n",
       "      <td>-9.0</td>\n",
       "    </tr>\n",
       "    <tr>\n",
       "      <th>49</th>\n",
       "      <td>True</td>\n",
       "      <td>-0.03</td>\n",
       "      <td>1.19</td>\n",
       "      <td>0.77</td>\n",
       "      <td>0.01</td>\n",
       "      <td>1.13</td>\n",
       "      <td>-0.267500</td>\n",
       "      <td>9.0</td>\n",
       "      <td>-1.35</td>\n",
       "      <td>-1.75</td>\n",
       "      <td>-1.04</td>\n",
       "      <td>-0.95</td>\n",
       "      <td>-1.50</td>\n",
       "      <td>-0.410000</td>\n",
       "      <td>8.0</td>\n",
       "      <td>9.0</td>\n",
       "    </tr>\n",
       "    <tr>\n",
       "      <th>...</th>\n",
       "      <td>...</td>\n",
       "      <td>...</td>\n",
       "      <td>...</td>\n",
       "      <td>...</td>\n",
       "      <td>...</td>\n",
       "      <td>...</td>\n",
       "      <td>...</td>\n",
       "      <td>...</td>\n",
       "      <td>...</td>\n",
       "      <td>...</td>\n",
       "      <td>...</td>\n",
       "      <td>...</td>\n",
       "      <td>...</td>\n",
       "      <td>...</td>\n",
       "      <td>...</td>\n",
       "      <td>...</td>\n",
       "    </tr>\n",
       "    <tr>\n",
       "      <th>25609</th>\n",
       "      <td>True</td>\n",
       "      <td>1.58</td>\n",
       "      <td>1.49</td>\n",
       "      <td>0.39</td>\n",
       "      <td>1.81</td>\n",
       "      <td>1.18</td>\n",
       "      <td>-0.270000</td>\n",
       "      <td>11.0</td>\n",
       "      <td>0.22</td>\n",
       "      <td>-0.06</td>\n",
       "      <td>2.59</td>\n",
       "      <td>1.12</td>\n",
       "      <td>1.77</td>\n",
       "      <td>-0.524444</td>\n",
       "      <td>10.0</td>\n",
       "      <td>16.0</td>\n",
       "    </tr>\n",
       "    <tr>\n",
       "      <th>25621</th>\n",
       "      <td>True</td>\n",
       "      <td>0.45</td>\n",
       "      <td>-0.02</td>\n",
       "      <td>0.12</td>\n",
       "      <td>-0.61</td>\n",
       "      <td>-0.76</td>\n",
       "      <td>-0.430000</td>\n",
       "      <td>8.0</td>\n",
       "      <td>2.51</td>\n",
       "      <td>3.62</td>\n",
       "      <td>1.33</td>\n",
       "      <td>3.03</td>\n",
       "      <td>4.51</td>\n",
       "      <td>-0.307000</td>\n",
       "      <td>11.0</td>\n",
       "      <td>-22.0</td>\n",
       "    </tr>\n",
       "    <tr>\n",
       "      <th>25633</th>\n",
       "      <td>True</td>\n",
       "      <td>-2.33</td>\n",
       "      <td>1.94</td>\n",
       "      <td>-0.85</td>\n",
       "      <td>-1.72</td>\n",
       "      <td>1.27</td>\n",
       "      <td>-0.370000</td>\n",
       "      <td>9.0</td>\n",
       "      <td>-0.04</td>\n",
       "      <td>1.59</td>\n",
       "      <td>1.95</td>\n",
       "      <td>-0.27</td>\n",
       "      <td>2.30</td>\n",
       "      <td>0.253750</td>\n",
       "      <td>9.0</td>\n",
       "      <td>-2.0</td>\n",
       "    </tr>\n",
       "    <tr>\n",
       "      <th>25645</th>\n",
       "      <td>True</td>\n",
       "      <td>0.90</td>\n",
       "      <td>-1.54</td>\n",
       "      <td>-1.94</td>\n",
       "      <td>-0.98</td>\n",
       "      <td>-0.11</td>\n",
       "      <td>-0.502857</td>\n",
       "      <td>8.0</td>\n",
       "      <td>0.23</td>\n",
       "      <td>0.14</td>\n",
       "      <td>-0.61</td>\n",
       "      <td>0.89</td>\n",
       "      <td>-0.52</td>\n",
       "      <td>0.430000</td>\n",
       "      <td>8.0</td>\n",
       "      <td>-12.0</td>\n",
       "    </tr>\n",
       "    <tr>\n",
       "      <th>25657</th>\n",
       "      <td>True</td>\n",
       "      <td>0.63</td>\n",
       "      <td>-0.11</td>\n",
       "      <td>1.15</td>\n",
       "      <td>-0.44</td>\n",
       "      <td>-0.98</td>\n",
       "      <td>-0.034444</td>\n",
       "      <td>10.0</td>\n",
       "      <td>-0.40</td>\n",
       "      <td>-1.53</td>\n",
       "      <td>0.89</td>\n",
       "      <td>-2.22</td>\n",
       "      <td>0.86</td>\n",
       "      <td>-0.277000</td>\n",
       "      <td>11.0</td>\n",
       "      <td>5.0</td>\n",
       "    </tr>\n",
       "  </tbody>\n",
       "</table>\n",
       "<p>2139 rows × 16 columns</p>\n",
       "</div>"
      ],
      "text/plain": [
       "       home_game  GUARD_HOME_1  GUARD_HOME_2  FORWARD_HOME_1  FORWARD_HOME_2  \\\n",
       "1           True          1.29          0.93            1.35            2.49   \n",
       "13          True         -0.29          2.39            4.32           -0.29   \n",
       "25          True         -0.89         -2.22           -2.04           -0.53   \n",
       "37          True         -0.58          0.80            1.03            1.24   \n",
       "49          True         -0.03          1.19            0.77            0.01   \n",
       "...          ...           ...           ...             ...             ...   \n",
       "25609       True          1.58          1.49            0.39            1.81   \n",
       "25621       True          0.45         -0.02            0.12           -0.61   \n",
       "25633       True         -2.33          1.94           -0.85           -1.72   \n",
       "25645       True          0.90         -1.54           -1.94           -0.98   \n",
       "25657       True          0.63         -0.11            1.15           -0.44   \n",
       "\n",
       "       CENTER_HOME_1  SIXTH_HOME_1  BENCH_DEPTH_HOME  GUARD_AWAY_1  \\\n",
       "1               2.22      0.573750               9.0         -0.23   \n",
       "13              1.80      0.178750               9.0          1.29   \n",
       "25             -1.76     -0.313750               9.0         -1.35   \n",
       "37             -0.27      0.055000               9.0         -0.80   \n",
       "49              1.13     -0.267500               9.0         -1.35   \n",
       "...              ...           ...               ...           ...   \n",
       "25609           1.18     -0.270000              11.0          0.22   \n",
       "25621          -0.76     -0.430000               8.0          2.51   \n",
       "25633           1.27     -0.370000               9.0         -0.04   \n",
       "25645          -0.11     -0.502857               8.0          0.23   \n",
       "25657          -0.98     -0.034444              10.0         -0.40   \n",
       "\n",
       "       GUARD_AWAY_2  FORWARD_AWAY_1  FORWARD_AWAY_2  CENTER_AWAY_1  \\\n",
       "1              0.23            1.48           -0.54           1.67   \n",
       "13             1.63            0.60            3.50           0.88   \n",
       "25            -0.26            0.50           -0.47           0.43   \n",
       "37             1.29           -1.48           -1.82          -1.19   \n",
       "49            -1.75           -1.04           -0.95          -1.50   \n",
       "...             ...             ...             ...            ...   \n",
       "25609         -0.06            2.59            1.12           1.77   \n",
       "25621          3.62            1.33            3.03           4.51   \n",
       "25633          1.59            1.95           -0.27           2.30   \n",
       "25645          0.14           -0.61            0.89          -0.52   \n",
       "25657         -1.53            0.89           -2.22           0.86   \n",
       "\n",
       "       SIXTH_AWAY_1  BENCH_DEPTH_AWAY  PLUS_MINUS  \n",
       "1         -0.562500               9.0         8.0  \n",
       "13         0.387500               9.0        10.0  \n",
       "25        -0.233750               9.0         1.0  \n",
       "37        -0.147500               9.0        -9.0  \n",
       "49        -0.410000               8.0         9.0  \n",
       "...             ...               ...         ...  \n",
       "25609     -0.524444              10.0        16.0  \n",
       "25621     -0.307000              11.0       -22.0  \n",
       "25633      0.253750               9.0        -2.0  \n",
       "25645      0.430000               8.0       -12.0  \n",
       "25657     -0.277000              11.0         5.0  \n",
       "\n",
       "[2139 rows x 16 columns]"
      ]
     },
     "execution_count": 83,
     "metadata": {},
     "output_type": "execute_result"
    }
   ],
   "source": [
    "df_model"
   ]
  },
  {
   "cell_type": "code",
   "execution_count": 964,
   "id": "369e45b1-75b1-4be9-b696-c1d87618d3c7",
   "metadata": {},
   "outputs": [],
   "source": [
    "def wrapper_trade(player_in, player_out, df, scores):\n",
    "\n",
    "    df_trade, out_team_id, in_team_id = trade_player_function(player_in=player_in, player_out=player_out, df=df, scores=scores)\n",
    "    n_games = get_train_season_games(df3, last_train_season=22019)\n",
    "    df_model_trade, df_int_trade = get_model_data(df=df_trade)\n",
    "    _, _, X_trade, _, _, _, _, df_model_test_trade = get_train_test_set(df_model=df_model_trade, df_interpretation=df_int_trade, n_games=n_games)\n",
    "    \n",
    "    return df_model_test_trade"
   ]
  },
  {
   "cell_type": "code",
   "execution_count": 1040,
   "id": "330cb52b-7a4c-41d6-bf9b-73a815d5fc11",
   "metadata": {},
   "outputs": [],
   "source": [
    "df_model_test_trade2 = wrapper_trade(player_in=2544 , player_out=202704, df=df3, scores=scores)"
   ]
  },
  {
   "cell_type": "code",
   "execution_count": 1021,
   "id": "a52df23f-5666-4a32-9ec5-9c707857b06a",
   "metadata": {
    "tags": []
   },
   "outputs": [
    {
     "name": "stderr",
     "output_type": "stream",
     "text": [
      "Auto-assigning NUTS sampler...\n",
      "Initializing NUTS using adapt_diag...\n",
      "Multiprocess sampling (4 chains in 4 jobs)\n",
      "NUTS: [PLUS_MINUS_sigma, Intercept, BENCH_DEPTH_AWAY, BENCH_DEPTH_HOME, SIXTH_AWAY_1, SIXTH_HOME_1, CENTER_AWAY_1, FORWARD_AWAY_2, FORWARD_AWAY_1, GUARD_AWAY_2, GUARD_AWAY_1, CENTER_HOME_1, FORWARD_HOME_2, FORWARD_HOME_1, GUARD_HOME_2, GUARD_HOME_1]\n"
     ]
    },
    {
     "data": {
      "text/html": [
       "\n",
       "    <div>\n",
       "        <style>\n",
       "            /* Turns off some styling */\n",
       "            progress {\n",
       "                /* gets rid of default border in Firefox and Opera. */\n",
       "                border: none;\n",
       "                /* Needs to be in here for Safari polyfill so background images work as expected. */\n",
       "                background-size: auto;\n",
       "            }\n",
       "            .progress-bar-interrupted, .progress-bar-interrupted::-webkit-progress-bar {\n",
       "                background: #F44336;\n",
       "            }\n",
       "        </style>\n",
       "      <progress value='8800' class='' max='8800' style='width:300px; height:20px; vertical-align: middle;'></progress>\n",
       "      100.00% [8800/8800 00:24<00:00 Sampling 4 chains, 0 divergences]\n",
       "    </div>\n",
       "    "
      ],
      "text/plain": [
       "<IPython.core.display.HTML object>"
      ]
     },
     "metadata": {},
     "output_type": "display_data"
    },
    {
     "name": "stderr",
     "output_type": "stream",
     "text": [
      "Sampling 4 chains for 200 tune and 2_000 draw iterations (800 + 8_000 draws total) took 50 seconds.\n",
      "The acceptance probability does not match the target. It is 0.92463936102927, but should be close to 0.8. Try to increase the number of tuning steps.\n",
      "The acceptance probability does not match the target. It is 0.9144864504714155, but should be close to 0.8. Try to increase the number of tuning steps.\n",
      "The acceptance probability does not match the target. It is 0.9144226074538288, but should be close to 0.8. Try to increase the number of tuning steps.\n",
      "The acceptance probability does not match the target. It is 0.9164285177730188, but should be close to 0.8. Try to increase the number of tuning steps.\n"
     ]
    }
   ],
   "source": [
    "model = bmb.Model(\"PLUS_MINUS ~ GUARD_HOME_1 + GUARD_HOME_2 + FORWARD_HOME_1 + FORWARD_HOME_2 + CENTER_HOME_1 + GUARD_AWAY_1 + GUARD_AWAY_2 + FORWARD_AWAY_1 + FORWARD_AWAY_2 + CENTER_AWAY_1 + SIXTH_HOME_1 + SIXTH_AWAY_1 + BENCH_DEPTH_HOME + BENCH_DEPTH_AWAY\", df_model_train)\n",
    "fitted = model.fit(tune=200, draws=2000, init=\"adapt_diag\", random_seed=0)"
   ]
  },
  {
   "cell_type": "code",
   "execution_count": 1056,
   "id": "8b2e81c2-ac59-447d-88a6-67d27af6fe73",
   "metadata": {},
   "outputs": [],
   "source": [
    "prediction = model.predict(idata=fitted, data=df_model_test, draws=100, inplace=False)\n",
    "prediction_trade = model.predict(idata=fitted, data=df_model_test_trade, draws=100, inplace=False)"
   ]
  },
  {
   "cell_type": "code",
   "execution_count": 1057,
   "id": "b02ed4ee-e3d9-4177-9605-a054c6ef2633",
   "metadata": {},
   "outputs": [],
   "source": [
    "mean_plus_minus_pred = np.mean(np.vstack(prediction.posterior['PLUS_MINUS_mean'].values), axis=0)\n",
    "mean_plus_minus_trade = np.mean(np.vstack(prediction_trade.posterior['PLUS_MINUS_mean'].values), axis=0)"
   ]
  },
  {
   "cell_type": "code",
   "execution_count": 1039,
   "id": "3f4ffc78-2f19-4a0c-bb4d-5179f3fd3c96",
   "metadata": {},
   "outputs": [],
   "source": [
    "test = mean_plus_minus_trade"
   ]
  },
  {
   "cell_type": "code",
   "execution_count": 1058,
   "id": "8346d482-af59-4b14-a173-b49ae7756221",
   "metadata": {},
   "outputs": [
    {
     "data": {
      "text/plain": [
       "True"
      ]
     },
     "execution_count": 1058,
     "metadata": {},
     "output_type": "execute_result"
    }
   ],
   "source": [
    "np.all(mean_plus_minus_trade == test)"
   ]
  },
  {
   "cell_type": "code",
   "execution_count": 1024,
   "id": "5fb2bdc4-136b-4ff2-815f-008eade2ef66",
   "metadata": {},
   "outputs": [],
   "source": [
    "sigma_plus_minus_pred = np.mean(np.vstack(prediction.posterior['PLUS_MINUS_sigma'].values))\n",
    "sigma_plus_minus_trade = np.mean(np.vstack(prediction_trade.posterior['PLUS_MINUS_sigma'].values))"
   ]
  },
  {
   "cell_type": "code",
   "execution_count": 1025,
   "id": "043ace8c-aea3-40ef-82a6-5ed67f0297ec",
   "metadata": {},
   "outputs": [],
   "source": [
    "sigma_pred_mat = np.repeat(sigma_plus_minus_pred, mean_plus_minus_pred.shape[0])\n",
    "sigma_trade_mat = np.repeat(sigma_plus_minus_trade, mean_plus_minus_trade.shape[0])"
   ]
  },
  {
   "cell_type": "code",
   "execution_count": 1026,
   "id": "351405f2-62f0-4a23-a978-9c423a51fb2d",
   "metadata": {},
   "outputs": [],
   "source": [
    "def simulate_one_season(mean_predicted, sigma_predicted, n_sim, all_games: bool=True):\n",
    "    \"\"\" optionally returns all simulation of every game - to draw histograms\n",
    "    \"\"\"\n",
    "    \n",
    "    # parameters\n",
    "    n_games = mean_predicted.shape[0]\n",
    "\n",
    "    # repeat sigma\n",
    "    sigma_pred_mat = np.repeat(sigma_predicted, n_games)\n",
    "\n",
    "    # standard normal, then shift and stretch\n",
    "    all_games_sim = np.random.normal(size=(n_games, n_sim)) * sigma_pred_mat[:,None] + mean_predicted[:,None]\n",
    "    \n",
    "    # simulate one season\n",
    "    one_season_sim = np.apply_along_axis(np.random.choice, 1, all_games_sim)\n",
    "    \n",
    "    if all_games:\n",
    "        return one_season_sim, all_games_sim\n",
    "    \n",
    "    else:\n",
    "        return one_season_sim"
   ]
  },
  {
   "cell_type": "code",
   "execution_count": 1027,
   "id": "6dc88b62-037f-4fc4-ab13-f44136e963ce",
   "metadata": {},
   "outputs": [],
   "source": [
    "n_sim = 1000"
   ]
  },
  {
   "cell_type": "code",
   "execution_count": 1028,
   "id": "29b14869-7d94-4941-9d44-b7db0e2f1bb9",
   "metadata": {},
   "outputs": [],
   "source": [
    "one_season, season_sim = simulate_one_season(mean_predicted=mean_plus_minus_pred, sigma_predicted=sigma_plus_minus_pred, n_sim=n_sim)"
   ]
  },
  {
   "cell_type": "code",
   "execution_count": 1029,
   "id": "fd5a6290-2fa1-4cca-b580-2bf91e325988",
   "metadata": {},
   "outputs": [
    {
     "name": "stderr",
     "output_type": "stream",
     "text": [
      "100%|██████████| 1000/1000 [00:05<00:00, 167.20it/s]\n"
     ]
    }
   ],
   "source": [
    "from tqdm import tqdm\n",
    "\n",
    "# cout out ht and at wins\n",
    "ht_wins = np.where(season_sim > 0, 1, 0)\n",
    "at_wins = np.where(season_sim > 0, 0, 1)\n",
    "\n",
    "# setup loop\n",
    "histories = np.arange(n_sim)\n",
    "list_history = list()\n",
    "\n",
    "for h in tqdm(histories):\n",
    "\n",
    "    # select one history\n",
    "    df_int_test['ht_wins'] = ht_wins[:, h]\n",
    "    df_int_test['at_wins'] = at_wins[:, h]\n",
    "\n",
    "    # create scoreboard\n",
    "    ht_perf = df_int_test.groupby(['SEASON_ID_x', 'HOME_TEAM_ABB'])[['ht_wins']].sum().reset_index()\n",
    "    at_perf = df_int_test.groupby(['SEASON_ID_x', 'AWAY_TEAM_ABB'])[['at_wins']].sum().reset_index()\n",
    "\n",
    "    # merge\n",
    "    perf = pd.merge(ht_perf, at_perf, left_on=['SEASON_ID_x', 'HOME_TEAM_ABB'], right_on=['SEASON_ID_x', 'AWAY_TEAM_ABB'])\n",
    "    perf['WINS'] = perf['ht_wins'] + perf['at_wins']\n",
    "    perf = perf.drop(['HOME_TEAM_ABB', 'ht_wins', 'at_wins'], axis=1)\n",
    "    perf = perf.sort_values('WINS', ascending=False)\n",
    "    \n",
    "    # create rank\n",
    "    perf['RANK'] = perf['WINS'].rank(ascending=False)\n",
    "    \n",
    "    # store history number\n",
    "    perf['HISTORY'] = h\n",
    "    \n",
    "    # append\n",
    "    list_history.append(perf)\n",
    "\n",
    "performance_tmp = pd.concat(list_history)"
   ]
  },
  {
   "cell_type": "code",
   "execution_count": 1030,
   "id": "09f4c285-e5e8-49f0-a7c7-e11e50fb739d",
   "metadata": {},
   "outputs": [],
   "source": [
    "team_conference = pd.read_csv(\"./data/data_assets/team_conference.csv\", delimiter=\"\\t\")"
   ]
  },
  {
   "cell_type": "code",
   "execution_count": 1031,
   "id": "34c72ef3-d1f3-4ee8-8d31-dc673fb4f3a1",
   "metadata": {},
   "outputs": [],
   "source": [
    "performance = pd.merge(performance_tmp, team_conference, left_on=\"AWAY_TEAM_ABB\", right_on=\"TEAM_ABBREVIATION\", how='left')\n",
    "performance['CONF_RANK'] = performance.groupby(['CONFERENCE', 'HISTORY'])['WINS'].rank(ascending=False)"
   ]
  },
  {
   "cell_type": "code",
   "execution_count": 1032,
   "id": "009f97e2-7786-44ec-9ea3-11da16cf807f",
   "metadata": {
    "tags": []
   },
   "outputs": [
    {
     "data": {
      "image/png": "[encoded data removed]",
      "text/plain": [
       "<Figure size 1250x500 with 1 Axes>"
      ]
     },
     "metadata": {},
     "output_type": "display_data"
    }
   ],
   "source": [
    "# Find the order\n",
    "my_order = performance.groupby('AWAY_TEAM_ABB')[\"RANK\"].median().sort_values().index\n",
    "chart = sns.catplot(data=performance, x='AWAY_TEAM_ABB', y='RANK', order=my_order, kind='box', aspect=2.5, sharex=False)\n",
    "\n",
    "# edit axes\n",
    "plt.ylim(0, 31)\n",
    "plt.gca().invert_yaxis()\n",
    "\n",
    "plt.show()"
   ]
  },
  {
   "cell_type": "code",
   "execution_count": 1033,
   "id": "4caca0ed-1716-4b07-a9c1-2193f7943109",
   "metadata": {},
   "outputs": [
    {
     "data": {
      "image/png": "[encoded data removed]",
      "text/plain": [
       "<Figure size 1378.85x500 with 1 Axes>"
      ]
     },
     "metadata": {},
     "output_type": "display_data"
    }
   ],
   "source": [
    "# Find the order\n",
    "my_order = performance.groupby('AWAY_TEAM_ABB')[\"RANK\"].median().sort_values().index\n",
    "chart = sns.catplot(data=performance, x='AWAY_TEAM_ABB', y='CONF_RANK', hue='CONFERENCE', order=my_order, kind='box', aspect=2.5, sharex=False)\n",
    "\n",
    "# edit axes\n",
    "plt.ylim(0, 16)\n",
    "plt.gca().invert_yaxis()\n",
    "\n",
    "# play-in\n",
    "chart.axes[0][0].axhline(y = 7, color='blue', linewidth=2, alpha=.3)\n",
    "#chart.axes[1][0].axhline(y = 7, color='blue', linewidth=2, alpha=.3)\n",
    "\n",
    "chart.axes[0][0].axhline(y = 11, color='blue', linewidth=2, alpha=.3)\n",
    "#chart.axes[1][0].axhline(y = 11, color='blue', linewidth=2, alpha=.3)\n",
    "\n",
    "plt.show()"
   ]
  },
  {
   "cell_type": "code",
   "execution_count": 1034,
   "id": "96c639b6-ac66-436f-9d70-d5870db4a864",
   "metadata": {},
   "outputs": [
    {
     "data": {
      "image/png": "[encoded data removed]",
      "text/plain": [
       "<Figure size 500x500 with 1 Axes>"
      ]
     },
     "metadata": {},
     "output_type": "display_data"
    }
   ],
   "source": [
    "sns.displot(season_sim[1000, :])\n",
    "plt.show()"
   ]
  },
  {
   "cell_type": "code",
   "execution_count": 1035,
   "id": "9aa7d121-85e1-438c-9c66-ec31515041f0",
   "metadata": {},
   "outputs": [],
   "source": [
    "def create_scoreboard(df_int_test, prediction, prediction_trade):\n",
    "    \"\"\" creates wins and ranks teams\n",
    "    \"\"\"\n",
    "    \n",
    "    # insert prediction of PM\n",
    "    df_int_test['Prediction_PM'] = prediction\n",
    "    df_int_test['Prediction_Trade_PM'] = prediction_trade\n",
    "\n",
    "    # count out wins from home and away\n",
    "    df_int_test['WIN_HOME'] = np.where(df_int_test['PLUS_MINUS_y'] > 0, 1, 0)\n",
    "    df_int_test['WIN_AWAY'] = np.where(df_int_test['PLUS_MINUS_y'] > 0, 0, 1)\n",
    "\n",
    "    df_int_test['WIN_HOME_pred'] = np.where(df_int_test['Prediction_PM'] > 0, 1, 0)\n",
    "    df_int_test['WIN_AWAY_pred'] = np.where(df_int_test['Prediction_PM'] > 0, 0, 1)\n",
    "\n",
    "    df_int_test['WIN_HOME_trade'] = np.where(df_int_test['Prediction_Trade_PM'] > 0, 1, 0)\n",
    "    df_int_test['WIN_AWAY_trade'] = np.where(df_int_test['Prediction_Trade_PM'] > 0, 0, 1)\n",
    "    \n",
    "    # season performance from home and away perspective\n",
    "    season_performance_home = df_int_test.groupby(['SEASON_ID_x', 'HOME_TEAM_ABB'])[['WIN_HOME', 'WIN_HOME_pred', 'WIN_HOME_trade']].sum()\n",
    "    season_performance_away = df_int_test.groupby(['SEASON_ID_x', 'AWAY_TEAM_ABB'])[['WIN_AWAY', 'WIN_AWAY_pred', 'WIN_AWAY_trade']].sum()\n",
    "    season_performance_home.reset_index(inplace=True)\n",
    "    season_performance_away.reset_index(inplace=True)\n",
    "    \n",
    "    # merge together based on teams\n",
    "    season_performance_tmp = pd.merge(season_performance_home, season_performance_away, left_on=['SEASON_ID_x', 'HOME_TEAM_ABB'], right_on=['SEASON_ID_x', 'AWAY_TEAM_ABB'])\n",
    "\n",
    "    # add up home and away for the total\n",
    "    season_performance_tmp['WIN'] = season_performance_tmp['WIN_HOME'] + season_performance_tmp['WIN_AWAY']\n",
    "    season_performance_tmp['WIN_pred'] = season_performance_tmp['WIN_HOME_pred'] + season_performance_tmp['WIN_AWAY_pred']\n",
    "    season_performance_tmp['WIN_trade'] = season_performance_tmp['WIN_HOME_trade'] + season_performance_tmp['WIN_AWAY_trade']\n",
    "    season_performance_tmp['TEAM_ABBREVIATION'] = season_performance_tmp['HOME_TEAM_ABB']\n",
    "    \n",
    "    # compute the predicted change due to trade\n",
    "    season_performance_tmp['TRADE_CHANGE'] = season_performance_tmp['WIN_trade'] - season_performance_tmp['WIN_pred']\n",
    "    \n",
    "    # cosmetics\n",
    "    season_performance = season_performance_tmp.drop(['HOME_TEAM_ABB', 'AWAY_TEAM_ABB', 'WIN_HOME', 'WIN_HOME_pred', 'WIN_HOME_trade', 'WIN_AWAY', 'WIN_AWAY_pred', 'WIN_AWAY_trade'], axis=1)\n",
    "    season_performance = season_performance.rename(columns={'SEASON_ID_x':'SEASON_ID'})\n",
    "    \n",
    "    # rankings\n",
    "    season_performance['RANK'] = season_performance['WIN'].astype(int).rank(ascending=False)\n",
    "    season_performance['RANK_pred'] = season_performance['WIN_pred'].astype(int).rank(ascending=False)\n",
    "    season_performance['RANK_trade'] = season_performance['WIN_trade'].astype(int).rank(ascending=False)\n",
    "\n",
    "    # order after rank\n",
    "    season_performance = season_performance.sort_values(['SEASON_ID', 'RANK_pred'], ascending=True)\n",
    "    \n",
    "    return season_performance"
   ]
  },
  {
   "cell_type": "code",
   "execution_count": 1037,
   "id": "f5e67e56-2aad-4447-bbd6-91c513a03721",
   "metadata": {
    "tags": []
   },
   "outputs": [
    {
     "data": {
      "text/html": [
       "<div>\n",
       "<style scoped>\n",
       "    .dataframe tbody tr th:only-of-type {\n",
       "        vertical-align: middle;\n",
       "    }\n",
       "\n",
       "    .dataframe tbody tr th {\n",
       "        vertical-align: top;\n",
       "    }\n",
       "\n",
       "    .dataframe thead th {\n",
       "        text-align: right;\n",
       "    }\n",
       "</style>\n",
       "<table border=\"1\" class=\"dataframe\">\n",
       "  <thead>\n",
       "    <tr style=\"text-align: right;\">\n",
       "      <th></th>\n",
       "      <th>SEASON_ID</th>\n",
       "      <th>WIN</th>\n",
       "      <th>WIN_pred</th>\n",
       "      <th>WIN_trade</th>\n",
       "      <th>TEAM_ABBREVIATION</th>\n",
       "      <th>TRADE_CHANGE</th>\n",
       "      <th>RANK</th>\n",
       "      <th>RANK_pred</th>\n",
       "      <th>RANK_trade</th>\n",
       "    </tr>\n",
       "  </thead>\n",
       "  <tbody>\n",
       "    <tr>\n",
       "      <th>28</th>\n",
       "      <td>22020</td>\n",
       "      <td>52</td>\n",
       "      <td>69</td>\n",
       "      <td>69</td>\n",
       "      <td>UTA</td>\n",
       "      <td>0</td>\n",
       "      <td>1.0</td>\n",
       "      <td>1.0</td>\n",
       "      <td>1.0</td>\n",
       "    </tr>\n",
       "    <tr>\n",
       "      <th>12</th>\n",
       "      <td>22020</td>\n",
       "      <td>47</td>\n",
       "      <td>65</td>\n",
       "      <td>65</td>\n",
       "      <td>LAC</td>\n",
       "      <td>0</td>\n",
       "      <td>5.0</td>\n",
       "      <td>2.0</td>\n",
       "      <td>2.0</td>\n",
       "    </tr>\n",
       "    <tr>\n",
       "      <th>23</th>\n",
       "      <td>22020</td>\n",
       "      <td>51</td>\n",
       "      <td>59</td>\n",
       "      <td>60</td>\n",
       "      <td>PHX</td>\n",
       "      <td>1</td>\n",
       "      <td>2.0</td>\n",
       "      <td>3.0</td>\n",
       "      <td>3.0</td>\n",
       "    </tr>\n",
       "    <tr>\n",
       "      <th>16</th>\n",
       "      <td>22020</td>\n",
       "      <td>46</td>\n",
       "      <td>58</td>\n",
       "      <td>58</td>\n",
       "      <td>MIL</td>\n",
       "      <td>0</td>\n",
       "      <td>7.0</td>\n",
       "      <td>4.5</td>\n",
       "      <td>4.5</td>\n",
       "    </tr>\n",
       "    <tr>\n",
       "      <th>22</th>\n",
       "      <td>22020</td>\n",
       "      <td>49</td>\n",
       "      <td>58</td>\n",
       "      <td>58</td>\n",
       "      <td>PHI</td>\n",
       "      <td>0</td>\n",
       "      <td>3.0</td>\n",
       "      <td>4.5</td>\n",
       "      <td>4.5</td>\n",
       "    </tr>\n",
       "    <tr>\n",
       "      <th>1</th>\n",
       "      <td>22020</td>\n",
       "      <td>47</td>\n",
       "      <td>56</td>\n",
       "      <td>56</td>\n",
       "      <td>BKN</td>\n",
       "      <td>0</td>\n",
       "      <td>5.0</td>\n",
       "      <td>6.0</td>\n",
       "      <td>6.0</td>\n",
       "    </tr>\n",
       "    <tr>\n",
       "      <th>14</th>\n",
       "      <td>22020</td>\n",
       "      <td>38</td>\n",
       "      <td>48</td>\n",
       "      <td>48</td>\n",
       "      <td>MEM</td>\n",
       "      <td>0</td>\n",
       "      <td>15.0</td>\n",
       "      <td>7.0</td>\n",
       "      <td>7.0</td>\n",
       "    </tr>\n",
       "    <tr>\n",
       "      <th>0</th>\n",
       "      <td>22020</td>\n",
       "      <td>41</td>\n",
       "      <td>47</td>\n",
       "      <td>47</td>\n",
       "      <td>ATL</td>\n",
       "      <td>0</td>\n",
       "      <td>11.5</td>\n",
       "      <td>8.0</td>\n",
       "      <td>8.0</td>\n",
       "    </tr>\n",
       "    <tr>\n",
       "      <th>2</th>\n",
       "      <td>22020</td>\n",
       "      <td>36</td>\n",
       "      <td>46</td>\n",
       "      <td>46</td>\n",
       "      <td>BOS</td>\n",
       "      <td>0</td>\n",
       "      <td>16.0</td>\n",
       "      <td>9.5</td>\n",
       "      <td>9.5</td>\n",
       "    </tr>\n",
       "    <tr>\n",
       "      <th>13</th>\n",
       "      <td>22020</td>\n",
       "      <td>42</td>\n",
       "      <td>46</td>\n",
       "      <td>44</td>\n",
       "      <td>LAL</td>\n",
       "      <td>-2</td>\n",
       "      <td>9.0</td>\n",
       "      <td>9.5</td>\n",
       "      <td>12.5</td>\n",
       "    </tr>\n",
       "    <tr>\n",
       "      <th>6</th>\n",
       "      <td>22020</td>\n",
       "      <td>42</td>\n",
       "      <td>45</td>\n",
       "      <td>46</td>\n",
       "      <td>DAL</td>\n",
       "      <td>1</td>\n",
       "      <td>9.0</td>\n",
       "      <td>11.5</td>\n",
       "      <td>9.5</td>\n",
       "    </tr>\n",
       "    <tr>\n",
       "      <th>7</th>\n",
       "      <td>22020</td>\n",
       "      <td>47</td>\n",
       "      <td>45</td>\n",
       "      <td>45</td>\n",
       "      <td>DEN</td>\n",
       "      <td>0</td>\n",
       "      <td>5.0</td>\n",
       "      <td>11.5</td>\n",
       "      <td>11.0</td>\n",
       "    </tr>\n",
       "    <tr>\n",
       "      <th>24</th>\n",
       "      <td>22020</td>\n",
       "      <td>42</td>\n",
       "      <td>44</td>\n",
       "      <td>44</td>\n",
       "      <td>POR</td>\n",
       "      <td>0</td>\n",
       "      <td>9.0</td>\n",
       "      <td>13.0</td>\n",
       "      <td>12.5</td>\n",
       "    </tr>\n",
       "    <tr>\n",
       "      <th>9</th>\n",
       "      <td>22020</td>\n",
       "      <td>39</td>\n",
       "      <td>43</td>\n",
       "      <td>43</td>\n",
       "      <td>GSW</td>\n",
       "      <td>0</td>\n",
       "      <td>14.0</td>\n",
       "      <td>14.0</td>\n",
       "      <td>14.0</td>\n",
       "    </tr>\n",
       "    <tr>\n",
       "      <th>19</th>\n",
       "      <td>22020</td>\n",
       "      <td>41</td>\n",
       "      <td>41</td>\n",
       "      <td>41</td>\n",
       "      <td>NYK</td>\n",
       "      <td>0</td>\n",
       "      <td>11.5</td>\n",
       "      <td>15.0</td>\n",
       "      <td>15.0</td>\n",
       "    </tr>\n",
       "    <tr>\n",
       "      <th>15</th>\n",
       "      <td>22020</td>\n",
       "      <td>40</td>\n",
       "      <td>39</td>\n",
       "      <td>39</td>\n",
       "      <td>MIA</td>\n",
       "      <td>0</td>\n",
       "      <td>13.0</td>\n",
       "      <td>16.0</td>\n",
       "      <td>16.0</td>\n",
       "    </tr>\n",
       "    <tr>\n",
       "      <th>11</th>\n",
       "      <td>22020</td>\n",
       "      <td>34</td>\n",
       "      <td>36</td>\n",
       "      <td>37</td>\n",
       "      <td>IND</td>\n",
       "      <td>1</td>\n",
       "      <td>17.5</td>\n",
       "      <td>17.0</td>\n",
       "      <td>17.0</td>\n",
       "    </tr>\n",
       "    <tr>\n",
       "      <th>18</th>\n",
       "      <td>22020</td>\n",
       "      <td>31</td>\n",
       "      <td>32</td>\n",
       "      <td>32</td>\n",
       "      <td>NOP</td>\n",
       "      <td>0</td>\n",
       "      <td>22.0</td>\n",
       "      <td>18.0</td>\n",
       "      <td>18.0</td>\n",
       "    </tr>\n",
       "    <tr>\n",
       "      <th>27</th>\n",
       "      <td>22020</td>\n",
       "      <td>27</td>\n",
       "      <td>31</td>\n",
       "      <td>31</td>\n",
       "      <td>TOR</td>\n",
       "      <td>0</td>\n",
       "      <td>24.0</td>\n",
       "      <td>19.0</td>\n",
       "      <td>19.0</td>\n",
       "    </tr>\n",
       "    <tr>\n",
       "      <th>4</th>\n",
       "      <td>22020</td>\n",
       "      <td>31</td>\n",
       "      <td>28</td>\n",
       "      <td>27</td>\n",
       "      <td>CHI</td>\n",
       "      <td>-1</td>\n",
       "      <td>22.0</td>\n",
       "      <td>20.0</td>\n",
       "      <td>20.5</td>\n",
       "    </tr>\n",
       "    <tr>\n",
       "      <th>3</th>\n",
       "      <td>22020</td>\n",
       "      <td>33</td>\n",
       "      <td>27</td>\n",
       "      <td>27</td>\n",
       "      <td>CHA</td>\n",
       "      <td>0</td>\n",
       "      <td>19.5</td>\n",
       "      <td>21.0</td>\n",
       "      <td>20.5</td>\n",
       "    </tr>\n",
       "    <tr>\n",
       "      <th>29</th>\n",
       "      <td>22020</td>\n",
       "      <td>34</td>\n",
       "      <td>26</td>\n",
       "      <td>26</td>\n",
       "      <td>WAS</td>\n",
       "      <td>0</td>\n",
       "      <td>17.5</td>\n",
       "      <td>22.0</td>\n",
       "      <td>22.0</td>\n",
       "    </tr>\n",
       "    <tr>\n",
       "      <th>25</th>\n",
       "      <td>22020</td>\n",
       "      <td>31</td>\n",
       "      <td>22</td>\n",
       "      <td>22</td>\n",
       "      <td>SAC</td>\n",
       "      <td>0</td>\n",
       "      <td>22.0</td>\n",
       "      <td>23.0</td>\n",
       "      <td>23.0</td>\n",
       "    </tr>\n",
       "    <tr>\n",
       "      <th>26</th>\n",
       "      <td>22020</td>\n",
       "      <td>33</td>\n",
       "      <td>21</td>\n",
       "      <td>21</td>\n",
       "      <td>SAS</td>\n",
       "      <td>0</td>\n",
       "      <td>19.5</td>\n",
       "      <td>24.0</td>\n",
       "      <td>24.0</td>\n",
       "    </tr>\n",
       "    <tr>\n",
       "      <th>17</th>\n",
       "      <td>22020</td>\n",
       "      <td>23</td>\n",
       "      <td>15</td>\n",
       "      <td>15</td>\n",
       "      <td>MIN</td>\n",
       "      <td>0</td>\n",
       "      <td>25.0</td>\n",
       "      <td>25.0</td>\n",
       "      <td>25.0</td>\n",
       "    </tr>\n",
       "    <tr>\n",
       "      <th>8</th>\n",
       "      <td>22020</td>\n",
       "      <td>20</td>\n",
       "      <td>12</td>\n",
       "      <td>12</td>\n",
       "      <td>DET</td>\n",
       "      <td>0</td>\n",
       "      <td>29.0</td>\n",
       "      <td>26.0</td>\n",
       "      <td>26.0</td>\n",
       "    </tr>\n",
       "    <tr>\n",
       "      <th>10</th>\n",
       "      <td>22020</td>\n",
       "      <td>17</td>\n",
       "      <td>9</td>\n",
       "      <td>9</td>\n",
       "      <td>HOU</td>\n",
       "      <td>0</td>\n",
       "      <td>30.0</td>\n",
       "      <td>27.0</td>\n",
       "      <td>27.0</td>\n",
       "    </tr>\n",
       "    <tr>\n",
       "      <th>21</th>\n",
       "      <td>22020</td>\n",
       "      <td>21</td>\n",
       "      <td>6</td>\n",
       "      <td>6</td>\n",
       "      <td>ORL</td>\n",
       "      <td>0</td>\n",
       "      <td>28.0</td>\n",
       "      <td>28.0</td>\n",
       "      <td>28.0</td>\n",
       "    </tr>\n",
       "    <tr>\n",
       "      <th>20</th>\n",
       "      <td>22020</td>\n",
       "      <td>22</td>\n",
       "      <td>3</td>\n",
       "      <td>3</td>\n",
       "      <td>OKC</td>\n",
       "      <td>0</td>\n",
       "      <td>26.5</td>\n",
       "      <td>29.0</td>\n",
       "      <td>29.0</td>\n",
       "    </tr>\n",
       "    <tr>\n",
       "      <th>5</th>\n",
       "      <td>22020</td>\n",
       "      <td>22</td>\n",
       "      <td>2</td>\n",
       "      <td>2</td>\n",
       "      <td>CLE</td>\n",
       "      <td>0</td>\n",
       "      <td>26.5</td>\n",
       "      <td>30.0</td>\n",
       "      <td>30.0</td>\n",
       "    </tr>\n",
       "  </tbody>\n",
       "</table>\n",
       "</div>"
      ],
      "text/plain": [
       "    SEASON_ID  WIN  WIN_pred  WIN_trade TEAM_ABBREVIATION  TRADE_CHANGE  RANK  \\\n",
       "28      22020   52        69         69               UTA             0   1.0   \n",
       "12      22020   47        65         65               LAC             0   5.0   \n",
       "23      22020   51        59         60               PHX             1   2.0   \n",
       "16      22020   46        58         58               MIL             0   7.0   \n",
       "22      22020   49        58         58               PHI             0   3.0   \n",
       "1       22020   47        56         56               BKN             0   5.0   \n",
       "14      22020   38        48         48               MEM             0  15.0   \n",
       "0       22020   41        47         47               ATL             0  11.5   \n",
       "2       22020   36        46         46               BOS             0  16.0   \n",
       "13      22020   42        46         44               LAL            -2   9.0   \n",
       "6       22020   42        45         46               DAL             1   9.0   \n",
       "7       22020   47        45         45               DEN             0   5.0   \n",
       "24      22020   42        44         44               POR             0   9.0   \n",
       "9       22020   39        43         43               GSW             0  14.0   \n",
       "19      22020   41        41         41               NYK             0  11.5   \n",
       "15      22020   40        39         39               MIA             0  13.0   \n",
       "11      22020   34        36         37               IND             1  17.5   \n",
       "18      22020   31        32         32               NOP             0  22.0   \n",
       "27      22020   27        31         31               TOR             0  24.0   \n",
       "4       22020   31        28         27               CHI            -1  22.0   \n",
       "3       22020   33        27         27               CHA             0  19.5   \n",
       "29      22020   34        26         26               WAS             0  17.5   \n",
       "25      22020   31        22         22               SAC             0  22.0   \n",
       "26      22020   33        21         21               SAS             0  19.5   \n",
       "17      22020   23        15         15               MIN             0  25.0   \n",
       "8       22020   20        12         12               DET             0  29.0   \n",
       "10      22020   17         9          9               HOU             0  30.0   \n",
       "21      22020   21         6          6               ORL             0  28.0   \n",
       "20      22020   22         3          3               OKC             0  26.5   \n",
       "5       22020   22         2          2               CLE             0  26.5   \n",
       "\n",
       "    RANK_pred  RANK_trade  \n",
       "28        1.0         1.0  \n",
       "12        2.0         2.0  \n",
       "23        3.0         3.0  \n",
       "16        4.5         4.5  \n",
       "22        4.5         4.5  \n",
       "1         6.0         6.0  \n",
       "14        7.0         7.0  \n",
       "0         8.0         8.0  \n",
       "2         9.5         9.5  \n",
       "13        9.5        12.5  \n",
       "6        11.5         9.5  \n",
       "7        11.5        11.0  \n",
       "24       13.0        12.5  \n",
       "9        14.0        14.0  \n",
       "19       15.0        15.0  \n",
       "15       16.0        16.0  \n",
       "11       17.0        17.0  \n",
       "18       18.0        18.0  \n",
       "27       19.0        19.0  \n",
       "4        20.0        20.5  \n",
       "3        21.0        20.5  \n",
       "29       22.0        22.0  \n",
       "25       23.0        23.0  \n",
       "26       24.0        24.0  \n",
       "17       25.0        25.0  \n",
       "8        26.0        26.0  \n",
       "10       27.0        27.0  \n",
       "21       28.0        28.0  \n",
       "20       29.0        29.0  \n",
       "5        30.0        30.0  "
      ]
     },
     "execution_count": 1037,
     "metadata": {},
     "output_type": "execute_result"
    }
   ],
   "source": [
    "import warnings\n",
    "warnings.filterwarnings(\"ignore\")\n",
    "\n",
    "# simulate a season\n",
    "one_season = simulate_one_season(mean_predicted=mean_plus_minus_pred, sigma_predicted=sigma_plus_minus_pred, n_sim=10000, all_games=False)\n",
    "\n",
    "# create and show its scoreboard\n",
    "scoreboard = create_scoreboard(df_int_test, mean_plus_minus_pred, mean_plus_minus_trade)\n",
    "scoreboard"
   ]
  },
  {
   "cell_type": "code",
   "execution_count": 994,
   "id": "6d63f139-328e-420c-87c0-2efe17c9c80b",
   "metadata": {},
   "outputs": [],
   "source": [
    "scoreboard = pd.merge(scoreboard, team_conference)\n",
    "\n",
    "west = scoreboard[scoreboard['CONFERENCE'] == 'WEST']\n",
    "east = scoreboard[scoreboard['CONFERENCE'] == 'EAST']\n",
    "\n",
    "west['RANK_CONF'] = west['RANK'].rank(ascending=True)\n",
    "east['RANK_CONF'] = east['RANK'].rank(ascending=True)\n",
    "\n",
    "west = west.sort_values(\"RANK_CONF\")\n",
    "east = east.sort_values(\"RANK_CONF\")"
   ]
  },
  {
   "cell_type": "code",
   "execution_count": 863,
   "id": "4a690e60-1806-49df-ac47-bee937c4895f",
   "metadata": {},
   "outputs": [],
   "source": [
    "away_court = playoff['TEAM_ABBREVIATION'][4:8]\n",
    "home_court = playoff['TEAM_ABBREVIATION'][:4]"
   ]
  },
  {
   "cell_type": "code",
   "execution_count": 999,
   "id": "08a85420-f1ee-4689-b3d9-b01a925b49d6",
   "metadata": {},
   "outputs": [
    {
     "data": {
      "image/png": "[encoded data removed]",
      "text/plain": [
       "<Figure size 1500x500 with 1 Axes>"
      ]
     },
     "metadata": {},
     "output_type": "display_data"
    }
   ],
   "source": [
    "sns.scatterplot(data=season_performance, x=\"WIN\", y=\"WIN_pred\", hue=\"TRADE_CHANGE\", palette='coolwarm')\n",
    "plt.show()"
   ]
  },
  {
   "cell_type": "code",
   "execution_count": 1000,
   "id": "addb6886-730f-4101-afb3-b10ee29a66bc",
   "metadata": {
    "tags": []
   },
   "outputs": [
    {
     "data": {
      "text/plain": [
       "0.5231587935182311"
      ]
     },
     "execution_count": 1000,
     "metadata": {},
     "output_type": "execute_result"
    }
   ],
   "source": [
    "from sklearn.ensemble import RandomForestRegressor\n",
    "from sklearn.linear_model import LinearRegression\n",
    "from sklearn.linear_model import Ridge\n",
    "\n",
    "# estimate ridge\n",
    "ridge = Ridge(alpha=1e-3)\n",
    "ridge.fit(X_train, y_train)\n",
    "\n",
    "# estimate OLS\n",
    "ols = LinearRegression()\n",
    "ols.fit(X_train, y_train)\n",
    "\n",
    "# estiamte RF\n",
    "regr = RandomForestRegressor(max_depth=20, random_state=0, oob_score=True, n_estimators=200)\n",
    "regr.fit(X_train, y_train)\n",
    "\n",
    "# test set scores\n",
    "pred_rf = regr.predict(X_test)\n",
    "pred_ols = ols.predict(X_test)\n",
    "pred_ridge = ridge.predict(X_test)\n",
    "\n",
    "trade_ols = ols.predict(X_trade)\n",
    "\n",
    "ridge.score(X, y)\n",
    "regr.score(X, y)"
   ]
  },
  {
   "cell_type": "code",
   "execution_count": 1001,
   "id": "3827dcf7-55f1-438d-9f86-755ca6e4de6e",
   "metadata": {},
   "outputs": [
    {
     "data": {
      "text/plain": [
       "array([-1.61888707,  1.45972507,  7.39245643, ..., -6.21228015,\n",
       "       -3.79153824,  7.86319873])"
      ]
     },
     "execution_count": 1001,
     "metadata": {},
     "output_type": "execute_result"
    }
   ],
   "source": [
    "trade_ols"
   ]
  },
  {
   "cell_type": "code",
   "execution_count": 88,
   "id": "e03c6926-3df5-4f84-bcaf-64be1415fbb0",
   "metadata": {},
   "outputs": [
    {
     "data": {
      "text/html": [
       "<div>\n",
       "<style scoped>\n",
       "    .dataframe tbody tr th:only-of-type {\n",
       "        vertical-align: middle;\n",
       "    }\n",
       "\n",
       "    .dataframe tbody tr th {\n",
       "        vertical-align: top;\n",
       "    }\n",
       "\n",
       "    .dataframe thead th {\n",
       "        text-align: right;\n",
       "    }\n",
       "</style>\n",
       "<table border=\"1\" class=\"dataframe\">\n",
       "  <thead>\n",
       "    <tr style=\"text-align: right;\">\n",
       "      <th></th>\n",
       "      <th>Coef</th>\n",
       "      <th>Feature</th>\n",
       "    </tr>\n",
       "  </thead>\n",
       "  <tbody>\n",
       "    <tr>\n",
       "      <th>13</th>\n",
       "      <td>1.162357</td>\n",
       "      <td>BENCH_DEPTH_AWAY</td>\n",
       "    </tr>\n",
       "    <tr>\n",
       "      <th>6</th>\n",
       "      <td>0.380692</td>\n",
       "      <td>BENCH_DEPTH_HOME</td>\n",
       "    </tr>\n",
       "    <tr>\n",
       "      <th>11</th>\n",
       "      <td>-1.140776</td>\n",
       "      <td>CENTER_AWAY_1</td>\n",
       "    </tr>\n",
       "    <tr>\n",
       "      <th>4</th>\n",
       "      <td>0.590233</td>\n",
       "      <td>CENTER_HOME_1</td>\n",
       "    </tr>\n",
       "    <tr>\n",
       "      <th>9</th>\n",
       "      <td>-1.009055</td>\n",
       "      <td>FORWARD_AWAY_1</td>\n",
       "    </tr>\n",
       "    <tr>\n",
       "      <th>10</th>\n",
       "      <td>-0.637083</td>\n",
       "      <td>FORWARD_AWAY_2</td>\n",
       "    </tr>\n",
       "    <tr>\n",
       "      <th>2</th>\n",
       "      <td>0.964359</td>\n",
       "      <td>FORWARD_HOME_1</td>\n",
       "    </tr>\n",
       "    <tr>\n",
       "      <th>3</th>\n",
       "      <td>0.970601</td>\n",
       "      <td>FORWARD_HOME_2</td>\n",
       "    </tr>\n",
       "    <tr>\n",
       "      <th>7</th>\n",
       "      <td>-0.757714</td>\n",
       "      <td>GUARD_AWAY_1</td>\n",
       "    </tr>\n",
       "    <tr>\n",
       "      <th>8</th>\n",
       "      <td>-0.817910</td>\n",
       "      <td>GUARD_AWAY_2</td>\n",
       "    </tr>\n",
       "    <tr>\n",
       "      <th>0</th>\n",
       "      <td>1.239308</td>\n",
       "      <td>GUARD_HOME_1</td>\n",
       "    </tr>\n",
       "    <tr>\n",
       "      <th>1</th>\n",
       "      <td>0.821814</td>\n",
       "      <td>GUARD_HOME_2</td>\n",
       "    </tr>\n",
       "    <tr>\n",
       "      <th>12</th>\n",
       "      <td>-3.236397</td>\n",
       "      <td>SIXTH_AWAY_1</td>\n",
       "    </tr>\n",
       "    <tr>\n",
       "      <th>5</th>\n",
       "      <td>2.934724</td>\n",
       "      <td>SIXTH_HOME_1</td>\n",
       "    </tr>\n",
       "  </tbody>\n",
       "</table>\n",
       "</div>"
      ],
      "text/plain": [
       "        Coef           Feature\n",
       "13  1.162357  BENCH_DEPTH_AWAY\n",
       "6   0.380692  BENCH_DEPTH_HOME\n",
       "11 -1.140776     CENTER_AWAY_1\n",
       "4   0.590233     CENTER_HOME_1\n",
       "9  -1.009055    FORWARD_AWAY_1\n",
       "10 -0.637083    FORWARD_AWAY_2\n",
       "2   0.964359    FORWARD_HOME_1\n",
       "3   0.970601    FORWARD_HOME_2\n",
       "7  -0.757714      GUARD_AWAY_1\n",
       "8  -0.817910      GUARD_AWAY_2\n",
       "0   1.239308      GUARD_HOME_1\n",
       "1   0.821814      GUARD_HOME_2\n",
       "12 -3.236397      SIXTH_AWAY_1\n",
       "5   2.934724      SIXTH_HOME_1"
      ]
     },
     "execution_count": 88,
     "metadata": {},
     "output_type": "execute_result"
    }
   ],
   "source": [
    "df_coef = pd.DataFrame({'Coef':ols.coef_,'Feature':features_names})\n",
    "df_coef.sort_values(['Feature'])"
   ]
  },
  {
   "cell_type": "code",
   "execution_count": 89,
   "id": "78db26fb-4151-407a-8d0e-556b1497d1bb",
   "metadata": {},
   "outputs": [
    {
     "data": {
      "text/plain": [
       "(10.775789064476921, 10.557177339499964, 10.557176430068411)"
      ]
     },
     "execution_count": 89,
     "metadata": {},
     "output_type": "execute_result"
    }
   ],
   "source": [
    "from sklearn.metrics import mean_absolute_error\n",
    "mean_absolute_error(pred_rf, y_test), mean_absolute_error(pred_ols, y_test), mean_absolute_error(pred_ridge, y_test)"
   ]
  },
  {
   "cell_type": "code",
   "execution_count": 90,
   "id": "ba43246c-8ff7-419b-8eea-827dcbf569f6",
   "metadata": {},
   "outputs": [
    {
     "data": {
      "image/png": "[encoded data removed]",
      "text/plain": [
       "<Figure size 640x480 with 1 Axes>"
      ]
     },
     "metadata": {},
     "output_type": "display_data"
    },
    {
     "name": "stdout",
     "output_type": "stream",
     "text": [
      "\t \t \t Tendency correct for 65.99 %\n"
     ]
    }
   ],
   "source": [
    "plot_data = pd.DataFrame(data={'True':y_test, 'Prediction':pred_ols})\n",
    "plot_data['Tendency'] = plot_data['True'] * plot_data['Prediction'] > 0\n",
    "sns.set_style(\"whitegrid\")\n",
    "sns.scatterplot(data=plot_data, x='True', y='Prediction', hue='Tendency')\n",
    "plt.show()\n",
    "print(f'\\t \\t \\t Tendency correct for {np.round(np.mean(plot_data.Tendency) * 100, 2)} %')"
   ]
  },
  {
   "cell_type": "markdown",
   "id": "46bb1033-2d18-47b3-b107-8f280c7567a9",
   "metadata": {},
   "source": [
    "For 1:2 split, it is up to 70% i.e. need more data probably"
   ]
  },
  {
   "cell_type": "code",
   "execution_count": 855,
   "id": "c8d612b1-6e34-414e-9b2b-35f8ebda650c",
   "metadata": {},
   "outputs": [],
   "source": [
    "season_prediction = df_int_test.copy()\n",
    "season_prediction.loc[:, 'pred'] = pred_ols\n",
    "season_prediction.loc[:, 'y_true'] = y_test\n",
    "\n",
    "season_prediction['pred_win'] = season_prediction['pred'] > 0\n",
    "season_prediction['true_win'] = season_prediction['PLUS_MINUS_y'] > 0\n",
    "\n",
    "season_prediction['pred_eq_true'] = season_prediction['pred_win'] == season_prediction['true_win']"
   ]
  },
  {
   "cell_type": "code",
   "execution_count": 856,
   "id": "deb3f1ca-09c9-49ec-8768-56ccb8d40374",
   "metadata": {},
   "outputs": [
    {
     "data": {
      "text/plain": [
       "0.659870250231696"
      ]
     },
     "execution_count": 856,
     "metadata": {},
     "output_type": "execute_result"
    }
   ],
   "source": [
    "season_prediction['pred_eq_true'].mean()"
   ]
  },
  {
   "cell_type": "code",
   "execution_count": 848,
   "id": "e75266a2-092a-4a9a-9b38-2ad98dd5bfa1",
   "metadata": {},
   "outputs": [
    {
     "data": {
      "text/plain": [
       "0.659870250231696"
      ]
     },
     "execution_count": 848,
     "metadata": {},
     "output_type": "execute_result"
    }
   ],
   "source": [
    "from sklearn.metrics import accuracy_score\n",
    "accuracy_score(season_prediction['true_win'], season_prediction['pred_win'])"
   ]
  },
  {
   "cell_type": "code",
   "execution_count": 857,
   "id": "f913dc27-7939-464f-92fb-68c8e0be2c15",
   "metadata": {},
   "outputs": [
    {
     "data": {
      "text/html": [
       "<div>\n",
       "<style scoped>\n",
       "    .dataframe tbody tr th:only-of-type {\n",
       "        vertical-align: middle;\n",
       "    }\n",
       "\n",
       "    .dataframe tbody tr th {\n",
       "        vertical-align: top;\n",
       "    }\n",
       "\n",
       "    .dataframe thead th {\n",
       "        text-align: right;\n",
       "    }\n",
       "</style>\n",
       "<table border=\"1\" class=\"dataframe\">\n",
       "  <thead>\n",
       "    <tr style=\"text-align: right;\">\n",
       "      <th></th>\n",
       "      <th>Unnamed: 0</th>\n",
       "      <th>Unnamed: 0.1</th>\n",
       "      <th>SEASON_ID</th>\n",
       "      <th>TEAM_ID</th>\n",
       "      <th>TEAM_ABBREVIATION</th>\n",
       "      <th>TEAM_NAME</th>\n",
       "      <th>GAME_ID</th>\n",
       "      <th>GAME_DATE</th>\n",
       "      <th>MATCHUP</th>\n",
       "      <th>WL</th>\n",
       "      <th>...</th>\n",
       "      <th>FORWARD_AWAY_2</th>\n",
       "      <th>CENTER_AWAY_1</th>\n",
       "      <th>SIXTH_AWAY_1</th>\n",
       "      <th>BENCH_DEPTH_AWAY</th>\n",
       "      <th>PLUS_MINUS_y</th>\n",
       "      <th>pred</th>\n",
       "      <th>y_true</th>\n",
       "      <th>pred_win</th>\n",
       "      <th>true_win</th>\n",
       "      <th>pred_eq_true</th>\n",
       "    </tr>\n",
       "  </thead>\n",
       "  <tbody>\n",
       "    <tr>\n",
       "      <th>2121</th>\n",
       "      <td>3</td>\n",
       "      <td>3</td>\n",
       "      <td>22020</td>\n",
       "      <td>1610612747</td>\n",
       "      <td>LAL</td>\n",
       "      <td>Los Angeles Lakers</td>\n",
       "      <td>22000002</td>\n",
       "      <td>2020-12-22</td>\n",
       "      <td>LAL vs. LAC</td>\n",
       "      <td>L</td>\n",
       "      <td>...</td>\n",
       "      <td>2.04</td>\n",
       "      <td>0.45</td>\n",
       "      <td>0.018889</td>\n",
       "      <td>10.0</td>\n",
       "      <td>-7.0</td>\n",
       "      <td>0.923053</td>\n",
       "      <td>-7.0</td>\n",
       "      <td>True</td>\n",
       "      <td>False</td>\n",
       "      <td>False</td>\n",
       "    </tr>\n",
       "    <tr>\n",
       "      <th>2122</th>\n",
       "      <td>4</td>\n",
       "      <td>4</td>\n",
       "      <td>22020</td>\n",
       "      <td>1610612738</td>\n",
       "      <td>BOS</td>\n",
       "      <td>Boston Celtics</td>\n",
       "      <td>22000003</td>\n",
       "      <td>2020-12-23</td>\n",
       "      <td>BOS vs. MIL</td>\n",
       "      <td>W</td>\n",
       "      <td>...</td>\n",
       "      <td>2.17</td>\n",
       "      <td>1.63</td>\n",
       "      <td>-0.036000</td>\n",
       "      <td>11.0</td>\n",
       "      <td>1.0</td>\n",
       "      <td>2.741763</td>\n",
       "      <td>1.0</td>\n",
       "      <td>True</td>\n",
       "      <td>True</td>\n",
       "      <td>True</td>\n",
       "    </tr>\n",
       "    <tr>\n",
       "      <th>2124</th>\n",
       "      <td>18</td>\n",
       "      <td>18</td>\n",
       "      <td>22020</td>\n",
       "      <td>1610612756</td>\n",
       "      <td>PHX</td>\n",
       "      <td>Phoenix Suns</td>\n",
       "      <td>22000004</td>\n",
       "      <td>2020-12-23</td>\n",
       "      <td>PHX vs. DAL</td>\n",
       "      <td>W</td>\n",
       "      <td>...</td>\n",
       "      <td>1.81</td>\n",
       "      <td>1.29</td>\n",
       "      <td>0.081111</td>\n",
       "      <td>10.0</td>\n",
       "      <td>4.0</td>\n",
       "      <td>9.040516</td>\n",
       "      <td>4.0</td>\n",
       "      <td>True</td>\n",
       "      <td>True</td>\n",
       "      <td>True</td>\n",
       "    </tr>\n",
       "    <tr>\n",
       "      <th>2126</th>\n",
       "      <td>28</td>\n",
       "      <td>28</td>\n",
       "      <td>22020</td>\n",
       "      <td>1610612748</td>\n",
       "      <td>MIA</td>\n",
       "      <td>Miami Heat</td>\n",
       "      <td>22000005</td>\n",
       "      <td>2020-12-25</td>\n",
       "      <td>MIA vs. NOP</td>\n",
       "      <td>W</td>\n",
       "      <td>...</td>\n",
       "      <td>1.48</td>\n",
       "      <td>0.68</td>\n",
       "      <td>-0.037778</td>\n",
       "      <td>10.0</td>\n",
       "      <td>13.0</td>\n",
       "      <td>4.939564</td>\n",
       "      <td>13.0</td>\n",
       "      <td>True</td>\n",
       "      <td>True</td>\n",
       "      <td>True</td>\n",
       "    </tr>\n",
       "    <tr>\n",
       "      <th>2129</th>\n",
       "      <td>31</td>\n",
       "      <td>31</td>\n",
       "      <td>22020</td>\n",
       "      <td>1610612749</td>\n",
       "      <td>MIL</td>\n",
       "      <td>Milwaukee Bucks</td>\n",
       "      <td>22000006</td>\n",
       "      <td>2020-12-25</td>\n",
       "      <td>MIL vs. GSW</td>\n",
       "      <td>W</td>\n",
       "      <td>...</td>\n",
       "      <td>-1.11</td>\n",
       "      <td>-2.41</td>\n",
       "      <td>0.441250</td>\n",
       "      <td>9.0</td>\n",
       "      <td>39.0</td>\n",
       "      <td>11.803515</td>\n",
       "      <td>39.0</td>\n",
       "      <td>True</td>\n",
       "      <td>True</td>\n",
       "      <td>True</td>\n",
       "    </tr>\n",
       "    <tr>\n",
       "      <th>...</th>\n",
       "      <td>...</td>\n",
       "      <td>...</td>\n",
       "      <td>...</td>\n",
       "      <td>...</td>\n",
       "      <td>...</td>\n",
       "      <td>...</td>\n",
       "      <td>...</td>\n",
       "      <td>...</td>\n",
       "      <td>...</td>\n",
       "      <td>...</td>\n",
       "      <td>...</td>\n",
       "      <td>...</td>\n",
       "      <td>...</td>\n",
       "      <td>...</td>\n",
       "      <td>...</td>\n",
       "      <td>...</td>\n",
       "      <td>...</td>\n",
       "      <td>...</td>\n",
       "      <td>...</td>\n",
       "      <td>...</td>\n",
       "      <td>...</td>\n",
       "    </tr>\n",
       "    <tr>\n",
       "      <th>4268</th>\n",
       "      <td>2142</td>\n",
       "      <td>2142</td>\n",
       "      <td>22020</td>\n",
       "      <td>1610612757</td>\n",
       "      <td>POR</td>\n",
       "      <td>Portland Trail Blazers</td>\n",
       "      <td>22001076</td>\n",
       "      <td>2021-05-16</td>\n",
       "      <td>POR vs. DEN</td>\n",
       "      <td>W</td>\n",
       "      <td>...</td>\n",
       "      <td>1.12</td>\n",
       "      <td>1.77</td>\n",
       "      <td>-0.524444</td>\n",
       "      <td>10.0</td>\n",
       "      <td>16.0</td>\n",
       "      <td>6.181909</td>\n",
       "      <td>16.0</td>\n",
       "      <td>True</td>\n",
       "      <td>True</td>\n",
       "      <td>True</td>\n",
       "    </tr>\n",
       "    <tr>\n",
       "      <th>4270</th>\n",
       "      <td>2148</td>\n",
       "      <td>2148</td>\n",
       "      <td>22020</td>\n",
       "      <td>1610612758</td>\n",
       "      <td>SAC</td>\n",
       "      <td>Sacramento Kings</td>\n",
       "      <td>22001077</td>\n",
       "      <td>2021-05-16</td>\n",
       "      <td>SAC vs. UTA</td>\n",
       "      <td>L</td>\n",
       "      <td>...</td>\n",
       "      <td>3.03</td>\n",
       "      <td>4.51</td>\n",
       "      <td>-0.307000</td>\n",
       "      <td>11.0</td>\n",
       "      <td>-22.0</td>\n",
       "      <td>-9.182961</td>\n",
       "      <td>-22.0</td>\n",
       "      <td>False</td>\n",
       "      <td>False</td>\n",
       "      <td>True</td>\n",
       "    </tr>\n",
       "    <tr>\n",
       "      <th>4273</th>\n",
       "      <td>2135</td>\n",
       "      <td>2135</td>\n",
       "      <td>22020</td>\n",
       "      <td>1610612759</td>\n",
       "      <td>SAS</td>\n",
       "      <td>San Antonio Spurs</td>\n",
       "      <td>22001078</td>\n",
       "      <td>2021-05-16</td>\n",
       "      <td>SAS vs. PHX</td>\n",
       "      <td>L</td>\n",
       "      <td>...</td>\n",
       "      <td>-0.27</td>\n",
       "      <td>2.30</td>\n",
       "      <td>0.253750</td>\n",
       "      <td>9.0</td>\n",
       "      <td>-2.0</td>\n",
       "      <td>-7.824448</td>\n",
       "      <td>-2.0</td>\n",
       "      <td>False</td>\n",
       "      <td>False</td>\n",
       "      <td>True</td>\n",
       "    </tr>\n",
       "    <tr>\n",
       "      <th>4275</th>\n",
       "      <td>2155</td>\n",
       "      <td>2155</td>\n",
       "      <td>22020</td>\n",
       "      <td>1610612761</td>\n",
       "      <td>TOR</td>\n",
       "      <td>Toronto Raptors</td>\n",
       "      <td>22001079</td>\n",
       "      <td>2021-05-16</td>\n",
       "      <td>TOR vs. IND</td>\n",
       "      <td>L</td>\n",
       "      <td>...</td>\n",
       "      <td>0.89</td>\n",
       "      <td>-0.52</td>\n",
       "      <td>0.430000</td>\n",
       "      <td>8.0</td>\n",
       "      <td>-12.0</td>\n",
       "      <td>-4.289650</td>\n",
       "      <td>-12.0</td>\n",
       "      <td>False</td>\n",
       "      <td>False</td>\n",
       "      <td>True</td>\n",
       "    </tr>\n",
       "    <tr>\n",
       "      <th>4276</th>\n",
       "      <td>2152</td>\n",
       "      <td>2152</td>\n",
       "      <td>22020</td>\n",
       "      <td>1610612764</td>\n",
       "      <td>WAS</td>\n",
       "      <td>Washington Wizards</td>\n",
       "      <td>22001080</td>\n",
       "      <td>2021-05-16</td>\n",
       "      <td>WAS vs. CHA</td>\n",
       "      <td>W</td>\n",
       "      <td>...</td>\n",
       "      <td>-2.22</td>\n",
       "      <td>0.86</td>\n",
       "      <td>-0.277000</td>\n",
       "      <td>11.0</td>\n",
       "      <td>5.0</td>\n",
       "      <td>8.189418</td>\n",
       "      <td>5.0</td>\n",
       "      <td>True</td>\n",
       "      <td>True</td>\n",
       "      <td>True</td>\n",
       "    </tr>\n",
       "  </tbody>\n",
       "</table>\n",
       "<p>1079 rows × 53 columns</p>\n",
       "</div>"
      ],
      "text/plain": [
       "      Unnamed: 0  Unnamed: 0.1  SEASON_ID     TEAM_ID TEAM_ABBREVIATION  \\\n",
       "2121           3             3      22020  1610612747               LAL   \n",
       "2122           4             4      22020  1610612738               BOS   \n",
       "2124          18            18      22020  1610612756               PHX   \n",
       "2126          28            28      22020  1610612748               MIA   \n",
       "2129          31            31      22020  1610612749               MIL   \n",
       "...          ...           ...        ...         ...               ...   \n",
       "4268        2142          2142      22020  1610612757               POR   \n",
       "4270        2148          2148      22020  1610612758               SAC   \n",
       "4273        2135          2135      22020  1610612759               SAS   \n",
       "4275        2155          2155      22020  1610612761               TOR   \n",
       "4276        2152          2152      22020  1610612764               WAS   \n",
       "\n",
       "                   TEAM_NAME   GAME_ID   GAME_DATE      MATCHUP WL  ...  \\\n",
       "2121      Los Angeles Lakers  22000002  2020-12-22  LAL vs. LAC  L  ...   \n",
       "2122          Boston Celtics  22000003  2020-12-23  BOS vs. MIL  W  ...   \n",
       "2124            Phoenix Suns  22000004  2020-12-23  PHX vs. DAL  W  ...   \n",
       "2126              Miami Heat  22000005  2020-12-25  MIA vs. NOP  W  ...   \n",
       "2129         Milwaukee Bucks  22000006  2020-12-25  MIL vs. GSW  W  ...   \n",
       "...                      ...       ...         ...          ... ..  ...   \n",
       "4268  Portland Trail Blazers  22001076  2021-05-16  POR vs. DEN  W  ...   \n",
       "4270        Sacramento Kings  22001077  2021-05-16  SAC vs. UTA  L  ...   \n",
       "4273       San Antonio Spurs  22001078  2021-05-16  SAS vs. PHX  L  ...   \n",
       "4275         Toronto Raptors  22001079  2021-05-16  TOR vs. IND  L  ...   \n",
       "4276      Washington Wizards  22001080  2021-05-16  WAS vs. CHA  W  ...   \n",
       "\n",
       "      FORWARD_AWAY_2  CENTER_AWAY_1  SIXTH_AWAY_1  BENCH_DEPTH_AWAY  \\\n",
       "2121            2.04           0.45      0.018889              10.0   \n",
       "2122            2.17           1.63     -0.036000              11.0   \n",
       "2124            1.81           1.29      0.081111              10.0   \n",
       "2126            1.48           0.68     -0.037778              10.0   \n",
       "2129           -1.11          -2.41      0.441250               9.0   \n",
       "...              ...            ...           ...               ...   \n",
       "4268            1.12           1.77     -0.524444              10.0   \n",
       "4270            3.03           4.51     -0.307000              11.0   \n",
       "4273           -0.27           2.30      0.253750               9.0   \n",
       "4275            0.89          -0.52      0.430000               8.0   \n",
       "4276           -2.22           0.86     -0.277000              11.0   \n",
       "\n",
       "      PLUS_MINUS_y       pred  y_true  pred_win  true_win  pred_eq_true  \n",
       "2121          -7.0   0.923053    -7.0      True     False         False  \n",
       "2122           1.0   2.741763     1.0      True      True          True  \n",
       "2124           4.0   9.040516     4.0      True      True          True  \n",
       "2126          13.0   4.939564    13.0      True      True          True  \n",
       "2129          39.0  11.803515    39.0      True      True          True  \n",
       "...            ...        ...     ...       ...       ...           ...  \n",
       "4268          16.0   6.181909    16.0      True      True          True  \n",
       "4270         -22.0  -9.182961   -22.0     False     False          True  \n",
       "4273          -2.0  -7.824448    -2.0     False     False          True  \n",
       "4275         -12.0  -4.289650   -12.0     False     False          True  \n",
       "4276           5.0   8.189418     5.0      True      True          True  \n",
       "\n",
       "[1079 rows x 53 columns]"
      ]
     },
     "execution_count": 857,
     "metadata": {},
     "output_type": "execute_result"
    }
   ],
   "source": [
    "season_prediction"
   ]
  },
  {
   "cell_type": "code",
   "execution_count": 865,
   "id": "5f25533f-aab8-459c-b53b-cb14753afc93",
   "metadata": {},
   "outputs": [],
   "source": [
    "tmp = pd.DataFrame(season_prediction.groupby('TEAM_ID')['pred_win'].sum()).reset_index()\n",
    "tmp2 = pd.DataFrame(season_prediction.groupby('TEAM_ID')['true_win'].sum()).reset_index()\n",
    "\n",
    "predicted_season = pd.merge(tmp, tmp2)"
   ]
  },
  {
   "cell_type": "code",
   "execution_count": 874,
   "id": "2d991b19-a5dc-4c7a-9bfa-70a3e7be96f4",
   "metadata": {},
   "outputs": [
    {
     "data": {
      "text/html": [
       "<div>\n",
       "<style scoped>\n",
       "    .dataframe tbody tr th:only-of-type {\n",
       "        vertical-align: middle;\n",
       "    }\n",
       "\n",
       "    .dataframe tbody tr th {\n",
       "        vertical-align: top;\n",
       "    }\n",
       "\n",
       "    .dataframe thead th {\n",
       "        text-align: right;\n",
       "    }\n",
       "</style>\n",
       "<table border=\"1\" class=\"dataframe\">\n",
       "  <thead>\n",
       "    <tr style=\"text-align: right;\">\n",
       "      <th></th>\n",
       "      <th>index</th>\n",
       "      <th>TEAM_ID</th>\n",
       "      <th>pred_win</th>\n",
       "      <th>true_win</th>\n",
       "    </tr>\n",
       "  </thead>\n",
       "  <tbody>\n",
       "    <tr>\n",
       "      <th>0</th>\n",
       "      <td>0</td>\n",
       "      <td>1610612762</td>\n",
       "      <td>36</td>\n",
       "      <td>31</td>\n",
       "    </tr>\n",
       "    <tr>\n",
       "      <th>1</th>\n",
       "      <td>1</td>\n",
       "      <td>1610612755</td>\n",
       "      <td>35</td>\n",
       "      <td>29</td>\n",
       "    </tr>\n",
       "    <tr>\n",
       "      <th>2</th>\n",
       "      <td>2</td>\n",
       "      <td>1610612756</td>\n",
       "      <td>34</td>\n",
       "      <td>27</td>\n",
       "    </tr>\n",
       "    <tr>\n",
       "      <th>3</th>\n",
       "      <td>3</td>\n",
       "      <td>1610612751</td>\n",
       "      <td>31</td>\n",
       "      <td>27</td>\n",
       "    </tr>\n",
       "    <tr>\n",
       "      <th>4</th>\n",
       "      <td>4</td>\n",
       "      <td>1610612746</td>\n",
       "      <td>35</td>\n",
       "      <td>26</td>\n",
       "    </tr>\n",
       "    <tr>\n",
       "      <th>5</th>\n",
       "      <td>5</td>\n",
       "      <td>1610612749</td>\n",
       "      <td>34</td>\n",
       "      <td>26</td>\n",
       "    </tr>\n",
       "    <tr>\n",
       "      <th>6</th>\n",
       "      <td>6</td>\n",
       "      <td>1610612737</td>\n",
       "      <td>32</td>\n",
       "      <td>25</td>\n",
       "    </tr>\n",
       "    <tr>\n",
       "      <th>7</th>\n",
       "      <td>7</td>\n",
       "      <td>1610612752</td>\n",
       "      <td>30</td>\n",
       "      <td>25</td>\n",
       "    </tr>\n",
       "    <tr>\n",
       "      <th>8</th>\n",
       "      <td>8</td>\n",
       "      <td>1610612744</td>\n",
       "      <td>28</td>\n",
       "      <td>25</td>\n",
       "    </tr>\n",
       "    <tr>\n",
       "      <th>9</th>\n",
       "      <td>9</td>\n",
       "      <td>1610612743</td>\n",
       "      <td>31</td>\n",
       "      <td>25</td>\n",
       "    </tr>\n",
       "    <tr>\n",
       "      <th>10</th>\n",
       "      <td>10</td>\n",
       "      <td>1610612747</td>\n",
       "      <td>32</td>\n",
       "      <td>21</td>\n",
       "    </tr>\n",
       "    <tr>\n",
       "      <th>11</th>\n",
       "      <td>11</td>\n",
       "      <td>1610612748</td>\n",
       "      <td>31</td>\n",
       "      <td>21</td>\n",
       "    </tr>\n",
       "    <tr>\n",
       "      <th>12</th>\n",
       "      <td>12</td>\n",
       "      <td>1610612742</td>\n",
       "      <td>33</td>\n",
       "      <td>21</td>\n",
       "    </tr>\n",
       "    <tr>\n",
       "      <th>13</th>\n",
       "      <td>13</td>\n",
       "      <td>1610612738</td>\n",
       "      <td>34</td>\n",
       "      <td>21</td>\n",
       "    </tr>\n",
       "    <tr>\n",
       "      <th>14</th>\n",
       "      <td>14</td>\n",
       "      <td>1610612757</td>\n",
       "      <td>32</td>\n",
       "      <td>20</td>\n",
       "    </tr>\n",
       "    <tr>\n",
       "      <th>15</th>\n",
       "      <td>15</td>\n",
       "      <td>1610612764</td>\n",
       "      <td>21</td>\n",
       "      <td>19</td>\n",
       "    </tr>\n",
       "    <tr>\n",
       "      <th>16</th>\n",
       "      <td>16</td>\n",
       "      <td>1610612740</td>\n",
       "      <td>23</td>\n",
       "      <td>18</td>\n",
       "    </tr>\n",
       "    <tr>\n",
       "      <th>17</th>\n",
       "      <td>17</td>\n",
       "      <td>1610612763</td>\n",
       "      <td>29</td>\n",
       "      <td>18</td>\n",
       "    </tr>\n",
       "    <tr>\n",
       "      <th>18</th>\n",
       "      <td>18</td>\n",
       "      <td>1610612766</td>\n",
       "      <td>23</td>\n",
       "      <td>18</td>\n",
       "    </tr>\n",
       "    <tr>\n",
       "      <th>19</th>\n",
       "      <td>19</td>\n",
       "      <td>1610612758</td>\n",
       "      <td>18</td>\n",
       "      <td>16</td>\n",
       "    </tr>\n",
       "    <tr>\n",
       "      <th>20</th>\n",
       "      <td>20</td>\n",
       "      <td>1610612761</td>\n",
       "      <td>22</td>\n",
       "      <td>16</td>\n",
       "    </tr>\n",
       "    <tr>\n",
       "      <th>21</th>\n",
       "      <td>21</td>\n",
       "      <td>1610612741</td>\n",
       "      <td>24</td>\n",
       "      <td>15</td>\n",
       "    </tr>\n",
       "    <tr>\n",
       "      <th>22</th>\n",
       "      <td>22</td>\n",
       "      <td>1610612759</td>\n",
       "      <td>17</td>\n",
       "      <td>14</td>\n",
       "    </tr>\n",
       "    <tr>\n",
       "      <th>23</th>\n",
       "      <td>23</td>\n",
       "      <td>1610612754</td>\n",
       "      <td>27</td>\n",
       "      <td>13</td>\n",
       "    </tr>\n",
       "    <tr>\n",
       "      <th>24</th>\n",
       "      <td>24</td>\n",
       "      <td>1610612739</td>\n",
       "      <td>2</td>\n",
       "      <td>13</td>\n",
       "    </tr>\n",
       "    <tr>\n",
       "      <th>25</th>\n",
       "      <td>25</td>\n",
       "      <td>1610612750</td>\n",
       "      <td>12</td>\n",
       "      <td>13</td>\n",
       "    </tr>\n",
       "    <tr>\n",
       "      <th>26</th>\n",
       "      <td>26</td>\n",
       "      <td>1610612765</td>\n",
       "      <td>12</td>\n",
       "      <td>13</td>\n",
       "    </tr>\n",
       "    <tr>\n",
       "      <th>27</th>\n",
       "      <td>27</td>\n",
       "      <td>1610612753</td>\n",
       "      <td>5</td>\n",
       "      <td>11</td>\n",
       "    </tr>\n",
       "    <tr>\n",
       "      <th>28</th>\n",
       "      <td>28</td>\n",
       "      <td>1610612760</td>\n",
       "      <td>3</td>\n",
       "      <td>10</td>\n",
       "    </tr>\n",
       "    <tr>\n",
       "      <th>29</th>\n",
       "      <td>29</td>\n",
       "      <td>1610612745</td>\n",
       "      <td>5</td>\n",
       "      <td>9</td>\n",
       "    </tr>\n",
       "  </tbody>\n",
       "</table>\n",
       "</div>"
      ],
      "text/plain": [
       "    index     TEAM_ID  pred_win  true_win\n",
       "0       0  1610612762        36        31\n",
       "1       1  1610612755        35        29\n",
       "2       2  1610612756        34        27\n",
       "3       3  1610612751        31        27\n",
       "4       4  1610612746        35        26\n",
       "5       5  1610612749        34        26\n",
       "6       6  1610612737        32        25\n",
       "7       7  1610612752        30        25\n",
       "8       8  1610612744        28        25\n",
       "9       9  1610612743        31        25\n",
       "10     10  1610612747        32        21\n",
       "11     11  1610612748        31        21\n",
       "12     12  1610612742        33        21\n",
       "13     13  1610612738        34        21\n",
       "14     14  1610612757        32        20\n",
       "15     15  1610612764        21        19\n",
       "16     16  1610612740        23        18\n",
       "17     17  1610612763        29        18\n",
       "18     18  1610612766        23        18\n",
       "19     19  1610612758        18        16\n",
       "20     20  1610612761        22        16\n",
       "21     21  1610612741        24        15\n",
       "22     22  1610612759        17        14\n",
       "23     23  1610612754        27        13\n",
       "24     24  1610612739         2        13\n",
       "25     25  1610612750        12        13\n",
       "26     26  1610612765        12        13\n",
       "27     27  1610612753         5        11\n",
       "28     28  1610612760         3        10\n",
       "29     29  1610612745         5         9"
      ]
     },
     "execution_count": 874,
     "metadata": {},
     "output_type": "execute_result"
    }
   ],
   "source": [
    "predicted_season.sort_values(['true_win'], ascending=False, ignore_index=True)['order']"
   ]
  },
  {
   "cell_type": "markdown",
   "id": "f5332937-a065-4c8c-9145-b38fd2c2272f",
   "metadata": {},
   "source": [
    "> Modelbaum Playoffs simulieren, step-by-step, Turnierbaum, Probabilistic für Series Simulation"
   ]
  },
  {
   "cell_type": "code",
   "execution_count": 2,
   "id": "6bba7656-6795-43d5-af9c-11b05ebf47ec",
   "metadata": {},
   "outputs": [],
   "source": [
    "data = pd.read_csv(\"preprocessing.csv\", dtype={'GAME_ID':str})"
   ]
  },
  {
   "cell_type": "code",
   "execution_count": 4,
   "id": "770c3ad9-fd0c-46be-82d6-bc3afa22fddb",
   "metadata": {},
   "outputs": [
    {
     "data": {
      "text/plain": [
       "0                   0\n",
       "1                   0\n",
       "2                   0\n",
       "3                   0\n",
       "4                   0\n",
       "              ...    \n",
       "1536732    0022001072\n",
       "1536733    0022001072\n",
       "1536734    0022001072\n",
       "1536735    0022001072\n",
       "1536736    0022001072\n",
       "Name: GAME_ID, Length: 1536737, dtype: object"
      ]
     },
     "execution_count": 4,
     "metadata": {},
     "output_type": "execute_result"
    }
   ],
   "source": [
    "data['GAME_ID']"
   ]
  },
  {
   "cell_type": "code",
   "execution_count": 5,
   "id": "1b4c6191-26cf-4dfb-bc69-d293b54633f9",
   "metadata": {},
   "outputs": [],
   "source": [
    "import time\n",
    "from tqdm import tqdm\n",
    "from nba_api.stats.endpoints import boxscoreadvancedv2\n",
    "def get_roster_and_starters(data):\n",
    "\n",
    "    list_starters = list()\n",
    "    list_roster = list()\n",
    "\n",
    "    print(data.head())\n",
    "\n",
    "    unique_games = data['GAME_ID'].unique()\n",
    "\n",
    "    print(unique_games)\n",
    "\n",
    "    for gameid in tqdm(unique_games):\n",
    "            print(gameid)\n",
    "            try:\n",
    "                call_boxscore = boxscoreadvancedv2.BoxScoreAdvancedV2(game_id=gameid)\n",
    "                game = pd.concat(call_boxscore.get_data_frames())\n",
    "\n",
    "                # get home or away\n",
    "                print(game['TEAM_ID'].unique())\n",
    "                away_team_id = game['TEAM_ID'].unique()[0] # maybe replace by table that has TEAM_LOCATION for all games\n",
    "\n",
    "                game['TEAM_LOCATION'] = np.where(game['TEAM_ID'] == away_team_id, 'AWAY', 'HOME')\n",
    "\n",
    "\n",
    "                tmp2 = game[~game['START_POSITION'].isna()][['START_POSITION', 'PLAYER_ID', 'GAME_ID', 'TEAM_ID', 'TEAM_LOCATION']]\n",
    "                tmp2['STARTER'] = np.where((tmp2['START_POSITION'] == \"\"), False, True)\n",
    "                tmp2 = tmp2.drop_duplicates()  # just in case\n",
    "\n",
    "                list_starters.append(tmp2[tmp2['STARTER']])\n",
    "                list_roster.append(tmp2)\n",
    "\n",
    "                time.sleep(0.75)\n",
    "            \n",
    "            except:\n",
    "                print(f'ID {gameid} got skipped')\n",
    "                next\n",
    "\n",
    "    return pd.concat(list_starters), pd.concat(list_roster)\n",
    "\n",
    "def get_all_subs(data):\n",
    "    bool_sub = data['EVENTMSGTYPE'] == 8\n",
    "    subs = data.loc[bool_sub, ['GAME_ID', 'stint', 'game_time_left', 'TEAM_LOCATION', 'PLAYER1_ID', 'PLAYER2_ID']]\n",
    "    subs = subs.rename(columns={'PLAYER1_ID':'PLAYER_OUT_ID', 'PLAYER2_ID':'PLAYER_IN_ID'})\n",
    "    return subs.sort_values(['GAME_ID', 'stint'])\n",
    "\n",
    "def get_starting_lineup(starters):\n",
    "\n",
    "    tmp = starters.groupby(['GAME_ID', 'TEAM_ID'])['PLAYER_ID'].unique().reset_index()\n",
    "    starting_lineup = tmp.explode('PLAYER_ID')\n",
    "    starting_lineup['stint'] = 0\n",
    "\n",
    "    return starting_lineup\n",
    "\n",
    "from tqdm import tqdm\n",
    "def get_on_court(data, starters, sub):\n",
    "\n",
    "    # init\n",
    "    game_ids = data['GAME_ID'].unique()\n",
    "    list_on_court = list()\n",
    "    list_game_id = list()\n",
    "    list_stint = list()\n",
    "\n",
    "    # loop over all games\n",
    "    for game_id in tqdm(game_ids):\n",
    "\n",
    "        # form subsets\n",
    "        game = data[data['GAME_ID'] == game_id]\n",
    "        starting_lineup = starters[starters['GAME_ID'] == game_id]\n",
    "        subs = sub[sub['GAME_ID'] == game_id]\n",
    "\n",
    "        # prepare stints for the loop\n",
    "        a = game['stint_marker'].unique()\n",
    "        tmp = a[~np.isnan(a)]\n",
    "        last_stint = np.max(tmp)\n",
    "        stints = tmp - 1\n",
    "\n",
    "        # get rosters for the game for both teams\n",
    "        starters_home = starting_lineup[starting_lineup['TEAM_LOCATION'] == \"HOME\"]['PLAYER_ID'].unique()\n",
    "        starters_away = starting_lineup[starting_lineup['TEAM_LOCATION'] == \"AWAY\"]['PLAYER_ID'].unique()\n",
    "\n",
    "        # get the substitutions\n",
    "        players_in, players_out = subs['PLAYER_IN_ID'].values, subs['PLAYER_OUT_ID'].values\n",
    "\n",
    "        # more init\n",
    "        on_court = np.zeros((stints.shape[0]+1, 10))\n",
    "        lineup = np.append(starters_home, starters_away)\n",
    "\n",
    "        # store game id, so lengths match\n",
    "        list_game_id.append(game_id)\n",
    "\n",
    "        for i, stint in enumerate(stints):\n",
    "\n",
    "            j = i+1\n",
    "\n",
    "            # for first iteration store starting lineup and first sub\n",
    "            if stint == 0:\n",
    "                on_court[i, :] = lineup\n",
    "                lineup[lineup == players_out[i]] = players_in[i] # sub player out\n",
    "                on_court[j, :] = lineup\n",
    "\n",
    "            else:\n",
    "                lineup[lineup == players_out[i]] = players_in[i]\n",
    "                on_court[j, :] = lineup\n",
    "\n",
    "            # store and keep track\n",
    "            list_game_id.append(game_id)\n",
    "            list_stint.append(stint)\n",
    "\n",
    "        # store on court formations\n",
    "        list_on_court.append(on_court)\n",
    "        list_stint.append(last_stint)\n",
    "\n",
    "        # numpy format\n",
    "        a_on_court = np.concatenate(list_on_court)\n",
    "        a_game_id = np.asarray(list_game_id)\n",
    "        a_stint = np.asarray(list_stint)\n",
    "\n",
    "        # create colnames\n",
    "        col_names = ['stint']\n",
    "        col_names.extend([f'HOME_{i}' for i in np.arange(start=1, stop=6)])\n",
    "        col_names.extend([f'AWAY_{i}' for i in np.arange(start=1, stop=6)])\n",
    "        col_names.extend(['GAME_ID'])\n",
    "\n",
    "        # transform to dataframe\n",
    "        df = pd.DataFrame(data=np.concatenate((a_stint.reshape(-1, 1), a_on_court,\n",
    "                                               a_game_id.reshape(-1, 1)), axis=1), columns=col_names)\n",
    "\n",
    "        # adjust datatype\n",
    "        df['stint'] = df['stint'].astype(float)\n",
    "\n",
    "    return df"
   ]
  },
  {
   "cell_type": "code",
   "execution_count": null,
   "id": "538c822a-5691-443c-ae97-5244d197888a",
   "metadata": {
    "collapsed": true,
    "jupyter": {
     "outputs_hidden": true
    },
    "tags": []
   },
   "outputs": [
    {
     "name": "stderr",
     "output_type": "stream",
     "text": [
      "  0%|          | 0/3363 [00:00<?, ?it/s]"
     ]
    },
    {
     "name": "stdout",
     "output_type": "stream",
     "text": [
      "   Unnamed: 0  Unnamed: 0.1 GAME_ID  EVENTNUM  EVENTMSGTYPE  \\\n",
      "0           0             0       0       0.0             0   \n",
      "1           1             0       0       0.0             0   \n",
      "2           2             0       0       0.0             0   \n",
      "3           3             0       0       0.0             0   \n",
      "4           4             0       0       0.0             0   \n",
      "\n",
      "   EVENTMSGACTIONTYPE  PERIOD HOMEDESCRIPTION VISITORDESCRIPTION SCORE  ...  \\\n",
      "0                 0.0     0.0               0                  0     0  ...   \n",
      "1                 0.0     0.0               0                  0     0  ...   \n",
      "2                 0.0     0.0               0                  0     0  ...   \n",
      "3                 0.0     0.0               0                  0     0  ...   \n",
      "4                 0.0     0.0               0                  0     0  ...   \n",
      "\n",
      "   EVENT  POSS_CHANGE AWAY_POSS  HOME_POSS  HOME_PTS  AWAY_PTS HOME_PM  \\\n",
      "0  OTHER          0.0       NaN        NaN       NaN       NaN     NaN   \n",
      "1  OTHER          0.0       NaN        NaN       NaN       NaN     NaN   \n",
      "2  OTHER          0.0       NaN        NaN       NaN       NaN     NaN   \n",
      "3  OTHER          0.0       NaN        NaN       NaN       NaN     NaN   \n",
      "4  OTHER          0.0       NaN        NaN       NaN       NaN     NaN   \n",
      "\n",
      "   AWAY_PM  HOME_PM_100  AWAY_PM_100  \n",
      "0      NaN          NaN          NaN  \n",
      "1      NaN          NaN          NaN  \n",
      "2      NaN          NaN          NaN  \n",
      "3      NaN          NaN          NaN  \n",
      "4      NaN          NaN          NaN  \n",
      "\n",
      "[5 rows x 36 columns]\n",
      "['0' '0021800002' '0021800001' ... '0022001079' '0022001074' '0022001072']\n",
      "0\n"
     ]
    },
    {
     "name": "stderr",
     "output_type": "stream",
     "text": [
      "  0%|          | 1/3363 [00:00<29:11,  1.92it/s]"
     ]
    },
    {
     "name": "stdout",
     "output_type": "stream",
     "text": [
      "ID 0 got skipped\n",
      "0021800002\n",
      "[1610612760 1610612744]\n"
     ]
    },
    {
     "name": "stderr",
     "output_type": "stream",
     "text": [
      "  0%|          | 2/3363 [00:01<49:06,  1.14it/s]"
     ]
    },
    {
     "name": "stdout",
     "output_type": "stream",
     "text": [
      "0021800001\n",
      "[1610612755 1610612738]\n"
     ]
    },
    {
     "name": "stderr",
     "output_type": "stream",
     "text": [
      "  0%|          | 3/3363 [00:02<55:05,  1.02it/s]"
     ]
    },
    {
     "name": "stdout",
     "output_type": "stream",
     "text": [
      "0021800010\n",
      "[1610612750 1610612759]\n"
     ]
    },
    {
     "name": "stderr",
     "output_type": "stream",
     "text": [
      "  0%|          | 4/3363 [00:03<59:13,  1.06s/it]"
     ]
    },
    {
     "name": "stdout",
     "output_type": "stream",
     "text": [
      "0021800007\n",
      "[1610612737 1610612752]\n"
     ]
    },
    {
     "name": "stderr",
     "output_type": "stream",
     "text": [
      "  0%|          | 5/3363 [00:05<1:00:55,  1.09s/it]"
     ]
    },
    {
     "name": "stdout",
     "output_type": "stream",
     "text": [
      "0021800013\n",
      "[1610612742 1610612756]\n"
     ]
    },
    {
     "name": "stderr",
     "output_type": "stream",
     "text": [
      "  0%|          | 6/3363 [00:06<1:01:37,  1.10s/it]"
     ]
    },
    {
     "name": "stdout",
     "output_type": "stream",
     "text": [
      "0021800012\n",
      "[1610612743 1610612746]\n"
     ]
    },
    {
     "name": "stderr",
     "output_type": "stream",
     "text": [
      "  0%|          | 7/3363 [00:07<1:01:55,  1.11s/it]"
     ]
    },
    {
     "name": "stdout",
     "output_type": "stream",
     "text": [
      "0021800006\n",
      "[1610612748 1610612753]\n"
     ]
    },
    {
     "name": "stderr",
     "output_type": "stream",
     "text": [
      "  0%|          | 8/3363 [00:08<1:02:25,  1.12s/it]"
     ]
    },
    {
     "name": "stdout",
     "output_type": "stream",
     "text": [
      "0021800009\n",
      "[1610612740 1610612745]\n"
     ]
    },
    {
     "name": "stderr",
     "output_type": "stream",
     "text": [
      "  0%|          | 9/3363 [00:09<1:02:48,  1.12s/it]"
     ]
    },
    {
     "name": "stdout",
     "output_type": "stream",
     "text": [
      "0021800004\n",
      "[1610612751 1610612765]\n"
     ]
    },
    {
     "name": "stderr",
     "output_type": "stream",
     "text": [
      "  0%|          | 10/3363 [00:10<1:02:16,  1.11s/it]"
     ]
    },
    {
     "name": "stdout",
     "output_type": "stream",
     "text": [
      "0021800005\n",
      "[1610612763 1610612754]\n"
     ]
    },
    {
     "name": "stderr",
     "output_type": "stream",
     "text": [
      "  0%|          | 11/3363 [00:11<1:02:04,  1.11s/it]"
     ]
    },
    {
     "name": "stdout",
     "output_type": "stream",
     "text": [
      "0021800011\n",
      "[1610612762 1610612758]\n"
     ]
    },
    {
     "name": "stderr",
     "output_type": "stream",
     "text": [
      "  0%|          | 12/3363 [00:12<1:01:55,  1.11s/it]"
     ]
    },
    {
     "name": "stdout",
     "output_type": "stream",
     "text": [
      "0021800003\n",
      "[1610612749 1610612766]\n"
     ]
    },
    {
     "name": "stderr",
     "output_type": "stream",
     "text": [
      "  0%|          | 13/3363 [00:14<1:02:59,  1.13s/it]"
     ]
    },
    {
     "name": "stdout",
     "output_type": "stream",
     "text": [
      "0021800008\n",
      "[1610612739 1610612761]\n"
     ]
    },
    {
     "name": "stderr",
     "output_type": "stream",
     "text": [
      "  0%|          | 14/3363 [00:15<1:02:43,  1.12s/it]"
     ]
    },
    {
     "name": "stdout",
     "output_type": "stream",
     "text": [
      "0021800014\n",
      "[1610612741 1610612755]\n"
     ]
    },
    {
     "name": "stderr",
     "output_type": "stream",
     "text": [
      "  0%|          | 15/3363 [00:16<1:02:45,  1.12s/it]"
     ]
    },
    {
     "name": "stdout",
     "output_type": "stream",
     "text": [
      "0021800016\n",
      "[1610612747 1610612757]\n"
     ]
    },
    {
     "name": "stderr",
     "output_type": "stream",
     "text": [
      "  0%|          | 16/3363 [00:17<1:02:13,  1.12s/it]"
     ]
    },
    {
     "name": "stdout",
     "output_type": "stream",
     "text": [
      "0021800015\n",
      "[1610612748 1610612764]\n"
     ]
    },
    {
     "name": "stderr",
     "output_type": "stream",
     "text": [
      "  1%|          | 17/3363 [00:18<1:02:32,  1.12s/it]"
     ]
    },
    {
     "name": "stdout",
     "output_type": "stream",
     "text": [
      "0021800018\n",
      "[1610612752 1610612751]\n"
     ]
    },
    {
     "name": "stderr",
     "output_type": "stream",
     "text": [
      "  1%|          | 18/3363 [00:19<1:02:31,  1.12s/it]"
     ]
    },
    {
     "name": "stdout",
     "output_type": "stream",
     "text": [
      "0021800025\n",
      "[1610612760 1610612746]\n"
     ]
    },
    {
     "name": "stderr",
     "output_type": "stream",
     "text": [
      "  1%|          | 19/3363 [00:20<58:28,  1.05s/it]  "
     ]
    },
    {
     "name": "stdout",
     "output_type": "stream",
     "text": [
      "ID 0021800025 got skipped\n",
      "0021800017\n",
      "[1610612766 1610612753]\n"
     ]
    },
    {
     "name": "stderr",
     "output_type": "stream",
     "text": [
      "  1%|          | 20/3363 [00:21<1:00:29,  1.09s/it]"
     ]
    },
    {
     "name": "stdout",
     "output_type": "stream",
     "text": [
      "0021800023\n",
      "[1610612754 1610612749]\n"
     ]
    },
    {
     "name": "stderr",
     "output_type": "stream",
     "text": [
      "  1%|          | 21/3363 [00:22<1:01:01,  1.10s/it]"
     ]
    },
    {
     "name": "stdout",
     "output_type": "stream",
     "text": [
      "0021800024\n",
      "[1610612744 1610612762]\n"
     ]
    },
    {
     "name": "stderr",
     "output_type": "stream",
     "text": [
      "  1%|          | 22/3363 [00:23<1:01:15,  1.10s/it]"
     ]
    },
    {
     "name": "stdout",
     "output_type": "stream",
     "text": [
      "ID 0021800024 got skipped\n",
      "0021800021\n",
      "[1610612739 1610612750]\n"
     ]
    },
    {
     "name": "stderr",
     "output_type": "stream",
     "text": [
      "  1%|          | 23/3363 [00:25<1:02:26,  1.12s/it]"
     ]
    },
    {
     "name": "stdout",
     "output_type": "stream",
     "text": [
      "0021800019\n",
      "[1610612738 1610612761]\n"
     ]
    },
    {
     "name": "stderr",
     "output_type": "stream",
     "text": [
      "  1%|          | 24/3363 [00:26<1:03:00,  1.13s/it]"
     ]
    },
    {
     "name": "stdout",
     "output_type": "stream",
     "text": [
      "0021800020\n",
      "[1610612737 1610612763]\n"
     ]
    },
    {
     "name": "stderr",
     "output_type": "stream",
     "text": [
      "  1%|          | 25/3363 [00:27<1:02:50,  1.13s/it]"
     ]
    },
    {
     "name": "stdout",
     "output_type": "stream",
     "text": [
      "0021800022\n",
      "[1610612758 1610612740]\n"
     ]
    },
    {
     "name": "stderr",
     "output_type": "stream",
     "text": [
      "  1%|          | 26/3363 [00:28<1:03:58,  1.15s/it]"
     ]
    },
    {
     "name": "stdout",
     "output_type": "stream",
     "text": [
      "0021800029\n",
      "[1610612753 1610612755]\n"
     ]
    },
    {
     "name": "stderr",
     "output_type": "stream",
     "text": [
      "  1%|          | 27/3363 [00:29<1:04:49,  1.17s/it]"
     ]
    },
    {
     "name": "stdout",
     "output_type": "stream",
     "text": [
      "0021800035\n",
      "[1610612745 1610612747]\n"
     ]
    },
    {
     "name": "stderr",
     "output_type": "stream",
     "text": [
      "  1%|          | 28/3363 [00:31<1:05:38,  1.18s/it]"
     ]
    },
    {
     "name": "stdout",
     "output_type": "stream",
     "text": [
      "0021800031\n",
      "[1610612765 1610612741]\n"
     ]
    },
    {
     "name": "stderr",
     "output_type": "stream",
     "text": [
      "  1%|          | 29/3363 [00:32<1:04:02,  1.15s/it]"
     ]
    },
    {
     "name": "stdout",
     "output_type": "stream",
     "text": [
      "0021800028\n",
      "[1610612738 1610612752]\n"
     ]
    },
    {
     "name": "stderr",
     "output_type": "stream",
     "text": [
      "  1%|          | 30/3363 [00:33<1:03:42,  1.15s/it]"
     ]
    },
    {
     "name": "stdout",
     "output_type": "stream",
     "text": [
      "0021800030\n",
      "[1610612766 1610612748]\n"
     ]
    },
    {
     "name": "stderr",
     "output_type": "stream",
     "text": [
      "  1%|          | 31/3363 [00:34<1:03:10,  1.14s/it]"
     ]
    },
    {
     "name": "stdout",
     "output_type": "stream",
     "text": [
      "0021800034\n",
      "[1610612759 1610612757]\n"
     ]
    },
    {
     "name": "stderr",
     "output_type": "stream",
     "text": [
      "  1%|          | 32/3363 [00:35<1:02:48,  1.13s/it]"
     ]
    },
    {
     "name": "stdout",
     "output_type": "stream",
     "text": [
      "0021800026\n",
      "[1610612751 1610612754]\n"
     ]
    },
    {
     "name": "stderr",
     "output_type": "stream",
     "text": [
      "  1%|          | 33/3363 [00:36<1:02:26,  1.13s/it]"
     ]
    },
    {
     "name": "stdout",
     "output_type": "stream",
     "text": [
      "0021800032\n",
      "[1610612750 1610612742]\n"
     ]
    },
    {
     "name": "stderr",
     "output_type": "stream",
     "text": [
      "  1%|          | 34/3363 [00:37<1:04:00,  1.15s/it]"
     ]
    },
    {
     "name": "stdout",
     "output_type": "stream",
     "text": [
      "0021800033\n",
      "[1610612756 1610612743]\n"
     ]
    },
    {
     "name": "stderr",
     "output_type": "stream",
     "text": [
      "  1%|          | 35/3363 [00:38<1:03:30,  1.15s/it]"
     ]
    },
    {
     "name": "stdout",
     "output_type": "stream",
     "text": [
      "0021800027\n",
      "[1610612761 1610612764]\n"
     ]
    },
    {
     "name": "stderr",
     "output_type": "stream",
     "text": [
      "  1%|          | 36/3363 [00:40<1:03:09,  1.14s/it]"
     ]
    },
    {
     "name": "stdout",
     "output_type": "stream",
     "text": [
      "0021800039\n",
      "[1610612745 1610612746]\n"
     ]
    },
    {
     "name": "stderr",
     "output_type": "stream",
     "text": [
      "  1%|          | 37/3363 [00:41<1:02:58,  1.14s/it]"
     ]
    },
    {
     "name": "stdout",
     "output_type": "stream",
     "text": [
      "0021800036\n",
      "[1610612737 1610612739]\n"
     ]
    },
    {
     "name": "stderr",
     "output_type": "stream",
     "text": [
      "  1%|          | 38/3363 [00:42<1:02:46,  1.13s/it]"
     ]
    },
    {
     "name": "stdout",
     "output_type": "stream",
     "text": [
      "0021800038\n",
      "[1610612744 1610612743]\n"
     ]
    },
    {
     "name": "stderr",
     "output_type": "stream",
     "text": [
      "  1%|          | 39/3363 [00:43<1:02:16,  1.12s/it]"
     ]
    },
    {
     "name": "stdout",
     "output_type": "stream",
     "text": [
      "0021800037\n",
      "[1610612758 1610612760]\n"
     ]
    },
    {
     "name": "stderr",
     "output_type": "stream",
     "text": [
      "  1%|          | 40/3363 [00:44<1:02:36,  1.13s/it]"
     ]
    },
    {
     "name": "stdout",
     "output_type": "stream",
     "text": [
      "0021800047\n",
      "[1610612756 1610612744]\n"
     ]
    },
    {
     "name": "stderr",
     "output_type": "stream",
     "text": [
      "  1%|          | 41/3363 [00:45<1:03:35,  1.15s/it]"
     ]
    },
    {
     "name": "stdout",
     "output_type": "stream",
     "text": [
      "0021800048\n",
      "[1610612759 1610612747]\n"
     ]
    },
    {
     "name": "stderr",
     "output_type": "stream",
     "text": [
      "  1%|          | 42/3363 [00:46<1:03:36,  1.15s/it]"
     ]
    },
    {
     "name": "stdout",
     "output_type": "stream",
     "text": [
      "0021800040\n",
      "[1610612753 1610612738]\n"
     ]
    },
    {
     "name": "stderr",
     "output_type": "stream",
     "text": [
      "  1%|▏         | 43/3363 [00:48<1:03:03,  1.14s/it]"
     ]
    },
    {
     "name": "stdout",
     "output_type": "stream",
     "text": [
      "0021800046\n",
      "[1610612764 1610612757]\n"
     ]
    },
    {
     "name": "stderr",
     "output_type": "stream",
     "text": [
      "  1%|▏         | 44/3363 [00:49<1:02:33,  1.13s/it]"
     ]
    },
    {
     "name": "stdout",
     "output_type": "stream",
     "text": [
      "0021800042\n",
      "[1610612752 1610612749]\n"
     ]
    },
    {
     "name": "stderr",
     "output_type": "stream",
     "text": [
      "  1%|▏         | 45/3363 [00:50<1:02:34,  1.13s/it]"
     ]
    },
    {
     "name": "stdout",
     "output_type": "stream",
     "text": [
      "0021800045\n",
      "[1610612763 1610612762]\n"
     ]
    },
    {
     "name": "stderr",
     "output_type": "stream",
     "text": [
      "  1%|▏         | 46/3363 [00:51<1:02:27,  1.13s/it]"
     ]
    },
    {
     "name": "stdout",
     "output_type": "stream",
     "text": [
      "0021800044\n",
      "[1610612741 1610612742]\n"
     ]
    },
    {
     "name": "stderr",
     "output_type": "stream",
     "text": [
      "  1%|▏         | 47/3363 [00:52<1:01:59,  1.12s/it]"
     ]
    },
    {
     "name": "stdout",
     "output_type": "stream",
     "text": [
      "0021800043\n",
      "[1610612754 1610612750]\n"
     ]
    },
    {
     "name": "stderr",
     "output_type": "stream",
     "text": [
      "  1%|▏         | 48/3363 [00:53<1:02:02,  1.12s/it]"
     ]
    },
    {
     "name": "stdout",
     "output_type": "stream",
     "text": [
      "0021800041\n",
      "[1610612766 1610612761]\n"
     ]
    },
    {
     "name": "stderr",
     "output_type": "stream",
     "text": [
      "  1%|▏         | 49/3363 [00:54<1:02:00,  1.12s/it]"
     ]
    },
    {
     "name": "stdout",
     "output_type": "stream",
     "text": [
      "0021800049\n",
      "[1610612755 1610612765]\n"
     ]
    },
    {
     "name": "stderr",
     "output_type": "stream",
     "text": [
      "  1%|▏         | 50/3363 [00:55<1:03:43,  1.15s/it]"
     ]
    },
    {
     "name": "stdout",
     "output_type": "stream",
     "text": [
      "0021800051\n",
      "[1610612758 1610612743]\n"
     ]
    },
    {
     "name": "stderr",
     "output_type": "stream",
     "text": [
      "  2%|▏         | 51/3363 [00:57<1:03:07,  1.14s/it]"
     ]
    },
    {
     "name": "stdout",
     "output_type": "stream",
     "text": [
      "0021800050\n",
      "[1610612746 1610612740]\n"
     ]
    },
    {
     "name": "stderr",
     "output_type": "stream",
     "text": [
      "  2%|▏         | 52/3363 [00:58<1:02:44,  1.14s/it]"
     ]
    },
    {
     "name": "stdout",
     "output_type": "stream",
     "text": [
      "0021800062\n",
      "[1610612764 1610612744]\n"
     ]
    },
    {
     "name": "stderr",
     "output_type": "stream",
     "text": [
      "  2%|▏         | 53/3363 [00:59<1:02:29,  1.13s/it]"
     ]
    },
    {
     "name": "stdout",
     "output_type": "stream",
     "text": [
      "0021800058\n",
      "[1610612754 1610612759]\n"
     ]
    },
    {
     "name": "stderr",
     "output_type": "stream",
     "text": [
      "  2%|▏         | 54/3363 [01:00<1:02:22,  1.13s/it]"
     ]
    },
    {
     "name": "stdout",
     "output_type": "stream",
     "text": [
      "0021800056\n",
      "[1610612766 1610612741]\n"
     ]
    },
    {
     "name": "stderr",
     "output_type": "stream",
     "text": [
      "  2%|▏         | 55/3363 [01:01<1:03:05,  1.14s/it]"
     ]
    },
    {
     "name": "stdout",
     "output_type": "stream",
     "text": [
      "0021800060\n",
      "[1610612747 1610612756]\n"
     ]
    },
    {
     "name": "stderr",
     "output_type": "stream",
     "text": [
      "  2%|▏         | 56/3363 [01:02<1:02:32,  1.13s/it]"
     ]
    },
    {
     "name": "stdout",
     "output_type": "stream",
     "text": [
      "0021800057\n",
      "[1610612762 1610612745]\n"
     ]
    },
    {
     "name": "stderr",
     "output_type": "stream",
     "text": [
      "  2%|▏         | 57/3363 [01:03<1:02:20,  1.13s/it]"
     ]
    },
    {
     "name": "stdout",
     "output_type": "stream",
     "text": [
      "0021800053\n",
      "[1610612751 1610612739]\n"
     ]
    },
    {
     "name": "stderr",
     "output_type": "stream",
     "text": [
      "  2%|▏         | 58/3363 [01:04<1:02:02,  1.13s/it]"
     ]
    },
    {
     "name": "stdout",
     "output_type": "stream",
     "text": [
      "0021800054\n",
      "[1610612752 1610612748]\n"
     ]
    },
    {
     "name": "stderr",
     "output_type": "stream",
     "text": [
      "  2%|▏         | 59/3363 [01:06<1:02:57,  1.14s/it]"
     ]
    },
    {
     "name": "stdout",
     "output_type": "stream",
     "text": [
      "0021800059\n",
      "[1610612755 1610612749]\n"
     ]
    },
    {
     "name": "stderr",
     "output_type": "stream",
     "text": [
      "  2%|▏         | 60/3363 [01:07<1:04:52,  1.18s/it]"
     ]
    },
    {
     "name": "stdout",
     "output_type": "stream",
     "text": [
      "0021800052\n",
      "[1610612742 1610612737]\n"
     ]
    },
    {
     "name": "stderr",
     "output_type": "stream",
     "text": [
      "  2%|▏         | 61/3363 [01:08<1:03:42,  1.16s/it]"
     ]
    },
    {
     "name": "stdout",
     "output_type": "stream",
     "text": [
      "0021800061\n",
      "[1610612763 1610612758]\n"
     ]
    },
    {
     "name": "stderr",
     "output_type": "stream",
     "text": [
      "  2%|▏         | 62/3363 [01:09<1:03:00,  1.15s/it]"
     ]
    },
    {
     "name": "stdout",
     "output_type": "stream",
     "text": [
      "0021800055\n",
      "[1610612750 1610612761]\n"
     ]
    },
    {
     "name": "stderr",
     "output_type": "stream",
     "text": [
      "  2%|▏         | 63/3363 [01:10<1:03:07,  1.15s/it]"
     ]
    },
    {
     "name": "stdout",
     "output_type": "stream",
     "text": [
      "0021800066\n",
      "[1610612743 1610612747]\n"
     ]
    },
    {
     "name": "stderr",
     "output_type": "stream",
     "text": [
      "  2%|▏         | 64/3363 [01:11<1:02:17,  1.13s/it]"
     ]
    },
    {
     "name": "stdout",
     "output_type": "stream",
     "text": [
      "0021800064\n",
      "[1610612757 1610612753]\n"
     ]
    },
    {
     "name": "stderr",
     "output_type": "stream",
     "text": [
      "  2%|▏         | 65/3363 [01:13<1:03:53,  1.16s/it]"
     ]
    },
    {
     "name": "stdout",
     "output_type": "stream",
     "text": [
      "0021800063\n",
      "[1610612739 1610612765]\n"
     ]
    },
    {
     "name": "stderr",
     "output_type": "stream",
     "text": [
      "  2%|▏         | 66/3363 [01:14<1:02:55,  1.15s/it]"
     ]
    },
    {
     "name": "stdout",
     "output_type": "stream",
     "text": [
      "0021800065\n",
      "[1610612738 1610612760]\n"
     ]
    },
    {
     "name": "stderr",
     "output_type": "stream",
     "text": [
      "  2%|▏         | 67/3363 [01:15<1:02:14,  1.13s/it]"
     ]
    },
    {
     "name": "stdout",
     "output_type": "stream",
     "text": [
      "0021800068\n",
      "[1610612744 1610612752]\n"
     ]
    },
    {
     "name": "stderr",
     "output_type": "stream",
     "text": [
      "  2%|▏         | 68/3363 [01:16<1:02:06,  1.13s/it]"
     ]
    },
    {
     "name": "stdout",
     "output_type": "stream",
     "text": [
      "0021800070\n",
      "[1610612746 1610612745]\n"
     ]
    },
    {
     "name": "stderr",
     "output_type": "stream",
     "text": [
      "  2%|▏         | 69/3363 [01:17<1:03:16,  1.15s/it]"
     ]
    },
    {
     "name": "stdout",
     "output_type": "stream",
     "text": [
      "0021800073\n",
      "[1610612764 1610612758]\n"
     ]
    },
    {
     "name": "stderr",
     "output_type": "stream",
     "text": [
      "  2%|▏         | 70/3363 [01:18<1:02:50,  1.14s/it]"
     ]
    },
    {
     "name": "stdout",
     "output_type": "stream",
     "text": [
      "0021800071\n",
      "[1610612749 1610612750]\n"
     ]
    },
    {
     "name": "stderr",
     "output_type": "stream",
     "text": [
      "  2%|▏         | 71/3363 [01:19<1:02:26,  1.14s/it]"
     ]
    },
    {
     "name": "stdout",
     "output_type": "stream",
     "text": [
      "0021800067\n",
      "[1610612741 1610612766]\n"
     ]
    },
    {
     "name": "stderr",
     "output_type": "stream",
     "text": [
      "  2%|▏         | 72/3363 [01:21<1:01:59,  1.13s/it]"
     ]
    },
    {
     "name": "stdout",
     "output_type": "stream",
     "text": [
      "0021800069\n",
      "[1610612742 1610612761]\n"
     ]
    },
    {
     "name": "stderr",
     "output_type": "stream",
     "text": [
      "  2%|▏         | 73/3363 [01:22<1:01:52,  1.13s/it]"
     ]
    },
    {
     "name": "stdout",
     "output_type": "stream",
     "text": [
      "0021800072\n",
      "[1610612751 1610612740]\n"
     ]
    },
    {
     "name": "stderr",
     "output_type": "stream",
     "text": [
      "  2%|▏         | 74/3363 [01:23<1:03:35,  1.16s/it]"
     ]
    },
    {
     "name": "stdout",
     "output_type": "stream",
     "text": [
      "0021800078\n",
      "[1610612766 1610612755]\n"
     ]
    },
    {
     "name": "stderr",
     "output_type": "stream",
     "text": [
      "  2%|▏         | 75/3363 [01:24<1:03:11,  1.15s/it]"
     ]
    },
    {
     "name": "stdout",
     "output_type": "stream",
     "text": [
      "0021800082\n",
      "[1610612747 1610612759]\n"
     ]
    },
    {
     "name": "stderr",
     "output_type": "stream",
     "text": [
      "  2%|▏         | 76/3363 [01:26<1:09:18,  1.27s/it]"
     ]
    },
    {
     "name": "stdout",
     "output_type": "stream",
     "text": [
      "0021800077\n",
      "[1610612754 1610612739]\n"
     ]
    },
    {
     "name": "stderr",
     "output_type": "stream",
     "text": [
      "  2%|▏         | 77/3363 [01:27<1:08:37,  1.25s/it]"
     ]
    },
    {
     "name": "stdout",
     "output_type": "stream",
     "text": [
      "0021800079\n",
      "[1610612757 1610612748]\n"
     ]
    },
    {
     "name": "stderr",
     "output_type": "stream",
     "text": [
      "  2%|▏         | 78/3363 [01:28<1:06:30,  1.21s/it]"
     ]
    },
    {
     "name": "stdout",
     "output_type": "stream",
     "text": [
      "0021800074\n",
      "[1610612738 1610612765]\n"
     ]
    },
    {
     "name": "stderr",
     "output_type": "stream",
     "text": [
      "  2%|▏         | 79/3363 [01:29<1:05:55,  1.20s/it]"
     ]
    },
    {
     "name": "stdout",
     "output_type": "stream",
     "text": [
      "0021800081\n",
      "[1610612753 1610612749]\n"
     ]
    },
    {
     "name": "stderr",
     "output_type": "stream",
     "text": [
      "  2%|▏         | 80/3363 [01:30<1:04:13,  1.17s/it]"
     ]
    },
    {
     "name": "stdout",
     "output_type": "stream",
     "text": [
      "0021800076\n",
      "[1610612741 1610612737]\n"
     ]
    },
    {
     "name": "stderr",
     "output_type": "stream",
     "text": [
      "  2%|▏         | 81/3363 [01:31<1:03:41,  1.16s/it]"
     ]
    },
    {
     "name": "stdout",
     "output_type": "stream",
     "text": [
      "0021800080\n",
      "[1610612756 1610612763]\n"
     ]
    },
    {
     "name": "stderr",
     "output_type": "stream",
     "text": [
      "  2%|▏         | 82/3363 [01:32<1:03:09,  1.16s/it]"
     ]
    },
    {
     "name": "stdout",
     "output_type": "stream",
     "text": [
      "0021800075\n",
      "[1610612762 1610612740]\n"
     ]
    },
    {
     "name": "stderr",
     "output_type": "stream",
     "text": [
      "  2%|▏         | 83/3363 [01:34<1:01:58,  1.13s/it]"
     ]
    },
    {
     "name": "stdout",
     "output_type": "stream",
     "text": [
      "0021800083\n",
      "[1610612744 1610612751]\n"
     ]
    },
    {
     "name": "stderr",
     "output_type": "stream",
     "text": [
      "  2%|▏         | 84/3363 [01:35<1:01:39,  1.13s/it]"
     ]
    },
    {
     "name": "stdout",
     "output_type": "stream",
     "text": [
      "0021800086\n",
      "[1610612764 1610612746]\n"
     ]
    },
    {
     "name": "stderr",
     "output_type": "stream",
     "text": [
      "  3%|▎         | 85/3363 [01:36<1:01:42,  1.13s/it]"
     ]
    },
    {
     "name": "stdout",
     "output_type": "stream",
     "text": [
      "0021800084\n",
      "[1610612762 1610612742]\n"
     ]
    },
    {
     "name": "stderr",
     "output_type": "stream",
     "text": [
      "  3%|▎         | 86/3363 [01:37<1:01:26,  1.12s/it]"
     ]
    },
    {
     "name": "stdout",
     "output_type": "stream",
     "text": [
      "0021800085\n",
      "[1610612756 1610612760]\n"
     ]
    },
    {
     "name": "stderr",
     "output_type": "stream",
     "text": [
      "  3%|▎         | 87/3363 [01:38<1:00:51,  1.11s/it]"
     ]
    },
    {
     "name": "stdout",
     "output_type": "stream",
     "text": [
      "0021800088\n",
      "[1610612737 1610612755]\n"
     ]
    },
    {
     "name": "stderr",
     "output_type": "stream",
     "text": [
      "  3%|▎         | 88/3363 [01:39<1:01:43,  1.13s/it]"
     ]
    },
    {
     "name": "stdout",
     "output_type": "stream",
     "text": [
      "0021800094\n",
      "[1610612742 1610612759]\n"
     ]
    },
    {
     "name": "stderr",
     "output_type": "stream",
     "text": [
      "  3%|▎         | 89/3363 [01:40<1:01:03,  1.12s/it]"
     ]
    },
    {
     "name": "stdout",
     "output_type": "stream",
     "text": [
      "0021800091\n",
      "[1610612744 1610612741]\n"
     ]
    },
    {
     "name": "stderr",
     "output_type": "stream",
     "text": [
      "  3%|▎         | 90/3363 [01:41<1:02:15,  1.14s/it]"
     ]
    },
    {
     "name": "stdout",
     "output_type": "stream",
     "text": [
      "0021800090\n",
      "[1610612751 1610612752]\n"
     ]
    },
    {
     "name": "stderr",
     "output_type": "stream",
     "text": [
      "  3%|▎         | 91/3363 [01:43<1:01:25,  1.13s/it]"
     ]
    },
    {
     "name": "stdout",
     "output_type": "stream",
     "text": [
      "0021800089\n",
      "[1610612758 1610612748]\n"
     ]
    },
    {
     "name": "stderr",
     "output_type": "stream",
     "text": [
      "  3%|▎         | 92/3363 [01:44<1:01:28,  1.13s/it]"
     ]
    },
    {
     "name": "stdout",
     "output_type": "stream",
     "text": [
      "0021800092\n",
      "[1610612761 1610612749]\n"
     ]
    },
    {
     "name": "stderr",
     "output_type": "stream",
     "text": [
      "  3%|▎         | 93/3363 [01:45<1:01:43,  1.13s/it]"
     ]
    },
    {
     "name": "stdout",
     "output_type": "stream",
     "text": [
      "0021800087\n",
      "[1610612757 1610612754]\n"
     ]
    },
    {
     "name": "stderr",
     "output_type": "stream",
     "text": [
      "  3%|▎         | 94/3363 [01:46<1:04:43,  1.19s/it]"
     ]
    },
    {
     "name": "stdout",
     "output_type": "stream",
     "text": [
      "0021800095\n",
      "[1610612740 1610612743]\n"
     ]
    },
    {
     "name": "stderr",
     "output_type": "stream",
     "text": [
      "  3%|▎         | 95/3363 [01:47<1:03:19,  1.16s/it]"
     ]
    },
    {
     "name": "stdout",
     "output_type": "stream",
     "text": [
      "0021800093\n",
      "[1610612747 1610612750]\n"
     ]
    },
    {
     "name": "stderr",
     "output_type": "stream",
     "text": [
      "  3%|▎         | 96/3363 [01:48<1:01:47,  1.13s/it]"
     ]
    },
    {
     "name": "stdout",
     "output_type": "stream",
     "text": [
      "0021800099\n",
      "[1610612765 1610612738]\n"
     ]
    },
    {
     "name": "stderr",
     "output_type": "stream",
     "text": [
      "  3%|▎         | 97/3363 [01:49<1:01:42,  1.13s/it]"
     ]
    },
    {
     "name": "stdout",
     "output_type": "stream",
     "text": [
      "0021800098\n",
      "[1610612758 1610612753]\n"
     ]
    },
    {
     "name": "stderr",
     "output_type": "stream",
     "text": [
      "  3%|▎         | 98/3363 [01:51<1:01:13,  1.13s/it]"
     ]
    },
    {
     "name": "stdout",
     "output_type": "stream",
     "text": [
      "0021800101\n",
      "[1610612757 1610612745]\n"
     ]
    },
    {
     "name": "stderr",
     "output_type": "stream",
     "text": [
      "  3%|▎         | 99/3363 [01:52<1:01:01,  1.12s/it]"
     ]
    },
    {
     "name": "stdout",
     "output_type": "stream",
     "text": [
      "0021800097\n",
      "[1610612737 1610612739]\n"
     ]
    },
    {
     "name": "stderr",
     "output_type": "stream",
     "text": [
      "  3%|▎         | 100/3363 [01:53<1:00:39,  1.12s/it]"
     ]
    },
    {
     "name": "stdout",
     "output_type": "stream",
     "text": [
      "0021800096\n",
      "[1610612748 1610612766]\n"
     ]
    },
    {
     "name": "stderr",
     "output_type": "stream",
     "text": [
      "  3%|▎         | 101/3363 [01:54<1:00:50,  1.12s/it]"
     ]
    },
    {
     "name": "stdout",
     "output_type": "stream",
     "text": [
      "0021800100\n",
      "[1610612755 1610612761]\n"
     ]
    },
    {
     "name": "stderr",
     "output_type": "stream",
     "text": [
      "  3%|▎         | 102/3363 [01:55<59:28,  1.09s/it]  "
     ]
    },
    {
     "name": "stdout",
     "output_type": "stream",
     "text": [
      "0021800102\n",
      "[1610612764 1610612763]\n"
     ]
    },
    {
     "name": "stderr",
     "output_type": "stream",
     "text": [
      "  3%|▎         | 103/3363 [01:56<59:16,  1.09s/it]"
     ]
    },
    {
     "name": "stdout",
     "output_type": "stream",
     "text": [
      "0021800103\n",
      "[1610612746 1610612760]\n"
     ]
    },
    {
     "name": "stderr",
     "output_type": "stream",
     "text": [
      "  3%|▎         | 104/3363 [01:57<59:41,  1.10s/it]"
     ]
    },
    {
     "name": "stdout",
     "output_type": "stream",
     "text": [
      "0021800108\n",
      "[1610612740 1610612744]\n"
     ]
    },
    {
     "name": "stderr",
     "output_type": "stream",
     "text": [
      "  3%|▎         | 105/3363 [01:58<59:16,  1.09s/it]"
     ]
    },
    {
     "name": "stdout",
     "output_type": "stream",
     "text": [
      "0021800109\n",
      "[1610612742 1610612747]\n"
     ]
    },
    {
     "name": "stderr",
     "output_type": "stream",
     "text": [
      "  3%|▎         | 106/3363 [01:59<59:22,  1.09s/it]"
     ]
    },
    {
     "name": "stdout",
     "output_type": "stream",
     "text": [
      "0021800106\n",
      "[1610612743 1610612741]\n"
     ]
    },
    {
     "name": "stderr",
     "output_type": "stream",
     "text": [
      "  3%|▎         | 107/3363 [02:00<59:19,  1.09s/it]"
     ]
    },
    {
     "name": "stdout",
     "output_type": "stream",
     "text": [
      "0021800105\n",
      "[1610612754 1610612752]\n"
     ]
    },
    {
     "name": "stderr",
     "output_type": "stream",
     "text": [
      "  3%|▎         | 108/3363 [02:01<59:15,  1.09s/it]"
     ]
    },
    {
     "name": "stdout",
     "output_type": "stream",
     "text": [
      "0021800110\n",
      "[1610612759 1610612756]\n"
     ]
    },
    {
     "name": "stderr",
     "output_type": "stream",
     "text": [
      "  3%|▎         | 109/3363 [02:03<59:45,  1.10s/it]"
     ]
    },
    {
     "name": "stdout",
     "output_type": "stream",
     "text": [
      "0021800104\n",
      "[1610612765 1610612751]\n"
     ]
    },
    {
     "name": "stderr",
     "output_type": "stream",
     "text": [
      "  3%|▎         | 110/3363 [02:04<59:51,  1.10s/it]"
     ]
    },
    {
     "name": "stdout",
     "output_type": "stream",
     "text": [
      "0021800107\n",
      "[1610612762 1610612750]\n"
     ]
    },
    {
     "name": "stderr",
     "output_type": "stream",
     "text": [
      "  3%|▎         | 111/3363 [02:05<59:53,  1.11s/it]"
     ]
    },
    {
     "name": "stdout",
     "output_type": "stream",
     "text": [
      "0021800113\n",
      "[1610612746 1610612755]\n"
     ]
    },
    {
     "name": "stderr",
     "output_type": "stream",
     "text": [
      "  3%|▎         | 112/3363 [02:06<1:00:46,  1.12s/it]"
     ]
    },
    {
     "name": "stdout",
     "output_type": "stream",
     "text": [
      "0021800115\n",
      "[1610612749 1610612738]\n"
     ]
    },
    {
     "name": "stderr",
     "output_type": "stream",
     "text": [
      "  3%|▎         | 113/3363 [02:07<1:00:45,  1.12s/it]"
     ]
    },
    {
     "name": "stdout",
     "output_type": "stream",
     "text": [
      "0021800112\n",
      "[1610612743 1610612739]\n"
     ]
    },
    {
     "name": "stderr",
     "output_type": "stream",
     "text": [
      "  3%|▎         | 114/3363 [02:08<1:00:15,  1.11s/it]"
     ]
    },
    {
     "name": "stdout",
     "output_type": "stream",
     "text": [
      "0021800116\n",
      "[1610612740 1610612757]\n"
     ]
    },
    {
     "name": "stderr",
     "output_type": "stream",
     "text": [
      "  3%|▎         | 115/3363 [02:09<1:00:04,  1.11s/it]"
     ]
    },
    {
     "name": "stdout",
     "output_type": "stream",
     "text": [
      "0021800114\n",
      "[1610612758 1610612737]\n"
     ]
    },
    {
     "name": "stderr",
     "output_type": "stream",
     "text": [
      "  3%|▎         | 116/3363 [02:10<59:46,  1.10s/it]  "
     ]
    },
    {
     "name": "stdout",
     "output_type": "stream",
     "text": [
      "0021800111\n",
      "[1610612760 1610612766]\n"
     ]
    },
    {
     "name": "stderr",
     "output_type": "stream",
     "text": [
      "  3%|▎         | 117/3363 [02:11<59:44,  1.10s/it]"
     ]
    },
    {
     "name": "stdout",
     "output_type": "stream",
     "text": [
      "0021800124\n",
      "[1610612750 1610612744]\n"
     ]
    },
    {
     "name": "stderr",
     "output_type": "stream",
     "text": [
      "  4%|▎         | 118/3363 [02:13<59:23,  1.10s/it]"
     ]
    },
    {
     "name": "stdout",
     "output_type": "stream",
     "text": [
      "0021800120\n",
      "[1610612754 1610612741]\n"
     ]
    },
    {
     "name": "stderr",
     "output_type": "stream",
     "text": [
      "  4%|▎         | 119/3363 [02:14<59:14,  1.10s/it]"
     ]
    },
    {
     "name": "stdout",
     "output_type": "stream",
     "text": [
      "0021800123\n",
      "[1610612761 1610612756]\n"
     ]
    },
    {
     "name": "stderr",
     "output_type": "stream",
     "text": [
      "  4%|▎         | 120/3363 [02:15<59:23,  1.10s/it]"
     ]
    },
    {
     "name": "stdout",
     "output_type": "stream",
     "text": [
      "0021800118\n",
      "[1610612745 1610612751]\n"
     ]
    },
    {
     "name": "stderr",
     "output_type": "stream",
     "text": [
      "  4%|▎         | 121/3363 [02:16<59:23,  1.10s/it]"
     ]
    },
    {
     "name": "stdout",
     "output_type": "stream",
     "text": [
      "0021800117\n",
      "[1610612746 1610612753]\n"
     ]
    },
    {
     "name": "stderr",
     "output_type": "stream",
     "text": [
      "  4%|▎         | 122/3363 [02:17<1:00:48,  1.13s/it]"
     ]
    },
    {
     "name": "stdout",
     "output_type": "stream",
     "text": [
      "0021800122\n",
      "[1610612763 1610612762]\n"
     ]
    },
    {
     "name": "stderr",
     "output_type": "stream",
     "text": [
      "  4%|▎         | 123/3363 [02:18<1:01:01,  1.13s/it]"
     ]
    },
    {
     "name": "stdout",
     "output_type": "stream",
     "text": [
      "0021800121\n",
      "[1610612752 1610612742]\n"
     ]
    },
    {
     "name": "stderr",
     "output_type": "stream",
     "text": [
      "  4%|▎         | 124/3363 [02:19<1:00:30,  1.12s/it]"
     ]
    },
    {
     "name": "stdout",
     "output_type": "stream",
     "text": [
      "0021800119\n",
      "[1610612760 1610612764]\n"
     ]
    },
    {
     "name": "stderr",
     "output_type": "stream",
     "text": [
      "  4%|▎         | 125/3363 [02:20<1:00:17,  1.12s/it]"
     ]
    },
    {
     "name": "stdout",
     "output_type": "stream",
     "text": [
      "0021800125\n",
      "[1610612765 1610612755]\n"
     ]
    },
    {
     "name": "stderr",
     "output_type": "stream",
     "text": [
      "  4%|▎         | 126/3363 [02:22<1:00:35,  1.12s/it]"
     ]
    },
    {
     "name": "stdout",
     "output_type": "stream",
     "text": [
      "0021800130\n",
      "[1610612740 1610612759]\n"
     ]
    },
    {
     "name": "stderr",
     "output_type": "stream",
     "text": [
      "  4%|▍         | 127/3363 [02:23<1:00:19,  1.12s/it]"
     ]
    },
    {
     "name": "stdout",
     "output_type": "stream",
     "text": [
      "0021800129\n",
      "[1610612745 1610612741]\n"
     ]
    },
    {
     "name": "stderr",
     "output_type": "stream",
     "text": [
      "  4%|▍         | 128/3363 [02:24<59:57,  1.11s/it]  "
     ]
    },
    {
     "name": "stdout",
     "output_type": "stream",
     "text": [
      "0021800132\n",
      "[1610612747 1610612757]\n"
     ]
    },
    {
     "name": "stderr",
     "output_type": "stream",
     "text": [
      "  4%|▍         | 129/3363 [02:25<59:42,  1.11s/it]"
     ]
    },
    {
     "name": "stdout",
     "output_type": "stream",
     "text": [
      "0021800127\n",
      "[1610612738 1610612754]\n"
     ]
    },
    {
     "name": "stderr",
     "output_type": "stream",
     "text": [
      "  4%|▍         | 130/3363 [02:26<59:26,  1.10s/it]"
     ]
    },
    {
     "name": "stdout",
     "output_type": "stream",
     "text": [
      "0021800128\n",
      "[1610612748 1610612737]\n"
     ]
    },
    {
     "name": "stderr",
     "output_type": "stream",
     "text": [
      "  4%|▍         | 131/3363 [02:27<59:15,  1.10s/it]"
     ]
    },
    {
     "name": "stdout",
     "output_type": "stream",
     "text": [
      "0021800131\n",
      "[1610612762 1610612743]\n"
     ]
    },
    {
     "name": "stderr",
     "output_type": "stream",
     "text": [
      "  4%|▍         | 132/3363 [02:28<59:19,  1.10s/it]"
     ]
    },
    {
     "name": "stdout",
     "output_type": "stream",
     "text": [
      "0021800126\n",
      "[1610612739 1610612766]\n"
     ]
    },
    {
     "name": "stderr",
     "output_type": "stream",
     "text": [
      "  4%|▍         | 133/3363 [02:29<59:35,  1.11s/it]"
     ]
    },
    {
     "name": "stdout",
     "output_type": "stream",
     "text": [
      "0021800137\n",
      "[1610612753 1610612759]\n"
     ]
    },
    {
     "name": "stderr",
     "output_type": "stream",
     "text": [
      "  4%|▍         | 134/3363 [02:30<59:19,  1.10s/it]"
     ]
    },
    {
     "name": "stdout",
     "output_type": "stream",
     "text": [
      "0021800139\n",
      "[1610612761 1610612747]\n"
     ]
    },
    {
     "name": "stderr",
     "output_type": "stream",
     "text": [
      "  4%|▍         | 135/3363 [02:31<59:26,  1.10s/it]"
     ]
    },
    {
     "name": "stdout",
     "output_type": "stream",
     "text": [
      "0021800136\n",
      "[1610612763 1610612756]\n"
     ]
    },
    {
     "name": "stderr",
     "output_type": "stream",
     "text": [
      "  4%|▍         | 136/3363 [02:33<59:33,  1.11s/it]"
     ]
    },
    {
     "name": "stdout",
     "output_type": "stream",
     "text": [
      "0021800134\n",
      "[1610612755 1610612751]\n"
     ]
    },
    {
     "name": "stderr",
     "output_type": "stream",
     "text": [
      "  4%|▍         | 137/3363 [02:34<59:42,  1.11s/it]"
     ]
    },
    {
     "name": "stdout",
     "output_type": "stream",
     "text": [
      "0021800138\n",
      "[1610612750 1610612757]\n"
     ]
    },
    {
     "name": "stderr",
     "output_type": "stream",
     "text": [
      "  4%|▍         | 138/3363 [02:35<59:32,  1.11s/it]"
     ]
    },
    {
     "name": "stdout",
     "output_type": "stream",
     "text": [
      "0021800133\n",
      "[1610612758 1610612749]\n"
     ]
    },
    {
     "name": "stderr",
     "output_type": "stream",
     "text": [
      "  4%|▍         | 139/3363 [02:36<59:31,  1.11s/it]"
     ]
    },
    {
     "name": "stdout",
     "output_type": "stream",
     "text": [
      "0021800135\n",
      "[1610612752 1610612764]\n"
     ]
    },
    {
     "name": "stderr",
     "output_type": "stream",
     "text": [
      "  4%|▍         | 140/3363 [02:37<59:33,  1.11s/it]"
     ]
    },
    {
     "name": "stdout",
     "output_type": "stream",
     "text": [
      "0021800147\n",
      "[1610612763 1610612744]\n"
     ]
    },
    {
     "name": "stderr",
     "output_type": "stream",
     "text": [
      "  4%|▍         | 141/3363 [02:38<59:43,  1.11s/it]"
     ]
    },
    {
     "name": "stdout",
     "output_type": "stream",
     "text": [
      "0021800143\n",
      "[1610612741 1610612752]\n"
     ]
    },
    {
     "name": "stderr",
     "output_type": "stream",
     "text": [
      "  4%|▍         | 142/3363 [02:39<1:00:24,  1.13s/it]"
     ]
    },
    {
     "name": "stdout",
     "output_type": "stream",
     "text": [
      "0021800148\n",
      "[1610612750 1610612746]\n"
     ]
    },
    {
     "name": "stderr",
     "output_type": "stream",
     "text": [
      "  4%|▍         | 143/3363 [02:40<59:48,  1.11s/it]  "
     ]
    },
    {
     "name": "stdout",
     "output_type": "stream",
     "text": [
      "0021800142\n",
      "[1610612739 1610612753]\n"
     ]
    },
    {
     "name": "stderr",
     "output_type": "stream",
     "text": [
      "  4%|▍         | 144/3363 [02:42<1:00:50,  1.13s/it]"
     ]
    },
    {
     "name": "stdout",
     "output_type": "stream",
     "text": [
      "0021800140\n",
      "[1610612748 1610612765]\n"
     ]
    },
    {
     "name": "stderr",
     "output_type": "stream",
     "text": [
      "  4%|▍         | 145/3363 [02:43<1:01:02,  1.14s/it]"
     ]
    },
    {
     "name": "stdout",
     "output_type": "stream",
     "text": [
      "0021800141\n",
      "[1610612745 1610612754]\n"
     ]
    },
    {
     "name": "stderr",
     "output_type": "stream",
     "text": [
      "  4%|▍         | 146/3363 [02:44<1:00:13,  1.12s/it]"
     ]
    },
    {
     "name": "stdout",
     "output_type": "stream",
     "text": [
      "0021800146\n",
      "[1610612761 1610612762]\n"
     ]
    },
    {
     "name": "stderr",
     "output_type": "stream",
     "text": [
      "  4%|▍         | 147/3363 [02:45<1:01:57,  1.16s/it]"
     ]
    },
    {
     "name": "stdout",
     "output_type": "stream",
     "text": [
      "0021800145\n",
      "[1610612738 1610612743]\n"
     ]
    },
    {
     "name": "stderr",
     "output_type": "stream",
     "text": [
      "  4%|▍         | 148/3363 [02:46<1:00:43,  1.13s/it]"
     ]
    },
    {
     "name": "stdout",
     "output_type": "stream",
     "text": [
      "0021800144\n",
      "[1610612740 1610612760]\n"
     ]
    },
    {
     "name": "stderr",
     "output_type": "stream",
     "text": [
      "  4%|▍         | 149/3363 [02:47<1:00:19,  1.13s/it]"
     ]
    },
    {
     "name": "stdout",
     "output_type": "stream",
     "text": [
      "0021800151\n",
      "[1610612751 1610612756]\n"
     ]
    },
    {
     "name": "stderr",
     "output_type": "stream",
     "text": [
      "  4%|▍         | 150/3363 [02:48<59:47,  1.12s/it]  "
     ]
    },
    {
     "name": "stdout",
     "output_type": "stream",
     "text": [
      "0021800152\n",
      "[1610612749 1610612757]\n"
     ]
    },
    {
     "name": "stderr",
     "output_type": "stream",
     "text": [
      "  4%|▍         | 151/3363 [02:49<1:00:17,  1.13s/it]"
     ]
    },
    {
     "name": "stdout",
     "output_type": "stream",
     "text": [
      "0021800150\n",
      "[1610612764 1610612742]\n"
     ]
    },
    {
     "name": "stderr",
     "output_type": "stream",
     "text": [
      "  5%|▍         | 152/3363 [02:51<59:34,  1.11s/it]  "
     ]
    },
    {
     "name": "stdout",
     "output_type": "stream",
     "text": [
      "0021800149\n",
      "[1610612737 1610612766]\n"
     ]
    },
    {
     "name": "stderr",
     "output_type": "stream",
     "text": [
      "  5%|▍         | 153/3363 [02:52<1:00:00,  1.12s/it]"
     ]
    },
    {
     "name": "stdout",
     "output_type": "stream",
     "text": [
      "0021800162\n",
      "[1610612750 1610612747]\n"
     ]
    },
    {
     "name": "stderr",
     "output_type": "stream",
     "text": [
      "  5%|▍         | 154/3363 [02:53<1:00:19,  1.13s/it]"
     ]
    },
    {
     "name": "stdout",
     "output_type": "stream",
     "text": [
      "0021800154\n",
      "[1610612765 1610612753]\n"
     ]
    },
    {
     "name": "stderr",
     "output_type": "stream",
     "text": [
      "  5%|▍         | 155/3363 [02:54<1:00:19,  1.13s/it]"
     ]
    },
    {
     "name": "stdout",
     "output_type": "stream",
     "text": [
      "0021800153\n",
      "[1610612760 1610612739]\n"
     ]
    },
    {
     "name": "stderr",
     "output_type": "stream",
     "text": [
      "  5%|▍         | 156/3363 [02:55<59:43,  1.12s/it]  "
     ]
    },
    {
     "name": "stdout",
     "output_type": "stream",
     "text": [
      "0021800156\n",
      "[1610612759 1610612748]\n"
     ]
    },
    {
     "name": "stderr",
     "output_type": "stream",
     "text": [
      "  5%|▍         | 157/3363 [02:56<1:03:27,  1.19s/it]"
     ]
    },
    {
     "name": "stdout",
     "output_type": "stream",
     "text": [
      "0021800160\n",
      "[1610612742 1610612762]\n"
     ]
    },
    {
     "name": "stderr",
     "output_type": "stream",
     "text": [
      "  5%|▍         | 158/3363 [02:58<1:12:53,  1.36s/it]"
     ]
    },
    {
     "name": "stdout",
     "output_type": "stream",
     "text": [
      "0021800157\n",
      "[1610612755 1610612754]\n"
     ]
    },
    {
     "name": "stderr",
     "output_type": "stream",
     "text": [
      "  5%|▍         | 159/3363 [02:59<1:09:35,  1.30s/it]"
     ]
    },
    {
     "name": "stdout",
     "output_type": "stream",
     "text": [
      "0021800155\n",
      "[1610612752 1610612737]\n"
     ]
    },
    {
     "name": "stderr",
     "output_type": "stream",
     "text": [
      "  5%|▍         | 160/3363 [03:00<1:05:59,  1.24s/it]"
     ]
    },
    {
     "name": "stdout",
     "output_type": "stream",
     "text": [
      "0021800161\n",
      "[1610612761 1610612758]\n"
     ]
    },
    {
     "name": "stderr",
     "output_type": "stream",
     "text": [
      "  5%|▍         | 161/3363 [03:02<1:03:45,  1.19s/it]"
     ]
    },
    {
     "name": "stdout",
     "output_type": "stream",
     "text": [
      "0021800158\n",
      "[1610612743 1610612763]\n"
     ]
    },
    {
     "name": "stderr",
     "output_type": "stream",
     "text": [
      "  5%|▍         | 162/3363 [03:03<1:02:31,  1.17s/it]"
     ]
    },
    {
     "name": "stdout",
     "output_type": "stream",
     "text": [
      "0021800159\n",
      "[1610612741 1610612740]\n"
     ]
    },
    {
     "name": "stderr",
     "output_type": "stream",
     "text": [
      "  5%|▍         | 163/3363 [03:04<1:01:21,  1.15s/it]"
     ]
    },
    {
     "name": "stdout",
     "output_type": "stream",
     "text": [
      "0021800166\n",
      "[1610612749 1610612744]\n"
     ]
    },
    {
     "name": "stderr",
     "output_type": "stream",
     "text": [
      "  5%|▍         | 164/3363 [03:05<1:00:29,  1.13s/it]"
     ]
    },
    {
     "name": "stdout",
     "output_type": "stream",
     "text": [
      "0021800164\n",
      "[1610612738 1610612756]\n"
     ]
    },
    {
     "name": "stderr",
     "output_type": "stream",
     "text": [
      "  5%|▍         | 165/3363 [03:06<1:00:31,  1.14s/it]"
     ]
    },
    {
     "name": "stdout",
     "output_type": "stream",
     "text": [
      "0021800165\n",
      "[1610612746 1610612757]\n"
     ]
    },
    {
     "name": "stderr",
     "output_type": "stream",
     "text": [
      "  5%|▍         | 166/3363 [03:07<59:57,  1.13s/it]  "
     ]
    },
    {
     "name": "stdout",
     "output_type": "stream",
     "text": [
      "0021800163\n",
      "[1610612745 1610612760]\n"
     ]
    },
    {
     "name": "stderr",
     "output_type": "stream",
     "text": [
      "  5%|▍         | 167/3363 [03:08<59:08,  1.11s/it]"
     ]
    },
    {
     "name": "stdout",
     "output_type": "stream",
     "text": [
      "0021800168\n",
      "[1610612766 1610612755]\n"
     ]
    },
    {
     "name": "stderr",
     "output_type": "stream",
     "text": [
      "  5%|▍         | 168/3363 [03:09<1:00:44,  1.14s/it]"
     ]
    },
    {
     "name": "stdout",
     "output_type": "stream",
     "text": [
      "0021800167\n",
      "[1610612764 1610612753]\n"
     ]
    },
    {
     "name": "stderr",
     "output_type": "stream",
     "text": [
      "  5%|▌         | 169/3363 [03:11<1:01:24,  1.15s/it]"
     ]
    },
    {
     "name": "stdout",
     "output_type": "stream",
     "text": [
      "0021800170\n",
      "[1610612754 1610612748]\n"
     ]
    },
    {
     "name": "stderr",
     "output_type": "stream",
     "text": [
      "  5%|▌         | 170/3363 [03:12<1:01:01,  1.15s/it]"
     ]
    },
    {
     "name": "stdout",
     "output_type": "stream",
     "text": [
      "0021800172\n",
      "[1610612738 1610612762]\n"
     ]
    },
    {
     "name": "stderr",
     "output_type": "stream",
     "text": [
      "  5%|▌         | 171/3363 [03:13<1:00:18,  1.13s/it]"
     ]
    },
    {
     "name": "stdout",
     "output_type": "stream",
     "text": [
      "0021800169\n",
      "[1610612765 1610612737]\n"
     ]
    },
    {
     "name": "stderr",
     "output_type": "stream",
     "text": [
      "  5%|▌         | 172/3363 [03:14<1:01:22,  1.15s/it]"
     ]
    },
    {
     "name": "stdout",
     "output_type": "stream",
     "text": [
      "0021800173\n",
      "[1610612750 1610612758]\n"
     ]
    },
    {
     "name": "stderr",
     "output_type": "stream",
     "text": [
      "  5%|▌         | 173/3363 [03:15<1:06:43,  1.25s/it]"
     ]
    },
    {
     "name": "stdout",
     "output_type": "stream",
     "text": [
      "0021800171\n",
      "[1610612751 1610612743]\n"
     ]
    },
    {
     "name": "stderr",
     "output_type": "stream",
     "text": [
      "  5%|▌         | 174/3363 [03:17<1:04:12,  1.21s/it]"
     ]
    },
    {
     "name": "stdout",
     "output_type": "stream",
     "text": [
      "0021800182\n",
      "[1610612751 1610612744]\n"
     ]
    },
    {
     "name": "stderr",
     "output_type": "stream",
     "text": [
      "  5%|▌         | 175/3363 [03:18<1:10:54,  1.33s/it]"
     ]
    },
    {
     "name": "stdout",
     "output_type": "stream",
     "text": [
      "0021800180\n",
      "[1610612745 1610612759]\n"
     ]
    },
    {
     "name": "stderr",
     "output_type": "stream",
     "text": [
      "  5%|▌         | 176/3363 [03:19<1:07:30,  1.27s/it]"
     ]
    },
    {
     "name": "stdout",
     "output_type": "stream",
     "text": [
      "0021800178\n",
      "[1610612739 1610612741]\n"
     ]
    },
    {
     "name": "stderr",
     "output_type": "stream",
     "text": [
      "  5%|▌         | 177/3363 [03:20<1:04:31,  1.22s/it]"
     ]
    },
    {
     "name": "stdout",
     "output_type": "stream",
     "text": [
      "0021800175\n",
      "[1610612749 1610612746]\n"
     ]
    },
    {
     "name": "stderr",
     "output_type": "stream",
     "text": [
      "  5%|▌         | 178/3363 [03:21<1:02:32,  1.18s/it]"
     ]
    },
    {
     "name": "stdout",
     "output_type": "stream",
     "text": [
      "0021800177\n",
      "[1610612764 1610612748]\n"
     ]
    },
    {
     "name": "stderr",
     "output_type": "stream",
     "text": [
      "  5%|▌         | 179/3363 [03:23<1:01:47,  1.16s/it]"
     ]
    },
    {
     "name": "stdout",
     "output_type": "stream",
     "text": [
      "0021800181\n",
      "[1610612760 1610612742]\n"
     ]
    },
    {
     "name": "stderr",
     "output_type": "stream",
     "text": [
      "  5%|▌         | 180/3363 [03:24<1:01:19,  1.16s/it]"
     ]
    },
    {
     "name": "stdout",
     "output_type": "stream",
     "text": [
      "0021800183\n",
      "[1610612747 1610612758]\n"
     ]
    },
    {
     "name": "stderr",
     "output_type": "stream",
     "text": [
      "  5%|▌         | 181/3363 [03:25<1:00:23,  1.14s/it]"
     ]
    },
    {
     "name": "stdout",
     "output_type": "stream",
     "text": [
      "0021800174\n",
      "[1610612752 1610612761]\n"
     ]
    },
    {
     "name": "stderr",
     "output_type": "stream",
     "text": [
      "  5%|▌         | 182/3363 [03:26<59:17,  1.12s/it]  "
     ]
    },
    {
     "name": "stdout",
     "output_type": "stream",
     "text": [
      "0021800179\n",
      "[1610612755 1610612763]\n"
     ]
    },
    {
     "name": "stderr",
     "output_type": "stream",
     "text": [
      "  5%|▌         | 183/3363 [03:27<58:42,  1.11s/it]"
     ]
    },
    {
     "name": "stdout",
     "output_type": "stream",
     "text": [
      "0021800176\n",
      "[1610612756 1610612740]\n"
     ]
    },
    {
     "name": "stderr",
     "output_type": "stream",
     "text": [
      "  5%|▌         | 184/3363 [03:28<58:14,  1.10s/it]"
     ]
    },
    {
     "name": "stdout",
     "output_type": "stream",
     "text": [
      "0021800189\n",
      "[1610612737 1610612747]\n"
     ]
    },
    {
     "name": "stderr",
     "output_type": "stream",
     "text": [
      "  6%|▌         | 185/3363 [03:29<58:28,  1.10s/it]"
     ]
    },
    {
     "name": "stdout",
     "output_type": "stream",
     "text": [
      "0021800186\n",
      "[1610612753 1610612752]\n"
     ]
    },
    {
     "name": "stderr",
     "output_type": "stream",
     "text": [
      "  6%|▌         | 186/3363 [03:30<58:02,  1.10s/it]"
     ]
    },
    {
     "name": "stdout",
     "output_type": "stream",
     "text": [
      "0021800185\n",
      "[1610612754 1610612745]\n"
     ]
    },
    {
     "name": "stderr",
     "output_type": "stream",
     "text": [
      "  6%|▌         | 187/3363 [03:31<58:00,  1.10s/it]"
     ]
    },
    {
     "name": "stdout",
     "output_type": "stream",
     "text": [
      "0021800184\n",
      "[1610612766 1610612765]\n"
     ]
    },
    {
     "name": "stderr",
     "output_type": "stream",
     "text": [
      "  6%|▌         | 188/3363 [03:32<57:49,  1.09s/it]"
     ]
    },
    {
     "name": "stdout",
     "output_type": "stream",
     "text": [
      "0021800188\n",
      "[1610612738 1610612757]\n"
     ]
    },
    {
     "name": "stderr",
     "output_type": "stream",
     "text": [
      "  6%|▌         | 189/3363 [03:34<58:48,  1.11s/it]"
     ]
    },
    {
     "name": "stdout",
     "output_type": "stream",
     "text": [
      "0021800187\n",
      "[1610612749 1610612743]\n"
     ]
    },
    {
     "name": "stderr",
     "output_type": "stream",
     "text": [
      "  6%|▌         | 190/3363 [03:35<58:11,  1.10s/it]"
     ]
    },
    {
     "name": "stdout",
     "output_type": "stream",
     "text": [
      "0021800193\n",
      "[1610612742 1610612741]\n"
     ]
    },
    {
     "name": "stderr",
     "output_type": "stream",
     "text": [
      "  6%|▌         | 191/3363 [03:36<57:55,  1.10s/it]"
     ]
    },
    {
     "name": "stdout",
     "output_type": "stream",
     "text": [
      "0021800198\n",
      "[1610612744 1610612746]\n"
     ]
    },
    {
     "name": "stderr",
     "output_type": "stream",
     "text": [
      "  6%|▌         | 192/3363 [03:37<58:16,  1.10s/it]"
     ]
    },
    {
     "name": "stdout",
     "output_type": "stream",
     "text": [
      "0021800191\n",
      "[1610612755 1610612748]\n"
     ]
    },
    {
     "name": "stderr",
     "output_type": "stream",
     "text": [
      "  6%|▌         | 193/3363 [03:38<58:21,  1.10s/it]"
     ]
    },
    {
     "name": "stdout",
     "output_type": "stream",
     "text": [
      "0021800197\n",
      "[1610612759 1610612758]\n"
     ]
    },
    {
     "name": "stderr",
     "output_type": "stream",
     "text": [
      "  6%|▌         | 194/3363 [03:39<59:48,  1.13s/it]"
     ]
    },
    {
     "name": "stdout",
     "output_type": "stream",
     "text": [
      "0021800195\n",
      "[1610612751 1610612750]\n"
     ]
    },
    {
     "name": "stderr",
     "output_type": "stream",
     "text": [
      "  6%|▌         | 195/3363 [03:40<59:41,  1.13s/it]"
     ]
    },
    {
     "name": "stdout",
     "output_type": "stream",
     "text": [
      "0021800192\n",
      "[1610612740 1610612761]\n"
     ]
    },
    {
     "name": "stderr",
     "output_type": "stream",
     "text": [
      "  6%|▌         | 196/3363 [03:42<1:01:09,  1.16s/it]"
     ]
    },
    {
     "name": "stdout",
     "output_type": "stream",
     "text": [
      "0021800190\n",
      "[1610612753 1610612764]\n"
     ]
    },
    {
     "name": "stderr",
     "output_type": "stream",
     "text": [
      "  6%|▌         | 197/3363 [03:43<1:00:36,  1.15s/it]"
     ]
    },
    {
     "name": "stdout",
     "output_type": "stream",
     "text": [
      "0021800194\n",
      "[1610612762 1610612763]\n"
     ]
    },
    {
     "name": "stderr",
     "output_type": "stream",
     "text": [
      "  6%|▌         | 198/3363 [03:44<1:00:00,  1.14s/it]"
     ]
    },
    {
     "name": "stdout",
     "output_type": "stream",
     "text": [
      "0021800196\n",
      "[1610612756 1610612760]\n"
     ]
    },
    {
     "name": "stderr",
     "output_type": "stream",
     "text": [
      "  6%|▌         | 199/3363 [03:45<1:01:58,  1.18s/it]"
     ]
    },
    {
     "name": "stdout",
     "output_type": "stream",
     "text": [
      "0021800201\n",
      "[1610612737 1610612744]\n"
     ]
    },
    {
     "name": "stderr",
     "output_type": "stream",
     "text": [
      "  6%|▌         | 200/3363 [03:46<1:00:44,  1.15s/it]"
     ]
    },
    {
     "name": "stdout",
     "output_type": "stream",
     "text": [
      "0021800199\n",
      "[1610612766 1610612739]\n"
     ]
    },
    {
     "name": "stderr",
     "output_type": "stream",
     "text": [
      "  6%|▌         | 201/3363 [03:47<1:00:06,  1.14s/it]"
     ]
    },
    {
     "name": "stdout",
     "output_type": "stream",
     "text": [
      "0021800200\n",
      "[1610612745 1610612743]\n"
     ]
    },
    {
     "name": "stderr",
     "output_type": "stream",
     "text": [
      "  6%|▌         | 202/3363 [03:48<59:17,  1.13s/it]  "
     ]
    },
    {
     "name": "stdout",
     "output_type": "stream",
     "text": [
      "0021800212\n",
      "[1610612757 1610612747]\n"
     ]
    },
    {
     "name": "stderr",
     "output_type": "stream",
     "text": [
      "  6%|▌         | 203/3363 [03:50<1:01:46,  1.17s/it]"
     ]
    },
    {
     "name": "stdout",
     "output_type": "stream",
     "text": [
      "0021800211\n",
      "[1610612759 1610612756]\n"
     ]
    },
    {
     "name": "stderr",
     "output_type": "stream",
     "text": [
      "  6%|▌         | 204/3363 [03:51<1:00:51,  1.16s/it]"
     ]
    },
    {
     "name": "stdout",
     "output_type": "stream",
     "text": [
      "0021800205\n",
      "[1610612748 1610612751]\n"
     ]
    },
    {
     "name": "stderr",
     "output_type": "stream",
     "text": [
      "  6%|▌         | 205/3363 [03:52<1:00:02,  1.14s/it]"
     ]
    },
    {
     "name": "stdout",
     "output_type": "stream",
     "text": [
      "0021800204\n",
      "[1610612741 1610612738]\n"
     ]
    },
    {
     "name": "stderr",
     "output_type": "stream",
     "text": [
      "  6%|▌         | 206/3363 [03:53<59:37,  1.13s/it]  "
     ]
    },
    {
     "name": "stdout",
     "output_type": "stream",
     "text": [
      "0021800202\n",
      "[1610612755 1610612753]\n"
     ]
    },
    {
     "name": "stderr",
     "output_type": "stream",
     "text": [
      "  6%|▌         | 207/3363 [03:54<59:00,  1.12s/it]"
     ]
    },
    {
     "name": "stdout",
     "output_type": "stream",
     "text": [
      "0021800207\n",
      "[1610612763 1610612749]\n"
     ]
    },
    {
     "name": "stderr",
     "output_type": "stream",
     "text": [
      "  6%|▌         | 208/3363 [03:55<58:11,  1.11s/it]"
     ]
    },
    {
     "name": "stdout",
     "output_type": "stream",
     "text": [
      "0021800210\n",
      "[1610612762 1610612742]\n"
     ]
    },
    {
     "name": "stderr",
     "output_type": "stream",
     "text": [
      "  6%|▌         | 209/3363 [03:56<58:05,  1.10s/it]"
     ]
    },
    {
     "name": "stdout",
     "output_type": "stream",
     "text": [
      "0021800208\n",
      "[1610612740 1610612750]\n"
     ]
    },
    {
     "name": "stderr",
     "output_type": "stream",
     "text": [
      "  6%|▌         | 210/3363 [03:57<58:05,  1.11s/it]"
     ]
    },
    {
     "name": "stdout",
     "output_type": "stream",
     "text": [
      "0021800203\n",
      "[1610612739 1610612764]\n"
     ]
    },
    {
     "name": "stderr",
     "output_type": "stream",
     "text": [
      "  6%|▋         | 211/3363 [03:58<57:51,  1.10s/it]"
     ]
    },
    {
     "name": "stdout",
     "output_type": "stream",
     "text": [
      "0021800206\n",
      "[1610612765 1610612761]\n"
     ]
    },
    {
     "name": "stderr",
     "output_type": "stream",
     "text": [
      "  6%|▋         | 212/3363 [04:00<57:51,  1.10s/it]"
     ]
    },
    {
     "name": "stdout",
     "output_type": "stream",
     "text": [
      "0021800209\n",
      "[1610612752 1610612760]\n"
     ]
    },
    {
     "name": "stderr",
     "output_type": "stream",
     "text": [
      "  6%|▋         | 213/3363 [04:01<57:53,  1.10s/it]"
     ]
    },
    {
     "name": "stdout",
     "output_type": "stream",
     "text": [
      "0021800215\n",
      "[1610612759 1610612746]\n"
     ]
    },
    {
     "name": "stderr",
     "output_type": "stream",
     "text": [
      "  6%|▋         | 214/3363 [04:02<58:59,  1.12s/it]"
     ]
    },
    {
     "name": "stdout",
     "output_type": "stream",
     "text": [
      "0021800213\n",
      "[1610612744 1610612745]\n"
     ]
    },
    {
     "name": "stderr",
     "output_type": "stream",
     "text": [
      "  6%|▋         | 215/3363 [04:03<58:37,  1.12s/it]"
     ]
    },
    {
     "name": "stdout",
     "output_type": "stream",
     "text": [
      "0021800214\n",
      "[1610612737 1610612743]\n"
     ]
    },
    {
     "name": "stderr",
     "output_type": "stream",
     "text": [
      "  6%|▋         | 216/3363 [04:04<59:27,  1.13s/it]"
     ]
    },
    {
     "name": "stdout",
     "output_type": "stream",
     "text": [
      "0021800218\n",
      "[1610612762 1610612755]\n"
     ]
    },
    {
     "name": "stderr",
     "output_type": "stream",
     "text": [
      "  6%|▋         | 217/3363 [04:05<59:08,  1.13s/it]"
     ]
    },
    {
     "name": "stdout",
     "output_type": "stream",
     "text": [
      "0021800216\n",
      "[1610612761 1610612738]\n"
     ]
    },
    {
     "name": "stderr",
     "output_type": "stream",
     "text": [
      "  6%|▋         | 218/3363 [04:06<58:51,  1.12s/it]"
     ]
    },
    {
     "name": "stdout",
     "output_type": "stream",
     "text": [
      "0021800223\n",
      "[1610612741 1610612749]\n"
     ]
    },
    {
     "name": "stderr",
     "output_type": "stream",
     "text": [
      "  7%|▋         | 219/3363 [04:07<58:20,  1.11s/it]"
     ]
    },
    {
     "name": "stdout",
     "output_type": "stream",
     "text": [
      "0021800217\n",
      "[1610612748 1610612754]\n"
     ]
    },
    {
     "name": "stderr",
     "output_type": "stream",
     "text": [
      "  7%|▋         | 220/3363 [04:09<59:10,  1.13s/it]"
     ]
    },
    {
     "name": "stdout",
     "output_type": "stream",
     "text": [
      "0021800221\n",
      "[1610612757 1610612750]\n"
     ]
    },
    {
     "name": "stderr",
     "output_type": "stream",
     "text": [
      "  7%|▋         | 221/3363 [04:10<58:57,  1.13s/it]"
     ]
    },
    {
     "name": "stdout",
     "output_type": "stream",
     "text": [
      "0021800219\n",
      "[1610612751 1610612764]\n"
     ]
    },
    {
     "name": "stderr",
     "output_type": "stream",
     "text": [
      "  7%|▋         | 222/3363 [04:11<58:17,  1.11s/it]"
     ]
    },
    {
     "name": "stdout",
     "output_type": "stream",
     "text": [
      "0021800220\n",
      "[1610612758 1610612763]\n"
     ]
    },
    {
     "name": "stderr",
     "output_type": "stream",
     "text": [
      "  7%|▋         | 223/3363 [04:12<58:03,  1.11s/it]"
     ]
    },
    {
     "name": "stdout",
     "output_type": "stream",
     "text": [
      "0021800222\n",
      "[1610612752 1610612740]\n"
     ]
    },
    {
     "name": "stderr",
     "output_type": "stream",
     "text": [
      "  7%|▋         | 224/3363 [04:13<58:04,  1.11s/it]"
     ]
    },
    {
     "name": "stdout",
     "output_type": "stream",
     "text": [
      "0021800230\n",
      "[1610612761 1610612741]\n"
     ]
    },
    {
     "name": "stderr",
     "output_type": "stream",
     "text": [
      "  7%|▋         | 225/3363 [04:14<57:40,  1.10s/it]"
     ]
    },
    {
     "name": "stdout",
     "output_type": "stream",
     "text": [
      "0021800233\n",
      "[1610612760 1610612756]\n"
     ]
    },
    {
     "name": "stderr",
     "output_type": "stream",
     "text": [
      "  7%|▋         | 226/3363 [04:15<57:28,  1.10s/it]"
     ]
    },
    {
     "name": "stdout",
     "output_type": "stream",
     "text": [
      "0021800224\n",
      "[1610612746 1610612751]\n"
     ]
    },
    {
     "name": "stderr",
     "output_type": "stream",
     "text": [
      "  7%|▋         | 227/3363 [04:16<58:11,  1.11s/it]"
     ]
    },
    {
     "name": "stdout",
     "output_type": "stream",
     "text": [
      "0021800229\n",
      "[1610612762 1610612738]\n"
     ]
    },
    {
     "name": "stderr",
     "output_type": "stream",
     "text": [
      "  7%|▋         | 228/3363 [04:17<57:53,  1.11s/it]"
     ]
    },
    {
     "name": "stdout",
     "output_type": "stream",
     "text": [
      "0021800227\n",
      "[1610612747 1610612753]\n"
     ]
    },
    {
     "name": "stderr",
     "output_type": "stream",
     "text": [
      "  7%|▋         | 229/3363 [04:19<57:44,  1.11s/it]"
     ]
    },
    {
     "name": "stdout",
     "output_type": "stream",
     "text": [
      "0021800231\n",
      "[1610612758 1610612745]\n"
     ]
    },
    {
     "name": "stderr",
     "output_type": "stream",
     "text": [
      "  7%|▋         | 230/3363 [04:20<57:18,  1.10s/it]"
     ]
    },
    {
     "name": "stdout",
     "output_type": "stream",
     "text": [
      "0021800226\n",
      "[1610612737 1610612754]\n"
     ]
    },
    {
     "name": "stderr",
     "output_type": "stream",
     "text": [
      "  7%|▋         | 231/3363 [04:21<57:24,  1.10s/it]"
     ]
    },
    {
     "name": "stdout",
     "output_type": "stream",
     "text": [
      "0021800232\n",
      "[1610612744 1610612742]\n"
     ]
    },
    {
     "name": "stderr",
     "output_type": "stream",
     "text": [
      "  7%|▋         | 232/3363 [04:22<57:20,  1.10s/it]"
     ]
    },
    {
     "name": "stdout",
     "output_type": "stream",
     "text": [
      "0021800225\n",
      "[1610612755 1610612766]\n"
     ]
    },
    {
     "name": "stderr",
     "output_type": "stream",
     "text": [
      "  7%|▋         | 233/3363 [04:23<57:31,  1.10s/it]"
     ]
    },
    {
     "name": "stdout",
     "output_type": "stream",
     "text": [
      "0021800228\n",
      "[1610612743 1610612740]\n"
     ]
    },
    {
     "name": "stderr",
     "output_type": "stream",
     "text": [
      "  7%|▋         | 234/3363 [04:24<57:45,  1.11s/it]"
     ]
    },
    {
     "name": "stdout",
     "output_type": "stream",
     "text": [
      "0021800238\n",
      "[1610612744 1610612759]\n"
     ]
    },
    {
     "name": "stderr",
     "output_type": "stream",
     "text": [
      "  7%|▋         | 235/3363 [04:25<57:25,  1.10s/it]"
     ]
    },
    {
     "name": "stdout",
     "output_type": "stream",
     "text": [
      "0021800236\n",
      "[1610612752 1610612753]\n"
     ]
    },
    {
     "name": "stderr",
     "output_type": "stream",
     "text": [
      "  7%|▋         | 236/3363 [04:26<57:33,  1.10s/it]"
     ]
    },
    {
     "name": "stdout",
     "output_type": "stream",
     "text": [
      "0021800235\n",
      "[1610612747 1610612748]\n"
     ]
    },
    {
     "name": "stderr",
     "output_type": "stream",
     "text": [
      "  7%|▋         | 237/3363 [04:27<58:10,  1.12s/it]"
     ]
    },
    {
     "name": "stdout",
     "output_type": "stream",
     "text": [
      "0021800234\n",
      "[1610612763 1610612750]\n"
     ]
    },
    {
     "name": "stderr",
     "output_type": "stream",
     "text": [
      "  7%|▋         | 238/3363 [04:29<59:35,  1.14s/it]"
     ]
    },
    {
     "name": "stdout",
     "output_type": "stream",
     "text": [
      "0021800237\n",
      "[1610612757 1610612764]\n"
     ]
    },
    {
     "name": "stderr",
     "output_type": "stream",
     "text": [
      "  7%|▋         | 239/3363 [04:30<1:01:50,  1.19s/it]"
     ]
    },
    {
     "name": "stdout",
     "output_type": "stream",
     "text": [
      "0021800242\n",
      "[1610612756 1610612755]\n"
     ]
    },
    {
     "name": "stderr",
     "output_type": "stream",
     "text": [
      "  7%|▋         | 240/3363 [04:31<1:01:52,  1.19s/it]"
     ]
    },
    {
     "name": "stdout",
     "output_type": "stream",
     "text": [
      "0021800240\n",
      "[1610612739 1610612765]\n"
     ]
    },
    {
     "name": "stderr",
     "output_type": "stream",
     "text": [
      "  7%|▋         | 241/3363 [04:32<1:05:07,  1.25s/it]"
     ]
    },
    {
     "name": "stdout",
     "output_type": "stream",
     "text": [
      "0021800245\n",
      "[1610612743 1610612749]\n"
     ]
    },
    {
     "name": "stderr",
     "output_type": "stream",
     "text": [
      "  7%|▋         | 242/3363 [04:34<1:03:32,  1.22s/it]"
     ]
    },
    {
     "name": "stdout",
     "output_type": "stream",
     "text": [
      "0021800241\n",
      "[1610612762 1610612754]\n"
     ]
    },
    {
     "name": "stderr",
     "output_type": "stream",
     "text": [
      "  7%|▋         | 243/3363 [04:36<1:18:29,  1.51s/it]"
     ]
    },
    {
     "name": "stdout",
     "output_type": "stream",
     "text": [
      "0021800243\n",
      "[1610612746 1610612737]\n"
     ]
    },
    {
     "name": "stderr",
     "output_type": "stream",
     "text": [
      "  7%|▋         | 244/3363 [04:37<1:17:14,  1.49s/it]"
     ]
    },
    {
     "name": "stdout",
     "output_type": "stream",
     "text": [
      "0021800247\n",
      "[1610612760 1610612758]\n"
     ]
    },
    {
     "name": "stderr",
     "output_type": "stream",
     "text": [
      "  7%|▋         | 245/3363 [04:39<1:14:08,  1.43s/it]"
     ]
    },
    {
     "name": "stdout",
     "output_type": "stream",
     "text": [
      "0021800239\n",
      "[1610612738 1610612766]\n"
     ]
    },
    {
     "name": "stderr",
     "output_type": "stream",
     "text": [
      "  7%|▋         | 246/3363 [04:40<1:09:24,  1.34s/it]"
     ]
    },
    {
     "name": "stdout",
     "output_type": "stream",
     "text": [
      "0021800244\n",
      "[1610612742 1610612763]\n"
     ]
    },
    {
     "name": "stderr",
     "output_type": "stream",
     "text": [
      "  7%|▋         | 247/3363 [04:41<1:06:19,  1.28s/it]"
     ]
    },
    {
     "name": "stdout",
     "output_type": "stream",
     "text": [
      "0021800246\n",
      "[1610612759 1610612740]\n"
     ]
    },
    {
     "name": "stderr",
     "output_type": "stream",
     "text": [
      "  7%|▋         | 248/3363 [04:42<1:03:42,  1.23s/it]"
     ]
    },
    {
     "name": "stdout",
     "output_type": "stream",
     "text": [
      "0021800251\n",
      "[1610612757 1610612752]\n"
     ]
    },
    {
     "name": "stderr",
     "output_type": "stream",
     "text": [
      "  7%|▋         | 249/3363 [04:43<1:01:58,  1.19s/it]"
     ]
    },
    {
     "name": "stdout",
     "output_type": "stream",
     "text": [
      "0021800248\n",
      "[1610612761 1610612753]\n"
     ]
    },
    {
     "name": "stderr",
     "output_type": "stream",
     "text": [
      "  7%|▋         | 250/3363 [04:44<1:01:14,  1.18s/it]"
     ]
    },
    {
     "name": "stdout",
     "output_type": "stream",
     "text": [
      "0021800250\n",
      "[1610612751 1610612748]\n"
     ]
    },
    {
     "name": "stderr",
     "output_type": "stream",
     "text": [
      "  7%|▋         | 251/3363 [04:45<1:01:30,  1.19s/it]"
     ]
    },
    {
     "name": "stdout",
     "output_type": "stream",
     "text": [
      "0021800249\n",
      "[1610612746 1610612764]\n"
     ]
    },
    {
     "name": "stderr",
     "output_type": "stream",
     "text": [
      "  7%|▋         | 252/3363 [04:46<1:00:01,  1.16s/it]"
     ]
    },
    {
     "name": "stdout",
     "output_type": "stream",
     "text": [
      "0021800253\n",
      "[1610612740 1610612755]\n"
     ]
    },
    {
     "name": "stderr",
     "output_type": "stream",
     "text": [
      "  8%|▊         | 253/3363 [04:48<59:44,  1.15s/it]  "
     ]
    },
    {
     "name": "stdout",
     "output_type": "stream",
     "text": [
      "0021800264\n",
      "[1610612760 1610612744]\n"
     ]
    },
    {
     "name": "stderr",
     "output_type": "stream",
     "text": [
      "  8%|▊         | 254/3363 [04:49<58:52,  1.14s/it]"
     ]
    },
    {
     "name": "stdout",
     "output_type": "stream",
     "text": [
      "0021800262\n",
      "[1610612763 1610612759]\n"
     ]
    },
    {
     "name": "stderr",
     "output_type": "stream",
     "text": [
      "  8%|▊         | 255/3363 [04:50<58:50,  1.14s/it]"
     ]
    },
    {
     "name": "stdout",
     "output_type": "stream",
     "text": [
      "0021800257\n",
      "[1610612756 1610612741]\n"
     ]
    },
    {
     "name": "stderr",
     "output_type": "stream",
     "text": [
      "  8%|▊         | 256/3363 [04:51<59:01,  1.14s/it]"
     ]
    },
    {
     "name": "stdout",
     "output_type": "stream",
     "text": [
      "0021800255\n",
      "[1610612752 1610612738]\n"
     ]
    },
    {
     "name": "stderr",
     "output_type": "stream",
     "text": [
      "  8%|▊         | 257/3363 [04:52<58:10,  1.12s/it]"
     ]
    },
    {
     "name": "stdout",
     "output_type": "stream",
     "text": [
      "0021800258\n",
      "[1610612765 1610612745]\n"
     ]
    },
    {
     "name": "stderr",
     "output_type": "stream",
     "text": [
      "  8%|▊         | 258/3363 [04:53<57:46,  1.12s/it]"
     ]
    },
    {
     "name": "stdout",
     "output_type": "stream",
     "text": [
      "0021800256\n",
      "[1610612747 1610612739]\n"
     ]
    },
    {
     "name": "stderr",
     "output_type": "stream",
     "text": [
      "  8%|▊         | 259/3363 [04:54<57:14,  1.11s/it]"
     ]
    },
    {
     "name": "stdout",
     "output_type": "stream",
     "text": [
      "0021800259\n",
      "[1610612757 1610612749]\n"
     ]
    },
    {
     "name": "stderr",
     "output_type": "stream",
     "text": [
      "  8%|▊         | 260/3363 [04:55<56:39,  1.10s/it]"
     ]
    },
    {
     "name": "stdout",
     "output_type": "stream",
     "text": [
      "0021800263\n",
      "[1610612758 1610612762]\n"
     ]
    },
    {
     "name": "stderr",
     "output_type": "stream",
     "text": [
      "  8%|▊         | 261/3363 [04:56<56:57,  1.10s/it]"
     ]
    },
    {
     "name": "stdout",
     "output_type": "stream",
     "text": [
      "0021800254\n",
      "[1610612761 1610612737]\n"
     ]
    },
    {
     "name": "stderr",
     "output_type": "stream",
     "text": [
      "  8%|▊         | 262/3363 [04:58<1:01:01,  1.18s/it]"
     ]
    },
    {
     "name": "stdout",
     "output_type": "stream",
     "text": [
      "0021800261\n",
      "[1610612751 1610612742]\n"
     ]
    },
    {
     "name": "stderr",
     "output_type": "stream",
     "text": [
      "  8%|▊         | 263/3363 [04:59<1:01:47,  1.20s/it]"
     ]
    },
    {
     "name": "stdout",
     "output_type": "stream",
     "text": [
      "0021800260\n",
      "[1610612743 1610612750]\n"
     ]
    },
    {
     "name": "stderr",
     "output_type": "stream",
     "text": [
      "  8%|▊         | 264/3363 [05:00<1:00:43,  1.18s/it]"
     ]
    },
    {
     "name": "stdout",
     "output_type": "stream",
     "text": [
      "0021800252\n",
      "[1610612754 1610612766]\n"
     ]
    },
    {
     "name": "stderr",
     "output_type": "stream",
     "text": [
      "  8%|▊         | 265/3363 [05:01<59:35,  1.15s/it]  "
     ]
    },
    {
     "name": "stdout",
     "output_type": "stream",
     "text": [
      "0021800270\n",
      "[1610612739 1610612755]\n"
     ]
    },
    {
     "name": "stderr",
     "output_type": "stream",
     "text": [
      "  8%|▊         | 266/3363 [05:02<59:08,  1.15s/it]"
     ]
    },
    {
     "name": "stdout",
     "output_type": "stream",
     "text": [
      "0021800277\n",
      "[1610612757 1610612744]\n"
     ]
    },
    {
     "name": "stderr",
     "output_type": "stream",
     "text": [
      "  8%|▊         | 267/3363 [05:04<59:24,  1.15s/it]"
     ]
    },
    {
     "name": "stdout",
     "output_type": "stream",
     "text": [
      "0021800278\n",
      "[1610612762 1610612747]\n"
     ]
    },
    {
     "name": "stderr",
     "output_type": "stream",
     "text": [
      "  8%|▊         | 268/3363 [05:05<59:03,  1.14s/it]"
     ]
    },
    {
     "name": "stdout",
     "output_type": "stream",
     "text": [
      "0021800273\n",
      "[1610612748 1610612741]\n"
     ]
    },
    {
     "name": "stderr",
     "output_type": "stream",
     "text": [
      "  8%|▊         | 269/3363 [05:06<58:52,  1.14s/it]"
     ]
    },
    {
     "name": "stdout",
     "output_type": "stream",
     "text": [
      "0021800269\n",
      "[1610612740 1610612752]\n"
     ]
    },
    {
     "name": "stderr",
     "output_type": "stream",
     "text": [
      "  8%|▊         | 270/3363 [05:07<58:24,  1.13s/it]"
     ]
    },
    {
     "name": "stdout",
     "output_type": "stream",
     "text": [
      "0021800265\n",
      "[1610612750 1610612751]\n"
     ]
    },
    {
     "name": "stderr",
     "output_type": "stream",
     "text": [
      "  8%|▊         | 271/3363 [05:08<58:08,  1.13s/it]"
     ]
    },
    {
     "name": "stdout",
     "output_type": "stream",
     "text": [
      "0021800266\n",
      "[1610612763 1610612746]\n"
     ]
    },
    {
     "name": "stderr",
     "output_type": "stream",
     "text": [
      "  8%|▊         | 272/3363 [05:09<57:49,  1.12s/it]"
     ]
    },
    {
     "name": "stdout",
     "output_type": "stream",
     "text": [
      "0021800267\n",
      "[1610612745 1610612765]\n"
     ]
    },
    {
     "name": "stderr",
     "output_type": "stream",
     "text": [
      "  8%|▊         | 273/3363 [05:10<57:24,  1.11s/it]"
     ]
    },
    {
     "name": "stdout",
     "output_type": "stream",
     "text": [
      "0021800275\n",
      "[1610612756 1610612749]\n"
     ]
    },
    {
     "name": "stderr",
     "output_type": "stream",
     "text": [
      "  8%|▊         | 274/3363 [05:11<57:23,  1.11s/it]"
     ]
    },
    {
     "name": "stdout",
     "output_type": "stream",
     "text": [
      "0021800272\n",
      "[1610612759 1610612754]\n"
     ]
    },
    {
     "name": "stderr",
     "output_type": "stream",
     "text": [
      "  8%|▊         | 275/3363 [05:12<57:06,  1.11s/it]"
     ]
    },
    {
     "name": "stdout",
     "output_type": "stream",
     "text": [
      "0021800268\n",
      "[1610612738 1610612737]\n"
     ]
    },
    {
     "name": "stderr",
     "output_type": "stream",
     "text": [
      "  8%|▊         | 276/3363 [05:14<57:18,  1.11s/it]"
     ]
    },
    {
     "name": "stdout",
     "output_type": "stream",
     "text": [
      "0021800276\n",
      "[1610612753 1610612743]\n"
     ]
    },
    {
     "name": "stderr",
     "output_type": "stream",
     "text": [
      "  8%|▊         | 277/3363 [05:15<57:04,  1.11s/it]"
     ]
    },
    {
     "name": "stdout",
     "output_type": "stream",
     "text": [
      "0021800271\n",
      "[1610612764 1610612761]\n"
     ]
    },
    {
     "name": "stderr",
     "output_type": "stream",
     "text": [
      "  8%|▊         | 278/3363 [05:16<57:07,  1.11s/it]"
     ]
    },
    {
     "name": "stdout",
     "output_type": "stream",
     "text": [
      "0021800274\n",
      "[1610612766 1610612760]\n"
     ]
    },
    {
     "name": "stderr",
     "output_type": "stream",
     "text": [
      "  8%|▊         | 279/3363 [05:17<56:32,  1.10s/it]"
     ]
    },
    {
     "name": "stdout",
     "output_type": "stream",
     "text": [
      "0021800285\n",
      "[1610612758 1610612744]\n"
     ]
    },
    {
     "name": "stderr",
     "output_type": "stream",
     "text": [
      "  8%|▊         | 280/3363 [05:18<56:25,  1.10s/it]"
     ]
    },
    {
     "name": "stdout",
     "output_type": "stream",
     "text": [
      "0021800279\n",
      "[1610612745 1610612739]\n"
     ]
    },
    {
     "name": "stderr",
     "output_type": "stream",
     "text": [
      "  8%|▊         | 281/3363 [05:19<56:25,  1.10s/it]"
     ]
    },
    {
     "name": "stdout",
     "output_type": "stream",
     "text": [
      "0021800284\n",
      "[1610612759 1610612749]\n"
     ]
    },
    {
     "name": "stderr",
     "output_type": "stream",
     "text": [
      "  8%|▊         | 282/3363 [05:20<56:19,  1.10s/it]"
     ]
    },
    {
     "name": "stdout",
     "output_type": "stream",
     "text": [
      "0021800283\n",
      "[1610612738 1610612742]\n"
     ]
    },
    {
     "name": "stderr",
     "output_type": "stream",
     "text": [
      "  8%|▊         | 283/3363 [05:21<56:21,  1.10s/it]"
     ]
    },
    {
     "name": "stdout",
     "output_type": "stream",
     "text": [
      "0021800281\n",
      "[1610612741 1610612750]\n"
     ]
    },
    {
     "name": "stderr",
     "output_type": "stream",
     "text": [
      "  8%|▊         | 284/3363 [05:22<56:34,  1.10s/it]"
     ]
    },
    {
     "name": "stdout",
     "output_type": "stream",
     "text": [
      "0021800280\n",
      "[1610612740 1610612764]\n"
     ]
    },
    {
     "name": "stderr",
     "output_type": "stream",
     "text": [
      "  8%|▊         | 285/3363 [05:23<56:20,  1.10s/it]"
     ]
    },
    {
     "name": "stdout",
     "output_type": "stream",
     "text": [
      "0021800282\n",
      "[1610612743 1610612760]\n"
     ]
    },
    {
     "name": "stderr",
     "output_type": "stream",
     "text": [
      "  9%|▊         | 286/3363 [05:25<56:31,  1.10s/it]"
     ]
    },
    {
     "name": "stdout",
     "output_type": "stream",
     "text": [
      "0021800286\n",
      "[1610612753 1610612747]\n"
     ]
    },
    {
     "name": "stderr",
     "output_type": "stream",
     "text": [
      "  9%|▊         | 287/3363 [05:26<58:30,  1.14s/it]"
     ]
    },
    {
     "name": "stdout",
     "output_type": "stream",
     "text": [
      "0021800289\n",
      "[1610612755 1610612751]\n"
     ]
    },
    {
     "name": "stderr",
     "output_type": "stream",
     "text": [
      "  9%|▊         | 288/3363 [05:27<57:50,  1.13s/it]"
     ]
    },
    {
     "name": "stdout",
     "output_type": "stream",
     "text": [
      "0021800287\n"
     ]
    },
    {
     "name": "stderr",
     "output_type": "stream",
     "text": [
      "  9%|▊         | 290/3363 [05:27<35:02,  1.46it/s]"
     ]
    },
    {
     "name": "stdout",
     "output_type": "stream",
     "text": [
      "ID 0021800287 got skipped\n",
      "0021800293\n",
      "ID 0021800293 got skipped\n",
      "0021800288\n"
     ]
    },
    {
     "name": "stderr",
     "output_type": "stream",
     "text": [
      "  9%|▊         | 291/3363 [05:28<27:24,  1.87it/s]"
     ]
    },
    {
     "name": "stdout",
     "output_type": "stream",
     "text": [
      "ID 0021800288 got skipped\n",
      "0021800292\n",
      "[1610612762 1610612758]\n"
     ]
    },
    {
     "name": "stderr",
     "output_type": "stream",
     "text": [
      "  9%|▊         | 292/3363 [05:29<36:05,  1.42it/s]"
     ]
    },
    {
     "name": "stdout",
     "output_type": "stream",
     "text": [
      "0021800290\n",
      "[1610612748 1610612761]\n"
     ]
    },
    {
     "name": "stderr",
     "output_type": "stream",
     "text": [
      "  9%|▊         | 293/3363 [05:30<42:55,  1.19it/s]"
     ]
    },
    {
     "name": "stdout",
     "output_type": "stream",
     "text": [
      "0021800291\n",
      "[1610612752 1610612763]\n"
     ]
    },
    {
     "name": "stderr",
     "output_type": "stream",
     "text": [
      "  9%|▊         | 294/3363 [05:31<47:02,  1.09it/s]"
     ]
    },
    {
     "name": "stdout",
     "output_type": "stream",
     "text": [
      "0021800300\n",
      "[1610612753 1610612744]\n"
     ]
    },
    {
     "name": "stderr",
     "output_type": "stream",
     "text": [
      "  9%|▉         | 295/3363 [05:32<50:01,  1.02it/s]"
     ]
    },
    {
     "name": "stdout",
     "output_type": "stream",
     "text": [
      "0021800297\n",
      "[1610612759 1610612741]\n"
     ]
    },
    {
     "name": "stderr",
     "output_type": "stream",
     "text": [
      "  9%|▉         | 296/3363 [05:33<51:44,  1.01s/it]"
     ]
    },
    {
     "name": "stdout",
     "output_type": "stream",
     "text": [
      "0021800295\n",
      "[1610612750 1610612739]\n"
     ]
    },
    {
     "name": "stderr",
     "output_type": "stream",
     "text": [
      "  9%|▉         | 297/3363 [05:34<53:47,  1.05s/it]"
     ]
    },
    {
     "name": "stdout",
     "output_type": "stream",
     "text": [
      "0021800299\n",
      "[1610612754 1610612762]\n"
     ]
    },
    {
     "name": "stderr",
     "output_type": "stream",
     "text": [
      "  9%|▉         | 298/3363 [05:35<54:37,  1.07s/it]"
     ]
    },
    {
     "name": "stdout",
     "output_type": "stream",
     "text": [
      "0021800294\n",
      "[1610612749 1610612766]\n"
     ]
    }
   ],
   "source": [
    "# get starters and roster\n",
    "starters, roster = get_roster_and_starters(data)\n",
    "\n",
    "# get starting lineups, subs and on court players\n",
    "#starting_lineups = get_starting_lineup(starters)\n",
    "#subs = get_all_subs(data=data)\n",
    "#court = get_on_court(data=data, starters=starters, sub=subs)"
   ]
  }
 ],
 "metadata": {
  "kernelspec": {
   "display_name": "Python 3",
   "language": "python",
   "name": "python3"
  },
  "language_info": {
   "codemirror_mode": {
    "name": "ipython",
    "version": 3
   },
   "file_extension": ".py",
   "mimetype": "text/x-python",
   "name": "python",
   "nbconvert_exporter": "python",
   "pygments_lexer": "ipython3",
   "version": "3.9.7"
  }
 },
 "nbformat": 4,
 "nbformat_minor": 5
}
