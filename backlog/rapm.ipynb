{
 "cells": [
  {
   "cell_type": "code",
   "execution_count": 2,
   "id": "1e1b370c-ff1c-4919-9566-4cb6eb8e55ed",
   "metadata": {},
   "outputs": [],
   "source": [
    "import pandas as pd\n",
    "import numpy as np\n",
    "import seaborn as sns\n",
    "import matplotlib.pyplot as plt"
   ]
  },
  {
   "cell_type": "code",
   "execution_count": 8,
   "id": "6e26836a-874c-4e57-8d05-11adb19802b4",
   "metadata": {},
   "outputs": [],
   "source": [
    "df_schedule = pd.read_csv(\"./data/season_prediction/schedule.csv\", dtype={'GAME_ID': str})\n",
    "#df_boxscores = pd.read_csv(\"./data/season_prediction/boxscores.csv\", dtype={'GAME_ID': str})"
   ]
  },
  {
   "cell_type": "code",
   "execution_count": 6,
   "id": "18f1554a-2929-4209-9543-de15f14cb825",
   "metadata": {},
   "outputs": [],
   "source": [
    "from nba_api.stats.endpoints import playbyplayv2\n",
    "import time\n",
    "from tqdm import tqdm\n",
    "def load_data_pbp(season_ids, limit=None):\n",
    "    \n",
    "    # load the data\n",
    "    df_schedule = pd.read_csv(\"./data/season_prediction/schedule.csv\", dtype={'GAME_ID': str})\n",
    "    df_boxscores = pd.read_csv(\"./data/season_prediction/boxscores.csv\", dtype={'GAME_ID': str})\n",
    "    \n",
    "    print(f'Get data for the season_ids: {season_ids}')\n",
    "    \n",
    "    #game_ids = [\"0022001074\", \"0021900001\"]\n",
    "    game_ids = df_schedule[df_schedule['SEASON_ID'].isin(season_ids)]['GAME_ID'].unique()\n",
    "    \n",
    "    if limit is not None:\n",
    "        game_ids = game_ids[0:limit]\n",
    "    \n",
    "    list_data = list()\n",
    "\n",
    "    for game in tqdm(game_ids):\n",
    "        \n",
    "        try:\n",
    "            # pbp call, append\n",
    "            call = playbyplayv2.PlayByPlayV2(game_id=game, start_period=1, end_period=4)\n",
    "            data_load = pd.concat(call.get_data_frames())\n",
    "            list_data.append(data_load)\n",
    "        \n",
    "        except:\n",
    "            print(f\"Skipped the ID: {game}\")\n",
    "            next\n",
    "        \n",
    "        # sleep\n",
    "        time.sleep(0.75)\n",
    "\n",
    "    data_load = pd.concat(list_data)\n",
    "    data_load = data_load[~data_load['GAME_ID'].isna()]\n",
    "    \n",
    "    return data_load"
   ]
  },
  {
   "cell_type": "code",
   "execution_count": 4,
   "id": "f5544579-4d59-4d65-af42-2601baf76905",
   "metadata": {},
   "outputs": [
    {
     "name": "stderr",
     "output_type": "stream",
     "text": [
      "  0%|          | 0/3369 [00:00<?, ?it/s]"
     ]
    },
    {
     "name": "stdout",
     "output_type": "stream",
     "text": [
      "Get data for the season_ids: [22020, 22019, 22018]\n"
     ]
    },
    {
     "name": "stderr",
     "output_type": "stream",
     "text": [
      "  0%|          | 1/3369 [00:02<1:52:18,  2.00s/it]"
     ]
    },
    {
     "name": "stdout",
     "output_type": "stream",
     "text": [
      "Skipped the ID: 0021800001\n"
     ]
    },
    {
     "name": "stderr",
     "output_type": "stream",
     "text": [
      "  0%|          | 2/3369 [00:03<1:46:44,  1.90s/it]\n"
     ]
    },
    {
     "ename": "KeyboardInterrupt",
     "evalue": "",
     "output_type": "error",
     "traceback": [
      "\u001b[0;31m---------------------------------------------------------------------------\u001b[0m",
      "\u001b[0;31mKeyboardInterrupt\u001b[0m                         Traceback (most recent call last)",
      "\u001b[0;32m<ipython-input-4-f40fb3a6be45>\u001b[0m in \u001b[0;36m<module>\u001b[0;34m\u001b[0m\n\u001b[0;32m----> 1\u001b[0;31m \u001b[0mdata_load\u001b[0m \u001b[0;34m=\u001b[0m \u001b[0mload_data_pbp\u001b[0m\u001b[0;34m(\u001b[0m\u001b[0mseason_ids\u001b[0m\u001b[0;34m=\u001b[0m\u001b[0;34m[\u001b[0m\u001b[0;36m22020\u001b[0m\u001b[0;34m,\u001b[0m \u001b[0;36m22019\u001b[0m\u001b[0;34m,\u001b[0m \u001b[0;36m22018\u001b[0m\u001b[0;34m]\u001b[0m\u001b[0;34m)\u001b[0m\u001b[0;34m\u001b[0m\u001b[0;34m\u001b[0m\u001b[0m\n\u001b[0m",
      "\u001b[0;32m<ipython-input-3-2946fcae20c6>\u001b[0m in \u001b[0;36mload_data_pbp\u001b[0;34m(season_ids, limit)\u001b[0m\n\u001b[1;32m     31\u001b[0m \u001b[0;34m\u001b[0m\u001b[0m\n\u001b[1;32m     32\u001b[0m         \u001b[0;31m# sleep\u001b[0m\u001b[0;34m\u001b[0m\u001b[0;34m\u001b[0m\u001b[0m\n\u001b[0;32m---> 33\u001b[0;31m         \u001b[0mtime\u001b[0m\u001b[0;34m.\u001b[0m\u001b[0msleep\u001b[0m\u001b[0;34m(\u001b[0m\u001b[0;36m0.75\u001b[0m\u001b[0;34m)\u001b[0m\u001b[0;34m\u001b[0m\u001b[0;34m\u001b[0m\u001b[0m\n\u001b[0m\u001b[1;32m     34\u001b[0m \u001b[0;34m\u001b[0m\u001b[0m\n\u001b[1;32m     35\u001b[0m     \u001b[0mdata_load\u001b[0m \u001b[0;34m=\u001b[0m \u001b[0mpd\u001b[0m\u001b[0;34m.\u001b[0m\u001b[0mconcat\u001b[0m\u001b[0;34m(\u001b[0m\u001b[0mlist_data\u001b[0m\u001b[0;34m)\u001b[0m\u001b[0;34m\u001b[0m\u001b[0;34m\u001b[0m\u001b[0m\n",
      "\u001b[0;31mKeyboardInterrupt\u001b[0m: "
     ]
    }
   ],
   "source": [
    "#data_load = load_data_pbp(season_ids=[22020, 22019, 22018])"
   ]
  },
  {
   "cell_type": "code",
   "execution_count": null,
   "id": "e0333422-09e7-42e1-989b-97efaa0fb0e7",
   "metadata": {},
   "outputs": [],
   "source": [
    "data = pd.read_csv(\"pbp_safe_data.csv\")"
   ]
  },
  {
   "cell_type": "code",
   "execution_count": null,
   "id": "bdad8035-8e38-43de-afe0-213219070222",
   "metadata": {},
   "outputs": [],
   "source": [
    "data.columns"
   ]
  },
  {
   "cell_type": "code",
   "execution_count": null,
   "id": "a6cf5a7e-5435-4d91-b437-17b06a15809d",
   "metadata": {},
   "outputs": [],
   "source": [
    "data = data_load"
   ]
  },
  {
   "cell_type": "code",
   "execution_count": null,
   "id": "3f0fb36f-1285-4c4a-a938-7008bee90d2f",
   "metadata": {},
   "outputs": [],
   "source": [
    "df_schedule['SEASON_ID'].unique()"
   ]
  },
  {
   "cell_type": "code",
   "execution_count": null,
   "id": "098aef8c-ed79-4cc5-8b8d-312b20b3d5de",
   "metadata": {},
   "outputs": [],
   "source": [
    "data"
   ]
  },
  {
   "cell_type": "code",
   "execution_count": 7,
   "id": "db9c8886-3d8b-4156-a431-8d1ffec09956",
   "metadata": {},
   "outputs": [],
   "source": [
    "def preprocessing_stint_data(data):\n",
    "    \n",
    "    # transform time, get game_time_left in seconds\n",
    "    data['game_time_s'] = 60*data['PCTIMESTRING'].apply(lambda x: str(x).split(':')).apply(lambda x: x[0]).astype(float) + data['PCTIMESTRING'].apply(lambda x: str(x).split(':')).apply(lambda x: x[-1]).astype(float)\n",
    "    data['game_time_left'] = (5 - data['PERIOD'])*data['game_time_s']\n",
    "    data = data[~data['GAME_ID'].isna()]\n",
    "    data = data[data['NEUTRALDESCRIPTION'].isna()]\n",
    "\n",
    "    bool_ft = (data['EVENTMSGTYPE'] == 3).to_numpy() # Free-throws\n",
    "    bool_fgm = (data['EVENTMSGTYPE'] == 1).to_numpy() # Field goals made\n",
    "    bool_sub = (data['EVENTMSGTYPE'] == 8).to_numpy() # substitutions\n",
    "    bool_tech = ((data['EVENTMSGTYPE'] == 6) & (data['EVENTMSGACTIONTYPE'].isin([10, 11, 16, 18, 25]))).to_numpy() # technical fouls\n",
    "    bool_eject_tech = ((data['EVENTMSGTYPE'] == 11) & (data['EVENTMSGACTIONTYPE'] == 1)).to_numpy() # ejct 2nd technical fouls\n",
    "    bool_ingame_plays = ~(bool_sub | bool_tech | bool_eject_tech)\n",
    "    bool_away = (data['HOMEDESCRIPTION'].isna()).to_numpy()\n",
    "    bool_home = (data['VISITORDESCRIPTION'].isna()).to_numpy()\n",
    "\n",
    "    data.loc[bool_away, 'TEAM_LOCATION'] = \"AWAY\"\n",
    "    data.loc[bool_home, 'TEAM_LOCATION'] = \"HOME\"\n",
    "    \n",
    "    return data, bool_ingame_plays"
   ]
  },
  {
   "cell_type": "code",
   "execution_count": null,
   "id": "8e920fcc-db1d-4430-b17e-1936435a8ee4",
   "metadata": {},
   "outputs": [],
   "source": [
    "data, bool_ingame_plays = preprocessing_stint_data(data)\n",
    "id_vars=['GAME_ID','EVENTNUM', 'PERIOD', 'TEAM_LOCATION', 'PLAYER1_TEAM_ID']"
   ]
  },
  {
   "cell_type": "code",
   "execution_count": 8,
   "id": "eac53ccd-798d-4b5b-8704-1fd879e374d7",
   "metadata": {},
   "outputs": [],
   "source": [
    "import warnings\n",
    "from tqdm import tqdm\n",
    "warnings.filterwarnings(\"ignore\")\n",
    "def create_stint(data):\n",
    "\n",
    "    # create the stint_marker\n",
    "    bool_subs = data['EVENTMSGTYPE'] == 8\n",
    "    data.loc[bool_subs, 'stint_marker'] = np.arange(start=1, stop=np.sum(bool_subs) + 1)\n",
    "\n",
    "    # create idx array\n",
    "    inter_id = np.where(~data['stint_marker'].isna())[0] + 1\n",
    "    last_id = data.shape[0]\n",
    "    first_id = 0\n",
    "\n",
    "    # idx\n",
    "    idx = np.where(~data['stint_marker'].isna())[0] + 1\n",
    "\n",
    "    list_stint = list()\n",
    "\n",
    "    for i, ids in tqdm(enumerate(idx)):\n",
    "\n",
    "        # first iteration\n",
    "        if i == 0:\n",
    "            tmp = data.iloc[:idx[0]]\n",
    "\n",
    "        # in between\n",
    "        else:\n",
    "            tmp = data.iloc[idx[i - 1]:idx[i]]\n",
    "\n",
    "        # append to list\n",
    "        list_stint.append(tmp)\n",
    "\n",
    "    # append the last iteration\n",
    "    stint = data.iloc[idx[-1]:]\n",
    "    stint['stint'] = i\n",
    "    list_stint.append(stint)\n",
    "    print(i)\n",
    "    # insert the stint counter\n",
    "    #for i, stint in enumerate(list_stint):\n",
    "    #    stint['stint'] = i\n",
    "\n",
    "    return pd.concat(list_stint)"
   ]
  },
  {
   "cell_type": "code",
   "execution_count": 9,
   "id": "4fed063e-bde8-45a3-a9a2-1bc7f42f6823",
   "metadata": {},
   "outputs": [],
   "source": [
    "def get_score(data):\n",
    "    \n",
    "    bool_score = ~data['SCORE'].isna()\n",
    "    \n",
    "    data.loc[bool_score, 'HOME_PTS'] = data[bool_score]['SCORE'].apply(lambda x: x.split(' - ')[0]).astype(int)\n",
    "    data.loc[bool_score, 'AWAY_PTS'] = data[bool_score]['SCORE'].apply(lambda x: x.split(' - ')[1]).astype(int)\n",
    "    \n",
    "    data['HOME_PM'] = data['HOME_PTS'] - data['AWAY_PTS']\n",
    "    data['AWAY_PM'] = data['AWAY_PTS'] - data['HOME_PTS']\n",
    "    \n",
    "    return data\n",
    "def estimate_possessions(data, bool_ingame_plays):\n",
    "    # get the estimated possessions - potential to be more accurate! Change forumula here\n",
    "    tmp = np.floor((data[bool_ingame_plays].groupby(['GAME_ID', 'TEAM_LOCATION', 'stint']).count()/2))['EVENTNUM'].reset_index()\n",
    "    tmp = tmp.rename(columns={'EVENTNUM':'EST_POSSESSIONS'})\n",
    "    \n",
    "    # merge to dataframe\n",
    "    tmp2 = pd.merge(data, tmp, on=['GAME_ID', 'TEAM_LOCATION', 'stint'], how='left')\n",
    "    bool_poss_na = tmp2['EST_POSSESSIONS'].isna()\n",
    "    \n",
    "    # set \"empty stints\" to zero\n",
    "    tmp2.loc[bool_poss_na, 'EST_POSSESSIONS'] = None\n",
    "    \n",
    "    return tmp2\n",
    "def estimate_pm_100(data):\n",
    "    # formula for Plus Minus per 100 possessions\n",
    "    data['HOME_PM_100'] = np.floor(data['HOME_PM'] * (100 / data['EST_POSSESSIONS']))\n",
    "    data['AWAY_PM_100'] = np.floor(data['AWAY_PM'] * (100 / data['EST_POSSESSIONS']))\n",
    "    \n",
    "    # replace inf with nan\n",
    "    data.loc[np.isinf(data['HOME_PM_100']), 'HOME_PM_100'] = np.nan\n",
    "    data.loc[np.isinf(data['AWAY_PM_100']), 'AWAY_PM_100'] = np.nan\n",
    "    \n",
    "    return data"
   ]
  },
  {
   "cell_type": "code",
   "execution_count": 10,
   "id": "3ee15508-9447-4391-9a82-3ef90004d7a3",
   "metadata": {},
   "outputs": [],
   "source": []
  },
  {
   "cell_type": "code",
   "execution_count": 11,
   "id": "c9e5f299-9ae1-415e-a33d-870af07553fc",
   "metadata": {},
   "outputs": [],
   "source": []
  },
  {
   "cell_type": "code",
   "execution_count": 12,
   "id": "ffe13cf7-81b5-4f43-859d-995e08106fa5",
   "metadata": {},
   "outputs": [],
   "source": [
    "import time\n",
    "from tqdm import tqdm\n",
    "from nba_api.stats.endpoints import boxscoreadvancedv2\n",
    "def get_roster_and_starters(data):\n",
    "    \n",
    "    list_starters = list()\n",
    "    list_roster = list()\n",
    "    \n",
    "    print(data.head())\n",
    "    \n",
    "    unique_games = data['GAME_ID'].unique()\n",
    "    \n",
    "    print(unique_games)\n",
    "    \n",
    "    for gameid in tqdm(unique_games):\n",
    "            print(gameid)\n",
    "            \n",
    "            call_boxscore = boxscoreadvancedv2.BoxScoreAdvancedV2(game_id=gameid)\n",
    "            game = pd.concat(call_boxscore.get_data_frames())\n",
    "\n",
    "            # get home or away\n",
    "            print(game['TEAM_ID'].unique())\n",
    "            away_team_id = game['TEAM_ID'].unique()[0] # maybe replace by table that has TEAM_LOCATION for all games\n",
    "\n",
    "            game['TEAM_LOCATION'] = np.where(game['TEAM_ID'] == away_team_id, 'AWAY', 'HOME')\n",
    "\n",
    "\n",
    "            tmp2 = game[~game['START_POSITION'].isna()][['START_POSITION', 'PLAYER_ID', 'GAME_ID', 'TEAM_ID', 'TEAM_LOCATION']]\n",
    "            tmp2['STARTER'] = np.where((tmp2['START_POSITION'] == \"\"), False, True)\n",
    "            tmp2 = tmp2.drop_duplicates()  # just in case\n",
    "\n",
    "            list_starters.append(tmp2[tmp2['STARTER']])\n",
    "            list_roster.append(tmp2)\n",
    "\n",
    "            time.sleep(0.75)\n",
    "\n",
    "\n",
    "            #print(f'ID {gameid} got skipped')  \n",
    "            #next\n",
    "    \n",
    "    return pd.concat(list_starters), pd.concat(list_roster)"
   ]
  },
  {
   "cell_type": "code",
   "execution_count": 2,
   "id": "555e080f-ca8b-4d55-a48a-530727693f34",
   "metadata": {},
   "outputs": [],
   "source": [
    "def get_all_subs(data):\n",
    "    bool_sub = data['EVENTMSGTYPE'] == 8\n",
    "    subs = data.loc[bool_sub, ['GAME_ID', 'stint', 'game_time_left', 'TEAM_LOCATION', 'PLAYER1_ID', 'PLAYER2_ID']]\n",
    "    subs = subs.rename(columns={'PLAYER1_ID':'PLAYER_OUT_ID', 'PLAYER2_ID':'PLAYER_IN_ID'})\n",
    "    return subs.sort_values(['GAME_ID', 'stint'])"
   ]
  },
  {
   "cell_type": "code",
   "execution_count": 3,
   "id": "069b5673-c0a0-4ae8-a445-dd0f3da85744",
   "metadata": {},
   "outputs": [],
   "source": [
    "def get_starting_lineup(starters):\n",
    "    \n",
    "    tmp = starters.groupby(['GAME_ID', 'TEAM_ID'])['PLAYER_ID'].unique().reset_index()\n",
    "    starting_lineup = tmp.explode('PLAYER_ID')\n",
    "    starting_lineup['stint'] = 0\n",
    "    \n",
    "    return starting_lineup"
   ]
  },
  {
   "cell_type": "code",
   "execution_count": 4,
   "id": "f5194791-7d00-4bba-85e4-2aa366464ab0",
   "metadata": {},
   "outputs": [],
   "source": [
    "from tqdm import tqdm\n",
    "def get_on_court(data, starters, sub):\n",
    "    \n",
    "    # init\n",
    "    game_ids = data['GAME_ID'].unique()\n",
    "    list_on_court = list()\n",
    "    list_game_id = list()\n",
    "    list_stint = list()\n",
    "    \n",
    "    # loop over all games\n",
    "    for game_id in tqdm(game_ids):\n",
    "        \n",
    "        # form subsets\n",
    "        game = data[data['GAME_ID'] == game_id]\n",
    "        starting_lineup = starters[starters['GAME_ID'] == game_id]\n",
    "        subs = sub[sub['GAME_ID'] == game_id]\n",
    "        \n",
    "        # prepare stints for the loop\n",
    "        a = game['stint_marker'].unique()\n",
    "        tmp = a[~np.isnan(a)]\n",
    "        last_stint = np.max(tmp)\n",
    "        stints = tmp - 1\n",
    "\n",
    "        # get rosters for the game for both teams\n",
    "        starters_home = starting_lineup[starting_lineup['TEAM_LOCATION'] == \"HOME\"]['PLAYER_ID'].unique()\n",
    "        starters_away = starting_lineup[starting_lineup['TEAM_LOCATION'] == \"AWAY\"]['PLAYER_ID'].unique()\n",
    "        \n",
    "        # get the substitutions\n",
    "        players_in, players_out = subs['PLAYER_IN_ID'].values, subs['PLAYER_OUT_ID'].values\n",
    "        \n",
    "        # more init\n",
    "        on_court = np.zeros((stints.shape[0]+1, 10))\n",
    "        lineup = np.append(starters_home, starters_away)\n",
    "        \n",
    "        # store game id, so lengths match\n",
    "        list_game_id.append(game_id)\n",
    "\n",
    "        for i, stint in enumerate(stints):\n",
    "            \n",
    "            j = i+1\n",
    "            \n",
    "            # for first iteration store starting lineup and first sub\n",
    "            if stint == 0:\n",
    "                on_court[i, :] = lineup\n",
    "                lineup[lineup == players_out[i]] = players_in[i] # sub player out\n",
    "                on_court[j, :] = lineup\n",
    "\n",
    "            else:\n",
    "                lineup[lineup == players_out[i]] = players_in[i]\n",
    "                on_court[j, :] = lineup\n",
    "            \n",
    "            # store and keep track\n",
    "            list_game_id.append(game_id)\n",
    "            list_stint.append(stint)\n",
    "        \n",
    "        # store on court formations\n",
    "        list_on_court.append(on_court)\n",
    "        list_stint.append(last_stint)\n",
    "        \n",
    "        # numpy format\n",
    "        a_on_court = np.concatenate(list_on_court)\n",
    "        a_game_id = np.asarray(list_game_id)\n",
    "        a_stint = np.asarray(list_stint)\n",
    "        \n",
    "        # create colnames\n",
    "        col_names = ['stint']\n",
    "        col_names.extend([f'HOME_{i}' for i in np.arange(start=1, stop=6)])\n",
    "        col_names.extend([f'AWAY_{i}' for i in np.arange(start=1, stop=6)])\n",
    "        col_names.extend(['GAME_ID'])\n",
    "        \n",
    "        # transform to dataframe\n",
    "        df = pd.DataFrame(data=np.concatenate((a_stint.reshape(-1, 1), a_on_court, \n",
    "                                               a_game_id.reshape(-1, 1)), axis=1), columns=col_names)\n",
    "        \n",
    "        # adjust datatype\n",
    "        df['stint'] = df['stint'].astype(float)\n",
    "        \n",
    "    return df"
   ]
  },
  {
   "cell_type": "code",
   "execution_count": 5,
   "id": "780fb902-5d11-4589-bbd3-7f6c177a3255",
   "metadata": {},
   "outputs": [],
   "source": [
    "def merge_stint_pts(data, court_data, col_score):\n",
    "    \n",
    "    # store cols for merging and selecting\n",
    "    col_merge = ['GAME_ID', 'stint']\n",
    "    col_select = ['GAME_ID', 'stint', 'game_time_left']\n",
    "    col_select.extend(col_score)\n",
    "\n",
    "    # form subset\n",
    "    data_subset = data[col_select]\n",
    "    \n",
    "    # merge\n",
    "    df = pd.merge(court_data, data_subset, how='left', on=col_merge)\n",
    "    \n",
    "    # drop duplicates\n",
    "    df = df.drop_duplicates()\n",
    "    \n",
    "    # impute values for missing scores\n",
    "    tmp = df.groupby('GAME_ID')[col_score].ffill()\n",
    "    df[col_score] = tmp\n",
    "    \n",
    "    # fill NA with zero - these are mostly before there was a score?\n",
    "    df[col_score] = df[col_score].fillna(value=0)\n",
    "    \n",
    "    return df"
   ]
  },
  {
   "cell_type": "code",
   "execution_count": 3,
   "id": "c66dc4b7-4a33-470a-8105-84c7e7ebd11d",
   "metadata": {},
   "outputs": [],
   "source": [
    "def stints_to_dummy(data_stints):\n",
    "    \n",
    "    # colnames, create dummy out of player columns\n",
    "    col_names = [f'HOME_{i}' for i in np.arange(start=1, stop=6)]\n",
    "    col_names.extend([f'AWAY_{i}' for i in np.arange(start=1, stop=6)])\n",
    "    data_dummy = pd.get_dummies(data_stints, prefix_sep='-', columns=col_names)\n",
    "    \n",
    "    # get series objects to track the players and their \"position\"\n",
    "    series_location_player = pd.Series(data_dummy.columns[8:].values)\n",
    "    series_position_player = series_location_player.apply(lambda x: x.split('-')[0])\n",
    "    series_id_player = series_location_player.apply(lambda x: x.split('-')[1])\n",
    "    series_id_player = series_id_player.apply(lambda x: x.replace('.0', ''))\n",
    "    series_id_player = series_id_player.astype(int)\n",
    "    \n",
    "    return data_dummy, series_position_player, series_id_player"
   ]
  },
  {
   "cell_type": "code",
   "execution_count": 33,
   "id": "19c6fd77-3517-450c-9102-519a2cc6024e",
   "metadata": {},
   "outputs": [],
   "source": [
    "def estimate_model(data_dummy, ids_start, col_y, model):\n",
    "    \"\"\"\n",
    "    :param ids_start: index of the column where ids start\n",
    "    \"\"\"\n",
    "    #X = data_dummy.iloc[:, ids_start:].values\n",
    "    #y = data_dummy[col_y].values\n",
    "    \n",
    "    print(\"Starting model fitting...\")\n",
    "    \n",
    "    model.fit(data_dummy.iloc[:, ids_start:].values, data_dummy[col_y].values)\n",
    "    \n",
    "    player_ids = data_dummy.columns[ids_start:].values\n",
    "    \n",
    "    return model, player_ids"
   ]
  },
  {
   "cell_type": "code",
   "execution_count": 127,
   "id": "f69509e5-8086-4580-9378-9c85b3732648",
   "metadata": {},
   "outputs": [],
   "source": [
    "def show_scores_player(coef, series_id_player):\n",
    "    \n",
    "    # load player data\n",
    "    player_data = pd.read_csv(\"players_data.csv\")\n",
    "    player_data['PLAYER_ID'] = player_data['id']\n",
    "\n",
    "    # data array\n",
    "    a = np.concatenate((player_ids.reshape(-1,1), \n",
    "                coef.reshape(-1,1)), axis=1)\n",
    "\n",
    "    # create dataframe and merge\n",
    "    df_tmp = pd.DataFrame(a, columns=['PLAYER_ID', 'SCORE'])\n",
    "    df_tmp['PLAYER_ID'] = df_tmp['PLAYER_ID'].astype(str)\n",
    "    df_tmp['PLAYER_ID'] = df_tmp['PLAYER_ID'].apply(lambda x: x.replace(\".0\", \"\")).astype(int)\n",
    "\n",
    "    # merge the two\n",
    "    df_result = pd.merge(df_tmp, player_data)\n",
    "    \n",
    "    return df_result.sort_values('SCORE', ascending=False)\n"
   ]
  },
  {
   "cell_type": "code",
   "execution_count": null,
   "id": "65a84add-f0a5-45f7-9d40-901a77947687",
   "metadata": {},
   "outputs": [],
   "source": [
    "data.columns"
   ]
  },
  {
   "cell_type": "code",
   "execution_count": null,
   "id": "85d9403d-8b9a-4d8e-bb73-e36fbf8786c0",
   "metadata": {},
   "outputs": [],
   "source": [
    "data.to_csv(\"pbp_safe_data.csv\")"
   ]
  },
  {
   "cell_type": "code",
   "execution_count": null,
   "id": "08099679-8017-41c9-bb7d-3d423fc5847a",
   "metadata": {},
   "outputs": [],
   "source": [
    "data.shape"
   ]
  },
  {
   "cell_type": "code",
   "execution_count": 16,
   "id": "2d568ae4-092c-40b2-b4be-9335454da883",
   "metadata": {},
   "outputs": [],
   "source": [
    "data = pd.read_csv(\"pbp_safe_data.csv\", dtype={'GAME_ID':str})"
   ]
  },
  {
   "cell_type": "code",
   "execution_count": 17,
   "id": "4fa70a2b-c90e-410b-ac01-be75c500c8cd",
   "metadata": {},
   "outputs": [],
   "source": [
    "bool_sub = (data['EVENTMSGTYPE'] == 8).to_numpy() # substitutions\n",
    "bool_tech = ((data['EVENTMSGTYPE'] == 6) & (data['EVENTMSGACTIONTYPE'].isin([10, 11, 16, 18, 25]))).to_numpy() # technical fouls\n",
    "bool_eject_tech = ((data['EVENTMSGTYPE'] == 11) & (data['EVENTMSGACTIONTYPE'] == 1)).to_numpy() # ejct 2nd technical fouls\n",
    "bool_ingame_plays = ~(bool_sub | bool_tech | bool_eject_tech)"
   ]
  },
  {
   "cell_type": "code",
   "execution_count": 18,
   "id": "18767ea8-2fcc-429a-9f87-50a419d02ca0",
   "metadata": {},
   "outputs": [],
   "source": [
    "data = data.drop(['WCTIMESTRING', 'PCTIMESTRING', 'NEUTRALDESCRIPTION',\n",
    "                  'PLAYER3_TEAM_NICKNAME', 'PLAYER3_TEAM_ABBREVIATION', 'PLAYER3_TEAM_CITY',\n",
    "                 'PLAYER2_TEAM_NICKNAME', 'PLAYER2_TEAM_ABBREVIATION', 'PLAYER2_TEAM_CITY',\n",
    "                 'PLAYER1_TEAM_NICKNAME', 'PLAYER1_TEAM_ABBREVIATION', 'PLAYER1_TEAM_CITY',\n",
    "                 'VIDEO_AVAILABLE_FLAG', 'SCOREMARGIN'], axis=1)"
   ]
  },
  {
   "cell_type": "code",
   "execution_count": 19,
   "id": "761776b2-8a57-477b-8cc5-dbe5e1c9ae3c",
   "metadata": {
    "tags": []
   },
   "outputs": [
    {
     "data": {
      "text/html": [
       "<div>\n",
       "<style scoped>\n",
       "    .dataframe tbody tr th:only-of-type {\n",
       "        vertical-align: middle;\n",
       "    }\n",
       "\n",
       "    .dataframe tbody tr th {\n",
       "        vertical-align: top;\n",
       "    }\n",
       "\n",
       "    .dataframe thead th {\n",
       "        text-align: right;\n",
       "    }\n",
       "</style>\n",
       "<table border=\"1\" class=\"dataframe\">\n",
       "  <thead>\n",
       "    <tr style=\"text-align: right;\">\n",
       "      <th></th>\n",
       "      <th>Unnamed: 0</th>\n",
       "      <th>GAME_ID</th>\n",
       "      <th>EVENTNUM</th>\n",
       "      <th>EVENTMSGTYPE</th>\n",
       "      <th>EVENTMSGACTIONTYPE</th>\n",
       "      <th>PERIOD</th>\n",
       "      <th>HOMEDESCRIPTION</th>\n",
       "      <th>VISITORDESCRIPTION</th>\n",
       "      <th>SCORE</th>\n",
       "      <th>PERSON1TYPE</th>\n",
       "      <th>...</th>\n",
       "      <th>PLAYER2_ID</th>\n",
       "      <th>PLAYER2_NAME</th>\n",
       "      <th>PLAYER2_TEAM_ID</th>\n",
       "      <th>PERSON3TYPE</th>\n",
       "      <th>PLAYER3_ID</th>\n",
       "      <th>PLAYER3_NAME</th>\n",
       "      <th>PLAYER3_TEAM_ID</th>\n",
       "      <th>game_time_s</th>\n",
       "      <th>game_time_left</th>\n",
       "      <th>TEAM_LOCATION</th>\n",
       "    </tr>\n",
       "  </thead>\n",
       "  <tbody>\n",
       "    <tr>\n",
       "      <th>0</th>\n",
       "      <td>1</td>\n",
       "      <td>0021800002</td>\n",
       "      <td>4.0</td>\n",
       "      <td>10.0</td>\n",
       "      <td>0.0</td>\n",
       "      <td>1.0</td>\n",
       "      <td>Jump Ball Jones vs. Adams: Tip to Green</td>\n",
       "      <td>NaN</td>\n",
       "      <td>NaN</td>\n",
       "      <td>4.0</td>\n",
       "      <td>...</td>\n",
       "      <td>203500.0</td>\n",
       "      <td>Steven Adams</td>\n",
       "      <td>1.610613e+09</td>\n",
       "      <td>4.0</td>\n",
       "      <td>203110.0</td>\n",
       "      <td>Draymond Green</td>\n",
       "      <td>1.610613e+09</td>\n",
       "      <td>720.0</td>\n",
       "      <td>2880.0</td>\n",
       "      <td>HOME</td>\n",
       "    </tr>\n",
       "    <tr>\n",
       "      <th>1</th>\n",
       "      <td>2</td>\n",
       "      <td>0021800002</td>\n",
       "      <td>7.0</td>\n",
       "      <td>5.0</td>\n",
       "      <td>1.0</td>\n",
       "      <td>1.0</td>\n",
       "      <td>Thompson Bad Pass Turnover (P1.T1)</td>\n",
       "      <td>Adams STEAL (1 STL)</td>\n",
       "      <td>NaN</td>\n",
       "      <td>4.0</td>\n",
       "      <td>...</td>\n",
       "      <td>203500.0</td>\n",
       "      <td>Steven Adams</td>\n",
       "      <td>1.610613e+09</td>\n",
       "      <td>0.0</td>\n",
       "      <td>0.0</td>\n",
       "      <td>NaN</td>\n",
       "      <td>NaN</td>\n",
       "      <td>708.0</td>\n",
       "      <td>2832.0</td>\n",
       "      <td>NaN</td>\n",
       "    </tr>\n",
       "    <tr>\n",
       "      <th>2</th>\n",
       "      <td>3</td>\n",
       "      <td>0021800002</td>\n",
       "      <td>9.0</td>\n",
       "      <td>5.0</td>\n",
       "      <td>45.0</td>\n",
       "      <td>1.0</td>\n",
       "      <td>NaN</td>\n",
       "      <td>George Out of Bounds - Bad Pass Turnover Turno...</td>\n",
       "      <td>NaN</td>\n",
       "      <td>5.0</td>\n",
       "      <td>...</td>\n",
       "      <td>0.0</td>\n",
       "      <td>NaN</td>\n",
       "      <td>NaN</td>\n",
       "      <td>1.0</td>\n",
       "      <td>0.0</td>\n",
       "      <td>NaN</td>\n",
       "      <td>NaN</td>\n",
       "      <td>703.0</td>\n",
       "      <td>2812.0</td>\n",
       "      <td>AWAY</td>\n",
       "    </tr>\n",
       "    <tr>\n",
       "      <th>3</th>\n",
       "      <td>4</td>\n",
       "      <td>0021800002</td>\n",
       "      <td>10.0</td>\n",
       "      <td>1.0</td>\n",
       "      <td>80.0</td>\n",
       "      <td>1.0</td>\n",
       "      <td>Curry 24' 3PT Step Back Jump Shot (3 PTS) (Dur...</td>\n",
       "      <td>NaN</td>\n",
       "      <td>0 - 3</td>\n",
       "      <td>4.0</td>\n",
       "      <td>...</td>\n",
       "      <td>201142.0</td>\n",
       "      <td>Kevin Durant</td>\n",
       "      <td>1.610613e+09</td>\n",
       "      <td>0.0</td>\n",
       "      <td>0.0</td>\n",
       "      <td>NaN</td>\n",
       "      <td>NaN</td>\n",
       "      <td>691.0</td>\n",
       "      <td>2764.0</td>\n",
       "      <td>HOME</td>\n",
       "    </tr>\n",
       "    <tr>\n",
       "      <th>4</th>\n",
       "      <td>5</td>\n",
       "      <td>0021800002</td>\n",
       "      <td>12.0</td>\n",
       "      <td>2.0</td>\n",
       "      <td>78.0</td>\n",
       "      <td>1.0</td>\n",
       "      <td>NaN</td>\n",
       "      <td>MISS Adams 12' Floating Jump Shot</td>\n",
       "      <td>NaN</td>\n",
       "      <td>5.0</td>\n",
       "      <td>...</td>\n",
       "      <td>0.0</td>\n",
       "      <td>NaN</td>\n",
       "      <td>NaN</td>\n",
       "      <td>0.0</td>\n",
       "      <td>0.0</td>\n",
       "      <td>NaN</td>\n",
       "      <td>NaN</td>\n",
       "      <td>673.0</td>\n",
       "      <td>2692.0</td>\n",
       "      <td>AWAY</td>\n",
       "    </tr>\n",
       "    <tr>\n",
       "      <th>...</th>\n",
       "      <td>...</td>\n",
       "      <td>...</td>\n",
       "      <td>...</td>\n",
       "      <td>...</td>\n",
       "      <td>...</td>\n",
       "      <td>...</td>\n",
       "      <td>...</td>\n",
       "      <td>...</td>\n",
       "      <td>...</td>\n",
       "      <td>...</td>\n",
       "      <td>...</td>\n",
       "      <td>...</td>\n",
       "      <td>...</td>\n",
       "      <td>...</td>\n",
       "      <td>...</td>\n",
       "      <td>...</td>\n",
       "      <td>...</td>\n",
       "      <td>...</td>\n",
       "      <td>...</td>\n",
       "      <td>...</td>\n",
       "      <td>...</td>\n",
       "    </tr>\n",
       "    <tr>\n",
       "      <th>1536732</th>\n",
       "      <td>437</td>\n",
       "      <td>0022001072</td>\n",
       "      <td>632.0</td>\n",
       "      <td>3.0</td>\n",
       "      <td>12.0</td>\n",
       "      <td>4.0</td>\n",
       "      <td>NaN</td>\n",
       "      <td>Horton-Tucker Free Throw 2 of 2 (6 PTS)</td>\n",
       "      <td>110 - 98</td>\n",
       "      <td>5.0</td>\n",
       "      <td>...</td>\n",
       "      <td>0.0</td>\n",
       "      <td>NaN</td>\n",
       "      <td>NaN</td>\n",
       "      <td>0.0</td>\n",
       "      <td>0.0</td>\n",
       "      <td>NaN</td>\n",
       "      <td>NaN</td>\n",
       "      <td>52.0</td>\n",
       "      <td>52.0</td>\n",
       "      <td>AWAY</td>\n",
       "    </tr>\n",
       "    <tr>\n",
       "      <th>1536733</th>\n",
       "      <td>438</td>\n",
       "      <td>0022001072</td>\n",
       "      <td>633.0</td>\n",
       "      <td>5.0</td>\n",
       "      <td>45.0</td>\n",
       "      <td>4.0</td>\n",
       "      <td>Marshall Out of Bounds - Bad Pass Turnover Tur...</td>\n",
       "      <td>NaN</td>\n",
       "      <td>NaN</td>\n",
       "      <td>4.0</td>\n",
       "      <td>...</td>\n",
       "      <td>0.0</td>\n",
       "      <td>NaN</td>\n",
       "      <td>NaN</td>\n",
       "      <td>1.0</td>\n",
       "      <td>0.0</td>\n",
       "      <td>NaN</td>\n",
       "      <td>NaN</td>\n",
       "      <td>35.0</td>\n",
       "      <td>35.0</td>\n",
       "      <td>HOME</td>\n",
       "    </tr>\n",
       "    <tr>\n",
       "      <th>1536734</th>\n",
       "      <td>439</td>\n",
       "      <td>0022001072</td>\n",
       "      <td>634.0</td>\n",
       "      <td>2.0</td>\n",
       "      <td>1.0</td>\n",
       "      <td>4.0</td>\n",
       "      <td>NaN</td>\n",
       "      <td>MISS Dudley 26' 3PT Jump Shot</td>\n",
       "      <td>NaN</td>\n",
       "      <td>5.0</td>\n",
       "      <td>...</td>\n",
       "      <td>0.0</td>\n",
       "      <td>NaN</td>\n",
       "      <td>NaN</td>\n",
       "      <td>0.0</td>\n",
       "      <td>0.0</td>\n",
       "      <td>NaN</td>\n",
       "      <td>NaN</td>\n",
       "      <td>28.0</td>\n",
       "      <td>28.0</td>\n",
       "      <td>AWAY</td>\n",
       "    </tr>\n",
       "    <tr>\n",
       "      <th>1536735</th>\n",
       "      <td>440</td>\n",
       "      <td>0022001072</td>\n",
       "      <td>635.0</td>\n",
       "      <td>4.0</td>\n",
       "      <td>0.0</td>\n",
       "      <td>4.0</td>\n",
       "      <td>Alexander-Walker REBOUND (Off:1 Def:3)</td>\n",
       "      <td>NaN</td>\n",
       "      <td>NaN</td>\n",
       "      <td>4.0</td>\n",
       "      <td>...</td>\n",
       "      <td>0.0</td>\n",
       "      <td>NaN</td>\n",
       "      <td>NaN</td>\n",
       "      <td>0.0</td>\n",
       "      <td>0.0</td>\n",
       "      <td>NaN</td>\n",
       "      <td>NaN</td>\n",
       "      <td>23.0</td>\n",
       "      <td>23.0</td>\n",
       "      <td>HOME</td>\n",
       "    </tr>\n",
       "    <tr>\n",
       "      <th>1536736</th>\n",
       "      <td>441</td>\n",
       "      <td>0022001072</td>\n",
       "      <td>636.0</td>\n",
       "      <td>5.0</td>\n",
       "      <td>1.0</td>\n",
       "      <td>4.0</td>\n",
       "      <td>Nunnally Bad Pass Turnover (P1.T21)</td>\n",
       "      <td>Horton-Tucker STEAL (2 STL)</td>\n",
       "      <td>NaN</td>\n",
       "      <td>4.0</td>\n",
       "      <td>...</td>\n",
       "      <td>1629659.0</td>\n",
       "      <td>Talen Horton-Tucker</td>\n",
       "      <td>1.610613e+09</td>\n",
       "      <td>0.0</td>\n",
       "      <td>0.0</td>\n",
       "      <td>NaN</td>\n",
       "      <td>NaN</td>\n",
       "      <td>12.0</td>\n",
       "      <td>12.0</td>\n",
       "      <td>NaN</td>\n",
       "    </tr>\n",
       "  </tbody>\n",
       "</table>\n",
       "<p>1536737 rows × 24 columns</p>\n",
       "</div>"
      ],
      "text/plain": [
       "         Unnamed: 0     GAME_ID  EVENTNUM  EVENTMSGTYPE  EVENTMSGACTIONTYPE  \\\n",
       "0                 1  0021800002       4.0          10.0                 0.0   \n",
       "1                 2  0021800002       7.0           5.0                 1.0   \n",
       "2                 3  0021800002       9.0           5.0                45.0   \n",
       "3                 4  0021800002      10.0           1.0                80.0   \n",
       "4                 5  0021800002      12.0           2.0                78.0   \n",
       "...             ...         ...       ...           ...                 ...   \n",
       "1536732         437  0022001072     632.0           3.0                12.0   \n",
       "1536733         438  0022001072     633.0           5.0                45.0   \n",
       "1536734         439  0022001072     634.0           2.0                 1.0   \n",
       "1536735         440  0022001072     635.0           4.0                 0.0   \n",
       "1536736         441  0022001072     636.0           5.0                 1.0   \n",
       "\n",
       "         PERIOD                                    HOMEDESCRIPTION  \\\n",
       "0           1.0            Jump Ball Jones vs. Adams: Tip to Green   \n",
       "1           1.0                 Thompson Bad Pass Turnover (P1.T1)   \n",
       "2           1.0                                                NaN   \n",
       "3           1.0  Curry 24' 3PT Step Back Jump Shot (3 PTS) (Dur...   \n",
       "4           1.0                                                NaN   \n",
       "...         ...                                                ...   \n",
       "1536732     4.0                                                NaN   \n",
       "1536733     4.0  Marshall Out of Bounds - Bad Pass Turnover Tur...   \n",
       "1536734     4.0                                                NaN   \n",
       "1536735     4.0             Alexander-Walker REBOUND (Off:1 Def:3)   \n",
       "1536736     4.0                Nunnally Bad Pass Turnover (P1.T21)   \n",
       "\n",
       "                                        VISITORDESCRIPTION     SCORE  \\\n",
       "0                                                      NaN       NaN   \n",
       "1                                      Adams STEAL (1 STL)       NaN   \n",
       "2        George Out of Bounds - Bad Pass Turnover Turno...       NaN   \n",
       "3                                                      NaN     0 - 3   \n",
       "4                        MISS Adams 12' Floating Jump Shot       NaN   \n",
       "...                                                    ...       ...   \n",
       "1536732            Horton-Tucker Free Throw 2 of 2 (6 PTS)  110 - 98   \n",
       "1536733                                                NaN       NaN   \n",
       "1536734                      MISS Dudley 26' 3PT Jump Shot       NaN   \n",
       "1536735                                                NaN       NaN   \n",
       "1536736                        Horton-Tucker STEAL (2 STL)       NaN   \n",
       "\n",
       "         PERSON1TYPE  ...  PLAYER2_ID         PLAYER2_NAME  PLAYER2_TEAM_ID  \\\n",
       "0                4.0  ...    203500.0         Steven Adams     1.610613e+09   \n",
       "1                4.0  ...    203500.0         Steven Adams     1.610613e+09   \n",
       "2                5.0  ...         0.0                  NaN              NaN   \n",
       "3                4.0  ...    201142.0         Kevin Durant     1.610613e+09   \n",
       "4                5.0  ...         0.0                  NaN              NaN   \n",
       "...              ...  ...         ...                  ...              ...   \n",
       "1536732          5.0  ...         0.0                  NaN              NaN   \n",
       "1536733          4.0  ...         0.0                  NaN              NaN   \n",
       "1536734          5.0  ...         0.0                  NaN              NaN   \n",
       "1536735          4.0  ...         0.0                  NaN              NaN   \n",
       "1536736          4.0  ...   1629659.0  Talen Horton-Tucker     1.610613e+09   \n",
       "\n",
       "         PERSON3TYPE  PLAYER3_ID    PLAYER3_NAME  PLAYER3_TEAM_ID  \\\n",
       "0                4.0    203110.0  Draymond Green     1.610613e+09   \n",
       "1                0.0         0.0             NaN              NaN   \n",
       "2                1.0         0.0             NaN              NaN   \n",
       "3                0.0         0.0             NaN              NaN   \n",
       "4                0.0         0.0             NaN              NaN   \n",
       "...              ...         ...             ...              ...   \n",
       "1536732          0.0         0.0             NaN              NaN   \n",
       "1536733          1.0         0.0             NaN              NaN   \n",
       "1536734          0.0         0.0             NaN              NaN   \n",
       "1536735          0.0         0.0             NaN              NaN   \n",
       "1536736          0.0         0.0             NaN              NaN   \n",
       "\n",
       "         game_time_s  game_time_left TEAM_LOCATION  \n",
       "0              720.0          2880.0          HOME  \n",
       "1              708.0          2832.0           NaN  \n",
       "2              703.0          2812.0          AWAY  \n",
       "3              691.0          2764.0          HOME  \n",
       "4              673.0          2692.0          AWAY  \n",
       "...              ...             ...           ...  \n",
       "1536732         52.0            52.0          AWAY  \n",
       "1536733         35.0            35.0          HOME  \n",
       "1536734         28.0            28.0          AWAY  \n",
       "1536735         23.0            23.0          HOME  \n",
       "1536736         12.0            12.0           NaN  \n",
       "\n",
       "[1536737 rows x 24 columns]"
      ]
     },
     "execution_count": 19,
     "metadata": {},
     "output_type": "execute_result"
    }
   ],
   "source": [
    "data"
   ]
  },
  {
   "cell_type": "code",
   "execution_count": null,
   "id": "547deb30-3136-4c6f-acad-b7d25914dab7",
   "metadata": {
    "tags": []
   },
   "outputs": [],
   "source": [
    "test = data.groupby(['GAME_ID']).apply(lambda x: create_stint(x))"
   ]
  },
  {
   "cell_type": "code",
   "execution_count": null,
   "id": "52328df1-e34c-42d2-975b-92023880f6fc",
   "metadata": {},
   "outputs": [],
   "source": [
    "test = get_score(test)\n",
    "test = estimate_possessions(data=test, bool_ingame_plays=bool_ingame_plays)\n",
    "test = estimate_pm_100(data=test)"
   ]
  },
  {
   "cell_type": "code",
   "execution_count": 20,
   "id": "cb1c7522-6817-4069-86c1-07a9dd7135d8",
   "metadata": {},
   "outputs": [],
   "source": [
    "test = pd.read_csv(\"preprocessing_safe.csv\", dtype={'GAME_ID': str})"
   ]
  },
  {
   "cell_type": "code",
   "execution_count": 21,
   "id": "713a7a80-bc11-46ca-8f8c-23f63a5bd8ef",
   "metadata": {},
   "outputs": [
    {
     "data": {
      "text/plain": [
       "'0021800002'"
      ]
     },
     "execution_count": 21,
     "metadata": {},
     "output_type": "execute_result"
    }
   ],
   "source": [
    "test['GAME_ID'].unique()[0]"
   ]
  },
  {
   "cell_type": "code",
   "execution_count": 20,
   "id": "aee01c0e-a369-4e54-b0fb-cd7588017ca7",
   "metadata": {},
   "outputs": [],
   "source": [
    "call_boxscore = boxscoreadvancedv2.BoxScoreAdvancedV2(game_id=test['GAME_ID'].unique()[0])\n",
    "game = pd.concat(call_boxscore.get_data_frames())"
   ]
  },
  {
   "cell_type": "code",
   "execution_count": 29,
   "id": "07934150-3c45-4fdb-b066-99a25f86a465",
   "metadata": {},
   "outputs": [],
   "source": [
    "games_2020 = df_schedule[df_schedule['SEASON_ID'] == 22020]['GAME_ID'].unique()"
   ]
  },
  {
   "cell_type": "code",
   "execution_count": 31,
   "id": "100a7c49-33a4-4521-866c-449ae3e390f5",
   "metadata": {},
   "outputs": [],
   "source": [
    "test_sub = test[test['GAME_ID'].isin(games_2020)]"
   ]
  },
  {
   "cell_type": "code",
   "execution_count": 35,
   "id": "dbecd503-396c-4672-b1df-806d75218afa",
   "metadata": {},
   "outputs": [
    {
     "data": {
      "text/plain": [
       "(482838, 34)"
      ]
     },
     "execution_count": 35,
     "metadata": {},
     "output_type": "execute_result"
    }
   ],
   "source": [
    "test_sub.shape"
   ]
  },
  {
   "cell_type": "code",
   "execution_count": 36,
   "id": "aefa38bb-b350-4cdd-ba20-761287f6b410",
   "metadata": {
    "collapsed": true,
    "jupyter": {
     "outputs_hidden": true
    },
    "tags": []
   },
   "outputs": [
    {
     "name": "stderr",
     "output_type": "stream",
     "text": [
      "  0%|          | 0/1074 [00:00<?, ?it/s]"
     ]
    },
    {
     "name": "stdout",
     "output_type": "stream",
     "text": [
      "         Unnamed: 0  Unnamed: 0.1     GAME_ID  EVENTNUM  EVENTMSGTYPE  \\\n",
      "1053899     1053899             1  0022000001       4.0          10.0   \n",
      "1053900     1053900             2  0022000001       7.0           5.0   \n",
      "1053901     1053901             3  0022000001       8.0           6.0   \n",
      "1053902     1053902             4  0022000001      10.0           3.0   \n",
      "1053903     1053903             5  0022000001      11.0           3.0   \n",
      "\n",
      "         EVENTMSGACTIONTYPE  PERIOD  \\\n",
      "1053899                 0.0     1.0   \n",
      "1053900                45.0     1.0   \n",
      "1053901                 2.0     1.0   \n",
      "1053902                11.0     1.0   \n",
      "1053903                12.0     1.0   \n",
      "\n",
      "                                           HOMEDESCRIPTION  \\\n",
      "1053899                                                      \n",
      "1053900  Jordan Out of Bounds - Bad Pass Turnover Turno...   \n",
      "1053901                Irving S.FOUL (P1.T1) (S.Twardoski)   \n",
      "1053902                                                NaN   \n",
      "1053903                                                NaN   \n",
      "\n",
      "                      VISITORDESCRIPTION  SCORE  ...  TEAM_LOCATION  \\\n",
      "1053899                              NaN    NaN  ...           HOME   \n",
      "1053900                              NaN    NaN  ...           HOME   \n",
      "1053901                              NaN    NaN  ...           HOME   \n",
      "1053902  Curry Free Throw 1 of 2 (1 PTS)  1 - 0  ...           AWAY   \n",
      "1053903  Curry Free Throw 2 of 2 (2 PTS)  2 - 0  ...           AWAY   \n",
      "\n",
      "         stint_marker stint  HOME_PTS  AWAY_PTS  HOME_PM AWAY_PM  \\\n",
      "1053899           NaN     0       NaN       NaN      NaN     NaN   \n",
      "1053900           NaN     0       NaN       NaN      NaN     NaN   \n",
      "1053901           NaN     0       NaN       NaN      NaN     NaN   \n",
      "1053902           NaN     0       1.0       0.0      1.0    -1.0   \n",
      "1053903           NaN     0       2.0       0.0      2.0    -2.0   \n",
      "\n",
      "         EST_POSSESSIONS  HOME_PM_100  AWAY_PM_100  \n",
      "1053899             13.0          NaN          NaN  \n",
      "1053900             13.0          NaN          NaN  \n",
      "1053901             13.0          NaN          NaN  \n",
      "1053902             10.0         10.0        -10.0  \n",
      "1053903             10.0         20.0        -20.0  \n",
      "\n",
      "[5 rows x 34 columns]\n",
      "['0022000001' '0022000002' '0022000003' ... '0022001079' '0022001074'\n",
      " '0022001072']\n",
      "0022000001\n",
      "[1610612744 1610612751]\n"
     ]
    },
    {
     "name": "stderr",
     "output_type": "stream",
     "text": [
      "  0%|          | 1/1074 [00:02<44:12,  2.47s/it]"
     ]
    },
    {
     "name": "stdout",
     "output_type": "stream",
     "text": [
      "0022000002\n",
      "[1610612746 1610612747]\n"
     ]
    },
    {
     "name": "stderr",
     "output_type": "stream",
     "text": [
      "  0%|          | 2/1074 [00:04<39:53,  2.23s/it]"
     ]
    },
    {
     "name": "stdout",
     "output_type": "stream",
     "text": [
      "0022000003\n",
      "[1610612749 1610612738]\n"
     ]
    },
    {
     "name": "stderr",
     "output_type": "stream",
     "text": [
      "  0%|          | 3/1074 [00:06<41:28,  2.32s/it]"
     ]
    },
    {
     "name": "stdout",
     "output_type": "stream",
     "text": [
      "0022000013\n",
      "[1610612764 1610612755]\n"
     ]
    },
    {
     "name": "stderr",
     "output_type": "stream",
     "text": [
      "  0%|          | 4/1074 [00:08<32:37,  1.83s/it]"
     ]
    },
    {
     "name": "stdout",
     "output_type": "stream",
     "text": [
      "0022000017\n",
      "[1610612759 1610612763]\n"
     ]
    },
    {
     "name": "stderr",
     "output_type": "stream",
     "text": [
      "  0%|          | 5/1074 [00:09<27:55,  1.57s/it]"
     ]
    },
    {
     "name": "stdout",
     "output_type": "stream",
     "text": [
      "0022000018\n",
      "[1610612765 1610612750]\n"
     ]
    },
    {
     "name": "stderr",
     "output_type": "stream",
     "text": [
      "  1%|          | 6/1074 [00:11<31:10,  1.75s/it]"
     ]
    },
    {
     "name": "stdout",
     "output_type": "stream",
     "text": [
      "0022000015\n",
      "[1610612737 1610612741]\n"
     ]
    },
    {
     "name": "stderr",
     "output_type": "stream",
     "text": [
      "  1%|          | 7/1074 [00:13<33:48,  1.90s/it]"
     ]
    },
    {
     "name": "stdout",
     "output_type": "stream",
     "text": [
      "0022000019\n",
      "[1610612758 1610612743]\n"
     ]
    },
    {
     "name": "stderr",
     "output_type": "stream",
     "text": [
      "  1%|          | 8/1074 [00:14<29:07,  1.64s/it]"
     ]
    },
    {
     "name": "stdout",
     "output_type": "stream",
     "text": [
      "0022000020\n",
      "[1610612762 1610612757]\n"
     ]
    },
    {
     "name": "stderr",
     "output_type": "stream",
     "text": [
      "  1%|          | 9/1074 [00:17<33:52,  1.91s/it]"
     ]
    },
    {
     "name": "stdout",
     "output_type": "stream",
     "text": [
      "0022000004\n",
      "[1610612742 1610612756]\n"
     ]
    },
    {
     "name": "stderr",
     "output_type": "stream",
     "text": [
      "  1%|          | 10/1074 [00:18<30:04,  1.70s/it]"
     ]
    },
    {
     "name": "stdout",
     "output_type": "stream",
     "text": [
      "0022000012\n",
      "[1610612748 1610612753]\n"
     ]
    },
    {
     "name": "stderr",
     "output_type": "stream",
     "text": [
      "  1%|          | 11/1074 [00:20<32:50,  1.85s/it]"
     ]
    },
    {
     "name": "stdout",
     "output_type": "stream",
     "text": [
      "0022000011\n",
      "[1610612752 1610612754]\n"
     ]
    },
    {
     "name": "stderr",
     "output_type": "stream",
     "text": [
      "  1%|          | 12/1074 [00:21<29:30,  1.67s/it]"
     ]
    },
    {
     "name": "stdout",
     "output_type": "stream",
     "text": [
      "0022000010\n",
      "[1610612766 1610612739]\n"
     ]
    },
    {
     "name": "stderr",
     "output_type": "stream",
     "text": [
      "  1%|          | 13/1074 [00:22<27:16,  1.54s/it]"
     ]
    },
    {
     "name": "stdout",
     "output_type": "stream",
     "text": [
      "0022000014\n",
      "[1610612740 1610612761]\n"
     ]
    },
    {
     "name": "stderr",
     "output_type": "stream",
     "text": [
      "  1%|▏         | 14/1074 [00:23<24:21,  1.38s/it]"
     ]
    },
    {
     "name": "stdout",
     "output_type": "stream",
     "text": [
      "0022000005\n",
      "[1610612740 1610612748]\n"
     ]
    },
    {
     "name": "stderr",
     "output_type": "stream",
     "text": [
      "  1%|▏         | 15/1074 [00:26<29:41,  1.68s/it]"
     ]
    },
    {
     "name": "stdout",
     "output_type": "stream",
     "text": [
      "0022000006\n",
      "[1610612744 1610612749]\n"
     ]
    },
    {
     "name": "stderr",
     "output_type": "stream",
     "text": [
      "  1%|▏         | 16/1074 [00:28<33:53,  1.92s/it]"
     ]
    },
    {
     "name": "stdout",
     "output_type": "stream",
     "text": [
      "0022000007\n",
      "[1610612751 1610612738]\n"
     ]
    },
    {
     "name": "stderr",
     "output_type": "stream",
     "text": [
      "  2%|▏         | 17/1074 [00:30<34:38,  1.97s/it]"
     ]
    },
    {
     "name": "stdout",
     "output_type": "stream",
     "text": [
      "0022000008\n",
      "[1610612742 1610612747]\n"
     ]
    },
    {
     "name": "stderr",
     "output_type": "stream",
     "text": [
      "  2%|▏         | 18/1074 [00:31<29:33,  1.68s/it]"
     ]
    },
    {
     "name": "stdout",
     "output_type": "stream",
     "text": [
      "0022000009\n",
      "[1610612746 1610612743]\n"
     ]
    },
    {
     "name": "stderr",
     "output_type": "stream",
     "text": [
      "  2%|▏         | 19/1074 [00:32<26:14,  1.49s/it]"
     ]
    },
    {
     "name": "stdout",
     "output_type": "stream",
     "text": [
      "0022000027\n",
      "[1610612761 1610612759]\n"
     ]
    },
    {
     "name": "stderr",
     "output_type": "stream",
     "text": [
      "  2%|▏         | 20/1074 [00:34<23:50,  1.36s/it]"
     ]
    },
    {
     "name": "stdout",
     "output_type": "stream",
     "text": [
      "0022000026\n",
      "[1610612754 1610612741]\n"
     ]
    },
    {
     "name": "stderr",
     "output_type": "stream",
     "text": [
      "  2%|▏         | 21/1074 [00:36<29:31,  1.68s/it]"
     ]
    },
    {
     "name": "stdout",
     "output_type": "stream",
     "text": [
      "0022000025\n",
      "[1610612755 1610612752]\n"
     ]
    },
    {
     "name": "stderr",
     "output_type": "stream",
     "text": [
      "  2%|▏         | 22/1074 [00:39<34:39,  1.98s/it]"
     ]
    },
    {
     "name": "stdout",
     "output_type": "stream",
     "text": [
      "0022000023\n",
      "[1610612739 1610612765]\n"
     ]
    },
    {
     "name": "stderr",
     "output_type": "stream",
     "text": [
      "  2%|▏         | 23/1074 [00:40<29:30,  1.68s/it]"
     ]
    },
    {
     "name": "stdout",
     "output_type": "stream",
     "text": [
      "0022000029\n",
      "[1610612745 1610612757]\n"
     ]
    },
    {
     "name": "stderr",
     "output_type": "stream",
     "text": [
      "  2%|▏         | 24/1074 [00:41<25:52,  1.48s/it]"
     ]
    },
    {
     "name": "stdout",
     "output_type": "stream",
     "text": [
      "0022000028\n",
      "[1610612750 1610612762]\n"
     ]
    },
    {
     "name": "stderr",
     "output_type": "stream",
     "text": [
      "  2%|▏         | 25/1074 [00:43<28:51,  1.65s/it]"
     ]
    },
    {
     "name": "stdout",
     "output_type": "stream",
     "text": [
      "0022000030\n",
      "[1610612756 1610612758]\n"
     ]
    },
    {
     "name": "stderr",
     "output_type": "stream",
     "text": [
      "  2%|▏         | 26/1074 [00:44<25:28,  1.46s/it]"
     ]
    },
    {
     "name": "stdout",
     "output_type": "stream",
     "text": [
      "0022000022\n",
      "[1610612760 1610612766]\n"
     ]
    },
    {
     "name": "stderr",
     "output_type": "stream",
     "text": [
      "  3%|▎         | 27/1074 [00:45<23:18,  1.34s/it]"
     ]
    },
    {
     "name": "stdout",
     "output_type": "stream",
     "text": [
      "0022000024\n",
      "[1610612753 1610612764]\n"
     ]
    },
    {
     "name": "stderr",
     "output_type": "stream",
     "text": [
      "  3%|▎         | 28/1074 [00:47<28:53,  1.66s/it]"
     ]
    },
    {
     "name": "stdout",
     "output_type": "stream",
     "text": [
      "0022000021\n",
      "[1610612737 1610612763]\n"
     ]
    },
    {
     "name": "stderr",
     "output_type": "stream",
     "text": [
      "  3%|▎         | 29/1074 [00:48<25:53,  1.49s/it]"
     ]
    },
    {
     "name": "stdout",
     "output_type": "stream",
     "text": [
      "0022000040\n",
      "[1610612750 1610612747]\n"
     ]
    },
    {
     "name": "stderr",
     "output_type": "stream",
     "text": [
      "  3%|▎         | 30/1074 [00:49<23:35,  1.36s/it]"
     ]
    },
    {
     "name": "stdout",
     "output_type": "stream",
     "text": [
      "0022000038\n",
      "[1610612744 1610612741]\n"
     ]
    },
    {
     "name": "stderr",
     "output_type": "stream",
     "text": [
      "  3%|▎         | 31/1074 [00:50<22:37,  1.30s/it]"
     ]
    },
    {
     "name": "stdout",
     "output_type": "stream",
     "text": [
      "0022000036\n",
      "[1610612749 1610612752]\n"
     ]
    },
    {
     "name": "stderr",
     "output_type": "stream",
     "text": [
      "  3%|▎         | 32/1074 [00:52<21:25,  1.23s/it]"
     ]
    },
    {
     "name": "stdout",
     "output_type": "stream",
     "text": [
      "0022000031\n",
      "[1610612742 1610612746]\n"
     ]
    },
    {
     "name": "stderr",
     "output_type": "stream",
     "text": [
      "  3%|▎         | 33/1074 [00:54<28:19,  1.63s/it]"
     ]
    },
    {
     "name": "stdout",
     "output_type": "stream",
     "text": [
      "0022000035\n",
      "[1610612755 1610612739]\n"
     ]
    },
    {
     "name": "stderr",
     "output_type": "stream",
     "text": [
      "  3%|▎         | 34/1074 [00:56<31:10,  1.80s/it]"
     ]
    },
    {
     "name": "stdout",
     "output_type": "stream",
     "text": [
      "0022000037\n",
      "[1610612738 1610612754]\n"
     ]
    },
    {
     "name": "stderr",
     "output_type": "stream",
     "text": [
      "  3%|▎         | 35/1074 [00:57<27:24,  1.58s/it]"
     ]
    },
    {
     "name": "stdout",
     "output_type": "stream",
     "text": [
      "0022000039\n",
      "[1610612756 1610612758]\n"
     ]
    },
    {
     "name": "stderr",
     "output_type": "stream",
     "text": [
      "  3%|▎         | 36/1074 [01:00<31:26,  1.82s/it]"
     ]
    },
    {
     "name": "stdout",
     "output_type": "stream",
     "text": [
      "0022000032\n",
      "[1610612751 1610612766]\n"
     ]
    },
    {
     "name": "stderr",
     "output_type": "stream",
     "text": [
      "  3%|▎         | 37/1074 [01:02<34:18,  1.99s/it]"
     ]
    },
    {
     "name": "stdout",
     "output_type": "stream",
     "text": [
      "0022000033\n",
      "[1610612753 1610612764]\n"
     ]
    },
    {
     "name": "stderr",
     "output_type": "stream",
     "text": [
      "  4%|▎         | 38/1074 [01:04<34:56,  2.02s/it]"
     ]
    },
    {
     "name": "stdout",
     "output_type": "stream",
     "text": [
      "0022000034\n",
      "[1610612759 1610612740]\n"
     ]
    },
    {
     "name": "stderr",
     "output_type": "stream",
     "text": [
      "  4%|▎         | 39/1074 [01:07<37:15,  2.16s/it]"
     ]
    },
    {
     "name": "stdout",
     "output_type": "stream",
     "text": [
      "0022000045\n",
      "[1610612757 1610612747]\n"
     ]
    },
    {
     "name": "stderr",
     "output_type": "stream",
     "text": [
      "  4%|▎         | 40/1074 [01:08<32:19,  1.88s/it]"
     ]
    },
    {
     "name": "stdout",
     "output_type": "stream",
     "text": [
      "0022000042\n",
      "[1610612763 1610612751]\n"
     ]
    },
    {
     "name": "stderr",
     "output_type": "stream",
     "text": [
      "  4%|▍         | 41/1074 [01:10<35:57,  2.09s/it]"
     ]
    },
    {
     "name": "stdout",
     "output_type": "stream",
     "text": [
      "0022000041\n",
      "[1610612765 1610612737]\n"
     ]
    },
    {
     "name": "stderr",
     "output_type": "stream",
     "text": [
      "  4%|▍         | 42/1074 [01:12<31:27,  1.83s/it]"
     ]
    },
    {
     "name": "stdout",
     "output_type": "stream",
     "text": [
      "0022000044\n",
      "[1610612745 1610612743]\n"
     ]
    },
    {
     "name": "stderr",
     "output_type": "stream",
     "text": [
      "  4%|▍         | 43/1074 [01:13<28:23,  1.65s/it]"
     ]
    },
    {
     "name": "stdout",
     "output_type": "stream",
     "text": [
      "0022000043\n",
      "[1610612762 1610612760]\n"
     ]
    },
    {
     "name": "stderr",
     "output_type": "stream",
     "text": [
      "  4%|▍         | 44/1074 [01:14<25:32,  1.49s/it]"
     ]
    },
    {
     "name": "stdout",
     "output_type": "stream",
     "text": [
      "0022000049\n",
      "[1610612761 1610612755]\n"
     ]
    },
    {
     "name": "stderr",
     "output_type": "stream",
     "text": [
      "  4%|▍         | 45/1074 [01:16<29:14,  1.70s/it]"
     ]
    },
    {
     "name": "stdout",
     "output_type": "stream",
     "text": [
      "0022000053\n",
      "[1610612740 1610612756]\n"
     ]
    },
    {
     "name": "stderr",
     "output_type": "stream",
     "text": [
      "  4%|▍         | 46/1074 [01:19<33:11,  1.94s/it]"
     ]
    },
    {
     "name": "stdout",
     "output_type": "stream",
     "text": [
      "0022000054\n",
      "[1610612750 1610612746]\n"
     ]
    },
    {
     "name": "stderr",
     "output_type": "stream",
     "text": [
      "  4%|▍         | 47/1074 [01:21<35:09,  2.05s/it]"
     ]
    },
    {
     "name": "stdout",
     "output_type": "stream",
     "text": [
      "0022000046\n",
      "[1610612752 1610612739]\n"
     ]
    },
    {
     "name": "stderr",
     "output_type": "stream",
     "text": [
      "  4%|▍         | 48/1074 [01:23<37:03,  2.17s/it]"
     ]
    },
    {
     "name": "stdout",
     "output_type": "stream",
     "text": [
      "0022000051\n",
      "[1610612749 1610612748]\n"
     ]
    },
    {
     "name": "stderr",
     "output_type": "stream",
     "text": [
      "  5%|▍         | 49/1074 [01:25<31:16,  1.83s/it]"
     ]
    },
    {
     "name": "stdout",
     "output_type": "stream",
     "text": [
      "0022000047\n",
      "[1610612744 1610612765]\n"
     ]
    },
    {
     "name": "stderr",
     "output_type": "stream",
     "text": [
      "  5%|▍         | 50/1074 [01:27<32:18,  1.89s/it]"
     ]
    },
    {
     "name": "stdout",
     "output_type": "stream",
     "text": [
      "0022000048\n",
      "[1610612738 1610612754]\n"
     ]
    },
    {
     "name": "stderr",
     "output_type": "stream",
     "text": [
      "  5%|▍         | 51/1074 [01:29<34:55,  2.05s/it]"
     ]
    },
    {
     "name": "stdout",
     "output_type": "stream",
     "text": [
      "0022000055\n",
      "[1610612743 1610612758]\n"
     ]
    },
    {
     "name": "stderr",
     "output_type": "stream",
     "text": [
      "  5%|▍         | 52/1074 [01:31<34:52,  2.05s/it]"
     ]
    },
    {
     "name": "stdout",
     "output_type": "stream",
     "text": [
      "0022000050\n",
      "[1610612741 1610612764]\n"
     ]
    },
    {
     "name": "stderr",
     "output_type": "stream",
     "text": [
      "  5%|▍         | 53/1074 [01:34<38:23,  2.26s/it]"
     ]
    },
    {
     "name": "stdout",
     "output_type": "stream",
     "text": [
      "0022000052\n",
      "[1610612753 1610612760]\n"
     ]
    },
    {
     "name": "stderr",
     "output_type": "stream",
     "text": [
      "  5%|▌         | 54/1074 [01:35<32:23,  1.91s/it]"
     ]
    },
    {
     "name": "stdout",
     "output_type": "stream",
     "text": [
      "0022000060\n",
      "[1610612747 1610612759]\n"
     ]
    },
    {
     "name": "stderr",
     "output_type": "stream",
     "text": [
      "  5%|▌         | 55/1074 [01:36<27:50,  1.64s/it]"
     ]
    },
    {
     "name": "stdout",
     "output_type": "stream",
     "text": [
      "0022000056\n",
      "[1610612763 1610612738]\n"
     ]
    },
    {
     "name": "stderr",
     "output_type": "stream",
     "text": [
      "  5%|▌         | 56/1074 [01:37<24:38,  1.45s/it]"
     ]
    },
    {
     "name": "stdout",
     "output_type": "stream",
     "text": [
      "0022000057\n",
      "[1610612737 1610612751]\n"
     ]
    },
    {
     "name": "stderr",
     "output_type": "stream",
     "text": [
      "  5%|▌         | 57/1074 [01:39<27:47,  1.64s/it]"
     ]
    },
    {
     "name": "stdout",
     "output_type": "stream",
     "text": [
      "0022000061\n",
      "[1610612757 1610612746]\n"
     ]
    },
    {
     "name": "stderr",
     "output_type": "stream",
     "text": [
      "  5%|▌         | 58/1074 [01:40<24:40,  1.46s/it]"
     ]
    },
    {
     "name": "stdout",
     "output_type": "stream",
     "text": [
      "0022000058\n",
      "[1610612749 1610612748]\n"
     ]
    },
    {
     "name": "stderr",
     "output_type": "stream",
     "text": [
      "  5%|▌         | 59/1074 [01:42<27:55,  1.65s/it]"
     ]
    },
    {
     "name": "stdout",
     "output_type": "stream",
     "text": [
      "0022000059\n",
      "[1610612766 1610612742]\n"
     ]
    },
    {
     "name": "stderr",
     "output_type": "stream",
     "text": [
      "  6%|▌         | 60/1074 [01:44<30:37,  1.81s/it]"
     ]
    },
    {
     "name": "stdout",
     "output_type": "stream",
     "text": [
      "0022000064\n",
      "[1610612755 1610612753]\n"
     ]
    },
    {
     "name": "stderr",
     "output_type": "stream",
     "text": [
      "  6%|▌         | 61/1074 [01:45<26:41,  1.58s/it]"
     ]
    },
    {
     "name": "stdout",
     "output_type": "stream",
     "text": [
      "0022000065\n",
      "[1610612758 1610612745]\n"
     ]
    },
    {
     "name": "stderr",
     "output_type": "stream",
     "text": [
      "  6%|▌         | 62/1074 [01:47<29:02,  1.72s/it]"
     ]
    },
    {
     "name": "stdout",
     "output_type": "stream",
     "text": [
      "0022000068\n",
      "[1610612756 1610612762]\n"
     ]
    },
    {
     "name": "stderr",
     "output_type": "stream",
     "text": [
      "  6%|▌         | 63/1074 [01:50<32:15,  1.91s/it]"
     ]
    },
    {
     "name": "stdout",
     "output_type": "stream",
     "text": [
      "0022000062\n",
      "[1610612739 1610612754]\n"
     ]
    },
    {
     "name": "stderr",
     "output_type": "stream",
     "text": [
      "  6%|▌         | 64/1074 [01:51<27:39,  1.64s/it]"
     ]
    },
    {
     "name": "stdout",
     "output_type": "stream",
     "text": [
      "0022000063\n",
      "[1610612741 1610612764]\n"
     ]
    },
    {
     "name": "stderr",
     "output_type": "stream",
     "text": [
      "  6%|▌         | 65/1074 [01:52<24:27,  1.45s/it]"
     ]
    },
    {
     "name": "stdout",
     "output_type": "stream",
     "text": [
      "0022000066\n",
      "[1610612752 1610612761]\n"
     ]
    },
    {
     "name": "stderr",
     "output_type": "stream",
     "text": [
      "  6%|▌         | 66/1074 [01:54<27:23,  1.63s/it]"
     ]
    },
    {
     "name": "stdout",
     "output_type": "stream",
     "text": [
      "0022000067\n",
      "[1610612740 1610612760]\n"
     ]
    },
    {
     "name": "stderr",
     "output_type": "stream",
     "text": [
      "  6%|▌         | 67/1074 [01:56<30:54,  1.84s/it]"
     ]
    },
    {
     "name": "stdout",
     "output_type": "stream",
     "text": [
      "0022000078\n",
      "[1610612757 1610612744]\n"
     ]
    },
    {
     "name": "stderr",
     "output_type": "stream",
     "text": [
      "  6%|▋         | 68/1074 [01:57<27:52,  1.66s/it]"
     ]
    },
    {
     "name": "stdout",
     "output_type": "stream",
     "text": [
      "0022000075\n",
      "[1610612747 1610612759]\n"
     ]
    },
    {
     "name": "stderr",
     "output_type": "stream",
     "text": [
      "  6%|▋         | 69/1074 [01:59<25:24,  1.52s/it]"
     ]
    },
    {
     "name": "stdout",
     "output_type": "stream",
     "text": [
      "0022000072\n",
      "[1610612737 1610612751]\n"
     ]
    },
    {
     "name": "stderr",
     "output_type": "stream",
     "text": [
      "  7%|▋         | 70/1074 [02:00<23:40,  1.41s/it]"
     ]
    },
    {
     "name": "stdout",
     "output_type": "stream",
     "text": [
      "0022000070\n",
      "[1610612738 1610612765]\n"
     ]
    },
    {
     "name": "stderr",
     "output_type": "stream",
     "text": [
      "  7%|▋         | 71/1074 [02:02<28:03,  1.68s/it]"
     ]
    },
    {
     "name": "stdout",
     "output_type": "stream",
     "text": [
      "0022000073\n",
      "[1610612741 1610612749]\n"
     ]
    },
    {
     "name": "stderr",
     "output_type": "stream",
     "text": [
      "  7%|▋         | 72/1074 [02:03<24:41,  1.48s/it]"
     ]
    },
    {
     "name": "stdout",
     "output_type": "stream",
     "text": [
      "0022000077\n",
      "[1610612746 1610612762]\n"
     ]
    },
    {
     "name": "stderr",
     "output_type": "stream",
     "text": [
      "  7%|▋         | 73/1074 [02:04<22:18,  1.34s/it]"
     ]
    },
    {
     "name": "stdout",
     "output_type": "stream",
     "text": [
      "0022000071\n",
      "[1610612748 1610612742]\n"
     ]
    },
    {
     "name": "stderr",
     "output_type": "stream",
     "text": [
      "  7%|▋         | 74/1074 [02:06<27:23,  1.64s/it]"
     ]
    },
    {
     "name": "stdout",
     "output_type": "stream",
     "text": [
      "0022000076\n",
      "[1610612756 1610612743]\n"
     ]
    },
    {
     "name": "stderr",
     "output_type": "stream",
     "text": [
      "  7%|▋         | 75/1074 [02:09<31:59,  1.92s/it]"
     ]
    },
    {
     "name": "stdout",
     "output_type": "stream",
     "text": [
      "0022000074\n",
      "[1610612764 1610612750]\n"
     ]
    },
    {
     "name": "stderr",
     "output_type": "stream",
     "text": [
      "  7%|▋         | 76/1074 [02:11<32:37,  1.96s/it]"
     ]
    },
    {
     "name": "stdout",
     "output_type": "stream",
     "text": [
      "0022000069\n",
      "[1610612763 1610612766]\n"
     ]
    },
    {
     "name": "stderr",
     "output_type": "stream",
     "text": [
      "  7%|▋         | 77/1074 [02:13<33:30,  2.02s/it]"
     ]
    },
    {
     "name": "stdout",
     "output_type": "stream",
     "text": [
      "0022000082\n",
      "[1610612766 1610612755]\n"
     ]
    },
    {
     "name": "stderr",
     "output_type": "stream",
     "text": [
      "  7%|▋         | 78/1074 [02:16<38:55,  2.35s/it]"
     ]
    },
    {
     "name": "stdout",
     "output_type": "stream",
     "text": [
      "0022000081\n",
      "[1610612760 1610612753]\n"
     ]
    },
    {
     "name": "stderr",
     "output_type": "stream",
     "text": [
      "  7%|▋         | 79/1074 [02:19<39:25,  2.38s/it]"
     ]
    },
    {
     "name": "stdout",
     "output_type": "stream",
     "text": [
      "0022000079\n",
      "[1610612758 1610612745]\n"
     ]
    },
    {
     "name": "stderr",
     "output_type": "stream",
     "text": [
      "  7%|▋         | 80/1074 [02:21<38:06,  2.30s/it]"
     ]
    },
    {
     "name": "stdout",
     "output_type": "stream",
     "text": [
      "0022000080\n",
      "[1610612752 1610612754]\n"
     ]
    },
    {
     "name": "stderr",
     "output_type": "stream",
     "text": [
      "  8%|▊         | 81/1074 [02:23<37:19,  2.26s/it]"
     ]
    },
    {
     "name": "stdout",
     "output_type": "stream",
     "text": [
      "0022000083\n",
      "[1610612739 1610612737]\n"
     ]
    },
    {
     "name": "stderr",
     "output_type": "stream",
     "text": [
      "  8%|▊         | 82/1074 [02:24<31:22,  1.90s/it]"
     ]
    },
    {
     "name": "stdout",
     "output_type": "stream",
     "text": [
      "0022000084\n",
      "[1610612761 1610612740]\n"
     ]
    },
    {
     "name": "stderr",
     "output_type": "stream",
     "text": [
      "  8%|▊         | 83/1074 [02:27<34:10,  2.07s/it]"
     ]
    },
    {
     "name": "stdout",
     "output_type": "stream",
     "text": [
      "0022000092\n",
      "[1610612757 1610612744]\n"
     ]
    },
    {
     "name": "stderr",
     "output_type": "stream",
     "text": [
      "  8%|▊         | 84/1074 [02:28<29:09,  1.77s/it]"
     ]
    },
    {
     "name": "stdout",
     "output_type": "stream",
     "text": [
      "0022000089\n",
      "[1610612762 1610612759]\n"
     ]
    },
    {
     "name": "stderr",
     "output_type": "stream",
     "text": [
      "  8%|▊         | 85/1074 [02:29<25:35,  1.55s/it]"
     ]
    },
    {
     "name": "stdout",
     "output_type": "stream",
     "text": [
      "0022000090\n",
      "[1610612742 1610612741]\n"
     ]
    },
    {
     "name": "stderr",
     "output_type": "stream",
     "text": [
      "  8%|▊         | 86/1074 [02:31<28:22,  1.72s/it]"
     ]
    },
    {
     "name": "stdout",
     "output_type": "stream",
     "text": [
      "0022000091\n",
      "[1610612746 1610612756]\n"
     ]
    },
    {
     "name": "stderr",
     "output_type": "stream",
     "text": [
      "  8%|▊         | 87/1074 [02:33<30:20,  1.84s/it]"
     ]
    },
    {
     "name": "stdout",
     "output_type": "stream",
     "text": [
      "0022000086\n",
      "[1610612764 1610612751]\n"
     ]
    },
    {
     "name": "stderr",
     "output_type": "stream",
     "text": [
      "  8%|▊         | 88/1074 [02:35<31:57,  1.94s/it]"
     ]
    },
    {
     "name": "stdout",
     "output_type": "stream",
     "text": [
      "0022000085\n",
      "[1610612738 1610612765]\n"
     ]
    },
    {
     "name": "stderr",
     "output_type": "stream",
     "text": [
      "  8%|▊         | 89/1074 [02:36<27:39,  1.68s/it]"
     ]
    },
    {
     "name": "stdout",
     "output_type": "stream",
     "text": [
      "0022000088\n",
      "[1610612743 1610612750]\n"
     ]
    },
    {
     "name": "stderr",
     "output_type": "stream",
     "text": [
      "  8%|▊         | 90/1074 [02:37<24:38,  1.50s/it]"
     ]
    },
    {
     "name": "stdout",
     "output_type": "stream",
     "text": [
      "0022000087\n",
      "[1610612747 1610612763]\n"
     ]
    },
    {
     "name": "stderr",
     "output_type": "stream",
     "text": [
      "  8%|▊         | 91/1074 [02:40<28:58,  1.77s/it]"
     ]
    },
    {
     "name": "stdout",
     "output_type": "stream",
     "text": [
      "0022000094\n",
      "[1610612766 1610612755]\n"
     ]
    },
    {
     "name": "stderr",
     "output_type": "stream",
     "text": [
      "  9%|▊         | 92/1074 [02:42<31:19,  1.91s/it]"
     ]
    },
    {
     "name": "stdout",
     "output_type": "stream",
     "text": [
      "0022000101\n",
      "[1610612758 1610612744]\n"
     ]
    },
    {
     "name": "stderr",
     "output_type": "stream",
     "text": [
      "  9%|▊         | 93/1074 [02:44<34:15,  2.09s/it]"
     ]
    },
    {
     "name": "stdout",
     "output_type": "stream",
     "text": [
      "0022000093\n",
      "[1610612739 1610612753]\n"
     ]
    },
    {
     "name": "stderr",
     "output_type": "stream",
     "text": [
      "  9%|▉         | 94/1074 [02:45<28:56,  1.77s/it]"
     ]
    },
    {
     "name": "stdout",
     "output_type": "stream",
     "text": [
      "0022000098\n",
      "[1610612742 1610612745]\n"
     ]
    },
    {
     "name": "stderr",
     "output_type": "stream",
     "text": [
      "  9%|▉         | 95/1074 [02:48<32:13,  1.97s/it]"
     ]
    },
    {
     "name": "stdout",
     "output_type": "stream",
     "text": [
      "0022000096\n",
      "[1610612760 1610612748]\n"
     ]
    },
    {
     "name": "stderr",
     "output_type": "stream",
     "text": [
      "  9%|▉         | 96/1074 [02:49<27:36,  1.69s/it]"
     ]
    },
    {
     "name": "stdout",
     "output_type": "stream",
     "text": [
      "0022000099\n",
      "[1610612765 1610612749]\n"
     ]
    },
    {
     "name": "stderr",
     "output_type": "stream",
     "text": [
      "  9%|▉         | 97/1074 [02:51<31:12,  1.92s/it]"
     ]
    },
    {
     "name": "stdout",
     "output_type": "stream",
     "text": [
      "0022000095\n",
      "[1610612752 1610612737]\n"
     ]
    },
    {
     "name": "stderr",
     "output_type": "stream",
     "text": [
      "  9%|▉         | 98/1074 [02:54<33:54,  2.08s/it]"
     ]
    },
    {
     "name": "stdout",
     "output_type": "stream",
     "text": [
      "0022000097\n",
      "[1610612738 1610612761]\n"
     ]
    },
    {
     "name": "stderr",
     "output_type": "stream",
     "text": [
      "  9%|▉         | 99/1074 [02:56<35:59,  2.21s/it]"
     ]
    },
    {
     "name": "stdout",
     "output_type": "stream",
     "text": [
      "0022000100\n",
      "[1610612754 1610612740]\n"
     ]
    },
    {
     "name": "stderr",
     "output_type": "stream",
     "text": [
      "  9%|▉         | 100/1074 [02:57<30:20,  1.87s/it]"
     ]
    },
    {
     "name": "stdout",
     "output_type": "stream",
     "text": [
      "0022000102\n",
      "[1610612762 1610612751]\n"
     ]
    },
    {
     "name": "stderr",
     "output_type": "stream",
     "text": [
      "  9%|▉         | 101/1074 [03:00<33:22,  2.06s/it]"
     ]
    },
    {
     "name": "stdout",
     "output_type": "stream",
     "text": [
      "0022000105\n",
      "[1610612759 1610612746]\n"
     ]
    },
    {
     "name": "stderr",
     "output_type": "stream",
     "text": [
      "  9%|▉         | 102/1074 [03:03<36:23,  2.25s/it]"
     ]
    },
    {
     "name": "stdout",
     "output_type": "stream",
     "text": [
      "0022000106\n",
      "[1610612741 1610612757]\n"
     ]
    },
    {
     "name": "stderr",
     "output_type": "stream",
     "text": [
      " 10%|▉         | 103/1074 [03:05<37:24,  2.31s/it]"
     ]
    },
    {
     "name": "stdout",
     "output_type": "stream",
     "text": [
      "0022000104\n",
      "[1610612750 1610612743]\n"
     ]
    },
    {
     "name": "stderr",
     "output_type": "stream",
     "text": [
      " 10%|▉         | 104/1074 [03:08<38:25,  2.38s/it]"
     ]
    },
    {
     "name": "stdout",
     "output_type": "stream",
     "text": [
      "0022000103\n",
      "[1610612747 1610612763]\n"
     ]
    },
    {
     "name": "stderr",
     "output_type": "stream",
     "text": [
      " 10%|▉         | 105/1074 [03:10<36:46,  2.28s/it]"
     ]
    },
    {
     "name": "stdout",
     "output_type": "stream",
     "text": [
      "0022000116\n",
      "[1610612746 1610612744]\n"
     ]
    },
    {
     "name": "stderr",
     "output_type": "stream",
     "text": [
      " 10%|▉         | 106/1074 [03:11<31:02,  1.92s/it]"
     ]
    },
    {
     "name": "stdout",
     "output_type": "stream",
     "text": [
      "0022000109\n",
      "[1610612764 1610612755]\n"
     ]
    },
    {
     "name": "stderr",
     "output_type": "stream",
     "text": [
      " 10%|▉         | 107/1074 [03:12<26:58,  1.67s/it]"
     ]
    },
    {
     "name": "stdout",
     "output_type": "stream",
     "text": [
      "0022000112\n",
      "[1610612762 1610612752]\n"
     ]
    },
    {
     "name": "stderr",
     "output_type": "stream",
     "text": [
      " 10%|█         | 108/1074 [03:13<24:01,  1.49s/it]"
     ]
    },
    {
     "name": "stdout",
     "output_type": "stream",
     "text": [
      "0022000115\n",
      "[1610612761 1610612756]\n"
     ]
    },
    {
     "name": "stderr",
     "output_type": "stream",
     "text": [
      " 10%|█         | 109/1074 [03:15<28:19,  1.76s/it]"
     ]
    },
    {
     "name": "stdout",
     "output_type": "stream",
     "text": [
      "0022000108\n",
      "[1610612739 1610612753]\n"
     ]
    },
    {
     "name": "stderr",
     "output_type": "stream",
     "text": [
      " 10%|█         | 110/1074 [03:17<29:49,  1.86s/it]"
     ]
    },
    {
     "name": "stdout",
     "output_type": "stream",
     "text": [
      "0022000111\n",
      "[1610612738 1610612748]\n"
     ]
    },
    {
     "name": "stderr",
     "output_type": "stream",
     "text": [
      " 10%|█         | 111/1074 [03:18<25:51,  1.61s/it]"
     ]
    },
    {
     "name": "stdout",
     "output_type": "stream",
     "text": [
      "0022000113\n",
      "[1610612765 1610612749]\n"
     ]
    },
    {
     "name": "stderr",
     "output_type": "stream",
     "text": [
      " 10%|█         | 112/1074 [03:21<29:25,  1.84s/it]"
     ]
    },
    {
     "name": "stdout",
     "output_type": "stream",
     "text": [
      "0022000107\n",
      "[1610612745 1610612754]\n"
     ]
    },
    {
     "name": "stderr",
     "output_type": "stream",
     "text": [
      " 11%|█         | 113/1074 [03:22<25:28,  1.59s/it]"
     ]
    },
    {
     "name": "stdout",
     "output_type": "stream",
     "text": [
      "0022000110\n",
      "[1610612766 1610612737]\n"
     ]
    },
    {
     "name": "stderr",
     "output_type": "stream",
     "text": [
      " 11%|█         | 114/1074 [03:24<27:51,  1.74s/it]"
     ]
    },
    {
     "name": "stdout",
     "output_type": "stream",
     "text": [
      "0022000117\n",
      "[1610612741 1610612758]\n"
     ]
    },
    {
     "name": "stderr",
     "output_type": "stream",
     "text": [
      " 11%|█         | 115/1074 [03:25<24:30,  1.53s/it]"
     ]
    },
    {
     "name": "stdout",
     "output_type": "stream",
     "text": [
      "0022000114\n",
      "[1610612760 1610612740]\n"
     ]
    },
    {
     "name": "stderr",
     "output_type": "stream",
     "text": [
      " 11%|█         | 116/1074 [03:27<28:33,  1.79s/it]"
     ]
    },
    {
     "name": "stdout",
     "output_type": "stream",
     "text": [
      "0022000121\n",
      "[1610612759 1610612747]\n"
     ]
    },
    {
     "name": "stderr",
     "output_type": "stream",
     "text": [
      " 11%|█         | 117/1074 [03:28<24:58,  1.57s/it]"
     ]
    },
    {
     "name": "stdout",
     "output_type": "stream",
     "text": [
      "0022000118\n",
      "[1610612755 1610612751]\n"
     ]
    },
    {
     "name": "stderr",
     "output_type": "stream",
     "text": [
      " 11%|█         | 118/1074 [03:31<29:11,  1.83s/it]"
     ]
    },
    {
     "name": "stdout",
     "output_type": "stream",
     "text": [
      "0022000122\n",
      "[1610612750 1610612757]\n"
     ]
    },
    {
     "name": "stderr",
     "output_type": "stream",
     "text": [
      " 11%|█         | 119/1074 [03:32<25:25,  1.60s/it]"
     ]
    },
    {
     "name": "stdout",
     "output_type": "stream",
     "text": [
      "0022000120\n",
      "[1610612742 1610612743]\n"
     ]
    },
    {
     "name": "stderr",
     "output_type": "stream",
     "text": [
      " 11%|█         | 120/1074 [03:34<27:54,  1.75s/it]"
     ]
    },
    {
     "name": "stdout",
     "output_type": "stream",
     "text": [
      "0022000119\n",
      "[1610612739 1610612763]\n"
     ]
    },
    {
     "name": "stderr",
     "output_type": "stream",
     "text": [
      " 11%|█▏        | 121/1074 [03:35<24:33,  1.55s/it]"
     ]
    },
    {
     "name": "stdout",
     "output_type": "stream",
     "text": [
      "0022000130\n",
      "[1610612746 1610612744]\n"
     ]
    },
    {
     "name": "stderr",
     "output_type": "stream",
     "text": [
      " 11%|█▏        | 122/1074 [03:36<22:08,  1.40s/it]"
     ]
    },
    {
     "name": "stdout",
     "output_type": "stream",
     "text": [
      "0022000131\n",
      "[1610612741 1610612747]\n"
     ]
    },
    {
     "name": "stderr",
     "output_type": "stream",
     "text": [
      " 11%|█▏        | 123/1074 [03:37<20:33,  1.30s/it]"
     ]
    },
    {
     "name": "stdout",
     "output_type": "stream",
     "text": [
      "0022000125\n",
      "[1610612760 1610612752]\n"
     ]
    },
    {
     "name": "stderr",
     "output_type": "stream",
     "text": [
      " 12%|█▏        | 124/1074 [03:38<19:16,  1.22s/it]"
     ]
    },
    {
     "name": "stdout",
     "output_type": "stream",
     "text": [
      "0022000124\n",
      "[1610612764 1610612738]\n"
     ]
    },
    {
     "name": "stderr",
     "output_type": "stream",
     "text": [
      " 12%|█▏        | 125/1074 [03:41<24:56,  1.58s/it]"
     ]
    },
    {
     "name": "stdout",
     "output_type": "stream",
     "text": [
      "0022000127\n",
      "[1610612753 1610612745]\n"
     ]
    },
    {
     "name": "stderr",
     "output_type": "stream",
     "text": [
      " 12%|█▏        | 126/1074 [03:42<22:20,  1.41s/it]"
     ]
    },
    {
     "name": "stdout",
     "output_type": "stream",
     "text": [
      "0022000123\n",
      "[1610612756 1610612765]\n"
     ]
    },
    {
     "name": "stderr",
     "output_type": "stream",
     "text": [
      " 12%|█▏        | 127/1074 [03:43<20:34,  1.30s/it]"
     ]
    },
    {
     "name": "stdout",
     "output_type": "stream",
     "text": [
      "0022000129\n",
      "[1610612762 1610612749]\n"
     ]
    },
    {
     "name": "stderr",
     "output_type": "stream",
     "text": [
      " 12%|█▏        | 128/1074 [03:45<25:00,  1.59s/it]"
     ]
    },
    {
     "name": "stdout",
     "output_type": "stream",
     "text": [
      "0022000132\n",
      "[1610612761 1610612758]\n"
     ]
    },
    {
     "name": "stderr",
     "output_type": "stream",
     "text": [
      " 12%|█▏        | 129/1074 [03:47<28:54,  1.84s/it]"
     ]
    },
    {
     "name": "stdout",
     "output_type": "stream",
     "text": [
      "0022000128\n",
      "[1610612751 1610612763]\n"
     ]
    },
    {
     "name": "stderr",
     "output_type": "stream",
     "text": [
      " 12%|█▏        | 130/1074 [03:48<25:04,  1.59s/it]"
     ]
    },
    {
     "name": "stdout",
     "output_type": "stream",
     "text": [
      "0022000126\n",
      "[1610612766 1610612740]\n"
     ]
    },
    {
     "name": "stderr",
     "output_type": "stream",
     "text": [
      " 12%|█▏        | 131/1074 [03:51<27:38,  1.76s/it]"
     ]
    },
    {
     "name": "stdout",
     "output_type": "stream",
     "text": [
      "0022000133\n",
      "[1610612743 1610612755]\n"
     ]
    },
    {
     "name": "stderr",
     "output_type": "stream",
     "text": [
      " 12%|█▏        | 132/1074 [03:52<24:06,  1.54s/it]"
     ]
    },
    {
     "name": "stdout",
     "output_type": "stream",
     "text": [
      "0022000137\n",
      "[1610612739 1610612749]\n"
     ]
    },
    {
     "name": "stderr",
     "output_type": "stream",
     "text": [
      " 12%|█▏        | 133/1074 [03:54<27:10,  1.73s/it]"
     ]
    },
    {
     "name": "stdout",
     "output_type": "stream",
     "text": [
      "0022000135\n",
      "[1610612756 1610612754]\n"
     ]
    },
    {
     "name": "stderr",
     "output_type": "stream",
     "text": [
      " 12%|█▏        | 134/1074 [03:55<23:52,  1.52s/it]"
     ]
    },
    {
     "name": "stdout",
     "output_type": "stream",
     "text": [
      "0022000139\n",
      "[1610612753 1610612742]\n"
     ]
    },
    {
     "name": "stderr",
     "output_type": "stream",
     "text": [
      " 13%|█▎        | 135/1074 [03:56<21:40,  1.39s/it]"
     ]
    },
    {
     "name": "stdout",
     "output_type": "stream",
     "text": [
      "0022000140\n",
      "[1610612757 1610612758]\n"
     ]
    },
    {
     "name": "stderr",
     "output_type": "stream",
     "text": [
      " 13%|█▎        | 136/1074 [03:57<20:17,  1.30s/it]"
     ]
    },
    {
     "name": "stdout",
     "output_type": "stream",
     "text": [
      "0022000138\n",
      "[1610612759 1610612750]\n"
     ]
    },
    {
     "name": "stderr",
     "output_type": "stream",
     "text": [
      " 13%|█▎        | 137/1074 [03:58<19:09,  1.23s/it]"
     ]
    },
    {
     "name": "stdout",
     "output_type": "stream",
     "text": [
      "0022000134\n",
      "[1610612737 1610612766]\n"
     ]
    },
    {
     "name": "stderr",
     "output_type": "stream",
     "text": [
      " 13%|█▎        | 138/1074 [03:59<18:18,  1.17s/it]"
     ]
    },
    {
     "name": "stdout",
     "output_type": "stream",
     "text": [
      "0022000136\n",
      "[1610612748 1610612764]\n"
     ]
    },
    {
     "name": "stderr",
     "output_type": "stream",
     "text": [
      " 13%|█▎        | 139/1074 [04:00<18:06,  1.16s/it]"
     ]
    },
    {
     "name": "stdout",
     "output_type": "stream",
     "text": [
      "0022000148\n",
      "[1610612761 1610612744]\n"
     ]
    },
    {
     "name": "stderr",
     "output_type": "stream",
     "text": [
      " 13%|█▎        | 140/1074 [04:02<22:32,  1.45s/it]"
     ]
    },
    {
     "name": "stdout",
     "output_type": "stream",
     "text": [
      "0022000144\n",
      "[1610612743 1610612752]\n"
     ]
    },
    {
     "name": "stderr",
     "output_type": "stream",
     "text": [
      " 13%|█▎        | 141/1074 [04:05<27:34,  1.77s/it]"
     ]
    },
    {
     "name": "stdout",
     "output_type": "stream",
     "text": [
      "0022000143\n",
      "[1610612760 1610612751]\n"
     ]
    },
    {
     "name": "stderr",
     "output_type": "stream",
     "text": [
      " 13%|█▎        | 142/1074 [04:06<24:13,  1.56s/it]"
     ]
    },
    {
     "name": "stdout",
     "output_type": "stream",
     "text": [
      "0022000142\n",
      "[1610612741 1610612746]\n"
     ]
    },
    {
     "name": "stderr",
     "output_type": "stream",
     "text": [
      " 13%|█▎        | 143/1074 [04:07<21:49,  1.41s/it]"
     ]
    },
    {
     "name": "stdout",
     "output_type": "stream",
     "text": [
      "0022000146\n",
      "[1610612747 1610612745]\n"
     ]
    },
    {
     "name": "stderr",
     "output_type": "stream",
     "text": [
      " 13%|█▎        | 144/1074 [04:09<24:28,  1.58s/it]"
     ]
    },
    {
     "name": "stdout",
     "output_type": "stream",
     "text": [
      "0022000141\n",
      "[1610612762 1610612765]\n"
     ]
    },
    {
     "name": "stderr",
     "output_type": "stream",
     "text": [
      " 14%|█▎        | 145/1074 [04:11<28:22,  1.83s/it]"
     ]
    },
    {
     "name": "stdout",
     "output_type": "stream",
     "text": [
      "0022000147\n",
      "[1610612759 1610612750]\n"
     ]
    },
    {
     "name": "stderr",
     "output_type": "stream",
     "text": [
      " 14%|█▎        | 146/1074 [04:14<32:17,  2.09s/it]"
     ]
    },
    {
     "name": "stdout",
     "output_type": "stream",
     "text": [
      "0022000151\n",
      "[1610612749 1610612753]\n"
     ]
    },
    {
     "name": "stderr",
     "output_type": "stream",
     "text": [
      " 14%|█▎        | 147/1074 [04:16<33:05,  2.14s/it]"
     ]
    },
    {
     "name": "stdout",
     "output_type": "stream",
     "text": [
      "0022000150\n",
      "[1610612763 1610612739]\n"
     ]
    },
    {
     "name": "stderr",
     "output_type": "stream",
     "text": [
      " 14%|█▍        | 148/1074 [04:17<28:11,  1.83s/it]"
     ]
    },
    {
     "name": "stdout",
     "output_type": "stream",
     "text": [
      "0022000155\n",
      "[1610612761 1610612757]\n"
     ]
    },
    {
     "name": "stderr",
     "output_type": "stream",
     "text": [
      " 14%|█▍        | 149/1074 [04:20<31:07,  2.02s/it]"
     ]
    },
    {
     "name": "stdout",
     "output_type": "stream",
     "text": [
      "0022000153\n",
      "[1610612755 1610612737]\n"
     ]
    },
    {
     "name": "stderr",
     "output_type": "stream",
     "text": [
      " 14%|█▍        | 150/1074 [04:22<33:44,  2.19s/it]"
     ]
    },
    {
     "name": "stdout",
     "output_type": "stream",
     "text": [
      "0022000156\n",
      "[1610612754 1610612758]\n"
     ]
    },
    {
     "name": "stderr",
     "output_type": "stream",
     "text": [
      " 14%|█▍        | 151/1074 [04:24<28:39,  1.86s/it]"
     ]
    },
    {
     "name": "stdout",
     "output_type": "stream",
     "text": [
      "0022000149\n",
      "[1610612752 1610612766]\n"
     ]
    },
    {
     "name": "stderr",
     "output_type": "stream",
     "text": [
      " 14%|█▍        | 152/1074 [04:25<25:30,  1.66s/it]"
     ]
    },
    {
     "name": "stdout",
     "output_type": "stream",
     "text": [
      "0022000152\n",
      "[1610612756 1610612764]\n"
     ]
    },
    {
     "name": "stderr",
     "output_type": "stream",
     "text": [
      " 14%|█▍        | 153/1074 [04:27<29:37,  1.93s/it]"
     ]
    },
    {
     "name": "stdout",
     "output_type": "stream",
     "text": [
      "0022000157\n",
      "[1610612748 1610612755]\n"
     ]
    },
    {
     "name": "stderr",
     "output_type": "stream",
     "text": [
      " 14%|█▍        | 154/1074 [04:30<31:00,  2.02s/it]"
     ]
    },
    {
     "name": "stdout",
     "output_type": "stream",
     "text": [
      "0022000163\n",
      "[1610612754 1610612744]\n"
     ]
    },
    {
     "name": "stderr",
     "output_type": "stream",
     "text": [
      " 14%|█▍        | 155/1074 [04:32<35:23,  2.31s/it]"
     ]
    },
    {
     "name": "stdout",
     "output_type": "stream",
     "text": [
      "0022000158\n",
      "[1610612743 1610612751]\n"
     ]
    },
    {
     "name": "stderr",
     "output_type": "stream",
     "text": [
      " 15%|█▍        | 156/1074 [04:35<34:35,  2.26s/it]"
     ]
    },
    {
     "name": "stdout",
     "output_type": "stream",
     "text": [
      "0022000161\n",
      "[1610612747 1610612745]\n"
     ]
    },
    {
     "name": "stderr",
     "output_type": "stream",
     "text": [
      " 15%|█▍        | 157/1074 [04:36<29:13,  1.91s/it]"
     ]
    },
    {
     "name": "stdout",
     "output_type": "stream",
     "text": [
      "0022000159\n",
      "[1610612762 1610612739]\n"
     ]
    },
    {
     "name": "stderr",
     "output_type": "stream",
     "text": [
      " 15%|█▍        | 158/1074 [04:38<30:34,  2.00s/it]"
     ]
    },
    {
     "name": "stdout",
     "output_type": "stream",
     "text": [
      "0022000162\n",
      "[1610612759 1610612760]\n"
     ]
    },
    {
     "name": "stderr",
     "output_type": "stream",
     "text": [
      " 15%|█▍        | 159/1074 [04:39<26:22,  1.73s/it]"
     ]
    },
    {
     "name": "stdout",
     "output_type": "stream",
     "text": [
      "0022000168\n",
      "[1610612751 1610612752]\n"
     ]
    },
    {
     "name": "stderr",
     "output_type": "stream",
     "text": [
      " 15%|█▍        | 160/1074 [04:42<30:00,  1.97s/it]"
     ]
    },
    {
     "name": "stdout",
     "output_type": "stream",
     "text": [
      "0022000172\n",
      "[1610612740 1610612746]\n"
     ]
    },
    {
     "name": "stderr",
     "output_type": "stream",
     "text": [
      " 15%|█▍        | 161/1074 [04:43<26:00,  1.71s/it]"
     ]
    },
    {
     "name": "stdout",
     "output_type": "stream",
     "text": [
      "0022000165\n",
      "[1610612749 1610612765]\n"
     ]
    },
    {
     "name": "stderr",
     "output_type": "stream",
     "text": [
      " 15%|█▌        | 162/1074 [04:44<23:04,  1.52s/it]"
     ]
    },
    {
     "name": "stdout",
     "output_type": "stream",
     "text": [
      "0022000173\n",
      "[1610612757 1610612758]\n"
     ]
    },
    {
     "name": "stderr",
     "output_type": "stream",
     "text": [
      " 15%|█▌        | 163/1074 [04:46<26:32,  1.75s/it]"
     ]
    },
    {
     "name": "stdout",
     "output_type": "stream",
     "text": [
      "0022000169\n",
      "[1610612763 1610612750]\n"
     ]
    },
    {
     "name": "stderr",
     "output_type": "stream",
     "text": [
      " 15%|█▌        | 164/1074 [04:47<23:32,  1.55s/it]"
     ]
    },
    {
     "name": "stdout",
     "output_type": "stream",
     "text": [
      "0022000164\n",
      "[1610612742 1610612766]\n"
     ]
    },
    {
     "name": "stderr",
     "output_type": "stream",
     "text": [
      " 15%|█▌        | 165/1074 [04:49<26:25,  1.74s/it]"
     ]
    },
    {
     "name": "stdout",
     "output_type": "stream",
     "text": [
      "0022000170\n",
      "[1610612747 1610612760]\n"
     ]
    },
    {
     "name": "stderr",
     "output_type": "stream",
     "text": [
      " 15%|█▌        | 166/1074 [04:52<29:10,  1.93s/it]"
     ]
    },
    {
     "name": "stdout",
     "output_type": "stream",
     "text": [
      "0022000174\n",
      "[1610612748 1610612755]\n"
     ]
    },
    {
     "name": "stderr",
     "output_type": "stream",
     "text": [
      " 16%|█▌        | 167/1074 [04:53<25:30,  1.69s/it]"
     ]
    },
    {
     "name": "stdout",
     "output_type": "stream",
     "text": [
      "0022000176\n",
      "[1610612745 1610612759]\n"
     ]
    },
    {
     "name": "stderr",
     "output_type": "stream",
     "text": [
      " 16%|█▌        | 168/1074 [04:55<29:06,  1.93s/it]"
     ]
    },
    {
     "name": "stdout",
     "output_type": "stream",
     "text": [
      "0022000178\n",
      "[1610612754 1610612757]\n"
     ]
    },
    {
     "name": "stderr",
     "output_type": "stream",
     "text": [
      " 16%|█▌        | 169/1074 [04:58<31:50,  2.11s/it]"
     ]
    },
    {
     "name": "stdout",
     "output_type": "stream",
     "text": [
      "0022000177\n",
      "[1610612744 1610612743]\n"
     ]
    },
    {
     "name": "stderr",
     "output_type": "stream",
     "text": [
      " 16%|█▌        | 170/1074 [05:00<33:14,  2.21s/it]"
     ]
    },
    {
     "name": "stdout",
     "output_type": "stream",
     "text": [
      "0022000175\n",
      "[1610612766 1610612761]\n"
     ]
    },
    {
     "name": "stderr",
     "output_type": "stream",
     "text": [
      " 16%|█▌        | 171/1074 [05:01<28:07,  1.87s/it]"
     ]
    },
    {
     "name": "stdout",
     "output_type": "stream",
     "text": [
      "0022000187\n",
      "[1610612740 1610612747]\n"
     ]
    },
    {
     "name": "stderr",
     "output_type": "stream",
     "text": [
      " 16%|█▌        | 172/1074 [05:02<24:41,  1.64s/it]"
     ]
    },
    {
     "name": "stdout",
     "output_type": "stream",
     "text": [
      "0022000180\n",
      "[1610612753 1610612738]\n"
     ]
    },
    {
     "name": "stderr",
     "output_type": "stream",
     "text": [
      " 16%|█▌        | 173/1074 [05:05<26:53,  1.79s/it]"
     ]
    },
    {
     "name": "stdout",
     "output_type": "stream",
     "text": [
      "0022000181\n",
      "[1610612752 1610612739]\n"
     ]
    },
    {
     "name": "stderr",
     "output_type": "stream",
     "text": [
      " 16%|█▌        | 174/1074 [05:07<28:04,  1.87s/it]"
     ]
    },
    {
     "name": "stdout",
     "output_type": "stream",
     "text": [
      "0022000182\n",
      "[1610612742 1610612749]\n"
     ]
    },
    {
     "name": "stderr",
     "output_type": "stream",
     "text": [
      " 16%|█▋        | 175/1074 [05:08<24:29,  1.63s/it]"
     ]
    },
    {
     "name": "stdout",
     "output_type": "stream",
     "text": [
      "0022000186\n",
      "[1610612737 1610612762]\n"
     ]
    },
    {
     "name": "stderr",
     "output_type": "stream",
     "text": [
      " 16%|█▋        | 176/1074 [05:10<28:31,  1.91s/it]"
     ]
    },
    {
     "name": "stdout",
     "output_type": "stream",
     "text": [
      "0022000188\n",
      "[1610612746 1610612758]\n"
     ]
    },
    {
     "name": "stderr",
     "output_type": "stream",
     "text": [
      " 16%|█▋        | 177/1074 [05:11<25:09,  1.68s/it]"
     ]
    },
    {
     "name": "stdout",
     "output_type": "stream",
     "text": [
      "0022000184\n",
      "[1610612741 1610612760]\n"
     ]
    },
    {
     "name": "stderr",
     "output_type": "stream",
     "text": [
      " 17%|█▋        | 178/1074 [05:14<29:04,  1.95s/it]"
     ]
    },
    {
     "name": "stdout",
     "output_type": "stream",
     "text": [
      "0022000189\n",
      "[1610612745 1610612759]\n"
     ]
    },
    {
     "name": "stderr",
     "output_type": "stream",
     "text": [
      " 17%|█▋        | 179/1074 [05:15<25:14,  1.69s/it]"
     ]
    },
    {
     "name": "stdout",
     "output_type": "stream",
     "text": [
      "0022000190\n",
      "[1610612753 1610612751]\n"
     ]
    },
    {
     "name": "stderr",
     "output_type": "stream",
     "text": [
      " 17%|█▋        | 180/1074 [05:16<22:32,  1.51s/it]"
     ]
    },
    {
     "name": "stdout",
     "output_type": "stream",
     "text": [
      "0022000192\n",
      "[1610612765 1610612748]\n"
     ]
    },
    {
     "name": "stderr",
     "output_type": "stream",
     "text": [
      " 17%|█▋        | 181/1074 [05:19<27:06,  1.82s/it]"
     ]
    },
    {
     "name": "stdout",
     "output_type": "stream",
     "text": [
      "0022000195\n",
      "[1610612737 1610612757]\n"
     ]
    },
    {
     "name": "stderr",
     "output_type": "stream",
     "text": [
      " 17%|█▋        | 182/1074 [05:20<23:56,  1.61s/it]"
     ]
    },
    {
     "name": "stdout",
     "output_type": "stream",
     "text": [
      "0022000191\n",
      "[1610612766 1610612761]\n"
     ]
    },
    {
     "name": "stderr",
     "output_type": "stream",
     "text": [
      " 17%|█▋        | 183/1074 [05:21<21:32,  1.45s/it]"
     ]
    },
    {
     "name": "stdout",
     "output_type": "stream",
     "text": [
      "0022000193\n",
      "[1610612755 1610612763]\n"
     ]
    },
    {
     "name": "stderr",
     "output_type": "stream",
     "text": [
      " 17%|█▋        | 184/1074 [05:22<20:00,  1.35s/it]"
     ]
    },
    {
     "name": "stdout",
     "output_type": "stream",
     "text": [
      "0022000196\n",
      "[1610612752 1610612738]\n"
     ]
    },
    {
     "name": "stderr",
     "output_type": "stream",
     "text": [
      " 17%|█▋        | 185/1074 [05:23<18:46,  1.27s/it]"
     ]
    },
    {
     "name": "stdout",
     "output_type": "stream",
     "text": [
      "0022000202\n",
      "[1610612754 1610612746]\n"
     ]
    },
    {
     "name": "stderr",
     "output_type": "stream",
     "text": [
      " 17%|█▋        | 186/1074 [05:24<18:00,  1.22s/it]"
     ]
    },
    {
     "name": "stdout",
     "output_type": "stream",
     "text": [
      "0022000201\n",
      "[1610612740 1610612758]\n"
     ]
    },
    {
     "name": "stderr",
     "output_type": "stream",
     "text": [
      " 17%|█▋        | 187/1074 [05:27<23:08,  1.57s/it]"
     ]
    },
    {
     "name": "stdout",
     "output_type": "stream",
     "text": [
      "0022000198\n",
      "[1610612741 1610612742]\n"
     ]
    },
    {
     "name": "stderr",
     "output_type": "stream",
     "text": [
      " 18%|█▊        | 188/1074 [05:29<27:00,  1.83s/it]"
     ]
    },
    {
     "name": "stdout",
     "output_type": "stream",
     "text": [
      "0022000200\n",
      "[1610612762 1610612743]\n"
     ]
    },
    {
     "name": "stderr",
     "output_type": "stream",
     "text": [
      " 18%|█▊        | 189/1074 [05:30<23:52,  1.62s/it]"
     ]
    },
    {
     "name": "stdout",
     "output_type": "stream",
     "text": [
      "0022000212\n",
      "[1610612744 1610612747]\n"
     ]
    },
    {
     "name": "stderr",
     "output_type": "stream",
     "text": [
      " 18%|█▊        | 190/1074 [05:32<25:51,  1.76s/it]"
     ]
    },
    {
     "name": "stdout",
     "output_type": "stream",
     "text": [
      "0022000211\n",
      "[1610612745 1610612741]\n"
     ]
    },
    {
     "name": "stderr",
     "output_type": "stream",
     "text": [
      " 18%|█▊        | 191/1074 [05:34<28:00,  1.90s/it]"
     ]
    },
    {
     "name": "stdout",
     "output_type": "stream",
     "text": [
      "0022000203\n",
      "[1610612753 1610612752]\n"
     ]
    },
    {
     "name": "stderr",
     "output_type": "stream",
     "text": [
      " 18%|█▊        | 192/1074 [05:36<24:11,  1.65s/it]"
     ]
    },
    {
     "name": "stdout",
     "output_type": "stream",
     "text": [
      "0022000209\n",
      "[1610612749 1610612751]\n"
     ]
    },
    {
     "name": "stderr",
     "output_type": "stream",
     "text": [
      " 18%|█▊        | 193/1074 [05:37<21:34,  1.47s/it]"
     ]
    },
    {
     "name": "stdout",
     "output_type": "stream",
     "text": [
      "0022000206\n",
      "[1610612765 1610612748]\n"
     ]
    },
    {
     "name": "stderr",
     "output_type": "stream",
     "text": [
      " 18%|█▊        | 194/1074 [05:39<25:42,  1.75s/it]"
     ]
    },
    {
     "name": "stdout",
     "output_type": "stream",
     "text": [
      "0022000207\n",
      "[1610612759 1610612757]\n"
     ]
    },
    {
     "name": "stderr",
     "output_type": "stream",
     "text": [
      " 18%|█▊        | 195/1074 [05:42<29:28,  2.01s/it]"
     ]
    },
    {
     "name": "stdout",
     "output_type": "stream",
     "text": [
      "0022000205\n",
      "[1610612750 1610612737]\n"
     ]
    },
    {
     "name": "stderr",
     "output_type": "stream",
     "text": [
      " 18%|█▊        | 196/1074 [05:43<25:16,  1.73s/it]"
     ]
    },
    {
     "name": "stdout",
     "output_type": "stream",
     "text": [
      "0022000210\n",
      "[1610612742 1610612761]\n"
     ]
    },
    {
     "name": "stderr",
     "output_type": "stream",
     "text": [
      " 18%|█▊        | 197/1074 [05:44<22:26,  1.54s/it]"
     ]
    },
    {
     "name": "stdout",
     "output_type": "stream",
     "text": [
      "0022000208\n",
      "[1610612756 1610612763]\n"
     ]
    },
    {
     "name": "stderr",
     "output_type": "stream",
     "text": [
      " 18%|█▊        | 198/1074 [05:45<20:12,  1.38s/it]"
     ]
    },
    {
     "name": "stdout",
     "output_type": "stream",
     "text": [
      "0022000214\n",
      "[1610612740 1610612762]\n"
     ]
    },
    {
     "name": "stderr",
     "output_type": "stream",
     "text": [
      " 19%|█▊        | 199/1074 [05:47<23:40,  1.62s/it]"
     ]
    },
    {
     "name": "stdout",
     "output_type": "stream",
     "text": [
      "0022000213\n",
      "[1610612760 1610612743]\n"
     ]
    },
    {
     "name": "stderr",
     "output_type": "stream",
     "text": [
      " 19%|█▊        | 200/1074 [05:48<21:06,  1.45s/it]"
     ]
    },
    {
     "name": "stdout",
     "output_type": "stream",
     "text": [
      "0022000218\n",
      "[1610612738 1610612755]\n"
     ]
    },
    {
     "name": "stderr",
     "output_type": "stream",
     "text": [
      " 19%|█▊        | 201/1074 [05:49<19:26,  1.34s/it]"
     ]
    },
    {
     "name": "stdout",
     "output_type": "stream",
     "text": [
      "0022000223\n",
      "[1610612759 1610612744]\n"
     ]
    },
    {
     "name": "stderr",
     "output_type": "stream",
     "text": [
      " 19%|█▉        | 202/1074 [05:50<18:09,  1.25s/it]"
     ]
    },
    {
     "name": "stdout",
     "output_type": "stream",
     "text": [
      "0022000224\n",
      "[1610612758 1610612746]\n"
     ]
    },
    {
     "name": "stderr",
     "output_type": "stream",
     "text": [
      " 19%|█▉        | 203/1074 [05:53<23:52,  1.65s/it]"
     ]
    },
    {
     "name": "stdout",
     "output_type": "stream",
     "text": [
      "0022000222\n",
      "[1610612756 1610612745]\n"
     ]
    },
    {
     "name": "stderr",
     "output_type": "stream",
     "text": [
      " 19%|█▉        | 204/1074 [05:55<27:38,  1.91s/it]"
     ]
    },
    {
     "name": "stdout",
     "output_type": "stream",
     "text": [
      "0022000216\n",
      "[1610612751 1610612739]\n"
     ]
    },
    {
     "name": "stderr",
     "output_type": "stream",
     "text": [
      " 19%|█▉        | 205/1074 [05:56<23:50,  1.65s/it]"
     ]
    },
    {
     "name": "stdout",
     "output_type": "stream",
     "text": [
      "0022000217\n",
      "[1610612742 1610612754]\n"
     ]
    },
    {
     "name": "stderr",
     "output_type": "stream",
     "text": [
      " 19%|█▉        | 206/1074 [05:59<28:16,  1.95s/it]"
     ]
    },
    {
     "name": "stdout",
     "output_type": "stream",
     "text": [
      "0022000219\n",
      "[1610612765 1610612737]\n"
     ]
    },
    {
     "name": "stderr",
     "output_type": "stream",
     "text": [
      " 19%|█▉        | 207/1074 [06:00<24:13,  1.68s/it]"
     ]
    },
    {
     "name": "stdout",
     "output_type": "stream",
     "text": [
      "0022000221\n",
      "[1610612753 1610612750]\n"
     ]
    },
    {
     "name": "stderr",
     "output_type": "stream",
     "text": [
      " 19%|█▉        | 208/1074 [06:01<21:24,  1.48s/it]"
     ]
    },
    {
     "name": "stdout",
     "output_type": "stream",
     "text": [
      "0022000220\n",
      "[1610612748 1610612761]\n"
     ]
    },
    {
     "name": "stderr",
     "output_type": "stream",
     "text": [
      " 19%|█▉        | 209/1074 [06:02<19:26,  1.35s/it]"
     ]
    },
    {
     "name": "stdout",
     "output_type": "stream",
     "text": [
      "0022000228\n",
      "[1610612752 1610612744]\n"
     ]
    },
    {
     "name": "stderr",
     "output_type": "stream",
     "text": [
      " 20%|█▉        | 210/1074 [06:03<18:13,  1.27s/it]"
     ]
    },
    {
     "name": "stdout",
     "output_type": "stream",
     "text": [
      "0022000226\n",
      "[1610612747 1610612749]\n"
     ]
    },
    {
     "name": "stderr",
     "output_type": "stream",
     "text": [
      " 20%|█▉        | 211/1074 [06:04<17:14,  1.20s/it]"
     ]
    },
    {
     "name": "stdout",
     "output_type": "stream",
     "text": [
      "0022000227\n",
      "[1610612740 1610612762]\n"
     ]
    },
    {
     "name": "stderr",
     "output_type": "stream",
     "text": [
      " 20%|█▉        | 212/1074 [06:07<22:40,  1.58s/it]"
     ]
    },
    {
     "name": "stdout",
     "output_type": "stream",
     "text": [
      "0022000233\n",
      "[1610612738 1610612755]\n"
     ]
    },
    {
     "name": "stderr",
     "output_type": "stream",
     "text": [
      " 20%|█▉        | 213/1074 [06:09<26:18,  1.83s/it]"
     ]
    },
    {
     "name": "stdout",
     "output_type": "stream",
     "text": [
      "0022000237\n",
      "[1610612742 1610612759]\n"
     ]
    },
    {
     "name": "stderr",
     "output_type": "stream",
     "text": [
      " 20%|█▉        | 214/1074 [06:10<22:49,  1.59s/it]"
     ]
    },
    {
     "name": "stdout",
     "output_type": "stream",
     "text": [
      "0022000238\n",
      "[1610612743 1610612756]\n"
     ]
    },
    {
     "name": "stderr",
     "output_type": "stream",
     "text": [
      " 20%|██        | 215/1074 [06:11<20:18,  1.42s/it]"
     ]
    },
    {
     "name": "stdout",
     "output_type": "stream",
     "text": [
      "0022000239\n",
      "[1610612760 1610612746]\n"
     ]
    },
    {
     "name": "stderr",
     "output_type": "stream",
     "text": [
      " 20%|██        | 216/1074 [06:12<18:35,  1.30s/it]"
     ]
    },
    {
     "name": "stdout",
     "output_type": "stream",
     "text": [
      "0022000232\n",
      "[1610612751 1610612739]\n"
     ]
    },
    {
     "name": "stderr",
     "output_type": "stream",
     "text": [
      " 20%|██        | 217/1074 [06:13<17:29,  1.22s/it]"
     ]
    },
    {
     "name": "stdout",
     "output_type": "stream",
     "text": [
      "0022000230\n",
      "[1610612745 1610612765]\n"
     ]
    },
    {
     "name": "stderr",
     "output_type": "stream",
     "text": [
      " 20%|██        | 218/1074 [06:15<21:32,  1.51s/it]"
     ]
    },
    {
     "name": "stdout",
     "output_type": "stream",
     "text": [
      "0022000231\n",
      "[1610612753 1610612754]\n"
     ]
    },
    {
     "name": "stderr",
     "output_type": "stream",
     "text": [
      " 20%|██        | 219/1074 [06:16<19:37,  1.38s/it]"
     ]
    },
    {
     "name": "stdout",
     "output_type": "stream",
     "text": [
      "0022000241\n",
      "[1610612752 1610612758]\n"
     ]
    },
    {
     "name": "stderr",
     "output_type": "stream",
     "text": [
      " 20%|██        | 220/1074 [06:19<23:42,  1.67s/it]"
     ]
    },
    {
     "name": "stdout",
     "output_type": "stream",
     "text": [
      "0022000236\n",
      "[1610612737 1610612750]\n"
     ]
    },
    {
     "name": "stderr",
     "output_type": "stream",
     "text": [
      " 21%|██        | 221/1074 [06:21<27:55,  1.96s/it]"
     ]
    },
    {
     "name": "stdout",
     "output_type": "stream",
     "text": [
      "0022000229\n",
      "[1610612741 1610612766]\n"
     ]
    },
    {
     "name": "stderr",
     "output_type": "stream",
     "text": [
      " 21%|██        | 222/1074 [06:22<23:57,  1.69s/it]"
     ]
    },
    {
     "name": "stdout",
     "output_type": "stream",
     "text": [
      "0022000234\n",
      "[1610612748 1610612761]\n"
     ]
    },
    {
     "name": "stderr",
     "output_type": "stream",
     "text": [
      " 21%|██        | 223/1074 [06:24<25:27,  1.80s/it]"
     ]
    },
    {
     "name": "stdout",
     "output_type": "stream",
     "text": [
      "0022000245\n",
      "[1610612747 1610612741]\n"
     ]
    },
    {
     "name": "stderr",
     "output_type": "stream",
     "text": [
      " 21%|██        | 224/1074 [06:27<26:41,  1.88s/it]"
     ]
    },
    {
     "name": "stdout",
     "output_type": "stream",
     "text": [
      "0022000248\n",
      "[1610612743 1610612756]\n"
     ]
    },
    {
     "name": "stderr",
     "output_type": "stream",
     "text": [
      " 21%|██        | 225/1074 [06:29<27:42,  1.96s/it]"
     ]
    },
    {
     "name": "stdout",
     "output_type": "stream",
     "text": [
      "0022000244\n",
      "[1610612748 1610612751]\n"
     ]
    },
    {
     "name": "stderr",
     "output_type": "stream",
     "text": [
      " 21%|██        | 226/1074 [06:31<29:43,  2.10s/it]"
     ]
    },
    {
     "name": "stdout",
     "output_type": "stream",
     "text": [
      "0022000243\n",
      "[1610612755 1610612765]\n"
     ]
    },
    {
     "name": "stderr",
     "output_type": "stream",
     "text": [
      " 21%|██        | 227/1074 [06:33<30:03,  2.13s/it]"
     ]
    },
    {
     "name": "stdout",
     "output_type": "stream",
     "text": [
      "0022000242\n",
      "[1610612744 1610612762]\n"
     ]
    },
    {
     "name": "stderr",
     "output_type": "stream",
     "text": [
      " 21%|██        | 228/1074 [06:36<30:12,  2.14s/it]"
     ]
    },
    {
     "name": "stdout",
     "output_type": "stream",
     "text": [
      "0022000247\n",
      "[1610612745 1610612742]\n"
     ]
    },
    {
     "name": "stderr",
     "output_type": "stream",
     "text": [
      " 21%|██▏       | 229/1074 [06:37<25:29,  1.81s/it]"
     ]
    },
    {
     "name": "stdout",
     "output_type": "stream",
     "text": [
      "0022000246\n",
      "[1610612740 1610612750]\n"
     ]
    },
    {
     "name": "stderr",
     "output_type": "stream",
     "text": [
      " 21%|██▏       | 230/1074 [06:38<22:11,  1.58s/it]"
     ]
    },
    {
     "name": "stdout",
     "output_type": "stream",
     "text": [
      "0022000253\n",
      "[1610612764 1610612759]\n"
     ]
    },
    {
     "name": "stderr",
     "output_type": "stream",
     "text": [
      " 22%|██▏       | 231/1074 [06:40<24:16,  1.73s/it]"
     ]
    },
    {
     "name": "stdout",
     "output_type": "stream",
     "text": [
      "0022000250\n",
      "[1610612739 1610612738]\n"
     ]
    },
    {
     "name": "stderr",
     "output_type": "stream",
     "text": [
      " 22%|██▏       | 232/1074 [06:41<22:04,  1.57s/it]"
     ]
    },
    {
     "name": "stdout",
     "output_type": "stream",
     "text": [
      "0022000251\n",
      "[1610612760 1610612746]\n"
     ]
    },
    {
     "name": "stderr",
     "output_type": "stream",
     "text": [
      " 22%|██▏       | 233/1074 [06:42<19:59,  1.43s/it]"
     ]
    },
    {
     "name": "stdout",
     "output_type": "stream",
     "text": [
      "0022000252\n",
      "[1610612766 1610612753]\n"
     ]
    },
    {
     "name": "stderr",
     "output_type": "stream",
     "text": [
      " 22%|██▏       | 234/1074 [06:44<22:53,  1.64s/it]"
     ]
    },
    {
     "name": "stdout",
     "output_type": "stream",
     "text": [
      "0022000256\n",
      "[1610612752 1610612757]\n"
     ]
    },
    {
     "name": "stderr",
     "output_type": "stream",
     "text": [
      " 22%|██▏       | 235/1074 [06:45<20:34,  1.47s/it]"
     ]
    },
    {
     "name": "stdout",
     "output_type": "stream",
     "text": [
      "0022000254\n",
      "[1610612737 1610612749]\n"
     ]
    },
    {
     "name": "stderr",
     "output_type": "stream",
     "text": [
      " 22%|██▏       | 236/1074 [06:48<24:19,  1.74s/it]"
     ]
    },
    {
     "name": "stdout",
     "output_type": "stream",
     "text": [
      "0022000249\n",
      "[1610612761 1610612754]\n"
     ]
    },
    {
     "name": "stderr",
     "output_type": "stream",
     "text": [
      " 22%|██▏       | 237/1074 [06:49<21:27,  1.54s/it]"
     ]
    },
    {
     "name": "stdout",
     "output_type": "stream",
     "text": [
      "0022000266\n",
      "[1610612750 1610612744]\n"
     ]
    },
    {
     "name": "stderr",
     "output_type": "stream",
     "text": [
      " 22%|██▏       | 238/1074 [06:51<23:35,  1.69s/it]"
     ]
    },
    {
     "name": "stdout",
     "output_type": "stream",
     "text": [
      "0022000262\n",
      "[1610612738 1610612741]\n"
     ]
    },
    {
     "name": "stderr",
     "output_type": "stream",
     "text": [
      " 22%|██▏       | 239/1074 [06:53<25:21,  1.82s/it]"
     ]
    },
    {
     "name": "stdout",
     "output_type": "stream",
     "text": [
      "0022000260\n",
      "[1610612748 1610612751]\n"
     ]
    },
    {
     "name": "stderr",
     "output_type": "stream",
     "text": [
      " 22%|██▏       | 240/1074 [06:54<21:59,  1.58s/it]"
     ]
    },
    {
     "name": "stdout",
     "output_type": "stream",
     "text": [
      "0022000259\n",
      "[1610612766 1610612753]\n"
     ]
    },
    {
     "name": "stderr",
     "output_type": "stream",
     "text": [
      " 22%|██▏       | 241/1074 [06:56<23:55,  1.72s/it]"
     ]
    },
    {
     "name": "stdout",
     "output_type": "stream",
     "text": [
      "0022000261\n",
      "[1610612747 1610612739]\n"
     ]
    },
    {
     "name": "stderr",
     "output_type": "stream",
     "text": [
      " 23%|██▎       | 242/1074 [06:57<21:02,  1.52s/it]"
     ]
    },
    {
     "name": "stdout",
     "output_type": "stream",
     "text": [
      "0022000257\n",
      "[1610612755 1610612765]\n"
     ]
    },
    {
     "name": "stderr",
     "output_type": "stream",
     "text": [
      " 23%|██▎       | 243/1074 [06:58<18:59,  1.37s/it]"
     ]
    },
    {
     "name": "stdout",
     "output_type": "stream",
     "text": [
      "0022000267\n",
      "[1610612760 1610612757]\n"
     ]
    },
    {
     "name": "stderr",
     "output_type": "stream",
     "text": [
      " 23%|██▎       | 244/1074 [07:00<23:17,  1.68s/it]"
     ]
    },
    {
     "name": "stdout",
     "output_type": "stream",
     "text": [
      "0022000258\n",
      "[1610612761 1610612754]\n"
     ]
    },
    {
     "name": "stderr",
     "output_type": "stream",
     "text": [
      " 23%|██▎       | 245/1074 [07:01<20:38,  1.49s/it]"
     ]
    },
    {
     "name": "stdout",
     "output_type": "stream",
     "text": [
      "0022000265\n",
      "[1610612743 1610612742]\n"
     ]
    },
    {
     "name": "stderr",
     "output_type": "stream",
     "text": [
      " 23%|██▎       | 246/1074 [07:02<18:41,  1.35s/it]"
     ]
    },
    {
     "name": "stdout",
     "output_type": "stream",
     "text": [
      "0022000269\n",
      "[1610612764 1610612745]\n"
     ]
    },
    {
     "name": "stderr",
     "output_type": "stream",
     "text": [
      " 23%|██▎       | 247/1074 [07:05<21:45,  1.58s/it]"
     ]
    },
    {
     "name": "stdout",
     "output_type": "stream",
     "text": [
      "0022000270\n",
      "[1610612752 1610612762]\n"
     ]
    },
    {
     "name": "stderr",
     "output_type": "stream",
     "text": [
      " 23%|██▎       | 248/1074 [07:07<23:42,  1.72s/it]"
     ]
    },
    {
     "name": "stdout",
     "output_type": "stream",
     "text": [
      "0022000268\n",
      "[1610612746 1610612737]\n"
     ]
    },
    {
     "name": "stderr",
     "output_type": "stream",
     "text": [
      " 23%|██▎       | 249/1074 [07:09<25:15,  1.84s/it]"
     ]
    },
    {
     "name": "stdout",
     "output_type": "stream",
     "text": [
      "0022000276\n",
      "[1610612747 1610612755]\n"
     ]
    },
    {
     "name": "stderr",
     "output_type": "stream",
     "text": [
      " 23%|██▎       | 250/1074 [07:10<21:56,  1.60s/it]"
     ]
    },
    {
     "name": "stdout",
     "output_type": "stream",
     "text": [
      "0022000283\n",
      "[1610612750 1610612744]\n"
     ]
    },
    {
     "name": "stderr",
     "output_type": "stream",
     "text": [
      " 23%|██▎       | 251/1074 [07:12<25:13,  1.84s/it]"
     ]
    },
    {
     "name": "stdout",
     "output_type": "stream",
     "text": [
      "0022000280\n",
      "[1610612738 1610612759]\n"
     ]
    },
    {
     "name": "stderr",
     "output_type": "stream",
     "text": [
      " 23%|██▎       | 252/1074 [07:13<21:54,  1.60s/it]"
     ]
    },
    {
     "name": "stdout",
     "output_type": "stream",
     "text": [
      "0022000281\n",
      "[1610612760 1610612756]\n"
     ]
    },
    {
     "name": "stderr",
     "output_type": "stream",
     "text": [
      " 24%|██▎       | 253/1074 [07:15<24:11,  1.77s/it]"
     ]
    },
    {
     "name": "stdout",
     "output_type": "stream",
     "text": [
      "0022000273\n",
      "[1610612758 1610612753]\n"
     ]
    },
    {
     "name": "stderr",
     "output_type": "stream",
     "text": [
      " 24%|██▎       | 254/1074 [07:16<21:15,  1.55s/it]"
     ]
    },
    {
     "name": "stdout",
     "output_type": "stream",
     "text": [
      "0022000272\n",
      "[1610612765 1610612739]\n"
     ]
    },
    {
     "name": "stderr",
     "output_type": "stream",
     "text": [
      " 24%|██▎       | 255/1074 [07:17<19:07,  1.40s/it]"
     ]
    },
    {
     "name": "stdout",
     "output_type": "stream",
     "text": [
      "0022000275\n",
      "[1610612743 1610612748]\n"
     ]
    },
    {
     "name": "stderr",
     "output_type": "stream",
     "text": [
      " 24%|██▍       | 256/1074 [07:20<23:12,  1.70s/it]"
     ]
    },
    {
     "name": "stdout",
     "output_type": "stream",
     "text": [
      "0022000282\n",
      "[1610612742 1610612762]\n"
     ]
    },
    {
     "name": "stderr",
     "output_type": "stream",
     "text": [
      " 24%|██▍       | 257/1074 [07:21<20:34,  1.51s/it]"
     ]
    },
    {
     "name": "stdout",
     "output_type": "stream",
     "text": [
      "0022000274\n",
      "[1610612751 1610612737]\n"
     ]
    },
    {
     "name": "stderr",
     "output_type": "stream",
     "text": [
      " 24%|██▍       | 258/1074 [07:22<18:32,  1.36s/it]"
     ]
    },
    {
     "name": "stdout",
     "output_type": "stream",
     "text": [
      "0022000271\n",
      "[1610612754 1610612766]\n"
     ]
    },
    {
     "name": "stderr",
     "output_type": "stream",
     "text": [
      " 24%|██▍       | 259/1074 [07:24<21:25,  1.58s/it]"
     ]
    },
    {
     "name": "stdout",
     "output_type": "stream",
     "text": [
      "0022000277\n",
      "[1610612749 1610612761]\n"
     ]
    },
    {
     "name": "stderr",
     "output_type": "stream",
     "text": [
      " 24%|██▍       | 260/1074 [07:25<19:12,  1.42s/it]"
     ]
    },
    {
     "name": "stdout",
     "output_type": "stream",
     "text": [
      "0022000279\n",
      "[1610612764 1610612740]\n"
     ]
    },
    {
     "name": "stderr",
     "output_type": "stream",
     "text": [
      " 24%|██▍       | 261/1074 [07:27<22:08,  1.63s/it]"
     ]
    },
    {
     "name": "stdout",
     "output_type": "stream",
     "text": [
      "0022000286\n",
      "[1610612744 1610612756]\n"
     ]
    },
    {
     "name": "stderr",
     "output_type": "stream",
     "text": [
      " 24%|██▍       | 262/1074 [07:28<20:30,  1.52s/it]"
     ]
    },
    {
     "name": "stdout",
     "output_type": "stream",
     "text": [
      "0022000287\n",
      "[1610612757 1610612745]\n"
     ]
    },
    {
     "name": "stderr",
     "output_type": "stream",
     "text": [
      " 24%|██▍       | 263/1074 [07:31<24:02,  1.78s/it]"
     ]
    },
    {
     "name": "stdout",
     "output_type": "stream",
     "text": [
      "0022000285\n",
      "[1610612746 1610612748]\n"
     ]
    },
    {
     "name": "stderr",
     "output_type": "stream",
     "text": [
      " 25%|██▍       | 264/1074 [07:32<20:58,  1.55s/it]"
     ]
    },
    {
     "name": "stdout",
     "output_type": "stream",
     "text": [
      "0022000284\n",
      "[1610612747 1610612765]\n"
     ]
    },
    {
     "name": "stderr",
     "output_type": "stream",
     "text": [
      " 25%|██▍       | 265/1074 [07:34<23:04,  1.71s/it]"
     ]
    },
    {
     "name": "stdout",
     "output_type": "stream",
     "text": [
      "0022000296\n",
      "[1610612743 1610612759]\n"
     ]
    },
    {
     "name": "stderr",
     "output_type": "stream",
     "text": [
      " 25%|██▍       | 266/1074 [07:36<26:08,  1.94s/it]"
     ]
    },
    {
     "name": "stdout",
     "output_type": "stream",
     "text": [
      "0022000291\n",
      "[1610612739 1610612752]\n"
     ]
    },
    {
     "name": "stderr",
     "output_type": "stream",
     "text": [
      " 25%|██▍       | 267/1074 [07:37<22:39,  1.68s/it]"
     ]
    },
    {
     "name": "stdout",
     "output_type": "stream",
     "text": [
      "0022000289\n",
      "[1610612746 1610612753]\n"
     ]
    },
    {
     "name": "stderr",
     "output_type": "stream",
     "text": [
      " 25%|██▍       | 268/1074 [07:40<24:08,  1.80s/it]"
     ]
    },
    {
     "name": "stdout",
     "output_type": "stream",
     "text": [
      "0022000297\n",
      "[1610612742 1610612762]\n"
     ]
    },
    {
     "name": "stderr",
     "output_type": "stream",
     "text": [
      " 25%|██▌       | 269/1074 [07:45<40:34,  3.02s/it]"
     ]
    },
    {
     "name": "stdout",
     "output_type": "stream",
     "text": [
      "0022000294\n",
      "[1610612755 1610612750]\n"
     ]
    },
    {
     "name": "stderr",
     "output_type": "stream",
     "text": [
      " 25%|██▌       | 270/1074 [07:48<38:43,  2.89s/it]"
     ]
    },
    {
     "name": "stdout",
     "output_type": "stream",
     "text": [
      "0022000288\n",
      "[1610612754 1610612766]\n"
     ]
    },
    {
     "name": "stderr",
     "output_type": "stream",
     "text": [
      " 25%|██▌       | 271/1074 [07:51<37:31,  2.80s/it]"
     ]
    },
    {
     "name": "stdout",
     "output_type": "stream",
     "text": [
      "0022000290\n",
      "[1610612737 1610612764]\n"
     ]
    },
    {
     "name": "stderr",
     "output_type": "stream",
     "text": [
      " 25%|██▌       | 272/1074 [07:53<35:40,  2.67s/it]"
     ]
    },
    {
     "name": "stdout",
     "output_type": "stream",
     "text": [
      "0022000292\n",
      "[1610612758 1610612761]\n"
     ]
    },
    {
     "name": "stderr",
     "output_type": "stream",
     "text": [
      " 25%|██▌       | 273/1074 [07:55<34:39,  2.60s/it]"
     ]
    },
    {
     "name": "stdout",
     "output_type": "stream",
     "text": [
      "0022000293\n",
      "[1610612749 1610612740]\n"
     ]
    },
    {
     "name": "stderr",
     "output_type": "stream",
     "text": [
      " 26%|██▌       | 274/1074 [07:58<34:02,  2.55s/it]"
     ]
    },
    {
     "name": "stdout",
     "output_type": "stream",
     "text": [
      "0022000295\n",
      "[1610612751 1610612760]\n"
     ]
    },
    {
     "name": "stderr",
     "output_type": "stream",
     "text": [
      " 26%|██▌       | 275/1074 [07:59<27:56,  2.10s/it]"
     ]
    },
    {
     "name": "stdout",
     "output_type": "stream",
     "text": [
      "0022000305\n",
      "[1610612765 1610612744]\n"
     ]
    },
    {
     "name": "stderr",
     "output_type": "stream",
     "text": [
      " 26%|██▌       | 276/1074 [08:01<27:44,  2.09s/it]"
     ]
    },
    {
     "name": "stdout",
     "output_type": "stream",
     "text": [
      "0022000304\n",
      "[1610612763 1610612759]\n"
     ]
    },
    {
     "name": "stderr",
     "output_type": "stream",
     "text": [
      " 26%|██▌       | 277/1074 [08:02<23:33,  1.77s/it]"
     ]
    },
    {
     "name": "stdout",
     "output_type": "stream",
     "text": [
      "0022000298\n",
      "[1610612757 1610612741]\n"
     ]
    },
    {
     "name": "stderr",
     "output_type": "stream",
     "text": [
      " 26%|██▌       | 278/1074 [08:04<24:41,  1.86s/it]"
     ]
    },
    {
     "name": "stdout",
     "output_type": "stream",
     "text": [
      "0022000302\n",
      "[1610612747 1610612738]\n"
     ]
    },
    {
     "name": "stderr",
     "output_type": "stream",
     "text": [
      " 26%|██▌       | 279/1074 [08:06<25:27,  1.92s/it]"
     ]
    },
    {
     "name": "stdout",
     "output_type": "stream",
     "text": [
      "0022000301\n",
      "[1610612758 1610612748]\n"
     ]
    },
    {
     "name": "stderr",
     "output_type": "stream",
     "text": [
      " 26%|██▌       | 280/1074 [08:09<27:25,  2.07s/it]"
     ]
    },
    {
     "name": "stdout",
     "output_type": "stream",
     "text": [
      "0022000303\n",
      "[1610612756 1610612742]\n"
     ]
    },
    {
     "name": "stderr",
     "output_type": "stream",
     "text": [
      " 26%|██▌       | 281/1074 [08:11<28:54,  2.19s/it]"
     ]
    },
    {
     "name": "stdout",
     "output_type": "stream",
     "text": [
      "0022000299\n",
      "[1610612749 1610612766]\n"
     ]
    },
    {
     "name": "stderr",
     "output_type": "stream",
     "text": [
      " 26%|██▋       | 282/1074 [08:13<29:53,  2.26s/it]"
     ]
    },
    {
     "name": "stdout",
     "output_type": "stream",
     "text": [
      "0022000300\n",
      "[1610612745 1610612740]\n"
     ]
    },
    {
     "name": "stderr",
     "output_type": "stream",
     "text": [
      " 26%|██▋       | 283/1074 [08:14<25:04,  1.90s/it]"
     ]
    },
    {
     "name": "stdout",
     "output_type": "stream",
     "text": [
      "0022000308\n",
      "[1610612746 1610612752]\n"
     ]
    },
    {
     "name": "stderr",
     "output_type": "stream",
     "text": [
      " 26%|██▋       | 284/1074 [08:16<21:34,  1.64s/it]"
     ]
    },
    {
     "name": "stdout",
     "output_type": "stream",
     "text": [
      "0022000307\n",
      "[1610612755 1610612754]\n"
     ]
    },
    {
     "name": "stderr",
     "output_type": "stream",
     "text": [
      " 27%|██▋       | 285/1074 [08:17<19:15,  1.46s/it]"
     ]
    },
    {
     "name": "stdout",
     "output_type": "stream",
     "text": [
      "0022000306\n",
      "[1610612762 1610612743]\n"
     ]
    },
    {
     "name": "stderr",
     "output_type": "stream",
     "text": [
      " 27%|██▋       | 286/1074 [08:18<17:33,  1.34s/it]"
     ]
    },
    {
     "name": "stdout",
     "output_type": "stream",
     "text": [
      "0022000311\n",
      "[1610612739 1610612750]\n"
     ]
    },
    {
     "name": "stderr",
     "output_type": "stream",
     "text": [
      " 27%|██▋       | 287/1074 [08:20<20:55,  1.60s/it]"
     ]
    },
    {
     "name": "stdout",
     "output_type": "stream",
     "text": [
      "0022000310\n",
      "[1610612751 1610612764]\n"
     ]
    },
    {
     "name": "stderr",
     "output_type": "stream",
     "text": [
      " 27%|██▋       | 288/1074 [08:22<23:47,  1.82s/it]"
     ]
    },
    {
     "name": "stdout",
     "output_type": "stream",
     "text": [
      "0022000309\n",
      "[1610612753 1610612761]\n"
     ]
    },
    {
     "name": "stderr",
     "output_type": "stream",
     "text": [
      " 27%|██▋       | 289/1074 [08:23<20:41,  1.58s/it]"
     ]
    },
    {
     "name": "stdout",
     "output_type": "stream",
     "text": [
      "0022000320\n",
      "[1610612763 1610612759]\n"
     ]
    },
    {
     "name": "stderr",
     "output_type": "stream",
     "text": [
      " 27%|██▋       | 290/1074 [08:24<18:29,  1.42s/it]"
     ]
    },
    {
     "name": "stdout",
     "output_type": "stream",
     "text": [
      "0022000315\n",
      "[1610612752 1610612741]\n"
     ]
    },
    {
     "name": "stderr",
     "output_type": "stream",
     "text": [
      " 27%|██▋       | 291/1074 [08:25<17:07,  1.31s/it]"
     ]
    },
    {
     "name": "stdout",
     "output_type": "stream",
     "text": [
      "0022000312\n",
      "[1610612750 1610612739]\n"
     ]
    },
    {
     "name": "stderr",
     "output_type": "stream",
     "text": [
      " 27%|██▋       | 292/1074 [08:27<20:15,  1.55s/it]"
     ]
    },
    {
     "name": "stdout",
     "output_type": "stream",
     "text": [
      "0022000314\n",
      "[1610612766 1610612748]\n"
     ]
    },
    {
     "name": "stderr",
     "output_type": "stream",
     "text": [
      " 27%|██▋       | 293/1074 [08:28<18:15,  1.40s/it]"
     ]
    },
    {
     "name": "stdout",
     "output_type": "stream",
     "text": [
      "0022000316\n",
      "[1610612757 1610612749]\n"
     ]
    },
    {
     "name": "stderr",
     "output_type": "stream",
     "text": [
      " 27%|██▋       | 294/1074 [08:29<16:50,  1.30s/it]"
     ]
    },
    {
     "name": "stdout",
     "output_type": "stream",
     "text": [
      "0022000313\n",
      "[1610612747 1610612737]\n"
     ]
    },
    {
     "name": "stderr",
     "output_type": "stream",
     "text": [
      " 27%|██▋       | 295/1074 [08:31<16:00,  1.23s/it]"
     ]
    },
    {
     "name": "stdout",
     "output_type": "stream",
     "text": [
      "0022000319\n",
      "[1610612756 1610612742]\n"
     ]
    },
    {
     "name": "stderr",
     "output_type": "stream",
     "text": [
      " 28%|██▊       | 296/1074 [08:33<19:25,  1.50s/it]"
     ]
    },
    {
     "name": "stdout",
     "output_type": "stream",
     "text": [
      "0022000317\n",
      "[1610612758 1610612740]\n"
     ]
    },
    {
     "name": "stderr",
     "output_type": "stream",
     "text": [
      " 28%|██▊       | 297/1074 [08:34<17:37,  1.36s/it]"
     ]
    },
    {
     "name": "stdout",
     "output_type": "stream",
     "text": [
      "0022000318\n",
      "[1610612745 1610612760]\n"
     ]
    },
    {
     "name": "stderr",
     "output_type": "stream",
     "text": [
      " 28%|██▊       | 298/1074 [08:36<21:21,  1.65s/it]"
     ]
    },
    {
     "name": "stdout",
     "output_type": "stream",
     "text": [
      "0022000326\n",
      "[1610612738 1610612744]\n"
     ]
    },
    {
     "name": "stderr",
     "output_type": "stream",
     "text": [
      " 28%|██▊       | 299/1074 [08:38<22:49,  1.77s/it]"
     ]
    },
    {
     "name": "stdout",
     "output_type": "stream",
     "text": [
      "0022000324\n",
      "[1610612746 1610612751]\n"
     ]
    },
    {
     "name": "stderr",
     "output_type": "stream",
     "text": [
      " 28%|██▊       | 300/1074 [08:39<19:57,  1.55s/it]"
     ]
    },
    {
     "name": "stdout",
     "output_type": "stream",
     "text": [
      "0022000323\n",
      "[1610612761 1610612753]\n"
     ]
    },
    {
     "name": "stderr",
     "output_type": "stream",
     "text": [
      " 28%|██▊       | 301/1074 [08:42<24:20,  1.89s/it]"
     ]
    },
    {
     "name": "stdout",
     "output_type": "stream",
     "text": [
      "0022000325\n",
      "[1610612765 1610612762]\n"
     ]
    },
    {
     "name": "stderr",
     "output_type": "stream",
     "text": [
      " 28%|██▊       | 302/1074 [08:43<21:04,  1.64s/it]"
     ]
    },
    {
     "name": "stdout",
     "output_type": "stream",
     "text": [
      "0022000322\n",
      "[1610612763 1610612754]\n"
     ]
    },
    {
     "name": "stderr",
     "output_type": "stream",
     "text": [
      " 28%|██▊       | 303/1074 [08:46<26:12,  2.04s/it]"
     ]
    },
    {
     "name": "stdout",
     "output_type": "stream",
     "text": [
      "0022000559\n",
      "[1610612757 1610612764]\n"
     ]
    },
    {
     "name": "stderr",
     "output_type": "stream",
     "text": [
      " 28%|██▊       | 304/1074 [08:47<22:25,  1.75s/it]"
     ]
    },
    {
     "name": "stdout",
     "output_type": "stream",
     "text": [
      "0022000334\n",
      "[1610612750 1610612759]\n"
     ]
    },
    {
     "name": "stderr",
     "output_type": "stream",
     "text": [
      " 28%|██▊       | 305/1074 [08:48<19:40,  1.54s/it]"
     ]
    },
    {
     "name": "stdout",
     "output_type": "stream",
     "text": [
      "0022000332\n",
      "[1610612752 1610612741]\n"
     ]
    },
    {
     "name": "stderr",
     "output_type": "stream",
     "text": [
      " 28%|██▊       | 306/1074 [08:49<17:43,  1.38s/it]"
     ]
    },
    {
     "name": "stdout",
     "output_type": "stream",
     "text": [
      "0022000328\n",
      "[1610612746 1610612739]\n"
     ]
    },
    {
     "name": "stderr",
     "output_type": "stream",
     "text": [
      " 29%|██▊       | 307/1074 [08:50<16:27,  1.29s/it]"
     ]
    },
    {
     "name": "stdout",
     "output_type": "stream",
     "text": [
      "0022000331\n",
      "[1610612764 1610612748]\n"
     ]
    },
    {
     "name": "stderr",
     "output_type": "stream",
     "text": [
      " 29%|██▊       | 308/1074 [08:54<26:06,  2.05s/it]"
     ]
    },
    {
     "name": "stdout",
     "output_type": "stream",
     "text": [
      "0022000329\n",
      "[1610612754 1610612749]\n"
     ]
    },
    {
     "name": "stderr",
     "output_type": "stream",
     "text": [
      " 29%|██▉       | 309/1074 [08:56<26:26,  2.07s/it]"
     ]
    },
    {
     "name": "stdout",
     "output_type": "stream",
     "text": [
      "0022000330\n",
      "[1610612742 1610612737]\n"
     ]
    },
    {
     "name": "stderr",
     "output_type": "stream",
     "text": [
      " 29%|██▉       | 310/1074 [08:57<22:24,  1.76s/it]"
     ]
    },
    {
     "name": "stdout",
     "output_type": "stream",
     "text": [
      "0022000336\n",
      "[1610612738 1610612758]\n"
     ]
    },
    {
     "name": "stderr",
     "output_type": "stream",
     "text": [
      " 29%|██▉       | 311/1074 [08:59<24:50,  1.95s/it]"
     ]
    },
    {
     "name": "stdout",
     "output_type": "stream",
     "text": [
      "0022000327\n",
      "[1610612755 1610612766]\n"
     ]
    },
    {
     "name": "stderr",
     "output_type": "stream",
     "text": [
      " 29%|██▉       | 312/1074 [09:02<26:07,  2.06s/it]"
     ]
    },
    {
     "name": "stdout",
     "output_type": "stream",
     "text": [
      "0022000333\n",
      "[1610612745 1610612760]\n"
     ]
    },
    {
     "name": "stderr",
     "output_type": "stream",
     "text": [
      " 29%|██▉       | 313/1074 [09:04<27:13,  2.15s/it]"
     ]
    },
    {
     "name": "stdout",
     "output_type": "stream",
     "text": [
      "0022000335\n",
      "[1610612756 1610612740]\n"
     ]
    },
    {
     "name": "stderr",
     "output_type": "stream",
     "text": [
      " 29%|██▉       | 314/1074 [09:07<28:17,  2.23s/it]"
     ]
    },
    {
     "name": "stdout",
     "output_type": "stream",
     "text": [
      "0022000337\n",
      "[1610612757 1610612755]\n"
     ]
    },
    {
     "name": "stderr",
     "output_type": "stream",
     "text": [
      " 29%|██▉       | 315/1074 [09:08<23:45,  1.88s/it]"
     ]
    },
    {
     "name": "stdout",
     "output_type": "stream",
     "text": [
      "0022000341\n",
      "[1610612743 1610612747]\n"
     ]
    },
    {
     "name": "stderr",
     "output_type": "stream",
     "text": [
      " 29%|██▉       | 316/1074 [09:09<20:39,  1.63s/it]"
     ]
    },
    {
     "name": "stdout",
     "output_type": "stream",
     "text": [
      "0022000338\n",
      "[1610612762 1610612737]\n"
     ]
    },
    {
     "name": "stderr",
     "output_type": "stream",
     "text": [
      " 30%|██▉       | 317/1074 [09:11<23:28,  1.86s/it]"
     ]
    },
    {
     "name": "stdout",
     "output_type": "stream",
     "text": [
      "0022000339\n",
      "[1610612744 1610612742]\n"
     ]
    },
    {
     "name": "stderr",
     "output_type": "stream",
     "text": [
      " 30%|██▉       | 318/1074 [09:13<24:28,  1.94s/it]"
     ]
    },
    {
     "name": "stdout",
     "output_type": "stream",
     "text": [
      "0022000340\n",
      "[1610612745 1610612763]\n"
     ]
    },
    {
     "name": "stderr",
     "output_type": "stream",
     "text": [
      " 30%|██▉       | 319/1074 [09:16<29:09,  2.32s/it]"
     ]
    },
    {
     "name": "stdout",
     "output_type": "stream",
     "text": [
      "0022000349\n",
      "[1610612765 1610612756]\n"
     ]
    },
    {
     "name": "stderr",
     "output_type": "stream",
     "text": [
      " 30%|██▉       | 320/1074 [09:20<32:17,  2.57s/it]"
     ]
    },
    {
     "name": "stdout",
     "output_type": "stream",
     "text": [
      "0022000345\n",
      "[1610612761 1610612751]\n"
     ]
    },
    {
     "name": "stderr",
     "output_type": "stream",
     "text": [
      " 30%|██▉       | 321/1074 [09:21<26:30,  2.11s/it]"
     ]
    },
    {
     "name": "stdout",
     "output_type": "stream",
     "text": [
      "0022000350\n",
      "[1610612738 1610612746]\n"
     ]
    },
    {
     "name": "stderr",
     "output_type": "stream",
     "text": [
      " 30%|██▉       | 322/1074 [09:22<22:24,  1.79s/it]"
     ]
    },
    {
     "name": "stdout",
     "output_type": "stream",
     "text": [
      "0022000344\n",
      "[1610612741 1610612753]\n"
     ]
    },
    {
     "name": "stderr",
     "output_type": "stream",
     "text": [
      " 30%|███       | 323/1074 [09:23<19:40,  1.57s/it]"
     ]
    },
    {
     "name": "stdout",
     "output_type": "stream",
     "text": [
      "0022000346\n",
      "[1610612749 1610612739]\n"
     ]
    },
    {
     "name": "stderr",
     "output_type": "stream",
     "text": [
      " 30%|███       | 324/1074 [09:24<17:39,  1.41s/it]"
     ]
    },
    {
     "name": "stdout",
     "output_type": "stream",
     "text": [
      "0022000347\n",
      "[1610612764 1610612748]\n"
     ]
    },
    {
     "name": "stderr",
     "output_type": "stream",
     "text": [
      " 30%|███       | 325/1074 [09:26<21:31,  1.72s/it]"
     ]
    },
    {
     "name": "stdout",
     "output_type": "stream",
     "text": [
      "0022000343\n",
      "[1610612740 1610612754]\n"
     ]
    },
    {
     "name": "stderr",
     "output_type": "stream",
     "text": [
      " 30%|███       | 326/1074 [09:28<23:02,  1.85s/it]"
     ]
    },
    {
     "name": "stdout",
     "output_type": "stream",
     "text": [
      "0022000342\n",
      "[1610612762 1610612766]\n"
     ]
    },
    {
     "name": "stderr",
     "output_type": "stream",
     "text": [
      " 30%|███       | 327/1074 [09:29<20:07,  1.62s/it]"
     ]
    },
    {
     "name": "stdout",
     "output_type": "stream",
     "text": [
      "0022000348\n",
      "[1610612750 1610612760]\n"
     ]
    },
    {
     "name": "stderr",
     "output_type": "stream",
     "text": [
      " 31%|███       | 328/1074 [09:32<22:24,  1.80s/it]"
     ]
    },
    {
     "name": "stdout",
     "output_type": "stream",
     "text": [
      "0022000354\n",
      "[1610612751 1610612755]\n"
     ]
    },
    {
     "name": "stderr",
     "output_type": "stream",
     "text": [
      " 31%|███       | 329/1074 [09:34<23:36,  1.90s/it]"
     ]
    },
    {
     "name": "stdout",
     "output_type": "stream",
     "text": [
      "0022000361\n",
      "[1610612765 1610612747]\n"
     ]
    },
    {
     "name": "stderr",
     "output_type": "stream",
     "text": [
      " 31%|███       | 330/1074 [09:36<24:16,  1.96s/it]"
     ]
    },
    {
     "name": "stdout",
     "output_type": "stream",
     "text": [
      "0022000351\n",
      "[1610612757 1610612752]\n"
     ]
    },
    {
     "name": "stderr",
     "output_type": "stream",
     "text": [
      " 31%|███       | 331/1074 [09:38<26:09,  2.11s/it]"
     ]
    },
    {
     "name": "stdout",
     "output_type": "stream",
     "text": [
      "0022000353\n",
      "[1610612741 1610612753]\n"
     ]
    },
    {
     "name": "stderr",
     "output_type": "stream",
     "text": [
      " 31%|███       | 332/1074 [09:39<22:25,  1.81s/it]"
     ]
    },
    {
     "name": "stdout",
     "output_type": "stream",
     "text": [
      "0022000358\n",
      "[1610612759 1610612745]\n"
     ]
    },
    {
     "name": "stderr",
     "output_type": "stream",
     "text": [
      " 31%|███       | 333/1074 [09:42<24:16,  1.97s/it]"
     ]
    },
    {
     "name": "stdout",
     "output_type": "stream",
     "text": [
      "0022000357\n",
      "[1610612749 1610612739]\n"
     ]
    },
    {
     "name": "stderr",
     "output_type": "stream",
     "text": [
      " 31%|███       | 334/1074 [09:44<25:01,  2.03s/it]"
     ]
    },
    {
     "name": "stdout",
     "output_type": "stream",
     "text": [
      "0022000356\n",
      "[1610612761 1610612737]\n"
     ]
    },
    {
     "name": "stderr",
     "output_type": "stream",
     "text": [
      " 31%|███       | 335/1074 [09:47<27:54,  2.27s/it]"
     ]
    },
    {
     "name": "stdout",
     "output_type": "stream",
     "text": [
      "0022000360\n",
      "[1610612744 1610612742]\n"
     ]
    },
    {
     "name": "stderr",
     "output_type": "stream",
     "text": [
      " 31%|███▏      | 336/1074 [09:48<23:20,  1.90s/it]"
     ]
    },
    {
     "name": "stdout",
     "output_type": "stream",
     "text": [
      "0022000352\n",
      "[1610612743 1610612758]\n"
     ]
    },
    {
     "name": "stderr",
     "output_type": "stream",
     "text": [
      " 31%|███▏      | 337/1074 [09:50<25:32,  2.08s/it]"
     ]
    },
    {
     "name": "stdout",
     "output_type": "stream",
     "text": [
      "0022000359\n",
      "[1610612750 1610612760]\n"
     ]
    },
    {
     "name": "stderr",
     "output_type": "stream",
     "text": [
      " 31%|███▏      | 338/1074 [09:51<21:58,  1.79s/it]"
     ]
    },
    {
     "name": "stdout",
     "output_type": "stream",
     "text": [
      "0022000355\n",
      "[1610612763 1610612740]\n"
     ]
    },
    {
     "name": "stderr",
     "output_type": "stream",
     "text": [
      " 32%|███▏      | 339/1074 [09:54<25:11,  2.06s/it]"
     ]
    },
    {
     "name": "stdout",
     "output_type": "stream",
     "text": [
      "0022000364\n",
      "[1610612748 1610612752]\n"
     ]
    },
    {
     "name": "stderr",
     "output_type": "stream",
     "text": [
      " 32%|███▏      | 340/1074 [09:55<21:27,  1.75s/it]"
     ]
    },
    {
     "name": "stdout",
     "output_type": "stream",
     "text": [
      "0022000365\n",
      "[1610612738 1610612756]\n"
     ]
    },
    {
     "name": "stderr",
     "output_type": "stream",
     "text": [
      " 32%|███▏      | 341/1074 [09:57<23:02,  1.89s/it]"
     ]
    },
    {
     "name": "stdout",
     "output_type": "stream",
     "text": [
      "0022000366\n",
      "[1610612758 1610612746]\n"
     ]
    },
    {
     "name": "stderr",
     "output_type": "stream",
     "text": [
      " 32%|███▏      | 342/1074 [09:58<19:54,  1.63s/it]"
     ]
    },
    {
     "name": "stdout",
     "output_type": "stream",
     "text": [
      "0022000363\n",
      "[1610612762 1610612754]\n"
     ]
    },
    {
     "name": "stderr",
     "output_type": "stream",
     "text": [
      " 32%|███▏      | 343/1074 [10:00<21:32,  1.77s/it]"
     ]
    },
    {
     "name": "stdout",
     "output_type": "stream",
     "text": [
      "0022000215\n",
      "[1610612764 1610612766]\n"
     ]
    },
    {
     "name": "stderr",
     "output_type": "stream",
     "text": [
      " 32%|███▏      | 344/1074 [10:03<24:04,  1.98s/it]"
     ]
    },
    {
     "name": "stdout",
     "output_type": "stream",
     "text": [
      "0022000371\n",
      "[1610612744 1610612759]\n"
     ]
    },
    {
     "name": "stderr",
     "output_type": "stream",
     "text": [
      " 32%|███▏      | 345/1074 [10:05<24:48,  2.04s/it]"
     ]
    },
    {
     "name": "stdout",
     "output_type": "stream",
     "text": [
      "0022000374\n",
      "[1610612760 1610612747]\n"
     ]
    },
    {
     "name": "stderr",
     "output_type": "stream",
     "text": [
      " 32%|███▏      | 346/1074 [10:07<25:02,  2.06s/it]"
     ]
    },
    {
     "name": "stdout",
     "output_type": "stream",
     "text": [
      "0022000368\n",
      "[1610612764 1610612741]\n"
     ]
    },
    {
     "name": "stderr",
     "output_type": "stream",
     "text": [
      " 32%|███▏      | 347/1074 [10:08<21:18,  1.76s/it]"
     ]
    },
    {
     "name": "stdout",
     "output_type": "stream",
     "text": [
      "0022000372\n",
      "[1610612739 1610612756]\n"
     ]
    },
    {
     "name": "stderr",
     "output_type": "stream",
     "text": [
      " 32%|███▏      | 348/1074 [10:09<18:44,  1.55s/it]"
     ]
    },
    {
     "name": "stdout",
     "output_type": "stream",
     "text": [
      "0022000370\n",
      "[1610612750 1610612742]\n"
     ]
    },
    {
     "name": "stderr",
     "output_type": "stream",
     "text": [
      " 32%|███▏      | 349/1074 [10:12<22:08,  1.83s/it]"
     ]
    },
    {
     "name": "stdout",
     "output_type": "stream",
     "text": [
      "0022000373\n",
      "[1610612749 1610612743]\n"
     ]
    },
    {
     "name": "stderr",
     "output_type": "stream",
     "text": [
      " 33%|███▎      | 350/1074 [10:13<19:24,  1.61s/it]"
     ]
    },
    {
     "name": "stdout",
     "output_type": "stream",
     "text": [
      "0022000367\n",
      "[1610612745 1610612766]\n"
     ]
    },
    {
     "name": "stderr",
     "output_type": "stream",
     "text": [
      " 33%|███▎      | 351/1074 [10:15<22:57,  1.91s/it]"
     ]
    },
    {
     "name": "stdout",
     "output_type": "stream",
     "text": [
      "0022000369\n",
      "[1610612761 1610612763]\n"
     ]
    },
    {
     "name": "stderr",
     "output_type": "stream",
     "text": [
      " 33%|███▎      | 352/1074 [10:18<25:16,  2.10s/it]"
     ]
    },
    {
     "name": "stdout",
     "output_type": "stream",
     "text": [
      "0022000378\n",
      "[1610612744 1610612759]\n"
     ]
    },
    {
     "name": "stderr",
     "output_type": "stream",
     "text": [
      " 33%|███▎      | 353/1074 [10:20<26:17,  2.19s/it]"
     ]
    },
    {
     "name": "stdout",
     "output_type": "stream",
     "text": [
      "0022000376\n",
      "[1610612752 1610612748]\n"
     ]
    },
    {
     "name": "stderr",
     "output_type": "stream",
     "text": [
      " 33%|███▎      | 354/1074 [10:23<25:57,  2.16s/it]"
     ]
    },
    {
     "name": "stdout",
     "output_type": "stream",
     "text": [
      "0022000375\n",
      "[1610612751 1610612765]\n"
     ]
    },
    {
     "name": "stderr",
     "output_type": "stream",
     "text": [
      " 33%|███▎      | 355/1074 [10:24<21:58,  1.83s/it]"
     ]
    },
    {
     "name": "stdout",
     "output_type": "stream",
     "text": [
      "0022000380\n",
      "[1610612753 1610612757]\n"
     ]
    },
    {
     "name": "stderr",
     "output_type": "stream",
     "text": [
      " 33%|███▎      | 356/1074 [10:26<23:16,  1.94s/it]"
     ]
    },
    {
     "name": "stdout",
     "output_type": "stream",
     "text": [
      "0022000379\n",
      "[1610612738 1610612762]\n"
     ]
    },
    {
     "name": "stderr",
     "output_type": "stream",
     "text": [
      " 33%|███▎      | 357/1074 [10:27<20:29,  1.72s/it]"
     ]
    },
    {
     "name": "stdout",
     "output_type": "stream",
     "text": [
      "0022000381\n",
      "[1610612755 1610612758]\n"
     ]
    },
    {
     "name": "stderr",
     "output_type": "stream",
     "text": [
      " 33%|███▎      | 358/1074 [10:30<24:10,  2.03s/it]"
     ]
    },
    {
     "name": "stdout",
     "output_type": "stream",
     "text": [
      "0022000377\n",
      "[1610612745 1610612740]\n"
     ]
    },
    {
     "name": "stderr",
     "output_type": "stream",
     "text": [
      " 33%|███▎      | 359/1074 [10:31<20:49,  1.75s/it]"
     ]
    },
    {
     "name": "stdout",
     "output_type": "stream",
     "text": [
      "0022000390\n",
      "[1610612760 1610612747]\n"
     ]
    },
    {
     "name": "stderr",
     "output_type": "stream",
     "text": [
      " 34%|███▎      | 360/1074 [10:32<18:21,  1.54s/it]"
     ]
    },
    {
     "name": "stdout",
     "output_type": "stream",
     "text": [
      "0022000385\n",
      "[1610612740 1610612741]\n"
     ]
    },
    {
     "name": "stderr",
     "output_type": "stream",
     "text": [
      " 34%|███▎      | 361/1074 [10:34<20:30,  1.73s/it]"
     ]
    },
    {
     "name": "stdout",
     "output_type": "stream",
     "text": [
      "0022000389\n",
      "[1610612749 1610612756]\n"
     ]
    },
    {
     "name": "stderr",
     "output_type": "stream",
     "text": [
      " 34%|███▎      | 362/1074 [10:36<23:02,  1.94s/it]"
     ]
    },
    {
     "name": "stdout",
     "output_type": "stream",
     "text": [
      "0022000383\n",
      "[1610612754 1610612751]\n"
     ]
    },
    {
     "name": "stderr",
     "output_type": "stream",
     "text": [
      " 34%|███▍      | 363/1074 [10:38<19:57,  1.68s/it]"
     ]
    },
    {
     "name": "stdout",
     "output_type": "stream",
     "text": [
      "0022000384\n",
      "[1610612737 1610612742]\n"
     ]
    },
    {
     "name": "stderr",
     "output_type": "stream",
     "text": [
      " 34%|███▍      | 364/1074 [10:39<17:51,  1.51s/it]"
     ]
    },
    {
     "name": "stdout",
     "output_type": "stream",
     "text": [
      "0022000388\n",
      "[1610612739 1610612743]\n"
     ]
    },
    {
     "name": "stderr",
     "output_type": "stream",
     "text": [
      " 34%|███▍      | 365/1074 [10:41<20:58,  1.78s/it]"
     ]
    },
    {
     "name": "stdout",
     "output_type": "stream",
     "text": [
      "0022000387\n",
      "[1610612746 1610612750]\n"
     ]
    },
    {
     "name": "stderr",
     "output_type": "stream",
     "text": [
      " 34%|███▍      | 366/1074 [10:44<23:38,  2.00s/it]"
     ]
    },
    {
     "name": "stdout",
     "output_type": "stream",
     "text": [
      "0022000382\n",
      "[1610612761 1610612764]\n"
     ]
    },
    {
     "name": "stderr",
     "output_type": "stream",
     "text": [
      " 34%|███▍      | 367/1074 [10:46<24:48,  2.11s/it]"
     ]
    },
    {
     "name": "stdout",
     "output_type": "stream",
     "text": [
      "0022000386\n",
      "[1610612766 1610612763]\n"
     ]
    },
    {
     "name": "stderr",
     "output_type": "stream",
     "text": [
      " 34%|███▍      | 368/1074 [10:48<24:59,  2.12s/it]"
     ]
    },
    {
     "name": "stdout",
     "output_type": "stream",
     "text": [
      "0022000393\n",
      "[1610612753 1610612744]\n"
     ]
    },
    {
     "name": "stderr",
     "output_type": "stream",
     "text": [
      " 34%|███▍      | 369/1074 [10:49<21:03,  1.79s/it]"
     ]
    },
    {
     "name": "stdout",
     "output_type": "stream",
     "text": [
      "0022000398\n",
      "[1610612761 1610612738]\n"
     ]
    },
    {
     "name": "stderr",
     "output_type": "stream",
     "text": [
      " 34%|███▍      | 370/1074 [10:52<25:43,  2.19s/it]"
     ]
    },
    {
     "name": "stdout",
     "output_type": "stream",
     "text": [
      "0022000392\n",
      "[1610612748 1610612745]\n"
     ]
    },
    {
     "name": "stderr",
     "output_type": "stream",
     "text": [
      " 35%|███▍      | 371/1074 [10:53<21:38,  1.85s/it]"
     ]
    },
    {
     "name": "stdout",
     "output_type": "stream",
     "text": [
      "0022000391\n",
      "[1610612754 1610612765]\n"
     ]
    },
    {
     "name": "stderr",
     "output_type": "stream",
     "text": [
      " 35%|███▍      | 372/1074 [10:54<18:53,  1.61s/it]"
     ]
    },
    {
     "name": "stdout",
     "output_type": "stream",
     "text": [
      "0022000394\n",
      "[1610612755 1610612757]\n"
     ]
    },
    {
     "name": "stderr",
     "output_type": "stream",
     "text": [
      " 35%|███▍      | 373/1074 [10:57<21:52,  1.87s/it]"
     ]
    },
    {
     "name": "stdout",
     "output_type": "stream",
     "text": [
      "0022000403\n",
      "[1610612763 1610612747]\n"
     ]
    },
    {
     "name": "stderr",
     "output_type": "stream",
     "text": [
      " 35%|███▍      | 374/1074 [10:59<24:18,  2.08s/it]"
     ]
    },
    {
     "name": "stdout",
     "output_type": "stream",
     "text": [
      "0022000400\n",
      "[1610612746 1610612741]\n"
     ]
    },
    {
     "name": "stderr",
     "output_type": "stream",
     "text": [
      " 35%|███▍      | 375/1074 [11:01<20:56,  1.80s/it]"
     ]
    },
    {
     "name": "stdout",
     "output_type": "stream",
     "text": [
      "0022000412\n",
      "[1610612765 1610612738]\n"
     ]
    },
    {
     "name": "stderr",
     "output_type": "stream",
     "text": [
      " 35%|███▌      | 376/1074 [11:02<18:23,  1.58s/it]"
     ]
    },
    {
     "name": "stdout",
     "output_type": "stream",
     "text": [
      "0022000404\n",
      "[1610612739 1610612757]\n"
     ]
    },
    {
     "name": "stderr",
     "output_type": "stream",
     "text": [
      " 35%|███▌      | 377/1074 [11:04<21:40,  1.87s/it]"
     ]
    },
    {
     "name": "stdout",
     "output_type": "stream",
     "text": [
      "0022000402\n",
      "[1610612749 1610612762]\n"
     ]
    },
    {
     "name": "stderr",
     "output_type": "stream",
     "text": [
      " 35%|███▌      | 378/1074 [11:06<22:41,  1.96s/it]"
     ]
    },
    {
     "name": "stdout",
     "output_type": "stream",
     "text": [
      "0022000397\n",
      "[1610612759 1610612737]\n"
     ]
    },
    {
     "name": "stderr",
     "output_type": "stream",
     "text": [
      " 35%|███▌      | 379/1074 [11:07<19:34,  1.69s/it]"
     ]
    },
    {
     "name": "stdout",
     "output_type": "stream",
     "text": [
      "0022000399\n",
      "[1610612740 1610612742]\n"
     ]
    },
    {
     "name": "stderr",
     "output_type": "stream",
     "text": [
      " 35%|███▌      | 380/1074 [11:10<22:09,  1.92s/it]"
     ]
    },
    {
     "name": "stdout",
     "output_type": "stream",
     "text": [
      "0022000405\n",
      "[1610612753 1610612758]\n"
     ]
    },
    {
     "name": "stderr",
     "output_type": "stream",
     "text": [
      " 35%|███▌      | 381/1074 [11:11<19:13,  1.66s/it]"
     ]
    },
    {
     "name": "stdout",
     "output_type": "stream",
     "text": [
      "0022000401\n",
      "[1610612760 1610612743]\n"
     ]
    },
    {
     "name": "stderr",
     "output_type": "stream",
     "text": [
      " 36%|███▌      | 382/1074 [11:12<17:20,  1.50s/it]"
     ]
    },
    {
     "name": "stdout",
     "output_type": "stream",
     "text": [
      "0022000395\n",
      "[1610612750 1610612766]\n"
     ]
    },
    {
     "name": "stderr",
     "output_type": "stream",
     "text": [
      " 36%|███▌      | 383/1074 [11:16<26:57,  2.34s/it]"
     ]
    },
    {
     "name": "stdout",
     "output_type": "stream",
     "text": [
      "0022000396\n",
      "[1610612752 1610612764]\n"
     ]
    },
    {
     "name": "stderr",
     "output_type": "stream",
     "text": [
      " 36%|███▌      | 384/1074 [11:19<26:43,  2.32s/it]"
     ]
    },
    {
     "name": "stdout",
     "output_type": "stream",
     "text": [
      "0022000409\n",
      "[1610612751 1610612744]\n"
     ]
    },
    {
     "name": "stderr",
     "output_type": "stream",
     "text": [
      " 36%|███▌      | 385/1074 [11:20<22:24,  1.95s/it]"
     ]
    },
    {
     "name": "stdout",
     "output_type": "stream",
     "text": [
      "0022000408\n",
      "[1610612745 1610612752]\n"
     ]
    },
    {
     "name": "stderr",
     "output_type": "stream",
     "text": [
      " 36%|███▌      | 386/1074 [11:22<23:00,  2.01s/it]"
     ]
    },
    {
     "name": "stdout",
     "output_type": "stream",
     "text": [
      "0022000406\n",
      "[1610612755 1610612756]\n"
     ]
    },
    {
     "name": "stderr",
     "output_type": "stream",
     "text": [
      " 36%|███▌      | 387/1074 [11:24<24:38,  2.15s/it]"
     ]
    },
    {
     "name": "stdout",
     "output_type": "stream",
     "text": [
      "0022000410\n",
      "[1610612748 1610612762]\n"
     ]
    },
    {
     "name": "stderr",
     "output_type": "stream",
     "text": [
      " 36%|███▌      | 388/1074 [11:26<24:08,  2.11s/it]"
     ]
    },
    {
     "name": "stdout",
     "output_type": "stream",
     "text": [
      "0022000407\n",
      "[1610612754 1610612737]\n"
     ]
    },
    {
     "name": "stderr",
     "output_type": "stream",
     "text": [
      " 36%|███▌      | 389/1074 [11:27<20:30,  1.80s/it]"
     ]
    },
    {
     "name": "stdout",
     "output_type": "stream",
     "text": [
      "0022000417\n",
      "[1610612753 1610612756]\n"
     ]
    },
    {
     "name": "stderr",
     "output_type": "stream",
     "text": [
      " 36%|███▋      | 390/1074 [11:30<21:51,  1.92s/it]"
     ]
    },
    {
     "name": "stdout",
     "output_type": "stream",
     "text": [
      "0022000419\n",
      "[1610612739 1610612746]\n"
     ]
    },
    {
     "name": "stderr",
     "output_type": "stream",
     "text": [
      " 36%|███▋      | 391/1074 [11:31<19:04,  1.68s/it]"
     ]
    },
    {
     "name": "stdout",
     "output_type": "stream",
     "text": [
      "0022000561\n",
      "[1610612740 1610612765]\n"
     ]
    },
    {
     "name": "stderr",
     "output_type": "stream",
     "text": [
      " 36%|███▋      | 392/1074 [11:32<17:01,  1.50s/it]"
     ]
    },
    {
     "name": "stdout",
     "output_type": "stream",
     "text": [
      "0022000411\n",
      "[1610612757 1610612742]\n"
     ]
    },
    {
     "name": "stderr",
     "output_type": "stream",
     "text": [
      " 37%|███▋      | 393/1074 [11:33<15:48,  1.39s/it]"
     ]
    },
    {
     "name": "stdout",
     "output_type": "stream",
     "text": [
      "0022000418\n",
      "[1610612763 1610612758]\n"
     ]
    },
    {
     "name": "stderr",
     "output_type": "stream",
     "text": [
      " 37%|███▋      | 394/1074 [11:35<18:22,  1.62s/it]"
     ]
    },
    {
     "name": "stdout",
     "output_type": "stream",
     "text": [
      "0022000416\n",
      "[1610612747 1610612743]\n"
     ]
    },
    {
     "name": "stderr",
     "output_type": "stream",
     "text": [
      " 37%|███▋      | 395/1074 [11:36<16:31,  1.46s/it]"
     ]
    },
    {
     "name": "stdout",
     "output_type": "stream",
     "text": [
      "0022000414\n",
      "[1610612759 1610612766]\n"
     ]
    },
    {
     "name": "stderr",
     "output_type": "stream",
     "text": [
      " 37%|███▋      | 396/1074 [11:37<15:09,  1.34s/it]"
     ]
    },
    {
     "name": "stdout",
     "output_type": "stream",
     "text": [
      "0022000560\n",
      "[1610612738 1610612764]\n"
     ]
    },
    {
     "name": "stderr",
     "output_type": "stream",
     "text": [
      " 37%|███▋      | 397/1074 [11:38<14:14,  1.26s/it]"
     ]
    },
    {
     "name": "stdout",
     "output_type": "stream",
     "text": [
      "0022000413\n",
      "[1610612750 1610612761]\n"
     ]
    },
    {
     "name": "stderr",
     "output_type": "stream",
     "text": [
      " 37%|███▋      | 398/1074 [11:39<13:43,  1.22s/it]"
     ]
    },
    {
     "name": "stdout",
     "output_type": "stream",
     "text": [
      "0022000415\n",
      "[1610612749 1610612760]\n"
     ]
    },
    {
     "name": "stderr",
     "output_type": "stream",
     "text": [
      " 37%|███▋      | 399/1074 [11:41<13:13,  1.18s/it]"
     ]
    },
    {
     "name": "stdout",
     "output_type": "stream",
     "text": [
      "0022000424\n",
      "[1610612739 1610612744]\n"
     ]
    },
    {
     "name": "stderr",
     "output_type": "stream",
     "text": [
      " 37%|███▋      | 400/1074 [11:42<12:57,  1.15s/it]"
     ]
    },
    {
     "name": "stdout",
     "output_type": "stream",
     "text": [
      "0022000422\n",
      "[1610612737 1610612752]\n"
     ]
    },
    {
     "name": "stderr",
     "output_type": "stream",
     "text": [
      " 37%|███▋      | 401/1074 [11:44<17:34,  1.57s/it]"
     ]
    },
    {
     "name": "stdout",
     "output_type": "stream",
     "text": [
      "0022000425\n",
      "[1610612748 1610612746]\n"
     ]
    },
    {
     "name": "stderr",
     "output_type": "stream",
     "text": [
      " 37%|███▋      | 402/1074 [11:46<19:46,  1.77s/it]"
     ]
    },
    {
     "name": "stdout",
     "output_type": "stream",
     "text": [
      "0022000423\n",
      "[1610612755 1610612762]\n"
     ]
    },
    {
     "name": "stderr",
     "output_type": "stream",
     "text": [
      " 38%|███▊      | 403/1074 [11:47<17:25,  1.56s/it]"
     ]
    },
    {
     "name": "stdout",
     "output_type": "stream",
     "text": [
      "0022000420\n",
      "[1610612741 1610612754]\n"
     ]
    },
    {
     "name": "stderr",
     "output_type": "stream",
     "text": [
      " 38%|███▊      | 404/1074 [11:49<15:44,  1.41s/it]"
     ]
    },
    {
     "name": "stdout",
     "output_type": "stream",
     "text": [
      "0022000426\n",
      "[1610612751 1610612758]\n"
     ]
    },
    {
     "name": "stderr",
     "output_type": "stream",
     "text": [
      " 38%|███▊      | 405/1074 [11:51<18:05,  1.62s/it]"
     ]
    },
    {
     "name": "stdout",
     "output_type": "stream",
     "text": [
      "0022000421\n",
      "[1610612745 1610612764]\n"
     ]
    },
    {
     "name": "stderr",
     "output_type": "stream",
     "text": [
      " 38%|███▊      | 406/1074 [11:53<19:59,  1.80s/it]"
     ]
    },
    {
     "name": "stdout",
     "output_type": "stream",
     "text": [
      "0022000433\n",
      "[1610612751 1610612756]\n"
     ]
    },
    {
     "name": "stderr",
     "output_type": "stream",
     "text": [
      " 38%|███▊      | 407/1074 [11:55<21:20,  1.92s/it]"
     ]
    },
    {
     "name": "stdout",
     "output_type": "stream",
     "text": [
      "0022000427\n",
      "[1610612743 1610612738]\n"
     ]
    },
    {
     "name": "stderr",
     "output_type": "stream",
     "text": [
      " 38%|███▊      | 408/1074 [11:56<18:30,  1.67s/it]"
     ]
    },
    {
     "name": "stdout",
     "output_type": "stream",
     "text": [
      "0022000430\n",
      "[1610612761 1610612749]\n"
     ]
    },
    {
     "name": "stderr",
     "output_type": "stream",
     "text": [
      " 38%|███▊      | 409/1074 [11:59<22:57,  2.07s/it]"
     ]
    },
    {
     "name": "stdout",
     "output_type": "stream",
     "text": [
      "0022000431\n",
      "[1610612747 1610612750]\n"
     ]
    },
    {
     "name": "stderr",
     "output_type": "stream",
     "text": [
      " 38%|███▊      | 410/1074 [12:00<19:38,  1.77s/it]"
     ]
    },
    {
     "name": "stdout",
     "output_type": "stream",
     "text": [
      "0022000432\n",
      "[1610612757 1610612760]\n"
     ]
    },
    {
     "name": "stderr",
     "output_type": "stream",
     "text": [
      " 38%|███▊      | 411/1074 [12:01<17:18,  1.57s/it]"
     ]
    },
    {
     "name": "stdout",
     "output_type": "stream",
     "text": [
      "0022000429\n",
      "[1610612740 1610612763]\n"
     ]
    },
    {
     "name": "stderr",
     "output_type": "stream",
     "text": [
      " 38%|███▊      | 412/1074 [12:02<15:35,  1.41s/it]"
     ]
    },
    {
     "name": "stdout",
     "output_type": "stream",
     "text": [
      "0022000439\n",
      "[1610612745 1610612755]\n"
     ]
    },
    {
     "name": "stderr",
     "output_type": "stream",
     "text": [
      " 38%|███▊      | 413/1074 [12:03<14:26,  1.31s/it]"
     ]
    },
    {
     "name": "stdout",
     "output_type": "stream",
     "text": [
      "0022000443\n",
      "[1610612748 1610612744]\n"
     ]
    },
    {
     "name": "stderr",
     "output_type": "stream",
     "text": [
      " 39%|███▊      | 414/1074 [12:05<13:41,  1.24s/it]"
     ]
    },
    {
     "name": "stdout",
     "output_type": "stream",
     "text": [
      "0022000564\n",
      "[1610612765 1610612741]\n"
     ]
    },
    {
     "name": "stderr",
     "output_type": "stream",
     "text": [
      " 39%|███▊      | 415/1074 [12:06<13:07,  1.19s/it]"
     ]
    },
    {
     "name": "stdout",
     "output_type": "stream",
     "text": [
      "0022000438\n",
      "[1610612737 1610612738]\n"
     ]
    },
    {
     "name": "stderr",
     "output_type": "stream",
     "text": [
      " 39%|███▊      | 416/1074 [12:08<17:54,  1.63s/it]"
     ]
    },
    {
     "name": "stdout",
     "output_type": "stream",
     "text": [
      "0022000444\n",
      "[1610612762 1610612746]\n"
     ]
    },
    {
     "name": "stderr",
     "output_type": "stream",
     "text": [
      " 39%|███▉      | 417/1074 [12:11<21:17,  1.94s/it]"
     ]
    },
    {
     "name": "stdout",
     "output_type": "stream",
     "text": [
      "0022000436\n",
      "[1610612752 1610612753]\n"
     ]
    },
    {
     "name": "stderr",
     "output_type": "stream",
     "text": [
      " 39%|███▉      | 418/1074 [12:14<23:35,  2.16s/it]"
     ]
    },
    {
     "name": "stdout",
     "output_type": "stream",
     "text": [
      "0022000440\n",
      "[1610612754 1610612750]\n"
     ]
    },
    {
     "name": "stderr",
     "output_type": "stream",
     "text": [
      " 39%|███▉      | 419/1074 [12:15<20:08,  1.85s/it]"
     ]
    },
    {
     "name": "stdout",
     "output_type": "stream",
     "text": [
      "0022000437\n",
      "[1610612743 1610612764]\n"
     ]
    },
    {
     "name": "stderr",
     "output_type": "stream",
     "text": [
      " 39%|███▉      | 420/1074 [12:16<17:37,  1.62s/it]"
     ]
    },
    {
     "name": "stdout",
     "output_type": "stream",
     "text": [
      "0022000562\n",
      "[1610612760 1610612763]\n"
     ]
    },
    {
     "name": "stderr",
     "output_type": "stream",
     "text": [
      " 39%|███▉      | 421/1074 [12:18<19:39,  1.81s/it]"
     ]
    },
    {
     "name": "stdout",
     "output_type": "stream",
     "text": [
      "0022000441\n",
      "[1610612757 1610612740]\n"
     ]
    },
    {
     "name": "stderr",
     "output_type": "stream",
     "text": [
      " 39%|███▉      | 422/1074 [12:20<20:37,  1.90s/it]"
     ]
    },
    {
     "name": "stdout",
     "output_type": "stream",
     "text": [
      "0022000446\n",
      "[1610612751 1610612747]\n"
     ]
    },
    {
     "name": "stderr",
     "output_type": "stream",
     "text": [
      " 39%|███▉      | 423/1074 [12:21<17:58,  1.66s/it]"
     ]
    },
    {
     "name": "stdout",
     "output_type": "stream",
     "text": [
      "0022000445\n",
      "[1610612761 1610612749]\n"
     ]
    },
    {
     "name": "stderr",
     "output_type": "stream",
     "text": [
      " 39%|███▉      | 424/1074 [12:22<16:01,  1.48s/it]"
     ]
    },
    {
     "name": "stdout",
     "output_type": "stream",
     "text": [
      "0022000447\n",
      "[1610612748 1610612758]\n"
     ]
    },
    {
     "name": "stderr",
     "output_type": "stream",
     "text": [
      " 40%|███▉      | 425/1074 [12:23<14:47,  1.37s/it]"
     ]
    },
    {
     "name": "stdout",
     "output_type": "stream",
     "text": [
      "0022000450\n",
      "[1610612741 1610612755]\n"
     ]
    },
    {
     "name": "stderr",
     "output_type": "stream",
     "text": [
      " 40%|███▉      | 426/1074 [12:26<17:30,  1.62s/it]"
     ]
    },
    {
     "name": "stdout",
     "output_type": "stream",
     "text": [
      "0022000451\n",
      "[1610612737 1610612738]\n"
     ]
    },
    {
     "name": "stderr",
     "output_type": "stream",
     "text": [
      " 40%|███▉      | 427/1074 [12:27<15:40,  1.45s/it]"
     ]
    },
    {
     "name": "stdout",
     "output_type": "stream",
     "text": [
      "0022000457\n",
      "[1610612762 1610612746]\n"
     ]
    },
    {
     "name": "stderr",
     "output_type": "stream",
     "text": [
      " 40%|███▉      | 428/1074 [12:28<14:28,  1.34s/it]"
     ]
    },
    {
     "name": "stdout",
     "output_type": "stream",
     "text": [
      "0022000449\n",
      "[1610612744 1610612753]\n"
     ]
    },
    {
     "name": "stderr",
     "output_type": "stream",
     "text": [
      " 40%|███▉      | 429/1074 [12:30<17:50,  1.66s/it]"
     ]
    },
    {
     "name": "stdout",
     "output_type": "stream",
     "text": [
      "0022000563\n",
      "[1610612743 1610612739]\n"
     ]
    },
    {
     "name": "stderr",
     "output_type": "stream",
     "text": [
      " 40%|████      | 430/1074 [12:33<20:08,  1.88s/it]"
     ]
    },
    {
     "name": "stdout",
     "output_type": "stream",
     "text": [
      "0022000453\n",
      "[1610612760 1610612749]\n"
     ]
    },
    {
     "name": "stderr",
     "output_type": "stream",
     "text": [
      " 40%|████      | 431/1074 [12:34<17:20,  1.62s/it]"
     ]
    },
    {
     "name": "stdout",
     "output_type": "stream",
     "text": [
      "0022000454\n",
      "[1610612761 1610612750]\n"
     ]
    },
    {
     "name": "stderr",
     "output_type": "stream",
     "text": [
      " 40%|████      | 432/1074 [12:35<15:25,  1.44s/it]"
     ]
    },
    {
     "name": "stdout",
     "output_type": "stream",
     "text": [
      "0022000452\n",
      "[1610612765 1610612763]\n"
     ]
    },
    {
     "name": "stderr",
     "output_type": "stream",
     "text": [
      " 40%|████      | 433/1074 [12:36<14:06,  1.32s/it]"
     ]
    },
    {
     "name": "stdout",
     "output_type": "stream",
     "text": [
      "0022000455\n",
      "[1610612756 1610612740]\n"
     ]
    },
    {
     "name": "stderr",
     "output_type": "stream",
     "text": [
      " 40%|████      | 434/1074 [12:38<17:25,  1.63s/it]"
     ]
    },
    {
     "name": "stdout",
     "output_type": "stream",
     "text": [
      "0022000463\n",
      "[1610612748 1610612747]\n"
     ]
    },
    {
     "name": "stderr",
     "output_type": "stream",
     "text": [
      " 41%|████      | 435/1074 [12:39<15:29,  1.45s/it]"
     ]
    },
    {
     "name": "stdout",
     "output_type": "stream",
     "text": [
      "0022000460\n",
      "[1610612758 1610612741]\n"
     ]
    },
    {
     "name": "stderr",
     "output_type": "stream",
     "text": [
      " 41%|████      | 436/1074 [12:41<17:46,  1.67s/it]"
     ]
    },
    {
     "name": "stdout",
     "output_type": "stream",
     "text": [
      "0022000464\n",
      "[1610612764 1610612757]\n"
     ]
    },
    {
     "name": "stderr",
     "output_type": "stream",
     "text": [
      " 41%|████      | 437/1074 [12:44<20:08,  1.90s/it]"
     ]
    },
    {
     "name": "stdout",
     "output_type": "stream",
     "text": [
      "0022000459\n",
      "[1610612744 1610612766]\n"
     ]
    },
    {
     "name": "stderr",
     "output_type": "stream",
     "text": [
      " 41%|████      | 438/1074 [12:46<22:10,  2.09s/it]"
     ]
    },
    {
     "name": "stdout",
     "output_type": "stream",
     "text": [
      "0022000462\n",
      "[1610612756 1610612763]\n"
     ]
    },
    {
     "name": "stderr",
     "output_type": "stream",
     "text": [
      " 41%|████      | 439/1074 [12:47<19:02,  1.80s/it]"
     ]
    },
    {
     "name": "stdout",
     "output_type": "stream",
     "text": [
      "0022000469\n",
      "[1610612750 1610612752]\n"
     ]
    },
    {
     "name": "stderr",
     "output_type": "stream",
     "text": [
      " 41%|████      | 440/1074 [12:48<16:51,  1.59s/it]"
     ]
    },
    {
     "name": "stdout",
     "output_type": "stream",
     "text": [
      "0022000472\n",
      "[1610612751 1610612746]\n"
     ]
    },
    {
     "name": "stderr",
     "output_type": "stream",
     "text": [
      " 41%|████      | 441/1074 [12:50<15:16,  1.45s/it]"
     ]
    },
    {
     "name": "stdout",
     "output_type": "stream",
     "text": [
      "0022000467\n",
      "[1610612765 1610612753]\n"
     ]
    },
    {
     "name": "stderr",
     "output_type": "stream",
     "text": [
      " 41%|████      | 442/1074 [12:52<18:36,  1.77s/it]"
     ]
    },
    {
     "name": "stdout",
     "output_type": "stream",
     "text": [
      "0022000466\n",
      "[1610612760 1610612739]\n"
     ]
    },
    {
     "name": "stderr",
     "output_type": "stream",
     "text": [
      " 41%|████      | 443/1074 [12:55<20:58,  1.99s/it]"
     ]
    },
    {
     "name": "stdout",
     "output_type": "stream",
     "text": [
      "0022000471\n",
      "[1610612758 1610612749]\n"
     ]
    },
    {
     "name": "stderr",
     "output_type": "stream",
     "text": [
      " 41%|████▏     | 444/1074 [12:57<22:34,  2.15s/it]"
     ]
    },
    {
     "name": "stdout",
     "output_type": "stream",
     "text": [
      "0022000470\n",
      "[1610612743 1610612737]\n"
     ]
    },
    {
     "name": "stderr",
     "output_type": "stream",
     "text": [
      " 41%|████▏     | 445/1074 [12:58<19:07,  1.82s/it]"
     ]
    },
    {
     "name": "stdout",
     "output_type": "stream",
     "text": [
      "0022000468\n",
      "[1610612755 1610612761]\n"
     ]
    },
    {
     "name": "stderr",
     "output_type": "stream",
     "text": [
      " 42%|████▏     | 446/1074 [13:01<20:59,  2.01s/it]"
     ]
    },
    {
     "name": "stdout",
     "output_type": "stream",
     "text": [
      "0022000465\n",
      "[1610612738 1610612740]\n"
     ]
    },
    {
     "name": "stderr",
     "output_type": "stream",
     "text": [
      " 42%|████▏     | 447/1074 [13:02<18:05,  1.73s/it]"
     ]
    },
    {
     "name": "stdout",
     "output_type": "stream",
     "text": [
      "0022000479\n",
      "[1610612764 1610612747]\n"
     ]
    },
    {
     "name": "stderr",
     "output_type": "stream",
     "text": [
      " 42%|████▏     | 448/1074 [13:03<16:02,  1.54s/it]"
     ]
    },
    {
     "name": "stdout",
     "output_type": "stream",
     "text": [
      "0022000477\n",
      "[1610612757 1610612756]\n"
     ]
    },
    {
     "name": "stderr",
     "output_type": "stream",
     "text": [
      " 42%|████▏     | 449/1074 [13:04<14:39,  1.41s/it]"
     ]
    },
    {
     "name": "stdout",
     "output_type": "stream",
     "text": [
      "0022000474\n",
      "[1610612741 1610612745]\n"
     ]
    },
    {
     "name": "stderr",
     "output_type": "stream",
     "text": [
      " 42%|████▏     | 450/1074 [13:06<18:22,  1.77s/it]"
     ]
    },
    {
     "name": "stdout",
     "output_type": "stream",
     "text": [
      "0022000478\n",
      "[1610612766 1610612762]\n"
     ]
    },
    {
     "name": "stderr",
     "output_type": "stream",
     "text": [
      " 42%|████▏     | 451/1074 [13:08<16:09,  1.56s/it]"
     ]
    },
    {
     "name": "stdout",
     "output_type": "stream",
     "text": [
      "0022000476\n",
      "[1610612763 1610612742]\n"
     ]
    },
    {
     "name": "stderr",
     "output_type": "stream",
     "text": [
      " 42%|████▏     | 452/1074 [13:10<18:34,  1.79s/it]"
     ]
    },
    {
     "name": "stdout",
     "output_type": "stream",
     "text": [
      "0022000475\n",
      "[1610612748 1610612760]\n"
     ]
    },
    {
     "name": "stderr",
     "output_type": "stream",
     "text": [
      " 42%|████▏     | 453/1074 [13:11<16:18,  1.58s/it]"
     ]
    },
    {
     "name": "stdout",
     "output_type": "stream",
     "text": [
      "0022000483\n",
      "[1610612744 1610612752]\n"
     ]
    },
    {
     "name": "stderr",
     "output_type": "stream",
     "text": [
      " 42%|████▏     | 454/1074 [13:14<20:56,  2.03s/it]"
     ]
    },
    {
     "name": "stdout",
     "output_type": "stream",
     "text": [
      "0022000482\n",
      "[1610612758 1610612751]\n"
     ]
    },
    {
     "name": "stderr",
     "output_type": "stream",
     "text": [
      " 42%|████▏     | 455/1074 [13:16<21:47,  2.11s/it]"
     ]
    },
    {
     "name": "stdout",
     "output_type": "stream",
     "text": [
      "0022000488\n",
      "[1610612764 1610612746]\n"
     ]
    },
    {
     "name": "stderr",
     "output_type": "stream",
     "text": [
      " 42%|████▏     | 456/1074 [13:17<18:35,  1.81s/it]"
     ]
    },
    {
     "name": "stdout",
     "output_type": "stream",
     "text": [
      "0022000481\n",
      "[1610612765 1610612753]\n"
     ]
    },
    {
     "name": "stderr",
     "output_type": "stream",
     "text": [
      " 43%|████▎     | 457/1074 [13:20<19:46,  1.92s/it]"
     ]
    },
    {
     "name": "stdout",
     "output_type": "stream",
     "text": [
      "0022000480\n",
      "[1610612737 1610612739]\n"
     ]
    },
    {
     "name": "stderr",
     "output_type": "stream",
     "text": [
      " 43%|████▎     | 458/1074 [13:22<20:45,  2.02s/it]"
     ]
    },
    {
     "name": "stdout",
     "output_type": "stream",
     "text": [
      "0022000486\n",
      "[1610612750 1610612749]\n"
     ]
    },
    {
     "name": "stderr",
     "output_type": "stream",
     "text": [
      " 43%|████▎     | 459/1074 [13:23<17:47,  1.74s/it]"
     ]
    },
    {
     "name": "stdout",
     "output_type": "stream",
     "text": [
      "0022000485\n",
      "[1610612738 1610612742]\n"
     ]
    },
    {
     "name": "stderr",
     "output_type": "stream",
     "text": [
      " 43%|████▎     | 460/1074 [13:24<15:46,  1.54s/it]"
     ]
    },
    {
     "name": "stdout",
     "output_type": "stream",
     "text": [
      "0022000487\n",
      "[1610612757 1610612743]\n"
     ]
    },
    {
     "name": "stderr",
     "output_type": "stream",
     "text": [
      " 43%|████▎     | 461/1074 [13:27<18:41,  1.83s/it]"
     ]
    },
    {
     "name": "stdout",
     "output_type": "stream",
     "text": [
      "0022000484\n",
      "[1610612755 1610612761]\n"
     ]
    },
    {
     "name": "stderr",
     "output_type": "stream",
     "text": [
      " 43%|████▎     | 462/1074 [13:29<20:34,  2.02s/it]"
     ]
    },
    {
     "name": "stdout",
     "output_type": "stream",
     "text": [
      "0022000493\n",
      "[1610612750 1610612741]\n"
     ]
    },
    {
     "name": "stderr",
     "output_type": "stream",
     "text": [
      " 43%|████▎     | 463/1074 [13:31<21:54,  2.15s/it]"
     ]
    },
    {
     "name": "stdout",
     "output_type": "stream",
     "text": [
      "0022000496\n",
      "[1610612766 1610612756]\n"
     ]
    },
    {
     "name": "stderr",
     "output_type": "stream",
     "text": [
      " 43%|████▎     | 464/1074 [13:32<18:29,  1.82s/it]"
     ]
    },
    {
     "name": "stdout",
     "output_type": "stream",
     "text": [
      "0022000491\n",
      "[1610612745 1610612739]\n"
     ]
    },
    {
     "name": "stderr",
     "output_type": "stream",
     "text": [
      " 43%|████▎     | 465/1074 [13:35<19:22,  1.91s/it]"
     ]
    },
    {
     "name": "stdout",
     "output_type": "stream",
     "text": [
      "0022000492\n",
      "[1610612761 1610612748]\n"
     ]
    },
    {
     "name": "stderr",
     "output_type": "stream",
     "text": [
      " 43%|████▎     | 466/1074 [13:37<19:54,  1.96s/it]"
     ]
    },
    {
     "name": "stdout",
     "output_type": "stream",
     "text": [
      "0022000497\n",
      "[1610612747 1610612762]\n"
     ]
    },
    {
     "name": "stderr",
     "output_type": "stream",
     "text": [
      " 43%|████▎     | 467/1074 [13:38<17:08,  1.69s/it]"
     ]
    },
    {
     "name": "stdout",
     "output_type": "stream",
     "text": [
      "0022000489\n",
      "[1610612744 1610612754]\n"
     ]
    },
    {
     "name": "stderr",
     "output_type": "stream",
     "text": [
      " 44%|████▎     | 468/1074 [13:40<19:24,  1.92s/it]"
     ]
    },
    {
     "name": "stdout",
     "output_type": "stream",
     "text": [
      "0022000490\n",
      "[1610612738 1610612737]\n"
     ]
    },
    {
     "name": "stderr",
     "output_type": "stream",
     "text": [
      " 44%|████▎     | 469/1074 [13:43<20:31,  2.04s/it]"
     ]
    },
    {
     "name": "stdout",
     "output_type": "stream",
     "text": [
      "0022000495\n",
      "[1610612759 1610612760]\n"
     ]
    },
    {
     "name": "stderr",
     "output_type": "stream",
     "text": [
      " 44%|████▍     | 470/1074 [13:45<21:08,  2.10s/it]"
     ]
    },
    {
     "name": "stdout",
     "output_type": "stream",
     "text": [
      "0022000494\n",
      "[1610612765 1610612740]\n"
     ]
    },
    {
     "name": "stderr",
     "output_type": "stream",
     "text": [
      " 44%|████▍     | 471/1074 [13:47<21:12,  2.11s/it]"
     ]
    },
    {
     "name": "stdout",
     "output_type": "stream",
     "text": [
      "0022000498\n",
      "[1610612742 1610612755]\n"
     ]
    },
    {
     "name": "stderr",
     "output_type": "stream",
     "text": [
      " 44%|████▍     | 472/1074 [13:49<21:47,  2.17s/it]"
     ]
    },
    {
     "name": "stdout",
     "output_type": "stream",
     "text": [
      "0022000500\n",
      "[1610612758 1610612752]\n"
     ]
    },
    {
     "name": "stderr",
     "output_type": "stream",
     "text": [
      " 44%|████▍     | 473/1074 [13:50<18:30,  1.85s/it]"
     ]
    },
    {
     "name": "stdout",
     "output_type": "stream",
     "text": [
      "0022000499\n",
      "[1610612753 1610612751]\n"
     ]
    },
    {
     "name": "stderr",
     "output_type": "stream",
     "text": [
      " 44%|████▍     | 474/1074 [13:53<20:34,  2.06s/it]"
     ]
    },
    {
     "name": "stdout",
     "output_type": "stream",
     "text": [
      "0022000503\n",
      "[1610612740 1610612749]\n"
     ]
    },
    {
     "name": "stderr",
     "output_type": "stream",
     "text": [
      " 44%|████▍     | 475/1074 [13:54<17:37,  1.76s/it]"
     ]
    },
    {
     "name": "stdout",
     "output_type": "stream",
     "text": [
      "0022000502\n",
      "[1610612764 1610612743]\n"
     ]
    },
    {
     "name": "stderr",
     "output_type": "stream",
     "text": [
      " 44%|████▍     | 476/1074 [13:56<18:16,  1.83s/it]"
     ]
    },
    {
     "name": "stdout",
     "output_type": "stream",
     "text": [
      "0022000501\n",
      "[1610612746 1610612763]\n"
     ]
    },
    {
     "name": "stderr",
     "output_type": "stream",
     "text": [
      " 44%|████▍     | 477/1074 [13:58<19:11,  1.93s/it]"
     ]
    },
    {
     "name": "stdout",
     "output_type": "stream",
     "text": [
      "0022000511\n",
      "[1610612766 1610612744]\n"
     ]
    },
    {
     "name": "stderr",
     "output_type": "stream",
     "text": [
      " 45%|████▍     | 478/1074 [13:59<16:33,  1.67s/it]"
     ]
    },
    {
     "name": "stdout",
     "output_type": "stream",
     "text": [
      "0022000512\n",
      "[1610612757 1610612747]\n"
     ]
    },
    {
     "name": "stderr",
     "output_type": "stream",
     "text": [
      " 45%|████▍     | 479/1074 [14:00<14:46,  1.49s/it]"
     ]
    },
    {
     "name": "stdout",
     "output_type": "stream",
     "text": [
      "0022000508\n",
      "[1610612756 1610612741]\n"
     ]
    },
    {
     "name": "stderr",
     "output_type": "stream",
     "text": [
      " 45%|████▍     | 480/1074 [14:03<17:14,  1.74s/it]"
     ]
    },
    {
     "name": "stdout",
     "output_type": "stream",
     "text": [
      "0022000505\n",
      "[1610612754 1610612738]\n"
     ]
    },
    {
     "name": "stderr",
     "output_type": "stream",
     "text": [
      " 45%|████▍     | 481/1074 [14:04<15:07,  1.53s/it]"
     ]
    },
    {
     "name": "stdout",
     "output_type": "stream",
     "text": [
      "0022000507\n",
      "[1610612762 1610612748]\n"
     ]
    },
    {
     "name": "stderr",
     "output_type": "stream",
     "text": [
      " 45%|████▍     | 482/1074 [14:06<18:06,  1.84s/it]"
     ]
    },
    {
     "name": "stdout",
     "output_type": "stream",
     "text": [
      "0022000504\n",
      "[1610612758 1610612765]\n"
     ]
    },
    {
     "name": "stderr",
     "output_type": "stream",
     "text": [
      " 45%|████▍     | 483/1074 [14:07<15:49,  1.61s/it]"
     ]
    },
    {
     "name": "stdout",
     "output_type": "stream",
     "text": [
      "0022000506\n",
      "[1610612745 1610612761]\n"
     ]
    },
    {
     "name": "stderr",
     "output_type": "stream",
     "text": [
      " 45%|████▌     | 484/1074 [14:09<17:28,  1.78s/it]"
     ]
    },
    {
     "name": "stdout",
     "output_type": "stream",
     "text": [
      "0022000510\n",
      "[1610612737 1610612760]\n"
     ]
    },
    {
     "name": "stderr",
     "output_type": "stream",
     "text": [
      " 45%|████▌     | 485/1074 [14:12<19:36,  2.00s/it]"
     ]
    },
    {
     "name": "stdout",
     "output_type": "stream",
     "text": [
      "0022000509\n",
      "[1610612746 1610612763]\n"
     ]
    },
    {
     "name": "stderr",
     "output_type": "stream",
     "text": [
      " 45%|████▌     | 486/1074 [14:14<20:28,  2.09s/it]"
     ]
    },
    {
     "name": "stdout",
     "output_type": "stream",
     "text": [
      "0022000513\n",
      "[1610612739 1610612755]\n"
     ]
    },
    {
     "name": "stderr",
     "output_type": "stream",
     "text": [
      " 45%|████▌     | 487/1074 [14:17<21:37,  2.21s/it]"
     ]
    },
    {
     "name": "stdout",
     "output_type": "stream",
     "text": [
      "0022000514\n",
      "[1610612740 1610612759]\n"
     ]
    },
    {
     "name": "stderr",
     "output_type": "stream",
     "text": [
      " 45%|████▌     | 488/1074 [14:18<18:17,  1.87s/it]"
     ]
    },
    {
     "name": "stdout",
     "output_type": "stream",
     "text": [
      "0022000515\n",
      "[1610612754 1610612752]\n"
     ]
    },
    {
     "name": "stderr",
     "output_type": "stream",
     "text": [
      " 46%|████▌     | 489/1074 [14:20<19:36,  2.01s/it]"
     ]
    },
    {
     "name": "stdout",
     "output_type": "stream",
     "text": [
      "0022000519\n",
      "[1610612742 1610612751]\n"
     ]
    },
    {
     "name": "stderr",
     "output_type": "stream",
     "text": [
      " 46%|████▌     | 490/1074 [14:21<16:46,  1.72s/it]"
     ]
    },
    {
     "name": "stdout",
     "output_type": "stream",
     "text": [
      "0022000516\n",
      "[1610612762 1610612753]\n"
     ]
    },
    {
     "name": "stderr",
     "output_type": "stream",
     "text": [
      " 46%|████▌     | 491/1074 [14:24<18:41,  1.92s/it]"
     ]
    },
    {
     "name": "stdout",
     "output_type": "stream",
     "text": [
      "0022000517\n",
      "[1610612750 1610612764]\n"
     ]
    },
    {
     "name": "stderr",
     "output_type": "stream",
     "text": [
      " 46%|████▌     | 492/1074 [14:26<20:22,  2.10s/it]"
     ]
    },
    {
     "name": "stdout",
     "output_type": "stream",
     "text": [
      "0022000518\n",
      "[1610612743 1610612760]\n"
     ]
    },
    {
     "name": "stderr",
     "output_type": "stream",
     "text": [
      " 46%|████▌     | 493/1074 [14:27<17:29,  1.81s/it]"
     ]
    },
    {
     "name": "stdout",
     "output_type": "stream",
     "text": [
      "0022000527\n",
      "[1610612744 1610612747]\n"
     ]
    },
    {
     "name": "stderr",
     "output_type": "stream",
     "text": [
      " 46%|████▌     | 494/1074 [14:29<18:21,  1.90s/it]"
     ]
    },
    {
     "name": "stdout",
     "output_type": "stream",
     "text": [
      "0022000524\n",
      "[1610612764 1610612738]\n"
     ]
    },
    {
     "name": "stderr",
     "output_type": "stream",
     "text": [
      " 46%|████▌     | 495/1074 [14:32<20:26,  2.12s/it]"
     ]
    },
    {
     "name": "stdout",
     "output_type": "stream",
     "text": [
      "0022000525\n",
      "[1610612763 1610612745]\n"
     ]
    },
    {
     "name": "stderr",
     "output_type": "stream",
     "text": [
      " 46%|████▌     | 496/1074 [14:34<20:36,  2.14s/it]"
     ]
    },
    {
     "name": "stdout",
     "output_type": "stream",
     "text": [
      "0022000522\n",
      "[1610612737 1610612748]\n"
     ]
    },
    {
     "name": "stderr",
     "output_type": "stream",
     "text": [
      " 46%|████▋     | 497/1074 [14:35<17:24,  1.81s/it]"
     ]
    },
    {
     "name": "stdout",
     "output_type": "stream",
     "text": [
      "0022000521\n",
      "[1610612752 1610612765]\n"
     ]
    },
    {
     "name": "stderr",
     "output_type": "stream",
     "text": [
      " 46%|████▋     | 498/1074 [14:38<20:02,  2.09s/it]"
     ]
    },
    {
     "name": "stdout",
     "output_type": "stream",
     "text": [
      "0022000520\n",
      "[1610612746 1610612749]\n"
     ]
    },
    {
     "name": "stderr",
     "output_type": "stream",
     "text": [
      " 46%|████▋     | 499/1074 [14:39<17:37,  1.84s/it]"
     ]
    },
    {
     "name": "stdout",
     "output_type": "stream",
     "text": [
      "0022000528\n",
      "[1610612766 1610612758]\n"
     ]
    },
    {
     "name": "stderr",
     "output_type": "stream",
     "text": [
      " 47%|████▋     | 500/1074 [14:41<18:20,  1.92s/it]"
     ]
    },
    {
     "name": "stdout",
     "output_type": "stream",
     "text": [
      "0022000526\n",
      "[1610612756 1610612750]\n"
     ]
    },
    {
     "name": "stderr",
     "output_type": "stream",
     "text": [
      " 47%|████▋     | 501/1074 [14:42<15:46,  1.65s/it]"
     ]
    },
    {
     "name": "stdout",
     "output_type": "stream",
     "text": [
      "0022000530\n",
      "[1610612754 1610612755]\n"
     ]
    },
    {
     "name": "stderr",
     "output_type": "stream",
     "text": [
      " 47%|████▋     | 502/1074 [14:43<14:05,  1.48s/it]"
     ]
    },
    {
     "name": "stdout",
     "output_type": "stream",
     "text": [
      "0022000534\n",
      "[1610612751 1610612759]\n"
     ]
    },
    {
     "name": "stderr",
     "output_type": "stream",
     "text": [
      " 47%|████▋     | 503/1074 [14:46<17:15,  1.81s/it]"
     ]
    },
    {
     "name": "stdout",
     "output_type": "stream",
     "text": [
      "0022000531\n",
      "[1610612743 1610612741]\n"
     ]
    },
    {
     "name": "stderr",
     "output_type": "stream",
     "text": [
      " 47%|████▋     | 504/1074 [14:47<15:16,  1.61s/it]"
     ]
    },
    {
     "name": "stdout",
     "output_type": "stream",
     "text": [
      "0022000529\n",
      "[1610612742 1610612753]\n"
     ]
    },
    {
     "name": "stderr",
     "output_type": "stream",
     "text": [
      " 47%|████▋     | 505/1074 [14:48<13:47,  1.45s/it]"
     ]
    },
    {
     "name": "stdout",
     "output_type": "stream",
     "text": [
      "0022000532\n",
      "[1610612739 1610612745]\n"
     ]
    },
    {
     "name": "stderr",
     "output_type": "stream",
     "text": [
      " 47%|████▋     | 506/1074 [14:51<17:00,  1.80s/it]"
     ]
    },
    {
     "name": "stdout",
     "output_type": "stream",
     "text": [
      "0022000535\n",
      "[1610612766 1610612757]\n"
     ]
    },
    {
     "name": "stderr",
     "output_type": "stream",
     "text": [
      " 47%|████▋     | 507/1074 [14:52<15:07,  1.60s/it]"
     ]
    },
    {
     "name": "stdout",
     "output_type": "stream",
     "text": [
      "0022000533\n",
      "[1610612762 1610612740]\n"
     ]
    },
    {
     "name": "stderr",
     "output_type": "stream",
     "text": [
      " 47%|████▋     | 508/1074 [14:53<13:30,  1.43s/it]"
     ]
    },
    {
     "name": "stdout",
     "output_type": "stream",
     "text": [
      "0022000541\n",
      "[1610612752 1610612759]\n"
     ]
    },
    {
     "name": "stderr",
     "output_type": "stream",
     "text": [
      " 47%|████▋     | 509/1074 [14:55<15:23,  1.63s/it]"
     ]
    },
    {
     "name": "stdout",
     "output_type": "stream",
     "text": [
      "0022000542\n",
      "[1610612756 1610612747]\n"
     ]
    },
    {
     "name": "stderr",
     "output_type": "stream",
     "text": [
      " 47%|████▋     | 510/1074 [14:56<13:44,  1.46s/it]"
     ]
    },
    {
     "name": "stdout",
     "output_type": "stream",
     "text": [
      "0022000537\n",
      "[1610612746 1610612738]\n"
     ]
    },
    {
     "name": "stderr",
     "output_type": "stream",
     "text": [
      " 48%|████▊     | 511/1074 [14:59<17:17,  1.84s/it]"
     ]
    },
    {
     "name": "stdout",
     "output_type": "stream",
     "text": [
      "0022000538\n",
      "[1610612737 1610612748]\n"
     ]
    },
    {
     "name": "stderr",
     "output_type": "stream",
     "text": [
      " 48%|████▊     | 512/1074 [15:01<19:23,  2.07s/it]"
     ]
    },
    {
     "name": "stdout",
     "output_type": "stream",
     "text": [
      "0022000540\n",
      "[1610612743 1610612749]\n"
     ]
    },
    {
     "name": "stderr",
     "output_type": "stream",
     "text": [
      " 48%|████▊     | 513/1074 [15:03<16:30,  1.77s/it]"
     ]
    },
    {
     "name": "stdout",
     "output_type": "stream",
     "text": [
      "0022000536\n",
      "[1610612763 1610612764]\n"
     ]
    },
    {
     "name": "stderr",
     "output_type": "stream",
     "text": [
      " 48%|████▊     | 514/1074 [15:04<14:31,  1.56s/it]"
     ]
    },
    {
     "name": "stdout",
     "output_type": "stream",
     "text": [
      "0022000545\n",
      "[1610612762 1610612755]\n"
     ]
    },
    {
     "name": "stderr",
     "output_type": "stream",
     "text": [
      " 48%|████▊     | 515/1074 [15:05<13:10,  1.41s/it]"
     ]
    },
    {
     "name": "stdout",
     "output_type": "stream",
     "text": [
      "0022000544\n",
      "[1610612737 1610612753]\n"
     ]
    },
    {
     "name": "stderr",
     "output_type": "stream",
     "text": [
      " 48%|████▊     | 516/1074 [15:06<12:16,  1.32s/it]"
     ]
    },
    {
     "name": "stdout",
     "output_type": "stream",
     "text": [
      "0022000546\n",
      "[1610612751 1610612745]\n"
     ]
    },
    {
     "name": "stderr",
     "output_type": "stream",
     "text": [
      " 48%|████▊     | 517/1074 [15:08<14:51,  1.60s/it]"
     ]
    },
    {
     "name": "stdout",
     "output_type": "stream",
     "text": [
      "0022000543\n",
      "[1610612754 1610612739]\n"
     ]
    },
    {
     "name": "stderr",
     "output_type": "stream",
     "text": [
      " 48%|████▊     | 518/1074 [15:09<13:19,  1.44s/it]"
     ]
    },
    {
     "name": "stdout",
     "output_type": "stream",
     "text": [
      "0022000550\n",
      "[1610612744 1610612757]\n"
     ]
    },
    {
     "name": "stderr",
     "output_type": "stream",
     "text": [
      " 48%|████▊     | 519/1074 [15:10<12:21,  1.34s/it]"
     ]
    },
    {
     "name": "stdout",
     "output_type": "stream",
     "text": [
      "0022000549\n",
      "[1610612760 1610612742]\n"
     ]
    },
    {
     "name": "stderr",
     "output_type": "stream",
     "text": [
      " 48%|████▊     | 520/1074 [15:12<14:32,  1.57s/it]"
     ]
    },
    {
     "name": "stdout",
     "output_type": "stream",
     "text": [
      "0022000551\n",
      "[1610612747 1610612758]\n"
     ]
    },
    {
     "name": "stderr",
     "output_type": "stream",
     "text": [
      " 49%|████▊     | 521/1074 [15:15<16:50,  1.83s/it]"
     ]
    },
    {
     "name": "stdout",
     "output_type": "stream",
     "text": [
      "0022000547\n",
      "[1610612766 1610612750]\n"
     ]
    },
    {
     "name": "stderr",
     "output_type": "stream",
     "text": [
      " 49%|████▊     | 522/1074 [15:16<14:53,  1.62s/it]"
     ]
    },
    {
     "name": "stdout",
     "output_type": "stream",
     "text": [
      "0022000539\n",
      "[1610612765 1610612761]\n"
     ]
    },
    {
     "name": "stderr",
     "output_type": "stream",
     "text": [
      " 49%|████▊     | 523/1074 [15:17<13:19,  1.45s/it]"
     ]
    },
    {
     "name": "stdout",
     "output_type": "stream",
     "text": [
      "0022000548\n",
      "[1610612741 1610612740]\n"
     ]
    },
    {
     "name": "stderr",
     "output_type": "stream",
     "text": [
      " 49%|████▉     | 524/1074 [15:19<16:20,  1.78s/it]"
     ]
    },
    {
     "name": "stdout",
     "output_type": "stream",
     "text": [
      "0022000556\n",
      "[1610612760 1610612759]\n"
     ]
    },
    {
     "name": "stderr",
     "output_type": "stream",
     "text": [
      " 49%|████▉     | 525/1074 [15:21<14:22,  1.57s/it]"
     ]
    },
    {
     "name": "stdout",
     "output_type": "stream",
     "text": [
      "0022000565\n",
      "[1610612765 1610612752]\n"
     ]
    },
    {
     "name": "stderr",
     "output_type": "stream",
     "text": [
      " 49%|████▉     | 526/1074 [15:23<16:57,  1.86s/it]"
     ]
    },
    {
     "name": "stdout",
     "output_type": "stream",
     "text": [
      "0022000185\n",
      "[1610612744 1610612756]\n"
     ]
    },
    {
     "name": "stderr",
     "output_type": "stream",
     "text": [
      " 49%|████▉     | 527/1074 [15:26<19:56,  2.19s/it]"
     ]
    },
    {
     "name": "stdout",
     "output_type": "stream",
     "text": [
      "0022000552\n",
      "[1610612761 1610612738]\n"
     ]
    },
    {
     "name": "stderr",
     "output_type": "stream",
     "text": [
      " 49%|████▉     | 528/1074 [15:27<17:12,  1.89s/it]"
     ]
    },
    {
     "name": "stdout",
     "output_type": "stream",
     "text": [
      "0022000558\n",
      "[1610612758 1610612757]\n"
     ]
    },
    {
     "name": "stderr",
     "output_type": "stream",
     "text": [
      " 49%|████▉     | 529/1074 [15:29<18:08,  2.00s/it]"
     ]
    },
    {
     "name": "stdout",
     "output_type": "stream",
     "text": [
      "0022000553\n",
      "[1610612743 1610612754]\n"
     ]
    },
    {
     "name": "stderr",
     "output_type": "stream",
     "text": [
      " 49%|████▉     | 530/1074 [15:32<18:28,  2.04s/it]"
     ]
    },
    {
     "name": "stdout",
     "output_type": "stream",
     "text": [
      "0022000554\n",
      "[1610612746 1610612764]\n"
     ]
    },
    {
     "name": "stderr",
     "output_type": "stream",
     "text": [
      " 49%|████▉     | 531/1074 [15:33<15:48,  1.75s/it]"
     ]
    },
    {
     "name": "stdout",
     "output_type": "stream",
     "text": [
      "0022000555\n",
      "[1610612749 1610612763]\n"
     ]
    },
    {
     "name": "stderr",
     "output_type": "stream",
     "text": [
      " 50%|████▉     | 532/1074 [15:34<14:04,  1.56s/it]"
     ]
    },
    {
     "name": "stdout",
     "output_type": "stream",
     "text": [
      "0022000557\n",
      "[1610612748 1610612740]\n"
     ]
    },
    {
     "name": "stderr",
     "output_type": "stream",
     "text": [
      " 50%|████▉     | 533/1074 [15:35<12:40,  1.41s/it]"
     ]
    },
    {
     "name": "stdout",
     "output_type": "stream",
     "text": [
      "0022000567\n",
      "[1610612759 1610612742]\n"
     ]
    },
    {
     "name": "stderr",
     "output_type": "stream",
     "text": [
      " 50%|████▉     | 534/1074 [15:37<14:47,  1.64s/it]"
     ]
    },
    {
     "name": "stdout",
     "output_type": "stream",
     "text": [
      "0022000566\n",
      "[1610612764 1610612763]\n"
     ]
    },
    {
     "name": "stderr",
     "output_type": "stream",
     "text": [
      " 50%|████▉     | 535/1074 [15:40<17:15,  1.92s/it]"
     ]
    },
    {
     "name": "stdout",
     "output_type": "stream",
     "text": [
      "0022000572\n",
      "[1610612755 1610612741]\n"
     ]
    },
    {
     "name": "stderr",
     "output_type": "stream",
     "text": [
      " 50%|████▉     | 536/1074 [15:42<18:04,  2.02s/it]"
     ]
    },
    {
     "name": "stdout",
     "output_type": "stream",
     "text": [
      "0022000569\n",
      "[1610612738 1610612751]\n"
     ]
    },
    {
     "name": "stderr",
     "output_type": "stream",
     "text": [
      " 50%|█████     | 537/1074 [15:44<18:18,  2.05s/it]"
     ]
    },
    {
     "name": "stdout",
     "output_type": "stream",
     "text": [
      "0022000576\n",
      "[1610612744 1610612746]\n"
     ]
    },
    {
     "name": "stderr",
     "output_type": "stream",
     "text": [
      " 50%|█████     | 538/1074 [15:46<19:08,  2.14s/it]"
     ]
    },
    {
     "name": "stdout",
     "output_type": "stream",
     "text": [
      "0022000571\n",
      "[1610612753 1610612748]\n"
     ]
    },
    {
     "name": "stderr",
     "output_type": "stream",
     "text": [
      " 50%|█████     | 539/1074 [15:49<19:58,  2.24s/it]"
     ]
    },
    {
     "name": "stdout",
     "output_type": "stream",
     "text": [
      "0022000577\n",
      "[1610612756 1610612757]\n"
     ]
    },
    {
     "name": "stderr",
     "output_type": "stream",
     "text": [
      " 50%|█████     | 540/1074 [15:50<16:56,  1.90s/it]"
     ]
    },
    {
     "name": "stdout",
     "output_type": "stream",
     "text": [
      "0022000573\n",
      "[1610612752 1610612749]\n"
     ]
    },
    {
     "name": "stderr",
     "output_type": "stream",
     "text": [
      " 50%|█████     | 541/1074 [15:52<18:28,  2.08s/it]"
     ]
    },
    {
     "name": "stdout",
     "output_type": "stream",
     "text": [
      "0022000578\n",
      "[1610612745 1610612758]\n"
     ]
    },
    {
     "name": "stderr",
     "output_type": "stream",
     "text": [
      " 50%|█████     | 542/1074 [15:53<15:49,  1.78s/it]"
     ]
    },
    {
     "name": "stdout",
     "output_type": "stream",
     "text": [
      "0022000568\n",
      "[1610612765 1610612766]\n"
     ]
    },
    {
     "name": "stderr",
     "output_type": "stream",
     "text": [
      " 51%|█████     | 543/1074 [15:55<14:09,  1.60s/it]"
     ]
    },
    {
     "name": "stdout",
     "output_type": "stream",
     "text": [
      "0022000570\n",
      "[1610612737 1610612761]\n"
     ]
    },
    {
     "name": "stderr",
     "output_type": "stream",
     "text": [
      " 51%|█████     | 544/1074 [15:56<12:54,  1.46s/it]"
     ]
    },
    {
     "name": "stdout",
     "output_type": "stream",
     "text": [
      "0022000575\n",
      "[1610612742 1610612760]\n"
     ]
    },
    {
     "name": "stderr",
     "output_type": "stream",
     "text": [
      " 51%|█████     | 545/1074 [15:57<11:54,  1.35s/it]"
     ]
    },
    {
     "name": "stdout",
     "output_type": "stream",
     "text": [
      "0022000574\n",
      "[1610612750 1610612740]\n"
     ]
    },
    {
     "name": "stderr",
     "output_type": "stream",
     "text": [
      " 51%|█████     | 546/1074 [15:58<11:21,  1.29s/it]"
     ]
    },
    {
     "name": "stdout",
     "output_type": "stream",
     "text": [
      "0022000583\n",
      "[1610612753 1610612759]\n"
     ]
    },
    {
     "name": "stderr",
     "output_type": "stream",
     "text": [
      " 51%|█████     | 547/1074 [15:59<10:45,  1.23s/it]"
     ]
    },
    {
     "name": "stdout",
     "output_type": "stream",
     "text": [
      "0022000585\n",
      "[1610612754 1610612747]\n"
     ]
    },
    {
     "name": "stderr",
     "output_type": "stream",
     "text": [
      " 51%|█████     | 548/1074 [16:02<14:20,  1.64s/it]"
     ]
    },
    {
     "name": "stdout",
     "output_type": "stream",
     "text": [
      "0022000582\n",
      "[1610612748 1610612741]\n"
     ]
    },
    {
     "name": "stderr",
     "output_type": "stream",
     "text": [
      " 51%|█████     | 549/1074 [16:04<16:27,  1.88s/it]"
     ]
    },
    {
     "name": "stdout",
     "output_type": "stream",
     "text": [
      "0022000584\n",
      "[1610612745 1610612762]\n"
     ]
    },
    {
     "name": "stderr",
     "output_type": "stream",
     "text": [
      " 51%|█████     | 550/1074 [16:06<16:56,  1.94s/it]"
     ]
    },
    {
     "name": "stdout",
     "output_type": "stream",
     "text": [
      "0022000579\n",
      "[1610612755 1610612764]\n"
     ]
    },
    {
     "name": "stderr",
     "output_type": "stream",
     "text": [
      " 51%|█████▏    | 551/1074 [16:09<19:00,  2.18s/it]"
     ]
    },
    {
     "name": "stdout",
     "output_type": "stream",
     "text": [
      "0022000580\n",
      "[1610612743 1610612763]\n"
     ]
    },
    {
     "name": "stderr",
     "output_type": "stream",
     "text": [
      " 51%|█████▏    | 552/1074 [16:10<16:04,  1.85s/it]"
     ]
    },
    {
     "name": "stdout",
     "output_type": "stream",
     "text": [
      "0022000581\n",
      "[1610612739 1610612740]\n"
     ]
    },
    {
     "name": "stderr",
     "output_type": "stream",
     "text": [
      " 51%|█████▏    | 553/1074 [16:12<17:33,  2.02s/it]"
     ]
    },
    {
     "name": "stdout",
     "output_type": "stream",
     "text": [
      "0022000194\n",
      "[1610612754 1610612756]\n"
     ]
    },
    {
     "name": "stderr",
     "output_type": "stream",
     "text": [
      " 52%|█████▏    | 554/1074 [16:15<17:39,  2.04s/it]"
     ]
    },
    {
     "name": "stdout",
     "output_type": "stream",
     "text": [
      "0022000587\n",
      "[1610612765 1610612751]\n"
     ]
    },
    {
     "name": "stderr",
     "output_type": "stream",
     "text": [
      " 52%|█████▏    | 555/1074 [16:17<18:53,  2.18s/it]"
     ]
    },
    {
     "name": "stdout",
     "output_type": "stream",
     "text": [
      "0022000590\n",
      "[1610612758 1610612737]\n"
     ]
    },
    {
     "name": "stderr",
     "output_type": "stream",
     "text": [
      " 52%|█████▏    | 556/1074 [16:20<19:54,  2.31s/it]"
     ]
    },
    {
     "name": "stdout",
     "output_type": "stream",
     "text": [
      "0022000592\n",
      "[1610612742 1610612743]\n"
     ]
    },
    {
     "name": "stderr",
     "output_type": "stream",
     "text": [
      " 52%|█████▏    | 557/1074 [16:22<20:08,  2.34s/it]"
     ]
    },
    {
     "name": "stdout",
     "output_type": "stream",
     "text": [
      "0022000591\n",
      "[1610612757 1610612750]\n"
     ]
    },
    {
     "name": "stderr",
     "output_type": "stream",
     "text": [
      " 52%|█████▏    | 558/1074 [16:23<17:06,  1.99s/it]"
     ]
    },
    {
     "name": "stdout",
     "output_type": "stream",
     "text": [
      "0022000588\n",
      "[1610612761 1610612766]\n"
     ]
    },
    {
     "name": "stderr",
     "output_type": "stream",
     "text": [
      " 52%|█████▏    | 559/1074 [16:24<14:39,  1.71s/it]"
     ]
    },
    {
     "name": "stdout",
     "output_type": "stream",
     "text": [
      "0022000589\n",
      "[1610612749 1610612764]\n"
     ]
    },
    {
     "name": "stderr",
     "output_type": "stream",
     "text": [
      " 52%|█████▏    | 560/1074 [16:25<12:50,  1.50s/it]"
     ]
    },
    {
     "name": "stdout",
     "output_type": "stream",
     "text": [
      "0022000586\n",
      "[1610612752 1610612760]\n"
     ]
    },
    {
     "name": "stderr",
     "output_type": "stream",
     "text": [
      " 52%|█████▏    | 561/1074 [16:26<11:37,  1.36s/it]"
     ]
    },
    {
     "name": "stdout",
     "output_type": "stream",
     "text": [
      "0022000595\n",
      "[1610612759 1610612755]\n"
     ]
    },
    {
     "name": "stderr",
     "output_type": "stream",
     "text": [
      " 52%|█████▏    | 562/1074 [16:29<14:37,  1.71s/it]"
     ]
    },
    {
     "name": "stdout",
     "output_type": "stream",
     "text": [
      "0022000594\n",
      "[1610612762 1610612744]\n"
     ]
    },
    {
     "name": "stderr",
     "output_type": "stream",
     "text": [
      " 52%|█████▏    | 563/1074 [16:31<15:44,  1.85s/it]"
     ]
    },
    {
     "name": "stdout",
     "output_type": "stream",
     "text": [
      "0022000600\n",
      "[1610612761 1610612741]\n"
     ]
    },
    {
     "name": "stderr",
     "output_type": "stream",
     "text": [
      " 53%|█████▎    | 564/1074 [16:32<13:36,  1.60s/it]"
     ]
    },
    {
     "name": "stdout",
     "output_type": "stream",
     "text": [
      "0022000596\n",
      "[1610612748 1610612753]\n"
     ]
    },
    {
     "name": "stderr",
     "output_type": "stream",
     "text": [
      " 53%|█████▎    | 565/1074 [16:33<12:09,  1.43s/it]"
     ]
    },
    {
     "name": "stdout",
     "output_type": "stream",
     "text": [
      "0022000598\n",
      "[1610612738 1610612745]\n"
     ]
    },
    {
     "name": "stderr",
     "output_type": "stream",
     "text": [
      " 53%|█████▎    | 566/1074 [16:34<11:15,  1.33s/it]"
     ]
    },
    {
     "name": "stdout",
     "output_type": "stream",
     "text": [
      "0022000597\n",
      "[1610612739 1610612737]\n"
     ]
    },
    {
     "name": "stderr",
     "output_type": "stream",
     "text": [
      " 53%|█████▎    | 567/1074 [16:35<10:31,  1.25s/it]"
     ]
    },
    {
     "name": "stdout",
     "output_type": "stream",
     "text": [
      "0022000599\n",
      "[1610612757 1610612750]\n"
     ]
    },
    {
     "name": "stderr",
     "output_type": "stream",
     "text": [
      " 53%|█████▎    | 568/1074 [16:36<10:08,  1.20s/it]"
     ]
    },
    {
     "name": "stdout",
     "output_type": "stream",
     "text": [
      "0022000593\n",
      "[1610612763 1610612760]\n"
     ]
    },
    {
     "name": "stderr",
     "output_type": "stream",
     "text": [
      " 53%|█████▎    | 569/1074 [16:38<12:25,  1.48s/it]"
     ]
    },
    {
     "name": "stdout",
     "output_type": "stream",
     "text": [
      "0022000601\n",
      "[1610612746 1610612740]\n"
     ]
    },
    {
     "name": "stderr",
     "output_type": "stream",
     "text": [
      " 53%|█████▎    | 570/1074 [16:41<14:05,  1.68s/it]"
     ]
    },
    {
     "name": "stdout",
     "output_type": "stream",
     "text": [
      "0022000608\n",
      "[1610612747 1610612744]\n"
     ]
    },
    {
     "name": "stderr",
     "output_type": "stream",
     "text": [
      " 53%|█████▎    | 571/1074 [16:43<15:56,  1.90s/it]"
     ]
    },
    {
     "name": "stdout",
     "output_type": "stream",
     "text": [
      "0022000607\n",
      "[1610612763 1610612756]\n"
     ]
    },
    {
     "name": "stderr",
     "output_type": "stream",
     "text": [
      " 53%|█████▎    | 572/1074 [16:45<16:26,  1.96s/it]"
     ]
    },
    {
     "name": "stdout",
     "output_type": "stream",
     "text": [
      "0022000604\n",
      "[1610612752 1610612751]\n"
     ]
    },
    {
     "name": "stderr",
     "output_type": "stream",
     "text": [
      " 53%|█████▎    | 573/1074 [16:46<14:07,  1.69s/it]"
     ]
    },
    {
     "name": "stdout",
     "output_type": "stream",
     "text": [
      "0022000428\n",
      "[1610612759 1610612765]\n"
     ]
    },
    {
     "name": "stderr",
     "output_type": "stream",
     "text": [
      " 53%|█████▎    | 574/1074 [16:48<15:07,  1.82s/it]"
     ]
    },
    {
     "name": "stdout",
     "output_type": "stream",
     "text": [
      "0022000605\n",
      "[1610612746 1610612742]\n"
     ]
    },
    {
     "name": "stderr",
     "output_type": "stream",
     "text": [
      " 54%|█████▎    | 575/1074 [16:51<16:34,  1.99s/it]"
     ]
    },
    {
     "name": "stdout",
     "output_type": "stream",
     "text": [
      "0022000606\n",
      "[1610612754 1610612743]\n"
     ]
    },
    {
     "name": "stderr",
     "output_type": "stream",
     "text": [
      " 54%|█████▎    | 576/1074 [16:52<14:10,  1.71s/it]"
     ]
    },
    {
     "name": "stdout",
     "output_type": "stream",
     "text": [
      "0022000602\n",
      "[1610612758 1610612766]\n"
     ]
    },
    {
     "name": "stderr",
     "output_type": "stream",
     "text": [
      " 54%|█████▎    | 577/1074 [16:53<12:30,  1.51s/it]"
     ]
    },
    {
     "name": "stdout",
     "output_type": "stream",
     "text": [
      "0022000603\n",
      "[1610612749 1610612764]\n"
     ]
    },
    {
     "name": "stderr",
     "output_type": "stream",
     "text": [
      " 54%|█████▍    | 578/1074 [16:54<11:19,  1.37s/it]"
     ]
    },
    {
     "name": "stdout",
     "output_type": "stream",
     "text": [
      "0022000611\n",
      "[1610612752 1610612755]\n"
     ]
    },
    {
     "name": "stderr",
     "output_type": "stream",
     "text": [
      " 54%|█████▍    | 579/1074 [16:55<10:36,  1.29s/it]"
     ]
    },
    {
     "name": "stdout",
     "output_type": "stream",
     "text": [
      "0022000615\n",
      "[1610612750 1610612747]\n"
     ]
    },
    {
     "name": "stderr",
     "output_type": "stream",
     "text": [
      " 54%|█████▍    | 580/1074 [16:56<10:06,  1.23s/it]"
     ]
    },
    {
     "name": "stdout",
     "output_type": "stream",
     "text": [
      "0022000612\n",
      "[1610612760 1610612741]\n"
     ]
    },
    {
     "name": "stderr",
     "output_type": "stream",
     "text": [
      " 54%|█████▍    | 581/1074 [16:57<09:41,  1.18s/it]"
     ]
    },
    {
     "name": "stdout",
     "output_type": "stream",
     "text": [
      "0022000609\n",
      "[1610612762 1610612738]\n"
     ]
    },
    {
     "name": "stderr",
     "output_type": "stream",
     "text": [
      " 54%|█████▍    | 582/1074 [17:00<12:49,  1.56s/it]"
     ]
    },
    {
     "name": "stdout",
     "output_type": "stream",
     "text": [
      "0022000613\n",
      "[1610612737 1610612745]\n"
     ]
    },
    {
     "name": "stderr",
     "output_type": "stream",
     "text": [
      " 54%|█████▍    | 583/1074 [17:02<14:16,  1.74s/it]"
     ]
    },
    {
     "name": "stdout",
     "output_type": "stream",
     "text": [
      "0022000610\n",
      "[1610612739 1610612748]\n"
     ]
    },
    {
     "name": "stderr",
     "output_type": "stream",
     "text": [
      " 54%|█████▍    | 584/1074 [17:04<15:13,  1.87s/it]"
     ]
    },
    {
     "name": "stdout",
     "output_type": "stream",
     "text": [
      "0022000614\n",
      "[1610612740 1610612757]\n"
     ]
    },
    {
     "name": "stderr",
     "output_type": "stream",
     "text": [
      " 54%|█████▍    | 585/1074 [17:06<15:41,  1.92s/it]"
     ]
    },
    {
     "name": "stdout",
     "output_type": "stream",
     "text": [
      "0022000618\n",
      "[1610612749 1610612755]\n"
     ]
    },
    {
     "name": "stderr",
     "output_type": "stream",
     "text": [
      " 55%|█████▍    | 586/1074 [17:08<16:00,  1.97s/it]"
     ]
    },
    {
     "name": "stdout",
     "output_type": "stream",
     "text": [
      "0022000621\n",
      "[1610612759 1610612741]\n"
     ]
    },
    {
     "name": "stderr",
     "output_type": "stream",
     "text": [
      " 55%|█████▍    | 587/1074 [17:09<13:41,  1.69s/it]"
     ]
    },
    {
     "name": "stdout",
     "output_type": "stream",
     "text": [
      "0022000622\n",
      "[1610612744 1610612745]\n"
     ]
    },
    {
     "name": "stderr",
     "output_type": "stream",
     "text": [
      " 55%|█████▍    | 588/1074 [17:11<14:46,  1.82s/it]"
     ]
    },
    {
     "name": "stdout",
     "output_type": "stream",
     "text": [
      "0022000620\n",
      "[1610612738 1610612739]\n"
     ]
    },
    {
     "name": "stderr",
     "output_type": "stream",
     "text": [
      " 55%|█████▍    | 589/1074 [17:12<12:47,  1.58s/it]"
     ]
    },
    {
     "name": "stdout",
     "output_type": "stream",
     "text": [
      "0022000616\n",
      "[1610612761 1610612765]\n"
     ]
    },
    {
     "name": "stderr",
     "output_type": "stream",
     "text": [
      " 55%|█████▍    | 590/1074 [17:13<11:22,  1.41s/it]"
     ]
    },
    {
     "name": "stdout",
     "output_type": "stream",
     "text": [
      "0022000617\n",
      "[1610612751 1610612754]\n"
     ]
    },
    {
     "name": "stderr",
     "output_type": "stream",
     "text": [
      " 55%|█████▌    | 591/1074 [17:14<10:28,  1.30s/it]"
     ]
    },
    {
     "name": "stdout",
     "output_type": "stream",
     "text": [
      "0022000625\n",
      "[1610612746 1610612742]\n"
     ]
    },
    {
     "name": "stderr",
     "output_type": "stream",
     "text": [
      " 55%|█████▌    | 592/1074 [17:15<09:54,  1.23s/it]"
     ]
    },
    {
     "name": "stdout",
     "output_type": "stream",
     "text": [
      "0022000624\n",
      "[1610612766 1610612743]\n"
     ]
    },
    {
     "name": "stderr",
     "output_type": "stream",
     "text": [
      " 55%|█████▌    | 593/1074 [17:18<12:50,  1.60s/it]"
     ]
    },
    {
     "name": "stdout",
     "output_type": "stream",
     "text": [
      "0022000619\n",
      "[1610612758 1610612764]\n"
     ]
    },
    {
     "name": "stderr",
     "output_type": "stream",
     "text": [
      " 55%|█████▌    | 594/1074 [17:19<11:26,  1.43s/it]"
     ]
    },
    {
     "name": "stdout",
     "output_type": "stream",
     "text": [
      "0022000623\n",
      "[1610612748 1610612763]\n"
     ]
    },
    {
     "name": "stderr",
     "output_type": "stream",
     "text": [
      " 55%|█████▌    | 595/1074 [17:23<17:29,  2.19s/it]"
     ]
    },
    {
     "name": "stdout",
     "output_type": "stream",
     "text": [
      "0022000630\n",
      "[1610612766 1610612747]\n"
     ]
    },
    {
     "name": "stderr",
     "output_type": "stream",
     "text": [
      " 55%|█████▌    | 596/1074 [17:26<20:41,  2.60s/it]"
     ]
    },
    {
     "name": "stdout",
     "output_type": "stream",
     "text": [
      "0022000627\n",
      "[1610612753 1610612752]\n"
     ]
    },
    {
     "name": "stderr",
     "output_type": "stream",
     "text": [
      " 56%|█████▌    | 597/1074 [17:29<20:40,  2.60s/it]"
     ]
    },
    {
     "name": "stdout",
     "output_type": "stream",
     "text": [
      "0022000628\n",
      "[1610612750 1610612756]\n"
     ]
    },
    {
     "name": "stderr",
     "output_type": "stream",
     "text": [
      " 56%|█████▌    | 598/1074 [17:30<16:53,  2.13s/it]"
     ]
    },
    {
     "name": "stdout",
     "output_type": "stream",
     "text": [
      "0022000629\n",
      "[1610612740 1610612757]\n"
     ]
    },
    {
     "name": "stderr",
     "output_type": "stream",
     "text": [
      " 56%|█████▌    | 599/1074 [17:32<16:47,  2.12s/it]"
     ]
    },
    {
     "name": "stdout",
     "output_type": "stream",
     "text": [
      "0022000626\n",
      "[1610612760 1610612737]\n"
     ]
    },
    {
     "name": "stderr",
     "output_type": "stream",
     "text": [
      " 56%|█████▌    | 600/1074 [17:33<14:13,  1.80s/it]"
     ]
    },
    {
     "name": "stdout",
     "output_type": "stream",
     "text": [
      "0022000166\n",
      "[1610612762 1610612764]\n"
     ]
    },
    {
     "name": "stderr",
     "output_type": "stream",
     "text": [
      " 56%|█████▌    | 601/1074 [17:34<12:21,  1.57s/it]"
     ]
    },
    {
     "name": "stdout",
     "output_type": "stream",
     "text": [
      "0022000638\n",
      "[1610612750 1610612756]\n"
     ]
    },
    {
     "name": "stderr",
     "output_type": "stream",
     "text": [
      " 56%|█████▌    | 602/1074 [17:35<11:04,  1.41s/it]"
     ]
    },
    {
     "name": "stdout",
     "output_type": "stream",
     "text": [
      "0022000631\n",
      "[1610612758 1610612738]\n"
     ]
    },
    {
     "name": "stderr",
     "output_type": "stream",
     "text": [
      " 56%|█████▌    | 603/1074 [17:36<10:10,  1.30s/it]"
     ]
    },
    {
     "name": "stdout",
     "output_type": "stream",
     "text": [
      "0022000633\n",
      "[1610612751 1610612753]\n"
     ]
    },
    {
     "name": "stderr",
     "output_type": "stream",
     "text": [
      " 56%|█████▌    | 604/1074 [17:37<09:31,  1.22s/it]"
     ]
    },
    {
     "name": "stdout",
     "output_type": "stream",
     "text": [
      "0022000635\n",
      "[1610612765 1610612745]\n"
     ]
    },
    {
     "name": "stderr",
     "output_type": "stream",
     "text": [
      " 56%|█████▋    | 605/1074 [17:39<09:43,  1.24s/it]"
     ]
    },
    {
     "name": "stdout",
     "output_type": "stream",
     "text": [
      "0022000435\n",
      "[1610612759 1610612739]\n"
     ]
    },
    {
     "name": "stderr",
     "output_type": "stream",
     "text": [
      " 56%|█████▋    | 606/1074 [17:41<12:31,  1.61s/it]"
     ]
    },
    {
     "name": "stdout",
     "output_type": "stream",
     "text": [
      "0022000632\n",
      "[1610612754 1610612748]\n"
     ]
    },
    {
     "name": "stderr",
     "output_type": "stream",
     "text": [
      " 57%|█████▋    | 607/1074 [17:43<13:45,  1.77s/it]"
     ]
    },
    {
     "name": "stdout",
     "output_type": "stream",
     "text": [
      "0022000639\n",
      "[1610612742 1610612757]\n"
     ]
    },
    {
     "name": "stderr",
     "output_type": "stream",
     "text": [
      " 57%|█████▋    | 608/1074 [17:46<15:06,  1.94s/it]"
     ]
    },
    {
     "name": "stdout",
     "output_type": "stream",
     "text": [
      "0022000637\n",
      "[1610612741 1610612743]\n"
     ]
    },
    {
     "name": "stderr",
     "output_type": "stream",
     "text": [
      " 57%|█████▋    | 609/1074 [17:47<13:01,  1.68s/it]"
     ]
    },
    {
     "name": "stdout",
     "output_type": "stream",
     "text": [
      "0022000634\n",
      "[1610612762 1610612761]\n"
     ]
    },
    {
     "name": "stderr",
     "output_type": "stream",
     "text": [
      " 57%|█████▋    | 610/1074 [17:48<11:32,  1.49s/it]"
     ]
    },
    {
     "name": "stdout",
     "output_type": "stream",
     "text": [
      "0022000636\n",
      "[1610612744 1610612763]\n"
     ]
    },
    {
     "name": "stderr",
     "output_type": "stream",
     "text": [
      " 57%|█████▋    | 611/1074 [17:50<13:29,  1.75s/it]"
     ]
    },
    {
     "name": "stdout",
     "output_type": "stream",
     "text": [
      "0022000641\n",
      "[1610612758 1610612755]\n"
     ]
    },
    {
     "name": "stderr",
     "output_type": "stream",
     "text": [
      " 57%|█████▋    | 612/1074 [17:52<14:18,  1.86s/it]"
     ]
    },
    {
     "name": "stdout",
     "output_type": "stream",
     "text": [
      "0022000640\n",
      "[1610612737 1610612747]\n"
     ]
    },
    {
     "name": "stderr",
     "output_type": "stream",
     "text": [
      " 57%|█████▋    | 613/1074 [17:56<18:51,  2.46s/it]"
     ]
    },
    {
     "name": "stdout",
     "output_type": "stream",
     "text": [
      "0022000644\n",
      "[1610612766 1610612746]\n"
     ]
    },
    {
     "name": "stderr",
     "output_type": "stream",
     "text": [
      " 57%|█████▋    | 614/1074 [17:57<15:40,  2.04s/it]"
     ]
    },
    {
     "name": "stdout",
     "output_type": "stream",
     "text": [
      "0022000643\n",
      "[1610612759 1610612749]\n"
     ]
    },
    {
     "name": "stderr",
     "output_type": "stream",
     "text": [
      " 57%|█████▋    | 615/1074 [17:58<13:46,  1.80s/it]"
     ]
    },
    {
     "name": "stdout",
     "output_type": "stream",
     "text": [
      "0022000642\n",
      "[1610612744 1610612763]\n"
     ]
    },
    {
     "name": "stderr",
     "output_type": "stream",
     "text": [
      " 57%|█████▋    | 616/1074 [17:59<12:07,  1.59s/it]"
     ]
    },
    {
     "name": "stdout",
     "output_type": "stream",
     "text": [
      "0022000650\n",
      "[1610612755 1610612752]\n"
     ]
    },
    {
     "name": "stderr",
     "output_type": "stream",
     "text": [
      " 57%|█████▋    | 617/1074 [18:00<10:49,  1.42s/it]"
     ]
    },
    {
     "name": "stdout",
     "output_type": "stream",
     "text": [
      "0022000651\n",
      "[1610612747 1610612756]\n"
     ]
    },
    {
     "name": "stderr",
     "output_type": "stream",
     "text": [
      " 58%|█████▊    | 618/1074 [18:03<12:29,  1.64s/it]"
     ]
    },
    {
     "name": "stdout",
     "output_type": "stream",
     "text": [
      "0022000647\n",
      "[1610612764 1610612751]\n"
     ]
    },
    {
     "name": "stderr",
     "output_type": "stream",
     "text": [
      " 58%|█████▊    | 619/1074 [18:04<11:13,  1.48s/it]"
     ]
    },
    {
     "name": "stdout",
     "output_type": "stream",
     "text": [
      "0022000167\n",
      "[1610612753 1610612738]\n"
     ]
    },
    {
     "name": "stderr",
     "output_type": "stream",
     "text": [
      " 58%|█████▊    | 620/1074 [18:06<13:22,  1.77s/it]"
     ]
    },
    {
     "name": "stdout",
     "output_type": "stream",
     "text": [
      "0022000016\n",
      "[1610612760 1610612745]\n"
     ]
    },
    {
     "name": "stderr",
     "output_type": "stream",
     "text": [
      " 58%|█████▊    | 621/1074 [18:08<14:09,  1.88s/it]"
     ]
    },
    {
     "name": "stdout",
     "output_type": "stream",
     "text": [
      "0022000648\n",
      "[1610612761 1610612739]\n"
     ]
    },
    {
     "name": "stderr",
     "output_type": "stream",
     "text": [
      " 58%|█████▊    | 622/1074 [18:09<12:21,  1.64s/it]"
     ]
    },
    {
     "name": "stdout",
     "output_type": "stream",
     "text": [
      "0022000645\n",
      "[1610612754 1610612748]\n"
     ]
    },
    {
     "name": "stderr",
     "output_type": "stream",
     "text": [
      " 58%|█████▊    | 623/1074 [18:10<11:03,  1.47s/it]"
     ]
    },
    {
     "name": "stdout",
     "output_type": "stream",
     "text": [
      "0022000649\n",
      "[1610612741 1610612765]\n"
     ]
    },
    {
     "name": "stderr",
     "output_type": "stream",
     "text": [
      " 58%|█████▊    | 624/1074 [18:12<10:14,  1.36s/it]"
     ]
    },
    {
     "name": "stdout",
     "output_type": "stream",
     "text": [
      "0022000652\n",
      "[1610612742 1610612757]\n"
     ]
    },
    {
     "name": "stderr",
     "output_type": "stream",
     "text": [
      " 58%|█████▊    | 625/1074 [18:14<11:51,  1.58s/it]"
     ]
    },
    {
     "name": "stdout",
     "output_type": "stream",
     "text": [
      "0022000646\n",
      "[1610612740 1610612743]\n"
     ]
    },
    {
     "name": "stderr",
     "output_type": "stream",
     "text": [
      " 58%|█████▊    | 626/1074 [18:16<13:49,  1.85s/it]"
     ]
    },
    {
     "name": "stdout",
     "output_type": "stream",
     "text": [
      "0022000655\n",
      "[1610612766 1610612759]\n"
     ]
    },
    {
     "name": "stderr",
     "output_type": "stream",
     "text": [
      " 58%|█████▊    | 627/1074 [18:19<15:11,  2.04s/it]"
     ]
    },
    {
     "name": "stdout",
     "output_type": "stream",
     "text": [
      "0022000656\n",
      "[1610612762 1610612741]\n"
     ]
    },
    {
     "name": "stderr",
     "output_type": "stream",
     "text": [
      " 58%|█████▊    | 628/1074 [18:21<16:03,  2.16s/it]"
     ]
    },
    {
     "name": "stdout",
     "output_type": "stream",
     "text": [
      "0022000660\n",
      "[1610612737 1610612746]\n"
     ]
    },
    {
     "name": "stderr",
     "output_type": "stream",
     "text": [
      " 59%|█████▊    | 629/1074 [18:23<15:59,  2.16s/it]"
     ]
    },
    {
     "name": "stdout",
     "output_type": "stream",
     "text": [
      "0022000657\n",
      "[1610612761 1610612745]\n"
     ]
    },
    {
     "name": "stderr",
     "output_type": "stream",
     "text": [
      " 59%|█████▊    | 630/1074 [18:24<13:26,  1.82s/it]"
     ]
    },
    {
     "name": "stdout",
     "output_type": "stream",
     "text": [
      "0022000653\n",
      "[1610612758 1610612739]\n"
     ]
    },
    {
     "name": "stderr",
     "output_type": "stream",
     "text": [
      " 59%|█████▉    | 631/1074 [18:25<11:45,  1.59s/it]"
     ]
    },
    {
     "name": "stdout",
     "output_type": "stream",
     "text": [
      "0022000659\n",
      "[1610612754 1610612749]\n"
     ]
    },
    {
     "name": "stderr",
     "output_type": "stream",
     "text": [
      " 59%|█████▉    | 632/1074 [18:26<10:29,  1.42s/it]"
     ]
    },
    {
     "name": "stdout",
     "output_type": "stream",
     "text": [
      "0022000654\n",
      "[1610612760 1610612750]\n"
     ]
    },
    {
     "name": "stderr",
     "output_type": "stream",
     "text": [
      " 59%|█████▉    | 633/1074 [18:28<11:59,  1.63s/it]"
     ]
    },
    {
     "name": "stdout",
     "output_type": "stream",
     "text": [
      "0022000658\n",
      "[1610612738 1610612763]\n"
     ]
    },
    {
     "name": "stderr",
     "output_type": "stream",
     "text": [
      " 59%|█████▉    | 634/1074 [18:31<13:41,  1.87s/it]"
     ]
    },
    {
     "name": "stdout",
     "output_type": "stream",
     "text": [
      "0022000665\n",
      "[1610612755 1610612744]\n"
     ]
    },
    {
     "name": "stderr",
     "output_type": "stream",
     "text": [
      " 59%|█████▉    | 635/1074 [18:32<11:53,  1.63s/it]"
     ]
    },
    {
     "name": "stdout",
     "output_type": "stream",
     "text": [
      "0022000662\n",
      "[1610612764 1610612752]\n"
     ]
    },
    {
     "name": "stderr",
     "output_type": "stream",
     "text": [
      " 59%|█████▉    | 636/1074 [18:33<10:39,  1.46s/it]"
     ]
    },
    {
     "name": "stdout",
     "output_type": "stream",
     "text": [
      "0022000661\n",
      "[1610612743 1610612753]\n"
     ]
    },
    {
     "name": "stderr",
     "output_type": "stream",
     "text": [
      " 59%|█████▉    | 637/1074 [18:34<09:50,  1.35s/it]"
     ]
    },
    {
     "name": "stdout",
     "output_type": "stream",
     "text": [
      "0022000664\n",
      "[1610612756 1610612748]\n"
     ]
    },
    {
     "name": "stderr",
     "output_type": "stream",
     "text": [
      " 59%|█████▉    | 638/1074 [18:35<09:16,  1.28s/it]"
     ]
    },
    {
     "name": "stdout",
     "output_type": "stream",
     "text": [
      "0022000666\n",
      "[1610612751 1610612757]\n"
     ]
    },
    {
     "name": "stderr",
     "output_type": "stream",
     "text": [
      " 59%|█████▉    | 639/1074 [18:37<11:07,  1.53s/it]"
     ]
    },
    {
     "name": "stdout",
     "output_type": "stream",
     "text": [
      "0022000663\n",
      "[1610612747 1610612740]\n"
     ]
    },
    {
     "name": "stderr",
     "output_type": "stream",
     "text": [
      " 60%|█████▉    | 640/1074 [18:38<10:02,  1.39s/it]"
     ]
    },
    {
     "name": "stdout",
     "output_type": "stream",
     "text": [
      "0022000675\n",
      "[1610612746 1610612759]\n"
     ]
    },
    {
     "name": "stderr",
     "output_type": "stream",
     "text": [
      " 60%|█████▉    | 641/1074 [18:40<09:46,  1.35s/it]"
     ]
    },
    {
     "name": "stdout",
     "output_type": "stream",
     "text": [
      "0022000671\n",
      "[1610612739 1610612741]\n"
     ]
    },
    {
     "name": "stderr",
     "output_type": "stream",
     "text": [
      " 60%|█████▉    | 642/1074 [18:42<12:03,  1.67s/it]"
     ]
    },
    {
     "name": "stdout",
     "output_type": "stream",
     "text": [
      "0022000670\n",
      "[1610612756 1610612753]\n"
     ]
    },
    {
     "name": "stderr",
     "output_type": "stream",
     "text": [
      " 60%|█████▉    | 643/1074 [18:45<13:59,  1.95s/it]"
     ]
    },
    {
     "name": "stdout",
     "output_type": "stream",
     "text": [
      "0022000672\n",
      "[1610612766 1610612745]\n"
     ]
    },
    {
     "name": "stderr",
     "output_type": "stream",
     "text": [
      " 60%|█████▉    | 644/1074 [18:46<12:05,  1.69s/it]"
     ]
    },
    {
     "name": "stdout",
     "output_type": "stream",
     "text": [
      "0022000669\n",
      "[1610612738 1610612749]\n"
     ]
    },
    {
     "name": "stderr",
     "output_type": "stream",
     "text": [
      " 60%|██████    | 645/1074 [18:49<15:18,  2.14s/it]"
     ]
    },
    {
     "name": "stdout",
     "output_type": "stream",
     "text": [
      "0022000676\n",
      "[1610612751 1610612762]\n"
     ]
    },
    {
     "name": "stderr",
     "output_type": "stream",
     "text": [
      " 60%|██████    | 646/1074 [18:50<13:00,  1.82s/it]"
     ]
    },
    {
     "name": "stdout",
     "output_type": "stream",
     "text": [
      "0022000667\n",
      "[1610612765 1610612754]\n"
     ]
    },
    {
     "name": "stderr",
     "output_type": "stream",
     "text": [
      " 60%|██████    | 647/1074 [18:52<13:43,  1.93s/it]"
     ]
    },
    {
     "name": "stdout",
     "output_type": "stream",
     "text": [
      "0022000677\n",
      "[1610612737 1610612758]\n"
     ]
    },
    {
     "name": "stderr",
     "output_type": "stream",
     "text": [
      " 60%|██████    | 648/1074 [18:55<14:54,  2.10s/it]"
     ]
    },
    {
     "name": "stdout",
     "output_type": "stream",
     "text": [
      "0022000673\n",
      "[1610612742 1610612750]\n"
     ]
    },
    {
     "name": "stderr",
     "output_type": "stream",
     "text": [
      " 60%|██████    | 649/1074 [18:56<12:41,  1.79s/it]"
     ]
    },
    {
     "name": "stdout",
     "output_type": "stream",
     "text": [
      "0022000668\n",
      "[1610612743 1610612761]\n"
     ]
    },
    {
     "name": "stderr",
     "output_type": "stream",
     "text": [
      " 61%|██████    | 650/1074 [18:58<14:03,  1.99s/it]"
     ]
    },
    {
     "name": "stdout",
     "output_type": "stream",
     "text": [
      "0022000674\n",
      "[1610612763 1610612760]\n"
     ]
    },
    {
     "name": "stderr",
     "output_type": "stream",
     "text": [
      " 61%|██████    | 651/1074 [19:00<14:24,  2.04s/it]"
     ]
    },
    {
     "name": "stdout",
     "output_type": "stream",
     "text": [
      "0022000680\n",
      "[1610612746 1610612759]\n"
     ]
    },
    {
     "name": "stderr",
     "output_type": "stream",
     "text": [
      " 61%|██████    | 652/1074 [19:01<12:13,  1.74s/it]"
     ]
    },
    {
     "name": "stdout",
     "output_type": "stream",
     "text": [
      "0022000681\n",
      "[1610612755 1610612747]\n"
     ]
    },
    {
     "name": "stderr",
     "output_type": "stream",
     "text": [
      " 61%|██████    | 653/1074 [19:02<10:46,  1.54s/it]"
     ]
    },
    {
     "name": "stdout",
     "output_type": "stream",
     "text": [
      "0022000679\n",
      "[1610612764 1610612752]\n"
     ]
    },
    {
     "name": "stderr",
     "output_type": "stream",
     "text": [
      " 61%|██████    | 654/1074 [19:03<09:45,  1.39s/it]"
     ]
    },
    {
     "name": "stdout",
     "output_type": "stream",
     "text": [
      "0022000678\n",
      "[1610612757 1610612748]\n"
     ]
    },
    {
     "name": "stderr",
     "output_type": "stream",
     "text": [
      " 61%|██████    | 655/1074 [19:06<11:18,  1.62s/it]"
     ]
    },
    {
     "name": "stdout",
     "output_type": "stream",
     "text": [
      "0022000682\n",
      "[1610612744 1610612758]\n"
     ]
    },
    {
     "name": "stderr",
     "output_type": "stream",
     "text": [
      " 61%|██████    | 656/1074 [19:07<10:03,  1.44s/it]"
     ]
    },
    {
     "name": "stdout",
     "output_type": "stream",
     "text": [
      "0022000692\n",
      "[1610612737 1610612744]\n"
     ]
    },
    {
     "name": "stderr",
     "output_type": "stream",
     "text": [
      " 61%|██████    | 657/1074 [19:09<12:35,  1.81s/it]"
     ]
    },
    {
     "name": "stdout",
     "output_type": "stream",
     "text": [
      "0022000693\n",
      "[1610612739 1610612747]\n"
     ]
    },
    {
     "name": "stderr",
     "output_type": "stream",
     "text": [
      " 61%|██████▏   | 658/1074 [19:12<13:41,  1.98s/it]"
     ]
    },
    {
     "name": "stdout",
     "output_type": "stream",
     "text": [
      "0022000687\n",
      "[1610612757 1610612753]\n"
     ]
    },
    {
     "name": "stderr",
     "output_type": "stream",
     "text": [
      " 61%|██████▏   | 659/1074 [19:13<11:42,  1.69s/it]"
     ]
    },
    {
     "name": "stdout",
     "output_type": "stream",
     "text": [
      "0022000683\n",
      "[1610612751 1610612765]\n"
     ]
    },
    {
     "name": "stderr",
     "output_type": "stream",
     "text": [
      " 61%|██████▏   | 660/1074 [19:14<10:20,  1.50s/it]"
     ]
    },
    {
     "name": "stdout",
     "output_type": "stream",
     "text": [
      "0022000685\n",
      "[1610612738 1610612749]\n"
     ]
    },
    {
     "name": "stderr",
     "output_type": "stream",
     "text": [
      " 62%|██████▏   | 661/1074 [19:16<12:29,  1.81s/it]"
     ]
    },
    {
     "name": "stdout",
     "output_type": "stream",
     "text": [
      "0022000691\n",
      "[1610612763 1610612762]\n"
     ]
    },
    {
     "name": "stderr",
     "output_type": "stream",
     "text": [
      " 62%|██████▏   | 662/1074 [19:17<10:54,  1.59s/it]"
     ]
    },
    {
     "name": "stdout",
     "output_type": "stream",
     "text": [
      "0022000690\n",
      "[1610612754 1610612742]\n"
     ]
    },
    {
     "name": "stderr",
     "output_type": "stream",
     "text": [
      " 62%|██████▏   | 663/1074 [19:20<12:34,  1.84s/it]"
     ]
    },
    {
     "name": "stdout",
     "output_type": "stream",
     "text": [
      "0022000688\n",
      "[1610612745 1610612750]\n"
     ]
    },
    {
     "name": "stderr",
     "output_type": "stream",
     "text": [
      " 62%|██████▏   | 664/1074 [19:21<11:01,  1.61s/it]"
     ]
    },
    {
     "name": "stdout",
     "output_type": "stream",
     "text": [
      "0022000686\n",
      "[1610612748 1610612766]\n"
     ]
    },
    {
     "name": "stderr",
     "output_type": "stream",
     "text": [
      " 62%|██████▏   | 665/1074 [19:22<09:48,  1.44s/it]"
     ]
    },
    {
     "name": "stdout",
     "output_type": "stream",
     "text": [
      "0022000684\n",
      "[1610612756 1610612761]\n"
     ]
    },
    {
     "name": "stderr",
     "output_type": "stream",
     "text": [
      " 62%|██████▏   | 666/1074 [19:24<11:07,  1.64s/it]"
     ]
    },
    {
     "name": "stdout",
     "output_type": "stream",
     "text": [
      "0022000689\n",
      "[1610612743 1610612740]\n"
     ]
    },
    {
     "name": "stderr",
     "output_type": "stream",
     "text": [
      " 62%|██████▏   | 667/1074 [19:25<09:51,  1.45s/it]"
     ]
    },
    {
     "name": "stdout",
     "output_type": "stream",
     "text": [
      "0022000697\n",
      "[1610612741 1610612759]\n"
     ]
    },
    {
     "name": "stderr",
     "output_type": "stream",
     "text": [
      " 62%|██████▏   | 668/1074 [19:27<11:43,  1.73s/it]"
     ]
    },
    {
     "name": "stdout",
     "output_type": "stream",
     "text": [
      "0022000701\n",
      "[1610612755 1610612746]\n"
     ]
    },
    {
     "name": "stderr",
     "output_type": "stream",
     "text": [
      " 62%|██████▏   | 669/1074 [19:30<13:20,  1.98s/it]"
     ]
    },
    {
     "name": "stdout",
     "output_type": "stream",
     "text": [
      "0022000695\n",
      "[1610612752 1610612749]\n"
     ]
    },
    {
     "name": "stderr",
     "output_type": "stream",
     "text": [
      " 62%|██████▏   | 670/1074 [19:32<14:08,  2.10s/it]"
     ]
    },
    {
     "name": "stdout",
     "output_type": "stream",
     "text": [
      "0022000700\n",
      "[1610612763 1610612762]\n"
     ]
    },
    {
     "name": "stderr",
     "output_type": "stream",
     "text": [
      " 62%|██████▏   | 671/1074 [19:33<12:00,  1.79s/it]"
     ]
    },
    {
     "name": "stdout",
     "output_type": "stream",
     "text": [
      "0022000702\n",
      "[1610612739 1610612758]\n"
     ]
    },
    {
     "name": "stderr",
     "output_type": "stream",
     "text": [
      " 63%|██████▎   | 672/1074 [19:34<10:28,  1.56s/it]"
     ]
    },
    {
     "name": "stdout",
     "output_type": "stream",
     "text": [
      "0022000696\n",
      "[1610612745 1610612750]\n"
     ]
    },
    {
     "name": "stderr",
     "output_type": "stream",
     "text": [
      " 63%|██████▎   | 673/1074 [19:37<11:32,  1.73s/it]"
     ]
    },
    {
     "name": "stdout",
     "output_type": "stream",
     "text": [
      "0022000694\n",
      "[1610612765 1610612764]\n"
     ]
    },
    {
     "name": "stderr",
     "output_type": "stream",
     "text": [
      " 63%|██████▎   | 674/1074 [19:38<10:06,  1.52s/it]"
     ]
    },
    {
     "name": "stdout",
     "output_type": "stream",
     "text": [
      "0022000698\n",
      "[1610612742 1610612740]\n"
     ]
    },
    {
     "name": "stderr",
     "output_type": "stream",
     "text": [
      " 63%|██████▎   | 675/1074 [19:40<11:49,  1.78s/it]"
     ]
    },
    {
     "name": "stdout",
     "output_type": "stream",
     "text": [
      "0022000699\n",
      "[1610612738 1610612760]\n"
     ]
    },
    {
     "name": "stderr",
     "output_type": "stream",
     "text": [
      " 63%|██████▎   | 676/1074 [19:41<10:16,  1.55s/it]"
     ]
    },
    {
     "name": "stdout",
     "output_type": "stream",
     "text": [
      "0022000706\n",
      "[1610612753 1610612747]\n"
     ]
    },
    {
     "name": "stderr",
     "output_type": "stream",
     "text": [
      " 63%|██████▎   | 677/1074 [19:42<09:12,  1.39s/it]"
     ]
    },
    {
     "name": "stdout",
     "output_type": "stream",
     "text": [
      "0022000705\n",
      "[1610612737 1610612743]\n"
     ]
    },
    {
     "name": "stderr",
     "output_type": "stream",
     "text": [
      " 63%|██████▎   | 678/1074 [19:44<11:07,  1.68s/it]"
     ]
    },
    {
     "name": "stdout",
     "output_type": "stream",
     "text": [
      "0022000703\n",
      "[1610612756 1610612766]\n"
     ]
    },
    {
     "name": "stderr",
     "output_type": "stream",
     "text": [
      " 63%|██████▎   | 679/1074 [19:45<09:45,  1.48s/it]"
     ]
    },
    {
     "name": "stdout",
     "output_type": "stream",
     "text": [
      "0022000704\n",
      "[1610612757 1610612761]\n"
     ]
    },
    {
     "name": "stderr",
     "output_type": "stream",
     "text": [
      " 63%|██████▎   | 680/1074 [19:46<08:52,  1.35s/it]"
     ]
    },
    {
     "name": "stdout",
     "output_type": "stream",
     "text": [
      "0022000716\n",
      "[1610612741 1610612744]\n"
     ]
    },
    {
     "name": "stderr",
     "output_type": "stream",
     "text": [
      " 63%|██████▎   | 681/1074 [19:49<11:00,  1.68s/it]"
     ]
    },
    {
     "name": "stdout",
     "output_type": "stream",
     "text": [
      "0022000714\n",
      "[1610612758 1610612759]\n"
     ]
    },
    {
     "name": "stderr",
     "output_type": "stream",
     "text": [
      " 64%|██████▎   | 682/1074 [19:50<09:46,  1.50s/it]"
     ]
    },
    {
     "name": "stdout",
     "output_type": "stream",
     "text": [
      "0022000710\n",
      "[1610612748 1610612752]\n"
     ]
    },
    {
     "name": "stderr",
     "output_type": "stream",
     "text": [
      " 64%|██████▎   | 683/1074 [19:52<10:56,  1.68s/it]"
     ]
    },
    {
     "name": "stdout",
     "output_type": "stream",
     "text": [
      "0022000709\n",
      "[1610612750 1610612751]\n"
     ]
    },
    {
     "name": "stderr",
     "output_type": "stream",
     "text": [
      " 64%|██████▎   | 684/1074 [19:53<09:40,  1.49s/it]"
     ]
    },
    {
     "name": "stdout",
     "output_type": "stream",
     "text": [
      "0022000708\n",
      "[1610612740 1610612738]\n"
     ]
    },
    {
     "name": "stderr",
     "output_type": "stream",
     "text": [
      " 64%|██████▍   | 685/1074 [19:56<11:55,  1.84s/it]"
     ]
    },
    {
     "name": "stdout",
     "output_type": "stream",
     "text": [
      "0022000717\n",
      "[1610612749 1610612746]\n"
     ]
    },
    {
     "name": "stderr",
     "output_type": "stream",
     "text": [
      " 64%|██████▍   | 686/1074 [19:58<12:16,  1.90s/it]"
     ]
    },
    {
     "name": "stdout",
     "output_type": "stream",
     "text": [
      "0022000712\n",
      "[1610612763 1610612745]\n"
     ]
    },
    {
     "name": "stderr",
     "output_type": "stream",
     "text": [
      " 64%|██████▍   | 687/1074 [19:59<10:36,  1.65s/it]"
     ]
    },
    {
     "name": "stdout",
     "output_type": "stream",
     "text": [
      "0022000711\n",
      "[1610612761 1610612765]\n"
     ]
    },
    {
     "name": "stderr",
     "output_type": "stream",
     "text": [
      " 64%|██████▍   | 688/1074 [20:01<11:24,  1.77s/it]"
     ]
    },
    {
     "name": "stdout",
     "output_type": "stream",
     "text": [
      "0022000715\n",
      "[1610612739 1610612762]\n"
     ]
    },
    {
     "name": "stderr",
     "output_type": "stream",
     "text": [
      " 64%|██████▍   | 689/1074 [20:02<09:57,  1.55s/it]"
     ]
    },
    {
     "name": "stdout",
     "output_type": "stream",
     "text": [
      "0022000707\n",
      "[1610612754 1610612764]\n"
     ]
    },
    {
     "name": "stderr",
     "output_type": "stream",
     "text": [
      " 64%|██████▍   | 690/1074 [20:03<08:58,  1.40s/it]"
     ]
    },
    {
     "name": "stdout",
     "output_type": "stream",
     "text": [
      "0022000713\n",
      "[1610612742 1610612760]\n"
     ]
    },
    {
     "name": "stderr",
     "output_type": "stream",
     "text": [
      " 64%|██████▍   | 691/1074 [20:04<08:19,  1.30s/it]"
     ]
    },
    {
     "name": "stdout",
     "output_type": "stream",
     "text": [
      "0022000171\n",
      "[1610612737 1610612756]\n"
     ]
    },
    {
     "name": "stderr",
     "output_type": "stream",
     "text": [
      " 64%|██████▍   | 692/1074 [20:06<09:46,  1.54s/it]"
     ]
    },
    {
     "name": "stdout",
     "output_type": "stream",
     "text": [
      "0022000720\n",
      "[1610612753 1610612746]\n"
     ]
    },
    {
     "name": "stderr",
     "output_type": "stream",
     "text": [
      " 65%|██████▍   | 693/1074 [20:07<08:50,  1.39s/it]"
     ]
    },
    {
     "name": "stdout",
     "output_type": "stream",
     "text": [
      "0022000719\n",
      "[1610612755 1610612743]\n"
     ]
    },
    {
     "name": "stderr",
     "output_type": "stream",
     "text": [
      " 65%|██████▍   | 694/1074 [20:08<08:13,  1.30s/it]"
     ]
    },
    {
     "name": "stdout",
     "output_type": "stream",
     "text": [
      "0022000718\n",
      "[1610612766 1610612764]\n"
     ]
    },
    {
     "name": "stderr",
     "output_type": "stream",
     "text": [
      " 65%|██████▍   | 695/1074 [20:09<07:41,  1.22s/it]"
     ]
    },
    {
     "name": "stdout",
     "output_type": "stream",
     "text": [
      "0022000728\n",
      "[1610612758 1610612759]\n"
     ]
    },
    {
     "name": "stderr",
     "output_type": "stream",
     "text": [
      " 65%|██████▍   | 696/1074 [20:10<07:20,  1.16s/it]"
     ]
    },
    {
     "name": "stdout",
     "output_type": "stream",
     "text": [
      "0022000729\n",
      "[1610612749 1610612747]\n"
     ]
    },
    {
     "name": "stderr",
     "output_type": "stream",
     "text": [
      " 65%|██████▍   | 697/1074 [20:13<09:18,  1.48s/it]"
     ]
    },
    {
     "name": "stdout",
     "output_type": "stream",
     "text": [
      "0022000730\n",
      "[1610612741 1610612756]\n"
     ]
    },
    {
     "name": "stderr",
     "output_type": "stream",
     "text": [
      " 65%|██████▍   | 698/1074 [20:14<08:27,  1.35s/it]"
     ]
    },
    {
     "name": "stdout",
     "output_type": "stream",
     "text": [
      "0022000724\n",
      "[1610612745 1610612751]\n"
     ]
    },
    {
     "name": "stderr",
     "output_type": "stream",
     "text": [
      " 65%|██████▌   | 699/1074 [20:16<10:40,  1.71s/it]"
     ]
    },
    {
     "name": "stdout",
     "output_type": "stream",
     "text": [
      "0022000723\n",
      "[1610612742 1610612738]\n"
     ]
    },
    {
     "name": "stderr",
     "output_type": "stream",
     "text": [
      " 65%|██████▌   | 700/1074 [20:17<09:23,  1.51s/it]"
     ]
    },
    {
     "name": "stdout",
     "output_type": "stream",
     "text": [
      "0022000721\n",
      "[1610612757 1610612765]\n"
     ]
    },
    {
     "name": "stderr",
     "output_type": "stream",
     "text": [
      " 65%|██████▌   | 701/1074 [20:20<10:59,  1.77s/it]"
     ]
    },
    {
     "name": "stdout",
     "output_type": "stream",
     "text": [
      "0022000722\n",
      "[1610612748 1610612754]\n"
     ]
    },
    {
     "name": "stderr",
     "output_type": "stream",
     "text": [
      " 65%|██████▌   | 702/1074 [20:21<09:35,  1.55s/it]"
     ]
    },
    {
     "name": "stdout",
     "output_type": "stream",
     "text": [
      "0022000726\n",
      "[1610612752 1610612750]\n"
     ]
    },
    {
     "name": "stderr",
     "output_type": "stream",
     "text": [
      " 65%|██████▌   | 703/1074 [20:23<10:38,  1.72s/it]"
     ]
    },
    {
     "name": "stdout",
     "output_type": "stream",
     "text": [
      "0022000725\n",
      "[1610612762 1610612763]\n"
     ]
    },
    {
     "name": "stderr",
     "output_type": "stream",
     "text": [
      " 66%|██████▌   | 704/1074 [20:25<11:16,  1.83s/it]"
     ]
    },
    {
     "name": "stdout",
     "output_type": "stream",
     "text": [
      "0022000727\n",
      "[1610612761 1610612760]\n"
     ]
    },
    {
     "name": "stderr",
     "output_type": "stream",
     "text": [
      " 66%|██████▌   | 705/1074 [20:26<09:47,  1.59s/it]"
     ]
    },
    {
     "name": "stdout",
     "output_type": "stream",
     "text": [
      "0022000735\n",
      "[1610612737 1610612759]\n"
     ]
    },
    {
     "name": "stderr",
     "output_type": "stream",
     "text": [
      " 66%|██████▌   | 706/1074 [20:27<08:44,  1.43s/it]"
     ]
    },
    {
     "name": "stdout",
     "output_type": "stream",
     "text": [
      "0022000732\n",
      "[1610612766 1610612751]\n"
     ]
    },
    {
     "name": "stderr",
     "output_type": "stream",
     "text": [
      " 66%|██████▌   | 707/1074 [20:29<10:36,  1.73s/it]"
     ]
    },
    {
     "name": "stdout",
     "output_type": "stream",
     "text": [
      "0022000736\n",
      "[1610612743 1610612746]\n"
     ]
    },
    {
     "name": "stderr",
     "output_type": "stream",
     "text": [
      " 66%|██████▌   | 708/1074 [20:32<11:18,  1.85s/it]"
     ]
    },
    {
     "name": "stdout",
     "output_type": "stream",
     "text": [
      "0022000731\n",
      "[1610612755 1610612739]\n"
     ]
    },
    {
     "name": "stderr",
     "output_type": "stream",
     "text": [
      " 66%|██████▌   | 709/1074 [20:34<11:46,  1.94s/it]"
     ]
    },
    {
     "name": "stdout",
     "output_type": "stream",
     "text": [
      "0022000733\n",
      "[1610612744 1610612748]\n"
     ]
    },
    {
     "name": "stderr",
     "output_type": "stream",
     "text": [
      " 66%|██████▌   | 710/1074 [20:35<10:06,  1.67s/it]"
     ]
    },
    {
     "name": "stdout",
     "output_type": "stream",
     "text": [
      "0022000179\n",
      "[1610612764 1610612765]\n"
     ]
    },
    {
     "name": "stderr",
     "output_type": "stream",
     "text": [
      " 66%|██████▌   | 711/1074 [20:37<11:21,  1.88s/it]"
     ]
    },
    {
     "name": "stdout",
     "output_type": "stream",
     "text": [
      "0022000734\n",
      "[1610612753 1610612740]\n"
     ]
    },
    {
     "name": "stderr",
     "output_type": "stream",
     "text": [
      " 66%|██████▋   | 712/1074 [20:39<11:40,  1.93s/it]"
     ]
    },
    {
     "name": "stdout",
     "output_type": "stream",
     "text": [
      "0022000739\n",
      "[1610612742 1610612752]\n"
     ]
    },
    {
     "name": "stderr",
     "output_type": "stream",
     "text": [
      " 66%|██████▋   | 713/1074 [20:42<12:34,  2.09s/it]"
     ]
    },
    {
     "name": "stdout",
     "output_type": "stream",
     "text": [
      "0022000744\n",
      "[1610612760 1610612756]\n"
     ]
    },
    {
     "name": "stderr",
     "output_type": "stream",
     "text": [
      " 66%|██████▋   | 714/1074 [20:43<10:40,  1.78s/it]"
     ]
    },
    {
     "name": "stdout",
     "output_type": "stream",
     "text": [
      "0022000738\n",
      "[1610612745 1610612738]\n"
     ]
    },
    {
     "name": "stderr",
     "output_type": "stream",
     "text": [
      " 67%|██████▋   | 715/1074 [20:45<11:11,  1.87s/it]"
     ]
    },
    {
     "name": "stdout",
     "output_type": "stream",
     "text": [
      "0022000745\n",
      "[1610612749 1610612757]\n"
     ]
    },
    {
     "name": "stderr",
     "output_type": "stream",
     "text": [
      " 67%|██████▋   | 716/1074 [20:47<11:41,  1.96s/it]"
     ]
    },
    {
     "name": "stdout",
     "output_type": "stream",
     "text": [
      "0022000740\n",
      "[1610612766 1610612754]\n"
     ]
    },
    {
     "name": "stderr",
     "output_type": "stream",
     "text": [
      " 67%|██████▋   | 717/1074 [20:48<09:58,  1.68s/it]"
     ]
    },
    {
     "name": "stdout",
     "output_type": "stream",
     "text": [
      "0022000743\n",
      "[1610612741 1610612762]\n"
     ]
    },
    {
     "name": "stderr",
     "output_type": "stream",
     "text": [
      " 67%|██████▋   | 718/1074 [20:50<11:15,  1.90s/it]"
     ]
    },
    {
     "name": "stdout",
     "output_type": "stream",
     "text": [
      "0022000746\n",
      "[1610612747 1610612758]\n"
     ]
    },
    {
     "name": "stderr",
     "output_type": "stream",
     "text": [
      " 67%|██████▋   | 719/1074 [20:53<12:09,  2.05s/it]"
     ]
    },
    {
     "name": "stdout",
     "output_type": "stream",
     "text": [
      "0022000737\n",
      "[1610612744 1610612761]\n"
     ]
    },
    {
     "name": "stderr",
     "output_type": "stream",
     "text": [
      " 67%|██████▋   | 720/1074 [20:55<12:44,  2.16s/it]"
     ]
    },
    {
     "name": "stdout",
     "output_type": "stream",
     "text": [
      "0022000741\n",
      "[1610612750 1610612763]\n"
     ]
    },
    {
     "name": "stderr",
     "output_type": "stream",
     "text": [
      " 67%|██████▋   | 721/1074 [20:56<10:48,  1.84s/it]"
     ]
    },
    {
     "name": "stdout",
     "output_type": "stream",
     "text": [
      "0022000742\n",
      "[1610612737 1610612740]\n"
     ]
    },
    {
     "name": "stderr",
     "output_type": "stream",
     "text": [
      " 67%|██████▋   | 722/1074 [20:58<11:15,  1.92s/it]"
     ]
    },
    {
     "name": "stdout",
     "output_type": "stream",
     "text": [
      "0022000750\n",
      "[1610612750 1610612755]\n"
     ]
    },
    {
     "name": "stderr",
     "output_type": "stream",
     "text": [
      " 67%|██████▋   | 723/1074 [20:59<09:42,  1.66s/it]"
     ]
    },
    {
     "name": "stdout",
     "output_type": "stream",
     "text": [
      "0022000751\n",
      "[1610612754 1610612759]\n"
     ]
    },
    {
     "name": "stderr",
     "output_type": "stream",
     "text": [
      " 67%|██████▋   | 724/1074 [21:01<10:24,  1.78s/it]"
     ]
    },
    {
     "name": "stdout",
     "output_type": "stream",
     "text": [
      "0022000749\n",
      "[1610612739 1610612748]\n"
     ]
    },
    {
     "name": "stderr",
     "output_type": "stream",
     "text": [
      " 68%|██████▊   | 725/1074 [21:02<09:04,  1.56s/it]"
     ]
    },
    {
     "name": "stdout",
     "output_type": "stream",
     "text": [
      "0022000748\n",
      "[1610612752 1610612765]\n"
     ]
    },
    {
     "name": "stderr",
     "output_type": "stream",
     "text": [
      " 68%|██████▊   | 726/1074 [21:05<09:55,  1.71s/it]"
     ]
    },
    {
     "name": "stdout",
     "output_type": "stream",
     "text": [
      "0022000753\n",
      "[1610612760 1610612757]\n"
     ]
    },
    {
     "name": "stderr",
     "output_type": "stream",
     "text": [
      " 68%|██████▊   | 727/1074 [21:06<08:48,  1.52s/it]"
     ]
    },
    {
     "name": "stdout",
     "output_type": "stream",
     "text": [
      "0022000752\n",
      "[1610612753 1610612762]\n"
     ]
    },
    {
     "name": "stderr",
     "output_type": "stream",
     "text": [
      " 68%|██████▊   | 728/1074 [21:07<07:55,  1.38s/it]"
     ]
    },
    {
     "name": "stdout",
     "output_type": "stream",
     "text": [
      "0022000754\n",
      "[1610612749 1610612758]\n"
     ]
    },
    {
     "name": "stderr",
     "output_type": "stream",
     "text": [
      " 68%|██████▊   | 729/1074 [21:09<09:31,  1.66s/it]"
     ]
    },
    {
     "name": "stdout",
     "output_type": "stream",
     "text": [
      "0022000747\n",
      "[1610612742 1610612764]\n"
     ]
    },
    {
     "name": "stderr",
     "output_type": "stream",
     "text": [
      " 68%|██████▊   | 730/1074 [21:10<08:23,  1.47s/it]"
     ]
    },
    {
     "name": "stdout",
     "output_type": "stream",
     "text": [
      "0022000758\n",
      "[1610612763 1610612755]\n"
     ]
    },
    {
     "name": "stderr",
     "output_type": "stream",
     "text": [
      " 68%|██████▊   | 731/1074 [21:12<10:04,  1.76s/it]"
     ]
    },
    {
     "name": "stdout",
     "output_type": "stream",
     "text": [
      "0022000755\n",
      "[1610612751 1610612741]\n"
     ]
    },
    {
     "name": "stderr",
     "output_type": "stream",
     "text": [
      " 68%|██████▊   | 732/1074 [21:15<11:11,  1.96s/it]"
     ]
    },
    {
     "name": "stdout",
     "output_type": "stream",
     "text": [
      "0022000757\n",
      "[1610612766 1610612738]\n"
     ]
    },
    {
     "name": "stderr",
     "output_type": "stream",
     "text": [
      " 68%|██████▊   | 733/1074 [21:17<11:21,  2.00s/it]"
     ]
    },
    {
     "name": "stdout",
     "output_type": "stream",
     "text": [
      "0022000756\n",
      "[1610612747 1610612746]\n"
     ]
    },
    {
     "name": "stderr",
     "output_type": "stream",
     "text": [
      " 68%|██████▊   | 734/1074 [21:18<09:44,  1.72s/it]"
     ]
    },
    {
     "name": "stdout",
     "output_type": "stream",
     "text": [
      "0022000760\n",
      "[1610612740 1610612745]\n"
     ]
    },
    {
     "name": "stderr",
     "output_type": "stream",
     "text": [
      " 68%|██████▊   | 735/1074 [21:19<08:35,  1.52s/it]"
     ]
    },
    {
     "name": "stdout",
     "output_type": "stream",
     "text": [
      "0022000759\n",
      "[1610612744 1610612737]\n"
     ]
    },
    {
     "name": "stderr",
     "output_type": "stream",
     "text": [
      " 69%|██████▊   | 736/1074 [21:21<09:28,  1.68s/it]"
     ]
    },
    {
     "name": "stdout",
     "output_type": "stream",
     "text": [
      "0022000761\n",
      "[1610612753 1610612743]\n"
     ]
    },
    {
     "name": "stderr",
     "output_type": "stream",
     "text": [
      " 69%|██████▊   | 737/1074 [21:22<08:26,  1.50s/it]"
     ]
    },
    {
     "name": "stdout",
     "output_type": "stream",
     "text": [
      "0022000767\n",
      "[1610612739 1610612759]\n"
     ]
    },
    {
     "name": "stderr",
     "output_type": "stream",
     "text": [
      " 69%|██████▊   | 738/1074 [21:23<07:48,  1.40s/it]"
     ]
    },
    {
     "name": "stdout",
     "output_type": "stream",
     "text": [
      "0022000762\n",
      "[1610612752 1610612751]\n"
     ]
    },
    {
     "name": "stderr",
     "output_type": "stream",
     "text": [
      " 69%|██████▉   | 739/1074 [21:25<08:58,  1.61s/it]"
     ]
    },
    {
     "name": "stdout",
     "output_type": "stream",
     "text": [
      "0022000768\n",
      "[1610612756 1610612745]\n"
     ]
    },
    {
     "name": "stderr",
     "output_type": "stream",
     "text": [
      " 69%|██████▉   | 740/1074 [21:27<08:01,  1.44s/it]"
     ]
    },
    {
     "name": "stdout",
     "output_type": "stream",
     "text": [
      "0022000765\n",
      "[1610612758 1610612750]\n"
     ]
    },
    {
     "name": "stderr",
     "output_type": "stream",
     "text": [
      " 69%|██████▉   | 741/1074 [21:29<09:05,  1.64s/it]"
     ]
    },
    {
     "name": "stdout",
     "output_type": "stream",
     "text": [
      "0022000763\n",
      "[1610612764 1610612761]\n"
     ]
    },
    {
     "name": "stderr",
     "output_type": "stream",
     "text": [
      " 69%|██████▉   | 742/1074 [21:30<08:03,  1.46s/it]"
     ]
    },
    {
     "name": "stdout",
     "output_type": "stream",
     "text": [
      "0022000766\n",
      "[1610612765 1610612760]\n"
     ]
    },
    {
     "name": "stderr",
     "output_type": "stream",
     "text": [
      " 69%|██████▉   | 743/1074 [21:31<07:20,  1.33s/it]"
     ]
    },
    {
     "name": "stdout",
     "output_type": "stream",
     "text": [
      "0022000774\n",
      "[1610612749 1610612744]\n"
     ]
    },
    {
     "name": "stderr",
     "output_type": "stream",
     "text": [
      " 69%|██████▉   | 744/1074 [21:33<08:32,  1.55s/it]"
     ]
    },
    {
     "name": "stdout",
     "output_type": "stream",
     "text": [
      "0022000771\n",
      "[1610612755 1610612738]\n"
     ]
    },
    {
     "name": "stderr",
     "output_type": "stream",
     "text": [
      " 69%|██████▉   | 745/1074 [21:34<07:41,  1.40s/it]"
     ]
    },
    {
     "name": "stdout",
     "output_type": "stream",
     "text": [
      "0022000775\n",
      "[1610612757 1610612746]\n"
     ]
    },
    {
     "name": "stderr",
     "output_type": "stream",
     "text": [
      " 69%|██████▉   | 746/1074 [21:35<07:04,  1.29s/it]"
     ]
    },
    {
     "name": "stdout",
     "output_type": "stream",
     "text": [
      "0022000773\n",
      "[1610612763 1610612748]\n"
     ]
    },
    {
     "name": "stderr",
     "output_type": "stream",
     "text": [
      " 70%|██████▉   | 747/1074 [21:37<08:51,  1.62s/it]"
     ]
    },
    {
     "name": "stdout",
     "output_type": "stream",
     "text": [
      "0022000769\n",
      "[1610612741 1610612754]\n"
     ]
    },
    {
     "name": "stderr",
     "output_type": "stream",
     "text": [
      " 70%|██████▉   | 748/1074 [21:38<07:51,  1.45s/it]"
     ]
    },
    {
     "name": "stdout",
     "output_type": "stream",
     "text": [
      "0022000770\n",
      "[1610612740 1610612737]\n"
     ]
    },
    {
     "name": "stderr",
     "output_type": "stream",
     "text": [
      " 70%|██████▉   | 749/1074 [21:39<07:12,  1.33s/it]"
     ]
    },
    {
     "name": "stdout",
     "output_type": "stream",
     "text": [
      "0022000321\n",
      "[1610612765 1610612743]\n"
     ]
    },
    {
     "name": "stderr",
     "output_type": "stream",
     "text": [
      " 70%|██████▉   | 750/1074 [21:42<08:47,  1.63s/it]"
     ]
    },
    {
     "name": "stdout",
     "output_type": "stream",
     "text": [
      "0022000772\n",
      "[1610612747 1610612761]\n"
     ]
    },
    {
     "name": "stderr",
     "output_type": "stream",
     "text": [
      " 70%|██████▉   | 751/1074 [21:43<07:49,  1.45s/it]"
     ]
    },
    {
     "name": "stdout",
     "output_type": "stream",
     "text": [
      "0022000783\n",
      "[1610612762 1610612756]\n"
     ]
    },
    {
     "name": "stderr",
     "output_type": "stream",
     "text": [
      " 70%|███████   | 752/1074 [21:45<08:50,  1.65s/it]"
     ]
    },
    {
     "name": "stdout",
     "output_type": "stream",
     "text": [
      "0022000779\n",
      "[1610612740 1610612751]\n"
     ]
    },
    {
     "name": "stderr",
     "output_type": "stream",
     "text": [
      " 70%|███████   | 753/1074 [21:47<09:43,  1.82s/it]"
     ]
    },
    {
     "name": "stdout",
     "output_type": "stream",
     "text": [
      "0022000778\n",
      "[1610612752 1610612738]\n"
     ]
    },
    {
     "name": "stderr",
     "output_type": "stream",
     "text": [
      " 70%|███████   | 754/1074 [21:49<10:09,  1.91s/it]"
     ]
    },
    {
     "name": "stdout",
     "output_type": "stream",
     "text": [
      "0022000777\n",
      "[1610612764 1610612753]\n"
     ]
    },
    {
     "name": "stderr",
     "output_type": "stream",
     "text": [
      " 70%|███████   | 755/1074 [21:52<10:57,  2.06s/it]"
     ]
    },
    {
     "name": "stdout",
     "output_type": "stream",
     "text": [
      "0022000456\n",
      "[1610612742 1610612745]\n"
     ]
    },
    {
     "name": "stderr",
     "output_type": "stream",
     "text": [
      " 70%|███████   | 756/1074 [21:53<09:21,  1.77s/it]"
     ]
    },
    {
     "name": "stdout",
     "output_type": "stream",
     "text": [
      "0022000780\n",
      "[1610612763 1610612737]\n"
     ]
    },
    {
     "name": "stderr",
     "output_type": "stream",
     "text": [
      " 70%|███████   | 757/1074 [21:55<09:58,  1.89s/it]"
     ]
    },
    {
     "name": "stdout",
     "output_type": "stream",
     "text": [
      "0022000776\n",
      "[1610612750 1610612754]\n"
     ]
    },
    {
     "name": "stderr",
     "output_type": "stream",
     "text": [
      " 71%|███████   | 758/1074 [21:59<13:34,  2.58s/it]"
     ]
    },
    {
     "name": "stdout",
     "output_type": "stream",
     "text": [
      "0022000782\n",
      "[1610612759 1610612743]\n"
     ]
    },
    {
     "name": "stderr",
     "output_type": "stream",
     "text": [
      " 71%|███████   | 759/1074 [22:01<12:44,  2.43s/it]"
     ]
    },
    {
     "name": "stdout",
     "output_type": "stream",
     "text": [
      "0022000781\n",
      "[1610612766 1610612760]\n"
     ]
    },
    {
     "name": "stderr",
     "output_type": "stream",
     "text": [
      " 71%|███████   | 760/1074 [22:02<10:46,  2.06s/it]"
     ]
    },
    {
     "name": "stdout",
     "output_type": "stream",
     "text": [
      "0022000788\n",
      "[1610612756 1610612746]\n"
     ]
    },
    {
     "name": "stderr",
     "output_type": "stream",
     "text": [
      " 71%|███████   | 761/1074 [22:04<10:55,  2.09s/it]"
     ]
    },
    {
     "name": "stdout",
     "output_type": "stream",
     "text": [
      "0022000784\n",
      "[1610612747 1610612748]\n"
     ]
    },
    {
     "name": "stderr",
     "output_type": "stream",
     "text": [
      " 71%|███████   | 762/1074 [22:05<09:08,  1.76s/it]"
     ]
    },
    {
     "name": "stdout",
     "output_type": "stream",
     "text": [
      "0022000787\n",
      "[1610612757 1610612762]\n"
     ]
    },
    {
     "name": "stderr",
     "output_type": "stream",
     "text": [
      " 71%|███████   | 763/1074 [22:08<09:46,  1.89s/it]"
     ]
    },
    {
     "name": "stdout",
     "output_type": "stream",
     "text": [
      "0022000786\n",
      "[1610612749 1610612742]\n"
     ]
    },
    {
     "name": "stderr",
     "output_type": "stream",
     "text": [
      " 71%|███████   | 764/1074 [22:09<08:31,  1.65s/it]"
     ]
    },
    {
     "name": "stdout",
     "output_type": "stream",
     "text": [
      "0022000789\n",
      "[1610612765 1610612758]\n"
     ]
    },
    {
     "name": "stderr",
     "output_type": "stream",
     "text": [
      " 71%|███████   | 765/1074 [22:11<09:36,  1.87s/it]"
     ]
    },
    {
     "name": "stdout",
     "output_type": "stream",
     "text": [
      "0022000523\n",
      "[1610612741 1610612761]\n"
     ]
    },
    {
     "name": "stderr",
     "output_type": "stream",
     "text": [
      " 71%|███████▏  | 766/1074 [22:15<12:47,  2.49s/it]"
     ]
    },
    {
     "name": "stdout",
     "output_type": "stream",
     "text": [
      "0022000785\n",
      "[1610612739 1610612760]\n"
     ]
    },
    {
     "name": "stderr",
     "output_type": "stream",
     "text": [
      " 71%|███████▏  | 767/1074 [22:18<13:02,  2.55s/it]"
     ]
    },
    {
     "name": "stdout",
     "output_type": "stream",
     "text": [
      "0022000798\n",
      "[1610612764 1610612744]\n"
     ]
    },
    {
     "name": "stderr",
     "output_type": "stream",
     "text": [
      " 72%|███████▏  | 768/1074 [22:22<15:10,  2.97s/it]"
     ]
    },
    {
     "name": "stdout",
     "output_type": "stream",
     "text": [
      "0022000793\n",
      "[1610612763 1610612752]\n"
     ]
    },
    {
     "name": "stderr",
     "output_type": "stream",
     "text": [
      " 72%|███████▏  | 769/1074 [22:23<12:12,  2.40s/it]"
     ]
    },
    {
     "name": "stdout",
     "output_type": "stream",
     "text": [
      "0022000792\n",
      "[1610612750 1610612738]\n"
     ]
    },
    {
     "name": "stderr",
     "output_type": "stream",
     "text": [
      " 72%|███████▏  | 770/1074 [22:24<10:01,  1.98s/it]"
     ]
    },
    {
     "name": "stdout",
     "output_type": "stream",
     "text": [
      "0022000799\n",
      "[1610612745 1610612746]\n"
     ]
    },
    {
     "name": "stderr",
     "output_type": "stream",
     "text": [
      " 72%|███████▏  | 771/1074 [22:26<10:08,  2.01s/it]"
     ]
    },
    {
     "name": "stdout",
     "output_type": "stream",
     "text": [
      "0022000790\n",
      "[1610612754 1610612753]\n"
     ]
    },
    {
     "name": "stderr",
     "output_type": "stream",
     "text": [
      " 72%|███████▏  | 772/1074 [22:28<10:12,  2.03s/it]"
     ]
    },
    {
     "name": "stdout",
     "output_type": "stream",
     "text": [
      "0022000796\n",
      "[1610612766 1610612749]\n"
     ]
    },
    {
     "name": "stderr",
     "output_type": "stream",
     "text": [
      " 72%|███████▏  | 773/1074 [22:30<10:42,  2.13s/it]"
     ]
    },
    {
     "name": "stdout",
     "output_type": "stream",
     "text": [
      "0022000791\n",
      "[1610612741 1610612737]\n"
     ]
    },
    {
     "name": "stderr",
     "output_type": "stream",
     "text": [
      " 72%|███████▏  | 774/1074 [22:32<10:38,  2.13s/it]"
     ]
    },
    {
     "name": "stdout",
     "output_type": "stream",
     "text": [
      "0022000797\n",
      "[1610612759 1610612743]\n"
     ]
    },
    {
     "name": "stderr",
     "output_type": "stream",
     "text": [
      " 72%|███████▏  | 775/1074 [22:33<08:58,  1.80s/it]"
     ]
    },
    {
     "name": "stdout",
     "output_type": "stream",
     "text": [
      "0022000802\n",
      "[1610612745 1610612744]\n"
     ]
    },
    {
     "name": "stderr",
     "output_type": "stream",
     "text": [
      " 72%|███████▏  | 776/1074 [22:34<07:46,  1.56s/it]"
     ]
    },
    {
     "name": "stdout",
     "output_type": "stream",
     "text": [
      "0022000803\n",
      "[1610612764 1610612756]\n"
     ]
    },
    {
     "name": "stderr",
     "output_type": "stream",
     "text": [
      " 72%|███████▏  | 777/1074 [22:35<06:56,  1.40s/it]"
     ]
    },
    {
     "name": "stdout",
     "output_type": "stream",
     "text": [
      "0022000800\n",
      "[1610612747 1610612751]\n"
     ]
    },
    {
     "name": "stderr",
     "output_type": "stream",
     "text": [
      " 72%|███████▏  | 778/1074 [22:38<07:52,  1.60s/it]"
     ]
    },
    {
     "name": "stdout",
     "output_type": "stream",
     "text": [
      "0022000794\n",
      "[1610612761 1610612739]\n"
     ]
    },
    {
     "name": "stderr",
     "output_type": "stream",
     "text": [
      " 73%|███████▎  | 779/1074 [22:39<06:58,  1.42s/it]"
     ]
    },
    {
     "name": "stdout",
     "output_type": "stream",
     "text": [
      "0022000804\n",
      "[1610612765 1610612757]\n"
     ]
    },
    {
     "name": "stderr",
     "output_type": "stream",
     "text": [
      " 73%|███████▎  | 780/1074 [22:41<07:54,  1.61s/it]"
     ]
    },
    {
     "name": "stdout",
     "output_type": "stream",
     "text": [
      "0022000801\n",
      "[1610612758 1610612762]\n"
     ]
    },
    {
     "name": "stderr",
     "output_type": "stream",
     "text": [
      " 73%|███████▎  | 781/1074 [22:43<09:00,  1.85s/it]"
     ]
    },
    {
     "name": "stdout",
     "output_type": "stream",
     "text": [
      "0022000199\n",
      "[1610612755 1610612760]\n"
     ]
    },
    {
     "name": "stderr",
     "output_type": "stream",
     "text": [
      " 73%|███████▎  | 782/1074 [22:45<09:16,  1.91s/it]"
     ]
    },
    {
     "name": "stdout",
     "output_type": "stream",
     "text": [
      "0022000809\n",
      "[1610612761 1610612752]\n"
     ]
    },
    {
     "name": "stderr",
     "output_type": "stream",
     "text": [
      " 73%|███████▎  | 783/1074 [22:47<09:27,  1.95s/it]"
     ]
    },
    {
     "name": "stdout",
     "output_type": "stream",
     "text": [
      "0022000813\n",
      "[1610612765 1610612746]\n"
     ]
    },
    {
     "name": "stderr",
     "output_type": "stream",
     "text": [
      " 73%|███████▎  | 784/1074 [22:49<09:36,  1.99s/it]"
     ]
    },
    {
     "name": "stdout",
     "output_type": "stream",
     "text": [
      "0022000808\n",
      "[1610612749 1610612753]\n"
     ]
    },
    {
     "name": "stderr",
     "output_type": "stream",
     "text": [
      " 73%|███████▎  | 785/1074 [22:50<08:11,  1.70s/it]"
     ]
    },
    {
     "name": "stdout",
     "output_type": "stream",
     "text": [
      "0022000807\n",
      "[1610612740 1610612739]\n"
     ]
    },
    {
     "name": "stderr",
     "output_type": "stream",
     "text": [
      " 73%|███████▎  | 786/1074 [22:51<07:10,  1.49s/it]"
     ]
    },
    {
     "name": "stdout",
     "output_type": "stream",
     "text": [
      "0022000814\n",
      "[1610612748 1610612757]\n"
     ]
    },
    {
     "name": "stderr",
     "output_type": "stream",
     "text": [
      " 73%|███████▎  | 787/1074 [22:54<08:26,  1.76s/it]"
     ]
    },
    {
     "name": "stdout",
     "output_type": "stream",
     "text": [
      "0022000810\n",
      "[1610612759 1610612742]\n"
     ]
    },
    {
     "name": "stderr",
     "output_type": "stream",
     "text": [
      " 73%|███████▎  | 788/1074 [22:56<08:54,  1.87s/it]"
     ]
    },
    {
     "name": "stdout",
     "output_type": "stream",
     "text": [
      "0022000806\n",
      "[1610612738 1610612743]\n"
     ]
    },
    {
     "name": "stderr",
     "output_type": "stream",
     "text": [
      " 73%|███████▎  | 789/1074 [22:58<09:30,  2.00s/it]"
     ]
    },
    {
     "name": "stdout",
     "output_type": "stream",
     "text": [
      "0022000812\n",
      "[1610612741 1610612750]\n"
     ]
    },
    {
     "name": "stderr",
     "output_type": "stream",
     "text": [
      " 74%|███████▎  | 790/1074 [23:00<09:38,  2.04s/it]"
     ]
    },
    {
     "name": "stdout",
     "output_type": "stream",
     "text": [
      "0022000805\n",
      "[1610612737 1610612766]\n"
     ]
    },
    {
     "name": "stderr",
     "output_type": "stream",
     "text": [
      " 74%|███████▎  | 791/1074 [23:01<08:10,  1.73s/it]"
     ]
    },
    {
     "name": "stdout",
     "output_type": "stream",
     "text": [
      "0022000811\n",
      "[1610612754 1610612763]\n"
     ]
    },
    {
     "name": "stderr",
     "output_type": "stream",
     "text": [
      " 74%|███████▎  | 792/1074 [23:02<07:08,  1.52s/it]"
     ]
    },
    {
     "name": "stdout",
     "output_type": "stream",
     "text": [
      "0022000821\n",
      "[1610612743 1610612744]\n"
     ]
    },
    {
     "name": "stderr",
     "output_type": "stream",
     "text": [
      " 74%|███████▍  | 793/1074 [23:03<06:23,  1.37s/it]"
     ]
    },
    {
     "name": "stdout",
     "output_type": "stream",
     "text": [
      "0022000815\n",
      "[1610612747 1610612752]\n"
     ]
    },
    {
     "name": "stderr",
     "output_type": "stream",
     "text": [
      " 74%|███████▍  | 794/1074 [23:05<07:25,  1.59s/it]"
     ]
    },
    {
     "name": "stdout",
     "output_type": "stream",
     "text": [
      "0022000822\n",
      "[1610612745 1610612756]\n"
     ]
    },
    {
     "name": "stderr",
     "output_type": "stream",
     "text": [
      " 74%|███████▍  | 795/1074 [23:06<06:37,  1.42s/it]"
     ]
    },
    {
     "name": "stdout",
     "output_type": "stream",
     "text": [
      "0022000816\n",
      "[1610612759 1610612753]\n"
     ]
    },
    {
     "name": "stderr",
     "output_type": "stream",
     "text": [
      " 74%|███████▍  | 796/1074 [23:09<07:56,  1.71s/it]"
     ]
    },
    {
     "name": "stdout",
     "output_type": "stream",
     "text": [
      "0022000820\n",
      "[1610612764 1610612762]\n"
     ]
    },
    {
     "name": "stderr",
     "output_type": "stream",
     "text": [
      " 74%|███████▍  | 797/1074 [23:11<08:53,  1.93s/it]"
     ]
    },
    {
     "name": "stdout",
     "output_type": "stream",
     "text": [
      "0022000818\n",
      "[1610612755 1610612742]\n"
     ]
    },
    {
     "name": "stderr",
     "output_type": "stream",
     "text": [
      " 74%|███████▍  | 798/1074 [23:12<07:37,  1.66s/it]"
     ]
    },
    {
     "name": "stdout",
     "output_type": "stream",
     "text": [
      "0022000278\n",
      "[1610612741 1610612763]\n"
     ]
    },
    {
     "name": "stderr",
     "output_type": "stream",
     "text": [
      " 74%|███████▍  | 799/1074 [23:15<08:41,  1.90s/it]"
     ]
    },
    {
     "name": "stdout",
     "output_type": "stream",
     "text": [
      "0022000819\n",
      "[1610612758 1610612740]\n"
     ]
    },
    {
     "name": "stderr",
     "output_type": "stream",
     "text": [
      " 74%|███████▍  | 800/1074 [23:17<09:22,  2.05s/it]"
     ]
    },
    {
     "name": "stdout",
     "output_type": "stream",
     "text": [
      "0022000827\n",
      "[1610612748 1610612756]\n"
     ]
    },
    {
     "name": "stderr",
     "output_type": "stream",
     "text": [
      " 75%|███████▍  | 801/1074 [23:18<08:01,  1.76s/it]"
     ]
    },
    {
     "name": "stdout",
     "output_type": "stream",
     "text": [
      "0022000828\n",
      "[1610612738 1610612757]\n"
     ]
    },
    {
     "name": "stderr",
     "output_type": "stream",
     "text": [
      " 75%|███████▍  | 802/1074 [23:19<06:56,  1.53s/it]"
     ]
    },
    {
     "name": "stdout",
     "output_type": "stream",
     "text": [
      "0022000826\n",
      "[1610612760 1610612762]\n"
     ]
    },
    {
     "name": "stderr",
     "output_type": "stream",
     "text": [
      " 75%|███████▍  | 803/1074 [23:21<08:00,  1.77s/it]"
     ]
    },
    {
     "name": "stdout",
     "output_type": "stream",
     "text": [
      "0022000823\n",
      "[1610612746 1610612754]\n"
     ]
    },
    {
     "name": "stderr",
     "output_type": "stream",
     "text": [
      " 75%|███████▍  | 804/1074 [23:22<06:57,  1.54s/it]"
     ]
    },
    {
     "name": "stdout",
     "output_type": "stream",
     "text": [
      "0022000817\n",
      "[1610612751 1610612750]\n"
     ]
    },
    {
     "name": "stderr",
     "output_type": "stream",
     "text": [
      " 75%|███████▍  | 805/1074 [23:25<07:57,  1.77s/it]"
     ]
    },
    {
     "name": "stdout",
     "output_type": "stream",
     "text": [
      "0022000825\n",
      "[1610612747 1610612766]\n"
     ]
    },
    {
     "name": "stderr",
     "output_type": "stream",
     "text": [
      " 75%|███████▌  | 806/1074 [23:27<08:23,  1.88s/it]"
     ]
    },
    {
     "name": "stdout",
     "output_type": "stream",
     "text": [
      "0022000824\n",
      "[1610612737 1610612761]\n"
     ]
    },
    {
     "name": "stderr",
     "output_type": "stream",
     "text": [
      " 75%|███████▌  | 807/1074 [23:29<08:36,  1.94s/it]"
     ]
    },
    {
     "name": "stdout",
     "output_type": "stream",
     "text": [
      "0022000830\n",
      "[1610612751 1610612755]\n"
     ]
    },
    {
     "name": "stderr",
     "output_type": "stream",
     "text": [
      " 75%|███████▌  | 808/1074 [23:30<07:19,  1.65s/it]"
     ]
    },
    {
     "name": "stdout",
     "output_type": "stream",
     "text": [
      "0022000833\n",
      "[1610612753 1610612741]\n"
     ]
    },
    {
     "name": "stderr",
     "output_type": "stream",
     "text": [
      " 75%|███████▌  | 809/1074 [23:32<07:48,  1.77s/it]"
     ]
    },
    {
     "name": "stdout",
     "output_type": "stream",
     "text": [
      "0022000461\n",
      "[1610612754 1610612745]\n"
     ]
    },
    {
     "name": "stderr",
     "output_type": "stream",
     "text": [
      " 75%|███████▌  | 810/1074 [23:34<08:33,  1.94s/it]"
     ]
    },
    {
     "name": "stdout",
     "output_type": "stream",
     "text": [
      "0022000832\n",
      "[1610612746 1610612765]\n"
     ]
    },
    {
     "name": "stderr",
     "output_type": "stream",
     "text": [
      " 76%|███████▌  | 811/1074 [23:37<08:59,  2.05s/it]"
     ]
    },
    {
     "name": "stdout",
     "output_type": "stream",
     "text": [
      "0022000839\n",
      "[1610612764 1610612758]\n"
     ]
    },
    {
     "name": "stderr",
     "output_type": "stream",
     "text": [
      " 76%|███████▌  | 812/1074 [23:38<07:35,  1.74s/it]"
     ]
    },
    {
     "name": "stdout",
     "output_type": "stream",
     "text": [
      "0022000838\n",
      "[1610612748 1610612743]\n"
     ]
    },
    {
     "name": "stderr",
     "output_type": "stream",
     "text": [
      " 76%|███████▌  | 813/1074 [23:39<06:38,  1.53s/it]"
     ]
    },
    {
     "name": "stdout",
     "output_type": "stream",
     "text": [
      "0022000834\n",
      "[1610612749 1610612750]\n"
     ]
    },
    {
     "name": "stderr",
     "output_type": "stream",
     "text": [
      " 76%|███████▌  | 814/1074 [23:41<07:17,  1.68s/it]"
     ]
    },
    {
     "name": "stdout",
     "output_type": "stream",
     "text": [
      "0022000829\n",
      "[1610612739 1610612766]\n"
     ]
    },
    {
     "name": "stderr",
     "output_type": "stream",
     "text": [
      " 76%|███████▌  | 815/1074 [23:43<08:10,  1.89s/it]"
     ]
    },
    {
     "name": "stdout",
     "output_type": "stream",
     "text": [
      "0022000831\n",
      "[1610612759 1610612761]\n"
     ]
    },
    {
     "name": "stderr",
     "output_type": "stream",
     "text": [
      " 76%|███████▌  | 816/1074 [23:46<09:26,  2.20s/it]"
     ]
    },
    {
     "name": "stdout",
     "output_type": "stream",
     "text": [
      "0022000836\n",
      "[1610612744 1610612760]\n"
     ]
    },
    {
     "name": "stderr",
     "output_type": "stream",
     "text": [
      " 76%|███████▌  | 817/1074 [23:48<09:39,  2.25s/it]"
     ]
    },
    {
     "name": "stdout",
     "output_type": "stream",
     "text": [
      "0022000835\n",
      "[1610612752 1610612740]\n"
     ]
    },
    {
     "name": "stderr",
     "output_type": "stream",
     "text": [
      " 76%|███████▌  | 818/1074 [23:49<08:02,  1.88s/it]"
     ]
    },
    {
     "name": "stdout",
     "output_type": "stream",
     "text": [
      "0022000842\n",
      "[1610612738 1610612747]\n"
     ]
    },
    {
     "name": "stderr",
     "output_type": "stream",
     "text": [
      " 76%|███████▋  | 819/1074 [23:52<08:55,  2.10s/it]"
     ]
    },
    {
     "name": "stdout",
     "output_type": "stream",
     "text": [
      "0022000843\n",
      "[1610612758 1610612756]\n"
     ]
    },
    {
     "name": "stderr",
     "output_type": "stream",
     "text": [
      " 76%|███████▋  | 820/1074 [23:53<07:32,  1.78s/it]"
     ]
    },
    {
     "name": "stdout",
     "output_type": "stream",
     "text": [
      "0022000841\n",
      "[1610612744 1610612739]\n"
     ]
    },
    {
     "name": "stderr",
     "output_type": "stream",
     "text": [
      " 76%|███████▋  | 821/1074 [23:54<06:33,  1.55s/it]"
     ]
    },
    {
     "name": "stdout",
     "output_type": "stream",
     "text": [
      "0022000840\n",
      "[1610612749 1610612737]\n"
     ]
    },
    {
     "name": "stderr",
     "output_type": "stream",
     "text": [
      " 77%|███████▋  | 822/1074 [23:57<07:36,  1.81s/it]"
     ]
    },
    {
     "name": "stdout",
     "output_type": "stream",
     "text": [
      "0022000846\n",
      "[1610612746 1610612755]\n"
     ]
    },
    {
     "name": "stderr",
     "output_type": "stream",
     "text": [
      " 77%|███████▋  | 823/1074 [23:59<08:15,  1.98s/it]"
     ]
    },
    {
     "name": "stdout",
     "output_type": "stream",
     "text": [
      "0022000853\n",
      "[1610612757 1610612759]\n"
     ]
    },
    {
     "name": "stderr",
     "output_type": "stream",
     "text": [
      " 77%|███████▋  | 824/1074 [24:01<08:26,  2.03s/it]"
     ]
    },
    {
     "name": "stdout",
     "output_type": "stream",
     "text": [
      "0022000850\n",
      "[1610612763 1610612741]\n"
     ]
    },
    {
     "name": "stderr",
     "output_type": "stream",
     "text": [
      " 77%|███████▋  | 825/1074 [24:03<08:30,  2.05s/it]"
     ]
    },
    {
     "name": "stdout",
     "output_type": "stream",
     "text": [
      "0022000848\n",
      "[1610612766 1610612751]\n"
     ]
    },
    {
     "name": "stderr",
     "output_type": "stream",
     "text": [
      " 77%|███████▋  | 826/1074 [24:04<07:14,  1.75s/it]"
     ]
    },
    {
     "name": "stdout",
     "output_type": "stream",
     "text": [
      "0022000851\n",
      "[1610612743 1610612745]\n"
     ]
    },
    {
     "name": "stderr",
     "output_type": "stream",
     "text": [
      " 77%|███████▋  | 827/1074 [24:05<06:18,  1.53s/it]"
     ]
    },
    {
     "name": "stdout",
     "output_type": "stream",
     "text": [
      "0022000845\n",
      "[1610612760 1610612765]\n"
     ]
    },
    {
     "name": "stderr",
     "output_type": "stream",
     "text": [
      " 77%|███████▋  | 828/1074 [24:07<06:58,  1.70s/it]"
     ]
    },
    {
     "name": "stdout",
     "output_type": "stream",
     "text": [
      "0022000844\n",
      "[1610612754 1610612762]\n"
     ]
    },
    {
     "name": "stderr",
     "output_type": "stream",
     "text": [
      " 77%|███████▋  | 829/1074 [24:08<06:07,  1.50s/it]"
     ]
    },
    {
     "name": "stdout",
     "output_type": "stream",
     "text": [
      "0022000854\n",
      "[1610612752 1610612742]\n"
     ]
    },
    {
     "name": "stderr",
     "output_type": "stream",
     "text": [
      " 77%|███████▋  | 830/1074 [24:11<07:13,  1.78s/it]"
     ]
    },
    {
     "name": "stdout",
     "output_type": "stream",
     "text": [
      "0022000852\n",
      "[1610612748 1610612750]\n"
     ]
    },
    {
     "name": "stderr",
     "output_type": "stream",
     "text": [
      " 77%|███████▋  | 831/1074 [24:14<09:22,  2.31s/it]"
     ]
    },
    {
     "name": "stdout",
     "output_type": "stream",
     "text": [
      "0022000847\n",
      "[1610612740 1610612764]\n"
     ]
    },
    {
     "name": "stderr",
     "output_type": "stream",
     "text": [
      " 77%|███████▋  | 832/1074 [24:16<09:07,  2.26s/it]"
     ]
    },
    {
     "name": "stdout",
     "output_type": "stream",
     "text": [
      "0022000855\n",
      "[1610612762 1610612747]\n"
     ]
    },
    {
     "name": "stderr",
     "output_type": "stream",
     "text": [
      " 78%|███████▊  | 833/1074 [24:19<08:54,  2.22s/it]"
     ]
    },
    {
     "name": "stdout",
     "output_type": "stream",
     "text": [
      "0022000857\n",
      "[1610612739 1610612741]\n"
     ]
    },
    {
     "name": "stderr",
     "output_type": "stream",
     "text": [
      " 78%|███████▊  | 834/1074 [24:21<09:03,  2.26s/it]"
     ]
    },
    {
     "name": "stdout",
     "output_type": "stream",
     "text": [
      "0022000860\n",
      "[1610612759 1610612756]\n"
     ]
    },
    {
     "name": "stderr",
     "output_type": "stream",
     "text": [
      " 78%|███████▊  | 835/1074 [24:23<08:47,  2.21s/it]"
     ]
    },
    {
     "name": "stdout",
     "output_type": "stream",
     "text": [
      "0022000858\n",
      "[1610612744 1610612738]\n"
     ]
    },
    {
     "name": "stderr",
     "output_type": "stream",
     "text": [
      " 78%|███████▊  | 836/1074 [24:25<08:35,  2.16s/it]"
     ]
    },
    {
     "name": "stdout",
     "output_type": "stream",
     "text": [
      "0022000859\n",
      "[1610612763 1610612749]\n"
     ]
    },
    {
     "name": "stderr",
     "output_type": "stream",
     "text": [
      " 78%|███████▊  | 837/1074 [24:28<08:51,  2.24s/it]"
     ]
    },
    {
     "name": "stdout",
     "output_type": "stream",
     "text": [
      "0022000856\n",
      "[1610612765 1610612764]\n"
     ]
    },
    {
     "name": "stderr",
     "output_type": "stream",
     "text": [
      " 78%|███████▊  | 838/1074 [24:29<07:24,  1.89s/it]"
     ]
    },
    {
     "name": "stdout",
     "output_type": "stream",
     "text": [
      "0022000862\n",
      "[1610612740 1610612752]\n"
     ]
    },
    {
     "name": "stderr",
     "output_type": "stream",
     "text": [
      " 78%|███████▊  | 839/1074 [24:30<06:23,  1.63s/it]"
     ]
    },
    {
     "name": "stdout",
     "output_type": "stream",
     "text": [
      "0022000867\n",
      "[1610612750 1610612746]\n"
     ]
    },
    {
     "name": "stderr",
     "output_type": "stream",
     "text": [
      " 78%|███████▊  | 840/1074 [24:32<06:53,  1.77s/it]"
     ]
    },
    {
     "name": "stdout",
     "output_type": "stream",
     "text": [
      "0022000864\n",
      "[1610612745 1610612753]\n"
     ]
    },
    {
     "name": "stderr",
     "output_type": "stream",
     "text": [
      " 78%|███████▊  | 841/1074 [24:34<07:32,  1.94s/it]"
     ]
    },
    {
     "name": "stdout",
     "output_type": "stream",
     "text": [
      "0022000863\n",
      "[1610612751 1610612748]\n"
     ]
    },
    {
     "name": "stderr",
     "output_type": "stream",
     "text": [
      " 78%|███████▊  | 842/1074 [24:36<07:39,  1.98s/it]"
     ]
    },
    {
     "name": "stdout",
     "output_type": "stream",
     "text": [
      "0022000866\n",
      "[1610612758 1610612742]\n"
     ]
    },
    {
     "name": "stderr",
     "output_type": "stream",
     "text": [
      " 78%|███████▊  | 843/1074 [24:39<08:12,  2.13s/it]"
     ]
    },
    {
     "name": "stdout",
     "output_type": "stream",
     "text": [
      "0022000362\n",
      "[1610612757 1610612766]\n"
     ]
    },
    {
     "name": "stderr",
     "output_type": "stream",
     "text": [
      " 79%|███████▊  | 844/1074 [24:41<08:09,  2.13s/it]"
     ]
    },
    {
     "name": "stdout",
     "output_type": "stream",
     "text": [
      "0022000865\n",
      "[1610612760 1610612761]\n"
     ]
    },
    {
     "name": "stderr",
     "output_type": "stream",
     "text": [
      " 79%|███████▊  | 845/1074 [24:43<08:15,  2.17s/it]"
     ]
    },
    {
     "name": "stdout",
     "output_type": "stream",
     "text": [
      "0022000870\n",
      "[1610612744 1610612755]\n"
     ]
    },
    {
     "name": "stderr",
     "output_type": "stream",
     "text": [
      " 79%|███████▉  | 846/1074 [24:45<08:09,  2.15s/it]"
     ]
    },
    {
     "name": "stdout",
     "output_type": "stream",
     "text": [
      "0022000875\n",
      "[1610612762 1610612747]\n"
     ]
    },
    {
     "name": "stderr",
     "output_type": "stream",
     "text": [
      " 79%|███████▉  | 847/1074 [24:46<06:52,  1.82s/it]"
     ]
    },
    {
     "name": "stdout",
     "output_type": "stream",
     "text": [
      "0022000869\n",
      "[1610612741 1610612738]\n"
     ]
    },
    {
     "name": "stderr",
     "output_type": "stream",
     "text": [
      " 79%|███████▉  | 848/1074 [24:47<05:56,  1.58s/it]"
     ]
    },
    {
     "name": "stdout",
     "output_type": "stream",
     "text": [
      "0022000871\n",
      "[1610612745 1610612748]\n"
     ]
    },
    {
     "name": "stderr",
     "output_type": "stream",
     "text": [
      " 79%|███████▉  | 849/1074 [24:49<06:24,  1.71s/it]"
     ]
    },
    {
     "name": "stdout",
     "output_type": "stream",
     "text": [
      "0022000868\n",
      "[1610612739 1610612765]\n"
     ]
    },
    {
     "name": "stderr",
     "output_type": "stream",
     "text": [
      " 79%|███████▉  | 850/1074 [24:52<07:08,  1.91s/it]"
     ]
    },
    {
     "name": "stdout",
     "output_type": "stream",
     "text": [
      "0022000873\n",
      "[1610612756 1610612749]\n"
     ]
    },
    {
     "name": "stderr",
     "output_type": "stream",
     "text": [
      " 79%|███████▉  | 851/1074 [24:54<07:36,  2.05s/it]"
     ]
    },
    {
     "name": "stdout",
     "output_type": "stream",
     "text": [
      "0022000473\n",
      "[1610612759 1610612754]\n"
     ]
    },
    {
     "name": "stderr",
     "output_type": "stream",
     "text": [
      " 79%|███████▉  | 852/1074 [24:56<08:00,  2.16s/it]"
     ]
    },
    {
     "name": "stdout",
     "output_type": "stream",
     "text": [
      "0022000874\n",
      "[1610612763 1610612743]\n"
     ]
    },
    {
     "name": "stderr",
     "output_type": "stream",
     "text": [
      " 79%|███████▉  | 853/1074 [24:57<06:43,  1.83s/it]"
     ]
    },
    {
     "name": "stdout",
     "output_type": "stream",
     "text": [
      "0022000872\n",
      "[1610612760 1610612764]\n"
     ]
    },
    {
     "name": "stderr",
     "output_type": "stream",
     "text": [
      " 80%|███████▉  | 854/1074 [25:00<07:18,  1.99s/it]"
     ]
    },
    {
     "name": "stdout",
     "output_type": "stream",
     "text": [
      "0022000877\n",
      "[1610612766 1610612752]\n"
     ]
    },
    {
     "name": "stderr",
     "output_type": "stream",
     "text": [
      " 80%|███████▉  | 855/1074 [25:02<07:40,  2.10s/it]"
     ]
    },
    {
     "name": "stdout",
     "output_type": "stream",
     "text": [
      "0022000879\n",
      "[1610612746 1610612757]\n"
     ]
    },
    {
     "name": "stderr",
     "output_type": "stream",
     "text": [
      " 80%|███████▉  | 856/1074 [25:04<07:56,  2.19s/it]"
     ]
    },
    {
     "name": "stdout",
     "output_type": "stream",
     "text": [
      "0022000876\n",
      "[1610612753 1610612737]\n"
     ]
    },
    {
     "name": "stderr",
     "output_type": "stream",
     "text": [
      " 80%|███████▉  | 857/1074 [25:07<07:44,  2.14s/it]"
     ]
    },
    {
     "name": "stdout",
     "output_type": "stream",
     "text": [
      "0022000880\n",
      "[1610612750 1610612758]\n"
     ]
    },
    {
     "name": "stderr",
     "output_type": "stream",
     "text": [
      " 80%|███████▉  | 858/1074 [25:08<06:30,  1.81s/it]"
     ]
    },
    {
     "name": "stdout",
     "output_type": "stream",
     "text": [
      "0022000878\n",
      "[1610612751 1610612740]\n"
     ]
    },
    {
     "name": "stderr",
     "output_type": "stream",
     "text": [
      " 80%|███████▉  | 859/1074 [25:09<05:37,  1.57s/it]"
     ]
    },
    {
     "name": "stdout",
     "output_type": "stream",
     "text": [
      "0022000883\n",
      "[1610612756 1610612755]\n"
     ]
    },
    {
     "name": "stderr",
     "output_type": "stream",
     "text": [
      " 80%|████████  | 860/1074 [25:10<05:02,  1.41s/it]"
     ]
    },
    {
     "name": "stdout",
     "output_type": "stream",
     "text": [
      "0022000888\n",
      "[1610612748 1610612759]\n"
     ]
    },
    {
     "name": "stderr",
     "output_type": "stream",
     "text": [
      " 80%|████████  | 861/1074 [25:11<04:36,  1.30s/it]"
     ]
    },
    {
     "name": "stdout",
     "output_type": "stream",
     "text": [
      "0022000886\n",
      "[1610612737 1610612752]\n"
     ]
    },
    {
     "name": "stderr",
     "output_type": "stream",
     "text": [
      " 80%|████████  | 862/1074 [25:12<04:18,  1.22s/it]"
     ]
    },
    {
     "name": "stdout",
     "output_type": "stream",
     "text": [
      "0022000889\n",
      "[1610612763 1610612746]\n"
     ]
    },
    {
     "name": "stderr",
     "output_type": "stream",
     "text": [
      " 80%|████████  | 863/1074 [25:14<05:12,  1.48s/it]"
     ]
    },
    {
     "name": "stdout",
     "output_type": "stream",
     "text": [
      "0022000887\n",
      "[1610612762 1610612745]\n"
     ]
    },
    {
     "name": "stderr",
     "output_type": "stream",
     "text": [
      " 80%|████████  | 864/1074 [25:15<04:44,  1.36s/it]"
     ]
    },
    {
     "name": "stdout",
     "output_type": "stream",
     "text": [
      "0022000881\n",
      "[1610612741 1610612739]\n"
     ]
    },
    {
     "name": "stderr",
     "output_type": "stream",
     "text": [
      " 81%|████████  | 865/1074 [25:17<05:49,  1.67s/it]"
     ]
    },
    {
     "name": "stdout",
     "output_type": "stream",
     "text": [
      "0022000890\n",
      "[1610612743 1610612757]\n"
     ]
    },
    {
     "name": "stderr",
     "output_type": "stream",
     "text": [
      " 81%|████████  | 866/1074 [25:19<06:13,  1.80s/it]"
     ]
    },
    {
     "name": "stdout",
     "output_type": "stream",
     "text": [
      "0022000882\n",
      "[1610612760 1610612754]\n"
     ]
    },
    {
     "name": "stderr",
     "output_type": "stream",
     "text": [
      " 81%|████████  | 867/1074 [25:22<06:51,  1.99s/it]"
     ]
    },
    {
     "name": "stdout",
     "output_type": "stream",
     "text": [
      "0022000442\n",
      "[1610612765 1610612742]\n"
     ]
    },
    {
     "name": "stderr",
     "output_type": "stream",
     "text": [
      " 81%|████████  | 868/1074 [25:23<05:52,  1.71s/it]"
     ]
    },
    {
     "name": "stdout",
     "output_type": "stream",
     "text": [
      "0022000891\n",
      "[1610612750 1610612758]\n"
     ]
    },
    {
     "name": "stderr",
     "output_type": "stream",
     "text": [
      " 81%|████████  | 869/1074 [25:25<06:31,  1.91s/it]"
     ]
    },
    {
     "name": "stdout",
     "output_type": "stream",
     "text": [
      "0022000885\n",
      "[1610612744 1610612764]\n"
     ]
    },
    {
     "name": "stderr",
     "output_type": "stream",
     "text": [
      " 81%|████████  | 870/1074 [25:26<05:34,  1.64s/it]"
     ]
    },
    {
     "name": "stdout",
     "output_type": "stream",
     "text": [
      "0022000884\n",
      "[1610612751 1610612761]\n"
     ]
    },
    {
     "name": "stderr",
     "output_type": "stream",
     "text": [
      " 81%|████████  | 871/1074 [25:28<05:57,  1.76s/it]"
     ]
    },
    {
     "name": "stdout",
     "output_type": "stream",
     "text": [
      "0022000896\n",
      "[1610612766 1610612741]\n"
     ]
    },
    {
     "name": "stderr",
     "output_type": "stream",
     "text": [
      " 81%|████████  | 872/1074 [25:30<06:17,  1.87s/it]"
     ]
    },
    {
     "name": "stdout",
     "output_type": "stream",
     "text": [
      "0022000892\n",
      "[1610612756 1610612738]\n"
     ]
    },
    {
     "name": "stderr",
     "output_type": "stream",
     "text": [
      " 81%|████████▏ | 873/1074 [25:32<06:25,  1.92s/it]"
     ]
    },
    {
     "name": "stdout",
     "output_type": "stream",
     "text": [
      "0022000893\n",
      "[1610612740 1610612753]\n"
     ]
    },
    {
     "name": "stderr",
     "output_type": "stream",
     "text": [
      " 81%|████████▏ | 874/1074 [25:34<06:32,  1.96s/it]"
     ]
    },
    {
     "name": "stdout",
     "output_type": "stream",
     "text": [
      "0022000894\n",
      "[1610612755 1610612749]\n"
     ]
    },
    {
     "name": "stderr",
     "output_type": "stream",
     "text": [
      " 81%|████████▏ | 875/1074 [25:37<06:36,  1.99s/it]"
     ]
    },
    {
     "name": "stdout",
     "output_type": "stream",
     "text": [
      "0022000897\n",
      "[1610612747 1610612742]\n"
     ]
    },
    {
     "name": "stderr",
     "output_type": "stream",
     "text": [
      " 82%|████████▏ | 876/1074 [25:39<07:08,  2.16s/it]"
     ]
    },
    {
     "name": "stdout",
     "output_type": "stream",
     "text": [
      "0022000903\n",
      "[1610612743 1610612744]\n"
     ]
    },
    {
     "name": "stderr",
     "output_type": "stream",
     "text": [
      " 82%|████████▏ | 877/1074 [25:41<07:17,  2.22s/it]"
     ]
    },
    {
     "name": "stdout",
     "output_type": "stream",
     "text": [
      "0022000899\n",
      "[1610612738 1610612751]\n"
     ]
    },
    {
     "name": "stderr",
     "output_type": "stream",
     "text": [
      " 82%|████████▏ | 878/1074 [25:43<06:07,  1.87s/it]"
     ]
    },
    {
     "name": "stdout",
     "output_type": "stream",
     "text": [
      "0022000901\n",
      "[1610612746 1610612745]\n"
     ]
    },
    {
     "name": "stderr",
     "output_type": "stream",
     "text": [
      " 82%|████████▏ | 879/1074 [25:45<06:17,  1.94s/it]"
     ]
    },
    {
     "name": "stdout",
     "output_type": "stream",
     "text": [
      "0022000225\n",
      "[1610612763 1610612757]\n"
     ]
    },
    {
     "name": "stderr",
     "output_type": "stream",
     "text": [
      " 82%|████████▏ | 880/1074 [25:46<05:23,  1.67s/it]"
     ]
    },
    {
     "name": "stdout",
     "output_type": "stream",
     "text": [
      "0022000898\n",
      "[1610612748 1610612737]\n"
     ]
    },
    {
     "name": "stderr",
     "output_type": "stream",
     "text": [
      " 82%|████████▏ | 881/1074 [25:48<06:20,  1.97s/it]"
     ]
    },
    {
     "name": "stdout",
     "output_type": "stream",
     "text": [
      "0022000900\n",
      "[1610612739 1610612766]\n"
     ]
    },
    {
     "name": "stderr",
     "output_type": "stream",
     "text": [
      " 82%|████████▏ | 882/1074 [25:51<06:43,  2.10s/it]"
     ]
    },
    {
     "name": "stdout",
     "output_type": "stream",
     "text": [
      "0022000902\n",
      "[1610612764 1610612760]\n"
     ]
    },
    {
     "name": "stderr",
     "output_type": "stream",
     "text": [
      " 82%|████████▏ | 883/1074 [25:53<06:38,  2.09s/it]"
     ]
    },
    {
     "name": "stdout",
     "output_type": "stream",
     "text": [
      "0022000904\n",
      "[1610612761 1610612752]\n"
     ]
    },
    {
     "name": "stderr",
     "output_type": "stream",
     "text": [
      " 82%|████████▏ | 884/1074 [25:55<06:59,  2.21s/it]"
     ]
    },
    {
     "name": "stdout",
     "output_type": "stream",
     "text": [
      "0022000907\n",
      "[1610612741 1610612748]\n"
     ]
    },
    {
     "name": "stderr",
     "output_type": "stream",
     "text": [
      " 82%|████████▏ | 885/1074 [25:56<05:48,  1.85s/it]"
     ]
    },
    {
     "name": "stdout",
     "output_type": "stream",
     "text": [
      "0022000905\n",
      "[1610612755 1610612749]\n"
     ]
    },
    {
     "name": "stderr",
     "output_type": "stream",
     "text": [
      " 82%|████████▏ | 886/1074 [25:57<05:00,  1.60s/it]"
     ]
    },
    {
     "name": "stdout",
     "output_type": "stream",
     "text": [
      "0022000909\n",
      "[1610612750 1610612762]\n"
     ]
    },
    {
     "name": "stderr",
     "output_type": "stream",
     "text": [
      " 83%|████████▎ | 887/1074 [26:00<05:43,  1.84s/it]"
     ]
    },
    {
     "name": "stdout",
     "output_type": "stream",
     "text": [
      "0022000906\n",
      "[1610612765 1610612754]\n"
     ]
    },
    {
     "name": "stderr",
     "output_type": "stream",
     "text": [
      " 83%|████████▎ | 888/1074 [26:01<04:56,  1.59s/it]"
     ]
    },
    {
     "name": "stdout",
     "output_type": "stream",
     "text": [
      "0022000908\n",
      "[1610612747 1610612742]\n"
     ]
    },
    {
     "name": "stderr",
     "output_type": "stream",
     "text": [
      " 83%|████████▎ | 889/1074 [26:03<05:19,  1.73s/it]"
     ]
    },
    {
     "name": "stdout",
     "output_type": "stream",
     "text": [
      "0022000910\n",
      "[1610612745 1610612743]\n"
     ]
    },
    {
     "name": "stderr",
     "output_type": "stream",
     "text": [
      " 83%|████████▎ | 890/1074 [26:04<04:40,  1.52s/it]"
     ]
    },
    {
     "name": "stdout",
     "output_type": "stream",
     "text": [
      "0022000264\n",
      "[1610612759 1610612740]\n"
     ]
    },
    {
     "name": "stderr",
     "output_type": "stream",
     "text": [
      " 83%|████████▎ | 891/1074 [26:06<05:24,  1.77s/it]"
     ]
    },
    {
     "name": "stdout",
     "output_type": "stream",
     "text": [
      "0022000915\n",
      "[1610612758 1610612744]\n"
     ]
    },
    {
     "name": "stderr",
     "output_type": "stream",
     "text": [
      " 83%|████████▎ | 892/1074 [26:07<04:42,  1.55s/it]"
     ]
    },
    {
     "name": "stdout",
     "output_type": "stream",
     "text": [
      "0022000912\n",
      "[1610612756 1610612751]\n"
     ]
    },
    {
     "name": "stderr",
     "output_type": "stream",
     "text": [
      " 83%|████████▎ | 893/1074 [26:08<04:12,  1.40s/it]"
     ]
    },
    {
     "name": "stdout",
     "output_type": "stream",
     "text": [
      "0022000914\n",
      "[1610612754 1610612753]\n"
     ]
    },
    {
     "name": "stderr",
     "output_type": "stream",
     "text": [
      " 83%|████████▎ | 894/1074 [26:10<04:48,  1.60s/it]"
     ]
    },
    {
     "name": "stdout",
     "output_type": "stream",
     "text": [
      "0022000240\n",
      "[1610612763 1610612757]\n"
     ]
    },
    {
     "name": "stderr",
     "output_type": "stream",
     "text": [
      " 83%|████████▎ | 895/1074 [26:13<05:40,  1.90s/it]"
     ]
    },
    {
     "name": "stdout",
     "output_type": "stream",
     "text": [
      "0022000913\n",
      "[1610612749 1610612737]\n"
     ]
    },
    {
     "name": "stderr",
     "output_type": "stream",
     "text": [
      " 83%|████████▎ | 896/1074 [26:14<04:51,  1.64s/it]"
     ]
    },
    {
     "name": "stdout",
     "output_type": "stream",
     "text": [
      "0022000911\n",
      "[1610612738 1610612766]\n"
     ]
    },
    {
     "name": "stderr",
     "output_type": "stream",
     "text": [
      " 84%|████████▎ | 897/1074 [26:16<05:16,  1.79s/it]"
     ]
    },
    {
     "name": "stdout",
     "output_type": "stream",
     "text": [
      "0022000197\n",
      "[1610612739 1610612764]\n"
     ]
    },
    {
     "name": "stderr",
     "output_type": "stream",
     "text": [
      " 84%|████████▎ | 898/1074 [26:17<04:34,  1.56s/it]"
     ]
    },
    {
     "name": "stdout",
     "output_type": "stream",
     "text": [
      "0022000918\n",
      "[1610612760 1610612755]\n"
     ]
    },
    {
     "name": "stderr",
     "output_type": "stream",
     "text": [
      " 84%|████████▎ | 899/1074 [26:18<04:05,  1.40s/it]"
     ]
    },
    {
     "name": "stdout",
     "output_type": "stream",
     "text": [
      "0022000920\n",
      "[1610612756 1610612752]\n"
     ]
    },
    {
     "name": "stderr",
     "output_type": "stream",
     "text": [
      " 84%|████████▍ | 900/1074 [26:21<05:10,  1.78s/it]"
     ]
    },
    {
     "name": "stdout",
     "output_type": "stream",
     "text": [
      "0022000917\n",
      "[1610612747 1610612753]\n"
     ]
    },
    {
     "name": "stderr",
     "output_type": "stream",
     "text": [
      " 84%|████████▍ | 901/1074 [26:23<05:25,  1.88s/it]"
     ]
    },
    {
     "name": "stdout",
     "output_type": "stream",
     "text": [
      "0022000922\n",
      "[1610612741 1610612748]\n"
     ]
    },
    {
     "name": "stderr",
     "output_type": "stream",
     "text": [
      " 84%|████████▍ | 902/1074 [26:24<04:39,  1.63s/it]"
     ]
    },
    {
     "name": "stdout",
     "output_type": "stream",
     "text": [
      "0022000916\n",
      "[1610612737 1610612765]\n"
     ]
    },
    {
     "name": "stderr",
     "output_type": "stream",
     "text": [
      " 84%|████████▍ | 903/1074 [26:25<04:07,  1.45s/it]"
     ]
    },
    {
     "name": "stdout",
     "output_type": "stream",
     "text": [
      "0022000926\n",
      "[1610612742 1610612758]\n"
     ]
    },
    {
     "name": "stderr",
     "output_type": "stream",
     "text": [
      " 84%|████████▍ | 904/1074 [26:27<04:56,  1.74s/it]"
     ]
    },
    {
     "name": "stdout",
     "output_type": "stream",
     "text": [
      "0022000925\n",
      "[1610612763 1610612743]\n"
     ]
    },
    {
     "name": "stderr",
     "output_type": "stream",
     "text": [
      " 84%|████████▍ | 905/1074 [26:28<04:19,  1.53s/it]"
     ]
    },
    {
     "name": "stdout",
     "output_type": "stream",
     "text": [
      "0022000923\n",
      "[1610612762 1610612750]\n"
     ]
    },
    {
     "name": "stderr",
     "output_type": "stream",
     "text": [
      " 84%|████████▍ | 906/1074 [26:31<05:03,  1.80s/it]"
     ]
    },
    {
     "name": "stdout",
     "output_type": "stream",
     "text": [
      "0022000919\n",
      "[1610612759 1610612764]\n"
     ]
    },
    {
     "name": "stderr",
     "output_type": "stream",
     "text": [
      " 84%|████████▍ | 907/1074 [26:33<05:35,  2.01s/it]"
     ]
    },
    {
     "name": "stdout",
     "output_type": "stream",
     "text": [
      "0022000921\n",
      "[1610612739 1610612761]\n"
     ]
    },
    {
     "name": "stderr",
     "output_type": "stream",
     "text": [
      " 85%|████████▍ | 908/1074 [26:34<04:46,  1.73s/it]"
     ]
    },
    {
     "name": "stdout",
     "output_type": "stream",
     "text": [
      "0022000924\n",
      "[1610612746 1610612740]\n"
     ]
    },
    {
     "name": "stderr",
     "output_type": "stream",
     "text": [
      " 85%|████████▍ | 909/1074 [26:37<05:19,  1.93s/it]"
     ]
    },
    {
     "name": "stdout",
     "output_type": "stream",
     "text": [
      "0022000932\n",
      "[1610612742 1610612744]\n"
     ]
    },
    {
     "name": "stderr",
     "output_type": "stream",
     "text": [
      " 85%|████████▍ | 910/1074 [26:40<06:09,  2.26s/it]"
     ]
    },
    {
     "name": "stdout",
     "output_type": "stream",
     "text": [
      "0022000927\n",
      "[1610612760 1610612738]\n"
     ]
    },
    {
     "name": "stderr",
     "output_type": "stream",
     "text": [
      " 85%|████████▍ | 911/1074 [26:42<05:51,  2.15s/it]"
     ]
    },
    {
     "name": "stdout",
     "output_type": "stream",
     "text": [
      "0022000931\n",
      "[1610612750 1610612745]\n"
     ]
    },
    {
     "name": "stderr",
     "output_type": "stream",
     "text": [
      " 85%|████████▍ | 912/1074 [26:44<05:49,  2.16s/it]"
     ]
    },
    {
     "name": "stdout",
     "output_type": "stream",
     "text": [
      "0022000929\n",
      "[1610612757 1610612754]\n"
     ]
    },
    {
     "name": "stderr",
     "output_type": "stream",
     "text": [
      " 85%|████████▌ | 913/1074 [26:46<06:00,  2.24s/it]"
     ]
    },
    {
     "name": "stdout",
     "output_type": "stream",
     "text": [
      "0022000928\n",
      "[1610612749 1610612766]\n"
     ]
    },
    {
     "name": "stderr",
     "output_type": "stream",
     "text": [
      " 85%|████████▌ | 914/1074 [26:49<06:09,  2.31s/it]"
     ]
    },
    {
     "name": "stdout",
     "output_type": "stream",
     "text": [
      "0022000930\n",
      "[1610612751 1610612761]\n"
     ]
    },
    {
     "name": "stderr",
     "output_type": "stream",
     "text": [
      " 85%|████████▌ | 915/1074 [26:51<06:15,  2.36s/it]"
     ]
    },
    {
     "name": "stdout",
     "output_type": "stream",
     "text": [
      "0022000934\n",
      "[1610612737 1610612755]\n"
     ]
    },
    {
     "name": "stderr",
     "output_type": "stream",
     "text": [
      " 85%|████████▌ | 916/1074 [26:54<06:16,  2.38s/it]"
     ]
    },
    {
     "name": "stdout",
     "output_type": "stream",
     "text": [
      "0022000937\n",
      "[1610612741 1610612752]\n"
     ]
    },
    {
     "name": "stderr",
     "output_type": "stream",
     "text": [
      " 85%|████████▌ | 917/1074 [26:56<05:57,  2.27s/it]"
     ]
    },
    {
     "name": "stdout",
     "output_type": "stream",
     "text": [
      "0022000941\n",
      "[1610612746 1610612756]\n"
     ]
    },
    {
     "name": "stderr",
     "output_type": "stream",
     "text": [
      " 85%|████████▌ | 918/1074 [26:57<04:57,  1.91s/it]"
     ]
    },
    {
     "name": "stdout",
     "output_type": "stream",
     "text": [
      "0022000936\n",
      "[1610612766 1610612738]\n"
     ]
    },
    {
     "name": "stderr",
     "output_type": "stream",
     "text": [
      " 86%|████████▌ | 919/1074 [26:58<04:14,  1.64s/it]"
     ]
    },
    {
     "name": "stdout",
     "output_type": "stream",
     "text": [
      "0022000933\n",
      "[1610612753 1610612739]\n"
     ]
    },
    {
     "name": "stderr",
     "output_type": "stream",
     "text": [
      " 86%|████████▌ | 920/1074 [26:59<03:45,  1.46s/it]"
     ]
    },
    {
     "name": "stdout",
     "output_type": "stream",
     "text": [
      "0022000938\n",
      "[1610612759 1610612748]\n"
     ]
    },
    {
     "name": "stderr",
     "output_type": "stream",
     "text": [
      " 86%|████████▌ | 921/1074 [27:02<04:50,  1.90s/it]"
     ]
    },
    {
     "name": "stdout",
     "output_type": "stream",
     "text": [
      "0022000942\n",
      "[1610612762 1610612758]\n"
     ]
    },
    {
     "name": "stderr",
     "output_type": "stream",
     "text": [
      " 86%|████████▌ | 922/1074 [27:04<04:58,  1.96s/it]"
     ]
    },
    {
     "name": "stdout",
     "output_type": "stream",
     "text": [
      "0022000940\n",
      "[1610612740 1610612743]\n"
     ]
    },
    {
     "name": "stderr",
     "output_type": "stream",
     "text": [
      " 86%|████████▌ | 923/1074 [27:06<05:04,  2.02s/it]"
     ]
    },
    {
     "name": "stdout",
     "output_type": "stream",
     "text": [
      "0022000935\n",
      "[1610612747 1610612764]\n"
     ]
    },
    {
     "name": "stderr",
     "output_type": "stream",
     "text": [
      " 86%|████████▌ | 924/1074 [27:07<04:17,  1.72s/it]"
     ]
    },
    {
     "name": "stdout",
     "output_type": "stream",
     "text": [
      "0022000939\n",
      "[1610612757 1610612763]\n"
     ]
    },
    {
     "name": "stderr",
     "output_type": "stream",
     "text": [
      " 86%|████████▌ | 925/1074 [27:09<04:45,  1.92s/it]"
     ]
    },
    {
     "name": "stdout",
     "output_type": "stream",
     "text": [
      "0022000945\n",
      "[1610612749 1610612745]\n"
     ]
    },
    {
     "name": "stderr",
     "output_type": "stream",
     "text": [
      " 86%|████████▌ | 926/1074 [27:11<04:03,  1.65s/it]"
     ]
    },
    {
     "name": "stdout",
     "output_type": "stream",
     "text": [
      "0022000943\n",
      "[1610612742 1610612765]\n"
     ]
    },
    {
     "name": "stderr",
     "output_type": "stream",
     "text": [
      " 86%|████████▋ | 927/1074 [27:12<03:34,  1.46s/it]"
     ]
    },
    {
     "name": "stdout",
     "output_type": "stream",
     "text": [
      "0022000944\n",
      "[1610612751 1610612754]\n"
     ]
    },
    {
     "name": "stderr",
     "output_type": "stream",
     "text": [
      " 86%|████████▋ | 928/1074 [27:13<03:13,  1.33s/it]"
     ]
    },
    {
     "name": "stdout",
     "output_type": "stream",
     "text": [
      "0022000948\n",
      "[1610612761 1610612743]\n"
     ]
    },
    {
     "name": "stderr",
     "output_type": "stream",
     "text": [
      " 86%|████████▋ | 929/1074 [27:14<02:59,  1.24s/it]"
     ]
    },
    {
     "name": "stdout",
     "output_type": "stream",
     "text": [
      "0022000946\n",
      "[1610612744 1610612750]\n"
     ]
    },
    {
     "name": "stderr",
     "output_type": "stream",
     "text": [
      " 87%|████████▋ | 930/1074 [27:16<04:02,  1.69s/it]"
     ]
    },
    {
     "name": "stdout",
     "output_type": "stream",
     "text": [
      "0022000947\n",
      "[1610612740 1610612760]\n"
     ]
    },
    {
     "name": "stderr",
     "output_type": "stream",
     "text": [
      " 87%|████████▋ | 931/1074 [27:17<03:32,  1.49s/it]"
     ]
    },
    {
     "name": "stdout",
     "output_type": "stream",
     "text": [
      "0022000949\n",
      "[1610612737 1610612755]\n"
     ]
    },
    {
     "name": "stderr",
     "output_type": "stream",
     "text": [
      " 87%|████████▋ | 932/1074 [27:18<03:12,  1.35s/it]"
     ]
    },
    {
     "name": "stdout",
     "output_type": "stream",
     "text": [
      "0022000956\n",
      "[1610612758 1610612747]\n"
     ]
    },
    {
     "name": "stderr",
     "output_type": "stream",
     "text": [
      " 87%|████████▋ | 933/1074 [27:19<02:57,  1.26s/it]"
     ]
    },
    {
     "name": "stdout",
     "output_type": "stream",
     "text": [
      "0022000954\n",
      "[1610612749 1610612741]\n"
     ]
    },
    {
     "name": "stderr",
     "output_type": "stream",
     "text": [
      " 87%|████████▋ | 934/1074 [27:22<03:36,  1.55s/it]"
     ]
    },
    {
     "name": "stdout",
     "output_type": "stream",
     "text": [
      "0022000955\n",
      "[1610612762 1610612756]\n"
     ]
    },
    {
     "name": "stderr",
     "output_type": "stream",
     "text": [
      " 87%|████████▋ | 935/1074 [27:23<03:13,  1.39s/it]"
     ]
    },
    {
     "name": "stdout",
     "output_type": "stream",
     "text": [
      "0022000952\n",
      "[1610612757 1610612751]\n"
     ]
    },
    {
     "name": "stderr",
     "output_type": "stream",
     "text": [
      " 87%|████████▋ | 936/1074 [27:25<03:42,  1.61s/it]"
     ]
    },
    {
     "name": "stdout",
     "output_type": "stream",
     "text": [
      "0022000950\n",
      "[1610612759 1610612738]\n"
     ]
    },
    {
     "name": "stderr",
     "output_type": "stream",
     "text": [
      " 87%|████████▋ | 937/1074 [27:27<04:07,  1.81s/it]"
     ]
    },
    {
     "name": "stdout",
     "output_type": "stream",
     "text": [
      "0022000951\n",
      "[1610612764 1610612739]\n"
     ]
    },
    {
     "name": "stderr",
     "output_type": "stream",
     "text": [
      " 87%|████████▋ | 938/1074 [27:28<03:33,  1.57s/it]"
     ]
    },
    {
     "name": "stdout",
     "output_type": "stream",
     "text": [
      "0022000953\n",
      "[1610612753 1610612763]\n"
     ]
    },
    {
     "name": "stderr",
     "output_type": "stream",
     "text": [
      " 87%|████████▋ | 939/1074 [27:29<03:10,  1.41s/it]"
     ]
    },
    {
     "name": "stdout",
     "output_type": "stream",
     "text": [
      "0022000966\n",
      "[1610612743 1610612746]\n"
     ]
    },
    {
     "name": "stderr",
     "output_type": "stream",
     "text": [
      " 88%|████████▊ | 940/1074 [27:31<03:34,  1.60s/it]"
     ]
    },
    {
     "name": "stdout",
     "output_type": "stream",
     "text": [
      "0022000961\n",
      "[1610612763 1610612753]\n"
     ]
    },
    {
     "name": "stderr",
     "output_type": "stream",
     "text": [
      " 88%|████████▊ | 941/1074 [27:32<03:10,  1.44s/it]"
     ]
    },
    {
     "name": "stdout",
     "output_type": "stream",
     "text": [
      "0022000958\n",
      "[1610612744 1610612745]\n"
     ]
    },
    {
     "name": "stderr",
     "output_type": "stream",
     "text": [
      " 88%|████████▊ | 942/1074 [27:34<03:35,  1.63s/it]"
     ]
    },
    {
     "name": "stdout",
     "output_type": "stream",
     "text": [
      "0022000960\n",
      "[1610612748 1610612739]\n"
     ]
    },
    {
     "name": "stderr",
     "output_type": "stream",
     "text": [
      " 88%|████████▊ | 943/1074 [27:35<03:10,  1.45s/it]"
     ]
    },
    {
     "name": "stdout",
     "output_type": "stream",
     "text": [
      "0022000965\n",
      "[1610612761 1610612762]\n"
     ]
    },
    {
     "name": "stderr",
     "output_type": "stream",
     "text": [
      " 88%|████████▊ | 944/1074 [27:38<03:43,  1.72s/it]"
     ]
    },
    {
     "name": "stdout",
     "output_type": "stream",
     "text": [
      "0022000959\n",
      "[1610612741 1610612737]\n"
     ]
    },
    {
     "name": "stderr",
     "output_type": "stream",
     "text": [
      " 88%|████████▊ | 945/1074 [27:40<03:56,  1.84s/it]"
     ]
    },
    {
     "name": "stdout",
     "output_type": "stream",
     "text": [
      "0022000964\n",
      "[1610612764 1610612742]\n"
     ]
    },
    {
     "name": "stderr",
     "output_type": "stream",
     "text": [
      " 88%|████████▊ | 946/1074 [27:42<04:07,  1.93s/it]"
     ]
    },
    {
     "name": "stdout",
     "output_type": "stream",
     "text": [
      "0022000962\n",
      "[1610612740 1610612750]\n"
     ]
    },
    {
     "name": "stderr",
     "output_type": "stream",
     "text": [
      " 88%|████████▊ | 947/1074 [27:43<03:31,  1.66s/it]"
     ]
    },
    {
     "name": "stdout",
     "output_type": "stream",
     "text": [
      "0022000957\n",
      "[1610612765 1610612766]\n"
     ]
    },
    {
     "name": "stderr",
     "output_type": "stream",
     "text": [
      " 88%|████████▊ | 948/1074 [27:45<03:45,  1.79s/it]"
     ]
    },
    {
     "name": "stdout",
     "output_type": "stream",
     "text": [
      "0022000963\n",
      "[1610612754 1610612760]\n"
     ]
    },
    {
     "name": "stderr",
     "output_type": "stream",
     "text": [
      " 88%|████████▊ | 949/1074 [27:46<03:15,  1.56s/it]"
     ]
    },
    {
     "name": "stdout",
     "output_type": "stream",
     "text": [
      "0022000973\n",
      "[1610612755 1610612759]\n"
     ]
    },
    {
     "name": "stderr",
     "output_type": "stream",
     "text": [
      " 88%|████████▊ | 950/1074 [27:48<03:43,  1.80s/it]"
     ]
    },
    {
     "name": "stdout",
     "output_type": "stream",
     "text": [
      "0022000974\n",
      "[1610612761 1610612747]\n"
     ]
    },
    {
     "name": "stderr",
     "output_type": "stream",
     "text": [
      " 89%|████████▊ | 951/1074 [27:50<03:14,  1.58s/it]"
     ]
    },
    {
     "name": "stdout",
     "output_type": "stream",
     "text": [
      "0022000968\n",
      "[1610612757 1610612738]\n"
     ]
    },
    {
     "name": "stderr",
     "output_type": "stream",
     "text": [
      " 89%|████████▊ | 952/1074 [27:52<03:42,  1.82s/it]"
     ]
    },
    {
     "name": "stdout",
     "output_type": "stream",
     "text": [
      "0022000971\n",
      "[1610612752 1610612745]\n"
     ]
    },
    {
     "name": "stderr",
     "output_type": "stream",
     "text": [
      " 89%|████████▊ | 953/1074 [27:53<03:13,  1.60s/it]"
     ]
    },
    {
     "name": "stdout",
     "output_type": "stream",
     "text": [
      "0022000967\n",
      "[1610612751 1610612749]\n"
     ]
    },
    {
     "name": "stderr",
     "output_type": "stream",
     "text": [
      " 89%|████████▉ | 954/1074 [27:54<02:51,  1.43s/it]"
     ]
    },
    {
     "name": "stdout",
     "output_type": "stream",
     "text": [
      "0022000970\n",
      "[1610612758 1610612742]\n"
     ]
    },
    {
     "name": "stderr",
     "output_type": "stream",
     "text": [
      " 89%|████████▉ | 955/1074 [27:56<03:12,  1.62s/it]"
     ]
    },
    {
     "name": "stdout",
     "output_type": "stream",
     "text": [
      "0022000969\n",
      "[1610612748 1610612766]\n"
     ]
    },
    {
     "name": "stderr",
     "output_type": "stream",
     "text": [
      " 89%|████████▉ | 956/1074 [27:57<02:50,  1.45s/it]"
     ]
    },
    {
     "name": "stdout",
     "output_type": "stream",
     "text": [
      "0022000972\n",
      "[1610612756 1610612760]\n"
     ]
    },
    {
     "name": "stderr",
     "output_type": "stream",
     "text": [
      " 89%|████████▉ | 957/1074 [27:58<02:34,  1.32s/it]"
     ]
    },
    {
     "name": "stdout",
     "output_type": "stream",
     "text": [
      "0022000982\n",
      "[1610612743 1610612747]\n"
     ]
    },
    {
     "name": "stderr",
     "output_type": "stream",
     "text": [
      " 89%|████████▉ | 958/1074 [27:59<02:22,  1.23s/it]"
     ]
    },
    {
     "name": "stdout",
     "output_type": "stream",
     "text": [
      "0022000979\n",
      "[1610612755 1610612741]\n"
     ]
    },
    {
     "name": "stderr",
     "output_type": "stream",
     "text": [
      " 89%|████████▉ | 959/1074 [28:00<02:14,  1.17s/it]"
     ]
    },
    {
     "name": "stdout",
     "output_type": "stream",
     "text": [
      "0022000975\n",
      "[1610612753 1610612765]\n"
     ]
    },
    {
     "name": "stderr",
     "output_type": "stream",
     "text": [
      " 89%|████████▉ | 960/1074 [28:01<02:08,  1.13s/it]"
     ]
    },
    {
     "name": "stdout",
     "output_type": "stream",
     "text": [
      "0022000981\n",
      "[1610612759 1610612762]\n"
     ]
    },
    {
     "name": "stderr",
     "output_type": "stream",
     "text": [
      " 89%|████████▉ | 961/1074 [28:03<02:43,  1.45s/it]"
     ]
    },
    {
     "name": "stdout",
     "output_type": "stream",
     "text": [
      "0022000978\n",
      "[1610612757 1610612737]\n"
     ]
    },
    {
     "name": "stderr",
     "output_type": "stream",
     "text": [
      " 90%|████████▉ | 962/1074 [28:05<03:01,  1.62s/it]"
     ]
    },
    {
     "name": "stdout",
     "output_type": "stream",
     "text": [
      "0022000976\n",
      "[1610612754 1610612764]\n"
     ]
    },
    {
     "name": "stderr",
     "output_type": "stream",
     "text": [
      " 90%|████████▉ | 963/1074 [28:07<02:41,  1.46s/it]"
     ]
    },
    {
     "name": "stdout",
     "output_type": "stream",
     "text": [
      "0022000980\n",
      "[1610612752 1610612763]\n"
     ]
    },
    {
     "name": "stderr",
     "output_type": "stream",
     "text": [
      " 90%|████████▉ | 964/1074 [28:08<02:26,  1.33s/it]"
     ]
    },
    {
     "name": "stdout",
     "output_type": "stream",
     "text": [
      "0022000977\n",
      "[1610612744 1610612740]\n"
     ]
    },
    {
     "name": "stderr",
     "output_type": "stream",
     "text": [
      " 90%|████████▉ | 965/1074 [28:10<02:49,  1.56s/it]"
     ]
    },
    {
     "name": "stdout",
     "output_type": "stream",
     "text": [
      "0022000989\n",
      "[1610612761 1610612746]\n"
     ]
    },
    {
     "name": "stderr",
     "output_type": "stream",
     "text": [
      " 90%|████████▉ | 966/1074 [28:12<03:06,  1.73s/it]"
     ]
    },
    {
     "name": "stdout",
     "output_type": "stream",
     "text": [
      "0022000983\n",
      "[1610612756 1610612739]\n"
     ]
    },
    {
     "name": "stderr",
     "output_type": "stream",
     "text": [
      " 90%|█████████ | 967/1074 [28:14<03:27,  1.94s/it]"
     ]
    },
    {
     "name": "stdout",
     "output_type": "stream",
     "text": [
      "0022000986\n",
      "[1610612742 1610612748]\n"
     ]
    },
    {
     "name": "stderr",
     "output_type": "stream",
     "text": [
      " 90%|█████████ | 968/1074 [28:15<02:56,  1.66s/it]"
     ]
    },
    {
     "name": "stdout",
     "output_type": "stream",
     "text": [
      "0022000984\n",
      "[1610612766 1610612765]\n"
     ]
    },
    {
     "name": "stderr",
     "output_type": "stream",
     "text": [
      " 90%|█████████ | 969/1074 [28:16<02:34,  1.47s/it]"
     ]
    },
    {
     "name": "stdout",
     "output_type": "stream",
     "text": [
      "0022000985\n",
      "[1610612751 1610612749]\n"
     ]
    },
    {
     "name": "stderr",
     "output_type": "stream",
     "text": [
      " 90%|█████████ | 970/1074 [28:17<02:19,  1.34s/it]"
     ]
    },
    {
     "name": "stdout",
     "output_type": "stream",
     "text": [
      "0022000987\n",
      "[1610612744 1610612740]\n"
     ]
    },
    {
     "name": "stderr",
     "output_type": "stream",
     "text": [
      " 90%|█████████ | 971/1074 [28:18<02:08,  1.25s/it]"
     ]
    },
    {
     "name": "stdout",
     "output_type": "stream",
     "text": [
      "0022000988\n",
      "[1610612758 1610612760]\n"
     ]
    },
    {
     "name": "stderr",
     "output_type": "stream",
     "text": [
      " 91%|█████████ | 972/1074 [28:21<02:41,  1.59s/it]"
     ]
    },
    {
     "name": "stdout",
     "output_type": "stream",
     "text": [
      "0022000990\n",
      "[1610612738 1610612753]\n"
     ]
    },
    {
     "name": "stderr",
     "output_type": "stream",
     "text": [
      " 91%|█████████ | 973/1074 [28:23<03:04,  1.83s/it]"
     ]
    },
    {
     "name": "stdout",
     "output_type": "stream",
     "text": [
      "0022000994\n",
      "[1610612755 1610612745]\n"
     ]
    },
    {
     "name": "stderr",
     "output_type": "stream",
     "text": [
      " 91%|█████████ | 974/1074 [28:24<02:45,  1.65s/it]"
     ]
    },
    {
     "name": "stdout",
     "output_type": "stream",
     "text": [
      "0022000991\n",
      "[1610612757 1610612739]\n"
     ]
    },
    {
     "name": "stderr",
     "output_type": "stream",
     "text": [
      " 91%|█████████ | 975/1074 [28:26<02:56,  1.78s/it]"
     ]
    },
    {
     "name": "stdout",
     "output_type": "stream",
     "text": [
      "0022000235\n",
      "[1610612764 1610612749]\n"
     ]
    },
    {
     "name": "stderr",
     "output_type": "stream",
     "text": [
      " 91%|█████████ | 976/1074 [28:29<03:04,  1.89s/it]"
     ]
    },
    {
     "name": "stdout",
     "output_type": "stream",
     "text": [
      "0022000993\n",
      "[1610612758 1610612754]\n"
     ]
    },
    {
     "name": "stderr",
     "output_type": "stream",
     "text": [
      " 91%|█████████ | 977/1074 [28:30<02:37,  1.63s/it]"
     ]
    },
    {
     "name": "stdout",
     "output_type": "stream",
     "text": [
      "0022000996\n",
      "[1610612759 1610612762]\n"
     ]
    },
    {
     "name": "stderr",
     "output_type": "stream",
     "text": [
      " 91%|█████████ | 978/1074 [28:31<02:19,  1.45s/it]"
     ]
    },
    {
     "name": "stdout",
     "output_type": "stream",
     "text": [
      "0022000992\n",
      "[1610612756 1610612737]\n"
     ]
    },
    {
     "name": "stderr",
     "output_type": "stream",
     "text": [
      " 91%|█████████ | 979/1074 [28:33<02:38,  1.67s/it]"
     ]
    },
    {
     "name": "stdout",
     "output_type": "stream",
     "text": [
      "0022000995\n",
      "[1610612752 1610612743]\n"
     ]
    },
    {
     "name": "stderr",
     "output_type": "stream",
     "text": [
      " 91%|█████████ | 980/1074 [28:34<02:18,  1.48s/it]"
     ]
    },
    {
     "name": "stdout",
     "output_type": "stream",
     "text": [
      "0022000183\n",
      "[1610612763 1610612750]\n"
     ]
    },
    {
     "name": "stderr",
     "output_type": "stream",
     "text": [
      " 91%|█████████▏| 981/1074 [28:35<02:17,  1.48s/it]"
     ]
    },
    {
     "name": "stdout",
     "output_type": "stream",
     "text": [
      "0022001001\n",
      "[1610612760 1610612744]\n"
     ]
    },
    {
     "name": "stderr",
     "output_type": "stream",
     "text": [
      " 91%|█████████▏| 982/1074 [28:36<02:04,  1.35s/it]"
     ]
    },
    {
     "name": "stdout",
     "output_type": "stream",
     "text": [
      "0022001002\n",
      "[1610612747 1610612746]\n"
     ]
    },
    {
     "name": "stderr",
     "output_type": "stream",
     "text": [
      " 92%|█████████▏| 983/1074 [28:37<01:54,  1.26s/it]"
     ]
    },
    {
     "name": "stdout",
     "output_type": "stream",
     "text": [
      "0022000999\n",
      "[1610612763 1610612765]\n"
     ]
    },
    {
     "name": "stderr",
     "output_type": "stream",
     "text": [
      " 92%|█████████▏| 984/1074 [28:38<01:46,  1.19s/it]"
     ]
    },
    {
     "name": "stdout",
     "output_type": "stream",
     "text": [
      "0022001000\n",
      "[1610612737 1610612754]\n"
     ]
    },
    {
     "name": "stderr",
     "output_type": "stream",
     "text": [
      " 92%|█████████▏| 985/1074 [28:39<01:41,  1.14s/it]"
     ]
    },
    {
     "name": "stdout",
     "output_type": "stream",
     "text": [
      "0022000998\n",
      "[1610612751 1610612742]\n"
     ]
    },
    {
     "name": "stderr",
     "output_type": "stream",
     "text": [
      " 92%|█████████▏| 986/1074 [28:41<01:38,  1.12s/it]"
     ]
    },
    {
     "name": "stdout",
     "output_type": "stream",
     "text": [
      "0022000434\n",
      "[1610612741 1610612766]\n"
     ]
    },
    {
     "name": "stderr",
     "output_type": "stream",
     "text": [
      " 92%|█████████▏| 987/1074 [28:41<01:33,  1.08s/it]"
     ]
    },
    {
     "name": "stdout",
     "output_type": "stream",
     "text": [
      "0022000997\n",
      "[1610612764 1610612761]\n"
     ]
    },
    {
     "name": "stderr",
     "output_type": "stream",
     "text": [
      " 92%|█████████▏| 988/1074 [28:43<01:31,  1.07s/it]"
     ]
    },
    {
     "name": "stdout",
     "output_type": "stream",
     "text": [
      "0022001003\n",
      "[1610612740 1610612755]\n"
     ]
    },
    {
     "name": "stderr",
     "output_type": "stream",
     "text": [
      " 92%|█████████▏| 989/1074 [28:44<01:42,  1.21s/it]"
     ]
    },
    {
     "name": "stdout",
     "output_type": "stream",
     "text": [
      "0022000160\n",
      "[1610612738 1610612741]\n"
     ]
    },
    {
     "name": "stderr",
     "output_type": "stream",
     "text": [
      " 92%|█████████▏| 990/1074 [28:46<02:11,  1.57s/it]"
     ]
    },
    {
     "name": "stdout",
     "output_type": "stream",
     "text": [
      "0022001009\n",
      "[1610612752 1610612756]\n"
     ]
    },
    {
     "name": "stderr",
     "output_type": "stream",
     "text": [
      " 92%|█████████▏| 991/1074 [28:49<02:32,  1.84s/it]"
     ]
    },
    {
     "name": "stdout",
     "output_type": "stream",
     "text": [
      "0022001005\n",
      "[1610612750 1610612748]\n"
     ]
    },
    {
     "name": "stderr",
     "output_type": "stream",
     "text": [
      " 92%|█████████▏| 992/1074 [28:50<02:10,  1.60s/it]"
     ]
    },
    {
     "name": "stdout",
     "output_type": "stream",
     "text": [
      "0022001010\n",
      "[1610612747 1610612757]\n"
     ]
    },
    {
     "name": "stderr",
     "output_type": "stream",
     "text": [
      " 92%|█████████▏| 993/1074 [28:51<01:55,  1.42s/it]"
     ]
    },
    {
     "name": "stdout",
     "output_type": "stream",
     "text": [
      "0022001006\n",
      "[1610612745 1610612749]\n"
     ]
    },
    {
     "name": "stderr",
     "output_type": "stream",
     "text": [
      " 93%|█████████▎| 994/1074 [28:53<02:12,  1.65s/it]"
     ]
    },
    {
     "name": "stdout",
     "output_type": "stream",
     "text": [
      "0022001008\n",
      "[1610612743 1610612762]\n"
     ]
    },
    {
     "name": "stderr",
     "output_type": "stream",
     "text": [
      " 93%|█████████▎| 995/1074 [28:55<02:23,  1.82s/it]"
     ]
    },
    {
     "name": "stdout",
     "output_type": "stream",
     "text": [
      "0022001007\n",
      "[1610612739 1610612742]\n"
     ]
    },
    {
     "name": "stderr",
     "output_type": "stream",
     "text": [
      " 93%|█████████▎| 996/1074 [28:58<02:28,  1.91s/it]"
     ]
    },
    {
     "name": "stdout",
     "output_type": "stream",
     "text": [
      "0022001011\n",
      "[1610612759 1610612758]\n"
     ]
    },
    {
     "name": "stderr",
     "output_type": "stream",
     "text": [
      " 93%|█████████▎| 997/1074 [29:00<02:33,  1.99s/it]"
     ]
    },
    {
     "name": "stdout",
     "output_type": "stream",
     "text": [
      "0022001004\n",
      "[1610612753 1610612766]\n"
     ]
    },
    {
     "name": "stderr",
     "output_type": "stream",
     "text": [
      " 93%|█████████▎| 998/1074 [29:01<02:09,  1.70s/it]"
     ]
    },
    {
     "name": "stdout",
     "output_type": "stream",
     "text": [
      "0022001013\n",
      "[1610612765 1610612755]\n"
     ]
    },
    {
     "name": "stderr",
     "output_type": "stream",
     "text": [
      " 93%|█████████▎| 999/1074 [29:02<01:52,  1.50s/it]"
     ]
    },
    {
     "name": "stdout",
     "output_type": "stream",
     "text": [
      "0022001017\n",
      "[1610612760 1610612744]\n"
     ]
    },
    {
     "name": "stderr",
     "output_type": "stream",
     "text": [
      " 93%|█████████▎| 1000/1074 [29:03<01:40,  1.36s/it]"
     ]
    },
    {
     "name": "stdout",
     "output_type": "stream",
     "text": [
      "0022001018\n",
      "[1610612759 1610612757]\n"
     ]
    },
    {
     "name": "stderr",
     "output_type": "stream",
     "text": [
      " 93%|█████████▎| 1001/1074 [29:05<01:58,  1.62s/it]"
     ]
    },
    {
     "name": "stdout",
     "output_type": "stream",
     "text": [
      "0022001016\n",
      "[1610612745 1610612762]\n"
     ]
    },
    {
     "name": "stderr",
     "output_type": "stream",
     "text": [
      " 93%|█████████▎| 1002/1074 [29:07<02:07,  1.77s/it]"
     ]
    },
    {
     "name": "stdout",
     "output_type": "stream",
     "text": [
      "0022001012\n",
      "[1610612764 1610612754]\n"
     ]
    },
    {
     "name": "stderr",
     "output_type": "stream",
     "text": [
      " 93%|█████████▎| 1003/1074 [29:08<01:49,  1.55s/it]"
     ]
    },
    {
     "name": "stdout",
     "output_type": "stream",
     "text": [
      "0022001015\n",
      "[1610612751 1610612743]\n"
     ]
    },
    {
     "name": "stderr",
     "output_type": "stream",
     "text": [
      " 93%|█████████▎| 1004/1074 [29:09<01:37,  1.39s/it]"
     ]
    },
    {
     "name": "stdout",
     "output_type": "stream",
     "text": [
      "0022001014\n",
      "[1610612763 1610612761]\n"
     ]
    },
    {
     "name": "stderr",
     "output_type": "stream",
     "text": [
      " 94%|█████████▎| 1005/1074 [29:11<01:36,  1.41s/it]"
     ]
    },
    {
     "name": "stdout",
     "output_type": "stream",
     "text": [
      "0022001024\n",
      "[1610612756 1610612747]\n"
     ]
    },
    {
     "name": "stderr",
     "output_type": "stream",
     "text": [
      " 94%|█████████▎| 1006/1074 [29:12<01:41,  1.50s/it]"
     ]
    },
    {
     "name": "stdout",
     "output_type": "stream",
     "text": [
      "0022000145\n",
      "[1610612748 1610612738]\n"
     ]
    },
    {
     "name": "stderr",
     "output_type": "stream",
     "text": [
      " 94%|█████████▍| 1007/1074 [29:14<01:41,  1.51s/it]"
     ]
    },
    {
     "name": "stdout",
     "output_type": "stream",
     "text": [
      "0022001019\n",
      "[1610612752 1610612746]\n"
     ]
    },
    {
     "name": "stderr",
     "output_type": "stream",
     "text": [
      " 94%|█████████▍| 1008/1074 [29:15<01:34,  1.43s/it]"
     ]
    },
    {
     "name": "stdout",
     "output_type": "stream",
     "text": [
      "0022001022\n",
      "[1610612750 1610612753]\n"
     ]
    },
    {
     "name": "stderr",
     "output_type": "stream",
     "text": [
      " 94%|█████████▍| 1009/1074 [29:17<01:48,  1.67s/it]"
     ]
    },
    {
     "name": "stdout",
     "output_type": "stream",
     "text": [
      "0022001021\n",
      "[1610612742 1610612739]\n"
     ]
    },
    {
     "name": "stderr",
     "output_type": "stream",
     "text": [
      " 94%|█████████▍| 1010/1074 [29:20<02:05,  1.96s/it]"
     ]
    },
    {
     "name": "stdout",
     "output_type": "stream",
     "text": [
      "0022001023\n",
      "[1610612741 1610612765]\n"
     ]
    },
    {
     "name": "stderr",
     "output_type": "stream",
     "text": [
      " 94%|█████████▍| 1011/1074 [29:21<01:45,  1.68s/it]"
     ]
    },
    {
     "name": "stdout",
     "output_type": "stream",
     "text": [
      "0022001025\n",
      "[1610612760 1610612758]\n"
     ]
    },
    {
     "name": "stderr",
     "output_type": "stream",
     "text": [
      " 94%|█████████▍| 1012/1074 [29:22<01:32,  1.49s/it]"
     ]
    },
    {
     "name": "stdout",
     "output_type": "stream",
     "text": [
      "0022001020\n",
      "[1610612740 1610612766]\n"
     ]
    },
    {
     "name": "stderr",
     "output_type": "stream",
     "text": [
      " 94%|█████████▍| 1013/1074 [29:23<01:22,  1.35s/it]"
     ]
    },
    {
     "name": "stdout",
     "output_type": "stream",
     "text": [
      "0022001030\n",
      "[1610612762 1610612744]\n"
     ]
    },
    {
     "name": "stderr",
     "output_type": "stream",
     "text": [
      " 94%|█████████▍| 1014/1074 [29:24<01:15,  1.25s/it]"
     ]
    },
    {
     "name": "stdout",
     "output_type": "stream",
     "text": [
      "0022001029\n",
      "[1610612749 1610612759]\n"
     ]
    },
    {
     "name": "stderr",
     "output_type": "stream",
     "text": [
      " 95%|█████████▍| 1015/1074 [29:27<01:35,  1.63s/it]"
     ]
    },
    {
     "name": "stdout",
     "output_type": "stream",
     "text": [
      "0022001027\n",
      "[1610612754 1610612739]\n"
     ]
    },
    {
     "name": "stderr",
     "output_type": "stream",
     "text": [
      " 95%|█████████▍| 1016/1074 [29:28<01:33,  1.62s/it]"
     ]
    },
    {
     "name": "stdout",
     "output_type": "stream",
     "text": [
      "0022001031\n",
      "[1610612745 1610612757]\n"
     ]
    },
    {
     "name": "stderr",
     "output_type": "stream",
     "text": [
      " 95%|█████████▍| 1017/1074 [29:31<01:52,  1.98s/it]"
     ]
    },
    {
     "name": "stdout",
     "output_type": "stream",
     "text": [
      "0022001026\n",
      "[1610612764 1610612737]\n"
     ]
    },
    {
     "name": "stderr",
     "output_type": "stream",
     "text": [
      " 95%|█████████▍| 1018/1074 [29:32<01:37,  1.74s/it]"
     ]
    },
    {
     "name": "stdout",
     "output_type": "stream",
     "text": [
      "0022001028\n",
      "[1610612740 1610612763]\n"
     ]
    },
    {
     "name": "stderr",
     "output_type": "stream",
     "text": [
      " 95%|█████████▍| 1019/1074 [29:33<01:24,  1.53s/it]"
     ]
    },
    {
     "name": "stdout",
     "output_type": "stream",
     "text": [
      "0022001039\n",
      "[1610612756 1610612744]\n"
     ]
    },
    {
     "name": "stderr",
     "output_type": "stream",
     "text": [
      " 95%|█████████▍| 1020/1074 [29:35<01:19,  1.47s/it]"
     ]
    },
    {
     "name": "stdout",
     "output_type": "stream",
     "text": [
      "0022001041\n",
      "[1610612752 1610612747]\n"
     ]
    },
    {
     "name": "stderr",
     "output_type": "stream",
     "text": [
      " 95%|█████████▌| 1021/1074 [29:37<01:28,  1.67s/it]"
     ]
    },
    {
     "name": "stdout",
     "output_type": "stream",
     "text": [
      "0022001036\n",
      "[1610612751 1610612741]\n"
     ]
    },
    {
     "name": "stderr",
     "output_type": "stream",
     "text": [
      " 95%|█████████▌| 1022/1074 [29:38<01:23,  1.60s/it]"
     ]
    },
    {
     "name": "stdout",
     "output_type": "stream",
     "text": [
      "0022001032\n",
      "[1610612748 1610612738]\n"
     ]
    },
    {
     "name": "stderr",
     "output_type": "stream",
     "text": [
      " 95%|█████████▌| 1023/1074 [29:39<01:12,  1.43s/it]"
     ]
    },
    {
     "name": "stdout",
     "output_type": "stream",
     "text": [
      "0022001033\n",
      "[1610612750 1610612765]\n"
     ]
    },
    {
     "name": "stderr",
     "output_type": "stream",
     "text": [
      " 95%|█████████▌| 1024/1074 [29:40<01:05,  1.31s/it]"
     ]
    },
    {
     "name": "stdout",
     "output_type": "stream",
     "text": [
      "0022001038\n",
      "[1610612753 1610612749]\n"
     ]
    },
    {
     "name": "stderr",
     "output_type": "stream",
     "text": [
      " 95%|█████████▌| 1025/1074 [29:42<01:06,  1.36s/it]"
     ]
    },
    {
     "name": "stdout",
     "output_type": "stream",
     "text": [
      "0022001035\n",
      "[1610612755 1610612754]\n"
     ]
    },
    {
     "name": "stderr",
     "output_type": "stream",
     "text": [
      " 96%|█████████▌| 1026/1074 [29:43<01:04,  1.34s/it]"
     ]
    },
    {
     "name": "stdout",
     "output_type": "stream",
     "text": [
      "0022001040\n",
      "[1610612760 1610612758]\n"
     ]
    },
    {
     "name": "stderr",
     "output_type": "stream",
     "text": [
      " 96%|█████████▌| 1027/1074 [29:44<00:58,  1.25s/it]"
     ]
    },
    {
     "name": "stdout",
     "output_type": "stream",
     "text": [
      "0022000448\n",
      "[1610612743 1610612766]\n"
     ]
    },
    {
     "name": "stderr",
     "output_type": "stream",
     "text": [
      " 96%|█████████▌| 1028/1074 [29:46<01:11,  1.55s/it]"
     ]
    },
    {
     "name": "stdout",
     "output_type": "stream",
     "text": [
      "0022001034\n",
      "[1610612746 1610612761]\n"
     ]
    },
    {
     "name": "stderr",
     "output_type": "stream",
     "text": [
      " 96%|█████████▌| 1029/1074 [29:47<01:02,  1.40s/it]"
     ]
    },
    {
     "name": "stdout",
     "output_type": "stream",
     "text": [
      "0022001037\n",
      "[1610612742 1610612763]\n"
     ]
    },
    {
     "name": "stderr",
     "output_type": "stream",
     "text": [
      " 96%|█████████▌| 1030/1074 [29:48<00:56,  1.29s/it]"
     ]
    },
    {
     "name": "stdout",
     "output_type": "stream",
     "text": [
      "0022001046\n",
      "[1610612745 1610612747]\n"
     ]
    },
    {
     "name": "stderr",
     "output_type": "stream",
     "text": [
      " 96%|█████████▌| 1031/1074 [29:50<00:57,  1.34s/it]"
     ]
    },
    {
     "name": "stdout",
     "output_type": "stream",
     "text": [
      "0022001043\n",
      "[1610612759 1610612751]\n"
     ]
    },
    {
     "name": "stderr",
     "output_type": "stream",
     "text": [
      " 96%|█████████▌| 1032/1074 [29:52<01:07,  1.61s/it]"
     ]
    },
    {
     "name": "stdout",
     "output_type": "stream",
     "text": [
      "0022001044\n",
      "[1610612738 1610612739]\n"
     ]
    },
    {
     "name": "stderr",
     "output_type": "stream",
     "text": [
      " 96%|█████████▌| 1033/1074 [29:54<01:13,  1.79s/it]"
     ]
    },
    {
     "name": "stdout",
     "output_type": "stream",
     "text": [
      "0022001045\n",
      "[1610612757 1610612762]\n"
     ]
    },
    {
     "name": "stderr",
     "output_type": "stream",
     "text": [
      " 96%|█████████▋| 1034/1074 [29:57<01:19,  1.99s/it]"
     ]
    },
    {
     "name": "stdout",
     "output_type": "stream",
     "text": [
      "0022001042\n",
      "[1610612764 1610612737]\n"
     ]
    },
    {
     "name": "stderr",
     "output_type": "stream",
     "text": [
      " 96%|█████████▋| 1035/1074 [29:58<01:09,  1.77s/it]"
     ]
    },
    {
     "name": "stdout",
     "output_type": "stream",
     "text": [
      "0022000154\n",
      "[1610612740 1610612742]\n"
     ]
    },
    {
     "name": "stderr",
     "output_type": "stream",
     "text": [
      " 96%|█████████▋| 1036/1074 [30:00<01:11,  1.88s/it]"
     ]
    },
    {
     "name": "stdout",
     "output_type": "stream",
     "text": [
      "0022001051\n",
      "[1610612761 1610612741]\n"
     ]
    },
    {
     "name": "stderr",
     "output_type": "stream",
     "text": [
      " 97%|█████████▋| 1037/1074 [30:01<01:00,  1.62s/it]"
     ]
    },
    {
     "name": "stdout",
     "output_type": "stream",
     "text": [
      "0022000458\n",
      "[1610612759 1610612752]\n"
     ]
    },
    {
     "name": "stderr",
     "output_type": "stream",
     "text": [
      " 97%|█████████▋| 1038/1074 [30:02<00:52,  1.45s/it]"
     ]
    },
    {
     "name": "stdout",
     "output_type": "stream",
     "text": [
      "0022001053\n",
      "[1610612757 1610612756]\n"
     ]
    },
    {
     "name": "stderr",
     "output_type": "stream",
     "text": [
      " 97%|█████████▋| 1039/1074 [30:03<00:46,  1.32s/it]"
     ]
    },
    {
     "name": "stdout",
     "output_type": "stream",
     "text": [
      "0022001050\n",
      "[1610612755 1610612748]\n"
     ]
    },
    {
     "name": "stderr",
     "output_type": "stream",
     "text": [
      " 97%|█████████▋| 1040/1074 [30:06<00:57,  1.70s/it]"
     ]
    },
    {
     "name": "stdout",
     "output_type": "stream",
     "text": [
      "0022001048\n",
      "[1610612749 1610612754]\n"
     ]
    },
    {
     "name": "stderr",
     "output_type": "stream",
     "text": [
      " 97%|█████████▋| 1041/1074 [30:07<00:49,  1.50s/it]"
     ]
    },
    {
     "name": "stdout",
     "output_type": "stream",
     "text": [
      "0022001049\n",
      "[1610612753 1610612737]\n"
     ]
    },
    {
     "name": "stderr",
     "output_type": "stream",
     "text": [
      " 97%|█████████▋| 1042/1074 [30:08<00:43,  1.36s/it]"
     ]
    },
    {
     "name": "stdout",
     "output_type": "stream",
     "text": [
      "0022001052\n",
      "[1610612743 1610612750]\n"
     ]
    },
    {
     "name": "stderr",
     "output_type": "stream",
     "text": [
      " 97%|█████████▋| 1043/1074 [30:09<00:39,  1.26s/it]"
     ]
    },
    {
     "name": "stdout",
     "output_type": "stream",
     "text": [
      "0022001047\n",
      "[1610612746 1610612766]\n"
     ]
    },
    {
     "name": "stderr",
     "output_type": "stream",
     "text": [
      " 97%|█████████▋| 1044/1074 [30:11<00:47,  1.60s/it]"
     ]
    },
    {
     "name": "stdout",
     "output_type": "stream",
     "text": [
      "0022000255\n",
      "[1610612758 1610612763]\n"
     ]
    },
    {
     "name": "stderr",
     "output_type": "stream",
     "text": [
      " 97%|█████████▋| 1045/1074 [30:12<00:41,  1.43s/it]"
     ]
    },
    {
     "name": "stdout",
     "output_type": "stream",
     "text": [
      "0022001055\n",
      "[1610612753 1610612755]\n"
     ]
    },
    {
     "name": "stderr",
     "output_type": "stream",
     "text": [
      " 97%|█████████▋| 1046/1074 [30:13<00:36,  1.31s/it]"
     ]
    },
    {
     "name": "stdout",
     "output_type": "stream",
     "text": [
      "0022001059\n",
      "[1610612740 1610612744]\n"
     ]
    },
    {
     "name": "stderr",
     "output_type": "stream",
     "text": [
      " 97%|█████████▋| 1047/1074 [30:16<00:49,  1.85s/it]"
     ]
    },
    {
     "name": "stdout",
     "output_type": "stream",
     "text": [
      "0022001058\n",
      "[1610612746 1610612745]\n"
     ]
    },
    {
     "name": "stderr",
     "output_type": "stream",
     "text": [
      " 98%|█████████▊| 1048/1074 [30:18<00:44,  1.72s/it]"
     ]
    },
    {
     "name": "stdout",
     "output_type": "stream",
     "text": [
      "0022001054\n",
      "[1610612743 1610612765]\n"
     ]
    },
    {
     "name": "stderr",
     "output_type": "stream",
     "text": [
      " 98%|█████████▊| 1049/1074 [30:19<00:37,  1.52s/it]"
     ]
    },
    {
     "name": "stdout",
     "output_type": "stream",
     "text": [
      "0022001057\n",
      "[1610612761 1610612742]\n"
     ]
    },
    {
     "name": "stderr",
     "output_type": "stream",
     "text": [
      " 98%|█████████▊| 1050/1074 [30:20<00:36,  1.52s/it]"
     ]
    },
    {
     "name": "stdout",
     "output_type": "stream",
     "text": [
      "0022000204\n",
      "[1610612739 1610612764]\n"
     ]
    },
    {
     "name": "stderr",
     "output_type": "stream",
     "text": [
      " 98%|█████████▊| 1051/1074 [30:23<00:40,  1.77s/it]"
     ]
    },
    {
     "name": "stdout",
     "output_type": "stream",
     "text": [
      "0022000263\n",
      "[1610612758 1610612763]\n"
     ]
    },
    {
     "name": "stderr",
     "output_type": "stream",
     "text": [
      " 98%|█████████▊| 1052/1074 [30:24<00:34,  1.55s/it]"
     ]
    },
    {
     "name": "stdout",
     "output_type": "stream",
     "text": [
      "0022001056\n",
      "[1610612762 1610612760]\n"
     ]
    },
    {
     "name": "stderr",
     "output_type": "stream",
     "text": [
      " 98%|█████████▊| 1053/1074 [30:25<00:29,  1.40s/it]"
     ]
    },
    {
     "name": "stdout",
     "output_type": "stream",
     "text": [
      "0022001065\n",
      "[1610612756 1610612759]\n"
     ]
    },
    {
     "name": "stderr",
     "output_type": "stream",
     "text": [
      " 98%|█████████▊| 1054/1074 [30:27<00:32,  1.60s/it]"
     ]
    },
    {
     "name": "stdout",
     "output_type": "stream",
     "text": [
      "0022001064\n",
      "[1610612766 1610612752]\n"
     ]
    },
    {
     "name": "stderr",
     "output_type": "stream",
     "text": [
      " 98%|█████████▊| 1055/1074 [30:29<00:34,  1.84s/it]"
     ]
    },
    {
     "name": "stdout",
     "output_type": "stream",
     "text": [
      "0022001060\n",
      "[1610612741 1610612751]\n"
     ]
    },
    {
     "name": "stderr",
     "output_type": "stream",
     "text": [
      " 98%|█████████▊| 1056/1074 [30:30<00:28,  1.61s/it]"
     ]
    },
    {
     "name": "stdout",
     "output_type": "stream",
     "text": [
      "0022001062\n",
      "[1610612748 1610612749]\n"
     ]
    },
    {
     "name": "stderr",
     "output_type": "stream",
     "text": [
      " 98%|█████████▊| 1057/1074 [30:31<00:24,  1.43s/it]"
     ]
    },
    {
     "name": "stdout",
     "output_type": "stream",
     "text": [
      "0022001061\n",
      "[1610612747 1610612754]\n"
     ]
    },
    {
     "name": "stderr",
     "output_type": "stream",
     "text": [
      " 99%|█████████▊| 1058/1074 [30:34<00:27,  1.73s/it]"
     ]
    },
    {
     "name": "stdout",
     "output_type": "stream",
     "text": [
      "0022001063\n",
      "[1610612738 1610612750]\n"
     ]
    },
    {
     "name": "stderr",
     "output_type": "stream",
     "text": [
      " 99%|█████████▊| 1059/1074 [30:36<00:28,  1.92s/it]"
     ]
    },
    {
     "name": "stdout",
     "output_type": "stream",
     "text": [
      "0022001075\n",
      "[1610612753 1610612755]\n"
     ]
    },
    {
     "name": "stderr",
     "output_type": "stream",
     "text": [
      " 99%|█████████▊| 1060/1074 [30:39<00:28,  2.05s/it]"
     ]
    },
    {
     "name": "stdout",
     "output_type": "stream",
     "text": [
      "0022001070\n",
      "[1610612763 1610612744]\n"
     ]
    },
    {
     "name": "stderr",
     "output_type": "stream",
     "text": [
      " 99%|█████████▉| 1061/1074 [30:40<00:23,  1.81s/it]"
     ]
    },
    {
     "name": "stdout",
     "output_type": "stream",
     "text": [
      "0022001078\n",
      "[1610612756 1610612759]\n"
     ]
    },
    {
     "name": "stderr",
     "output_type": "stream",
     "text": [
      " 99%|█████████▉| 1062/1074 [30:41<00:19,  1.58s/it]"
     ]
    },
    {
     "name": "stdout",
     "output_type": "stream",
     "text": [
      "0022001068\n",
      "[1610612749 1610612741]\n"
     ]
    },
    {
     "name": "stderr",
     "output_type": "stream",
     "text": [
      " 99%|█████████▉| 1063/1074 [30:42<00:15,  1.42s/it]"
     ]
    },
    {
     "name": "stdout",
     "output_type": "stream",
     "text": [
      "0022001073\n",
      "[1610612738 1610612752]\n"
     ]
    },
    {
     "name": "stderr",
     "output_type": "stream",
     "text": [
      " 99%|█████████▉| 1064/1074 [30:44<00:16,  1.63s/it]"
     ]
    },
    {
     "name": "stdout",
     "output_type": "stream",
     "text": [
      "0022001067\n",
      "[1610612739 1610612751]\n"
     ]
    },
    {
     "name": "stderr",
     "output_type": "stream",
     "text": [
      " 99%|█████████▉| 1065/1074 [30:45<00:13,  1.45s/it]"
     ]
    },
    {
     "name": "stdout",
     "output_type": "stream",
     "text": [
      "0022001076\n",
      "[1610612743 1610612757]\n"
     ]
    },
    {
     "name": "stderr",
     "output_type": "stream",
     "text": [
      " 99%|█████████▉| 1066/1074 [30:46<00:10,  1.34s/it]"
     ]
    },
    {
     "name": "stdout",
     "output_type": "stream",
     "text": [
      "0022001069\n",
      "[1610612748 1610612765]\n"
     ]
    },
    {
     "name": "stderr",
     "output_type": "stream",
     "text": [
      " 99%|█████████▉| 1067/1074 [30:47<00:08,  1.25s/it]"
     ]
    },
    {
     "name": "stdout",
     "output_type": "stream",
     "text": [
      "0022001066\n",
      "[1610612745 1610612737]\n"
     ]
    },
    {
     "name": "stderr",
     "output_type": "stream",
     "text": [
      " 99%|█████████▉| 1068/1074 [30:48<00:07,  1.19s/it]"
     ]
    },
    {
     "name": "stdout",
     "output_type": "stream",
     "text": [
      "0022001077\n",
      "[1610612762 1610612758]\n"
     ]
    },
    {
     "name": "stderr",
     "output_type": "stream",
     "text": [
      "100%|█████████▉| 1069/1074 [30:49<00:05,  1.14s/it]"
     ]
    },
    {
     "name": "stdout",
     "output_type": "stream",
     "text": [
      "0022001071\n",
      "[1610612742 1610612750]\n"
     ]
    },
    {
     "name": "stderr",
     "output_type": "stream",
     "text": [
      "100%|█████████▉| 1070/1074 [30:50<00:04,  1.11s/it]"
     ]
    },
    {
     "name": "stdout",
     "output_type": "stream",
     "text": [
      "0022001080\n",
      "[1610612766 1610612764]\n"
     ]
    },
    {
     "name": "stderr",
     "output_type": "stream",
     "text": [
      "100%|█████████▉| 1071/1074 [30:51<00:03,  1.09s/it]"
     ]
    },
    {
     "name": "stdout",
     "output_type": "stream",
     "text": [
      "0022001079\n",
      "[1610612754 1610612761]\n"
     ]
    },
    {
     "name": "stderr",
     "output_type": "stream",
     "text": [
      "100%|█████████▉| 1072/1074 [30:52<00:02,  1.08s/it]"
     ]
    },
    {
     "name": "stdout",
     "output_type": "stream",
     "text": [
      "0022001074\n",
      "[1610612746 1610612760]\n"
     ]
    },
    {
     "name": "stderr",
     "output_type": "stream",
     "text": [
      "100%|█████████▉| 1073/1074 [30:53<00:01,  1.07s/it]"
     ]
    },
    {
     "name": "stdout",
     "output_type": "stream",
     "text": [
      "0022001072\n",
      "[1610612747 1610612740]\n"
     ]
    },
    {
     "name": "stderr",
     "output_type": "stream",
     "text": [
      "100%|██████████| 1074/1074 [30:56<00:00,  1.73s/it]\n"
     ]
    }
   ],
   "source": [
    "starters, roster = get_roster_and_starters(test_sub)"
   ]
  },
  {
   "cell_type": "code",
   "execution_count": 37,
   "id": "e1728f36-a8c8-4579-90d1-9e1e5f2a004c",
   "metadata": {},
   "outputs": [],
   "source": [
    "starters.to_csv(\"starters_safe_big.csv\")\n",
    "roster.to_csv(\"roster_safe_big.csv\")"
   ]
  },
  {
   "cell_type": "code",
   "execution_count": 41,
   "id": "fcb2df31-34ca-404e-9a23-e6baab1cf3fe",
   "metadata": {
    "tags": []
   },
   "outputs": [],
   "source": [
    "starting_lineups = get_starting_lineup(starters)"
   ]
  },
  {
   "cell_type": "code",
   "execution_count": 42,
   "id": "3d426b50-c7ec-4108-8790-6e8a51bfaeaf",
   "metadata": {},
   "outputs": [],
   "source": [
    "subs = get_all_subs(data=test)"
   ]
  },
  {
   "cell_type": "code",
   "execution_count": 43,
   "id": "788d9b69-a7f7-42c7-a271-35656d20aacd",
   "metadata": {},
   "outputs": [
    {
     "name": "stderr",
     "output_type": "stream",
     "text": [
      "100%|██████████| 1074/1074 [03:52<00:00,  4.62it/s]\n"
     ]
    }
   ],
   "source": [
    "subs = get_all_subs(data=test)\n",
    "court = get_on_court(data=test_sub, starters=starters, sub=subs)\n",
    "col_score = ['HOME_PTS', 'AWAY_PTS', 'HOME_PM', 'HOME_PM_100', 'EST_POSSESSIONS']\n",
    "data_stints = merge_stint_pts(data=test_sub, court_data=court, col_score=col_score)"
   ]
  },
  {
   "cell_type": "code",
   "execution_count": 44,
   "id": "fd04a36b-d986-44a0-8c2d-54a99c746048",
   "metadata": {},
   "outputs": [],
   "source": [
    "col_score = ['HOME_PTS', 'AWAY_PTS', 'HOME_PM', 'HOME_PM_100', 'EST_POSSESSIONS']\n",
    "data_stints = merge_stint_pts(data=test_sub, court_data=court, col_score=col_score)"
   ]
  },
  {
   "cell_type": "code",
   "execution_count": 45,
   "id": "e031af41-831d-4247-b04a-60a263898d3b",
   "metadata": {},
   "outputs": [
    {
     "data": {
      "text/html": [
       "<div>\n",
       "<style scoped>\n",
       "    .dataframe tbody tr th:only-of-type {\n",
       "        vertical-align: middle;\n",
       "    }\n",
       "\n",
       "    .dataframe tbody tr th {\n",
       "        vertical-align: top;\n",
       "    }\n",
       "\n",
       "    .dataframe thead th {\n",
       "        text-align: right;\n",
       "    }\n",
       "</style>\n",
       "<table border=\"1\" class=\"dataframe\">\n",
       "  <thead>\n",
       "    <tr style=\"text-align: right;\">\n",
       "      <th></th>\n",
       "      <th>stint</th>\n",
       "      <th>HOME_1</th>\n",
       "      <th>HOME_2</th>\n",
       "      <th>HOME_3</th>\n",
       "      <th>HOME_4</th>\n",
       "      <th>HOME_5</th>\n",
       "      <th>AWAY_1</th>\n",
       "      <th>AWAY_2</th>\n",
       "      <th>AWAY_3</th>\n",
       "      <th>AWAY_4</th>\n",
       "      <th>AWAY_5</th>\n",
       "      <th>GAME_ID</th>\n",
       "      <th>game_time_left</th>\n",
       "      <th>HOME_PTS</th>\n",
       "      <th>AWAY_PTS</th>\n",
       "      <th>HOME_PM</th>\n",
       "      <th>HOME_PM_100</th>\n",
       "      <th>EST_POSSESSIONS</th>\n",
       "    </tr>\n",
       "  </thead>\n",
       "  <tbody>\n",
       "    <tr>\n",
       "      <th>0</th>\n",
       "      <td>0.0</td>\n",
       "      <td>203925.0</td>\n",
       "      <td>201142.0</td>\n",
       "      <td>201599.0</td>\n",
       "      <td>203915.0</td>\n",
       "      <td>202681.0</td>\n",
       "      <td>203952.0</td>\n",
       "      <td>1629672.0</td>\n",
       "      <td>1630164.0</td>\n",
       "      <td>1626162.0</td>\n",
       "      <td>201939.0</td>\n",
       "      <td>0022000001</td>\n",
       "      <td>2880.0</td>\n",
       "      <td>0.0</td>\n",
       "      <td>0.0</td>\n",
       "      <td>0.0</td>\n",
       "      <td>0.0</td>\n",
       "      <td>13.0</td>\n",
       "    </tr>\n",
       "    <tr>\n",
       "      <th>1</th>\n",
       "      <td>0.0</td>\n",
       "      <td>203925.0</td>\n",
       "      <td>201142.0</td>\n",
       "      <td>201599.0</td>\n",
       "      <td>203915.0</td>\n",
       "      <td>202681.0</td>\n",
       "      <td>203952.0</td>\n",
       "      <td>1629672.0</td>\n",
       "      <td>1630164.0</td>\n",
       "      <td>1626162.0</td>\n",
       "      <td>201939.0</td>\n",
       "      <td>0022000001</td>\n",
       "      <td>2840.0</td>\n",
       "      <td>0.0</td>\n",
       "      <td>0.0</td>\n",
       "      <td>0.0</td>\n",
       "      <td>0.0</td>\n",
       "      <td>13.0</td>\n",
       "    </tr>\n",
       "    <tr>\n",
       "      <th>2</th>\n",
       "      <td>0.0</td>\n",
       "      <td>203925.0</td>\n",
       "      <td>201142.0</td>\n",
       "      <td>201599.0</td>\n",
       "      <td>203915.0</td>\n",
       "      <td>202681.0</td>\n",
       "      <td>203952.0</td>\n",
       "      <td>1629672.0</td>\n",
       "      <td>1630164.0</td>\n",
       "      <td>1626162.0</td>\n",
       "      <td>201939.0</td>\n",
       "      <td>0022000001</td>\n",
       "      <td>2792.0</td>\n",
       "      <td>0.0</td>\n",
       "      <td>0.0</td>\n",
       "      <td>0.0</td>\n",
       "      <td>0.0</td>\n",
       "      <td>13.0</td>\n",
       "    </tr>\n",
       "    <tr>\n",
       "      <th>3</th>\n",
       "      <td>0.0</td>\n",
       "      <td>203925.0</td>\n",
       "      <td>201142.0</td>\n",
       "      <td>201599.0</td>\n",
       "      <td>203915.0</td>\n",
       "      <td>202681.0</td>\n",
       "      <td>203952.0</td>\n",
       "      <td>1629672.0</td>\n",
       "      <td>1630164.0</td>\n",
       "      <td>1626162.0</td>\n",
       "      <td>201939.0</td>\n",
       "      <td>0022000001</td>\n",
       "      <td>2792.0</td>\n",
       "      <td>1.0</td>\n",
       "      <td>0.0</td>\n",
       "      <td>1.0</td>\n",
       "      <td>10.0</td>\n",
       "      <td>10.0</td>\n",
       "    </tr>\n",
       "    <tr>\n",
       "      <th>4</th>\n",
       "      <td>0.0</td>\n",
       "      <td>203925.0</td>\n",
       "      <td>201142.0</td>\n",
       "      <td>201599.0</td>\n",
       "      <td>203915.0</td>\n",
       "      <td>202681.0</td>\n",
       "      <td>203952.0</td>\n",
       "      <td>1629672.0</td>\n",
       "      <td>1630164.0</td>\n",
       "      <td>1626162.0</td>\n",
       "      <td>201939.0</td>\n",
       "      <td>0022000001</td>\n",
       "      <td>2792.0</td>\n",
       "      <td>2.0</td>\n",
       "      <td>0.0</td>\n",
       "      <td>2.0</td>\n",
       "      <td>20.0</td>\n",
       "      <td>10.0</td>\n",
       "    </tr>\n",
       "    <tr>\n",
       "      <th>...</th>\n",
       "      <td>...</td>\n",
       "      <td>...</td>\n",
       "      <td>...</td>\n",
       "      <td>...</td>\n",
       "      <td>...</td>\n",
       "      <td>...</td>\n",
       "      <td>...</td>\n",
       "      <td>...</td>\n",
       "      <td>...</td>\n",
       "      <td>...</td>\n",
       "      <td>...</td>\n",
       "      <td>...</td>\n",
       "      <td>...</td>\n",
       "      <td>...</td>\n",
       "      <td>...</td>\n",
       "      <td>...</td>\n",
       "      <td>...</td>\n",
       "      <td>...</td>\n",
       "    </tr>\n",
       "    <tr>\n",
       "      <th>483907</th>\n",
       "      <td>38.0</td>\n",
       "      <td>1626195.0</td>\n",
       "      <td>1626195.0</td>\n",
       "      <td>1629638.0</td>\n",
       "      <td>1630184.0</td>\n",
       "      <td>1629712.0</td>\n",
       "      <td>203463.0</td>\n",
       "      <td>203076.0</td>\n",
       "      <td>203076.0</td>\n",
       "      <td>1628035.0</td>\n",
       "      <td>203463.0</td>\n",
       "      <td>0022001072</td>\n",
       "      <td>35.0</td>\n",
       "      <td>110.0</td>\n",
       "      <td>98.0</td>\n",
       "      <td>12.0</td>\n",
       "      <td>600.0</td>\n",
       "      <td>2.0</td>\n",
       "    </tr>\n",
       "    <tr>\n",
       "      <th>483908</th>\n",
       "      <td>38.0</td>\n",
       "      <td>1626195.0</td>\n",
       "      <td>1626195.0</td>\n",
       "      <td>1629638.0</td>\n",
       "      <td>1630184.0</td>\n",
       "      <td>1629712.0</td>\n",
       "      <td>203463.0</td>\n",
       "      <td>203076.0</td>\n",
       "      <td>203076.0</td>\n",
       "      <td>1628035.0</td>\n",
       "      <td>203463.0</td>\n",
       "      <td>0022001072</td>\n",
       "      <td>28.0</td>\n",
       "      <td>110.0</td>\n",
       "      <td>98.0</td>\n",
       "      <td>12.0</td>\n",
       "      <td>600.0</td>\n",
       "      <td>2.0</td>\n",
       "    </tr>\n",
       "    <tr>\n",
       "      <th>483909</th>\n",
       "      <td>38.0</td>\n",
       "      <td>1626195.0</td>\n",
       "      <td>1626195.0</td>\n",
       "      <td>1629638.0</td>\n",
       "      <td>1630184.0</td>\n",
       "      <td>1629712.0</td>\n",
       "      <td>203463.0</td>\n",
       "      <td>203076.0</td>\n",
       "      <td>203076.0</td>\n",
       "      <td>1628035.0</td>\n",
       "      <td>203463.0</td>\n",
       "      <td>0022001072</td>\n",
       "      <td>23.0</td>\n",
       "      <td>110.0</td>\n",
       "      <td>98.0</td>\n",
       "      <td>12.0</td>\n",
       "      <td>600.0</td>\n",
       "      <td>2.0</td>\n",
       "    </tr>\n",
       "    <tr>\n",
       "      <th>483910</th>\n",
       "      <td>38.0</td>\n",
       "      <td>1626195.0</td>\n",
       "      <td>1626195.0</td>\n",
       "      <td>1629638.0</td>\n",
       "      <td>1630184.0</td>\n",
       "      <td>1629712.0</td>\n",
       "      <td>203463.0</td>\n",
       "      <td>203076.0</td>\n",
       "      <td>203076.0</td>\n",
       "      <td>1628035.0</td>\n",
       "      <td>203463.0</td>\n",
       "      <td>0022001072</td>\n",
       "      <td>12.0</td>\n",
       "      <td>110.0</td>\n",
       "      <td>98.0</td>\n",
       "      <td>12.0</td>\n",
       "      <td>600.0</td>\n",
       "      <td>2.0</td>\n",
       "    </tr>\n",
       "    <tr>\n",
       "      <th>483911</th>\n",
       "      <td>39.0</td>\n",
       "      <td>1626195.0</td>\n",
       "      <td>1626195.0</td>\n",
       "      <td>1629638.0</td>\n",
       "      <td>1630184.0</td>\n",
       "      <td>1629712.0</td>\n",
       "      <td>203463.0</td>\n",
       "      <td>203076.0</td>\n",
       "      <td>203076.0</td>\n",
       "      <td>1628035.0</td>\n",
       "      <td>203463.0</td>\n",
       "      <td>0022001072</td>\n",
       "      <td>NaN</td>\n",
       "      <td>110.0</td>\n",
       "      <td>98.0</td>\n",
       "      <td>12.0</td>\n",
       "      <td>600.0</td>\n",
       "      <td>2.0</td>\n",
       "    </tr>\n",
       "  </tbody>\n",
       "</table>\n",
       "<p>436453 rows × 18 columns</p>\n",
       "</div>"
      ],
      "text/plain": [
       "        stint     HOME_1     HOME_2     HOME_3     HOME_4     HOME_5  \\\n",
       "0         0.0   203925.0   201142.0   201599.0   203915.0   202681.0   \n",
       "1         0.0   203925.0   201142.0   201599.0   203915.0   202681.0   \n",
       "2         0.0   203925.0   201142.0   201599.0   203915.0   202681.0   \n",
       "3         0.0   203925.0   201142.0   201599.0   203915.0   202681.0   \n",
       "4         0.0   203925.0   201142.0   201599.0   203915.0   202681.0   \n",
       "...       ...        ...        ...        ...        ...        ...   \n",
       "483907   38.0  1626195.0  1626195.0  1629638.0  1630184.0  1629712.0   \n",
       "483908   38.0  1626195.0  1626195.0  1629638.0  1630184.0  1629712.0   \n",
       "483909   38.0  1626195.0  1626195.0  1629638.0  1630184.0  1629712.0   \n",
       "483910   38.0  1626195.0  1626195.0  1629638.0  1630184.0  1629712.0   \n",
       "483911   39.0  1626195.0  1626195.0  1629638.0  1630184.0  1629712.0   \n",
       "\n",
       "          AWAY_1     AWAY_2     AWAY_3     AWAY_4    AWAY_5     GAME_ID  \\\n",
       "0       203952.0  1629672.0  1630164.0  1626162.0  201939.0  0022000001   \n",
       "1       203952.0  1629672.0  1630164.0  1626162.0  201939.0  0022000001   \n",
       "2       203952.0  1629672.0  1630164.0  1626162.0  201939.0  0022000001   \n",
       "3       203952.0  1629672.0  1630164.0  1626162.0  201939.0  0022000001   \n",
       "4       203952.0  1629672.0  1630164.0  1626162.0  201939.0  0022000001   \n",
       "...          ...        ...        ...        ...       ...         ...   \n",
       "483907  203463.0   203076.0   203076.0  1628035.0  203463.0  0022001072   \n",
       "483908  203463.0   203076.0   203076.0  1628035.0  203463.0  0022001072   \n",
       "483909  203463.0   203076.0   203076.0  1628035.0  203463.0  0022001072   \n",
       "483910  203463.0   203076.0   203076.0  1628035.0  203463.0  0022001072   \n",
       "483911  203463.0   203076.0   203076.0  1628035.0  203463.0  0022001072   \n",
       "\n",
       "        game_time_left  HOME_PTS  AWAY_PTS  HOME_PM  HOME_PM_100  \\\n",
       "0               2880.0       0.0       0.0      0.0          0.0   \n",
       "1               2840.0       0.0       0.0      0.0          0.0   \n",
       "2               2792.0       0.0       0.0      0.0          0.0   \n",
       "3               2792.0       1.0       0.0      1.0         10.0   \n",
       "4               2792.0       2.0       0.0      2.0         20.0   \n",
       "...                ...       ...       ...      ...          ...   \n",
       "483907            35.0     110.0      98.0     12.0        600.0   \n",
       "483908            28.0     110.0      98.0     12.0        600.0   \n",
       "483909            23.0     110.0      98.0     12.0        600.0   \n",
       "483910            12.0     110.0      98.0     12.0        600.0   \n",
       "483911             NaN     110.0      98.0     12.0        600.0   \n",
       "\n",
       "        EST_POSSESSIONS  \n",
       "0                  13.0  \n",
       "1                  13.0  \n",
       "2                  13.0  \n",
       "3                  10.0  \n",
       "4                  10.0  \n",
       "...                 ...  \n",
       "483907              2.0  \n",
       "483908              2.0  \n",
       "483909              2.0  \n",
       "483910              2.0  \n",
       "483911              2.0  \n",
       "\n",
       "[436453 rows x 18 columns]"
      ]
     },
     "execution_count": 45,
     "metadata": {},
     "output_type": "execute_result"
    }
   ],
   "source": [
    "data_stints"
   ]
  },
  {
   "cell_type": "code",
   "execution_count": null,
   "id": "098e0c0c-1f54-4ddf-afc7-9ae59f6014cf",
   "metadata": {},
   "outputs": [],
   "source": [
    "def stints_to_dummy_unique(data_stints, col_scores):\n",
    "    col_base = ['stint', 'GAME_ID', 'game_time_left']\n",
    "    col_names = [f'HOME_{i}' for i in np.arange(start=1, stop=6)]\n",
    "    col_names.extend([f'AWAY_{i}' for i in np.arange(start=1, stop=6)])\n",
    "    \n",
    "    data_slice = data_stints.drop(col_names, axis=1)\n",
    "    \n",
    "    # colnames, create dummy out of player columns\n",
    "    col_names = [f'HOME_{i}' for i in np.arange(start=1, stop=6)]\n",
    "    col_names.extend([f'AWAY_{i}' for i in np.arange(start=1, stop=6)])\n",
    "    tmp = pd.melt(data_stints, id_vars=['stint', 'GAME_ID'], value_vars=col_names)\n",
    "    tmp_dummy = pd.get_dummies(tmp, columns=['value'], prefix=\"\", prefix_sep=\"\")\n",
    "    \n",
    "    data_dummy = pd.merge(data_slice, tmp_dummy, on=['GAME_ID', 'stint'])\n",
    "    \n",
    "    data_dummy = data_dummy.drop('variable', axis=1)\n",
    "    \n",
    "    # get series objects to track the players and their \"position\"\n",
    "    series_location_player = pd.Series(data_dummy.columns[8:].values)\n",
    "    series_id_player = series_location_player.apply(lambda x: x.replace('.0', ''))\n",
    "    series_id_player = series_id_player.astype(int)\n",
    "    \n",
    "    return data_dummy, series_id_player"
   ]
  },
  {
   "cell_type": "code",
   "execution_count": null,
   "id": "6b833dfc-9770-40e1-a0e7-54e7c7eda818",
   "metadata": {},
   "outputs": [],
   "source": [
    "data_stints['GAME_ID'].unique().shape"
   ]
  },
  {
   "cell_type": "code",
   "execution_count": null,
   "id": "ea751eae-cfb9-4fda-bbfd-d7e7196660e1",
   "metadata": {},
   "outputs": [],
   "source": [
    "data_stints"
   ]
  },
  {
   "cell_type": "code",
   "execution_count": 47,
   "id": "080ef152-8cf9-44b3-b3a7-65800cfdba21",
   "metadata": {},
   "outputs": [],
   "source": [
    "def stints_to_dummy_unique_pm(data_stints):\n",
    "    \n",
    "    home_names = ['HOME_1', 'HOME_2', 'HOME_3', 'HOME_4', 'HOME_5']\n",
    "    away_names = ['AWAY_1', 'AWAY_2', 'AWAY_3', 'AWAY_4', 'AWAY_5']\n",
    "\n",
    "    data_home = data_stints.drop(away_names, axis=1)\n",
    "    data_away = data_stints.drop(home_names, axis=1)\n",
    "\n",
    "    home_long = pd.melt(data_home, id_vars=['stint', 'GAME_ID', 'HOME_PM_100', 'HOME_PM', 'HOME_PTS', 'AWAY_PTS'], \n",
    "                        value_vars=home_names)\n",
    "    dummy_home = pd.get_dummies(home_long, columns=['value'], prefix=\"\", prefix_sep=\"\")\n",
    "\n",
    "    away_long = pd.melt(data_away, id_vars=['stint', 'GAME_ID', 'HOME_PM_100', 'HOME_PM', 'HOME_PTS', 'AWAY_PTS'],\n",
    "                        value_vars=away_names)\n",
    "    dummy_away = pd.get_dummies(away_long, columns=['value'], prefix=\"\", prefix_sep=\"\")\n",
    "    dummy_away.iloc[:, 3:] =  dummy_away.iloc[:, 3:] * (-1)\n",
    "\n",
    "    dummy_pm = pd.concat([dummy_home, dummy_away], join='inner')\n",
    "    dummy_pm = dummy_pm.drop('variable', axis=1)\n",
    "    \n",
    "    # get series objects to track the players and their \"position\"\n",
    "    series_location_player = pd.Series(dummy_pm.columns[6:].values)\n",
    "    series_id_player = series_location_player.apply(lambda x: x.replace('.0', ''))\n",
    "    series_id_player = series_id_player.astype(int)\n",
    "\n",
    "    return dummy_pm, series_id_player"
   ]
  },
  {
   "cell_type": "code",
   "execution_count": 48,
   "id": "dbc5fece-cf40-4ab9-9fa2-e6e2d71adf26",
   "metadata": {},
   "outputs": [],
   "source": [
    "import pandas as pd"
   ]
  },
  {
   "cell_type": "code",
   "execution_count": 49,
   "id": "d8a50c00-a092-489d-bd6b-a60083ff09b1",
   "metadata": {},
   "outputs": [],
   "source": [
    "dummy_pm, player_ids = stints_to_dummy_unique_pm(data_stints=data_stints)"
   ]
  },
  {
   "cell_type": "code",
   "execution_count": 50,
   "id": "1c2d702d-15f6-40e5-8b26-ecdde9b3373e",
   "metadata": {},
   "outputs": [
    {
     "data": {
      "text/plain": [
       "(529,)"
      ]
     },
     "execution_count": 50,
     "metadata": {},
     "output_type": "execute_result"
    }
   ],
   "source": [
    "player_ids.unique().shape"
   ]
  },
  {
   "cell_type": "code",
   "execution_count": 51,
   "id": "1aa934be-65a5-4d7d-a2c5-294159fa1e50",
   "metadata": {},
   "outputs": [
    {
     "data": {
      "text/plain": [
       "(4364530, 535)"
      ]
     },
     "execution_count": 51,
     "metadata": {},
     "output_type": "execute_result"
    }
   ],
   "source": [
    "dummy_pm.shape"
   ]
  },
  {
   "cell_type": "markdown",
   "id": "658a1589-1bd9-4556-a328-2ba7aabdc390",
   "metadata": {},
   "source": [
    "**How to deal with empty stints? Leave them in or out? Do an ffill? How to deal with NA Home PTS?**"
   ]
  },
  {
   "cell_type": "code",
   "execution_count": 53,
   "id": "d1a2917e-5a18-4bb6-8a9a-d5b61736f616",
   "metadata": {
    "tags": []
   },
   "outputs": [],
   "source": [
    "dummy_pm.to_csv(\"dummy_safe_long.csv\") \n",
    "player_ids.to_csv(\"player_ids_model.csv\")"
   ]
  },
  {
   "cell_type": "code",
   "execution_count": 5,
   "id": "e5661b1e-1af0-48b5-b1af-5d78b707b3f6",
   "metadata": {},
   "outputs": [],
   "source": [
    "#unique_games = df_schedule[df_schedule['SEASON_ID'] == 22020]['GAME_ID'].unique()\n",
    "tmp = pd.read_csv(\"game_id_2020.csv\", dtype={'GAME_ID':str})\n",
    "unique_games = tmp['GAME_ID'].unique()"
   ]
  },
  {
   "cell_type": "code",
   "execution_count": 6,
   "id": "912d9994-2b36-4442-9db0-dd5bc6bd18f1",
   "metadata": {},
   "outputs": [],
   "source": [
    "sample_games = np.random.choice(unique_games, size=500, replace=False)"
   ]
  },
  {
   "cell_type": "code",
   "execution_count": 8,
   "id": "85f3896f-978a-474e-b02d-f1c8b9b71fe1",
   "metadata": {},
   "outputs": [],
   "source": [
    "cols_to_drop = ['stint', 'HOME_PTS', 'AWAY_PTS', 'HOME_PM_100', 'Unnamed: 0']\n",
    "cols = list(pd.read_csv(\"dummy_safe_long.csv\", nrows = 1))\n",
    "data_dummy = pd.read_csv(\"dummy_safe_long.csv\", dtype={'GAME_ID':str}, usecols =[i for i in cols if ~(i in cols_to_drop)])"
   ]
  },
  {
   "cell_type": "code",
   "execution_count": 9,
   "id": "47251570-7033-4d57-af86-2045888e2a3a",
   "metadata": {},
   "outputs": [],
   "source": [
    "data_sample = data_dummy[data_dummy['GAME_ID'].isin(sample_games)]"
   ]
  },
  {
   "cell_type": "code",
   "execution_count": 10,
   "id": "e00eaae5-a2ae-45cf-a1c6-22e4cff3887a",
   "metadata": {},
   "outputs": [],
   "source": [
    "data_dummy = ''"
   ]
  },
  {
   "cell_type": "code",
   "execution_count": 11,
   "id": "ef78fc71-d777-4c02-913d-7003bdada112",
   "metadata": {},
   "outputs": [],
   "source": [
    "data_sample = data_sample.drop(cols_to_drop, axis=1)"
   ]
  },
  {
   "cell_type": "code",
   "execution_count": 12,
   "id": "88a5a575-c5a9-4e30-a4ff-52c79b2948eb",
   "metadata": {},
   "outputs": [
    {
     "data": {
      "text/plain": [
       "(2027930, 531)"
      ]
     },
     "execution_count": 12,
     "metadata": {},
     "output_type": "execute_result"
    }
   ],
   "source": [
    "data_sample.shape"
   ]
  },
  {
   "cell_type": "code",
   "execution_count": null,
   "id": "835c6f4e-4011-4db6-a7b3-c6d98aabca70",
   "metadata": {},
   "outputs": [],
   "source": [
    "from sklearn.linear_model import RidgeCV\n",
    "model = RidgeCV(alphas=[1e-3, 1e-1, 1e1, 1e3, 1e4], normalize=True, cv=3)"
   ]
  },
  {
   "cell_type": "code",
   "execution_count": 13,
   "id": "e644107f-4d74-4d48-9d72-ea4ee55f5d49",
   "metadata": {},
   "outputs": [],
   "source": [
    "from sklearn.linear_model import Ridge\n",
    "model = Ridge(alpha=1.5e3) #1e-3"
   ]
  },
  {
   "cell_type": "code",
   "execution_count": 14,
   "id": "90785039-578e-4397-94c1-240f94140e15",
   "metadata": {},
   "outputs": [
    {
     "name": "stdout",
     "output_type": "stream",
     "text": [
      "Starting model fitting...\n"
     ]
    }
   ],
   "source": [
    "model, player_ids = estimate_model(data_dummy=data_sample, ids_start=2, col_y=\"HOME_PM\", model=model)"
   ]
  },
  {
   "cell_type": "code",
   "execution_count": 31,
   "id": "28225afa-7022-4ede-b446-448572f54659",
   "metadata": {},
   "outputs": [],
   "source": [
    "player_ids = data_sample.columns[2:].values"
   ]
  },
  {
   "cell_type": "code",
   "execution_count": null,
   "id": "30f98cd4-cc72-4d09-9d4b-e9d3e0db295d",
   "metadata": {},
   "outputs": [],
   "source": [
    "# model.best_score_, model.alpha_"
   ]
  },
  {
   "cell_type": "code",
   "execution_count": null,
   "id": "7c685f52-d54e-4378-a905-706ce88ed39f",
   "metadata": {},
   "outputs": [],
   "source": [
    "model.coef_.shape"
   ]
  },
  {
   "cell_type": "code",
   "execution_count": null,
   "id": "c2b330ac-ab43-45d1-b7f4-1c0913babd00",
   "metadata": {},
   "outputs": [],
   "source": [
    "#coef = model.coef_[:-1]\n",
    "#coef = coef[:-1]"
   ]
  },
  {
   "cell_type": "code",
   "execution_count": 22,
   "id": "6c5ca86d-b2ed-4067-bbff-818d192f2c84",
   "metadata": {},
   "outputs": [],
   "source": [
    "coef = model.coef_"
   ]
  },
  {
   "cell_type": "code",
   "execution_count": 25,
   "id": "06ed84df-1292-4d1a-9e51-5ebdf5273d05",
   "metadata": {},
   "outputs": [
    {
     "data": {
      "text/plain": [
       "(529,)"
      ]
     },
     "execution_count": 25,
     "metadata": {},
     "output_type": "execute_result"
    }
   ],
   "source": [
    "coef.shape"
   ]
  },
  {
   "cell_type": "code",
   "execution_count": 35,
   "id": "1f2c6bb8-0a13-49a0-b951-39c94e785ad5",
   "metadata": {},
   "outputs": [
    {
     "data": {
      "text/plain": [
       "(529,)"
      ]
     },
     "execution_count": 35,
     "metadata": {},
     "output_type": "execute_result"
    }
   ],
   "source": [
    "model.coef_.shape\n"
   ]
  },
  {
   "cell_type": "code",
   "execution_count": 34,
   "id": "b9a5dde6-3de1-4834-a18f-72bf05f057bf",
   "metadata": {},
   "outputs": [
    {
     "data": {
      "text/plain": [
       "(529,)"
      ]
     },
     "execution_count": 34,
     "metadata": {},
     "output_type": "execute_result"
    }
   ],
   "source": [
    "player_ids.shape\n"
   ]
  },
  {
   "cell_type": "code",
   "execution_count": 15,
   "id": "57fc6d44-cca5-485a-8b7a-802d3810e011",
   "metadata": {},
   "outputs": [],
   "source": [
    "import pickle\n",
    "pickle.dump(model, open(\"model_ridge_no_cv\", 'wb'))"
   ]
  },
  {
   "cell_type": "markdown",
   "id": "de21a5d3-cbda-4af3-af1a-9d7fa664c773",
   "metadata": {},
   "source": [
    "Merge daten müssen zur Saison passen"
   ]
  },
  {
   "cell_type": "code",
   "execution_count": 128,
   "id": "478aeaee-cd40-4730-815c-385c2db0d5ec",
   "metadata": {},
   "outputs": [],
   "source": [
    "scores = show_scores_player(coef=coef, series_id_player=player_ids)\n",
    "scores.to_csv(\"player_scores.csv\")"
   ]
  },
  {
   "cell_type": "code",
   "execution_count": 129,
   "id": "863efda8-399e-4bd4-8ccb-4c2be5b1eeb0",
   "metadata": {},
   "outputs": [
    {
     "data": {
      "text/html": [
       "<div>\n",
       "<style scoped>\n",
       "    .dataframe tbody tr th:only-of-type {\n",
       "        vertical-align: middle;\n",
       "    }\n",
       "\n",
       "    .dataframe tbody tr th {\n",
       "        vertical-align: top;\n",
       "    }\n",
       "\n",
       "    .dataframe thead th {\n",
       "        text-align: right;\n",
       "    }\n",
       "</style>\n",
       "<table border=\"1\" class=\"dataframe\">\n",
       "  <thead>\n",
       "    <tr style=\"text-align: right;\">\n",
       "      <th></th>\n",
       "      <th>PLAYER_ID</th>\n",
       "      <th>SCORE</th>\n",
       "      <th>id</th>\n",
       "      <th>player_names</th>\n",
       "      <th>position</th>\n",
       "      <th>team</th>\n",
       "    </tr>\n",
       "  </thead>\n",
       "  <tbody>\n",
       "    <tr>\n",
       "      <th>158</th>\n",
       "      <td>1629620</td>\n",
       "      <td>8.810845</td>\n",
       "      <td>1629620</td>\n",
       "      <td>Justin Robinson</td>\n",
       "      <td>G</td>\n",
       "      <td>OKC</td>\n",
       "    </tr>\n",
       "    <tr>\n",
       "      <th>371</th>\n",
       "      <td>203504</td>\n",
       "      <td>6.595839</td>\n",
       "      <td>203504</td>\n",
       "      <td>Trey Burke</td>\n",
       "      <td>G</td>\n",
       "      <td>DAL</td>\n",
       "    </tr>\n",
       "    <tr>\n",
       "      <th>45</th>\n",
       "      <td>1627780</td>\n",
       "      <td>6.206122</td>\n",
       "      <td>1627780</td>\n",
       "      <td>Gary Payton II</td>\n",
       "      <td>G</td>\n",
       "      <td>GSW</td>\n",
       "    </tr>\n",
       "    <tr>\n",
       "      <th>178</th>\n",
       "      <td>1629645</td>\n",
       "      <td>5.082931</td>\n",
       "      <td>1629645</td>\n",
       "      <td>Kevin Porter</td>\n",
       "      <td>G</td>\n",
       "      <td>HOU</td>\n",
       "    </tr>\n",
       "    <tr>\n",
       "      <th>90</th>\n",
       "      <td>1628467</td>\n",
       "      <td>4.385644</td>\n",
       "      <td>1628467</td>\n",
       "      <td>Maxi Kleber</td>\n",
       "      <td>F</td>\n",
       "      <td>DAL</td>\n",
       "    </tr>\n",
       "    <tr>\n",
       "      <th>...</th>\n",
       "      <td>...</td>\n",
       "      <td>...</td>\n",
       "      <td>...</td>\n",
       "      <td>...</td>\n",
       "      <td>...</td>\n",
       "      <td>...</td>\n",
       "    </tr>\n",
       "    <tr>\n",
       "      <th>92</th>\n",
       "      <td>1628539</td>\n",
       "      <td>-4.36008</td>\n",
       "      <td>1628539</td>\n",
       "      <td>Mychal Mulder</td>\n",
       "      <td>G</td>\n",
       "      <td>GSW</td>\n",
       "    </tr>\n",
       "    <tr>\n",
       "      <th>286</th>\n",
       "      <td>201580</td>\n",
       "      <td>-4.729927</td>\n",
       "      <td>201580</td>\n",
       "      <td>JaVale McGee</td>\n",
       "      <td>C</td>\n",
       "      <td>DEN</td>\n",
       "    </tr>\n",
       "    <tr>\n",
       "      <th>396</th>\n",
       "      <td>203953</td>\n",
       "      <td>-4.916955</td>\n",
       "      <td>203953</td>\n",
       "      <td>Jabari Parker</td>\n",
       "      <td>F</td>\n",
       "      <td>BOS</td>\n",
       "    </tr>\n",
       "    <tr>\n",
       "      <th>300</th>\n",
       "      <td>201961</td>\n",
       "      <td>-5.089548</td>\n",
       "      <td>201961</td>\n",
       "      <td>Wayne Ellington</td>\n",
       "      <td>G</td>\n",
       "      <td>DET</td>\n",
       "    </tr>\n",
       "    <tr>\n",
       "      <th>194</th>\n",
       "      <td>1629672</td>\n",
       "      <td>-6.87972</td>\n",
       "      <td>1629672</td>\n",
       "      <td>Eric Paschall</td>\n",
       "      <td>F</td>\n",
       "      <td>GSW</td>\n",
       "    </tr>\n",
       "  </tbody>\n",
       "</table>\n",
       "<p>411 rows × 6 columns</p>\n",
       "</div>"
      ],
      "text/plain": [
       "     PLAYER_ID     SCORE       id     player_names position team\n",
       "158    1629620  8.810845  1629620  Justin Robinson        G  OKC\n",
       "371     203504  6.595839   203504       Trey Burke        G  DAL\n",
       "45     1627780  6.206122  1627780   Gary Payton II        G  GSW\n",
       "178    1629645  5.082931  1629645     Kevin Porter        G  HOU\n",
       "90     1628467  4.385644  1628467      Maxi Kleber        F  DAL\n",
       "..         ...       ...      ...              ...      ...  ...\n",
       "92     1628539  -4.36008  1628539    Mychal Mulder        G  GSW\n",
       "286     201580 -4.729927   201580     JaVale McGee        C  DEN\n",
       "396     203953 -4.916955   203953    Jabari Parker        F  BOS\n",
       "300     201961 -5.089548   201961  Wayne Ellington        G  DET\n",
       "194    1629672  -6.87972  1629672    Eric Paschall        F  GSW\n",
       "\n",
       "[411 rows x 6 columns]"
      ]
     },
     "execution_count": 129,
     "metadata": {},
     "output_type": "execute_result"
    }
   ],
   "source": [
    "scores"
   ]
  },
  {
   "cell_type": "code",
   "execution_count": 130,
   "id": "34421a85-19ac-4b4c-9e9b-cf9fa0daf82c",
   "metadata": {},
   "outputs": [],
   "source": [
    "scores.to_csv(\"500_2020_player_scores.csv\")\n"
   ]
  },
  {
   "cell_type": "code",
   "execution_count": 3,
   "id": "3857e363-f14d-44f9-945c-f3e58a5b1c23",
   "metadata": {},
   "outputs": [],
   "source": [
    "scores = pd.read_csv(\"500_2020_player_scores.csv\")"
   ]
  },
  {
   "cell_type": "code",
   "execution_count": 53,
   "id": "ec16fcad-bba0-4f99-8dc1-6bfeb2c2d089",
   "metadata": {},
   "outputs": [
    {
     "name": "stderr",
     "output_type": "stream",
     "text": [
      "100%|██████████| 529/529 [20:57<00:00,  2.38s/it]\n"
     ]
    }
   ],
   "source": [
    "from src.get_data import get_clean_player_data\n",
    "import time\n",
    "from tqdm import tqdm\n",
    "list_player = list()\n",
    "\n",
    "for player in tqdm(scores['PLAYER_ID']):\n",
    "    list_player.append(get_clean_player_data(player_id=player))\n",
    "    time.sleep(0.75)\n",
    "    \n",
    "data_player = pd.concat(list_player)"
   ]
  },
  {
   "cell_type": "code",
   "execution_count": 88,
   "id": "bf2f57eb-f868-4e6a-8672-9dbe67362acc",
   "metadata": {},
   "outputs": [],
   "source": [
    "data_player['PLAYER_ID'] = data_player['PLAYER_ID'].astype(int)"
   ]
  },
  {
   "cell_type": "code",
   "execution_count": 89,
   "id": "4a81e7be-0fa3-4bb2-a5a0-ef94f7176aeb",
   "metadata": {},
   "outputs": [],
   "source": [
    "data_player.to_csv(\"player_data_for_scores.csv\")"
   ]
  },
  {
   "cell_type": "code",
   "execution_count": 105,
   "id": "9d094455-a12c-445a-9bde-0b81c7eeddbb",
   "metadata": {},
   "outputs": [],
   "source": [
    "last_season = data_player[data_player['SEASON_ID'] == \"2020-21\"]\n"
   ]
  },
  {
   "cell_type": "code",
   "execution_count": 131,
   "id": "9891eabe-4551-4d1a-98f2-39e72f684349",
   "metadata": {},
   "outputs": [
    {
     "data": {
      "text/html": [
       "<div>\n",
       "<style scoped>\n",
       "    .dataframe tbody tr th:only-of-type {\n",
       "        vertical-align: middle;\n",
       "    }\n",
       "\n",
       "    .dataframe tbody tr th {\n",
       "        vertical-align: top;\n",
       "    }\n",
       "\n",
       "    .dataframe thead th {\n",
       "        text-align: right;\n",
       "    }\n",
       "</style>\n",
       "<table border=\"1\" class=\"dataframe\">\n",
       "  <thead>\n",
       "    <tr style=\"text-align: right;\">\n",
       "      <th></th>\n",
       "      <th>PLAYER_ID</th>\n",
       "      <th>SEASON_ID</th>\n",
       "      <th>TEAM_ID</th>\n",
       "      <th>PLAYER_AGE</th>\n",
       "      <th>GP</th>\n",
       "      <th>GS</th>\n",
       "      <th>MIN</th>\n",
       "      <th>FG_PCT</th>\n",
       "      <th>FGA</th>\n",
       "      <th>FG3_PCT</th>\n",
       "      <th>...</th>\n",
       "      <th>STL</th>\n",
       "      <th>BLK</th>\n",
       "      <th>TOV</th>\n",
       "      <th>PF</th>\n",
       "      <th>PTS</th>\n",
       "      <th>SCORE</th>\n",
       "      <th>id</th>\n",
       "      <th>player_names</th>\n",
       "      <th>position</th>\n",
       "      <th>team</th>\n",
       "    </tr>\n",
       "  </thead>\n",
       "  <tbody>\n",
       "    <tr>\n",
       "      <th>0</th>\n",
       "      <td>1629620</td>\n",
       "      <td>2020-21</td>\n",
       "      <td>1.610613e+09</td>\n",
       "      <td>23.0</td>\n",
       "      <td>9</td>\n",
       "      <td>0</td>\n",
       "      <td>9.8</td>\n",
       "      <td>0.333</td>\n",
       "      <td>2.3</td>\n",
       "      <td>0.286</td>\n",
       "      <td>...</td>\n",
       "      <td>0.3</td>\n",
       "      <td>0.0</td>\n",
       "      <td>0.2</td>\n",
       "      <td>1.1</td>\n",
       "      <td>2.3</td>\n",
       "      <td>8.810845</td>\n",
       "      <td>1629620</td>\n",
       "      <td>Justin Robinson</td>\n",
       "      <td>G</td>\n",
       "      <td>OKC</td>\n",
       "    </tr>\n",
       "    <tr>\n",
       "      <th>1</th>\n",
       "      <td>203504</td>\n",
       "      <td>2020-21</td>\n",
       "      <td>1.610613e+09</td>\n",
       "      <td>28.0</td>\n",
       "      <td>62</td>\n",
       "      <td>1</td>\n",
       "      <td>14.7</td>\n",
       "      <td>0.428</td>\n",
       "      <td>5.7</td>\n",
       "      <td>0.354</td>\n",
       "      <td>...</td>\n",
       "      <td>0.6</td>\n",
       "      <td>0.1</td>\n",
       "      <td>0.5</td>\n",
       "      <td>1.0</td>\n",
       "      <td>6.6</td>\n",
       "      <td>6.595839</td>\n",
       "      <td>203504</td>\n",
       "      <td>Trey Burke</td>\n",
       "      <td>G</td>\n",
       "      <td>DAL</td>\n",
       "    </tr>\n",
       "    <tr>\n",
       "      <th>2</th>\n",
       "      <td>1627780</td>\n",
       "      <td>2020-21</td>\n",
       "      <td>1.610613e+09</td>\n",
       "      <td>28.0</td>\n",
       "      <td>10</td>\n",
       "      <td>0</td>\n",
       "      <td>4.0</td>\n",
       "      <td>0.769</td>\n",
       "      <td>1.3</td>\n",
       "      <td>0.5</td>\n",
       "      <td>...</td>\n",
       "      <td>0.6</td>\n",
       "      <td>0.1</td>\n",
       "      <td>0.1</td>\n",
       "      <td>0.8</td>\n",
       "      <td>2.5</td>\n",
       "      <td>6.206122</td>\n",
       "      <td>1627780</td>\n",
       "      <td>Gary Payton II</td>\n",
       "      <td>G</td>\n",
       "      <td>GSW</td>\n",
       "    </tr>\n",
       "    <tr>\n",
       "      <th>3</th>\n",
       "      <td>1629645</td>\n",
       "      <td>2020-21</td>\n",
       "      <td>1.610613e+09</td>\n",
       "      <td>21.0</td>\n",
       "      <td>26</td>\n",
       "      <td>23</td>\n",
       "      <td>32.1</td>\n",
       "      <td>0.425</td>\n",
       "      <td>14.1</td>\n",
       "      <td>0.311</td>\n",
       "      <td>...</td>\n",
       "      <td>0.7</td>\n",
       "      <td>0.3</td>\n",
       "      <td>3.5</td>\n",
       "      <td>2.3</td>\n",
       "      <td>16.6</td>\n",
       "      <td>5.082931</td>\n",
       "      <td>1629645</td>\n",
       "      <td>Kevin Porter</td>\n",
       "      <td>G</td>\n",
       "      <td>HOU</td>\n",
       "    </tr>\n",
       "    <tr>\n",
       "      <th>4</th>\n",
       "      <td>1628467</td>\n",
       "      <td>2020-21</td>\n",
       "      <td>1.610613e+09</td>\n",
       "      <td>29.0</td>\n",
       "      <td>50</td>\n",
       "      <td>40</td>\n",
       "      <td>26.8</td>\n",
       "      <td>0.422</td>\n",
       "      <td>5.5</td>\n",
       "      <td>0.41</td>\n",
       "      <td>...</td>\n",
       "      <td>0.5</td>\n",
       "      <td>0.7</td>\n",
       "      <td>0.6</td>\n",
       "      <td>2.1</td>\n",
       "      <td>7.1</td>\n",
       "      <td>4.385644</td>\n",
       "      <td>1628467</td>\n",
       "      <td>Maxi Kleber</td>\n",
       "      <td>F</td>\n",
       "      <td>DAL</td>\n",
       "    </tr>\n",
       "    <tr>\n",
       "      <th>...</th>\n",
       "      <td>...</td>\n",
       "      <td>...</td>\n",
       "      <td>...</td>\n",
       "      <td>...</td>\n",
       "      <td>...</td>\n",
       "      <td>...</td>\n",
       "      <td>...</td>\n",
       "      <td>...</td>\n",
       "      <td>...</td>\n",
       "      <td>...</td>\n",
       "      <td>...</td>\n",
       "      <td>...</td>\n",
       "      <td>...</td>\n",
       "      <td>...</td>\n",
       "      <td>...</td>\n",
       "      <td>...</td>\n",
       "      <td>...</td>\n",
       "      <td>...</td>\n",
       "      <td>...</td>\n",
       "      <td>...</td>\n",
       "      <td>...</td>\n",
       "    </tr>\n",
       "    <tr>\n",
       "      <th>477</th>\n",
       "      <td>201580</td>\n",
       "      <td>2020-21</td>\n",
       "      <td>1.610613e+09</td>\n",
       "      <td>33.0</td>\n",
       "      <td>13</td>\n",
       "      <td>1</td>\n",
       "      <td>13.5</td>\n",
       "      <td>0.478</td>\n",
       "      <td>5.2</td>\n",
       "      <td>0.0</td>\n",
       "      <td>...</td>\n",
       "      <td>0.2</td>\n",
       "      <td>1.1</td>\n",
       "      <td>1.2</td>\n",
       "      <td>3.2</td>\n",
       "      <td>5.5</td>\n",
       "      <td>-4.729927</td>\n",
       "      <td>201580</td>\n",
       "      <td>JaVale McGee</td>\n",
       "      <td>C</td>\n",
       "      <td>DEN</td>\n",
       "    </tr>\n",
       "    <tr>\n",
       "      <th>478</th>\n",
       "      <td>203953</td>\n",
       "      <td>2020-21</td>\n",
       "      <td>1.610613e+09</td>\n",
       "      <td>26.0</td>\n",
       "      <td>3</td>\n",
       "      <td>0</td>\n",
       "      <td>9.1</td>\n",
       "      <td>0.571</td>\n",
       "      <td>2.3</td>\n",
       "      <td>0.0</td>\n",
       "      <td>...</td>\n",
       "      <td>0.0</td>\n",
       "      <td>0.3</td>\n",
       "      <td>1.0</td>\n",
       "      <td>1.3</td>\n",
       "      <td>2.7</td>\n",
       "      <td>-4.916955</td>\n",
       "      <td>203953</td>\n",
       "      <td>Jabari Parker</td>\n",
       "      <td>F</td>\n",
       "      <td>BOS</td>\n",
       "    </tr>\n",
       "    <tr>\n",
       "      <th>479</th>\n",
       "      <td>203953</td>\n",
       "      <td>2020-21</td>\n",
       "      <td>1.610613e+09</td>\n",
       "      <td>26.0</td>\n",
       "      <td>10</td>\n",
       "      <td>0</td>\n",
       "      <td>13.8</td>\n",
       "      <td>0.542</td>\n",
       "      <td>4.8</td>\n",
       "      <td>0.2</td>\n",
       "      <td>...</td>\n",
       "      <td>0.1</td>\n",
       "      <td>0.4</td>\n",
       "      <td>0.7</td>\n",
       "      <td>0.9</td>\n",
       "      <td>6.4</td>\n",
       "      <td>-4.916955</td>\n",
       "      <td>203953</td>\n",
       "      <td>Jabari Parker</td>\n",
       "      <td>F</td>\n",
       "      <td>BOS</td>\n",
       "    </tr>\n",
       "    <tr>\n",
       "      <th>480</th>\n",
       "      <td>201961</td>\n",
       "      <td>2020-21</td>\n",
       "      <td>1.610613e+09</td>\n",
       "      <td>33.0</td>\n",
       "      <td>46</td>\n",
       "      <td>31</td>\n",
       "      <td>22.0</td>\n",
       "      <td>0.441</td>\n",
       "      <td>7.3</td>\n",
       "      <td>0.422</td>\n",
       "      <td>...</td>\n",
       "      <td>0.4</td>\n",
       "      <td>0.2</td>\n",
       "      <td>0.7</td>\n",
       "      <td>1.3</td>\n",
       "      <td>9.6</td>\n",
       "      <td>-5.089548</td>\n",
       "      <td>201961</td>\n",
       "      <td>Wayne Ellington</td>\n",
       "      <td>G</td>\n",
       "      <td>DET</td>\n",
       "    </tr>\n",
       "    <tr>\n",
       "      <th>481</th>\n",
       "      <td>1629672</td>\n",
       "      <td>2020-21</td>\n",
       "      <td>1.610613e+09</td>\n",
       "      <td>24.0</td>\n",
       "      <td>40</td>\n",
       "      <td>2</td>\n",
       "      <td>17.4</td>\n",
       "      <td>0.497</td>\n",
       "      <td>7.5</td>\n",
       "      <td>0.333</td>\n",
       "      <td>...</td>\n",
       "      <td>0.3</td>\n",
       "      <td>0.2</td>\n",
       "      <td>1.1</td>\n",
       "      <td>1.7</td>\n",
       "      <td>9.5</td>\n",
       "      <td>-6.87972</td>\n",
       "      <td>1629672</td>\n",
       "      <td>Eric Paschall</td>\n",
       "      <td>F</td>\n",
       "      <td>GSW</td>\n",
       "    </tr>\n",
       "  </tbody>\n",
       "</table>\n",
       "<p>482 rows × 27 columns</p>\n",
       "</div>"
      ],
      "text/plain": [
       "     PLAYER_ID SEASON_ID       TEAM_ID PLAYER_AGE  GP  GS   MIN  FG_PCT   FGA  \\\n",
       "0      1629620   2020-21  1.610613e+09       23.0   9   0   9.8   0.333   2.3   \n",
       "1       203504   2020-21  1.610613e+09       28.0  62   1  14.7   0.428   5.7   \n",
       "2      1627780   2020-21  1.610613e+09       28.0  10   0   4.0   0.769   1.3   \n",
       "3      1629645   2020-21  1.610613e+09       21.0  26  23  32.1   0.425  14.1   \n",
       "4      1628467   2020-21  1.610613e+09       29.0  50  40  26.8   0.422   5.5   \n",
       "..         ...       ...           ...        ...  ..  ..   ...     ...   ...   \n",
       "477     201580   2020-21  1.610613e+09       33.0  13   1  13.5   0.478   5.2   \n",
       "478     203953   2020-21  1.610613e+09       26.0   3   0   9.1   0.571   2.3   \n",
       "479     203953   2020-21  1.610613e+09       26.0  10   0  13.8   0.542   4.8   \n",
       "480     201961   2020-21  1.610613e+09       33.0  46  31  22.0   0.441   7.3   \n",
       "481    1629672   2020-21  1.610613e+09       24.0  40   2  17.4   0.497   7.5   \n",
       "\n",
       "    FG3_PCT  ...  STL  BLK  TOV   PF   PTS     SCORE       id  \\\n",
       "0     0.286  ...  0.3  0.0  0.2  1.1   2.3  8.810845  1629620   \n",
       "1     0.354  ...  0.6  0.1  0.5  1.0   6.6  6.595839   203504   \n",
       "2       0.5  ...  0.6  0.1  0.1  0.8   2.5  6.206122  1627780   \n",
       "3     0.311  ...  0.7  0.3  3.5  2.3  16.6  5.082931  1629645   \n",
       "4      0.41  ...  0.5  0.7  0.6  2.1   7.1  4.385644  1628467   \n",
       "..      ...  ...  ...  ...  ...  ...   ...       ...      ...   \n",
       "477     0.0  ...  0.2  1.1  1.2  3.2   5.5 -4.729927   201580   \n",
       "478     0.0  ...  0.0  0.3  1.0  1.3   2.7 -4.916955   203953   \n",
       "479     0.2  ...  0.1  0.4  0.7  0.9   6.4 -4.916955   203953   \n",
       "480   0.422  ...  0.4  0.2  0.7  1.3   9.6 -5.089548   201961   \n",
       "481   0.333  ...  0.3  0.2  1.1  1.7   9.5  -6.87972  1629672   \n",
       "\n",
       "        player_names  position  team  \n",
       "0    Justin Robinson         G   OKC  \n",
       "1         Trey Burke         G   DAL  \n",
       "2     Gary Payton II         G   GSW  \n",
       "3       Kevin Porter         G   HOU  \n",
       "4        Maxi Kleber         F   DAL  \n",
       "..               ...       ...   ...  \n",
       "477     JaVale McGee         C   DEN  \n",
       "478    Jabari Parker         F   BOS  \n",
       "479    Jabari Parker         F   BOS  \n",
       "480  Wayne Ellington         G   DET  \n",
       "481    Eric Paschall         F   GSW  \n",
       "\n",
       "[482 rows x 27 columns]"
      ]
     },
     "execution_count": 131,
     "metadata": {},
     "output_type": "execute_result"
    }
   ],
   "source": [
    "full_player_rating = pd.merge(last_season, scores, on='PLAYER_ID', how='right')\n",
    "full_player_rating.sort_values('SCORE', ascending=False)\n",
    "#full_player_rating[~full_player_rating['id'].isna()].sort_values('SCORE', ascending=False).head(30)"
   ]
  },
  {
   "cell_type": "code",
   "execution_count": 132,
   "id": "861ddfe6-2f30-4c9e-b996-6b2d4c012e12",
   "metadata": {},
   "outputs": [],
   "source": [
    "full_player_rating.to_csv(\"full_player_rating.csv\")"
   ]
  },
  {
   "cell_type": "code",
   "execution_count": 133,
   "id": "2c91dc2a-1696-46e5-ae40-ca9f24304bf2",
   "metadata": {},
   "outputs": [
    {
     "data": {
      "text/html": [
       "<div>\n",
       "<style scoped>\n",
       "    .dataframe tbody tr th:only-of-type {\n",
       "        vertical-align: middle;\n",
       "    }\n",
       "\n",
       "    .dataframe tbody tr th {\n",
       "        vertical-align: top;\n",
       "    }\n",
       "\n",
       "    .dataframe thead th {\n",
       "        text-align: right;\n",
       "    }\n",
       "</style>\n",
       "<table border=\"1\" class=\"dataframe\">\n",
       "  <thead>\n",
       "    <tr style=\"text-align: right;\">\n",
       "      <th></th>\n",
       "      <th>PLAYER_ID</th>\n",
       "      <th>SCORE</th>\n",
       "      <th>id</th>\n",
       "      <th>player_names</th>\n",
       "      <th>position</th>\n",
       "      <th>team</th>\n",
       "    </tr>\n",
       "  </thead>\n",
       "  <tbody>\n",
       "    <tr>\n",
       "      <th>158</th>\n",
       "      <td>1629620</td>\n",
       "      <td>8.810845</td>\n",
       "      <td>1629620</td>\n",
       "      <td>Justin Robinson</td>\n",
       "      <td>G</td>\n",
       "      <td>OKC</td>\n",
       "    </tr>\n",
       "    <tr>\n",
       "      <th>371</th>\n",
       "      <td>203504</td>\n",
       "      <td>6.595839</td>\n",
       "      <td>203504</td>\n",
       "      <td>Trey Burke</td>\n",
       "      <td>G</td>\n",
       "      <td>DAL</td>\n",
       "    </tr>\n",
       "    <tr>\n",
       "      <th>45</th>\n",
       "      <td>1627780</td>\n",
       "      <td>6.206122</td>\n",
       "      <td>1627780</td>\n",
       "      <td>Gary Payton II</td>\n",
       "      <td>G</td>\n",
       "      <td>GSW</td>\n",
       "    </tr>\n",
       "    <tr>\n",
       "      <th>178</th>\n",
       "      <td>1629645</td>\n",
       "      <td>5.082931</td>\n",
       "      <td>1629645</td>\n",
       "      <td>Kevin Porter</td>\n",
       "      <td>G</td>\n",
       "      <td>HOU</td>\n",
       "    </tr>\n",
       "    <tr>\n",
       "      <th>90</th>\n",
       "      <td>1628467</td>\n",
       "      <td>4.385644</td>\n",
       "      <td>1628467</td>\n",
       "      <td>Maxi Kleber</td>\n",
       "      <td>F</td>\n",
       "      <td>DAL</td>\n",
       "    </tr>\n",
       "    <tr>\n",
       "      <th>...</th>\n",
       "      <td>...</td>\n",
       "      <td>...</td>\n",
       "      <td>...</td>\n",
       "      <td>...</td>\n",
       "      <td>...</td>\n",
       "      <td>...</td>\n",
       "    </tr>\n",
       "    <tr>\n",
       "      <th>92</th>\n",
       "      <td>1628539</td>\n",
       "      <td>-4.36008</td>\n",
       "      <td>1628539</td>\n",
       "      <td>Mychal Mulder</td>\n",
       "      <td>G</td>\n",
       "      <td>GSW</td>\n",
       "    </tr>\n",
       "    <tr>\n",
       "      <th>286</th>\n",
       "      <td>201580</td>\n",
       "      <td>-4.729927</td>\n",
       "      <td>201580</td>\n",
       "      <td>JaVale McGee</td>\n",
       "      <td>C</td>\n",
       "      <td>DEN</td>\n",
       "    </tr>\n",
       "    <tr>\n",
       "      <th>396</th>\n",
       "      <td>203953</td>\n",
       "      <td>-4.916955</td>\n",
       "      <td>203953</td>\n",
       "      <td>Jabari Parker</td>\n",
       "      <td>F</td>\n",
       "      <td>BOS</td>\n",
       "    </tr>\n",
       "    <tr>\n",
       "      <th>300</th>\n",
       "      <td>201961</td>\n",
       "      <td>-5.089548</td>\n",
       "      <td>201961</td>\n",
       "      <td>Wayne Ellington</td>\n",
       "      <td>G</td>\n",
       "      <td>DET</td>\n",
       "    </tr>\n",
       "    <tr>\n",
       "      <th>194</th>\n",
       "      <td>1629672</td>\n",
       "      <td>-6.87972</td>\n",
       "      <td>1629672</td>\n",
       "      <td>Eric Paschall</td>\n",
       "      <td>F</td>\n",
       "      <td>GSW</td>\n",
       "    </tr>\n",
       "  </tbody>\n",
       "</table>\n",
       "<p>411 rows × 6 columns</p>\n",
       "</div>"
      ],
      "text/plain": [
       "     PLAYER_ID     SCORE       id     player_names position team\n",
       "158    1629620  8.810845  1629620  Justin Robinson        G  OKC\n",
       "371     203504  6.595839   203504       Trey Burke        G  DAL\n",
       "45     1627780  6.206122  1627780   Gary Payton II        G  GSW\n",
       "178    1629645  5.082931  1629645     Kevin Porter        G  HOU\n",
       "90     1628467  4.385644  1628467      Maxi Kleber        F  DAL\n",
       "..         ...       ...      ...              ...      ...  ...\n",
       "92     1628539  -4.36008  1628539    Mychal Mulder        G  GSW\n",
       "286     201580 -4.729927   201580     JaVale McGee        C  DEN\n",
       "396     203953 -4.916955   203953    Jabari Parker        F  BOS\n",
       "300     201961 -5.089548   201961  Wayne Ellington        G  DET\n",
       "194    1629672  -6.87972  1629672    Eric Paschall        F  GSW\n",
       "\n",
       "[411 rows x 6 columns]"
      ]
     },
     "execution_count": 133,
     "metadata": {},
     "output_type": "execute_result"
    }
   ],
   "source": [
    "scores.sort_values(['SCORE'], ascending=False)"
   ]
  },
  {
   "cell_type": "code",
   "execution_count": 138,
   "id": "11a7e800-bbb2-45d2-abb2-58eb21339640",
   "metadata": {},
   "outputs": [
    {
     "data": {
      "text/html": [
       "<div>\n",
       "<style scoped>\n",
       "    .dataframe tbody tr th:only-of-type {\n",
       "        vertical-align: middle;\n",
       "    }\n",
       "\n",
       "    .dataframe tbody tr th {\n",
       "        vertical-align: top;\n",
       "    }\n",
       "\n",
       "    .dataframe thead th {\n",
       "        text-align: right;\n",
       "    }\n",
       "</style>\n",
       "<table border=\"1\" class=\"dataframe\">\n",
       "  <thead>\n",
       "    <tr style=\"text-align: right;\">\n",
       "      <th></th>\n",
       "      <th>PLAYER_ID</th>\n",
       "      <th>SCORE</th>\n",
       "      <th>id</th>\n",
       "      <th>player_names</th>\n",
       "      <th>position</th>\n",
       "      <th>team</th>\n",
       "    </tr>\n",
       "  </thead>\n",
       "  <tbody>\n",
       "    <tr>\n",
       "      <th>158</th>\n",
       "      <td>1629620</td>\n",
       "      <td>8.810845</td>\n",
       "      <td>1629620</td>\n",
       "      <td>Justin Robinson</td>\n",
       "      <td>G</td>\n",
       "      <td>OKC</td>\n",
       "    </tr>\n",
       "    <tr>\n",
       "      <th>371</th>\n",
       "      <td>203504</td>\n",
       "      <td>6.595839</td>\n",
       "      <td>203504</td>\n",
       "      <td>Trey Burke</td>\n",
       "      <td>G</td>\n",
       "      <td>DAL</td>\n",
       "    </tr>\n",
       "    <tr>\n",
       "      <th>45</th>\n",
       "      <td>1627780</td>\n",
       "      <td>6.206122</td>\n",
       "      <td>1627780</td>\n",
       "      <td>Gary Payton II</td>\n",
       "      <td>G</td>\n",
       "      <td>GSW</td>\n",
       "    </tr>\n",
       "    <tr>\n",
       "      <th>178</th>\n",
       "      <td>1629645</td>\n",
       "      <td>5.082931</td>\n",
       "      <td>1629645</td>\n",
       "      <td>Kevin Porter</td>\n",
       "      <td>G</td>\n",
       "      <td>HOU</td>\n",
       "    </tr>\n",
       "    <tr>\n",
       "      <th>90</th>\n",
       "      <td>1628467</td>\n",
       "      <td>4.385644</td>\n",
       "      <td>1628467</td>\n",
       "      <td>Maxi Kleber</td>\n",
       "      <td>F</td>\n",
       "      <td>DAL</td>\n",
       "    </tr>\n",
       "    <tr>\n",
       "      <th>...</th>\n",
       "      <td>...</td>\n",
       "      <td>...</td>\n",
       "      <td>...</td>\n",
       "      <td>...</td>\n",
       "      <td>...</td>\n",
       "      <td>...</td>\n",
       "    </tr>\n",
       "    <tr>\n",
       "      <th>92</th>\n",
       "      <td>1628539</td>\n",
       "      <td>-4.36008</td>\n",
       "      <td>1628539</td>\n",
       "      <td>Mychal Mulder</td>\n",
       "      <td>G</td>\n",
       "      <td>GSW</td>\n",
       "    </tr>\n",
       "    <tr>\n",
       "      <th>286</th>\n",
       "      <td>201580</td>\n",
       "      <td>-4.729927</td>\n",
       "      <td>201580</td>\n",
       "      <td>JaVale McGee</td>\n",
       "      <td>C</td>\n",
       "      <td>DEN</td>\n",
       "    </tr>\n",
       "    <tr>\n",
       "      <th>396</th>\n",
       "      <td>203953</td>\n",
       "      <td>-4.916955</td>\n",
       "      <td>203953</td>\n",
       "      <td>Jabari Parker</td>\n",
       "      <td>F</td>\n",
       "      <td>BOS</td>\n",
       "    </tr>\n",
       "    <tr>\n",
       "      <th>300</th>\n",
       "      <td>201961</td>\n",
       "      <td>-5.089548</td>\n",
       "      <td>201961</td>\n",
       "      <td>Wayne Ellington</td>\n",
       "      <td>G</td>\n",
       "      <td>DET</td>\n",
       "    </tr>\n",
       "    <tr>\n",
       "      <th>194</th>\n",
       "      <td>1629672</td>\n",
       "      <td>-6.87972</td>\n",
       "      <td>1629672</td>\n",
       "      <td>Eric Paschall</td>\n",
       "      <td>F</td>\n",
       "      <td>GSW</td>\n",
       "    </tr>\n",
       "  </tbody>\n",
       "</table>\n",
       "<p>411 rows × 6 columns</p>\n",
       "</div>"
      ],
      "text/plain": [
       "     PLAYER_ID     SCORE       id     player_names position team\n",
       "158    1629620  8.810845  1629620  Justin Robinson        G  OKC\n",
       "371     203504  6.595839   203504       Trey Burke        G  DAL\n",
       "45     1627780  6.206122  1627780   Gary Payton II        G  GSW\n",
       "178    1629645  5.082931  1629645     Kevin Porter        G  HOU\n",
       "90     1628467  4.385644  1628467      Maxi Kleber        F  DAL\n",
       "..         ...       ...      ...              ...      ...  ...\n",
       "92     1628539  -4.36008  1628539    Mychal Mulder        G  GSW\n",
       "286     201580 -4.729927   201580     JaVale McGee        C  DEN\n",
       "396     203953 -4.916955   203953    Jabari Parker        F  BOS\n",
       "300     201961 -5.089548   201961  Wayne Ellington        G  DET\n",
       "194    1629672  -6.87972  1629672    Eric Paschall        F  GSW\n",
       "\n",
       "[411 rows x 6 columns]"
      ]
     },
     "execution_count": 138,
     "metadata": {},
     "output_type": "execute_result"
    }
   ],
   "source": [
    "scores"
   ]
  }
 ],
 "metadata": {
  "kernelspec": {
   "display_name": "Python 3",
   "language": "python",
   "name": "python3"
  },
  "language_info": {
   "codemirror_mode": {
    "name": "ipython",
    "version": 3
   },
   "file_extension": ".py",
   "mimetype": "text/x-python",
   "name": "python",
   "nbconvert_exporter": "python",
   "pygments_lexer": "ipython3",
   "version": "3.9.7"
  }
 },
 "nbformat": 4,
 "nbformat_minor": 5
}
