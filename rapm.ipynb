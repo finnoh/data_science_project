{
 "cells": [
  {
   "cell_type": "code",
   "execution_count": 2,
   "id": "1e1b370c-ff1c-4919-9566-4cb6eb8e55ed",
   "metadata": {},
   "outputs": [],
   "source": [
    "import pandas as pd\n",
    "import numpy as np\n",
    "import seaborn as sns\n",
    "import matplotlib.pyplot as plt"
   ]
  },
  {
   "cell_type": "code",
   "execution_count": 512,
   "id": "6e26836a-874c-4e57-8d05-11adb19802b4",
   "metadata": {},
   "outputs": [],
   "source": [
    "df_schedule = pd.read_csv(\"./data/season_prediction/schedule.csv\", dtype={'GAME_ID': str})\n",
    "df_boxscores = pd.read_csv(\"./data/season_prediction/boxscores.csv\", dtype={'GAME_ID': str})"
   ]
  },
  {
   "cell_type": "code",
   "execution_count": 513,
   "id": "18f1554a-2929-4209-9543-de15f14cb825",
   "metadata": {},
   "outputs": [],
   "source": [
    "from nba_api.stats.endpoints import playbyplayv2\n",
    "import time\n",
    "from tqdm import tqdm\n",
    "def load_data_pbp(season_ids, limit=None):\n",
    "    \n",
    "    # load the data\n",
    "    df_schedule = pd.read_csv(\"./data/season_prediction/schedule.csv\", dtype={'GAME_ID': str})\n",
    "    df_boxscores = pd.read_csv(\"./data/season_prediction/boxscores.csv\", dtype={'GAME_ID': str})\n",
    "    \n",
    "    print(f'Get data for the season_ids: {season_ids}')\n",
    "    \n",
    "    #game_ids = [\"0022001074\", \"0021900001\"]\n",
    "    game_ids = df_schedule[df_schedule['SEASON_ID'].isin(season_ids)]['GAME_ID'].unique()\n",
    "    \n",
    "    if limit is not None:\n",
    "        game_ids = game_ids[0:limit]\n",
    "    \n",
    "    list_data = list()\n",
    "\n",
    "    for game in tqdm(game_ids):\n",
    "        \n",
    "        try:\n",
    "            # pbp call, append\n",
    "            call = playbyplayv2.PlayByPlayV2(game_id=game, start_period=1, end_period=4)\n",
    "            data_load = pd.concat(call.get_data_frames())\n",
    "            list_data.append(data_load)\n",
    "        \n",
    "        except:\n",
    "            print(f\"Skipped the ID: {game}\")\n",
    "            next\n",
    "        \n",
    "        # sleep\n",
    "        time.sleep(0.75)\n",
    "\n",
    "    data_load = pd.concat(list_data)\n",
    "    data_load = data_load[~data_load['GAME_ID'].isna()]\n",
    "    \n",
    "    return data_load"
   ]
  },
  {
   "cell_type": "code",
   "execution_count": 514,
   "id": "f5544579-4d59-4d65-af42-2601baf76905",
   "metadata": {},
   "outputs": [
    {
     "name": "stderr",
     "output_type": "stream",
     "text": [
      "  0%|          | 0/3369 [00:00<?, ?it/s]"
     ]
    },
    {
     "name": "stdout",
     "output_type": "stream",
     "text": [
      "Get data for the season_ids: [22020, 22019, 22018]\n"
     ]
    },
    {
     "name": "stderr",
     "output_type": "stream",
     "text": [
      " 43%|████▎     | 1436/3369 [1:01:04<55:11,  1.71s/it]  "
     ]
    },
    {
     "name": "stdout",
     "output_type": "stream",
     "text": [
      "Skipped the ID: 0021900204\n"
     ]
    },
    {
     "name": "stderr",
     "output_type": "stream",
     "text": [
      " 90%|████████▉ | 3029/3369 [1:54:31<09:01,  1.59s/it]    "
     ]
    },
    {
     "name": "stdout",
     "output_type": "stream",
     "text": [
      "Skipped the ID: 0022000764\n"
     ]
    },
    {
     "name": "stderr",
     "output_type": "stream",
     "text": [
      " 91%|█████████ | 3065/3369 [1:56:12<11:44,  2.32s/it]"
     ]
    },
    {
     "name": "stdout",
     "output_type": "stream",
     "text": [
      "Skipped the ID: 0022000795\n"
     ]
    },
    {
     "name": "stderr",
     "output_type": "stream",
     "text": [
      " 92%|█████████▏| 3108/3369 [1:57:52<07:25,  1.71s/it]"
     ]
    },
    {
     "name": "stdout",
     "output_type": "stream",
     "text": [
      "Skipped the ID: 0022000837\n"
     ]
    },
    {
     "name": "stderr",
     "output_type": "stream",
     "text": [
      " 93%|█████████▎| 3124/3369 [1:58:49<07:35,  1.86s/it]"
     ]
    },
    {
     "name": "stdout",
     "output_type": "stream",
     "text": [
      "Skipped the ID: 0022000849\n"
     ]
    },
    {
     "name": "stderr",
     "output_type": "stream",
     "text": [
      " 93%|█████████▎| 3135/3369 [1:59:35<06:40,  1.71s/it]"
     ]
    },
    {
     "name": "stdout",
     "output_type": "stream",
     "text": [
      "Skipped the ID: 0022000861\n"
     ]
    },
    {
     "name": "stderr",
     "output_type": "stream",
     "text": [
      " 94%|█████████▍| 3165/3369 [2:00:53<05:41,  1.67s/it]"
     ]
    },
    {
     "name": "stdout",
     "output_type": "stream",
     "text": [
      "Skipped the ID: 0022000895\n"
     ]
    },
    {
     "name": "stderr",
     "output_type": "stream",
     "text": [
      "100%|██████████| 3369/3369 [2:07:00<00:00,  2.26s/it]\n"
     ]
    }
   ],
   "source": [
    "data_load = load_data_pbp(season_ids=[22020, 22019, 22018])"
   ]
  },
  {
   "cell_type": "code",
   "execution_count": 3,
   "id": "e0333422-09e7-42e1-989b-97efaa0fb0e7",
   "metadata": {},
   "outputs": [],
   "source": [
    "data = pd.read_csv(\"pbp_safe_data.csv\")"
   ]
  },
  {
   "cell_type": "code",
   "execution_count": 4,
   "id": "bdad8035-8e38-43de-afe0-213219070222",
   "metadata": {},
   "outputs": [
    {
     "data": {
      "text/plain": [
       "(1536737, 38)"
      ]
     },
     "execution_count": 4,
     "metadata": {},
     "output_type": "execute_result"
    }
   ],
   "source": [
    "data.columns"
   ]
  },
  {
   "cell_type": "code",
   "execution_count": 515,
   "id": "a6cf5a7e-5435-4d91-b437-17b06a15809d",
   "metadata": {},
   "outputs": [],
   "source": [
    "data = data_load"
   ]
  },
  {
   "cell_type": "code",
   "execution_count": 10,
   "id": "3f0fb36f-1285-4c4a-a938-7008bee90d2f",
   "metadata": {},
   "outputs": [
    {
     "data": {
      "text/plain": [
       "array([22014, 22015, 22016, 22017, 22018, 22019, 22020])"
      ]
     },
     "execution_count": 10,
     "metadata": {},
     "output_type": "execute_result"
    }
   ],
   "source": [
    "df_schedule['SEASON_ID'].unique()"
   ]
  },
  {
   "cell_type": "code",
   "execution_count": 11,
   "id": "098aef8c-ed79-4cc5-8b8d-312b20b3d5de",
   "metadata": {},
   "outputs": [
    {
     "data": {
      "text/html": [
       "<div>\n",
       "<style scoped>\n",
       "    .dataframe tbody tr th:only-of-type {\n",
       "        vertical-align: middle;\n",
       "    }\n",
       "\n",
       "    .dataframe tbody tr th {\n",
       "        vertical-align: top;\n",
       "    }\n",
       "\n",
       "    .dataframe thead th {\n",
       "        text-align: right;\n",
       "    }\n",
       "</style>\n",
       "<table border=\"1\" class=\"dataframe\">\n",
       "  <thead>\n",
       "    <tr style=\"text-align: right;\">\n",
       "      <th></th>\n",
       "      <th>GAME_ID</th>\n",
       "      <th>EVENTNUM</th>\n",
       "      <th>EVENTMSGTYPE</th>\n",
       "      <th>EVENTMSGACTIONTYPE</th>\n",
       "      <th>PERIOD</th>\n",
       "      <th>WCTIMESTRING</th>\n",
       "      <th>PCTIMESTRING</th>\n",
       "      <th>HOMEDESCRIPTION</th>\n",
       "      <th>NEUTRALDESCRIPTION</th>\n",
       "      <th>VISITORDESCRIPTION</th>\n",
       "      <th>...</th>\n",
       "      <th>PLAYER2_TEAM_NICKNAME</th>\n",
       "      <th>PLAYER2_TEAM_ABBREVIATION</th>\n",
       "      <th>PERSON3TYPE</th>\n",
       "      <th>PLAYER3_ID</th>\n",
       "      <th>PLAYER3_NAME</th>\n",
       "      <th>PLAYER3_TEAM_ID</th>\n",
       "      <th>PLAYER3_TEAM_CITY</th>\n",
       "      <th>PLAYER3_TEAM_NICKNAME</th>\n",
       "      <th>PLAYER3_TEAM_ABBREVIATION</th>\n",
       "      <th>VIDEO_AVAILABLE_FLAG</th>\n",
       "    </tr>\n",
       "  </thead>\n",
       "  <tbody>\n",
       "    <tr>\n",
       "      <th>0</th>\n",
       "      <td>0021900002</td>\n",
       "      <td>2.0</td>\n",
       "      <td>12.0</td>\n",
       "      <td>0.0</td>\n",
       "      <td>1.0</td>\n",
       "      <td>10:43 PM</td>\n",
       "      <td>12:00</td>\n",
       "      <td>None</td>\n",
       "      <td>Start of 1st Period (10:43 PM EST)</td>\n",
       "      <td>None</td>\n",
       "      <td>...</td>\n",
       "      <td>None</td>\n",
       "      <td>None</td>\n",
       "      <td>0.0</td>\n",
       "      <td>0.0</td>\n",
       "      <td>None</td>\n",
       "      <td>NaN</td>\n",
       "      <td>None</td>\n",
       "      <td>None</td>\n",
       "      <td>None</td>\n",
       "      <td>1</td>\n",
       "    </tr>\n",
       "    <tr>\n",
       "      <th>1</th>\n",
       "      <td>0021900002</td>\n",
       "      <td>4.0</td>\n",
       "      <td>10.0</td>\n",
       "      <td>0.0</td>\n",
       "      <td>1.0</td>\n",
       "      <td>10:43 PM</td>\n",
       "      <td>12:00</td>\n",
       "      <td>Jump Ball Zubac vs. McGee: Tip to James</td>\n",
       "      <td>None</td>\n",
       "      <td>None</td>\n",
       "      <td>...</td>\n",
       "      <td>Lakers</td>\n",
       "      <td>LAL</td>\n",
       "      <td>5.0</td>\n",
       "      <td>2544.0</td>\n",
       "      <td>LeBron James</td>\n",
       "      <td>1.610613e+09</td>\n",
       "      <td>Los Angeles</td>\n",
       "      <td>Lakers</td>\n",
       "      <td>LAL</td>\n",
       "      <td>1</td>\n",
       "    </tr>\n",
       "    <tr>\n",
       "      <th>2</th>\n",
       "      <td>0021900002</td>\n",
       "      <td>7.0</td>\n",
       "      <td>1.0</td>\n",
       "      <td>5.0</td>\n",
       "      <td>1.0</td>\n",
       "      <td>10:43 PM</td>\n",
       "      <td>11:47</td>\n",
       "      <td>None</td>\n",
       "      <td>None</td>\n",
       "      <td>James 2' Layup (2 PTS) (Davis 1 AST)</td>\n",
       "      <td>...</td>\n",
       "      <td>Lakers</td>\n",
       "      <td>LAL</td>\n",
       "      <td>0.0</td>\n",
       "      <td>0.0</td>\n",
       "      <td>None</td>\n",
       "      <td>NaN</td>\n",
       "      <td>None</td>\n",
       "      <td>None</td>\n",
       "      <td>None</td>\n",
       "      <td>1</td>\n",
       "    </tr>\n",
       "    <tr>\n",
       "      <th>3</th>\n",
       "      <td>0021900002</td>\n",
       "      <td>9.0</td>\n",
       "      <td>2.0</td>\n",
       "      <td>79.0</td>\n",
       "      <td>1.0</td>\n",
       "      <td>10:43 PM</td>\n",
       "      <td>11:40</td>\n",
       "      <td>MISS Shamet 27' 3PT Pullup Jump Shot</td>\n",
       "      <td>None</td>\n",
       "      <td>None</td>\n",
       "      <td>...</td>\n",
       "      <td>None</td>\n",
       "      <td>None</td>\n",
       "      <td>0.0</td>\n",
       "      <td>0.0</td>\n",
       "      <td>None</td>\n",
       "      <td>NaN</td>\n",
       "      <td>None</td>\n",
       "      <td>None</td>\n",
       "      <td>None</td>\n",
       "      <td>1</td>\n",
       "    </tr>\n",
       "    <tr>\n",
       "      <th>4</th>\n",
       "      <td>0021900002</td>\n",
       "      <td>10.0</td>\n",
       "      <td>4.0</td>\n",
       "      <td>0.0</td>\n",
       "      <td>1.0</td>\n",
       "      <td>10:43 PM</td>\n",
       "      <td>11:38</td>\n",
       "      <td>None</td>\n",
       "      <td>None</td>\n",
       "      <td>Davis REBOUND (Off:0 Def:1)</td>\n",
       "      <td>...</td>\n",
       "      <td>None</td>\n",
       "      <td>None</td>\n",
       "      <td>0.0</td>\n",
       "      <td>0.0</td>\n",
       "      <td>None</td>\n",
       "      <td>NaN</td>\n",
       "      <td>None</td>\n",
       "      <td>None</td>\n",
       "      <td>None</td>\n",
       "      <td>1</td>\n",
       "    </tr>\n",
       "    <tr>\n",
       "      <th>...</th>\n",
       "      <td>...</td>\n",
       "      <td>...</td>\n",
       "      <td>...</td>\n",
       "      <td>...</td>\n",
       "      <td>...</td>\n",
       "      <td>...</td>\n",
       "      <td>...</td>\n",
       "      <td>...</td>\n",
       "      <td>...</td>\n",
       "      <td>...</td>\n",
       "      <td>...</td>\n",
       "      <td>...</td>\n",
       "      <td>...</td>\n",
       "      <td>...</td>\n",
       "      <td>...</td>\n",
       "      <td>...</td>\n",
       "      <td>...</td>\n",
       "      <td>...</td>\n",
       "      <td>...</td>\n",
       "      <td>...</td>\n",
       "      <td>...</td>\n",
       "    </tr>\n",
       "    <tr>\n",
       "      <th>452</th>\n",
       "      <td>0021900499</td>\n",
       "      <td>650.0</td>\n",
       "      <td>3.0</td>\n",
       "      <td>11.0</td>\n",
       "      <td>4.0</td>\n",
       "      <td>7:20 PM</td>\n",
       "      <td>0:35</td>\n",
       "      <td>None</td>\n",
       "      <td>None</td>\n",
       "      <td>Motley Free Throw 1 of 2 (1 PTS)</td>\n",
       "      <td>...</td>\n",
       "      <td>None</td>\n",
       "      <td>None</td>\n",
       "      <td>0.0</td>\n",
       "      <td>0.0</td>\n",
       "      <td>None</td>\n",
       "      <td>NaN</td>\n",
       "      <td>None</td>\n",
       "      <td>None</td>\n",
       "      <td>None</td>\n",
       "      <td>1</td>\n",
       "    </tr>\n",
       "    <tr>\n",
       "      <th>453</th>\n",
       "      <td>0021900499</td>\n",
       "      <td>651.0</td>\n",
       "      <td>3.0</td>\n",
       "      <td>12.0</td>\n",
       "      <td>4.0</td>\n",
       "      <td>7:20 PM</td>\n",
       "      <td>0:35</td>\n",
       "      <td>None</td>\n",
       "      <td>None</td>\n",
       "      <td>Motley Free Throw 2 of 2 (2 PTS)</td>\n",
       "      <td>...</td>\n",
       "      <td>None</td>\n",
       "      <td>None</td>\n",
       "      <td>0.0</td>\n",
       "      <td>0.0</td>\n",
       "      <td>None</td>\n",
       "      <td>NaN</td>\n",
       "      <td>None</td>\n",
       "      <td>None</td>\n",
       "      <td>None</td>\n",
       "      <td>1</td>\n",
       "    </tr>\n",
       "    <tr>\n",
       "      <th>454</th>\n",
       "      <td>0021900499</td>\n",
       "      <td>652.0</td>\n",
       "      <td>5.0</td>\n",
       "      <td>45.0</td>\n",
       "      <td>4.0</td>\n",
       "      <td>7:20 PM</td>\n",
       "      <td>0:25</td>\n",
       "      <td>Giles III Out of Bounds - Bad Pass Turnover Tu...</td>\n",
       "      <td>None</td>\n",
       "      <td>None</td>\n",
       "      <td>...</td>\n",
       "      <td>None</td>\n",
       "      <td>None</td>\n",
       "      <td>1.0</td>\n",
       "      <td>0.0</td>\n",
       "      <td>None</td>\n",
       "      <td>NaN</td>\n",
       "      <td>None</td>\n",
       "      <td>None</td>\n",
       "      <td>None</td>\n",
       "      <td>1</td>\n",
       "    </tr>\n",
       "    <tr>\n",
       "      <th>455</th>\n",
       "      <td>0021900499</td>\n",
       "      <td>653.0</td>\n",
       "      <td>5.0</td>\n",
       "      <td>11.0</td>\n",
       "      <td>4.0</td>\n",
       "      <td>7:20 PM</td>\n",
       "      <td>0:01</td>\n",
       "      <td>None</td>\n",
       "      <td>None</td>\n",
       "      <td>Clippers Turnover: Shot Clock (T#12)</td>\n",
       "      <td>...</td>\n",
       "      <td>None</td>\n",
       "      <td>None</td>\n",
       "      <td>1.0</td>\n",
       "      <td>0.0</td>\n",
       "      <td>None</td>\n",
       "      <td>NaN</td>\n",
       "      <td>None</td>\n",
       "      <td>None</td>\n",
       "      <td>None</td>\n",
       "      <td>0</td>\n",
       "    </tr>\n",
       "    <tr>\n",
       "      <th>456</th>\n",
       "      <td>0021900499</td>\n",
       "      <td>654.0</td>\n",
       "      <td>13.0</td>\n",
       "      <td>0.0</td>\n",
       "      <td>4.0</td>\n",
       "      <td>7:21 PM</td>\n",
       "      <td>0:00</td>\n",
       "      <td>None</td>\n",
       "      <td>End of 4th Period (7:21 PM EST)</td>\n",
       "      <td>None</td>\n",
       "      <td>...</td>\n",
       "      <td>None</td>\n",
       "      <td>None</td>\n",
       "      <td>0.0</td>\n",
       "      <td>0.0</td>\n",
       "      <td>None</td>\n",
       "      <td>NaN</td>\n",
       "      <td>None</td>\n",
       "      <td>None</td>\n",
       "      <td>None</td>\n",
       "      <td>1</td>\n",
       "    </tr>\n",
       "  </tbody>\n",
       "</table>\n",
       "<p>237247 rows × 34 columns</p>\n",
       "</div>"
      ],
      "text/plain": [
       "        GAME_ID  EVENTNUM  EVENTMSGTYPE  EVENTMSGACTIONTYPE  PERIOD  \\\n",
       "0    0021900002       2.0          12.0                 0.0     1.0   \n",
       "1    0021900002       4.0          10.0                 0.0     1.0   \n",
       "2    0021900002       7.0           1.0                 5.0     1.0   \n",
       "3    0021900002       9.0           2.0                79.0     1.0   \n",
       "4    0021900002      10.0           4.0                 0.0     1.0   \n",
       "..          ...       ...           ...                 ...     ...   \n",
       "452  0021900499     650.0           3.0                11.0     4.0   \n",
       "453  0021900499     651.0           3.0                12.0     4.0   \n",
       "454  0021900499     652.0           5.0                45.0     4.0   \n",
       "455  0021900499     653.0           5.0                11.0     4.0   \n",
       "456  0021900499     654.0          13.0                 0.0     4.0   \n",
       "\n",
       "    WCTIMESTRING PCTIMESTRING  \\\n",
       "0       10:43 PM        12:00   \n",
       "1       10:43 PM        12:00   \n",
       "2       10:43 PM        11:47   \n",
       "3       10:43 PM        11:40   \n",
       "4       10:43 PM        11:38   \n",
       "..           ...          ...   \n",
       "452      7:20 PM         0:35   \n",
       "453      7:20 PM         0:35   \n",
       "454      7:20 PM         0:25   \n",
       "455      7:20 PM         0:01   \n",
       "456      7:21 PM         0:00   \n",
       "\n",
       "                                       HOMEDESCRIPTION  \\\n",
       "0                                                 None   \n",
       "1              Jump Ball Zubac vs. McGee: Tip to James   \n",
       "2                                                 None   \n",
       "3                 MISS Shamet 27' 3PT Pullup Jump Shot   \n",
       "4                                                 None   \n",
       "..                                                 ...   \n",
       "452                                               None   \n",
       "453                                               None   \n",
       "454  Giles III Out of Bounds - Bad Pass Turnover Tu...   \n",
       "455                                               None   \n",
       "456                                               None   \n",
       "\n",
       "                     NEUTRALDESCRIPTION                    VISITORDESCRIPTION  \\\n",
       "0    Start of 1st Period (10:43 PM EST)                                  None   \n",
       "1                                  None                                  None   \n",
       "2                                  None  James 2' Layup (2 PTS) (Davis 1 AST)   \n",
       "3                                  None                                  None   \n",
       "4                                  None           Davis REBOUND (Off:0 Def:1)   \n",
       "..                                  ...                                   ...   \n",
       "452                                None      Motley Free Throw 1 of 2 (1 PTS)   \n",
       "453                                None      Motley Free Throw 2 of 2 (2 PTS)   \n",
       "454                                None                                  None   \n",
       "455                                None  Clippers Turnover: Shot Clock (T#12)   \n",
       "456     End of 4th Period (7:21 PM EST)                                  None   \n",
       "\n",
       "     ... PLAYER2_TEAM_NICKNAME PLAYER2_TEAM_ABBREVIATION  PERSON3TYPE  \\\n",
       "0    ...                  None                      None          0.0   \n",
       "1    ...                Lakers                       LAL          5.0   \n",
       "2    ...                Lakers                       LAL          0.0   \n",
       "3    ...                  None                      None          0.0   \n",
       "4    ...                  None                      None          0.0   \n",
       "..   ...                   ...                       ...          ...   \n",
       "452  ...                  None                      None          0.0   \n",
       "453  ...                  None                      None          0.0   \n",
       "454  ...                  None                      None          1.0   \n",
       "455  ...                  None                      None          1.0   \n",
       "456  ...                  None                      None          0.0   \n",
       "\n",
       "     PLAYER3_ID  PLAYER3_NAME  PLAYER3_TEAM_ID PLAYER3_TEAM_CITY  \\\n",
       "0           0.0          None              NaN              None   \n",
       "1        2544.0  LeBron James     1.610613e+09       Los Angeles   \n",
       "2           0.0          None              NaN              None   \n",
       "3           0.0          None              NaN              None   \n",
       "4           0.0          None              NaN              None   \n",
       "..          ...           ...              ...               ...   \n",
       "452         0.0          None              NaN              None   \n",
       "453         0.0          None              NaN              None   \n",
       "454         0.0          None              NaN              None   \n",
       "455         0.0          None              NaN              None   \n",
       "456         0.0          None              NaN              None   \n",
       "\n",
       "    PLAYER3_TEAM_NICKNAME PLAYER3_TEAM_ABBREVIATION  VIDEO_AVAILABLE_FLAG  \n",
       "0                    None                      None                     1  \n",
       "1                  Lakers                       LAL                     1  \n",
       "2                    None                      None                     1  \n",
       "3                    None                      None                     1  \n",
       "4                    None                      None                     1  \n",
       "..                    ...                       ...                   ...  \n",
       "452                  None                      None                     1  \n",
       "453                  None                      None                     1  \n",
       "454                  None                      None                     1  \n",
       "455                  None                      None                     0  \n",
       "456                  None                      None                     1  \n",
       "\n",
       "[237247 rows x 34 columns]"
      ]
     },
     "execution_count": 11,
     "metadata": {},
     "output_type": "execute_result"
    }
   ],
   "source": [
    "data"
   ]
  },
  {
   "cell_type": "code",
   "execution_count": 516,
   "id": "db9c8886-3d8b-4156-a431-8d1ffec09956",
   "metadata": {},
   "outputs": [],
   "source": [
    "def preprocessing_stint_data(data):\n",
    "    \n",
    "    # transform time, get game_time_left in seconds\n",
    "    data['game_time_s'] = 60*data['PCTIMESTRING'].apply(lambda x: str(x).split(':')).apply(lambda x: x[0]).astype(float) + data['PCTIMESTRING'].apply(lambda x: str(x).split(':')).apply(lambda x: x[-1]).astype(float)\n",
    "    data['game_time_left'] = (5 - data['PERIOD'])*data['game_time_s']\n",
    "    data = data[~data['GAME_ID'].isna()]\n",
    "    data = data[data['NEUTRALDESCRIPTION'].isna()]\n",
    "\n",
    "    bool_ft = (data['EVENTMSGTYPE'] == 3).to_numpy() # Free-throws\n",
    "    bool_fgm = (data['EVENTMSGTYPE'] == 1).to_numpy() # Field goals made\n",
    "    bool_sub = (data['EVENTMSGTYPE'] == 8).to_numpy() # substitutions\n",
    "    bool_tech = ((data['EVENTMSGTYPE'] == 6) & (data['EVENTMSGACTIONTYPE'].isin([10, 11, 16, 18, 25]))).to_numpy() # technical fouls\n",
    "    bool_eject_tech = ((data['EVENTMSGTYPE'] == 11) & (data['EVENTMSGACTIONTYPE'] == 1)).to_numpy() # ejct 2nd technical fouls\n",
    "    bool_ingame_plays = ~(bool_sub | bool_tech | bool_eject_tech)\n",
    "    bool_away = (data['HOMEDESCRIPTION'].isna()).to_numpy()\n",
    "    bool_home = (data['VISITORDESCRIPTION'].isna()).to_numpy()\n",
    "\n",
    "    data.loc[bool_away, 'TEAM_LOCATION'] = \"AWAY\"\n",
    "    data.loc[bool_home, 'TEAM_LOCATION'] = \"HOME\"\n",
    "    \n",
    "    return data, bool_ingame_plays"
   ]
  },
  {
   "cell_type": "code",
   "execution_count": 517,
   "id": "8e920fcc-db1d-4430-b17e-1936435a8ee4",
   "metadata": {},
   "outputs": [],
   "source": [
    "data, bool_ingame_plays = preprocessing_stint_data(data)\n",
    "id_vars=['GAME_ID','EVENTNUM', 'PERIOD', 'TEAM_LOCATION', 'PLAYER1_TEAM_ID']"
   ]
  },
  {
   "cell_type": "code",
   "execution_count": 519,
   "id": "eac53ccd-798d-4b5b-8704-1fd879e374d7",
   "metadata": {},
   "outputs": [],
   "source": [
    "import warnings\n",
    "from tqdm import tqdm\n",
    "warnings.filterwarnings(\"ignore\")\n",
    "def create_stint(data):\n",
    "\n",
    "    # create the stint_marker\n",
    "    bool_subs = data['EVENTMSGTYPE'] == 8\n",
    "    data.loc[bool_subs, 'stint_marker'] = np.arange(start=1, stop=np.sum(bool_subs) + 1)\n",
    "\n",
    "    # create idx array\n",
    "    inter_id = np.where(~data['stint_marker'].isna())[0] + 1\n",
    "    last_id = data.shape[0]\n",
    "    first_id = 0\n",
    "\n",
    "    # idx\n",
    "    idx = np.where(~data['stint_marker'].isna())[0] + 1\n",
    "\n",
    "    list_stint = list()\n",
    "\n",
    "    for i, ids in tqdm(enumerate(idx)):\n",
    "\n",
    "        # first iteration\n",
    "        if i == 0:\n",
    "            tmp = data.iloc[:idx[0]]\n",
    "\n",
    "        # in between\n",
    "        else:\n",
    "            tmp = data.iloc[idx[i - 1]:idx[i]]\n",
    "\n",
    "        # append to list\n",
    "        list_stint.append(tmp)\n",
    "\n",
    "    # append the last iteration\n",
    "    stint = data.iloc[idx[-1]:]\n",
    "    stint['stint'] = i\n",
    "    list_stint.append(stint)\n",
    "    print(i)\n",
    "    # insert the stint counter\n",
    "    #for i, stint in enumerate(list_stint):\n",
    "    #    stint['stint'] = i\n",
    "\n",
    "    return pd.concat(list_stint)"
   ]
  },
  {
   "cell_type": "code",
   "execution_count": 520,
   "id": "4fed063e-bde8-45a3-a9a2-1bc7f42f6823",
   "metadata": {},
   "outputs": [],
   "source": [
    "def get_score(data):\n",
    "    \n",
    "    bool_score = ~data['SCORE'].isna()\n",
    "    \n",
    "    data.loc[bool_score, 'HOME_PTS'] = data[bool_score]['SCORE'].apply(lambda x: x.split(' - ')[0]).astype(int)\n",
    "    data.loc[bool_score, 'AWAY_PTS'] = data[bool_score]['SCORE'].apply(lambda x: x.split(' - ')[1]).astype(int)\n",
    "    \n",
    "    data['HOME_PM'] = data['HOME_PTS'] - data['AWAY_PTS']\n",
    "    data['AWAY_PM'] = data['AWAY_PTS'] - data['HOME_PTS']\n",
    "    \n",
    "    return data"
   ]
  },
  {
   "cell_type": "code",
   "execution_count": 521,
   "id": "3ee15508-9447-4391-9a82-3ef90004d7a3",
   "metadata": {},
   "outputs": [],
   "source": [
    "def estimate_possessions(data, bool_ingame_plays):\n",
    "    # get the estimated possessions - potential to be more accurate! Change forumula here\n",
    "    tmp = np.floor((data[bool_ingame_plays].groupby(['GAME_ID', 'TEAM_LOCATION', 'stint']).count()/2))['EVENTNUM'].reset_index()\n",
    "    tmp = tmp.rename(columns={'EVENTNUM':'EST_POSSESSIONS'})\n",
    "    \n",
    "    # merge to dataframe\n",
    "    tmp2 = pd.merge(data, tmp, on=['GAME_ID', 'TEAM_LOCATION', 'stint'], how='left')\n",
    "    bool_poss_na = tmp2['EST_POSSESSIONS'].isna()\n",
    "    \n",
    "    # set \"empty stints\" to zero\n",
    "    tmp2.loc[bool_poss_na, 'EST_POSSESSIONS'] = None\n",
    "    \n",
    "    return tmp2"
   ]
  },
  {
   "cell_type": "code",
   "execution_count": 522,
   "id": "c9e5f299-9ae1-415e-a33d-870af07553fc",
   "metadata": {},
   "outputs": [],
   "source": [
    "def estimate_pm_100(data):\n",
    "    # formula for Plus Minus per 100 possessions\n",
    "    data['HOME_PM_100'] = np.floor(data['HOME_PM'] * (100 / data['EST_POSSESSIONS']))\n",
    "    data['AWAY_PM_100'] = np.floor(data['AWAY_PM'] * (100 / data['EST_POSSESSIONS']))\n",
    "    \n",
    "    # replace inf with nan\n",
    "    data.loc[np.isinf(data['HOME_PM_100']), 'HOME_PM_100'] = np.nan\n",
    "    data.loc[np.isinf(data['AWAY_PM_100']), 'AWAY_PM_100'] = np.nan\n",
    "    \n",
    "    return data"
   ]
  },
  {
   "cell_type": "code",
   "execution_count": 523,
   "id": "ffe13cf7-81b5-4f43-859d-995e08106fa5",
   "metadata": {},
   "outputs": [],
   "source": [
    "import time\n",
    "from tqdm import tqdm\n",
    "from nba_api.stats.endpoints import boxscoreadvancedv2\n",
    "def get_roster_and_starters(data):\n",
    "    \n",
    "    list_starters = list()\n",
    "    list_roster = list()\n",
    "    \n",
    "    unique_games = data['GAME_ID'].unique()\n",
    "    \n",
    "    for game in tqdm(unique_games):\n",
    "\n",
    "            try:\n",
    "                call_boxscore = boxscoreadvancedv2.BoxScoreAdvancedV2(game_id=game)\n",
    "                game = pd.concat(call_boxscore.get_data_frames())\n",
    "            \n",
    "            except:\n",
    "                print(f'ID {game} got skipped')\n",
    "                next\n",
    "                \n",
    "            # get home or away\n",
    "            away_team_id = game['TEAM_ID'].unique()[0] # maybe replace by table that has TEAM_LOCATION for all games\n",
    "            game['TEAM_LOCATION'] = np.where(game['TEAM_ID'] == away_team_id, 'AWAY', 'HOME')\n",
    "            \n",
    "            tmp2 = game[~game['START_POSITION'].isna()][['START_POSITION', 'PLAYER_ID', 'GAME_ID', 'TEAM_ID', 'TEAM_LOCATION']]\n",
    "            tmp2['STARTER'] = np.where((tmp2['START_POSITION'] == \"\"), False, True)\n",
    "            tmp2 = tmp2.drop_duplicates()  # just in case\n",
    "            \n",
    "            list_starters.append(tmp2[tmp2['STARTER']])\n",
    "            list_roster.append(tmp2)\n",
    "            \n",
    "            time.sleep(0.75)\n",
    "    \n",
    "    return pd.concat(list_starters), pd.concat(list_roster)"
   ]
  },
  {
   "cell_type": "code",
   "execution_count": 524,
   "id": "555e080f-ca8b-4d55-a48a-530727693f34",
   "metadata": {},
   "outputs": [],
   "source": [
    "def get_all_subs(data):\n",
    "    bool_sub = data['EVENTMSGTYPE'] == 8\n",
    "    subs = data.loc[bool_sub, ['GAME_ID', 'stint', 'game_time_left', 'TEAM_LOCATION', 'PLAYER1_ID', 'PLAYER2_ID']]\n",
    "    subs = subs.rename(columns={'PLAYER1_ID':'PLAYER_OUT_ID', 'PLAYER2_ID':'PLAYER_IN_ID'})\n",
    "    return subs.sort_values(['GAME_ID', 'stint'])"
   ]
  },
  {
   "cell_type": "code",
   "execution_count": 525,
   "id": "069b5673-c0a0-4ae8-a445-dd0f3da85744",
   "metadata": {},
   "outputs": [],
   "source": [
    "def get_starting_lineup(starters):\n",
    "    \n",
    "    tmp = starters.groupby(['GAME_ID', 'TEAM_ID'])['PLAYER_ID'].unique().reset_index()\n",
    "    starting_lineup = tmp.explode('PLAYER_ID')\n",
    "    starting_lineup['stint'] = 0\n",
    "    \n",
    "    return starting_lineup"
   ]
  },
  {
   "cell_type": "code",
   "execution_count": 526,
   "id": "f5194791-7d00-4bba-85e4-2aa366464ab0",
   "metadata": {},
   "outputs": [],
   "source": [
    "from tqdm import tqdm\n",
    "def get_on_court(data, starters, sub):\n",
    "    \n",
    "    # init\n",
    "    game_ids = data['GAME_ID'].unique()\n",
    "    list_on_court = list()\n",
    "    list_game_id = list()\n",
    "    list_stint = list()\n",
    "    \n",
    "    # loop over all games\n",
    "    for game_id in tqdm(game_ids):\n",
    "        \n",
    "        # form subsets\n",
    "        game = data[data['GAME_ID'] == game_id]\n",
    "        starting_lineup = starters[starters['GAME_ID'] == game_id]\n",
    "        subs = sub[sub['GAME_ID'] == game_id]\n",
    "        \n",
    "        # prepare stints for the loop\n",
    "        a = game['stint_marker'].unique()\n",
    "        tmp = a[~np.isnan(a)]\n",
    "        last_stint = np.max(tmp)\n",
    "        stints = tmp - 1\n",
    "\n",
    "        # get rosters for the game for both teams\n",
    "        starters_home = starting_lineup[starting_lineup['TEAM_LOCATION'] == \"HOME\"]['PLAYER_ID'].unique()\n",
    "        starters_away = starting_lineup[starting_lineup['TEAM_LOCATION'] == \"AWAY\"]['PLAYER_ID'].unique()\n",
    "        \n",
    "        # get the substitutions\n",
    "        players_in, players_out = subs['PLAYER_IN_ID'].values, subs['PLAYER_OUT_ID'].values\n",
    "        \n",
    "        # more init\n",
    "        on_court = np.zeros((stints.shape[0]+1, 10))\n",
    "        lineup = np.append(starters_home, starters_away)\n",
    "        \n",
    "        # store game id, so lengths match\n",
    "        list_game_id.append(game_id)\n",
    "\n",
    "        for i, stint in enumerate(stints):\n",
    "            \n",
    "            j = i+1\n",
    "            \n",
    "            # for first iteration store starting lineup and first sub\n",
    "            if stint == 0:\n",
    "                on_court[i, :] = lineup\n",
    "                lineup[lineup == players_out[i]] = players_in[i] # sub player out\n",
    "                on_court[j, :] = lineup\n",
    "\n",
    "            else:\n",
    "                lineup[lineup == players_out[i]] = players_in[i]\n",
    "                on_court[j, :] = lineup\n",
    "            \n",
    "            # store and keep track\n",
    "            list_game_id.append(game_id)\n",
    "            list_stint.append(stint)\n",
    "        \n",
    "        # store on court formations\n",
    "        list_on_court.append(on_court)\n",
    "        list_stint.append(last_stint)\n",
    "        \n",
    "        # numpy format\n",
    "        a_on_court = np.concatenate(list_on_court)\n",
    "        a_game_id = np.asarray(list_game_id)\n",
    "        a_stint = np.asarray(list_stint)\n",
    "        \n",
    "        # create colnames\n",
    "        col_names = ['stint']\n",
    "        col_names.extend([f'HOME_{i}' for i in np.arange(start=1, stop=6)])\n",
    "        col_names.extend([f'AWAY_{i}' for i in np.arange(start=1, stop=6)])\n",
    "        col_names.extend(['GAME_ID'])\n",
    "        \n",
    "        # transform to dataframe\n",
    "        df = pd.DataFrame(data=np.concatenate((a_stint.reshape(-1, 1), a_on_court, \n",
    "                                               a_game_id.reshape(-1, 1)), axis=1), columns=col_names)\n",
    "        \n",
    "        # adjust datatype\n",
    "        df['stint'] = df['stint'].astype(float)\n",
    "        \n",
    "    return df"
   ]
  },
  {
   "cell_type": "code",
   "execution_count": 527,
   "id": "780fb902-5d11-4589-bbd3-7f6c177a3255",
   "metadata": {},
   "outputs": [],
   "source": [
    "def merge_stint_pts(data, court_data, col_score):\n",
    "    \n",
    "    # store cols for merging and selecting\n",
    "    col_merge = ['GAME_ID', 'stint']\n",
    "    col_select = ['GAME_ID', 'stint', 'game_time_left']\n",
    "    col_select.extend(col_score)\n",
    "\n",
    "    # form subset\n",
    "    data_subset = data[col_select]\n",
    "    \n",
    "    # merge\n",
    "    df = pd.merge(court_data, data_subset, how='left', on=col_merge)\n",
    "    \n",
    "    # drop duplicates\n",
    "    df = df.drop_duplicates()\n",
    "    \n",
    "    # impute values for missing scores\n",
    "    tmp = df.groupby('GAME_ID')[col_score].ffill()\n",
    "    df[col_score] = tmp\n",
    "    \n",
    "    # fill NA with zero - these are mostly before there was a score?\n",
    "    df[col_score] = df[col_score].fillna(value=0)\n",
    "    \n",
    "    return df"
   ]
  },
  {
   "cell_type": "code",
   "execution_count": 528,
   "id": "c66dc4b7-4a33-470a-8105-84c7e7ebd11d",
   "metadata": {},
   "outputs": [],
   "source": [
    "def stints_to_dummy(data_stints):\n",
    "    \n",
    "    # colnames, create dummy out of player columns\n",
    "    col_names = [f'HOME_{i}' for i in np.arange(start=1, stop=6)]\n",
    "    col_names.extend([f'AWAY_{i}' for i in np.arange(start=1, stop=6)])\n",
    "    data_dummy = pd.get_dummies(data_stints, prefix_sep='-', columns=col_names)\n",
    "    \n",
    "    # get series objects to track the players and their \"position\"\n",
    "    series_location_player = pd.Series(data_dummy.columns[8:].values)\n",
    "    series_position_player = series_location_player.apply(lambda x: x.split('-')[0])\n",
    "    series_id_player = series_location_player.apply(lambda x: x.split('-')[1])\n",
    "    series_id_player = series_id_player.apply(lambda x: x.replace('.0', ''))\n",
    "    series_id_player = series_id_player.astype(int)\n",
    "    \n",
    "    return data_dummy, series_position_player, series_id_player"
   ]
  },
  {
   "cell_type": "code",
   "execution_count": 529,
   "id": "19c6fd77-3517-450c-9102-519a2cc6024e",
   "metadata": {},
   "outputs": [],
   "source": [
    "def estimate_model(data_dummy, ids_start, col_y, model):\n",
    "    \n",
    "    X = data_dummy.iloc[:, ids_start:].values\n",
    "    y = data_dummy[col_y].values\n",
    "    \n",
    "    print(\"Starting model fitting...\")\n",
    "    \n",
    "    model.fit(X, y)\n",
    "    \n",
    "    #print(f'Model alpha: {model.alpha_}')\n",
    "    #print(f'Model -MSE {model.best_score_}')\n",
    "    \n",
    "    return model, X, y"
   ]
  },
  {
   "cell_type": "code",
   "execution_count": 530,
   "id": "f69509e5-8086-4580-9378-9c85b3732648",
   "metadata": {},
   "outputs": [],
   "source": [
    "def show_scores_player(coef, series_id_player, filter_na=False):\n",
    "    \n",
    "    # load player data\n",
    "    player_data = pd.read_csv(\"players_data.csv\")\n",
    "    player_data['PLAYER_ID'] = player_data['id'].astype(int)\n",
    "    \n",
    "    # data array\n",
    "    a = np.concatenate((series_id_player.values.reshape(-1,1), \n",
    "                coef.reshape(-1,1)), axis=1)\n",
    "    \n",
    "    # create dataframe and merge\n",
    "    df_tmp = pd.DataFrame(a, columns=['PLAYER_ID', 'SCORE'])\n",
    "    df_result = pd.merge(df_tmp, player_data, how='left')\n",
    "    \n",
    "    if filter_na:\n",
    "        df_result = df_result[~df_result['player_names'].isna()]\n",
    "    \n",
    "    return df_result.sort_values('SCORE', ascending=False)"
   ]
  },
  {
   "cell_type": "code",
   "execution_count": 531,
   "id": "65a84add-f0a5-45f7-9d40-901a77947687",
   "metadata": {},
   "outputs": [
    {
     "data": {
      "text/plain": [
       "Index(['GAME_ID', 'EVENTNUM', 'EVENTMSGTYPE', 'EVENTMSGACTIONTYPE', 'PERIOD',\n",
       "       'WCTIMESTRING', 'PCTIMESTRING', 'HOMEDESCRIPTION', 'NEUTRALDESCRIPTION',\n",
       "       'VISITORDESCRIPTION', 'SCORE', 'SCOREMARGIN', 'PERSON1TYPE',\n",
       "       'PLAYER1_ID', 'PLAYER1_NAME', 'PLAYER1_TEAM_ID', 'PLAYER1_TEAM_CITY',\n",
       "       'PLAYER1_TEAM_NICKNAME', 'PLAYER1_TEAM_ABBREVIATION', 'PERSON2TYPE',\n",
       "       'PLAYER2_ID', 'PLAYER2_NAME', 'PLAYER2_TEAM_ID', 'PLAYER2_TEAM_CITY',\n",
       "       'PLAYER2_TEAM_NICKNAME', 'PLAYER2_TEAM_ABBREVIATION', 'PERSON3TYPE',\n",
       "       'PLAYER3_ID', 'PLAYER3_NAME', 'PLAYER3_TEAM_ID', 'PLAYER3_TEAM_CITY',\n",
       "       'PLAYER3_TEAM_NICKNAME', 'PLAYER3_TEAM_ABBREVIATION',\n",
       "       'VIDEO_AVAILABLE_FLAG', 'game_time_s', 'game_time_left',\n",
       "       'TEAM_LOCATION'],\n",
       "      dtype='object')"
      ]
     },
     "execution_count": 531,
     "metadata": {},
     "output_type": "execute_result"
    }
   ],
   "source": [
    "data.columns"
   ]
  },
  {
   "cell_type": "code",
   "execution_count": 532,
   "id": "85d9403d-8b9a-4d8e-bb73-e36fbf8786c0",
   "metadata": {},
   "outputs": [],
   "source": [
    "data.to_csv(\"pbp_safe_data.csv\")"
   ]
  },
  {
   "cell_type": "code",
   "execution_count": 534,
   "id": "08099679-8017-41c9-bb7d-3d423fc5847a",
   "metadata": {},
   "outputs": [
    {
     "data": {
      "text/plain": [
       "(1536737, 37)"
      ]
     },
     "execution_count": 534,
     "metadata": {},
     "output_type": "execute_result"
    }
   ],
   "source": [
    "data.shape"
   ]
  },
  {
   "cell_type": "code",
   "execution_count": 29,
   "id": "2d568ae4-092c-40b2-b4be-9335454da883",
   "metadata": {},
   "outputs": [],
   "source": [
    "data = pd.read_csv(\"pbp_safe_data.csv\", dtype={'GAME_ID':str})"
   ]
  },
  {
   "cell_type": "code",
   "execution_count": 535,
   "id": "4fa70a2b-c90e-410b-ac01-be75c500c8cd",
   "metadata": {},
   "outputs": [],
   "source": [
    "bool_sub = (data['EVENTMSGTYPE'] == 8).to_numpy() # substitutions\n",
    "bool_tech = ((data['EVENTMSGTYPE'] == 6) & (data['EVENTMSGACTIONTYPE'].isin([10, 11, 16, 18, 25]))).to_numpy() # technical fouls\n",
    "bool_eject_tech = ((data['EVENTMSGTYPE'] == 11) & (data['EVENTMSGACTIONTYPE'] == 1)).to_numpy() # ejct 2nd technical fouls\n",
    "bool_ingame_plays = ~(bool_sub | bool_tech | bool_eject_tech)"
   ]
  },
  {
   "cell_type": "code",
   "execution_count": 536,
   "id": "18767ea8-2fcc-429a-9f87-50a419d02ca0",
   "metadata": {},
   "outputs": [],
   "source": [
    "data = data.drop(['WCTIMESTRING', 'PCTIMESTRING', 'NEUTRALDESCRIPTION',\n",
    "                  'PLAYER3_TEAM_NICKNAME', 'PLAYER3_TEAM_ABBREVIATION', 'PLAYER3_TEAM_CITY',\n",
    "                 'PLAYER2_TEAM_NICKNAME', 'PLAYER2_TEAM_ABBREVIATION', 'PLAYER2_TEAM_CITY',\n",
    "                 'PLAYER1_TEAM_NICKNAME', 'PLAYER1_TEAM_ABBREVIATION', 'PLAYER1_TEAM_CITY',\n",
    "                 'VIDEO_AVAILABLE_FLAG', 'SCOREMARGIN'], axis=1)"
   ]
  },
  {
   "cell_type": "code",
   "execution_count": 537,
   "id": "761776b2-8a57-477b-8cc5-dbe5e1c9ae3c",
   "metadata": {
    "tags": []
   },
   "outputs": [
    {
     "data": {
      "text/html": [
       "<div>\n",
       "<style scoped>\n",
       "    .dataframe tbody tr th:only-of-type {\n",
       "        vertical-align: middle;\n",
       "    }\n",
       "\n",
       "    .dataframe tbody tr th {\n",
       "        vertical-align: top;\n",
       "    }\n",
       "\n",
       "    .dataframe thead th {\n",
       "        text-align: right;\n",
       "    }\n",
       "</style>\n",
       "<table border=\"1\" class=\"dataframe\">\n",
       "  <thead>\n",
       "    <tr style=\"text-align: right;\">\n",
       "      <th></th>\n",
       "      <th>GAME_ID</th>\n",
       "      <th>EVENTNUM</th>\n",
       "      <th>EVENTMSGTYPE</th>\n",
       "      <th>EVENTMSGACTIONTYPE</th>\n",
       "      <th>PERIOD</th>\n",
       "      <th>HOMEDESCRIPTION</th>\n",
       "      <th>VISITORDESCRIPTION</th>\n",
       "      <th>SCORE</th>\n",
       "      <th>PERSON1TYPE</th>\n",
       "      <th>PLAYER1_ID</th>\n",
       "      <th>...</th>\n",
       "      <th>PLAYER2_ID</th>\n",
       "      <th>PLAYER2_NAME</th>\n",
       "      <th>PLAYER2_TEAM_ID</th>\n",
       "      <th>PERSON3TYPE</th>\n",
       "      <th>PLAYER3_ID</th>\n",
       "      <th>PLAYER3_NAME</th>\n",
       "      <th>PLAYER3_TEAM_ID</th>\n",
       "      <th>game_time_s</th>\n",
       "      <th>game_time_left</th>\n",
       "      <th>TEAM_LOCATION</th>\n",
       "    </tr>\n",
       "  </thead>\n",
       "  <tbody>\n",
       "    <tr>\n",
       "      <th>1</th>\n",
       "      <td>0021800002</td>\n",
       "      <td>4.0</td>\n",
       "      <td>10.0</td>\n",
       "      <td>0.0</td>\n",
       "      <td>1.0</td>\n",
       "      <td>Jump Ball Jones vs. Adams: Tip to Green</td>\n",
       "      <td>None</td>\n",
       "      <td>None</td>\n",
       "      <td>4.0</td>\n",
       "      <td>1627745.0</td>\n",
       "      <td>...</td>\n",
       "      <td>203500.0</td>\n",
       "      <td>Steven Adams</td>\n",
       "      <td>1.610613e+09</td>\n",
       "      <td>4.0</td>\n",
       "      <td>203110.0</td>\n",
       "      <td>Draymond Green</td>\n",
       "      <td>1.610613e+09</td>\n",
       "      <td>720.0</td>\n",
       "      <td>2880.0</td>\n",
       "      <td>HOME</td>\n",
       "    </tr>\n",
       "    <tr>\n",
       "      <th>2</th>\n",
       "      <td>0021800002</td>\n",
       "      <td>7.0</td>\n",
       "      <td>5.0</td>\n",
       "      <td>1.0</td>\n",
       "      <td>1.0</td>\n",
       "      <td>Thompson Bad Pass Turnover (P1.T1)</td>\n",
       "      <td>Adams STEAL (1 STL)</td>\n",
       "      <td>None</td>\n",
       "      <td>4.0</td>\n",
       "      <td>202691.0</td>\n",
       "      <td>...</td>\n",
       "      <td>203500.0</td>\n",
       "      <td>Steven Adams</td>\n",
       "      <td>1.610613e+09</td>\n",
       "      <td>0.0</td>\n",
       "      <td>0.0</td>\n",
       "      <td>None</td>\n",
       "      <td>NaN</td>\n",
       "      <td>708.0</td>\n",
       "      <td>2832.0</td>\n",
       "      <td>NaN</td>\n",
       "    </tr>\n",
       "    <tr>\n",
       "      <th>3</th>\n",
       "      <td>0021800002</td>\n",
       "      <td>9.0</td>\n",
       "      <td>5.0</td>\n",
       "      <td>45.0</td>\n",
       "      <td>1.0</td>\n",
       "      <td>None</td>\n",
       "      <td>George Out of Bounds - Bad Pass Turnover Turno...</td>\n",
       "      <td>None</td>\n",
       "      <td>5.0</td>\n",
       "      <td>202331.0</td>\n",
       "      <td>...</td>\n",
       "      <td>0.0</td>\n",
       "      <td>None</td>\n",
       "      <td>NaN</td>\n",
       "      <td>1.0</td>\n",
       "      <td>0.0</td>\n",
       "      <td>None</td>\n",
       "      <td>NaN</td>\n",
       "      <td>703.0</td>\n",
       "      <td>2812.0</td>\n",
       "      <td>AWAY</td>\n",
       "    </tr>\n",
       "    <tr>\n",
       "      <th>4</th>\n",
       "      <td>0021800002</td>\n",
       "      <td>10.0</td>\n",
       "      <td>1.0</td>\n",
       "      <td>80.0</td>\n",
       "      <td>1.0</td>\n",
       "      <td>Curry 24' 3PT Step Back Jump Shot (3 PTS) (Dur...</td>\n",
       "      <td>None</td>\n",
       "      <td>0 - 3</td>\n",
       "      <td>4.0</td>\n",
       "      <td>201939.0</td>\n",
       "      <td>...</td>\n",
       "      <td>201142.0</td>\n",
       "      <td>Kevin Durant</td>\n",
       "      <td>1.610613e+09</td>\n",
       "      <td>0.0</td>\n",
       "      <td>0.0</td>\n",
       "      <td>None</td>\n",
       "      <td>NaN</td>\n",
       "      <td>691.0</td>\n",
       "      <td>2764.0</td>\n",
       "      <td>HOME</td>\n",
       "    </tr>\n",
       "    <tr>\n",
       "      <th>5</th>\n",
       "      <td>0021800002</td>\n",
       "      <td>12.0</td>\n",
       "      <td>2.0</td>\n",
       "      <td>78.0</td>\n",
       "      <td>1.0</td>\n",
       "      <td>None</td>\n",
       "      <td>MISS Adams 12' Floating Jump Shot</td>\n",
       "      <td>None</td>\n",
       "      <td>5.0</td>\n",
       "      <td>203500.0</td>\n",
       "      <td>...</td>\n",
       "      <td>0.0</td>\n",
       "      <td>None</td>\n",
       "      <td>NaN</td>\n",
       "      <td>0.0</td>\n",
       "      <td>0.0</td>\n",
       "      <td>None</td>\n",
       "      <td>NaN</td>\n",
       "      <td>673.0</td>\n",
       "      <td>2692.0</td>\n",
       "      <td>AWAY</td>\n",
       "    </tr>\n",
       "    <tr>\n",
       "      <th>...</th>\n",
       "      <td>...</td>\n",
       "      <td>...</td>\n",
       "      <td>...</td>\n",
       "      <td>...</td>\n",
       "      <td>...</td>\n",
       "      <td>...</td>\n",
       "      <td>...</td>\n",
       "      <td>...</td>\n",
       "      <td>...</td>\n",
       "      <td>...</td>\n",
       "      <td>...</td>\n",
       "      <td>...</td>\n",
       "      <td>...</td>\n",
       "      <td>...</td>\n",
       "      <td>...</td>\n",
       "      <td>...</td>\n",
       "      <td>...</td>\n",
       "      <td>...</td>\n",
       "      <td>...</td>\n",
       "      <td>...</td>\n",
       "      <td>...</td>\n",
       "    </tr>\n",
       "    <tr>\n",
       "      <th>437</th>\n",
       "      <td>0022001072</td>\n",
       "      <td>632.0</td>\n",
       "      <td>3.0</td>\n",
       "      <td>12.0</td>\n",
       "      <td>4.0</td>\n",
       "      <td>None</td>\n",
       "      <td>Horton-Tucker Free Throw 2 of 2 (6 PTS)</td>\n",
       "      <td>110 - 98</td>\n",
       "      <td>5.0</td>\n",
       "      <td>1629659.0</td>\n",
       "      <td>...</td>\n",
       "      <td>0.0</td>\n",
       "      <td>None</td>\n",
       "      <td>NaN</td>\n",
       "      <td>0.0</td>\n",
       "      <td>0.0</td>\n",
       "      <td>None</td>\n",
       "      <td>NaN</td>\n",
       "      <td>52.0</td>\n",
       "      <td>52.0</td>\n",
       "      <td>AWAY</td>\n",
       "    </tr>\n",
       "    <tr>\n",
       "      <th>438</th>\n",
       "      <td>0022001072</td>\n",
       "      <td>633.0</td>\n",
       "      <td>5.0</td>\n",
       "      <td>45.0</td>\n",
       "      <td>4.0</td>\n",
       "      <td>Marshall Out of Bounds - Bad Pass Turnover Tur...</td>\n",
       "      <td>None</td>\n",
       "      <td>None</td>\n",
       "      <td>4.0</td>\n",
       "      <td>1630230.0</td>\n",
       "      <td>...</td>\n",
       "      <td>0.0</td>\n",
       "      <td>None</td>\n",
       "      <td>NaN</td>\n",
       "      <td>1.0</td>\n",
       "      <td>0.0</td>\n",
       "      <td>None</td>\n",
       "      <td>NaN</td>\n",
       "      <td>35.0</td>\n",
       "      <td>35.0</td>\n",
       "      <td>HOME</td>\n",
       "    </tr>\n",
       "    <tr>\n",
       "      <th>439</th>\n",
       "      <td>0022001072</td>\n",
       "      <td>634.0</td>\n",
       "      <td>2.0</td>\n",
       "      <td>1.0</td>\n",
       "      <td>4.0</td>\n",
       "      <td>None</td>\n",
       "      <td>MISS Dudley 26' 3PT Jump Shot</td>\n",
       "      <td>None</td>\n",
       "      <td>5.0</td>\n",
       "      <td>201162.0</td>\n",
       "      <td>...</td>\n",
       "      <td>0.0</td>\n",
       "      <td>None</td>\n",
       "      <td>NaN</td>\n",
       "      <td>0.0</td>\n",
       "      <td>0.0</td>\n",
       "      <td>None</td>\n",
       "      <td>NaN</td>\n",
       "      <td>28.0</td>\n",
       "      <td>28.0</td>\n",
       "      <td>AWAY</td>\n",
       "    </tr>\n",
       "    <tr>\n",
       "      <th>440</th>\n",
       "      <td>0022001072</td>\n",
       "      <td>635.0</td>\n",
       "      <td>4.0</td>\n",
       "      <td>0.0</td>\n",
       "      <td>4.0</td>\n",
       "      <td>Alexander-Walker REBOUND (Off:1 Def:3)</td>\n",
       "      <td>None</td>\n",
       "      <td>None</td>\n",
       "      <td>4.0</td>\n",
       "      <td>1629638.0</td>\n",
       "      <td>...</td>\n",
       "      <td>0.0</td>\n",
       "      <td>None</td>\n",
       "      <td>NaN</td>\n",
       "      <td>0.0</td>\n",
       "      <td>0.0</td>\n",
       "      <td>None</td>\n",
       "      <td>NaN</td>\n",
       "      <td>23.0</td>\n",
       "      <td>23.0</td>\n",
       "      <td>HOME</td>\n",
       "    </tr>\n",
       "    <tr>\n",
       "      <th>441</th>\n",
       "      <td>0022001072</td>\n",
       "      <td>636.0</td>\n",
       "      <td>5.0</td>\n",
       "      <td>1.0</td>\n",
       "      <td>4.0</td>\n",
       "      <td>Nunnally Bad Pass Turnover (P1.T21)</td>\n",
       "      <td>Horton-Tucker STEAL (2 STL)</td>\n",
       "      <td>None</td>\n",
       "      <td>4.0</td>\n",
       "      <td>203263.0</td>\n",
       "      <td>...</td>\n",
       "      <td>1629659.0</td>\n",
       "      <td>Talen Horton-Tucker</td>\n",
       "      <td>1.610613e+09</td>\n",
       "      <td>0.0</td>\n",
       "      <td>0.0</td>\n",
       "      <td>None</td>\n",
       "      <td>NaN</td>\n",
       "      <td>12.0</td>\n",
       "      <td>12.0</td>\n",
       "      <td>NaN</td>\n",
       "    </tr>\n",
       "  </tbody>\n",
       "</table>\n",
       "<p>1536737 rows × 23 columns</p>\n",
       "</div>"
      ],
      "text/plain": [
       "        GAME_ID  EVENTNUM  EVENTMSGTYPE  EVENTMSGACTIONTYPE  PERIOD  \\\n",
       "1    0021800002       4.0          10.0                 0.0     1.0   \n",
       "2    0021800002       7.0           5.0                 1.0     1.0   \n",
       "3    0021800002       9.0           5.0                45.0     1.0   \n",
       "4    0021800002      10.0           1.0                80.0     1.0   \n",
       "5    0021800002      12.0           2.0                78.0     1.0   \n",
       "..          ...       ...           ...                 ...     ...   \n",
       "437  0022001072     632.0           3.0                12.0     4.0   \n",
       "438  0022001072     633.0           5.0                45.0     4.0   \n",
       "439  0022001072     634.0           2.0                 1.0     4.0   \n",
       "440  0022001072     635.0           4.0                 0.0     4.0   \n",
       "441  0022001072     636.0           5.0                 1.0     4.0   \n",
       "\n",
       "                                       HOMEDESCRIPTION  \\\n",
       "1              Jump Ball Jones vs. Adams: Tip to Green   \n",
       "2                   Thompson Bad Pass Turnover (P1.T1)   \n",
       "3                                                 None   \n",
       "4    Curry 24' 3PT Step Back Jump Shot (3 PTS) (Dur...   \n",
       "5                                                 None   \n",
       "..                                                 ...   \n",
       "437                                               None   \n",
       "438  Marshall Out of Bounds - Bad Pass Turnover Tur...   \n",
       "439                                               None   \n",
       "440             Alexander-Walker REBOUND (Off:1 Def:3)   \n",
       "441                Nunnally Bad Pass Turnover (P1.T21)   \n",
       "\n",
       "                                    VISITORDESCRIPTION     SCORE  PERSON1TYPE  \\\n",
       "1                                                 None      None          4.0   \n",
       "2                                  Adams STEAL (1 STL)      None          4.0   \n",
       "3    George Out of Bounds - Bad Pass Turnover Turno...      None          5.0   \n",
       "4                                                 None     0 - 3          4.0   \n",
       "5                    MISS Adams 12' Floating Jump Shot      None          5.0   \n",
       "..                                                 ...       ...          ...   \n",
       "437            Horton-Tucker Free Throw 2 of 2 (6 PTS)  110 - 98          5.0   \n",
       "438                                               None      None          4.0   \n",
       "439                      MISS Dudley 26' 3PT Jump Shot      None          5.0   \n",
       "440                                               None      None          4.0   \n",
       "441                        Horton-Tucker STEAL (2 STL)      None          4.0   \n",
       "\n",
       "     PLAYER1_ID  ... PLAYER2_ID         PLAYER2_NAME  PLAYER2_TEAM_ID  \\\n",
       "1     1627745.0  ...   203500.0         Steven Adams     1.610613e+09   \n",
       "2      202691.0  ...   203500.0         Steven Adams     1.610613e+09   \n",
       "3      202331.0  ...        0.0                 None              NaN   \n",
       "4      201939.0  ...   201142.0         Kevin Durant     1.610613e+09   \n",
       "5      203500.0  ...        0.0                 None              NaN   \n",
       "..          ...  ...        ...                  ...              ...   \n",
       "437   1629659.0  ...        0.0                 None              NaN   \n",
       "438   1630230.0  ...        0.0                 None              NaN   \n",
       "439    201162.0  ...        0.0                 None              NaN   \n",
       "440   1629638.0  ...        0.0                 None              NaN   \n",
       "441    203263.0  ...  1629659.0  Talen Horton-Tucker     1.610613e+09   \n",
       "\n",
       "     PERSON3TYPE PLAYER3_ID    PLAYER3_NAME  PLAYER3_TEAM_ID  game_time_s  \\\n",
       "1            4.0   203110.0  Draymond Green     1.610613e+09        720.0   \n",
       "2            0.0        0.0            None              NaN        708.0   \n",
       "3            1.0        0.0            None              NaN        703.0   \n",
       "4            0.0        0.0            None              NaN        691.0   \n",
       "5            0.0        0.0            None              NaN        673.0   \n",
       "..           ...        ...             ...              ...          ...   \n",
       "437          0.0        0.0            None              NaN         52.0   \n",
       "438          1.0        0.0            None              NaN         35.0   \n",
       "439          0.0        0.0            None              NaN         28.0   \n",
       "440          0.0        0.0            None              NaN         23.0   \n",
       "441          0.0        0.0            None              NaN         12.0   \n",
       "\n",
       "    game_time_left  TEAM_LOCATION  \n",
       "1           2880.0           HOME  \n",
       "2           2832.0            NaN  \n",
       "3           2812.0           AWAY  \n",
       "4           2764.0           HOME  \n",
       "5           2692.0           AWAY  \n",
       "..             ...            ...  \n",
       "437           52.0           AWAY  \n",
       "438           35.0           HOME  \n",
       "439           28.0           AWAY  \n",
       "440           23.0           HOME  \n",
       "441           12.0            NaN  \n",
       "\n",
       "[1536737 rows x 23 columns]"
      ]
     },
     "execution_count": 537,
     "metadata": {},
     "output_type": "execute_result"
    }
   ],
   "source": [
    "data"
   ]
  },
  {
   "cell_type": "code",
   "execution_count": null,
   "id": "547deb30-3136-4c6f-acad-b7d25914dab7",
   "metadata": {
    "collapsed": true,
    "jupyter": {
     "outputs_hidden": true
    },
    "tags": []
   },
   "outputs": [
    {
     "name": "stderr",
     "output_type": "stream",
     "text": [
      "56it [00:00, 28278.48it/s]\n"
     ]
    },
    {
     "name": "stdout",
     "output_type": "stream",
     "text": [
      "55\n"
     ]
    },
    {
     "name": "stderr",
     "output_type": "stream",
     "text": [
      "56it [00:00, 9029.37it/s]\n",
      "46it [00:00, 38688.19it/s]\n",
      "62it [00:00, 37687.95it/s]\n",
      "48it [00:00, 41095.45it/s]\n",
      "45it [00:00, 35740.14it/s]\n",
      "0it [00:00, ?it/s]"
     ]
    },
    {
     "name": "stdout",
     "output_type": "stream",
     "text": [
      "55\n",
      "45\n",
      "61\n",
      "47\n",
      "44\n"
     ]
    },
    {
     "name": "stderr",
     "output_type": "stream",
     "text": [
      "65it [00:00, 39227.30it/s]\n",
      "56it [00:00, 37611.05it/s]\n",
      "62it [00:00, 38174.82it/s]\n",
      "65it [00:00, 37485.19it/s]\n",
      "46it [00:00, 38009.85it/s]\n"
     ]
    },
    {
     "name": "stdout",
     "output_type": "stream",
     "text": [
      "64\n",
      "55\n",
      "61\n",
      "64\n",
      "45\n"
     ]
    },
    {
     "name": "stderr",
     "output_type": "stream",
     "text": [
      "54it [00:00, 36169.34it/s]\n",
      "53it [00:00, 33089.92it/s]\n",
      "52it [00:00, 36829.42it/s]\n",
      "52it [00:00, 39361.81it/s]\n",
      "51it [00:00, 41600.45it/s]\n",
      "49it [00:00, 38733.68it/s]\n"
     ]
    },
    {
     "name": "stdout",
     "output_type": "stream",
     "text": [
      "53\n",
      "52\n",
      "51\n",
      "51\n",
      "50\n",
      "48\n"
     ]
    },
    {
     "name": "stderr",
     "output_type": "stream",
     "text": [
      "39it [00:00, 35352.90it/s]\n",
      "50it [00:00, 31683.82it/s]\n",
      "47it [00:00, 35822.69it/s]\n",
      "64it [00:00, 35320.45it/s]\n",
      "39it [00:00, 37397.77it/s]\n"
     ]
    },
    {
     "name": "stdout",
     "output_type": "stream",
     "text": [
      "38\n",
      "49\n",
      "46\n",
      "63\n",
      "38\n"
     ]
    },
    {
     "name": "stderr",
     "output_type": "stream",
     "text": [
      "42it [00:00, 31843.96it/s]\n",
      "63it [00:00, 37657.28it/s]\n",
      "49it [00:00, 36291.88it/s]\n",
      "38it [00:00, 34777.12it/s]\n",
      "47it [00:00, 40670.99it/s]\n",
      "49it [00:00, 35095.78it/s]\n"
     ]
    },
    {
     "name": "stdout",
     "output_type": "stream",
     "text": [
      "41\n",
      "62\n",
      "48\n",
      "37\n",
      "46\n",
      "48\n"
     ]
    },
    {
     "name": "stderr",
     "output_type": "stream",
     "text": [
      "53it [00:00, 39407.57it/s]\n",
      "45it [00:00, 40651.23it/s]\n",
      "42it [00:00, 40891.54it/s]\n",
      "42it [00:00, 38047.68it/s]\n",
      "51it [00:00, 37886.91it/s]\n",
      "61it [00:00, 37106.97it/s]\n"
     ]
    },
    {
     "name": "stdout",
     "output_type": "stream",
     "text": [
      "52\n",
      "44\n",
      "41\n",
      "41\n",
      "50\n",
      "60\n"
     ]
    },
    {
     "name": "stderr",
     "output_type": "stream",
     "text": [
      "54it [00:00, 36960.25it/s]\n",
      "52it [00:00, 34986.17it/s]\n",
      "51it [00:00, 37833.30it/s]\n",
      "57it [00:00, 33451.14it/s]\n",
      "57it [00:00, 37152.34it/s]\n",
      "0it [00:00, ?it/s]"
     ]
    },
    {
     "name": "stdout",
     "output_type": "stream",
     "text": [
      "53\n",
      "51\n",
      "50\n",
      "56\n",
      "56\n"
     ]
    },
    {
     "name": "stderr",
     "output_type": "stream",
     "text": [
      "52it [00:00, 34390.38it/s]\n",
      "52it [00:00, 41567.34it/s]\n",
      "48it [00:00, 32896.50it/s]\n",
      "51it [00:00, 37143.52it/s]\n",
      "41it [00:00, 35009.46it/s]\n",
      "48it [00:00, 38896.17it/s]\n"
     ]
    },
    {
     "name": "stdout",
     "output_type": "stream",
     "text": [
      "51\n",
      "51\n",
      "47\n",
      "50\n",
      "40\n",
      "47\n"
     ]
    },
    {
     "name": "stderr",
     "output_type": "stream",
     "text": [
      "52it [00:00, 31458.79it/s]\n",
      "47it [00:00, 34995.97it/s]\n",
      "48it [00:00, 30242.84it/s]\n",
      "48it [00:00, 25289.11it/s]\n",
      "54it [00:00, 35951.18it/s]\n"
     ]
    },
    {
     "name": "stdout",
     "output_type": "stream",
     "text": [
      "51\n",
      "46\n",
      "47\n",
      "47\n",
      "53\n"
     ]
    },
    {
     "name": "stderr",
     "output_type": "stream",
     "text": [
      "46it [00:00, 15086.24it/s]\n",
      "42it [00:00, 39693.73it/s]\n",
      "62it [00:00, 29839.00it/s]\n",
      "52it [00:00, 36699.28it/s]\n",
      "40it [00:00, 36695.57it/s]\n"
     ]
    },
    {
     "name": "stdout",
     "output_type": "stream",
     "text": [
      "45\n",
      "41\n",
      "61\n",
      "51\n",
      "39\n"
     ]
    },
    {
     "name": "stderr",
     "output_type": "stream",
     "text": [
      "39it [00:00, 35170.47it/s]\n",
      "49it [00:00, 32684.62it/s]\n",
      "45it [00:00, 35043.39it/s]\n",
      "48it [00:00, 36281.60it/s]\n",
      "65it [00:00, 34961.50it/s]\n"
     ]
    },
    {
     "name": "stdout",
     "output_type": "stream",
     "text": [
      "38\n",
      "48\n",
      "44\n",
      "47\n",
      "64\n"
     ]
    },
    {
     "name": "stderr",
     "output_type": "stream",
     "text": [
      "51it [00:00, 13495.87it/s]\n",
      "50it [00:00, 38586.05it/s]\n",
      "37it [00:00, 30221.86it/s]\n",
      "44it [00:00, 35179.07it/s]\n",
      "45it [00:00, 36227.19it/s]\n",
      "55it [00:00, 41572.67it/s]\n",
      "0it [00:00, ?it/s]"
     ]
    },
    {
     "name": "stdout",
     "output_type": "stream",
     "text": [
      "50\n",
      "49\n",
      "36\n",
      "43\n",
      "44\n",
      "54\n"
     ]
    },
    {
     "name": "stderr",
     "output_type": "stream",
     "text": [
      "53it [00:00, 36104.94it/s]\n",
      "37it [00:00, 33209.77it/s]\n",
      "47it [00:00, 35284.10it/s]\n",
      "49it [00:00, 36680.51it/s]\n",
      "45it [00:00, 36677.75it/s]\n",
      "42it [00:00, 35566.48it/s]\n",
      "0it [00:00, ?it/s]"
     ]
    },
    {
     "name": "stdout",
     "output_type": "stream",
     "text": [
      "52\n",
      "36\n",
      "46\n",
      "48\n",
      "44\n",
      "41\n"
     ]
    },
    {
     "name": "stderr",
     "output_type": "stream",
     "text": [
      "48it [00:00, 38642.34it/s]\n",
      "46it [00:00, 37311.54it/s]\n",
      "43it [00:00, 35163.79it/s]\n",
      "54it [00:00, 37270.43it/s]\n",
      "58it [00:00, 41428.75it/s]\n",
      "48it [00:00, 37317.26it/s]\n"
     ]
    },
    {
     "name": "stdout",
     "output_type": "stream",
     "text": [
      "47\n",
      "45\n",
      "42\n",
      "53\n",
      "57\n",
      "47\n"
     ]
    },
    {
     "name": "stderr",
     "output_type": "stream",
     "text": [
      "66it [00:00, 41816.32it/s]\n",
      "39it [00:00, 35521.79it/s]\n",
      "43it [00:00, 34737.11it/s]\n",
      "46it [00:00, 34100.03it/s]\n",
      "62it [00:00, 37852.53it/s]\n",
      "42it [00:00, 34480.48it/s]\n"
     ]
    },
    {
     "name": "stdout",
     "output_type": "stream",
     "text": [
      "65\n",
      "38\n",
      "42\n",
      "45\n",
      "61\n",
      "41\n"
     ]
    },
    {
     "name": "stderr",
     "output_type": "stream",
     "text": [
      "48it [00:00, 37525.93it/s]\n",
      "56it [00:00, 37617.08it/s]\n",
      "30it [00:00, 36943.37it/s]\n",
      "43it [00:00, 34851.22it/s]\n",
      "58it [00:00, 37981.21it/s]\n",
      "39it [00:00, 34575.75it/s]\n",
      "0it [00:00, ?it/s]"
     ]
    },
    {
     "name": "stdout",
     "output_type": "stream",
     "text": [
      "47\n",
      "55\n",
      "29\n",
      "42\n",
      "57\n",
      "38\n"
     ]
    },
    {
     "name": "stderr",
     "output_type": "stream",
     "text": [
      "51it [00:00, 31798.65it/s]\n",
      "34it [00:00, 36481.54it/s]\n",
      "54it [00:00, 38676.98it/s]\n",
      "43it [00:00, 34952.53it/s]\n",
      "50it [00:00, 35769.26it/s]\n",
      "51it [00:00, 39013.22it/s]\n",
      "0it [00:00, ?it/s]"
     ]
    },
    {
     "name": "stdout",
     "output_type": "stream",
     "text": [
      "50\n",
      "33\n",
      "53\n",
      "42\n",
      "49\n",
      "50\n"
     ]
    },
    {
     "name": "stderr",
     "output_type": "stream",
     "text": [
      "49it [00:00, 36138.72it/s]\n",
      "57it [00:00, 34865.88it/s]\n",
      "44it [00:00, 37380.87it/s]\n",
      "54it [00:00, 36762.28it/s]\n",
      "58it [00:00, 41842.04it/s]\n",
      "46it [00:00, 37003.83it/s]\n"
     ]
    },
    {
     "name": "stdout",
     "output_type": "stream",
     "text": [
      "48\n",
      "56\n",
      "43\n",
      "53\n",
      "57\n",
      "45\n"
     ]
    },
    {
     "name": "stderr",
     "output_type": "stream",
     "text": [
      "45it [00:00, 38007.18it/s]\n",
      "52it [00:00, 41496.16it/s]\n",
      "60it [00:00, 36340.54it/s]\n",
      "47it [00:00, 35927.15it/s]\n",
      "48it [00:00, 40737.88it/s]\n",
      "45it [00:00, 39895.09it/s]\n"
     ]
    },
    {
     "name": "stdout",
     "output_type": "stream",
     "text": [
      "44\n",
      "51\n",
      "59\n",
      "46\n",
      "47\n",
      "44\n"
     ]
    },
    {
     "name": "stderr",
     "output_type": "stream",
     "text": [
      "37it [00:00, 36166.22it/s]\n",
      "59it [00:00, 36852.41it/s]\n",
      "50it [00:00, 35659.79it/s]\n",
      "58it [00:00, 37294.13it/s]\n",
      "40it [00:00, 40204.21it/s]\n",
      "54it [00:00, 40942.23it/s]\n"
     ]
    },
    {
     "name": "stdout",
     "output_type": "stream",
     "text": [
      "36\n",
      "58\n",
      "49\n",
      "57\n",
      "39\n",
      "53\n"
     ]
    },
    {
     "name": "stderr",
     "output_type": "stream",
     "text": [
      "65it [00:00, 38371.54it/s]\n",
      "64it [00:00, 37277.52it/s]\n",
      "51it [00:00, 36931.89it/s]\n",
      "37it [00:00, 39448.21it/s]\n",
      "53it [00:00, 37831.54it/s]\n",
      "0it [00:00, ?it/s]"
     ]
    },
    {
     "name": "stdout",
     "output_type": "stream",
     "text": [
      "64\n",
      "63\n",
      "50\n",
      "36\n",
      "52\n"
     ]
    },
    {
     "name": "stderr",
     "output_type": "stream",
     "text": [
      "35it [00:00, 39367.29it/s]\n",
      "48it [00:00, 36196.80it/s]\n",
      "49it [00:00, 34828.15it/s]\n",
      "55it [00:00, 41542.72it/s]\n",
      "51it [00:00, 34719.93it/s]\n",
      "32it [00:00, 41234.33it/s]\n",
      "53it [00:00, 36352.92it/s]\n"
     ]
    },
    {
     "name": "stdout",
     "output_type": "stream",
     "text": [
      "34\n",
      "47\n",
      "48\n",
      "54\n",
      "50\n",
      "31\n",
      "52\n"
     ]
    },
    {
     "name": "stderr",
     "output_type": "stream",
     "text": [
      "47it [00:00, 37385.22it/s]\n",
      "55it [00:00, 35235.48it/s]\n",
      "60it [00:00, 34865.37it/s]\n",
      "40it [00:00, 36126.65it/s]\n",
      "47it [00:00, 36465.46it/s]\n",
      "50it [00:00, 36843.85it/s]\n"
     ]
    },
    {
     "name": "stdout",
     "output_type": "stream",
     "text": [
      "46\n",
      "54\n",
      "59\n",
      "39\n",
      "46\n",
      "49\n"
     ]
    },
    {
     "name": "stderr",
     "output_type": "stream",
     "text": [
      "50it [00:00, 37964.37it/s]\n",
      "53it [00:00, 37639.37it/s]\n",
      "59it [00:00, 38660.20it/s]\n",
      "45it [00:00, 37345.41it/s]\n",
      "45it [00:00, 34746.63it/s]\n",
      "39it [00:00, 36141.82it/s]\n",
      "0it [00:00, ?it/s]"
     ]
    },
    {
     "name": "stdout",
     "output_type": "stream",
     "text": [
      "49\n",
      "52\n",
      "58\n",
      "44\n",
      "44\n",
      "38\n"
     ]
    },
    {
     "name": "stderr",
     "output_type": "stream",
     "text": [
      "38it [00:00, 36472.21it/s]\n",
      "43it [00:00, 37110.10it/s]\n",
      "53it [00:00, 36804.32it/s]\n",
      "45it [00:00, 35239.67it/s]\n",
      "49it [00:00, 41038.52it/s]\n",
      "45it [00:00, 35318.80it/s]\n"
     ]
    },
    {
     "name": "stdout",
     "output_type": "stream",
     "text": [
      "37\n",
      "42\n",
      "52\n",
      "44\n",
      "48\n",
      "44\n"
     ]
    },
    {
     "name": "stderr",
     "output_type": "stream",
     "text": [
      "35it [00:00, 37145.91it/s]\n",
      "53it [00:00, 33080.08it/s]\n",
      "51it [00:00, 36640.89it/s]\n",
      "48it [00:00, 36718.33it/s]\n",
      "38it [00:00, 37370.12it/s]\n",
      "52it [00:00, 37010.66it/s]\n",
      "50it [00:00, 39243.11it/s]\n"
     ]
    },
    {
     "name": "stdout",
     "output_type": "stream",
     "text": [
      "34\n",
      "52\n",
      "50\n",
      "47\n",
      "37\n",
      "51\n",
      "49\n"
     ]
    },
    {
     "name": "stderr",
     "output_type": "stream",
     "text": [
      "47it [00:00, 37456.26it/s]\n",
      "41it [00:00, 39623.61it/s]\n",
      "44it [00:00, 34702.78it/s]\n",
      "39it [00:00, 37389.22it/s]\n",
      "59it [00:00, 36923.89it/s]\n",
      "50it [00:00, 37429.09it/s]\n"
     ]
    },
    {
     "name": "stdout",
     "output_type": "stream",
     "text": [
      "46\n",
      "40\n",
      "43\n",
      "38\n",
      "58\n",
      "49\n"
     ]
    },
    {
     "name": "stderr",
     "output_type": "stream",
     "text": [
      "48it [00:00, 37850.46it/s]\n",
      "50it [00:00, 35635.55it/s]\n",
      "41it [00:00, 34980.97it/s]\n",
      "50it [00:00, 36396.25it/s]\n",
      "48it [00:00, 40096.91it/s]\n",
      "37it [00:00, 38748.88it/s]\n"
     ]
    },
    {
     "name": "stdout",
     "output_type": "stream",
     "text": [
      "47\n",
      "49\n",
      "40\n",
      "49\n",
      "47\n",
      "36\n"
     ]
    },
    {
     "name": "stderr",
     "output_type": "stream",
     "text": [
      "50it [00:00, 37509.43it/s]\n",
      "52it [00:00, 35961.06it/s]\n",
      "40it [00:00, 35552.48it/s]\n",
      "46it [00:00, 35630.28it/s]\n",
      "29it [00:00, 33995.20it/s]\n",
      "58it [00:00, 36642.51it/s]\n",
      "0it [00:00, ?it/s]"
     ]
    },
    {
     "name": "stdout",
     "output_type": "stream",
     "text": [
      "49\n",
      "51\n",
      "39\n",
      "45\n",
      "28\n",
      "57\n"
     ]
    },
    {
     "name": "stderr",
     "output_type": "stream",
     "text": [
      "53it [00:00, 32981.92it/s]\n",
      "56it [00:00, 33530.48it/s]\n",
      "48it [00:00, 40878.50it/s]\n",
      "54it [00:00, 40794.74it/s]\n",
      "41it [00:00, 35744.43it/s]\n",
      "39it [00:00, 36966.75it/s]\n"
     ]
    },
    {
     "name": "stdout",
     "output_type": "stream",
     "text": [
      "52\n",
      "55\n",
      "47\n",
      "53\n",
      "40\n",
      "38\n"
     ]
    },
    {
     "name": "stderr",
     "output_type": "stream",
     "text": [
      "54it [00:00, 35505.94it/s]\n",
      "41it [00:00, 35500.92it/s]\n",
      "49it [00:00, 33587.33it/s]\n",
      "50it [00:00, 34698.08it/s]\n",
      "56it [00:00, 39409.57it/s]\n",
      "49it [00:00, 36164.16it/s]\n"
     ]
    },
    {
     "name": "stdout",
     "output_type": "stream",
     "text": [
      "53\n",
      "40\n",
      "48\n",
      "49\n",
      "55\n",
      "48\n"
     ]
    },
    {
     "name": "stderr",
     "output_type": "stream",
     "text": [
      "44it [00:00, 33794.06it/s]\n",
      "45it [00:00, 35325.41it/s]\n",
      "49it [00:00, 35892.58it/s]\n",
      "42it [00:00, 40655.61it/s]\n",
      "39it [00:00, 35483.27it/s]\n",
      "38it [00:00, 35544.95it/s]\n",
      "0it [00:00, ?it/s]"
     ]
    },
    {
     "name": "stdout",
     "output_type": "stream",
     "text": [
      "43\n",
      "44\n",
      "48\n",
      "41\n",
      "38\n",
      "37\n"
     ]
    },
    {
     "name": "stderr",
     "output_type": "stream",
     "text": [
      "50it [00:00, 37543.00it/s]\n",
      "50it [00:00, 34250.40it/s]\n",
      "55it [00:00, 37589.49it/s]\n",
      "35it [00:00, 38887.59it/s]\n",
      "56it [00:00, 36438.26it/s]\n",
      "48it [00:00, 35931.93it/s]\n",
      "47it [00:00, 36805.88it/s]\n"
     ]
    },
    {
     "name": "stdout",
     "output_type": "stream",
     "text": [
      "49\n",
      "49\n",
      "54\n",
      "34\n",
      "55\n",
      "47\n",
      "46\n"
     ]
    },
    {
     "name": "stderr",
     "output_type": "stream",
     "text": [
      "53it [00:00, 41334.72it/s]\n",
      "39it [00:00, 34663.67it/s]\n",
      "39it [00:00, 40201.00it/s]\n",
      "49it [00:00, 36005.76it/s]\n",
      "40it [00:00, 36103.33it/s]\n",
      "45it [00:00, 38199.49it/s]\n",
      "0it [00:00, ?it/s]"
     ]
    },
    {
     "name": "stdout",
     "output_type": "stream",
     "text": [
      "52\n",
      "38\n",
      "38\n",
      "48\n",
      "39\n",
      "44\n"
     ]
    },
    {
     "name": "stderr",
     "output_type": "stream",
     "text": [
      "42it [00:00, 35870.65it/s]\n",
      "47it [00:00, 40949.79it/s]\n",
      "54it [00:00, 36146.25it/s]\n",
      "36it [00:00, 30609.15it/s]\n",
      "30it [00:00, 38609.73it/s]\n",
      "50it [00:00, 41421.13it/s]\n",
      "44it [00:00, 40667.56it/s]\n"
     ]
    },
    {
     "name": "stdout",
     "output_type": "stream",
     "text": [
      "41\n",
      "46\n",
      "53\n",
      "35\n",
      "29\n",
      "49\n",
      "43\n"
     ]
    },
    {
     "name": "stderr",
     "output_type": "stream",
     "text": [
      "49it [00:00, 38279.18it/s]\n",
      "37it [00:00, 39690.34it/s]\n",
      "40it [00:00, 41070.30it/s]\n",
      "43it [00:00, 35336.03it/s]\n",
      "46it [00:00, 36103.66it/s]\n",
      "44it [00:00, 37132.67it/s]\n",
      "40it [00:00, 40069.78it/s]\n",
      "0it [00:00, ?it/s]"
     ]
    },
    {
     "name": "stdout",
     "output_type": "stream",
     "text": [
      "48\n",
      "36\n",
      "39\n",
      "42\n",
      "45\n",
      "43\n",
      "39\n"
     ]
    },
    {
     "name": "stderr",
     "output_type": "stream",
     "text": [
      "54it [00:00, 32388.45it/s]\n",
      "54it [00:00, 37629.58it/s]\n",
      "54it [00:00, 38002.08it/s]\n",
      "46it [00:00, 40704.22it/s]\n",
      "58it [00:00, 42462.84it/s]\n",
      "47it [00:00, 38174.34it/s]"
     ]
    },
    {
     "name": "stdout",
     "output_type": "stream",
     "text": [
      "53\n",
      "53\n",
      "53\n",
      "45\n",
      "57\n",
      "46\n"
     ]
    },
    {
     "name": "stderr",
     "output_type": "stream",
     "text": [
      "\n",
      "50it [00:00, 34435.99it/s]\n",
      "41it [00:00, 40711.76it/s]\n",
      "57it [00:00, 37042.97it/s]\n",
      "50it [00:00, 34150.01it/s]\n",
      "43it [00:00, 35184.37it/s]\n",
      "50it [00:00, 39082.22it/s]\n"
     ]
    },
    {
     "name": "stdout",
     "output_type": "stream",
     "text": [
      "49\n",
      "40\n",
      "56\n",
      "49\n",
      "42\n",
      "49\n"
     ]
    },
    {
     "name": "stderr",
     "output_type": "stream",
     "text": [
      "58it [00:00, 38743.37it/s]\n",
      "42it [00:00, 37568.94it/s]\n",
      "43it [00:00, 37527.06it/s]\n",
      "55it [00:00, 37700.07it/s]\n",
      "33it [00:00, 39188.00it/s]\n",
      "44it [00:00, 35827.87it/s]\n",
      "0it [00:00, ?it/s]"
     ]
    },
    {
     "name": "stdout",
     "output_type": "stream",
     "text": [
      "57\n",
      "41\n",
      "42\n",
      "54\n",
      "32\n",
      "43\n"
     ]
    },
    {
     "name": "stderr",
     "output_type": "stream",
     "text": [
      "42it [00:00, 37401.44it/s]\n",
      "34it [00:00, 42017.19it/s]\n",
      "39it [00:00, 40171.38it/s]\n",
      "46it [00:00, 38213.11it/s]\n",
      "50it [00:00, 40548.18it/s]\n",
      "38it [00:00, 36438.86it/s]\n",
      "55it [00:00, 42180.79it/s]\n"
     ]
    },
    {
     "name": "stdout",
     "output_type": "stream",
     "text": [
      "41\n",
      "33\n",
      "38\n",
      "45\n",
      "49\n",
      "37\n",
      "54\n"
     ]
    },
    {
     "name": "stderr",
     "output_type": "stream",
     "text": [
      "51it [00:00, 36403.93it/s]\n",
      "41it [00:00, 36744.97it/s]\n",
      "51it [00:00, 37066.28it/s]\n",
      "57it [00:00, 35581.98it/s]\n",
      "46it [00:00, 37253.91it/s]\n",
      "47it [00:00, 36131.28it/s]\n",
      "0it [00:00, ?it/s]"
     ]
    },
    {
     "name": "stdout",
     "output_type": "stream",
     "text": [
      "50\n",
      "40\n",
      "50\n",
      "56\n",
      "45\n",
      "46\n"
     ]
    },
    {
     "name": "stderr",
     "output_type": "stream",
     "text": [
      "43it [00:00, 36376.58it/s]\n",
      "48it [00:00, 38873.64it/s]\n",
      "42it [00:00, 35899.89it/s]\n",
      "42it [00:00, 38819.03it/s]\n",
      "39it [00:00, 35982.81it/s]\n",
      "47it [00:00, 34865.99it/s]\n",
      "39it [00:00, 35421.80it/s]\n"
     ]
    },
    {
     "name": "stdout",
     "output_type": "stream",
     "text": [
      "42\n",
      "47\n",
      "41\n",
      "41\n",
      "38\n",
      "46\n",
      "38\n"
     ]
    },
    {
     "name": "stderr",
     "output_type": "stream",
     "text": [
      "35it [00:00, 40519.08it/s]\n",
      "54it [00:00, 36960.25it/s]\n",
      "62it [00:00, 38338.03it/s]\n",
      "50it [00:00, 41363.94it/s]\n",
      "50it [00:00, 37475.91it/s]\n",
      "42it [00:00, 37665.33it/s]\n",
      "43it [00:00, 37691.76it/s]\n"
     ]
    },
    {
     "name": "stdout",
     "output_type": "stream",
     "text": [
      "34\n",
      "53\n",
      "61\n",
      "49\n",
      "49\n",
      "41\n",
      "42\n"
     ]
    },
    {
     "name": "stderr",
     "output_type": "stream",
     "text": [
      "38it [00:00, 37109.09it/s]\n",
      "40it [00:00, 34959.82it/s]\n",
      "43it [00:00, 31569.24it/s]\n",
      "52it [00:00, 37545.84it/s]\n",
      "55it [00:00, 36821.50it/s]\n",
      "45it [00:00, 37030.35it/s]\n"
     ]
    },
    {
     "name": "stdout",
     "output_type": "stream",
     "text": [
      "37\n",
      "39\n",
      "42\n",
      "51\n",
      "54\n",
      "44\n"
     ]
    },
    {
     "name": "stderr",
     "output_type": "stream",
     "text": [
      "46it [00:00, 38395.62it/s]\n",
      "49it [00:00, 39161.76it/s]\n",
      "44it [00:00, 36976.43it/s]\n"
     ]
    },
    {
     "name": "stdout",
     "output_type": "stream",
     "text": [
      "45\n",
      "48\n",
      "43\n"
     ]
    },
    {
     "name": "stderr",
     "output_type": "stream",
     "text": [
      "59it [00:00, 40114.11it/s]\n",
      "47it [00:00, 40949.79it/s]\n",
      "45it [00:00, 40616.24it/s]\n",
      "49it [00:00, 41385.60it/s]\n",
      "52it [00:00, 42031.95it/s]\n",
      "37it [00:00, 40625.46it/s]\n",
      "0it [00:00, ?it/s]"
     ]
    },
    {
     "name": "stdout",
     "output_type": "stream",
     "text": [
      "58\n",
      "46\n",
      "44\n",
      "48\n",
      "51\n",
      "36\n"
     ]
    },
    {
     "name": "stderr",
     "output_type": "stream",
     "text": [
      "37it [00:00, 36132.54it/s]\n",
      "49it [00:00, 41738.61it/s]\n",
      "40it [00:00, 35802.85it/s]\n",
      "42it [00:00, 36684.87it/s]\n",
      "50it [00:00, 42060.81it/s]\n",
      "31it [00:00, 37075.40it/s]\n",
      "30it [00:00, 39065.23it/s]\n"
     ]
    },
    {
     "name": "stdout",
     "output_type": "stream",
     "text": [
      "36\n",
      "48\n",
      "39\n",
      "41\n",
      "49\n",
      "30\n",
      "29\n"
     ]
    },
    {
     "name": "stderr",
     "output_type": "stream",
     "text": [
      "38it [00:00, 37617.08it/s]\n",
      "41it [00:00, 32849.37it/s]\n",
      "52it [00:00, 37766.89it/s]\n",
      "60it [00:00, 38315.81it/s]\n",
      "51it [00:00, 29896.51it/s]\n",
      "44it [00:00, 38770.88it/s]\n",
      "39it [00:00, 36693.10it/s]\n"
     ]
    },
    {
     "name": "stdout",
     "output_type": "stream",
     "text": [
      "37\n",
      "40\n",
      "51\n",
      "59\n",
      "50\n",
      "43\n",
      "38\n"
     ]
    },
    {
     "name": "stderr",
     "output_type": "stream",
     "text": [
      "54it [00:00, 36146.25it/s]\n",
      "51it [00:00, 37436.04it/s]\n",
      "43it [00:00, 39813.48it/s]\n",
      "42it [00:00, 36715.46it/s]\n",
      "58it [00:00, 38663.32it/s]\n",
      "41it [00:00, 39047.79it/s]\n"
     ]
    },
    {
     "name": "stdout",
     "output_type": "stream",
     "text": [
      "53\n",
      "50\n",
      "42\n",
      "41\n",
      "57\n",
      "40\n"
     ]
    },
    {
     "name": "stderr",
     "output_type": "stream",
     "text": [
      "52it [00:00, 39756.44it/s]\n",
      "31it [00:00, 36523.43it/s]\n",
      "38it [00:00, 38647.81it/s]\n",
      "46it [00:00, 36708.14it/s]\n",
      "48it [00:00, 39001.66it/s]\n",
      "50it [00:00, 41951.43it/s]\n",
      "45it [00:00, 38526.98it/s]\n",
      "0it [00:00, ?it/s]"
     ]
    },
    {
     "name": "stdout",
     "output_type": "stream",
     "text": [
      "51\n",
      "30\n",
      "37\n",
      "45\n",
      "47\n",
      "49\n",
      "44\n"
     ]
    },
    {
     "name": "stderr",
     "output_type": "stream",
     "text": [
      "47it [00:00, 35602.72it/s]\n",
      "71it [00:00, 38589.55it/s]\n",
      "45it [00:00, 37154.27it/s]\n",
      "41it [00:00, 40558.13it/s]\n",
      "39it [00:00, 35552.67it/s]\n",
      "51it [00:00, 40931.78it/s]\n"
     ]
    },
    {
     "name": "stdout",
     "output_type": "stream",
     "text": [
      "46\n",
      "70\n",
      "44\n",
      "40\n",
      "38\n",
      "50\n"
     ]
    },
    {
     "name": "stderr",
     "output_type": "stream",
     "text": [
      "42it [00:00, 37298.49it/s]\n",
      "53it [00:00, 36755.64it/s]\n",
      "43it [00:00, 36413.30it/s]\n",
      "52it [00:00, 39612.02it/s]\n",
      "32it [00:00, 39768.22it/s]\n",
      "41it [00:00, 35818.88it/s]\n",
      "44it [00:00, 40965.46it/s]\n",
      "0it [00:00, ?it/s]"
     ]
    },
    {
     "name": "stdout",
     "output_type": "stream",
     "text": [
      "41\n",
      "52\n",
      "42\n",
      "51\n",
      "31\n",
      "40\n",
      "43\n"
     ]
    },
    {
     "name": "stderr",
     "output_type": "stream",
     "text": [
      "42it [00:00, 34119.85it/s]\n",
      "48it [00:00, 34964.67it/s]\n",
      "48it [00:00, 36511.90it/s]\n",
      "39it [00:00, 35848.75it/s]\n",
      "49it [00:00, 38828.81it/s]\n",
      "38it [00:00, 35316.54it/s]\n",
      "0it [00:00, ?it/s]"
     ]
    },
    {
     "name": "stdout",
     "output_type": "stream",
     "text": [
      "41\n",
      "47\n",
      "47\n",
      "38\n",
      "48\n",
      "37\n"
     ]
    },
    {
     "name": "stderr",
     "output_type": "stream",
     "text": [
      "44it [00:00, 37957.50it/s]\n",
      "45it [00:00, 27982.75it/s]\n",
      "38it [00:00, 37221.75it/s]\n",
      "50it [00:00, 41290.65it/s]\n",
      "46it [00:00, 34870.41it/s]\n",
      "55it [00:00, 37798.91it/s]\n",
      "39it [00:00, 35684.52it/s]\n"
     ]
    },
    {
     "name": "stdout",
     "output_type": "stream",
     "text": [
      "43\n",
      "44\n",
      "37\n",
      "49\n",
      "45\n",
      "54\n",
      "38\n"
     ]
    },
    {
     "name": "stderr",
     "output_type": "stream",
     "text": [
      "44it [00:00, 38431.77it/s]\n",
      "52it [00:00, 37391.36it/s]\n",
      "47it [00:00, 37208.81it/s]\n",
      "49it [00:00, 31594.30it/s]\n",
      "55it [00:00, 38377.43it/s]\n",
      "37it [00:00, 39538.66it/s]\n"
     ]
    },
    {
     "name": "stdout",
     "output_type": "stream",
     "text": [
      "43\n",
      "51\n",
      "46\n",
      "48\n",
      "54\n",
      "36\n"
     ]
    },
    {
     "name": "stderr",
     "output_type": "stream",
     "text": [
      "43it [00:00, 35363.74it/s]\n",
      "50it [00:00, 39524.16it/s]\n",
      "43it [00:00, 34817.58it/s]\n",
      "43it [00:00, 36405.95it/s]\n",
      "36it [00:00, 37682.79it/s]\n",
      "50it [00:00, 41626.68it/s]\n",
      "0it [00:00, ?it/s]"
     ]
    },
    {
     "name": "stdout",
     "output_type": "stream",
     "text": [
      "42\n",
      "49\n",
      "42\n",
      "42\n",
      "35\n",
      "49\n"
     ]
    },
    {
     "name": "stderr",
     "output_type": "stream",
     "text": [
      "50it [00:00, 38671.44it/s]\n",
      "61it [00:00, 37864.81it/s]\n",
      "41it [00:00, 35369.49it/s]\n",
      "43it [00:00, 35308.35it/s]\n",
      "35it [00:00, 38591.13it/s]\n",
      "54it [00:00, 38683.59it/s]\n"
     ]
    },
    {
     "name": "stdout",
     "output_type": "stream",
     "text": [
      "49\n",
      "60\n",
      "40\n",
      "42\n",
      "34\n",
      "53\n"
     ]
    },
    {
     "name": "stderr",
     "output_type": "stream",
     "text": [
      "42it [00:00, 35473.37it/s]\n",
      "38it [00:00, 36125.01it/s]\n",
      "51it [00:00, 41568.11it/s]\n",
      "36it [00:00, 40351.40it/s]\n",
      "48it [00:00, 38649.76it/s]\n",
      "0it [00:00, ?it/s]"
     ]
    },
    {
     "name": "stdout",
     "output_type": "stream",
     "text": [
      "41\n",
      "37\n",
      "50\n",
      "35\n",
      "47\n"
     ]
    },
    {
     "name": "stderr",
     "output_type": "stream",
     "text": [
      "37it [00:00, 40038.51it/s]\n",
      "37it [00:00, 38613.90it/s]\n",
      "47it [00:00, 36916.16it/s]\n",
      "42it [00:00, 40787.40it/s]\n",
      "53it [00:00, 36755.64it/s]\n",
      "44it [00:00, 36544.43it/s]\n",
      "45it [00:00, 38432.84it/s]\n"
     ]
    },
    {
     "name": "stdout",
     "output_type": "stream",
     "text": [
      "36\n",
      "36\n",
      "46\n",
      "41\n",
      "52\n",
      "43\n",
      "44\n"
     ]
    },
    {
     "name": "stderr",
     "output_type": "stream",
     "text": [
      "51it [00:00, 39141.72it/s]\n",
      "55it [00:00, 37675.44it/s]\n",
      "50it [00:00, 37256.21it/s]\n",
      "57it [00:00, 38848.77it/s]\n",
      "50it [00:00, 37091.48it/s]\n",
      "45it [00:00, 34348.26it/s]\n"
     ]
    },
    {
     "name": "stdout",
     "output_type": "stream",
     "text": [
      "50\n",
      "54\n",
      "49\n",
      "56\n",
      "49\n",
      "44\n"
     ]
    },
    {
     "name": "stderr",
     "output_type": "stream",
     "text": [
      "37it [00:00, 39478.31it/s]\n",
      "45it [00:00, 38007.18it/s]\n",
      "47it [00:00, 36716.76it/s]\n",
      "43it [00:00, 35447.14it/s]\n",
      "48it [00:00, 38768.84it/s]\n",
      "47it [00:00, 37300.34it/s]\n",
      "0it [00:00, ?it/s]"
     ]
    },
    {
     "name": "stdout",
     "output_type": "stream",
     "text": [
      "36\n",
      "44\n",
      "46\n",
      "42\n",
      "47\n",
      "46\n"
     ]
    },
    {
     "name": "stderr",
     "output_type": "stream",
     "text": [
      "44it [00:00, 36726.24it/s]\n",
      "50it [00:00, 34964.19it/s]\n",
      "45it [00:00, 38137.74it/s]\n",
      "48it [00:00, 38245.93it/s]\n",
      "42it [00:00, 36396.85it/s]\n",
      "46it [00:00, 36362.23it/s]\n"
     ]
    },
    {
     "name": "stdout",
     "output_type": "stream",
     "text": [
      "43\n",
      "49\n",
      "44\n",
      "47\n",
      "41\n",
      "45\n"
     ]
    },
    {
     "name": "stderr",
     "output_type": "stream",
     "text": [
      "46it [00:00, 38525.96it/s]\n",
      "37it [00:00, 40090.22it/s]\n",
      "50it [00:00, 37536.28it/s]\n",
      "42it [00:00, 38742.20it/s]\n",
      "46it [00:00, 36918.86it/s]\n",
      "54it [00:00, 37393.50it/s]\n"
     ]
    },
    {
     "name": "stdout",
     "output_type": "stream",
     "text": [
      "45\n",
      "36\n",
      "49\n",
      "41\n",
      "45\n",
      "53\n"
     ]
    },
    {
     "name": "stderr",
     "output_type": "stream",
     "text": [
      "26it [00:00, 39698.55it/s]\n",
      "39it [00:00, 40122.11it/s]\n",
      "33it [00:00, 42083.32it/s]\n",
      "48it [00:00, 36465.60it/s]\n",
      "34it [00:00, 39394.02it/s]\n",
      "39it [00:00, 35809.51it/s]\n",
      "32it [00:00, 38043.57it/s]\n",
      "0it [00:00, ?it/s]"
     ]
    },
    {
     "name": "stdout",
     "output_type": "stream",
     "text": [
      "25\n",
      "38\n",
      "32\n",
      "47\n",
      "33\n",
      "38\n",
      "31\n"
     ]
    },
    {
     "name": "stderr",
     "output_type": "stream",
     "text": [
      "53it [00:00, 37379.87it/s]\n",
      "40it [00:00, 37349.10it/s]\n",
      "57it [00:00, 38622.83it/s]\n",
      "30it [00:00, 37968.96it/s]\n",
      "51it [00:00, 38259.61it/s]\n",
      "47it [00:00, 41597.87it/s]\n"
     ]
    },
    {
     "name": "stdout",
     "output_type": "stream",
     "text": [
      "52\n",
      "39\n",
      "56\n",
      "29\n",
      "50\n",
      "46\n"
     ]
    },
    {
     "name": "stderr",
     "output_type": "stream",
     "text": [
      "40it [00:00, 38347.92it/s]\n",
      "53it [00:00, 37645.74it/s]\n",
      "46it [00:00, 38114.97it/s]\n",
      "37it [00:00, 37603.40it/s]\n",
      "49it [00:00, 36537.05it/s]\n",
      "41it [00:00, 38462.64it/s]\n",
      "42it [00:00, 35028.99it/s]\n"
     ]
    },
    {
     "name": "stdout",
     "output_type": "stream",
     "text": [
      "39\n",
      "52\n",
      "45\n",
      "36\n",
      "48\n",
      "40\n",
      "41\n"
     ]
    },
    {
     "name": "stderr",
     "output_type": "stream",
     "text": [
      "37it [00:00, 39358.17it/s]\n",
      "43it [00:00, 40266.82it/s]\n",
      "48it [00:00, 33756.97it/s]\n",
      "33it [00:00, 24441.47it/s]\n",
      "50it [00:00, 41742.68it/s]\n",
      "48it [00:00, 37793.62it/s]\n",
      "0it [00:00, ?it/s]"
     ]
    },
    {
     "name": "stdout",
     "output_type": "stream",
     "text": [
      "36\n",
      "42\n",
      "47\n",
      "32\n",
      "49\n",
      "47\n"
     ]
    },
    {
     "name": "stderr",
     "output_type": "stream",
     "text": [
      "54it [00:00, 36834.02it/s]\n",
      "55it [00:00, 38409.38it/s]\n",
      "52it [00:00, 35690.36it/s]\n",
      "49it [00:00, 34460.24it/s]\n",
      "45it [00:00, 36437.00it/s]\n",
      "47it [00:00, 38063.77it/s]\n"
     ]
    },
    {
     "name": "stdout",
     "output_type": "stream",
     "text": [
      "53\n",
      "54\n",
      "51\n",
      "48\n",
      "44\n",
      "46\n"
     ]
    },
    {
     "name": "stderr",
     "output_type": "stream",
     "text": [
      "39it [00:00, 40369.66it/s]\n",
      "41it [00:00, 39770.23it/s]\n",
      "48it [00:00, 37736.94it/s]\n",
      "45it [00:00, 36352.79it/s]\n",
      "43it [00:00, 37003.50it/s]\n",
      "46it [00:00, 36687.20it/s]\n",
      "0it [00:00, ?it/s]"
     ]
    },
    {
     "name": "stdout",
     "output_type": "stream",
     "text": [
      "38\n",
      "40\n",
      "47\n",
      "44\n",
      "42\n",
      "45\n"
     ]
    },
    {
     "name": "stderr",
     "output_type": "stream",
     "text": [
      "39it [00:00, 38228.06it/s]\n",
      "56it [00:00, 37707.66it/s]\n",
      "36it [00:00, 38265.32it/s]\n",
      "39it [00:00, 32443.05it/s]\n",
      "56it [00:00, 41542.45it/s]\n",
      "53it [00:00, 29758.78it/s]\n",
      "47it [00:00, 35868.32it/s]"
     ]
    },
    {
     "name": "stdout",
     "output_type": "stream",
     "text": [
      "38\n",
      "55\n",
      "35\n",
      "38\n",
      "55\n",
      "52\n"
     ]
    },
    {
     "name": "stderr",
     "output_type": "stream",
     "text": [
      "\n",
      "53it [00:00, 34438.13it/s]\n",
      "42it [00:00, 36876.86it/s]\n",
      "43it [00:00, 36071.01it/s]\n",
      "59it [00:00, 42207.73it/s]\n",
      "39it [00:00, 34612.33it/s]\n",
      "45it [00:00, 34342.01it/s]\n"
     ]
    },
    {
     "name": "stdout",
     "output_type": "stream",
     "text": [
      "46\n",
      "52\n",
      "41\n",
      "42\n",
      "58\n",
      "38\n",
      "44\n"
     ]
    },
    {
     "name": "stderr",
     "output_type": "stream",
     "text": [
      "44it [00:00, 31332.66it/s]\n",
      "54it [00:00, 36536.93it/s]\n",
      "37it [00:00, 37224.57it/s]\n",
      "36it [00:00, 38460.25it/s]\n",
      "56it [00:00, 38593.66it/s]\n",
      "58it [00:00, 37420.34it/s]\n",
      "0it [00:00, ?it/s]"
     ]
    },
    {
     "name": "stdout",
     "output_type": "stream",
     "text": [
      "43\n",
      "53\n",
      "36\n",
      "35\n",
      "55\n",
      "57\n"
     ]
    },
    {
     "name": "stderr",
     "output_type": "stream",
     "text": [
      "41it [00:00, 30544.67it/s]\n",
      "30it [00:00, 34285.86it/s]\n",
      "41it [00:00, 34249.45it/s]\n",
      "0it [00:00, ?it/s]"
     ]
    },
    {
     "name": "stdout",
     "output_type": "stream",
     "text": [
      "40\n",
      "29\n",
      "40\n"
     ]
    },
    {
     "name": "stderr",
     "output_type": "stream",
     "text": [
      "40it [00:00, 32072.67it/s]\n",
      "36it [00:00, 37663.99it/s]\n",
      "43it [00:00, 40841.28it/s]\n",
      "40it [00:00, 40407.55it/s]\n",
      "51it [00:00, 41168.11it/s]\n",
      "39it [00:00, 39906.77it/s]\n",
      "34it [00:00, 41419.21it/s]\n"
     ]
    },
    {
     "name": "stdout",
     "output_type": "stream",
     "text": [
      "39\n",
      "35\n",
      "42\n",
      "39\n",
      "50\n",
      "38\n",
      "33\n"
     ]
    },
    {
     "name": "stderr",
     "output_type": "stream",
     "text": [
      "46it [00:00, 38395.62it/s]\n",
      "49it [00:00, 36785.56it/s]\n",
      "45it [00:00, 33506.78it/s]\n",
      "46it [00:00, 23100.81it/s]\n",
      "62it [00:00, 34849.48it/s]\n"
     ]
    },
    {
     "name": "stdout",
     "output_type": "stream",
     "text": [
      "45\n",
      "48\n",
      "44\n",
      "45\n",
      "61\n"
     ]
    },
    {
     "name": "stderr",
     "output_type": "stream",
     "text": [
      "41it [00:00, 33685.89it/s]\n",
      "49it [00:00, 25722.26it/s]\n",
      "38it [00:00, 33925.83it/s]\n",
      "40it [00:00, 31028.70it/s]\n",
      "51it [00:00, 35717.07it/s]\n",
      "43it [00:00, 26822.59it/s]\n",
      "0it [00:00, ?it/s]"
     ]
    },
    {
     "name": "stdout",
     "output_type": "stream",
     "text": [
      "40\n",
      "48\n",
      "37\n",
      "39\n",
      "50\n",
      "42\n"
     ]
    },
    {
     "name": "stderr",
     "output_type": "stream",
     "text": [
      "57it [00:00, 33748.63it/s]\n",
      "43it [00:00, 31713.57it/s]\n",
      "39it [00:00, 33424.16it/s]\n",
      "64it [00:00, 42153.81it/s]\n",
      "39it [00:00, 35614.60it/s]\n",
      "46it [00:00, 36424.01it/s]\n"
     ]
    },
    {
     "name": "stdout",
     "output_type": "stream",
     "text": [
      "56\n",
      "42\n",
      "38\n",
      "63\n",
      "38\n",
      "45\n"
     ]
    },
    {
     "name": "stderr",
     "output_type": "stream",
     "text": [
      "41it [00:00, 25292.91it/s]\n",
      "43it [00:00, 30914.48it/s]\n",
      "45it [00:00, 36734.85it/s]\n",
      "43it [00:00, 34677.00it/s]\n",
      "37it [00:00, 33700.16it/s]\n",
      "45it [00:00, 34454.85it/s]\n"
     ]
    },
    {
     "name": "stdout",
     "output_type": "stream",
     "text": [
      "40\n",
      "42\n",
      "44\n",
      "42\n",
      "36\n",
      "44\n"
     ]
    },
    {
     "name": "stderr",
     "output_type": "stream",
     "text": [
      "45it [00:00, 35318.80it/s]\n",
      "52it [00:00, 34757.58it/s]\n",
      "55it [00:00, 35441.19it/s]\n",
      "37it [00:00, 37029.17it/s]\n",
      "36it [00:00, 38796.23it/s]\n",
      "49it [00:00, 36654.34it/s]\n",
      "46it [00:00, 37646.44it/s]"
     ]
    },
    {
     "name": "stdout",
     "output_type": "stream",
     "text": [
      "44\n",
      "51\n",
      "54\n",
      "36\n",
      "35\n",
      "48\n"
     ]
    },
    {
     "name": "stderr",
     "output_type": "stream",
     "text": [
      "\n",
      "44it [00:00, 36843.56it/s]\n",
      "43it [00:00, 33226.80it/s]\n",
      "36it [00:00, 41516.34it/s]\n",
      "51it [00:00, 35615.97it/s]\n",
      "45it [00:00, 34014.00it/s]\n"
     ]
    },
    {
     "name": "stdout",
     "output_type": "stream",
     "text": [
      "45\n",
      "43\n",
      "42\n",
      "35\n",
      "50\n",
      "44\n"
     ]
    },
    {
     "name": "stderr",
     "output_type": "stream",
     "text": [
      "43it [00:00, 38987.26it/s]\n",
      "42it [00:00, 29726.76it/s]\n",
      "48it [00:00, 30788.59it/s]\n",
      "48it [00:00, 37470.05it/s]\n",
      "40it [00:00, 36488.07it/s]\n",
      "37it [00:00, 40048.84it/s]\n"
     ]
    },
    {
     "name": "stdout",
     "output_type": "stream",
     "text": [
      "42\n",
      "41\n",
      "47\n",
      "47\n",
      "39\n",
      "36\n"
     ]
    },
    {
     "name": "stderr",
     "output_type": "stream",
     "text": [
      "43it [00:00, 37985.48it/s]\n",
      "43it [00:00, 34458.36it/s]\n",
      "44it [00:00, 36873.00it/s]\n",
      "41it [00:00, 32489.41it/s]\n",
      "43it [00:00, 37102.46it/s]\n",
      "49it [00:00, 35637.40it/s]\n"
     ]
    },
    {
     "name": "stdout",
     "output_type": "stream",
     "text": [
      "42\n",
      "42\n",
      "43\n",
      "40\n",
      "42\n",
      "48\n"
     ]
    },
    {
     "name": "stderr",
     "output_type": "stream",
     "text": [
      "47it [00:00, 37034.06it/s]\n",
      "50it [00:00, 31110.40it/s]\n",
      "49it [00:00, 29016.08it/s]\n",
      "36it [00:00, 40094.25it/s]\n",
      "53it [00:00, 34545.16it/s]\n",
      "47it [00:00, 34307.74it/s]\n",
      "55it [00:00, 39911.20it/s]\n"
     ]
    },
    {
     "name": "stdout",
     "output_type": "stream",
     "text": [
      "46\n",
      "49\n",
      "48\n",
      "35\n",
      "52\n",
      "46\n",
      "54\n"
     ]
    },
    {
     "name": "stderr",
     "output_type": "stream",
     "text": [
      "37it [00:00, 36310.07it/s]\n",
      "42it [00:00, 40109.46it/s]\n",
      "51it [00:00, 35939.10it/s]\n",
      "51it [00:00, 35421.35it/s]\n",
      "43it [00:00, 34763.89it/s]\n",
      "42it [00:00, 37102.10it/s]\n",
      "0it [00:00, ?it/s]"
     ]
    },
    {
     "name": "stdout",
     "output_type": "stream",
     "text": [
      "36\n",
      "41\n",
      "50\n",
      "50\n",
      "42\n",
      "41\n"
     ]
    },
    {
     "name": "stderr",
     "output_type": "stream",
     "text": [
      "47it [00:00, 39067.04it/s]\n",
      "49it [00:00, 38165.44it/s]\n",
      "47it [00:00, 35258.86it/s]\n",
      "45it [00:00, 36972.32it/s]\n",
      "45it [00:00, 36227.19it/s]\n",
      "49it [00:00, 35898.85it/s]\n",
      "45it [00:00, 35659.11it/s]"
     ]
    },
    {
     "name": "stdout",
     "output_type": "stream",
     "text": [
      "46\n",
      "48\n",
      "46\n",
      "44\n",
      "44\n",
      "48\n",
      "44\n"
     ]
    },
    {
     "name": "stderr",
     "output_type": "stream",
     "text": [
      "\n",
      "58it [00:00, 35975.99it/s]\n",
      "47it [00:00, 40805.69it/s]\n",
      "40it [00:00, 35643.12it/s]\n",
      "46it [00:00, 38851.79it/s]\n",
      "46it [00:00, 38107.44it/s]\n",
      "34it [00:00, 38688.64it/s]\n",
      "0it [00:00, ?it/s]"
     ]
    },
    {
     "name": "stdout",
     "output_type": "stream",
     "text": [
      "57\n",
      "46\n",
      "39\n",
      "45\n",
      "45\n",
      "33\n"
     ]
    },
    {
     "name": "stderr",
     "output_type": "stream",
     "text": [
      "44it [00:00, 34347.55it/s]\n",
      "42it [00:00, 40394.58it/s]\n",
      "44it [00:00, 39782.15it/s]\n",
      "49it [00:00, 35662.14it/s]\n",
      "43it [00:00, 36942.87it/s]\n",
      "41it [00:00, 35901.14it/s]\n",
      "50it [00:00, 37596.84it/s]\n"
     ]
    },
    {
     "name": "stdout",
     "output_type": "stream",
     "text": [
      "43\n",
      "41\n",
      "43\n",
      "48\n",
      "42\n",
      "40\n",
      "49\n"
     ]
    },
    {
     "name": "stderr",
     "output_type": "stream",
     "text": [
      "36it [00:00, 36366.80it/s]\n",
      "46it [00:00, 39650.22it/s]\n",
      "45it [00:00, 35944.33it/s]\n",
      "54it [00:00, 36756.32it/s]\n",
      "41it [00:00, 37753.34it/s]\n",
      "42it [00:00, 35566.48it/s]\n"
     ]
    },
    {
     "name": "stdout",
     "output_type": "stream",
     "text": [
      "35\n",
      "45\n",
      "44\n",
      "53\n",
      "40\n",
      "41\n"
     ]
    },
    {
     "name": "stderr",
     "output_type": "stream",
     "text": [
      "51it [00:00, 38259.61it/s]\n",
      "48it [00:00, 37504.95it/s]\n",
      "51it [00:00, 38150.44it/s]\n"
     ]
    },
    {
     "name": "stdout",
     "output_type": "stream",
     "text": [
      "50\n",
      "47\n",
      "50\n"
     ]
    },
    {
     "name": "stderr",
     "output_type": "stream",
     "text": [
      "46it [00:00, 28394.11it/s]\n",
      "41it [00:00, 34803.98it/s]\n",
      "33it [00:00, 40294.62it/s]\n",
      "45it [00:00, 34486.33it/s]\n",
      "41it [00:00, 37343.42it/s]\n",
      "52it [00:00, 41012.37it/s]\n",
      "0it [00:00, ?it/s]"
     ]
    },
    {
     "name": "stdout",
     "output_type": "stream",
     "text": [
      "45\n",
      "40\n",
      "32\n",
      "44\n",
      "40\n",
      "51\n"
     ]
    },
    {
     "name": "stderr",
     "output_type": "stream",
     "text": [
      "41it [00:00, 37811.45it/s]\n",
      "44it [00:00, 36486.63it/s]\n",
      "44it [00:00, 33108.97it/s]\n",
      "40it [00:00, 36464.28it/s]\n",
      "43it [00:00, 35948.79it/s]\n",
      "45it [00:00, 38037.82it/s]\n",
      "0it [00:00, ?it/s]"
     ]
    },
    {
     "name": "stdout",
     "output_type": "stream",
     "text": [
      "40\n",
      "43\n",
      "43\n",
      "39\n",
      "42\n",
      "44\n"
     ]
    },
    {
     "name": "stderr",
     "output_type": "stream",
     "text": [
      "51it [00:00, 38348.78it/s]\n",
      "53it [00:00, 37506.01it/s]\n",
      "48it [00:00, 38377.16it/s]\n",
      "42it [00:00, 36707.81it/s]\n",
      "66it [00:00, 42013.06it/s]\n",
      "35it [00:00, 38339.16it/s]\n"
     ]
    },
    {
     "name": "stdout",
     "output_type": "stream",
     "text": [
      "50\n",
      "52\n",
      "47\n",
      "41\n",
      "65\n",
      "34\n"
     ]
    },
    {
     "name": "stderr",
     "output_type": "stream",
     "text": [
      "40it [00:00, 35062.10it/s]\n",
      "46it [00:00, 35473.06it/s]\n",
      "44it [00:00, 37185.04it/s]\n",
      "40it [00:00, 35187.11it/s]\n",
      "34it [00:00, 37776.51it/s]\n",
      "47it [00:00, 27356.69it/s]\n",
      "0it [00:00, ?it/s]"
     ]
    },
    {
     "name": "stdout",
     "output_type": "stream",
     "text": [
      "39\n",
      "45\n",
      "43\n",
      "39\n",
      "33\n",
      "46\n"
     ]
    },
    {
     "name": "stderr",
     "output_type": "stream",
     "text": [
      "57it [00:00, 36125.01it/s]\n",
      "33it [00:00, 36300.03it/s]\n",
      "51it [00:00, 33288.13it/s]\n",
      "40it [00:00, 37241.32it/s]\n",
      "38it [00:00, 29116.47it/s]\n",
      "49it [00:00, 36056.30it/s]\n"
     ]
    },
    {
     "name": "stdout",
     "output_type": "stream",
     "text": [
      "56\n",
      "32\n",
      "50\n",
      "39\n",
      "37\n",
      "48\n"
     ]
    },
    {
     "name": "stderr",
     "output_type": "stream",
     "text": [
      "52it [00:00, 36290.15it/s]\n",
      "40it [00:00, 34757.03it/s]\n",
      "51it [00:00, 39328.83it/s]\n",
      "42it [00:00, 35473.37it/s]\n",
      "44it [00:00, 34715.83it/s]\n",
      "60it [00:00, 36900.04it/s]\n"
     ]
    },
    {
     "name": "stdout",
     "output_type": "stream",
     "text": [
      "51\n",
      "39\n",
      "50\n",
      "41\n",
      "43\n",
      "59\n"
     ]
    },
    {
     "name": "stderr",
     "output_type": "stream",
     "text": [
      "46it [00:00, 34027.86it/s]\n",
      "38it [00:00, 28681.58it/s]\n",
      "40it [00:00, 33982.61it/s]\n",
      "53it [00:00, 34864.82it/s]\n",
      "49it [00:00, 36871.35it/s]\n",
      "53it [00:00, 40984.17it/s]\n"
     ]
    },
    {
     "name": "stdout",
     "output_type": "stream",
     "text": [
      "45\n",
      "37\n",
      "39\n",
      "52\n",
      "48\n",
      "52\n"
     ]
    },
    {
     "name": "stderr",
     "output_type": "stream",
     "text": [
      "35it [00:00, 39547.59it/s]\n",
      "44it [00:00, 34755.06it/s]\n",
      "51it [00:00, 33226.08it/s]\n",
      "40it [00:00, 38104.06it/s]\n",
      "48it [00:00, 35633.03it/s]\n",
      "48it [00:00, 36255.46it/s]\n",
      "0it [00:00, ?it/s]"
     ]
    },
    {
     "name": "stdout",
     "output_type": "stream",
     "text": [
      "34\n",
      "43\n",
      "50\n",
      "39\n",
      "47\n",
      "47\n"
     ]
    },
    {
     "name": "stderr",
     "output_type": "stream",
     "text": [
      "40it [00:00, 36905.45it/s]\n",
      "44it [00:00, 39560.42it/s]\n",
      "52it [00:00, 37250.86it/s]\n",
      "40it [00:00, 35238.85it/s]\n",
      "51it [00:00, 36906.40it/s]\n",
      "55it [00:00, 37243.58it/s]\n",
      "0it [00:00, ?it/s]"
     ]
    },
    {
     "name": "stdout",
     "output_type": "stream",
     "text": [
      "39\n",
      "43\n",
      "51\n",
      "39\n",
      "50\n",
      "54\n"
     ]
    },
    {
     "name": "stderr",
     "output_type": "stream",
     "text": [
      "45it [00:00, 35665.85it/s]\n",
      "43it [00:00, 34938.99it/s]\n",
      "47it [00:00, 33865.71it/s]\n",
      "66it [00:00, 39360.74it/s]\n",
      "55it [00:00, 37237.57it/s]\n",
      "40it [00:00, 35462.30it/s]\n"
     ]
    },
    {
     "name": "stdout",
     "output_type": "stream",
     "text": [
      "44\n",
      "42\n",
      "46\n",
      "65\n",
      "54\n",
      "39\n"
     ]
    },
    {
     "name": "stderr",
     "output_type": "stream",
     "text": [
      "43it [00:00, 33755.39it/s]\n",
      "40it [00:00, 34443.06it/s]\n",
      "44it [00:00, 37510.04it/s]\n",
      "40it [00:00, 36134.43it/s]\n",
      "46it [00:00, 36130.71it/s]\n",
      "55it [00:00, 39562.12it/s]\n",
      "0it [00:00, ?it/s]"
     ]
    },
    {
     "name": "stdout",
     "output_type": "stream",
     "text": [
      "42\n",
      "39\n",
      "43\n",
      "39\n",
      "45\n",
      "54\n"
     ]
    },
    {
     "name": "stderr",
     "output_type": "stream",
     "text": [
      "39it [00:00, 36006.57it/s]\n",
      "49it [00:00, 36680.51it/s]\n",
      "42it [00:00, 32430.19it/s]\n",
      "55it [00:00, 32486.51it/s]\n",
      "39it [00:00, 36684.87it/s]\n",
      "49it [00:00, 32689.82it/s]\n",
      "0it [00:00, ?it/s]"
     ]
    },
    {
     "name": "stdout",
     "output_type": "stream",
     "text": [
      "38\n",
      "48\n",
      "41\n",
      "54\n",
      "38\n",
      "48\n"
     ]
    },
    {
     "name": "stderr",
     "output_type": "stream",
     "text": [
      "58it [00:00, 35896.36it/s]\n",
      "53it [00:00, 36670.75it/s]\n",
      "50it [00:00, 37058.70it/s]\n",
      "43it [00:00, 34314.13it/s]\n",
      "45it [00:00, 34404.61it/s]\n",
      "53it [00:00, 41342.41it/s]\n"
     ]
    },
    {
     "name": "stdout",
     "output_type": "stream",
     "text": [
      "57\n",
      "52\n",
      "49\n",
      "42\n",
      "44\n",
      "52\n"
     ]
    },
    {
     "name": "stderr",
     "output_type": "stream",
     "text": [
      "44it [00:00, 36335.77it/s]\n",
      "36it [00:00, 38168.59it/s]\n",
      "42it [00:00, 36977.49it/s]\n",
      "46it [00:00, 41438.57it/s]\n",
      "43it [00:00, 37786.52it/s]\n",
      "41it [00:00, 39605.36it/s]\n",
      "51it [00:00, 40421.30it/s]\n",
      "0it [00:00, ?it/s]"
     ]
    },
    {
     "name": "stdout",
     "output_type": "stream",
     "text": [
      "43\n",
      "35\n",
      "41\n",
      "45\n",
      "42\n",
      "40\n",
      "50\n"
     ]
    },
    {
     "name": "stderr",
     "output_type": "stream",
     "text": [
      "42it [00:00, 31367.66it/s]\n",
      "43it [00:00, 36717.24it/s]\n",
      "41it [00:00, 32306.31it/s]\n",
      "33it [00:00, 31428.71it/s]\n",
      "56it [00:00, 36455.23it/s]\n",
      "50it [00:00, 37058.70it/s]\n"
     ]
    },
    {
     "name": "stdout",
     "output_type": "stream",
     "text": [
      "41\n",
      "42\n",
      "40\n",
      "32\n",
      "55\n",
      "49\n"
     ]
    },
    {
     "name": "stderr",
     "output_type": "stream",
     "text": [
      "28it [00:00, 31209.28it/s]\n",
      "38it [00:00, 37074.56it/s]\n",
      "34it [00:00, 37079.13it/s]\n",
      "0it [00:00, ?it/s]"
     ]
    },
    {
     "name": "stdout",
     "output_type": "stream",
     "text": [
      "27\n",
      "37\n",
      "33\n"
     ]
    },
    {
     "name": "stderr",
     "output_type": "stream",
     "text": [
      "47it [00:00, 367.68it/s]\n",
      "47it [00:00, 34712.50it/s]\n",
      "46it [00:00, 35330.16it/s]\n",
      "44it [00:00, 39859.48it/s]\n",
      "50it [00:00, 38081.57it/s]\n",
      "46it [00:00, 41367.49it/s]\n"
     ]
    },
    {
     "name": "stdout",
     "output_type": "stream",
     "text": [
      "46\n",
      "46\n",
      "45\n",
      "43\n",
      "49\n",
      "45\n"
     ]
    },
    {
     "name": "stderr",
     "output_type": "stream",
     "text": [
      "49it [00:00, 36517.57it/s]\n",
      "57it [00:00, 34153.62it/s]\n",
      "33it [00:00, 34336.90it/s]\n",
      "67it [00:00, 35968.05it/s]\n",
      "41it [00:00, 36029.01it/s]\n",
      "50it [00:00, 31621.71it/s]\n"
     ]
    },
    {
     "name": "stdout",
     "output_type": "stream",
     "text": [
      "48\n",
      "56\n",
      "32\n",
      "66\n",
      "40\n",
      "49\n"
     ]
    },
    {
     "name": "stderr",
     "output_type": "stream",
     "text": [
      "49it [00:00, 33538.01it/s]\n",
      "51it [00:00, 35615.97it/s]\n",
      "47it [00:00, 30379.46it/s]\n",
      "43it [00:00, 37857.91it/s]\n",
      "49it [00:00, 35024.01it/s]\n",
      "54it [00:00, 35831.74it/s]\n"
     ]
    },
    {
     "name": "stdout",
     "output_type": "stream",
     "text": [
      "48\n",
      "50\n",
      "46\n",
      "42\n",
      "48\n",
      "53\n"
     ]
    },
    {
     "name": "stderr",
     "output_type": "stream",
     "text": [
      "46it [00:00, 30610.50it/s]\n",
      "50it [00:00, 36876.24it/s]\n",
      "43it [00:00, 28682.42it/s]\n",
      "51it [00:00, 32687.88it/s]\n",
      "51it [00:00, 35836.74it/s]\n",
      "44it [00:00, 38705.83it/s]\n"
     ]
    },
    {
     "name": "stdout",
     "output_type": "stream",
     "text": [
      "45\n",
      "49\n",
      "42\n",
      "50\n",
      "50\n",
      "43\n"
     ]
    },
    {
     "name": "stderr",
     "output_type": "stream",
     "text": [
      "39it [00:00, 36561.88it/s]\n",
      "42it [00:00, 37393.50it/s]\n",
      "41it [00:00, 36449.02it/s]\n",
      "45it [00:00, 41084.82it/s]\n",
      "49it [00:00, 36132.37it/s]\n",
      "48it [00:00, 36558.31it/s]\n",
      "49it [00:00, 22676.92it/s]\n"
     ]
    },
    {
     "name": "stdout",
     "output_type": "stream",
     "text": [
      "38\n",
      "41\n",
      "40\n",
      "44\n",
      "48\n",
      "47\n",
      "48\n"
     ]
    },
    {
     "name": "stderr",
     "output_type": "stream",
     "text": [
      "45it [00:00, 32513.98it/s]\n",
      "45it [00:00, 37256.94it/s]\n",
      "49it [00:00, 35668.33it/s]\n",
      "40it [00:00, 37583.37it/s]\n",
      "51it [00:00, 36274.29it/s]\n",
      "53it [00:00, 36779.97it/s]\n"
     ]
    },
    {
     "name": "stdout",
     "output_type": "stream",
     "text": [
      "44\n",
      "44\n",
      "48\n",
      "39\n",
      "50\n",
      "52\n"
     ]
    },
    {
     "name": "stderr",
     "output_type": "stream",
     "text": [
      "42it [00:00, 41053.55it/s]\n",
      "38it [00:00, 34960.20it/s]\n",
      "44it [00:00, 34182.14it/s]\n",
      "51it [00:00, 34929.70it/s]\n",
      "45it [00:00, 32824.99it/s]\n",
      "48it [00:00, 32608.78it/s]\n"
     ]
    },
    {
     "name": "stdout",
     "output_type": "stream",
     "text": [
      "41\n",
      "37\n",
      "43\n",
      "50\n",
      "44\n",
      "47\n"
     ]
    },
    {
     "name": "stderr",
     "output_type": "stream",
     "text": [
      "67it [00:00, 33331.56it/s]\n",
      "37it [00:00, 35310.41it/s]\n",
      "56it [00:00, 33859.16it/s]\n",
      "47it [00:00, 36744.14it/s]\n",
      "50it [00:00, 36491.25it/s]\n",
      "48it [00:00, 41272.36it/s]\n",
      "51it [00:00, 38702.64it/s]"
     ]
    },
    {
     "name": "stdout",
     "output_type": "stream",
     "text": [
      "66\n",
      "36\n",
      "55\n",
      "46\n",
      "49\n",
      "47\n"
     ]
    },
    {
     "name": "stderr",
     "output_type": "stream",
     "text": [
      "\n",
      "47it [00:00, 27617.30it/s]\n",
      "53it [00:00, 40706.48it/s]\n",
      "55it [00:00, 41662.76it/s]\n",
      "41it [00:00, 39387.65it/s]\n",
      "39it [00:00, 39511.56it/s]\n",
      "45it [00:00, 40252.44it/s]\n"
     ]
    },
    {
     "name": "stdout",
     "output_type": "stream",
     "text": [
      "50\n",
      "46\n",
      "52\n",
      "54\n",
      "40\n",
      "38\n",
      "44\n"
     ]
    },
    {
     "name": "stderr",
     "output_type": "stream",
     "text": [
      "43it [00:00, 38636.48it/s]\n",
      "48it [00:00, 41087.06it/s]\n",
      "50it [00:00, 40353.13it/s]\n",
      "51it [00:00, 41632.83it/s]\n",
      "37it [00:00, 42011.17it/s]\n",
      "45it [00:00, 40398.90it/s]\n",
      "37it [00:00, 42693.05it/s]\n"
     ]
    },
    {
     "name": "stdout",
     "output_type": "stream",
     "text": [
      "42\n",
      "47\n",
      "49\n",
      "50\n",
      "36\n",
      "44\n",
      "36\n"
     ]
    },
    {
     "name": "stderr",
     "output_type": "stream",
     "text": [
      "52it [00:00, 41206.09it/s]\n",
      "48it [00:00, 40953.33it/s]\n",
      "44it [00:00, 40400.48it/s]\n",
      "47it [00:00, 39961.95it/s]\n",
      "36it [00:00, 41699.79it/s]\n",
      "43it [00:00, 34184.05it/s]\n",
      "46it [00:00, 33648.06it/s]\n"
     ]
    },
    {
     "name": "stdout",
     "output_type": "stream",
     "text": [
      "51\n",
      "47\n",
      "43\n",
      "46\n",
      "35\n",
      "42\n",
      "45\n"
     ]
    },
    {
     "name": "stderr",
     "output_type": "stream",
     "text": [
      "33it [00:00, 28299.33it/s]\n",
      "43it [00:00, 33208.45it/s]\n",
      "42it [00:00, 30257.78it/s]\n",
      "53it [00:00, 35941.49it/s]\n",
      "43it [00:00, 31898.67it/s]\n",
      "52it [00:00, 41599.05it/s]\n"
     ]
    },
    {
     "name": "stdout",
     "output_type": "stream",
     "text": [
      "32\n",
      "42\n",
      "41\n",
      "52\n",
      "42\n",
      "51\n"
     ]
    },
    {
     "name": "stderr",
     "output_type": "stream",
     "text": [
      "44it [00:00, 32855.51it/s]\n",
      "66it [00:00, 40793.41it/s]\n",
      "36it [00:00, 40179.60it/s]\n",
      "41it [00:00, 36807.89it/s]\n",
      "61it [00:00, 41547.99it/s]\n",
      "58it [00:00, 41791.73it/s]\n"
     ]
    },
    {
     "name": "stdout",
     "output_type": "stream",
     "text": [
      "43\n",
      "65\n",
      "35\n",
      "40\n",
      "60\n",
      "57\n"
     ]
    },
    {
     "name": "stderr",
     "output_type": "stream",
     "text": [
      "47it [00:00, 39824.70it/s]\n",
      "39it [00:00, 39435.36it/s]\n",
      "48it [00:00, 40475.79it/s]\n",
      "0it [00:00, ?it/s]"
     ]
    },
    {
     "name": "stdout",
     "output_type": "stream",
     "text": [
      "46\n",
      "38\n",
      "47\n"
     ]
    },
    {
     "name": "stderr",
     "output_type": "stream",
     "text": [
      "37it [00:00, 42366.71it/s]\n",
      "38it [00:00, 40941.06it/s]\n",
      "41it [00:00, 41042.12it/s]\n",
      "52it [00:00, 42416.14it/s]\n",
      "38it [00:00, 40126.78it/s]\n",
      "45it [00:00, 40502.94it/s]\n",
      "37it [00:00, 41954.38it/s]\n",
      "43it [00:00, 40411.17it/s]"
     ]
    },
    {
     "name": "stdout",
     "output_type": "stream",
     "text": [
      "36\n",
      "37\n",
      "40\n",
      "51\n",
      "37\n",
      "44\n",
      "36\n"
     ]
    },
    {
     "name": "stderr",
     "output_type": "stream",
     "text": [
      "\n",
      "41it [00:00, 40396.16it/s]\n",
      "47it [00:00, 40763.50it/s]\n",
      "43it [00:00, 39778.36it/s]\n",
      "61it [00:00, 42039.52it/s]\n",
      "41it [00:00, 33281.68it/s]\n",
      "48it [00:00, 26231.48it/s]\n"
     ]
    },
    {
     "name": "stdout",
     "output_type": "stream",
     "text": [
      "42\n",
      "40\n",
      "46\n",
      "42\n",
      "60\n",
      "40\n",
      "47\n"
     ]
    },
    {
     "name": "stderr",
     "output_type": "stream",
     "text": [
      "51it [00:00, 37920.49it/s]\n",
      "47it [00:00, 35442.70it/s]\n",
      "39it [00:00, 28824.29it/s]\n",
      "54it [00:00, 32607.60it/s]\n",
      "50it [00:00, 36101.77it/s]\n",
      "40it [00:00, 35216.66it/s]\n"
     ]
    },
    {
     "name": "stdout",
     "output_type": "stream",
     "text": [
      "50\n",
      "46\n",
      "38\n",
      "53\n",
      "49\n",
      "39\n"
     ]
    },
    {
     "name": "stderr",
     "output_type": "stream",
     "text": [
      "45it [00:00, 34486.33it/s]\n",
      "39it [00:00, 38882.30it/s]\n",
      "55it [00:00, 41828.96it/s]\n",
      "44it [00:00, 40965.46it/s]\n",
      "50it [00:00, 41634.94it/s]\n",
      "42it [00:00, 40580.69it/s]\n",
      "45it [00:00, 41237.42it/s]\n"
     ]
    },
    {
     "name": "stdout",
     "output_type": "stream",
     "text": [
      "44\n",
      "38\n",
      "54\n",
      "43\n",
      "49\n",
      "41\n",
      "44\n"
     ]
    },
    {
     "name": "stderr",
     "output_type": "stream",
     "text": [
      "41it [00:00, 39047.79it/s]\n",
      "41it [00:00, 40104.12it/s]\n",
      "39it [00:00, 39838.74it/s]\n",
      "44it [00:00, 40775.38it/s]\n",
      "43it [00:00, 39421.87it/s]\n",
      "56it [00:00, 40636.86it/s]\n",
      "37it [00:00, 41207.98it/s]\n"
     ]
    },
    {
     "name": "stdout",
     "output_type": "stream",
     "text": [
      "40\n",
      "40\n",
      "38\n",
      "43\n",
      "42\n",
      "55\n",
      "36\n"
     ]
    },
    {
     "name": "stderr",
     "output_type": "stream",
     "text": [
      "46it [00:00, 34744.82it/s]\n",
      "44it [00:00, 35772.32it/s]\n",
      "45it [00:00, 37756.29it/s]\n",
      "49it [00:00, 37661.88it/s]\n",
      "43it [00:00, 36013.39it/s]\n",
      "58it [00:00, 38106.15it/s]\n"
     ]
    },
    {
     "name": "stdout",
     "output_type": "stream",
     "text": [
      "45\n",
      "43\n",
      "44\n",
      "48\n",
      "42\n",
      "57\n"
     ]
    },
    {
     "name": "stderr",
     "output_type": "stream",
     "text": [
      "31it [00:00, 40417.60it/s]\n",
      "38it [00:00, 39383.14it/s]\n",
      "44it [00:00, 39215.76it/s]\n",
      "46it [00:00, 41076.85it/s]\n",
      "52it [00:00, 40397.08it/s]\n",
      "33it [00:00, 40329.85it/s]\n",
      "54it [00:00, 41060.99it/s]\n"
     ]
    },
    {
     "name": "stdout",
     "output_type": "stream",
     "text": [
      "30\n",
      "37\n",
      "43\n",
      "45\n",
      "51\n",
      "32\n",
      "53\n"
     ]
    },
    {
     "name": "stderr",
     "output_type": "stream",
     "text": [
      "44it [00:00, 39207.43it/s]\n",
      "54it [00:00, 40488.45it/s]\n",
      "45it [00:00, 40072.97it/s]\n",
      "54it [00:00, 40912.65it/s]\n",
      "58it [00:00, 42307.76it/s]\n",
      "47it [00:00, 40338.10it/s]\n",
      "0it [00:00, ?it/s]"
     ]
    },
    {
     "name": "stdout",
     "output_type": "stream",
     "text": [
      "43\n",
      "53\n",
      "44\n",
      "53\n",
      "57\n",
      "46\n"
     ]
    },
    {
     "name": "stderr",
     "output_type": "stream",
     "text": [
      "57it [00:00, 40228.05it/s]\n",
      "49it [00:00, 40592.71it/s]\n",
      "40it [00:00, 39690.60it/s]\n",
      "43it [00:00, 40007.78it/s]\n",
      "70it [00:00, 41005.77it/s]\n",
      "48it [00:00, 40861.90it/s]\n",
      "41it [00:00, 40837.44it/s]"
     ]
    },
    {
     "name": "stdout",
     "output_type": "stream",
     "text": [
      "56\n",
      "48\n",
      "39\n",
      "42\n",
      "69\n",
      "47\n"
     ]
    },
    {
     "name": "stderr",
     "output_type": "stream",
     "text": [
      "\n",
      "41it [00:00, 39687.62it/s]\n",
      "48it [00:00, 40573.68it/s]\n",
      "50it [00:00, 41388.43it/s]\n",
      "46it [00:00, 40245.72it/s]\n",
      "47it [00:00, 41449.18it/s]\n",
      "46it [00:00, 40850.73it/s]\n",
      "0it [00:00, ?it/s]"
     ]
    },
    {
     "name": "stdout",
     "output_type": "stream",
     "text": [
      "40\n",
      "40\n",
      "47\n",
      "49\n",
      "45\n",
      "46\n",
      "45\n"
     ]
    },
    {
     "name": "stderr",
     "output_type": "stream",
     "text": [
      "49it [00:00, 40705.27it/s]\n",
      "43it [00:00, 40420.23it/s]\n",
      "44it [00:00, 40365.13it/s]\n",
      "41it [00:00, 39807.05it/s]\n",
      "60it [00:00, 42160.87it/s]\n",
      "48it [00:00, 40920.04it/s]\n",
      "44it [00:00, 40041.09it/s]\n"
     ]
    },
    {
     "name": "stdout",
     "output_type": "stream",
     "text": [
      "48\n",
      "42\n",
      "43\n",
      "40\n",
      "59\n",
      "47\n",
      "43\n"
     ]
    },
    {
     "name": "stderr",
     "output_type": "stream",
     "text": [
      "52it [00:00, 41237.25it/s]\n",
      "42it [00:00, 40155.18it/s]\n",
      "39it [00:00, 39312.15it/s]\n",
      "47it [00:00, 40247.51it/s]\n",
      "47it [00:00, 41052.12it/s]\n",
      "44it [00:00, 39577.39it/s]\n",
      "49it [00:00, 41385.60it/s]\n",
      "0it [00:00, ?it/s]"
     ]
    },
    {
     "name": "stdout",
     "output_type": "stream",
     "text": [
      "51\n",
      "41\n",
      "38\n",
      "46\n",
      "46\n",
      "43\n",
      "48\n"
     ]
    },
    {
     "name": "stderr",
     "output_type": "stream",
     "text": [
      "48it [00:00, 40508.37it/s]\n",
      "35it [00:00, 41871.26it/s]\n",
      "35it [00:00, 42477.04it/s]\n",
      "36it [00:00, 42200.93it/s]\n",
      "44it [00:00, 40811.45it/s]\n",
      "48it [00:00, 40886.80it/s]\n",
      "49it [00:00, 39775.67it/s]\n",
      "0it [00:00, ?it/s]"
     ]
    },
    {
     "name": "stdout",
     "output_type": "stream",
     "text": [
      "47\n",
      "34\n",
      "34\n",
      "35\n",
      "43\n",
      "47\n",
      "48\n"
     ]
    },
    {
     "name": "stderr",
     "output_type": "stream",
     "text": [
      "34it [00:00, 41002.40it/s]\n",
      "51it [00:00, 41560.04it/s]\n",
      "44it [00:00, 41194.06it/s]\n",
      "48it [00:00, 40443.27it/s]\n",
      "45it [00:00, 41482.13it/s]\n",
      "51it [00:00, 42291.32it/s]\n",
      "38it [00:00, 39865.82it/s]\n"
     ]
    },
    {
     "name": "stdout",
     "output_type": "stream",
     "text": [
      "33\n",
      "50\n",
      "43\n",
      "47\n",
      "44\n",
      "50\n",
      "37\n"
     ]
    },
    {
     "name": "stderr",
     "output_type": "stream",
     "text": [
      "42it [00:00, 38999.51it/s]\n",
      "38it [00:00, 38893.01it/s]\n",
      "41it [00:00, 40038.76it/s]\n",
      "48it [00:00, 41129.03it/s]\n",
      "45it [00:00, 40175.33it/s]\n",
      "44it [00:00, 40974.55it/s]\n",
      "48it [00:00, 40886.80it/s]\n"
     ]
    },
    {
     "name": "stdout",
     "output_type": "stream",
     "text": [
      "41\n",
      "37\n",
      "40\n",
      "47\n",
      "44\n",
      "43\n",
      "47\n"
     ]
    },
    {
     "name": "stderr",
     "output_type": "stream",
     "text": [
      "41it [00:00, 39770.23it/s]\n",
      "53it [00:00, 39759.99it/s]\n",
      "35it [00:00, 41574.81it/s]\n"
     ]
    },
    {
     "name": "stdout",
     "output_type": "stream",
     "text": [
      "40\n",
      "52\n",
      "34\n"
     ]
    },
    {
     "name": "stderr",
     "output_type": "stream",
     "text": [
      "54it [00:00, 40575.50it/s]\n",
      "59it [00:00, 42843.48it/s]\n",
      "50it [00:00, 42230.21it/s]\n",
      "58it [00:00, 42648.95it/s]\n",
      "41it [00:00, 39724.29it/s]\n",
      "56it [00:00, 41890.68it/s]\n",
      "41it [00:00, 39432.81it/s]"
     ]
    },
    {
     "name": "stdout",
     "output_type": "stream",
     "text": [
      "53\n",
      "58\n",
      "49\n",
      "57\n",
      "40\n",
      "55\n"
     ]
    },
    {
     "name": "stderr",
     "output_type": "stream",
     "text": [
      "\n",
      "46it [00:00, 40712.81it/s]\n",
      "38it [00:00, 39796.14it/s]\n",
      "52it [00:00, 41967.25it/s]\n",
      "48it [00:00, 40920.04it/s]\n",
      "49it [00:00, 40369.46it/s]\n",
      "45it [00:00, 37847.14it/s]\n"
     ]
    },
    {
     "name": "stdout",
     "output_type": "stream",
     "text": [
      "40\n",
      "45\n",
      "37\n",
      "51\n",
      "47\n",
      "48\n",
      "44\n"
     ]
    },
    {
     "name": "stderr",
     "output_type": "stream",
     "text": [
      "55it [00:00, 40858.43it/s]\n",
      "51it [00:00, 41128.53it/s]\n",
      "59it [00:00, 41730.85it/s]\n",
      "46it [00:00, 39552.68it/s]\n",
      "47it [00:00, 39832.75it/s]\n",
      "42it [00:00, 40155.18it/s]\n",
      "0it [00:00, ?it/s]"
     ]
    },
    {
     "name": "stdout",
     "output_type": "stream",
     "text": [
      "54\n",
      "50\n",
      "58\n",
      "45\n",
      "46\n",
      "41\n"
     ]
    },
    {
     "name": "stderr",
     "output_type": "stream",
     "text": [
      "39it [00:00, 42587.31it/s]\n",
      "37it [00:00, 40079.87it/s]\n",
      "43it [00:00, 39734.54it/s]\n",
      "41it [00:00, 39047.79it/s]\n",
      "53it [00:00, 41311.67it/s]\n",
      "54it [00:00, 40546.44it/s]\n",
      "46it [00:00, 40245.72it/s]\n"
     ]
    },
    {
     "name": "stdout",
     "output_type": "stream",
     "text": [
      "38\n",
      "36\n",
      "42\n",
      "40\n",
      "52\n",
      "53\n",
      "45\n"
     ]
    },
    {
     "name": "stderr",
     "output_type": "stream",
     "text": [
      "40it [00:00, 40368.66it/s]\n",
      "47it [00:00, 41668.21it/s]\n",
      "57it [00:00, 41127.70it/s]\n",
      "68it [00:00, 42709.29it/s]\n",
      "48it [00:00, 40606.41it/s]\n",
      "45it [00:00, 39329.79it/s]\n"
     ]
    },
    {
     "name": "stdout",
     "output_type": "stream",
     "text": [
      "39\n",
      "46\n",
      "56\n",
      "67\n",
      "47\n",
      "44\n"
     ]
    },
    {
     "name": "stderr",
     "output_type": "stream",
     "text": [
      "47it [00:00, 40729.81it/s]\n",
      "44it [00:00, 39747.87it/s]\n",
      "56it [00:00, 42070.75it/s]\n",
      "42it [00:00, 39954.81it/s]\n",
      "52it [00:00, 42202.75it/s]\n",
      "40it [00:00, 32678.64it/s]\n",
      "0it [00:00, ?it/s]"
     ]
    },
    {
     "name": "stdout",
     "output_type": "stream",
     "text": [
      "46\n",
      "43\n",
      "55\n",
      "41\n",
      "51\n",
      "39\n"
     ]
    },
    {
     "name": "stderr",
     "output_type": "stream",
     "text": [
      "51it [00:00, 32878.80it/s]\n",
      "47it [00:00, 35334.70it/s]\n",
      "47it [00:00, 40379.41it/s]\n",
      "46it [00:00, 35995.89it/s]\n",
      "45it [00:00, 37183.55it/s]\n",
      "48it [00:00, 38873.64it/s]\n"
     ]
    },
    {
     "name": "stdout",
     "output_type": "stream",
     "text": [
      "50\n",
      "46\n",
      "46\n",
      "45\n",
      "44\n",
      "47\n"
     ]
    },
    {
     "name": "stderr",
     "output_type": "stream",
     "text": [
      "41it [00:00, 38462.64it/s]\n",
      "51it [00:00, 41657.16it/s]\n",
      "46it [00:00, 40003.73it/s]\n",
      "41it [00:00, 37539.07it/s]\n",
      "51it [00:00, 35345.26it/s]\n",
      "43it [00:00, 35273.83it/s]\n",
      "49it [00:00, 39937.99it/s]\n"
     ]
    },
    {
     "name": "stdout",
     "output_type": "stream",
     "text": [
      "40\n",
      "50\n",
      "45\n",
      "40\n",
      "50\n",
      "42\n",
      "48\n"
     ]
    },
    {
     "name": "stderr",
     "output_type": "stream",
     "text": [
      "47it [00:00, 40100.14it/s]\n",
      "39it [00:00, 33301.68it/s]\n",
      "47it [00:00, 34736.97it/s]\n",
      "48it [00:00, 35068.21it/s]\n",
      "60it [00:00, 38089.64it/s]\n",
      "45it [00:00, 37374.99it/s]\n"
     ]
    },
    {
     "name": "stdout",
     "output_type": "stream",
     "text": [
      "46\n",
      "38\n",
      "46\n",
      "47\n",
      "59\n",
      "44\n"
     ]
    },
    {
     "name": "stderr",
     "output_type": "stream",
     "text": [
      "43it [00:00, 40483.74it/s]\n",
      "45it [00:00, 40880.16it/s]\n",
      "58it [00:00, 41878.06it/s]\n",
      "57it [00:00, 40832.68it/s]\n",
      "49it [00:00, 41178.30it/s]\n",
      "46it [00:00, 41924.81it/s]\n",
      "48it [00:00, 40920.04it/s]\n"
     ]
    },
    {
     "name": "stdout",
     "output_type": "stream",
     "text": [
      "42\n",
      "44\n",
      "57\n",
      "56\n",
      "48\n",
      "45\n",
      "47\n"
     ]
    },
    {
     "name": "stderr",
     "output_type": "stream",
     "text": [
      "45it [00:00, 39861.39it/s]\n",
      "50it [00:00, 41258.15it/s]\n",
      "36it [00:00, 42153.81it/s]\n",
      "45it [00:00, 41363.94it/s]\n",
      "41it [00:00, 40310.94it/s]\n",
      "39it [00:00, 29210.33it/s]\n",
      "39it [00:00, 38616.11it/s]\n"
     ]
    },
    {
     "name": "stdout",
     "output_type": "stream",
     "text": [
      "44\n",
      "49\n",
      "35\n",
      "44\n",
      "40\n",
      "38\n",
      "38\n"
     ]
    },
    {
     "name": "stderr",
     "output_type": "stream",
     "text": [
      "61it [00:00, 40916.77it/s]\n",
      "43it [00:00, 40025.54it/s]\n",
      "51it [00:00, 41073.25it/s]\n",
      "46it [00:00, 40414.32it/s]\n",
      "54it [00:00, 41958.58it/s]\n",
      "49it [00:00, 39675.85it/s]\n",
      "0it [00:00, ?it/s]"
     ]
    },
    {
     "name": "stdout",
     "output_type": "stream",
     "text": [
      "60\n",
      "42\n",
      "50\n",
      "45\n",
      "53\n",
      "48\n"
     ]
    },
    {
     "name": "stderr",
     "output_type": "stream",
     "text": [
      "47it [00:00, 40239.29it/s]\n",
      "40it [00:00, 39447.96it/s]\n",
      "46it [00:00, 39723.69it/s]\n",
      "48it [00:00, 40443.27it/s]\n",
      "53it [00:00, 41250.35it/s]\n",
      "51it [00:00, 42149.66it/s]\n",
      "47it [00:00, 40907.30it/s]\n"
     ]
    },
    {
     "name": "stdout",
     "output_type": "stream",
     "text": [
      "46\n",
      "39\n",
      "45\n",
      "47\n",
      "52\n",
      "50\n",
      "46\n"
     ]
    },
    {
     "name": "stderr",
     "output_type": "stream",
     "text": [
      "53it [00:00, 40803.62it/s]\n",
      "45it [00:00, 36521.61it/s]\n",
      "56it [00:00, 41120.63it/s]\n"
     ]
    },
    {
     "name": "stdout",
     "output_type": "stream",
     "text": [
      "52\n",
      "44\n",
      "55\n"
     ]
    },
    {
     "name": "stderr",
     "output_type": "stream",
     "text": [
      "53it [00:00, 40454.62it/s]\n",
      "40it [00:00, 41191.30it/s]\n",
      "43it [00:00, 40952.56it/s]\n",
      "45it [00:00, 41702.09it/s]\n",
      "41it [00:00, 41577.97it/s]\n",
      "55it [00:00, 42830.81it/s]\n",
      "41it [00:00, 39578.01it/s]\n"
     ]
    },
    {
     "name": "stdout",
     "output_type": "stream",
     "text": [
      "52\n",
      "39\n",
      "42\n",
      "44\n",
      "40\n",
      "54\n",
      "40\n"
     ]
    },
    {
     "name": "stderr",
     "output_type": "stream",
     "text": [
      "42it [00:00, 39034.07it/s]\n",
      "50it [00:00, 40912.06it/s]\n",
      "50it [00:00, 40493.38it/s]\n",
      "39it [00:00, 35911.71it/s]\n",
      "39it [00:00, 40004.37it/s]\n",
      "59it [00:00, 42315.99it/s]\n",
      "51it [00:00, 40253.95it/s]\n"
     ]
    },
    {
     "name": "stdout",
     "output_type": "stream",
     "text": [
      "41\n",
      "49\n",
      "49\n",
      "38\n",
      "38\n",
      "58\n",
      "50\n"
     ]
    },
    {
     "name": "stderr",
     "output_type": "stream",
     "text": [
      "44it [00:00, 40524.68it/s]\n",
      "48it [00:00, 40886.80it/s]\n",
      "45it [00:00, 41822.22it/s]\n",
      "55it [00:00, 41602.65it/s]\n",
      "43it [00:00, 40338.87it/s]\n",
      "69it [00:00, 43098.58it/s]\n",
      "0it [00:00, ?it/s]"
     ]
    },
    {
     "name": "stdout",
     "output_type": "stream",
     "text": [
      "43\n",
      "47\n",
      "44\n",
      "54\n",
      "42\n",
      "68\n"
     ]
    },
    {
     "name": "stderr",
     "output_type": "stream",
     "text": [
      "49it [00:00, 39675.85it/s]\n",
      "48it [00:00, 41196.36it/s]\n",
      "48it [00:00, 41103.84it/s]\n",
      "41it [00:00, 40358.24it/s]\n",
      "42it [00:00, 40376.06it/s]\n",
      "42it [00:00, 38965.00it/s]\n",
      "50it [00:00, 40920.04it/s]\n"
     ]
    },
    {
     "name": "stdout",
     "output_type": "stream",
     "text": [
      "48\n",
      "47\n",
      "47\n",
      "40\n",
      "41\n",
      "41\n",
      "49\n"
     ]
    },
    {
     "name": "stderr",
     "output_type": "stream",
     "text": [
      "46it [00:00, 37182.11it/s]\n",
      "32it [00:00, 38227.78it/s]\n",
      "50it [00:00, 38402.34it/s]\n",
      "38it [00:00, 39131.73it/s]\n",
      "46it [00:00, 40790.27it/s]\n",
      "60it [00:00, 41603.28it/s]\n",
      "52it [00:00, 40404.56it/s]\n",
      "0it [00:00, ?it/s]"
     ]
    },
    {
     "name": "stdout",
     "output_type": "stream",
     "text": [
      "45\n",
      "31\n",
      "49\n",
      "37\n",
      "45\n",
      "59\n",
      "51\n"
     ]
    },
    {
     "name": "stderr",
     "output_type": "stream",
     "text": [
      "49it [00:00, 40164.33it/s]\n",
      "43it [00:00, 40239.86it/s]\n",
      "71it [00:00, 42670.24it/s]\n",
      "45it [00:00, 38932.28it/s]\n",
      "45it [00:00, 40756.57it/s]\n",
      "52it [00:00, 40562.36it/s]\n",
      "0it [00:00, ?it/s]"
     ]
    },
    {
     "name": "stdout",
     "output_type": "stream",
     "text": [
      "48\n",
      "42\n",
      "70\n",
      "44\n",
      "44\n",
      "51\n"
     ]
    },
    {
     "name": "stderr",
     "output_type": "stream",
     "text": [
      "42it [00:00, 39365.53it/s]\n",
      "38it [00:00, 39451.37it/s]\n",
      "45it [00:00, 36380.82it/s]\n",
      "47it [00:00, 40239.29it/s]\n",
      "52it [00:00, 40622.80it/s]\n",
      "47it [00:00, 40612.34it/s]\n",
      "63it [00:00, 41810.31it/s]\n"
     ]
    },
    {
     "name": "stdout",
     "output_type": "stream",
     "text": [
      "41\n",
      "37\n",
      "44\n",
      "46\n",
      "51\n",
      "46\n",
      "62\n"
     ]
    },
    {
     "name": "stderr",
     "output_type": "stream",
     "text": [
      "45it [00:00, 40321.23it/s]\n",
      "53it [00:00, 41605.49it/s]\n",
      "47it [00:00, 40797.25it/s]\n",
      "40it [00:00, 39217.43it/s]\n",
      "38it [00:00, 39657.51it/s]\n",
      "50it [00:00, 41909.51it/s]\n",
      "43it [00:00, 40293.81it/s]\n"
     ]
    },
    {
     "name": "stdout",
     "output_type": "stream",
     "text": [
      "44\n",
      "52\n",
      "46\n",
      "39\n",
      "37\n",
      "49\n",
      "42\n"
     ]
    },
    {
     "name": "stderr",
     "output_type": "stream",
     "text": [
      "40it [00:00, 39850.87it/s]\n",
      "52it [00:00, 40434.52it/s]\n",
      "47it [00:00, 40412.52it/s]\n",
      "41it [00:00, 40282.61it/s]\n",
      "42it [00:00, 35588.03it/s]\n",
      "49it [00:00, 40401.20it/s]\n",
      "38it [00:00, 40983.17it/s]\n"
     ]
    },
    {
     "name": "stdout",
     "output_type": "stream",
     "text": [
      "39\n",
      "51\n",
      "46\n",
      "40\n",
      "41\n",
      "48\n",
      "37\n"
     ]
    },
    {
     "name": "stderr",
     "output_type": "stream",
     "text": [
      "46it [00:00, 39937.48it/s]\n",
      "43it [00:00, 41148.77it/s]\n",
      "47it [00:00, 41017.95it/s]\n",
      "48it [00:00, 40911.72it/s]\n",
      "48it [00:00, 41847.14it/s]\n",
      "48it [00:00, 40920.04it/s]\n",
      "43it [00:00, 40492.83it/s]\n"
     ]
    },
    {
     "name": "stdout",
     "output_type": "stream",
     "text": [
      "45\n",
      "42\n",
      "46\n",
      "47\n",
      "47\n",
      "47\n",
      "42\n"
     ]
    },
    {
     "name": "stderr",
     "output_type": "stream",
     "text": [
      "50it [00:00, 40984.01it/s]\n",
      "52it [00:00, 41575.26it/s]\n",
      "44it [00:00, 40268.25it/s]\n",
      "51it [00:00, 41901.96it/s]\n",
      "40it [00:00, 40329.85it/s]\n",
      "39it [00:00, 39463.90it/s]\n",
      "45it [00:00, 38756.40it/s]\n"
     ]
    },
    {
     "name": "stdout",
     "output_type": "stream",
     "text": [
      "49\n",
      "51\n",
      "43\n",
      "50\n",
      "39\n",
      "38\n",
      "44\n"
     ]
    },
    {
     "name": "stderr",
     "output_type": "stream",
     "text": [
      "55it [00:00, 39966.51it/s]\n",
      "39it [00:00, 39312.15it/s]\n",
      "52it [00:00, 40920.04it/s]\n",
      "49it [00:00, 40592.71it/s]\n",
      "39it [00:00, 39199.10it/s]\n",
      "54it [00:00, 41376.04it/s]\n",
      "43it [00:00, 39638.48it/s]"
     ]
    },
    {
     "name": "stdout",
     "output_type": "stream",
     "text": [
      "54\n",
      "38\n",
      "51\n",
      "48\n",
      "38\n",
      "53\n"
     ]
    },
    {
     "name": "stderr",
     "output_type": "stream",
     "text": [
      "\n",
      "48it [00:00, 41743.02it/s]\n",
      "57it [00:00, 41391.16it/s]\n",
      "43it [00:00, 40384.03it/s]\n",
      "39it [00:00, 36933.36it/s]\n",
      "42it [00:00, 40787.40it/s]\n",
      "73it [00:00, 42104.54it/s]\n",
      "50it [00:00, 40384.21it/s]"
     ]
    },
    {
     "name": "stdout",
     "output_type": "stream",
     "text": [
      "42\n",
      "47\n",
      "56\n",
      "42\n",
      "38\n",
      "41\n",
      "72\n"
     ]
    },
    {
     "name": "stderr",
     "output_type": "stream",
     "text": [
      "\n",
      "50it [00:00, 42625.04it/s]\n",
      "46it [00:00, 36918.86it/s]\n",
      "37it [00:00, 41153.34it/s]\n",
      "51it [00:00, 41199.83it/s]\n",
      "46it [00:00, 40036.93it/s]\n",
      "48it [00:00, 42518.82it/s]\n",
      "0it [00:00, ?it/s]"
     ]
    },
    {
     "name": "stdout",
     "output_type": "stream",
     "text": [
      "49\n",
      "49\n",
      "45\n",
      "36\n",
      "50\n",
      "45\n",
      "47\n"
     ]
    },
    {
     "name": "stderr",
     "output_type": "stream",
     "text": [
      "34it [00:00, 39667.97it/s]\n",
      "44it [00:00, 39747.87it/s]\n",
      "50it [00:00, 41527.76it/s]\n",
      "49it [00:00, 41569.76it/s]\n",
      "50it [00:00, 42077.69it/s]\n",
      "42it [00:00, 41381.43it/s]\n",
      "48it [00:00, 41769.00it/s]\n"
     ]
    },
    {
     "name": "stdout",
     "output_type": "stream",
     "text": [
      "33\n",
      "43\n",
      "49\n",
      "48\n",
      "49\n",
      "41\n",
      "47\n"
     ]
    },
    {
     "name": "stderr",
     "output_type": "stream",
     "text": [
      "40it [00:00, 38728.57it/s]\n",
      "52it [00:00, 37487.76it/s]\n",
      "43it [00:00, 39258.83it/s]\n",
      "60it [00:00, 41411.59it/s]\n",
      "50it [00:00, 40556.02it/s]\n",
      "40it [00:00, 39300.11it/s]\n",
      "36it [00:00, 42354.82it/s]\n"
     ]
    },
    {
     "name": "stdout",
     "output_type": "stream",
     "text": [
      "39\n",
      "51\n",
      "42\n",
      "59\n",
      "49\n",
      "39\n",
      "35\n"
     ]
    },
    {
     "name": "stderr",
     "output_type": "stream",
     "text": [
      "55it [00:00, 41920.17it/s]\n",
      "44it [00:00, 39739.31it/s]\n",
      "49it [00:00, 41319.04it/s]\n",
      "61it [00:00, 42359.69it/s]\n",
      "42it [00:00, 39365.53it/s]\n",
      "42it [00:00, 41303.81it/s]\n",
      "0it [00:00, ?it/s]"
     ]
    },
    {
     "name": "stdout",
     "output_type": "stream",
     "text": [
      "54\n",
      "43\n",
      "48\n",
      "60\n",
      "41\n",
      "41\n"
     ]
    },
    {
     "name": "stderr",
     "output_type": "stream",
     "text": [
      "44it [00:00, 39535.00it/s]\n",
      "50it [00:00, 42187.73it/s]\n",
      "65it [00:00, 43295.18it/s]\n",
      "42it [00:00, 32964.22it/s]\n",
      "39it [00:00, 39511.56it/s]\n",
      "50it [00:00, 41701.17it/s]\n",
      "43it [00:00, 41422.85it/s]"
     ]
    },
    {
     "name": "stdout",
     "output_type": "stream",
     "text": [
      "43\n",
      "49\n",
      "64\n",
      "41\n",
      "38\n",
      "49\n"
     ]
    },
    {
     "name": "stderr",
     "output_type": "stream",
     "text": [
      "\n",
      "56it [00:00, 41171.08it/s]\n",
      "40it [00:00, 39955.27it/s]\n",
      "41it [00:00, 40983.43it/s]\n",
      "49it [00:00, 41960.17it/s]\n",
      "43it [00:00, 40221.92it/s]\n",
      "48it [00:00, 40265.32it/s]\n"
     ]
    },
    {
     "name": "stdout",
     "output_type": "stream",
     "text": [
      "42\n",
      "55\n",
      "39\n",
      "40\n",
      "48\n",
      "42\n",
      "47\n"
     ]
    },
    {
     "name": "stderr",
     "output_type": "stream",
     "text": [
      "50it [00:00, 40353.13it/s]\n",
      "37it [00:00, 41483.36it/s]\n",
      "50it [00:00, 40098.51it/s]\n",
      "51it [00:00, 41359.15it/s]\n",
      "48it [00:00, 37829.12it/s]\n",
      "48it [00:00, 39906.16it/s]\n",
      "58it [00:00, 42455.43it/s]\n"
     ]
    },
    {
     "name": "stdout",
     "output_type": "stream",
     "text": [
      "49\n",
      "36\n",
      "49\n",
      "50\n",
      "47\n",
      "47\n",
      "57\n"
     ]
    },
    {
     "name": "stderr",
     "output_type": "stream",
     "text": [
      "29it [00:00, 41842.04it/s]\n",
      "64it [00:00, 42778.56it/s]\n",
      "38it [00:00, 39218.39it/s]\n",
      "49it [00:00, 36641.27it/s]\n",
      "48it [00:00, 40064.99it/s]\n",
      "37it [00:00, 38662.00it/s]\n",
      "46it [00:00, 41438.57it/s]\n",
      "0it [00:00, ?it/s]"
     ]
    },
    {
     "name": "stdout",
     "output_type": "stream",
     "text": [
      "28\n",
      "63\n",
      "37\n",
      "48\n",
      "47\n",
      "36\n",
      "45\n"
     ]
    },
    {
     "name": "stderr",
     "output_type": "stream",
     "text": [
      "51it [00:00, 41199.83it/s]\n",
      "34it [00:00, 41564.07it/s]\n",
      "48it [00:00, 40853.61it/s]\n",
      "51it [00:00, 41231.59it/s]\n",
      "43it [00:00, 38878.01it/s]\n",
      "41it [00:00, 40837.44it/s]\n",
      "47it [00:00, 40553.85it/s]\n",
      "48it [00:00, 40009.26it/s]"
     ]
    },
    {
     "name": "stdout",
     "output_type": "stream",
     "text": [
      "50\n",
      "33\n",
      "47\n",
      "50\n",
      "42\n",
      "40\n",
      "46\n"
     ]
    },
    {
     "name": "stderr",
     "output_type": "stream",
     "text": [
      "\n",
      "42it [00:00, 39846.36it/s]\n",
      "43it [00:00, 37163.62it/s]\n",
      "60it [00:00, 42013.06it/s]\n",
      "50it [00:00, 40808.56it/s]\n",
      "57it [00:00, 42157.53it/s]\n"
     ]
    },
    {
     "name": "stdout",
     "output_type": "stream",
     "text": [
      "47\n",
      "41\n",
      "42\n",
      "59\n",
      "49\n",
      "56\n"
     ]
    },
    {
     "name": "stderr",
     "output_type": "stream",
     "text": [
      "43it [00:00, 39752.05it/s]\n",
      "41it [00:00, 39807.05it/s]\n",
      "44it [00:00, 41074.87it/s]\n",
      "54it [00:00, 41436.59it/s]\n",
      "34it [00:00, 42773.35it/s]\n",
      "49it [00:00, 40496.73it/s]\n",
      "39it [00:00, 39152.19it/s]\n"
     ]
    },
    {
     "name": "stdout",
     "output_type": "stream",
     "text": [
      "42\n",
      "40\n",
      "43\n",
      "53\n",
      "33\n",
      "48\n",
      "38\n"
     ]
    },
    {
     "name": "stderr",
     "output_type": "stream",
     "text": [
      "41it [00:00, 39578.01it/s]\n",
      "59it [00:00, 41907.53it/s]\n",
      "53it [00:00, 41605.49it/s]\n",
      "40it [00:00, 40524.68it/s]\n",
      "35it [00:00, 42171.97it/s]\n",
      "52it [00:00, 42170.11it/s]\n",
      "39it [00:00, 39387.88it/s]\n",
      "0it [00:00, ?it/s]"
     ]
    },
    {
     "name": "stdout",
     "output_type": "stream",
     "text": [
      "40\n",
      "58\n",
      "52\n",
      "39\n",
      "34\n",
      "51\n",
      "38\n"
     ]
    },
    {
     "name": "stderr",
     "output_type": "stream",
     "text": [
      "58it [00:00, 41078.97it/s]\n",
      "42it [00:00, 41508.19it/s]\n",
      "47it [00:00, 40873.38it/s]\n"
     ]
    },
    {
     "name": "stdout",
     "output_type": "stream",
     "text": [
      "57\n",
      "41\n",
      "46\n"
     ]
    },
    {
     "name": "stderr",
     "output_type": "stream",
     "text": [
      "39it [00:00, 38965.66it/s]\n",
      "64it [00:00, 41285.06it/s]\n",
      "53it [00:00, 41311.67it/s]\n",
      "42it [00:00, 41294.13it/s]\n",
      "33it [00:00, 42693.41it/s]\n",
      "48it [00:00, 41459.35it/s]\n",
      "56it [00:00, 41943.04it/s]\n"
     ]
    },
    {
     "name": "stdout",
     "output_type": "stream",
     "text": [
      "38\n",
      "63\n",
      "52\n",
      "41\n",
      "32\n",
      "47\n",
      "55\n"
     ]
    },
    {
     "name": "stderr",
     "output_type": "stream",
     "text": [
      "49it [00:00, 40496.73it/s]\n",
      "45it [00:00, 41327.72it/s]\n",
      "60it [00:00, 42309.72it/s]\n",
      "39it [00:00, 39236.71it/s]\n",
      "41it [00:00, 39992.20it/s]\n",
      "55it [00:00, 41670.29it/s]\n",
      "45it [00:00, 40765.37it/s]"
     ]
    },
    {
     "name": "stdout",
     "output_type": "stream",
     "text": [
      "48\n",
      "44\n",
      "59\n",
      "38\n",
      "40\n",
      "54\n"
     ]
    },
    {
     "name": "stderr",
     "output_type": "stream",
     "text": [
      "\n",
      "34it [00:00, 43031.48it/s]\n",
      "42it [00:00, 39427.21it/s]\n",
      "50it [00:00, 41396.60it/s]\n",
      "55it [00:00, 41768.37it/s]\n",
      "37it [00:00, 42285.90it/s]\n",
      "49it [00:00, 40640.87it/s]\n",
      "0it [00:00, ?it/s]"
     ]
    },
    {
     "name": "stdout",
     "output_type": "stream",
     "text": [
      "44\n",
      "33\n",
      "41\n",
      "49\n",
      "54\n",
      "36\n",
      "48\n"
     ]
    },
    {
     "name": "stderr",
     "output_type": "stream",
     "text": [
      "32it [00:00, 40402.69it/s]\n",
      "53it [00:00, 41566.59it/s]\n",
      "38it [00:00, 39500.26it/s]\n",
      "44it [00:00, 40676.52it/s]\n",
      "52it [00:00, 40524.68it/s]\n",
      "53it [00:00, 39054.48it/s]\n",
      "54it [00:00, 40897.87it/s]\n"
     ]
    },
    {
     "name": "stdout",
     "output_type": "stream",
     "text": [
      "31\n",
      "52\n",
      "37\n",
      "43\n",
      "51\n",
      "52\n",
      "53\n"
     ]
    },
    {
     "name": "stderr",
     "output_type": "stream",
     "text": [
      "36it [00:00, 40942.23it/s]\n",
      "48it [00:00, 41442.28it/s]\n",
      "45it [00:00, 39852.97it/s]\n",
      "45it [00:00, 40986.68it/s]\n",
      "42it [00:00, 41873.25it/s]\n",
      "60it [00:00, 43040.57it/s]\n",
      "53it [00:00, 42366.71it/s]\n"
     ]
    },
    {
     "name": "stdout",
     "output_type": "stream",
     "text": [
      "35\n",
      "47\n",
      "44\n",
      "44\n",
      "41\n",
      "59\n",
      "52\n"
     ]
    },
    {
     "name": "stderr",
     "output_type": "stream",
     "text": [
      "45it [00:00, 39895.09it/s]\n",
      "41it [00:00, 39696.78it/s]\n",
      "41it [00:00, 41457.68it/s]\n",
      "43it [00:00, 40999.11it/s]\n",
      "36it [00:00, 40222.41it/s]\n",
      "57it [00:00, 41248.33it/s]\n",
      "41it [00:00, 40548.56it/s]\n",
      "0it [00:00, ?it/s]"
     ]
    },
    {
     "name": "stdout",
     "output_type": "stream",
     "text": [
      "44\n",
      "40\n",
      "40\n",
      "42\n",
      "35\n",
      "56\n",
      "40\n"
     ]
    },
    {
     "name": "stderr",
     "output_type": "stream",
     "text": [
      "35it [00:00, 35683.19it/s]\n",
      "53it [00:00, 40991.72it/s]\n",
      "41it [00:00, 40769.67it/s]\n",
      "55it [00:00, 41859.32it/s]\n",
      "51it [00:00, 40574.64it/s]\n",
      "37it [00:00, 40796.33it/s]\n",
      "37it [00:00, 39609.30it/s]\n"
     ]
    },
    {
     "name": "stdout",
     "output_type": "stream",
     "text": [
      "34\n",
      "52\n",
      "40\n",
      "54\n",
      "50\n",
      "36\n",
      "36\n"
     ]
    },
    {
     "name": "stderr",
     "output_type": "stream",
     "text": [
      "60it [00:00, 41582.66it/s]\n",
      "40it [00:00, 39596.92it/s]\n",
      "45it [00:00, 41058.01it/s]\n",
      "52it [00:00, 41440.97it/s]\n",
      "47it [00:00, 40797.25it/s]\n",
      "38it [00:00, 41301.78it/s]\n",
      "47it [00:00, 40620.71it/s]\n",
      "50it [00:00, 41834.27it/s]\n"
     ]
    },
    {
     "name": "stdout",
     "output_type": "stream",
     "text": [
      "59\n",
      "39\n",
      "44\n",
      "51\n",
      "46\n",
      "37\n",
      "46\n",
      "49\n"
     ]
    },
    {
     "name": "stderr",
     "output_type": "stream",
     "text": [
      "46it [00:00, 39962.30it/s]\n",
      "40it [00:00, 38881.15it/s]\n",
      "52it [00:00, 39568.91it/s]\n",
      "36it [00:00, 41562.05it/s]\n",
      "41it [00:00, 39270.72it/s]\n",
      "49it [00:00, 40802.24it/s]\n",
      "39it [00:00, 40539.74it/s]\n",
      "0it [00:00, ?it/s]"
     ]
    },
    {
     "name": "stdout",
     "output_type": "stream",
     "text": [
      "45\n",
      "39\n",
      "51\n",
      "35\n",
      "40\n",
      "48\n",
      "38\n"
     ]
    },
    {
     "name": "stderr",
     "output_type": "stream",
     "text": [
      "37it [00:00, 41999.80it/s]\n",
      "40it [00:00, 40079.35it/s]\n",
      "44it [00:00, 39425.20it/s]\n",
      "50it [00:00, 40221.56it/s]\n",
      "43it [00:00, 40684.65it/s]\n",
      "41it [00:00, 40310.94it/s]\n",
      "35it [00:00, 41375.60it/s]\n"
     ]
    },
    {
     "name": "stdout",
     "output_type": "stream",
     "text": [
      "36\n",
      "39\n",
      "43\n",
      "49\n",
      "42\n",
      "40\n",
      "34\n"
     ]
    },
    {
     "name": "stderr",
     "output_type": "stream",
     "text": [
      "42it [00:00, 39444.87it/s]\n",
      "36it [00:00, 40633.73it/s]\n",
      "52it [00:00, 40851.06it/s]\n",
      "37it [00:00, 41383.80it/s]\n",
      "44it [00:00, 41166.49it/s]\n",
      "61it [00:00, 37820.04it/s]\n",
      "39it [00:00, 39521.11it/s]\n",
      "0it [00:00, ?it/s]"
     ]
    },
    {
     "name": "stdout",
     "output_type": "stream",
     "text": [
      "41\n",
      "35\n",
      "51\n",
      "36\n",
      "43\n",
      "60\n",
      "38\n"
     ]
    },
    {
     "name": "stderr",
     "output_type": "stream",
     "text": [
      "43it [00:00, 40293.81it/s]\n",
      "37it [00:00, 40614.83it/s]\n",
      "55it [00:00, 41040.16it/s]\n",
      "50it [00:00, 40618.87it/s]\n",
      "40it [00:00, 40534.47it/s]\n",
      "53it [00:00, 42030.27it/s]\n",
      "57it [00:00, 41972.49it/s]\n"
     ]
    },
    {
     "name": "stdout",
     "output_type": "stream",
     "text": [
      "42\n",
      "36\n",
      "54\n",
      "49\n",
      "39\n",
      "52\n",
      "56\n"
     ]
    },
    {
     "name": "stderr",
     "output_type": "stream",
     "text": [
      "41it [00:00, 39614.48it/s]\n",
      "33it [00:00, 41677.82it/s]\n",
      "36it [00:00, 42957.31it/s]\n",
      "39it [00:00, 40082.79it/s]\n",
      "27it [00:00, 40358.59it/s]\n",
      "52it [00:00, 41798.35it/s]\n",
      "40it [00:00, 38953.37it/s]\n",
      "47it [00:00, 41862.88it/s]\n",
      "0it [00:00, ?it/s]"
     ]
    },
    {
     "name": "stdout",
     "output_type": "stream",
     "text": [
      "40\n",
      "32\n",
      "35\n",
      "38\n",
      "26\n",
      "51\n",
      "39\n",
      "46\n"
     ]
    },
    {
     "name": "stderr",
     "output_type": "stream",
     "text": [
      "48it [00:00, 32966.53it/s]\n",
      "47it [00:00, 40520.51it/s]\n",
      "39it [00:00, 40033.74it/s]\n",
      "47it [00:00, 40132.79it/s]\n",
      "39it [00:00, 40339.79it/s]\n",
      "49it [00:00, 40496.73it/s]\n",
      "60it [00:00, 42617.82it/s]\n",
      "0it [00:00, ?it/s]"
     ]
    },
    {
     "name": "stdout",
     "output_type": "stream",
     "text": [
      "47\n",
      "46\n",
      "38\n",
      "46\n",
      "38\n",
      "48\n",
      "59\n"
     ]
    },
    {
     "name": "stderr",
     "output_type": "stream",
     "text": [
      "45it [00:00, 40756.57it/s]\n",
      "29it [00:00, 40666.94it/s]\n",
      "54it [00:00, 41031.23it/s]\n",
      "50it [00:00, 39968.59it/s]\n",
      "36it [00:00, 43166.08it/s]\n",
      "49it [00:00, 41079.53it/s]\n",
      "29it [00:00, 40558.46it/s]\n",
      "0it [00:00, ?it/s]"
     ]
    },
    {
     "name": "stdout",
     "output_type": "stream",
     "text": [
      "44\n",
      "28\n",
      "53\n",
      "49\n",
      "35\n",
      "48\n",
      "28\n"
     ]
    },
    {
     "name": "stderr",
     "output_type": "stream",
     "text": [
      "43it [00:00, 40078.90it/s]\n",
      "54it [00:00, 41474.53it/s]\n",
      "49it [00:00, 41410.62it/s]"
     ]
    },
    {
     "name": "stdout",
     "output_type": "stream",
     "text": [
      "42\n",
      "53\n"
     ]
    },
    {
     "name": "stderr",
     "output_type": "stream",
     "text": [
      "\n",
      "46it [00:00, 39682.84it/s]\n",
      "31it [00:00, 42813.11it/s]\n",
      "48it [00:00, 42251.12it/s]\n",
      "41it [00:00, 40273.18it/s]\n",
      "37it [00:00, 40925.43it/s]\n",
      "58it [00:00, 41698.60it/s]\n",
      "43it [00:00, 40141.35it/s]\n",
      "0it [00:00, ?it/s]"
     ]
    },
    {
     "name": "stdout",
     "output_type": "stream",
     "text": [
      "48\n",
      "45\n",
      "30\n",
      "47\n",
      "40\n",
      "36\n",
      "57\n",
      "42\n"
     ]
    },
    {
     "name": "stderr",
     "output_type": "stream",
     "text": [
      "41it [00:00, 38713.75it/s]\n",
      "44it [00:00, 40032.40it/s]\n",
      "49it [00:00, 41137.09it/s]\n",
      "39it [00:00, 40122.11it/s]\n",
      "46it [00:00, 40028.63it/s]\n",
      "36it [00:00, 41850.04it/s]\n",
      "44it [00:00, 33008.29it/s]\n"
     ]
    },
    {
     "name": "stdout",
     "output_type": "stream",
     "text": [
      "40\n",
      "43\n",
      "48\n",
      "38\n",
      "45\n",
      "35\n",
      "43\n"
     ]
    },
    {
     "name": "stderr",
     "output_type": "stream",
     "text": [
      "59it [00:00, 40127.12it/s]\n",
      "44it [00:00, 39458.92it/s]\n",
      "28it [00:00, 40178.07it/s]\n",
      "36it [00:00, 40953.33it/s]\n",
      "43it [00:00, 40721.40it/s]\n",
      "40it [00:00, 40368.66it/s]\n",
      "43it [00:00, 41073.80it/s]\n",
      "0it [00:00, ?it/s]"
     ]
    },
    {
     "name": "stdout",
     "output_type": "stream",
     "text": [
      "58\n",
      "43\n",
      "27\n",
      "35\n",
      "42\n",
      "39\n",
      "42\n"
     ]
    },
    {
     "name": "stderr",
     "output_type": "stream",
     "text": [
      "47it [00:00, 40873.38it/s]\n",
      "49it [00:00, 41277.54it/s]\n",
      "30it [00:00, 40498.59it/s]\n",
      "41it [00:00, 39687.62it/s]\n",
      "31it [00:00, 40568.93it/s]\n",
      "44it [00:00, 40739.38it/s]\n",
      "32it [00:00, 41133.23it/s]\n",
      "46it [00:00, 41897.50it/s]\n"
     ]
    },
    {
     "name": "stdout",
     "output_type": "stream",
     "text": [
      "46\n",
      "48\n",
      "29\n",
      "40\n",
      "30\n",
      "43\n",
      "31\n",
      "45\n"
     ]
    },
    {
     "name": "stderr",
     "output_type": "stream",
     "text": [
      "56it [00:00, 40998.61it/s]\n",
      "44it [00:00, 39282.54it/s]\n",
      "37it [00:00, 37612.52it/s]\n",
      "52it [00:00, 40782.31it/s]\n",
      "29it [00:00, 40011.45it/s]\n",
      "44it [00:00, 40329.85it/s]\n",
      "39it [00:00, 38965.66it/s]\n"
     ]
    },
    {
     "name": "stdout",
     "output_type": "stream",
     "text": [
      "55\n",
      "43\n",
      "36\n",
      "51\n",
      "28\n",
      "43\n",
      "38\n"
     ]
    },
    {
     "name": "stderr",
     "output_type": "stream",
     "text": [
      "36it [00:00, 41665.27it/s]\n",
      "39it [00:00, 39751.61it/s]\n",
      "40it [00:00, 40534.47it/s]\n",
      "51it [00:00, 40345.06it/s]\n",
      "40it [00:00, 39025.86it/s]\n",
      "50it [00:00, 41453.88it/s]\n",
      "24it [00:00, 39584.47it/s]\n",
      "46it [00:00, 41852.06it/s]\n"
     ]
    },
    {
     "name": "stdout",
     "output_type": "stream",
     "text": [
      "35\n",
      "38\n",
      "39\n",
      "50\n",
      "39\n",
      "49\n",
      "23\n",
      "45\n"
     ]
    },
    {
     "name": "stderr",
     "output_type": "stream",
     "text": [
      "51it [00:00, 40830.22it/s]\n",
      "66it [00:00, 41847.93it/s]\n",
      "61it [00:00, 42606.59it/s]\n",
      "52it [00:00, 41662.62it/s]\n",
      "48it [00:00, 35270.95it/s]\n",
      "59it [00:00, 41639.57it/s]\n"
     ]
    },
    {
     "name": "stdout",
     "output_type": "stream",
     "text": [
      "50\n",
      "65\n",
      "60\n",
      "51\n",
      "47\n",
      "58\n"
     ]
    },
    {
     "name": "stderr",
     "output_type": "stream",
     "text": [
      "65it [00:00, 42981.20it/s]\n",
      "52it [00:00, 41662.62it/s]\n",
      "44it [00:00, 40110.71it/s]\n",
      "62it [00:00, 42290.92it/s]\n",
      "52it [00:00, 41662.62it/s]\n",
      "53it [00:00, 41691.32it/s]\n"
     ]
    },
    {
     "name": "stdout",
     "output_type": "stream",
     "text": [
      "64\n",
      "51\n",
      "43\n",
      "61\n",
      "51\n",
      "52\n"
     ]
    },
    {
     "name": "stderr",
     "output_type": "stream",
     "text": [
      "58it [00:00, 41372.39it/s]\n",
      "55it [00:00, 41958.30it/s]\n",
      "46it [00:00, 41226.06it/s]\n",
      "45it [00:00, 40800.62it/s]\n",
      "57it [00:00, 40486.93it/s]\n",
      "52it [00:00, 39967.71it/s]\n"
     ]
    },
    {
     "name": "stdout",
     "output_type": "stream",
     "text": [
      "57\n",
      "54\n",
      "45\n",
      "44\n",
      "56\n",
      "51\n"
     ]
    },
    {
     "name": "stderr",
     "output_type": "stream",
     "text": [
      "52it [00:00, 40683.42it/s]\n",
      "45it [00:00, 40442.19it/s]\n",
      "48it [00:00, 41272.36it/s]\n",
      "56it [00:00, 42131.13it/s]\n",
      "47it [00:00, 40620.71it/s]\n",
      "54it [00:00, 41642.29it/s]\n"
     ]
    },
    {
     "name": "stdout",
     "output_type": "stream",
     "text": [
      "51\n",
      "44\n",
      "47\n",
      "55\n",
      "46\n",
      "53\n"
     ]
    },
    {
     "name": "stderr",
     "output_type": "stream",
     "text": [
      "68it [00:00, 42285.05it/s]\n",
      "51it [00:00, 41359.15it/s]\n",
      "69it [00:00, 42704.29it/s]\n",
      "58it [00:00, 41134.53it/s]\n",
      "45it [00:00, 39337.99it/s]\n",
      "42it [00:00, 41294.13it/s]\n"
     ]
    },
    {
     "name": "stdout",
     "output_type": "stream",
     "text": [
      "67\n",
      "50\n",
      "68\n",
      "57\n",
      "44\n",
      "41\n"
     ]
    },
    {
     "name": "stderr",
     "output_type": "stream",
     "text": [
      "49it [00:00, 41385.60it/s]\n",
      "45it [00:00, 40355.72it/s]\n",
      "43it [00:00, 39708.29it/s]\n",
      "56it [00:00, 43042.15it/s]\n",
      "38it [00:00, 38978.61it/s]\n",
      "63it [00:00, 42400.70it/s]\n",
      "42it [00:00, 39436.03it/s]"
     ]
    },
    {
     "name": "stdout",
     "output_type": "stream",
     "text": [
      "48\n",
      "44\n",
      "42\n",
      "55\n",
      "37\n",
      "62\n"
     ]
    },
    {
     "name": "stderr",
     "output_type": "stream",
     "text": [
      "\n",
      "45it [00:00, 41546.04it/s]\n",
      "51it [00:00, 42108.17it/s]\n",
      "51it [00:00, 41657.16it/s]\n",
      "49it [00:00, 41704.73it/s]\n",
      "76it [00:00, 40576.26it/s]\n",
      "0it [00:00, ?it/s]"
     ]
    },
    {
     "name": "stdout",
     "output_type": "stream",
     "text": [
      "41\n",
      "44\n",
      "50\n",
      "50\n",
      "48\n",
      "75\n"
     ]
    },
    {
     "name": "stderr",
     "output_type": "stream",
     "text": [
      "44it [00:00, 40224.36it/s]\n",
      "51it [00:00, 41160.19it/s]\n",
      "62it [00:00, 41587.53it/s]\n",
      "50it [00:00, 41453.88it/s]\n"
     ]
    },
    {
     "name": "stdout",
     "output_type": "stream",
     "text": [
      "43\n",
      "50\n",
      "61\n",
      "49\n"
     ]
    },
    {
     "name": "stderr",
     "output_type": "stream",
     "text": [
      "45it [00:00, 40321.23it/s]\n",
      "59it [00:00, 41879.16it/s]\n",
      "52it [00:00, 41774.34it/s]\n",
      "54it [00:00, 42248.17it/s]\n",
      "53it [00:00, 42399.03it/s]\n",
      "55it [00:00, 42546.43it/s]\n"
     ]
    },
    {
     "name": "stdout",
     "output_type": "stream",
     "text": [
      "44\n",
      "58\n",
      "51\n",
      "53\n",
      "52\n",
      "54\n"
     ]
    },
    {
     "name": "stderr",
     "output_type": "stream",
     "text": [
      "47it [00:00, 40587.25it/s]\n",
      "57it [00:00, 41913.63it/s]\n",
      "46it [00:00, 40635.63it/s]\n",
      "56it [00:00, 41120.63it/s]\n",
      "58it [00:00, 40961.38it/s]\n",
      "48it [00:00, 41129.03it/s]\n"
     ]
    },
    {
     "name": "stdout",
     "output_type": "stream",
     "text": [
      "46\n",
      "56\n",
      "45\n",
      "55\n",
      "57\n",
      "47\n"
     ]
    },
    {
     "name": "stderr",
     "output_type": "stream",
     "text": [
      "39it [00:00, 38910.05it/s]\n",
      "48it [00:00, 41162.66it/s]\n",
      "46it [00:00, 37153.47it/s]\n",
      "55it [00:00, 40800.62it/s]\n",
      "40it [00:00, 39917.24it/s]\n",
      "44it [00:00, 40929.11it/s]\n",
      "55it [00:00, 41386.21it/s]\n"
     ]
    },
    {
     "name": "stdout",
     "output_type": "stream",
     "text": [
      "38\n",
      "47\n",
      "45\n",
      "54\n",
      "39\n",
      "43\n",
      "54\n"
     ]
    },
    {
     "name": "stderr",
     "output_type": "stream",
     "text": [
      "50it [00:00, 39613.75it/s]\n",
      "56it [00:00, 42853.68it/s]\n",
      "49it [00:00, 41219.59it/s]\n",
      "46it [00:00, 40885.35it/s]\n",
      "51it [00:00, 41600.45it/s]\n",
      "58it [00:00, 41935.81it/s]\n"
     ]
    },
    {
     "name": "stdout",
     "output_type": "stream",
     "text": [
      "49\n",
      "55\n",
      "48\n",
      "45\n",
      "50\n",
      "57\n"
     ]
    },
    {
     "name": "stderr",
     "output_type": "stream",
     "text": [
      "48it [00:00, 40168.91it/s]\n",
      "44it [00:00, 40409.32it/s]\n",
      "54it [00:00, 41466.94it/s]\n",
      "51it [00:00, 41431.24it/s]\n",
      "46it [00:00, 40669.90it/s]\n",
      "44it [00:00, 41010.97it/s]\n",
      "57it [00:00, 42891.16it/s]\n"
     ]
    },
    {
     "name": "stdout",
     "output_type": "stream",
     "text": [
      "47\n",
      "43\n",
      "53\n",
      "50\n",
      "45\n",
      "43\n",
      "56\n"
     ]
    },
    {
     "name": "stderr",
     "output_type": "stream",
     "text": [
      "42it [00:00, 39515.65it/s]\n",
      "56it [00:00, 41920.58it/s]\n",
      "56it [00:00, 41638.19it/s]\n",
      "60it [00:00, 41527.76it/s]\n",
      "52it [00:00, 40812.84it/s]\n",
      "55it [00:00, 41349.12it/s]\n"
     ]
    },
    {
     "name": "stdout",
     "output_type": "stream",
     "text": [
      "41\n",
      "55\n",
      "55\n",
      "59\n",
      "51\n",
      "54\n"
     ]
    },
    {
     "name": "stderr",
     "output_type": "stream",
     "text": [
      "39it [00:00, 39312.15it/s]\n",
      "41it [00:00, 39651.02it/s]\n",
      "45it [00:00, 40835.93it/s]\n",
      "57it [00:00, 41935.68it/s]\n",
      "48it [00:00, 40402.69it/s]\n",
      "46it [00:00, 41483.12it/s]\n",
      "44it [00:00, 41434.53it/s]\n"
     ]
    },
    {
     "name": "stdout",
     "output_type": "stream",
     "text": [
      "38\n",
      "40\n",
      "44\n",
      "56\n",
      "47\n",
      "45\n",
      "43\n"
     ]
    },
    {
     "name": "stderr",
     "output_type": "stream",
     "text": [
      "53it [00:00, 38781.95it/s]\n",
      "60it [00:00, 40570.41it/s]\n",
      "55it [00:00, 41289.91it/s]\n",
      "47it [00:00, 41000.89it/s]\n",
      "41it [00:00, 39927.20it/s]\n",
      "45it [00:00, 40844.77it/s]\n",
      "0it [00:00, ?it/s]"
     ]
    },
    {
     "name": "stdout",
     "output_type": "stream",
     "text": [
      "52\n",
      "59\n",
      "54\n",
      "46\n",
      "40\n",
      "44\n"
     ]
    },
    {
     "name": "stderr",
     "output_type": "stream",
     "text": [
      "61it [00:00, 40942.96it/s]\n",
      "47it [00:00, 40173.69it/s]\n",
      "48it [00:00, 40953.33it/s]\n",
      "48it [00:00, 41103.84it/s]\n",
      "48it [00:00, 42189.14it/s]\n",
      "43it [00:00, 39054.80it/s]\n",
      "0it [00:00, ?it/s]"
     ]
    },
    {
     "name": "stdout",
     "output_type": "stream",
     "text": [
      "60\n",
      "46\n",
      "47\n",
      "47\n",
      "47\n",
      "42\n"
     ]
    },
    {
     "name": "stderr",
     "output_type": "stream",
     "text": [
      "64it [00:00, 41502.08it/s]\n",
      "41it [00:00, 40263.75it/s]\n",
      "46it [00:00, 41041.90it/s]\n",
      "55it [00:00, 40028.93it/s]\n",
      "51it [00:00, 34296.86it/s]\n",
      "54it [00:00, 35389.44it/s]\n"
     ]
    },
    {
     "name": "stdout",
     "output_type": "stream",
     "text": [
      "63\n",
      "40\n",
      "45\n",
      "54\n",
      "50\n",
      "53\n"
     ]
    },
    {
     "name": "stderr",
     "output_type": "stream",
     "text": [
      "55it [00:00, 40273.52it/s]\n",
      "53it [00:00, 41597.70it/s]\n",
      "59it [00:00, 41611.56it/s]\n",
      "52it [00:00, 40622.80it/s]\n",
      "49it [00:00, 39447.39it/s]\n",
      "43it [00:00, 40150.28it/s]\n"
     ]
    },
    {
     "name": "stdout",
     "output_type": "stream",
     "text": [
      "54\n",
      "52\n",
      "58\n",
      "51\n",
      "48\n",
      "42\n"
     ]
    },
    {
     "name": "stderr",
     "output_type": "stream",
     "text": [
      "55it [00:00, 41662.76it/s]\n",
      "42it [00:00, 39436.03it/s]\n",
      "48it [00:00, 40704.93it/s]\n",
      "57it [00:00, 42314.22it/s]\n",
      "45it [00:00, 40572.59it/s]\n",
      "57it [00:00, 41840.27it/s]\n"
     ]
    },
    {
     "name": "stdout",
     "output_type": "stream",
     "text": [
      "54\n",
      "41\n",
      "47\n",
      "56\n",
      "44\n",
      "56\n"
     ]
    },
    {
     "name": "stderr",
     "output_type": "stream",
     "text": [
      "50it [00:00, 41193.32it/s]\n",
      "64it [00:00, 39406.26it/s]\n",
      "39it [00:00, 39965.27it/s]\n",
      "48it [00:00, 41553.48it/s]\n",
      "62it [00:00, 42325.33it/s]\n",
      "52it [00:00, 41112.88it/s]\n",
      "0it [00:00, ?it/s]"
     ]
    },
    {
     "name": "stdout",
     "output_type": "stream",
     "text": [
      "49\n",
      "63\n",
      "38\n",
      "47\n",
      "61\n",
      "51\n"
     ]
    },
    {
     "name": "stderr",
     "output_type": "stream",
     "text": [
      "47it [00:00, 40755.07it/s]\n",
      "44it [00:00, 320.13it/s]\n",
      "46it [00:00, 41671.27it/s]\n"
     ]
    },
    {
     "name": "stdout",
     "output_type": "stream",
     "text": [
      "46\n",
      "43\n",
      "45\n"
     ]
    },
    {
     "name": "stderr",
     "output_type": "stream",
     "text": [
      "55it [00:00, 40865.67it/s]\n",
      "43it [00:00, 41308.99it/s]\n",
      "52it [00:00, 42482.24it/s]\n",
      "53it [00:00, 38267.88it/s]\n",
      "55it [00:00, 42499.40it/s]\n",
      "47it [00:00, 41154.97it/s]\n",
      "0it [00:00, ?it/s]"
     ]
    },
    {
     "name": "stdout",
     "output_type": "stream",
     "text": [
      "54\n",
      "42\n",
      "51\n",
      "52\n",
      "54\n",
      "46\n"
     ]
    },
    {
     "name": "stderr",
     "output_type": "stream",
     "text": [
      "48it [00:00, 41331.68it/s]\n",
      "43it [00:00, 40447.43it/s]\n",
      "48it [00:00, 41061.92it/s]\n",
      "52it [00:00, 42548.54it/s]\n",
      "49it [00:00, 40899.68it/s]\n",
      "48it [00:00, 40467.66it/s]\n",
      "53it [00:00, 40803.62it/s]\n"
     ]
    },
    {
     "name": "stdout",
     "output_type": "stream",
     "text": [
      "47\n",
      "42\n",
      "47\n",
      "51\n",
      "48\n",
      "47\n",
      "52\n"
     ]
    },
    {
     "name": "stderr",
     "output_type": "stream",
     "text": [
      "35it [00:00, 41907.12it/s]\n",
      "50it [00:00, 41494.90it/s]\n",
      "55it [00:00, 42632.92it/s]\n",
      "44it [00:00, 40820.48it/s]\n",
      "51it [00:00, 42850.46it/s]\n",
      "57it [00:00, 42570.39it/s]\n",
      "41it [00:00, 40244.90it/s]"
     ]
    },
    {
     "name": "stdout",
     "output_type": "stream",
     "text": [
      "34\n",
      "49\n",
      "54\n",
      "43\n",
      "50\n",
      "56\n"
     ]
    },
    {
     "name": "stderr",
     "output_type": "stream",
     "text": [
      "\n",
      "49it [00:00, 40769.87it/s]\n",
      "44it [00:00, 40622.80it/s]\n",
      "56it [00:00, 42651.36it/s]\n",
      "54it [00:00, 40816.80it/s]\n",
      "47it [00:00, 39800.58it/s]\n",
      "42it [00:00, 41303.81it/s]\n"
     ]
    },
    {
     "name": "stdout",
     "output_type": "stream",
     "text": [
      "40\n",
      "48\n",
      "43\n",
      "55\n",
      "53\n",
      "46\n",
      "41\n"
     ]
    },
    {
     "name": "stderr",
     "output_type": "stream",
     "text": [
      "55it [00:00, 42088.44it/s]\n",
      "43it [00:00, 40374.99it/s]\n",
      "34it [00:00, 41612.59it/s]\n",
      "34it [00:00, 43200.95it/s]\n",
      "68it [00:00, 41973.90it/s]\n",
      "55it [00:00, 42475.92it/s]\n",
      "46it [00:00, 40989.59it/s]\n",
      "0it [00:00, ?it/s]"
     ]
    },
    {
     "name": "stdout",
     "output_type": "stream",
     "text": [
      "54\n",
      "42\n",
      "33\n",
      "33\n",
      "67\n",
      "54\n",
      "45\n"
     ]
    },
    {
     "name": "stderr",
     "output_type": "stream",
     "text": [
      "63it [00:00, 42251.54it/s]\n",
      "46it [00:00, 40989.59it/s]\n",
      "44it [00:00, 36609.68it/s]\n",
      "55it [00:00, 41356.53it/s]\n",
      "46it [00:00, 41068.11it/s]\n",
      "53it [00:00, 41990.58it/s]\n"
     ]
    },
    {
     "name": "stdout",
     "output_type": "stream",
     "text": [
      "62\n",
      "45\n",
      "43\n",
      "54\n",
      "45\n",
      "52\n"
     ]
    },
    {
     "name": "stderr",
     "output_type": "stream",
     "text": [
      "48it [00:00, 40104.90it/s]\n",
      "49it [00:00, 41244.41it/s]\n",
      "47it [00:00, 40932.78it/s]\n",
      "40it [00:00, 40127.28it/s]\n",
      "52it [00:00, 40092.61it/s]\n",
      "58it [00:00, 42492.51it/s]\n",
      "56it [00:00, 41928.07it/s]\n"
     ]
    },
    {
     "name": "stdout",
     "output_type": "stream",
     "text": [
      "47\n",
      "48\n",
      "46\n",
      "39\n",
      "51\n",
      "57\n",
      "55\n"
     ]
    },
    {
     "name": "stderr",
     "output_type": "stream",
     "text": [
      "32it [00:00, 40500.22it/s]\n",
      "54it [00:00, 42295.50it/s]\n",
      "35it [00:00, 41363.94it/s]\n",
      "39it [00:00, 39521.11it/s]\n",
      "57it [00:00, 41965.13it/s]\n",
      "50it [00:00, 37827.42it/s]\n",
      "38it [00:00, 42456.99it/s]\n",
      "0it [00:00, ?it/s]"
     ]
    },
    {
     "name": "stdout",
     "output_type": "stream",
     "text": [
      "31\n",
      "53\n",
      "34\n",
      "38\n",
      "56\n",
      "49\n",
      "37\n"
     ]
    },
    {
     "name": "stderr",
     "output_type": "stream",
     "text": [
      "43it [00:00, 36912.62it/s]\n",
      "39it [00:00, 40122.11it/s]\n",
      "41it [00:00, 38827.38it/s]\n",
      "48it [00:00, 41238.55it/s]\n",
      "48it [00:00, 40886.80it/s]\n",
      "51it [00:00, 41592.36it/s]\n",
      "37it [00:00, 42239.86it/s]\n",
      "55it [00:00, 42203.94it/s]\n"
     ]
    },
    {
     "name": "stdout",
     "output_type": "stream",
     "text": [
      "42\n",
      "38\n",
      "40\n",
      "47\n",
      "47\n",
      "50\n",
      "36\n",
      "54\n"
     ]
    },
    {
     "name": "stderr",
     "output_type": "stream",
     "text": [
      "47it [00:00, 41405.65it/s]\n",
      "54it [00:00, 40846.24it/s]\n",
      "53it [00:00, 41730.45it/s]\n",
      "54it [00:00, 41865.51it/s]\n",
      "58it [00:00, 41971.99it/s]\n",
      "59it [00:00, 43029.72it/s]\n",
      "0it [00:00, ?it/s]"
     ]
    },
    {
     "name": "stdout",
     "output_type": "stream",
     "text": [
      "46\n",
      "53\n",
      "52\n",
      "53\n",
      "57\n",
      "58\n"
     ]
    },
    {
     "name": "stderr",
     "output_type": "stream",
     "text": [
      "44it [00:00, 36243.00it/s]\n",
      "39it [00:00, 38689.18it/s]\n",
      "50it [00:00, 42306.88it/s]\n",
      "51it [00:00, 40830.22it/s]\n",
      "40it [00:00, 40002.90it/s]\n",
      "43it [00:00, 42158.74it/s]\n",
      "44it [00:00, 40250.68it/s]\n",
      "0it [00:00, ?it/s]"
     ]
    },
    {
     "name": "stdout",
     "output_type": "stream",
     "text": [
      "43\n",
      "38\n",
      "49\n",
      "50\n",
      "39\n",
      "42\n",
      "43\n"
     ]
    },
    {
     "name": "stderr",
     "output_type": "stream",
     "text": [
      "44it [00:00, 39850.87it/s]\n",
      "38it [00:00, 42310.47it/s]\n",
      "51it [00:00, 41089.03it/s]\n",
      "52it [00:00, 39880.02it/s]\n",
      "44it [00:00, 40444.75it/s]\n",
      "61it [00:00, 42005.01it/s]\n",
      "49it [00:00, 42166.78it/s]\n"
     ]
    },
    {
     "name": "stdout",
     "output_type": "stream",
     "text": [
      "43\n",
      "37\n",
      "50\n",
      "51\n",
      "43\n",
      "60\n",
      "48\n"
     ]
    },
    {
     "name": "stderr",
     "output_type": "stream",
     "text": [
      "48it [00:00, 40820.48it/s]\n",
      "51it [00:00, 40767.96it/s]\n",
      "47it [00:00, 33170.50it/s]\n",
      "51it [00:00, 40444.22it/s]\n",
      "60it [00:00, 41127.35it/s]\n",
      "49it [00:00, 41277.54it/s]\n",
      "0it [00:00, ?it/s]"
     ]
    },
    {
     "name": "stdout",
     "output_type": "stream",
     "text": [
      "47\n",
      "50\n",
      "46\n",
      "50\n",
      "59\n",
      "48\n"
     ]
    },
    {
     "name": "stderr",
     "output_type": "stream",
     "text": [
      "47it [00:00, 40346.35it/s]\n",
      "35it [00:00, 41086.10it/s]\n",
      "44it [00:00, 41904.94it/s]\n"
     ]
    },
    {
     "name": "stdout",
     "output_type": "stream",
     "text": [
      "46\n",
      "34\n",
      "43\n"
     ]
    },
    {
     "name": "stderr",
     "output_type": "stream",
     "text": [
      "46it [00:00, 40738.59it/s]\n",
      "49it [00:00, 41244.41it/s]\n",
      "47it [00:00, 42077.33it/s]\n",
      "44it [00:00, 41753.25it/s]\n",
      "50it [00:00, 42264.25it/s]\n",
      "51it [00:00, 41335.17it/s]\n",
      "51it [00:00, 41975.96it/s]\n",
      "0it [00:00, ?it/s]"
     ]
    },
    {
     "name": "stdout",
     "output_type": "stream",
     "text": [
      "45\n",
      "48\n",
      "46\n",
      "43\n",
      "49\n",
      "50\n",
      "50\n"
     ]
    },
    {
     "name": "stderr",
     "output_type": "stream",
     "text": [
      "46it [00:00, 40136.88it/s]\n",
      "43it [00:00, 40804.31it/s]\n",
      "48it [00:00, 40886.80it/s]\n",
      "60it [00:00, 42048.16it/s]\n",
      "49it [00:00, 40632.84it/s]\n",
      "54it [00:00, 42327.12it/s]\n",
      "54it [00:00, 41695.95it/s]\n"
     ]
    },
    {
     "name": "stdout",
     "output_type": "stream",
     "text": [
      "45\n",
      "42\n",
      "47\n",
      "59\n",
      "48\n",
      "53\n",
      "53\n"
     ]
    },
    {
     "name": "stderr",
     "output_type": "stream",
     "text": [
      "38it [00:00, 37510.84it/s]\n",
      "36it [00:00, 40765.37it/s]\n",
      "49it [00:00, 42020.22it/s]\n",
      "43it [00:00, 39972.31it/s]\n",
      "47it [00:00, 40907.30it/s]\n",
      "50it [00:00, 41560.68it/s]\n",
      "58it [00:00, 40619.41it/s]\n"
     ]
    },
    {
     "name": "stdout",
     "output_type": "stream",
     "text": [
      "37\n",
      "35\n",
      "48\n",
      "42\n",
      "46\n",
      "49\n",
      "57\n"
     ]
    },
    {
     "name": "stderr",
     "output_type": "stream",
     "text": [
      "40it [00:00, 37693.14it/s]\n",
      "56it [00:00, 41520.42it/s]\n",
      "41it [00:00, 40721.40it/s]\n",
      "50it [00:00, 40745.13it/s]\n",
      "59it [00:00, 41458.19it/s]\n",
      "50it [00:00, 41355.79it/s]\n",
      "0it [00:00, ?it/s]"
     ]
    },
    {
     "name": "stdout",
     "output_type": "stream",
     "text": [
      "39\n",
      "55\n",
      "40\n",
      "49\n",
      "58\n",
      "49\n"
     ]
    },
    {
     "name": "stderr",
     "output_type": "stream",
     "text": [
      "51it [00:00, 40155.72it/s]\n",
      "53it [00:00, 41496.75it/s]\n",
      "32it [00:00, 41450.81it/s]\n",
      "54it [00:00, 40750.70it/s]\n",
      "48it [00:00, 40961.67it/s]\n",
      "42it [00:00, 41537.55it/s]\n",
      "55it [00:00, 42862.64it/s]\n"
     ]
    },
    {
     "name": "stdout",
     "output_type": "stream",
     "text": [
      "50\n",
      "52\n",
      "31\n",
      "53\n",
      "47\n",
      "41\n",
      "54\n"
     ]
    },
    {
     "name": "stderr",
     "output_type": "stream",
     "text": [
      "45it [00:00, 40252.44it/s]\n",
      "40it [00:00, 40031.53it/s]\n",
      "40it [00:00, 39803.60it/s]\n",
      "57it [00:00, 37135.03it/s]\n",
      "63it [00:00, 41750.85it/s]\n",
      "51it [00:00, 40830.22it/s]\n"
     ]
    },
    {
     "name": "stdout",
     "output_type": "stream",
     "text": [
      "44\n",
      "39\n",
      "39\n",
      "56\n",
      "62\n",
      "50\n"
     ]
    },
    {
     "name": "stderr",
     "output_type": "stream",
     "text": [
      "37it [00:00, 41751.21it/s]\n",
      "43it [00:00, 40257.83it/s]\n",
      "54it [00:00, 40934.83it/s]\n",
      "45it [00:00, 39819.34it/s]\n",
      "52it [00:00, 41198.30it/s]\n",
      "44it [00:00, 40892.84it/s]\n",
      "42it [00:00, 39295.29it/s]\n",
      "49it [00:00, 40000.17it/s]\n"
     ]
    },
    {
     "name": "stdout",
     "output_type": "stream",
     "text": [
      "36\n",
      "42\n",
      "53\n",
      "44\n",
      "51\n",
      "43\n",
      "41\n",
      "48\n"
     ]
    },
    {
     "name": "stderr",
     "output_type": "stream",
     "text": [
      "59it [00:00, 41548.68it/s]\n",
      "47it [00:00, 40445.69it/s]\n",
      "48it [00:00, 41137.43it/s]\n",
      "44it [00:00, 40595.99it/s]\n",
      "45it [00:00, 39718.79it/s]\n",
      "51it [00:00, 36747.90it/s]\n",
      "44it [00:00, 40409.32it/s]"
     ]
    },
    {
     "name": "stdout",
     "output_type": "stream",
     "text": [
      "58\n",
      "46\n",
      "47\n",
      "43\n",
      "44\n",
      "50\n"
     ]
    },
    {
     "name": "stderr",
     "output_type": "stream",
     "text": [
      "\n",
      "46it [00:00, 41635.30it/s]\n",
      "33it [00:00, 42522.90it/s]\n",
      "38it [00:00, 41355.36it/s]\n",
      "45it [00:00, 39962.67it/s]\n",
      "55it [00:00, 41164.65it/s]\n",
      "53it [00:00, 41242.69it/s]\n"
     ]
    },
    {
     "name": "stdout",
     "output_type": "stream",
     "text": [
      "43\n",
      "45\n",
      "32\n",
      "37\n",
      "44\n",
      "54\n",
      "52\n"
     ]
    },
    {
     "name": "stderr",
     "output_type": "stream",
     "text": [
      "47it [00:00, 41960.90it/s]\n",
      "43it [00:00, 41384.83it/s]\n",
      "51it [00:00, 41223.65it/s]\n",
      "46it [00:00, 40816.16it/s]\n",
      "43it [00:00, 40492.83it/s]\n",
      "45it [00:00, 41509.50it/s]\n",
      "52it [00:00, 40344.77it/s]\n",
      "43it [00:00, 39769.59it/s]"
     ]
    },
    {
     "name": "stdout",
     "output_type": "stream",
     "text": [
      "46\n",
      "42\n",
      "50\n",
      "45\n",
      "42\n",
      "44\n",
      "51\n"
     ]
    },
    {
     "name": "stderr",
     "output_type": "stream",
     "text": [
      "\n",
      "43it [00:00, 41176.96it/s]\n",
      "47it [00:00, 39656.47it/s]\n",
      "50it [00:00, 41626.68it/s]\n",
      "52it [00:00, 41830.42it/s]\n",
      "55it [00:00, 40807.84it/s]\n",
      "46it [00:00, 40465.18it/s]"
     ]
    },
    {
     "name": "stdout",
     "output_type": "stream",
     "text": [
      "42\n",
      "42\n",
      "46\n",
      "49\n",
      "51\n",
      "54\n"
     ]
    },
    {
     "name": "stderr",
     "output_type": "stream",
     "text": [
      "\n",
      "41it [00:00, 39724.29it/s]\n",
      "37it [00:00, 39199.10it/s]\n",
      "42it [00:00, 41420.35it/s]\n",
      "38it [00:00, 38988.15it/s]\n",
      "35it [00:00, 41132.15it/s]\n",
      "47it [00:00, 41327.52it/s]\n",
      "44it [00:00, 40847.58it/s]"
     ]
    },
    {
     "name": "stdout",
     "output_type": "stream",
     "text": [
      "45\n",
      "40\n",
      "36\n",
      "41\n",
      "37\n",
      "34\n",
      "46\n"
     ]
    },
    {
     "name": "stderr",
     "output_type": "stream",
     "text": [
      "\n",
      "44it [00:00, 41157.31it/s]\n",
      "55it [00:00, 41475.50it/s]\n",
      "51it [00:00, 40636.30it/s]\n",
      "45it [00:00, 39760.62it/s]\n",
      "51it [00:00, 34770.73it/s]\n",
      "39it [00:00, 38845.37it/s]\n",
      "0it [00:00, ?it/s]"
     ]
    },
    {
     "name": "stdout",
     "output_type": "stream",
     "text": [
      "43\n",
      "43\n",
      "54\n",
      "50\n",
      "44\n",
      "50\n",
      "38\n"
     ]
    },
    {
     "name": "stderr",
     "output_type": "stream",
     "text": [
      "48it [00:00, 40467.66it/s]\n",
      "48it [00:00, 40581.86it/s]\n",
      "57it [00:00, 40343.46it/s]\n",
      "55it [00:00, 41356.53it/s]\n"
     ]
    },
    {
     "name": "stdout",
     "output_type": "stream",
     "text": [
      "47\n",
      "47\n",
      "56\n",
      "54\n"
     ]
    },
    {
     "name": "stderr",
     "output_type": "stream",
     "text": [
      "36it [00:00, 39871.92it/s]\n",
      "41it [00:00, 40160.31it/s]\n",
      "38it [00:00, 35387.11it/s]\n",
      "38it [00:00, 35184.01it/s]\n",
      "49it [00:00, 40794.14it/s]\n",
      "46it [00:00, 41287.82it/s]\n",
      "53it [00:00, 39178.38it/s]\n",
      "0it [00:00, ?it/s]"
     ]
    },
    {
     "name": "stdout",
     "output_type": "stream",
     "text": [
      "35\n",
      "40\n",
      "37\n",
      "37\n",
      "48\n",
      "45\n",
      "52\n"
     ]
    },
    {
     "name": "stderr",
     "output_type": "stream",
     "text": [
      "49it [00:00, 40528.67it/s]\n",
      "50it [00:00, 41968.22it/s]\n",
      "36it [00:00, 41008.95it/s]\n",
      "52it [00:00, 40129.50it/s]\n",
      "66it [00:00, 42147.39it/s]\n",
      "57it [00:00, 40818.73it/s]\n",
      "0it [00:00, ?it/s]"
     ]
    },
    {
     "name": "stdout",
     "output_type": "stream",
     "text": [
      "48\n",
      "49\n",
      "35\n",
      "51\n",
      "65\n",
      "56\n"
     ]
    },
    {
     "name": "stderr",
     "output_type": "stream",
     "text": [
      "52it [00:00, 38718.94it/s]\n",
      "47it [00:00, 36689.43it/s]\n",
      "40it [00:00, 39522.30it/s]\n",
      "39it [00:00, 39674.47it/s]\n",
      "36it [00:00, 40677.52it/s]\n",
      "49it [00:00, 41427.31it/s]\n",
      "54it [00:00, 41353.37it/s]\n"
     ]
    },
    {
     "name": "stdout",
     "output_type": "stream",
     "text": [
      "51\n",
      "46\n",
      "39\n",
      "38\n",
      "35\n",
      "48\n",
      "53\n"
     ]
    },
    {
     "name": "stderr",
     "output_type": "stream",
     "text": [
      "48it [00:00, 39607.83it/s]\n",
      "57it [00:00, 41219.88it/s]\n",
      "52it [00:00, 40943.08it/s]\n",
      "52it [00:00, 40943.08it/s]\n",
      "54it [00:00, 41038.67it/s]\n",
      "47it [00:00, 40873.38it/s]\n"
     ]
    },
    {
     "name": "stdout",
     "output_type": "stream",
     "text": [
      "47\n",
      "56\n",
      "51\n",
      "51\n",
      "53\n",
      "46\n"
     ]
    },
    {
     "name": "stderr",
     "output_type": "stream",
     "text": [
      "65it [00:00, 40163.49it/s]\n",
      "49it [00:00, 39064.99it/s]\n",
      "47it [00:00, 40206.46it/s]\n",
      "44it [00:00, 36880.37it/s]\n",
      "43it [00:00, 39778.36it/s]\n",
      "41it [00:00, 40434.16it/s]\n",
      "0it [00:00, ?it/s]"
     ]
    },
    {
     "name": "stdout",
     "output_type": "stream",
     "text": [
      "64\n",
      "48\n",
      "46\n",
      "43\n",
      "42\n",
      "40\n"
     ]
    },
    {
     "name": "stderr",
     "output_type": "stream",
     "text": [
      "57it [00:00, 41241.22it/s]\n",
      "51it [00:00, 41560.04it/s]\n",
      "55it [00:00, 40945.46it/s]\n",
      "58it [00:00, 42051.79it/s]\n",
      "53it [00:00, 35279.81it/s]\n",
      "52it [00:00, 40912.36it/s]\n"
     ]
    },
    {
     "name": "stdout",
     "output_type": "stream",
     "text": [
      "56\n",
      "50\n",
      "54\n",
      "57\n",
      "52\n",
      "51\n"
     ]
    },
    {
     "name": "stderr",
     "output_type": "stream",
     "text": [
      "50it [00:00, 40423.13it/s]\n",
      "59it [00:00, 42171.77it/s]\n",
      "40it [00:00, 41020.09it/s]\n",
      "40it [00:00, 40358.95it/s]\n",
      "58it [00:00, 41734.37it/s]\n",
      "40it [00:00, 40117.69it/s]\n",
      "56it [00:00, 42674.60it/s]\n"
     ]
    },
    {
     "name": "stdout",
     "output_type": "stream",
     "text": [
      "49\n",
      "58\n",
      "39\n",
      "39\n",
      "57\n",
      "39\n",
      "55\n"
     ]
    },
    {
     "name": "stderr",
     "output_type": "stream",
     "text": [
      "53it [00:00, 41273.32it/s]\n",
      "55it [00:00, 41730.59it/s]\n",
      "50it [00:00, 40291.10it/s]\n",
      "48it [00:00, 41028.45it/s]\n",
      "56it [00:00, 41084.66it/s]\n",
      "49it [00:00, 40464.83it/s]\n"
     ]
    },
    {
     "name": "stdout",
     "output_type": "stream",
     "text": [
      "52\n",
      "54\n",
      "49\n",
      "47\n",
      "55\n",
      "48\n"
     ]
    },
    {
     "name": "stderr",
     "output_type": "stream",
     "text": [
      "51it [00:00, 34833.01it/s]\n",
      "56it [00:00, 40970.00it/s]\n",
      "48it [00:00, 40920.04it/s]\n",
      "51it [00:00, 41160.19it/s]\n",
      "46it [00:00, 41518.83it/s]\n",
      "50it [00:00, 41421.13it/s]\n"
     ]
    },
    {
     "name": "stdout",
     "output_type": "stream",
     "text": [
      "50\n",
      "55\n",
      "47\n",
      "50\n",
      "45\n",
      "49\n"
     ]
    },
    {
     "name": "stderr",
     "output_type": "stream",
     "text": [
      "52it [00:00, 40404.56it/s]\n",
      "53it [00:00, 41832.54it/s]\n",
      "40it [00:00, 40242.78it/s]\n",
      "45it [00:00, 39971.13it/s]\n",
      "62it [00:00, 43269.03it/s]\n",
      "53it [00:00, 41319.35it/s]\n"
     ]
    },
    {
     "name": "stdout",
     "output_type": "stream",
     "text": [
      "51\n",
      "52\n",
      "39\n",
      "44\n",
      "61\n",
      "52\n"
     ]
    },
    {
     "name": "stderr",
     "output_type": "stream",
     "text": [
      "58it [00:00, 41274.11it/s]\n",
      "56it [00:00, 40517.69it/s]\n",
      "56it [00:00, 41301.39it/s]\n",
      "50it [00:00, 35210.75it/s]\n",
      "42it [00:00, 41381.43it/s]\n",
      "52it [00:00, 41999.58it/s]\n"
     ]
    },
    {
     "name": "stdout",
     "output_type": "stream",
     "text": [
      "57\n",
      "55\n",
      "55\n",
      "49\n",
      "41\n",
      "51\n"
     ]
    },
    {
     "name": "stderr",
     "output_type": "stream",
     "text": [
      "45it [00:00, 39677.04it/s]\n",
      "48it [00:00, 40346.01it/s]\n",
      "45it [00:00, 39379.03it/s]\n",
      "56it [00:00, 42040.63it/s]\n",
      "41it [00:00, 40721.40it/s]\n",
      "46it [00:00, 41411.89it/s]\n",
      "57it [00:00, 40770.01it/s]\n"
     ]
    },
    {
     "name": "stdout",
     "output_type": "stream",
     "text": [
      "44\n",
      "47\n",
      "44\n",
      "55\n",
      "40\n",
      "45\n",
      "56\n"
     ]
    },
    {
     "name": "stderr",
     "output_type": "stream",
     "text": [
      "52it [00:00, 41035.52it/s]\n",
      "41it [00:00, 40586.85it/s]\n",
      "47it [00:00, 40729.81it/s]\n",
      "47it [00:00, 40587.25it/s]\n"
     ]
    },
    {
     "name": "stdout",
     "output_type": "stream",
     "text": [
      "51\n",
      "40\n",
      "46\n",
      "46\n"
     ]
    },
    {
     "name": "stderr",
     "output_type": "stream",
     "text": [
      "38it [00:00, 19618.85it/s]\n",
      "41it [00:00, 36089.50it/s]\n",
      "43it [00:00, 33958.78it/s]\n",
      "72it [00:00, 35734.22it/s]\n",
      "49it [00:00, 37835.22it/s]\n",
      "42it [00:00, 40506.04it/s]\n",
      "44it [00:00, 34676.70it/s]\n"
     ]
    },
    {
     "name": "stdout",
     "output_type": "stream",
     "text": [
      "37\n",
      "40\n",
      "42\n",
      "71\n",
      "48\n",
      "41\n",
      "43\n"
     ]
    },
    {
     "name": "stderr",
     "output_type": "stream",
     "text": [
      "53it [00:00, 37531.34it/s]\n",
      "45it [00:00, 35491.48it/s]\n",
      "42it [00:00, 35566.48it/s]\n",
      "47it [00:00, 40453.99it/s]\n",
      "44it [00:00, 39324.39it/s]\n",
      "55it [00:00, 41662.76it/s]\n",
      "48it [00:00, 36671.51it/s]\n",
      "0it [00:00, ?it/s]"
     ]
    },
    {
     "name": "stdout",
     "output_type": "stream",
     "text": [
      "52\n",
      "44\n",
      "41\n",
      "46\n",
      "43\n",
      "54\n",
      "47\n"
     ]
    },
    {
     "name": "stderr",
     "output_type": "stream",
     "text": [
      "55it [00:00, 39596.07it/s]\n",
      "37it [00:00, 40710.72it/s]\n",
      "44it [00:00, 39705.12it/s]\n",
      "46it [00:00, 36968.38it/s]\n",
      "66it [00:00, 34413.73it/s]\n",
      "43it [00:00, 39673.36it/s]\n",
      "0it [00:00, ?it/s]"
     ]
    },
    {
     "name": "stdout",
     "output_type": "stream",
     "text": [
      "54\n",
      "36\n",
      "43\n",
      "45\n",
      "65\n",
      "42\n"
     ]
    },
    {
     "name": "stderr",
     "output_type": "stream",
     "text": [
      "48it [00:00, 39662.45it/s]\n",
      "61it [00:00, 33150.11it/s]\n",
      "59it [00:00, 38088.95it/s]\n",
      "59it [00:00, 35301.56it/s]\n",
      "44it [00:00, 39290.90it/s]\n",
      "0it [00:00, ?it/s]"
     ]
    },
    {
     "name": "stdout",
     "output_type": "stream",
     "text": [
      "47\n",
      "60\n",
      "58\n",
      "58\n",
      "43\n"
     ]
    },
    {
     "name": "stderr",
     "output_type": "stream",
     "text": [
      "47it [00:00, 39402.82it/s]\n",
      "47it [00:00, 40763.50it/s]\n",
      "39it [00:00, 39559.34it/s]\n",
      "40it [00:00, 40850.29it/s]\n",
      "35it [00:00, 41811.63it/s]\n",
      "57it [00:00, 39366.92it/s]\n",
      "59it [00:00, 40494.83it/s]\n"
     ]
    },
    {
     "name": "stdout",
     "output_type": "stream",
     "text": [
      "46\n",
      "46\n",
      "38\n",
      "39\n",
      "34\n",
      "56\n",
      "58\n"
     ]
    },
    {
     "name": "stderr",
     "output_type": "stream",
     "text": [
      "53it [00:00, 41558.82it/s]\n",
      "49it [00:00, 40195.76it/s]\n",
      "49it [00:00, 40464.83it/s]\n",
      "52it [00:00, 41081.90it/s]\n",
      "54it [00:00, 38323.59it/s]\n",
      "36it [00:00, 40308.31it/s]\n",
      "0it [00:00, ?it/s]"
     ]
    },
    {
     "name": "stdout",
     "output_type": "stream",
     "text": [
      "52\n",
      "48\n",
      "48\n",
      "51\n",
      "53\n",
      "35\n"
     ]
    },
    {
     "name": "stderr",
     "output_type": "stream",
     "text": [
      "47it [00:00, 39206.90it/s]\n",
      "54it [00:00, 41504.93it/s]\n",
      "44it [00:00, 39149.21it/s]\n",
      "45it [00:00, 40502.94it/s]\n",
      "49it [00:00, 41637.13it/s]\n",
      "43it [00:00, 41700.59it/s]\n",
      "40it [00:00, 40446.52it/s]\n"
     ]
    },
    {
     "name": "stdout",
     "output_type": "stream",
     "text": [
      "46\n",
      "53\n",
      "43\n",
      "44\n",
      "48\n",
      "42\n",
      "39\n"
     ]
    },
    {
     "name": "stderr",
     "output_type": "stream",
     "text": [
      "54it [00:00, 41535.38it/s]\n",
      "50it [00:00, 41388.43it/s]\n",
      "50it [00:00, 41144.83it/s]\n",
      "49it [00:00, 41519.37it/s]\n",
      "56it [00:00, 42206.83it/s]\n",
      "55it [00:00, 41572.67it/s]\n",
      "38it [00:00, 39131.73it/s]\n",
      "0it [00:00, ?it/s]"
     ]
    },
    {
     "name": "stdout",
     "output_type": "stream",
     "text": [
      "53\n",
      "49\n",
      "49\n",
      "48\n",
      "55\n",
      "54\n",
      "37\n"
     ]
    },
    {
     "name": "stderr",
     "output_type": "stream",
     "text": [
      "41it [00:00, 38827.38it/s]\n",
      "40it [00:00, 39485.09it/s]\n",
      "42it [00:00, 41833.48it/s]\n",
      "49it [00:00, 41485.85it/s]\n",
      "55it [00:00, 39285.89it/s]\n",
      "42it [00:00, 39702.67it/s]\n",
      "34it [00:00, 41002.40it/s]\n"
     ]
    },
    {
     "name": "stdout",
     "output_type": "stream",
     "text": [
      "40\n",
      "39\n",
      "41\n",
      "48\n",
      "54\n",
      "41\n",
      "33\n"
     ]
    },
    {
     "name": "stderr",
     "output_type": "stream",
     "text": [
      "48it [00:00, 38986.56it/s]\n",
      "51it [00:00, 41128.53it/s]\n",
      "46it [00:00, 39756.44it/s]\n",
      "47it [00:00, 40839.50it/s]\n",
      "51it [00:00, 41391.16it/s]\n",
      "49it [00:00, 41219.59it/s]\n",
      "37it [00:00, 38623.51it/s]\n"
     ]
    },
    {
     "name": "stdout",
     "output_type": "stream",
     "text": [
      "47\n",
      "50\n",
      "45\n",
      "46\n",
      "50\n",
      "48\n",
      "36\n"
     ]
    },
    {
     "name": "stderr",
     "output_type": "stream",
     "text": [
      "44it [00:00, 39492.70it/s]\n",
      "58it [00:00, 39893.35it/s]\n",
      "49it [00:00, 34454.47it/s]\n",
      "47it [00:00, 41554.02it/s]\n",
      "41it [00:00, 37375.89it/s]\n",
      "52it [00:00, 37604.10it/s]\n",
      "0it [00:00, ?it/s]"
     ]
    },
    {
     "name": "stdout",
     "output_type": "stream",
     "text": [
      "43\n",
      "57\n",
      "48\n",
      "46\n",
      "40\n",
      "51\n"
     ]
    },
    {
     "name": "stderr",
     "output_type": "stream",
     "text": [
      "59it [00:00, 39708.59it/s]\n",
      "49it [00:00, 39477.70it/s]\n",
      "60it [00:00, 42069.25it/s]\n",
      "40it [00:00, 40117.69it/s]\n",
      "54it [00:00, 41857.77it/s]\n",
      "52it [00:00, 41464.60it/s]\n"
     ]
    },
    {
     "name": "stdout",
     "output_type": "stream",
     "text": [
      "58\n",
      "48\n",
      "59\n",
      "39\n",
      "53\n",
      "51\n"
     ]
    },
    {
     "name": "stderr",
     "output_type": "stream",
     "text": [
      "52it [00:00, 40247.98it/s]\n",
      "40it [00:00, 39447.96it/s]\n",
      "47it [00:00, 40797.25it/s]\n",
      "51it [00:00, 42008.94it/s]\n",
      "59it [00:00, 42265.40it/s]\n",
      "42it [00:00, 40146.03it/s]\n",
      "62it [00:00, 42756.80it/s]\n"
     ]
    },
    {
     "name": "stdout",
     "output_type": "stream",
     "text": [
      "51\n",
      "39\n",
      "46\n",
      "50\n",
      "58\n",
      "41\n",
      "61\n"
     ]
    },
    {
     "name": "stderr",
     "output_type": "stream",
     "text": [
      "60it [00:00, 42104.44it/s]\n",
      "42it [00:00, 39918.60it/s]\n",
      "44it [00:00, 39971.71it/s]\n",
      "52it [00:00, 41943.04it/s]\n",
      "45it [00:00, 40730.19it/s]\n"
     ]
    },
    {
     "name": "stdout",
     "output_type": "stream",
     "text": [
      "59\n",
      "41\n",
      "43\n",
      "51\n",
      "44\n"
     ]
    },
    {
     "name": "stderr",
     "output_type": "stream",
     "text": [
      "50it [00:00, 40260.17it/s]\n",
      "49it [00:00, 41145.32it/s]\n",
      "61it [00:00, 43357.49it/s]\n",
      "40it [00:00, 40524.68it/s]\n",
      "55it [00:00, 42775.21it/s]\n",
      "48it [00:00, 40920.04it/s]\n",
      "60it [00:00, 42281.29it/s]"
     ]
    },
    {
     "name": "stdout",
     "output_type": "stream",
     "text": [
      "49\n",
      "48\n",
      "60\n",
      "39\n",
      "54\n",
      "47\n"
     ]
    },
    {
     "name": "stderr",
     "output_type": "stream",
     "text": [
      "\n",
      "45it [00:00, 40686.29it/s]\n",
      "62it [00:00, 42553.89it/s]\n",
      "50it [00:00, 41494.90it/s]\n",
      "51it [00:00, 40216.11it/s]\n",
      "52it [00:00, 40920.04it/s]\n",
      "52it [00:00, 42350.25it/s]\n",
      "0it [00:00, ?it/s]"
     ]
    },
    {
     "name": "stdout",
     "output_type": "stream",
     "text": [
      "59\n",
      "44\n",
      "61\n",
      "49\n",
      "50\n",
      "51\n",
      "51\n"
     ]
    },
    {
     "name": "stderr",
     "output_type": "stream",
     "text": [
      "40it [00:00, 40475.79it/s]\n",
      "48it [00:00, 41348.65it/s]\n",
      "49it [00:00, 40290.31it/s]\n",
      "49it [00:00, 41005.77it/s]\n",
      "54it [00:00, 42287.61it/s]\n",
      "55it [00:00, 42601.43it/s]\n",
      "50it [00:00, 41535.99it/s]\n",
      "0it [00:00, ?it/s]"
     ]
    },
    {
     "name": "stdout",
     "output_type": "stream",
     "text": [
      "39\n",
      "47\n",
      "48\n",
      "48\n",
      "53\n",
      "54\n",
      "49\n"
     ]
    },
    {
     "name": "stderr",
     "output_type": "stream",
     "text": [
      "44it [00:00, 36887.74it/s]\n",
      "56it [00:00, 41388.73it/s]\n",
      "53it [00:00, 40520.98it/s]\n",
      "46it [00:00, 39871.46it/s]\n",
      "44it [00:00, 39433.63it/s]\n",
      "34it [00:00, 40908.30it/s]\n",
      "50it [00:00, 41692.88it/s]\n",
      "50it [00:00, 41152.90it/s]"
     ]
    },
    {
     "name": "stdout",
     "output_type": "stream",
     "text": [
      "43\n",
      "55\n",
      "52\n",
      "45\n",
      "43\n",
      "33\n",
      "49\n"
     ]
    },
    {
     "name": "stderr",
     "output_type": "stream",
     "text": [
      "\n",
      "56it [00:00, 41830.99it/s]\n",
      "48it [00:00, 41838.44it/s]\n",
      "54it [00:00, 41857.77it/s]\n",
      "46it [00:00, 40747.20it/s]\n",
      "46it [00:00, 40533.19it/s]\n",
      "44it [00:00, 38942.68it/s]"
     ]
    },
    {
     "name": "stdout",
     "output_type": "stream",
     "text": [
      "49\n",
      "55\n",
      "47\n",
      "53\n",
      "45\n",
      "45\n"
     ]
    },
    {
     "name": "stderr",
     "output_type": "stream",
     "text": [
      "\n",
      "50it [00:00, 40681.90it/s]\n",
      "42it [00:00, 40228.54it/s]\n",
      "55it [00:00, 40771.78it/s]\n",
      "33it [00:00, 40829.51it/s]\n",
      "48it [00:00, 42074.52it/s]\n",
      "48it [00:00, 40853.61it/s]\n"
     ]
    },
    {
     "name": "stdout",
     "output_type": "stream",
     "text": [
      "43\n",
      "49\n",
      "41\n",
      "54\n",
      "32\n",
      "47\n",
      "47\n"
     ]
    },
    {
     "name": "stderr",
     "output_type": "stream",
     "text": [
      "52it [00:00, 40782.31it/s]\n",
      "54it [00:00, 42621.83it/s]\n",
      "55it [00:00, 40836.74it/s]\n",
      "44it [00:00, 40811.45it/s]\n",
      "48it [00:00, 40886.80it/s]\n",
      "50it [00:00, 41282.52it/s]\n",
      "0it [00:00, ?it/s]"
     ]
    },
    {
     "name": "stdout",
     "output_type": "stream",
     "text": [
      "51\n",
      "53\n",
      "54\n",
      "43\n",
      "47\n",
      "49\n"
     ]
    },
    {
     "name": "stderr",
     "output_type": "stream",
     "text": [
      "56it [00:00, 41483.76it/s]\n",
      "43it [00:00, 40989.79it/s]\n",
      "59it [00:00, 41843.75it/s]\n",
      "44it [00:00, 40506.89it/s]\n",
      "45it [00:00, 40730.19it/s]\n",
      "47it [00:00, 40941.29it/s]\n",
      "55it [00:00, 41512.82it/s]"
     ]
    },
    {
     "name": "stdout",
     "output_type": "stream",
     "text": [
      "55\n",
      "42\n",
      "58\n",
      "43\n",
      "44\n",
      "46\n"
     ]
    },
    {
     "name": "stderr",
     "output_type": "stream",
     "text": [
      "\n",
      "45it [00:00, 40107.03it/s]\n",
      "41it [00:00, 39880.91it/s]\n",
      "49it [00:00, 42028.81it/s]\n",
      "63it [00:00, 41120.63it/s]\n",
      "42it [00:00, 40665.00it/s]\n",
      "53it [00:00, 41660.07it/s]"
     ]
    },
    {
     "name": "stdout",
     "output_type": "stream",
     "text": [
      "54\n",
      "44\n",
      "40\n",
      "48\n",
      "62\n",
      "41\n"
     ]
    },
    {
     "name": "stderr",
     "output_type": "stream",
     "text": [
      "\n",
      "48it [00:00, 40402.69it/s]\n",
      "43it [00:00, 40602.22it/s]\n",
      "64it [00:00, 42380.08it/s]\n",
      "48it [00:00, 41020.09it/s]\n",
      "53it [00:00, 41730.45it/s]\n",
      "0it [00:00, ?it/s]"
     ]
    },
    {
     "name": "stdout",
     "output_type": "stream",
     "text": [
      "52\n",
      "47\n",
      "42\n",
      "63\n",
      "47\n",
      "52\n"
     ]
    },
    {
     "name": "stderr",
     "output_type": "stream",
     "text": [
      "43it [00:00, 39638.48it/s]\n",
      "53it [00:00, 42093.94it/s]\n",
      "47it [00:00, 41086.35it/s]\n",
      "57it [00:00, 35757.60it/s]\n",
      "42it [00:00, 39729.54it/s]\n",
      "50it [00:00, 40952.00it/s]\n",
      "47it [00:00, 40687.78it/s]"
     ]
    },
    {
     "name": "stdout",
     "output_type": "stream",
     "text": [
      "42\n",
      "52\n",
      "46\n",
      "56\n",
      "41\n",
      "49\n"
     ]
    },
    {
     "name": "stderr",
     "output_type": "stream",
     "text": [
      "\n",
      "42it [00:00, 40118.60it/s]\n",
      "36it [00:00, 42450.08it/s]\n",
      "51it [00:00, 40861.41it/s]\n",
      "49it [00:00, 41186.55it/s]\n",
      "45it [00:00, 40844.77it/s]\n",
      "44it [00:00, 40739.38it/s]\n"
     ]
    },
    {
     "name": "stdout",
     "output_type": "stream",
     "text": [
      "46\n",
      "41\n",
      "35\n",
      "50\n",
      "48\n",
      "44\n",
      "43\n"
     ]
    },
    {
     "name": "stderr",
     "output_type": "stream",
     "text": [
      "59it [00:00, 41375.01it/s]\n",
      "50it [00:00, 41282.52it/s]\n",
      "47it [00:00, 40729.81it/s]\n",
      "40it [00:00, 41100.48it/s]\n",
      "50it [00:00, 41429.32it/s]\n",
      "49it [00:00, 39930.23it/s]\n",
      "48it [00:00, 41272.36it/s]\n",
      "41it [00:00, 38419.67it/s]\n"
     ]
    },
    {
     "name": "stdout",
     "output_type": "stream",
     "text": [
      "58\n",
      "49\n",
      "46\n",
      "39\n",
      "49\n",
      "48\n",
      "47\n",
      "40\n"
     ]
    },
    {
     "name": "stderr",
     "output_type": "stream",
     "text": [
      "46it [00:00, 39896.19it/s]\n",
      "51it [00:00, 41632.83it/s]\n",
      "52it [00:00, 41838.44it/s]\n",
      "48it [00:00, 41028.45it/s]\n",
      "40it [00:00, 41323.19it/s]\n",
      "57it [00:00, 42314.22it/s]\n",
      "55it [00:00, 41828.96it/s]"
     ]
    },
    {
     "name": "stdout",
     "output_type": "stream",
     "text": [
      "45\n",
      "50\n",
      "51\n",
      "47\n",
      "39\n",
      "56\n"
     ]
    },
    {
     "name": "stderr",
     "output_type": "stream",
     "text": [
      "\n",
      "49it [00:00, 41994.46it/s]\n",
      "32it [00:00, 40148.89it/s]\n",
      "0it [00:00, ?it/s]"
     ]
    },
    {
     "name": "stdout",
     "output_type": "stream",
     "text": [
      "54\n",
      "48\n",
      "31\n"
     ]
    },
    {
     "name": "stderr",
     "output_type": "stream",
     "text": [
      "49it [00:00, 40504.71it/s]\n",
      "53it [00:00, 39206.02it/s]\n",
      "54it [00:00, 41927.51it/s]\n",
      "42it [00:00, 39882.45it/s]\n",
      "46it [00:00, 41815.77it/s]\n",
      "48it [00:00, 41986.78it/s]\n",
      "0it [00:00, ?it/s]"
     ]
    },
    {
     "name": "stdout",
     "output_type": "stream",
     "text": [
      "48\n",
      "52\n",
      "53\n",
      "41\n",
      "45\n",
      "47\n"
     ]
    },
    {
     "name": "stderr",
     "output_type": "stream",
     "text": [
      "44it [00:00, 39825.07it/s]\n",
      "49it [00:00, 40834.67it/s]\n",
      "42it [00:00, 41498.41it/s]\n",
      "50it [00:00, 41734.37it/s]\n",
      "63it [00:00, 42137.00it/s]\n",
      "49it [00:00, 40195.76it/s]\n"
     ]
    },
    {
     "name": "stdout",
     "output_type": "stream",
     "text": [
      "43\n",
      "48\n",
      "41\n",
      "49\n",
      "62\n",
      "48\n"
     ]
    },
    {
     "name": "stderr",
     "output_type": "stream",
     "text": [
      "42it [00:00, 39365.53it/s]\n",
      "40it [00:00, 40320.15it/s]\n",
      "56it [00:00, 42783.43it/s]\n",
      "48it [00:00, 40721.40it/s]\n",
      "43it [00:00, 40365.95it/s]\n",
      "47it [00:00, 37939.24it/s]\n",
      "53it [00:00, 40893.69it/s]\n"
     ]
    },
    {
     "name": "stdout",
     "output_type": "stream",
     "text": [
      "41\n",
      "39\n",
      "55\n",
      "47\n",
      "42\n",
      "46\n",
      "52\n"
     ]
    },
    {
     "name": "stderr",
     "output_type": "stream",
     "text": [
      "58it [00:00, 40504.43it/s]\n",
      "44it [00:00, 41471.77it/s]\n",
      "43it [00:00, 40565.69it/s]\n",
      "55it [00:00, 41326.89it/s]\n",
      "39it [00:00, 40792.48it/s]\n",
      "39it [00:00, 39994.59it/s]\n",
      "41it [00:00, 41790.15it/s]\n"
     ]
    },
    {
     "name": "stdout",
     "output_type": "stream",
     "text": [
      "57\n",
      "43\n",
      "42\n",
      "54\n",
      "38\n",
      "38\n",
      "40\n"
     ]
    },
    {
     "name": "stderr",
     "output_type": "stream",
     "text": [
      "41it [00:00, 39190.17it/s]\n",
      "45it [00:00, 39436.62it/s]\n",
      "50it [00:00, 41462.08it/s]\n",
      "45it [00:00, 40030.47it/s]\n",
      "53it [00:00, 41660.07it/s]\n",
      "57it [00:00, 41847.60it/s]\n",
      "37it [00:00, 41295.70it/s]\n"
     ]
    },
    {
     "name": "stdout",
     "output_type": "stream",
     "text": [
      "40\n",
      "44\n",
      "49\n",
      "44\n",
      "52\n",
      "56\n",
      "36\n"
     ]
    },
    {
     "name": "stderr",
     "output_type": "stream",
     "text": [
      "45it [00:00, 40038.96it/s]\n",
      "51it [00:00, 41632.83it/s]\n",
      "50it [00:00, 42086.13it/s]\n",
      "61it [00:00, 42192.04it/s]\n",
      "40it [00:00, 39596.92it/s]\n",
      "50it [00:00, 41809.25it/s]\n",
      "0it [00:00, ?it/s]"
     ]
    },
    {
     "name": "stdout",
     "output_type": "stream",
     "text": [
      "44\n",
      "50\n",
      "49\n",
      "60\n",
      "39\n",
      "49\n"
     ]
    },
    {
     "name": "stderr",
     "output_type": "stream",
     "text": [
      "51it [00:00, 40923.95it/s]\n",
      "52it [00:00, 41143.90it/s]\n",
      "46it [00:00, 40145.23it/s]\n",
      "39it [00:00, 40319.91it/s]\n",
      "44it [00:00, 41781.61it/s]\n",
      "47it [00:00, 41017.95it/s]\n",
      "56it [00:00, 42048.16it/s]\n"
     ]
    },
    {
     "name": "stdout",
     "output_type": "stream",
     "text": [
      "50\n",
      "51\n",
      "45\n",
      "38\n",
      "43\n",
      "46\n",
      "55\n"
     ]
    },
    {
     "name": "stderr",
     "output_type": "stream",
     "text": [
      "36it [00:00, 40820.48it/s]\n",
      "51it [00:00, 42257.90it/s]\n",
      "50it [00:00, 40816.50it/s]\n",
      "50it [00:00, 36308.03it/s]\n",
      "46it [00:00, 39520.28it/s]\n",
      "47it [00:00, 40520.51it/s]\n",
      "60it [00:00, 41127.35it/s]\n"
     ]
    },
    {
     "name": "stdout",
     "output_type": "stream",
     "text": [
      "35\n",
      "50\n",
      "49\n",
      "49\n",
      "45\n",
      "46\n",
      "59\n"
     ]
    },
    {
     "name": "stderr",
     "output_type": "stream",
     "text": [
      "51it [00:00, 42216.20it/s]\n",
      "47it [00:00, 41292.90it/s]\n",
      "43it [00:00, 39629.77it/s]\n",
      "49it [00:00, 41244.41it/s]\n",
      "54it [00:00, 41504.93it/s]\n",
      "50it [00:00, 41494.90it/s]\n",
      "44it [00:00, 42192.36it/s]\n"
     ]
    },
    {
     "name": "stdout",
     "output_type": "stream",
     "text": [
      "50\n",
      "46\n",
      "42\n",
      "48\n",
      "53\n",
      "49\n",
      "43\n"
     ]
    },
    {
     "name": "stderr",
     "output_type": "stream",
     "text": [
      "44it [00:00, 39290.90it/s]\n",
      "53it [00:00, 41605.49it/s]\n",
      "50it [00:00, 41668.03it/s]\n",
      "48it [00:00, 41960.52it/s]\n",
      "47it [00:00, 40864.90it/s]\n",
      "56it [00:00, 38561.98it/s]\n",
      "0it [00:00, ?it/s]"
     ]
    },
    {
     "name": "stdout",
     "output_type": "stream",
     "text": [
      "43\n",
      "52\n",
      "49\n",
      "47\n",
      "46\n",
      "55\n"
     ]
    },
    {
     "name": "stderr",
     "output_type": "stream",
     "text": [
      "41it [00:00, 39163.39it/s]\n",
      "45it [00:00, 39685.38it/s]\n",
      "62it [00:00, 42119.67it/s]\n",
      "51it [00:00, 41568.11it/s]\n",
      "45it [00:00, 39971.13it/s]\n",
      "50it [00:00, 40252.44it/s]\n",
      "0it [00:00, ?it/s]"
     ]
    },
    {
     "name": "stdout",
     "output_type": "stream",
     "text": [
      "40\n",
      "44\n",
      "61\n",
      "50\n",
      "44\n",
      "49\n"
     ]
    },
    {
     "name": "stderr",
     "output_type": "stream",
     "text": [
      "46it [00:00, 40678.47it/s]\n",
      "38it [00:00, 40951.58it/s]\n",
      "60it [00:00, 42588.97it/s]\n",
      "56it [00:00, 41660.34it/s]\n",
      "48it [00:00, 40779.14it/s]\n",
      "60it [00:00, 42224.54it/s]\n",
      "0it [00:00, ?it/s]"
     ]
    },
    {
     "name": "stdout",
     "output_type": "stream",
     "text": [
      "45\n",
      "37\n",
      "59\n",
      "55\n",
      "47\n",
      "59\n"
     ]
    },
    {
     "name": "stderr",
     "output_type": "stream",
     "text": [
      "39it [00:00, 39086.70it/s]\n",
      "42it [00:00, 39286.52it/s]\n",
      "43it [00:00, 38089.77it/s]\n",
      "41it [00:00, 39927.20it/s]\n",
      "47it [00:00, 41738.79it/s]\n",
      "47it [00:00, 40239.29it/s]\n"
     ]
    },
    {
     "name": "stdout",
     "output_type": "stream",
     "text": [
      "38\n",
      "41\n",
      "42\n",
      "40\n",
      "46\n",
      "46\n"
     ]
    },
    {
     "name": "stderr",
     "output_type": "stream",
     "text": [
      "46it [00:00, 40111.85it/s]\n",
      "46it [00:00, 41376.36it/s]\n",
      "43it [00:00, 40492.83it/s]\n",
      "41it [00:00, 40837.44it/s]\n",
      "47it [00:00, 41809.61it/s]\n",
      "38it [00:00, 40627.98it/s]\n",
      "66it [00:00, 42230.98it/s]\n"
     ]
    },
    {
     "name": "stdout",
     "output_type": "stream",
     "text": [
      "45\n",
      "45\n",
      "42\n",
      "40\n",
      "46\n",
      "37\n",
      "65\n"
     ]
    },
    {
     "name": "stderr",
     "output_type": "stream",
     "text": [
      "43it [00:00, 33517.02it/s]\n",
      "39it [00:00, 37716.82it/s]\n",
      "35it [00:00, 41259.31it/s]\n",
      "44it [00:00, 40811.45it/s]\n",
      "58it [00:00, 42153.81it/s]\n",
      "45it [00:00, 39652.03it/s]\n",
      "48it [00:00, 42030.60it/s]\n"
     ]
    },
    {
     "name": "stdout",
     "output_type": "stream",
     "text": [
      "42\n",
      "38\n",
      "34\n",
      "43\n",
      "57\n",
      "44\n",
      "47\n"
     ]
    },
    {
     "name": "stderr",
     "output_type": "stream",
     "text": [
      "58it [00:00, 41218.17it/s]\n",
      "52it [00:00, 40277.71it/s]\n",
      "41it [00:00, 40358.24it/s]\n",
      "53it [00:00, 41204.47it/s]\n",
      "37it [00:00, 41427.99it/s]\n",
      "37it [00:00, 39408.14it/s]\n",
      "51it [00:00, 40246.38it/s]\n"
     ]
    },
    {
     "name": "stdout",
     "output_type": "stream",
     "text": [
      "57\n",
      "51\n",
      "40\n",
      "52\n",
      "36\n",
      "36\n",
      "50\n"
     ]
    },
    {
     "name": "stderr",
     "output_type": "stream",
     "text": [
      "46it [00:00, 40279.33it/s]\n",
      "43it [00:00, 40365.95it/s]\n",
      "51it [00:00, 40451.87it/s]\n",
      "54it [00:00, 42454.06it/s]\n",
      "50it [00:00, 39779.06it/s]\n",
      "55it [00:00, 41040.16it/s]\n",
      "53it [00:00, 40609.81it/s]"
     ]
    },
    {
     "name": "stdout",
     "output_type": "stream",
     "text": [
      "45\n",
      "42\n",
      "50\n",
      "53\n",
      "49\n",
      "54\n"
     ]
    },
    {
     "name": "stderr",
     "output_type": "stream",
     "text": [
      "\n",
      "41it [00:00, 39532.52it/s]\n",
      "38it [00:00, 39706.91it/s]\n",
      "50it [00:00, 41421.13it/s]\n",
      "47it [00:00, 41694.65it/s]\n",
      "60it [00:00, 42610.61it/s]\n",
      "63it [00:00, 42448.38it/s]\n"
     ]
    },
    {
     "name": "stdout",
     "output_type": "stream",
     "text": [
      "52\n",
      "40\n",
      "37\n",
      "49\n",
      "46\n",
      "59\n",
      "62\n"
     ]
    },
    {
     "name": "stderr",
     "output_type": "stream",
     "text": [
      "50it [00:00, 40642.48it/s]\n",
      "46it [00:00, 40346.71it/s]\n",
      "64it [00:00, 42413.57it/s]\n",
      "48it [00:00, 41247.00it/s]\n",
      "44it [00:00, 40974.55it/s]\n",
      "57it [00:00, 42829.69it/s]\n"
     ]
    },
    {
     "name": "stdout",
     "output_type": "stream",
     "text": [
      "49\n",
      "45\n",
      "63\n",
      "47\n",
      "43\n",
      "56\n"
     ]
    },
    {
     "name": "stderr",
     "output_type": "stream",
     "text": [
      "47it [00:00, 39105.79it/s]\n",
      "52it [00:00, 40434.52it/s]\n",
      "51it [00:00, 40628.59it/s]\n",
      "45it [00:00, 40730.19it/s]\n",
      "43it [00:00, 41027.09it/s]\n",
      "50it [00:00, 41437.50it/s]\n",
      "51it [00:00, 42366.71it/s]\n"
     ]
    },
    {
     "name": "stdout",
     "output_type": "stream",
     "text": [
      "46\n",
      "51\n",
      "50\n",
      "44\n",
      "42\n",
      "49\n",
      "50\n"
     ]
    },
    {
     "name": "stderr",
     "output_type": "stream",
     "text": [
      "61it [00:00, 41635.89it/s]\n",
      "44it [00:00, 40929.11it/s]\n",
      "53it [00:00, 41373.18it/s]\n",
      "35it [00:00, 41363.94it/s]\n",
      "42it [00:00, 39891.48it/s]\n",
      "47it [00:00, 42194.41it/s]\n",
      "51it [00:00, 42467.64it/s]\n"
     ]
    },
    {
     "name": "stdout",
     "output_type": "stream",
     "text": [
      "60\n",
      "43\n",
      "52\n",
      "34\n",
      "41\n",
      "46\n",
      "50\n"
     ]
    },
    {
     "name": "stderr",
     "output_type": "stream",
     "text": [
      "44it [00:00, 40294.62it/s]\n",
      "56it [00:00, 41084.66it/s]\n",
      "44it [00:00, 38901.64it/s]\n",
      "49it [00:00, 40456.87it/s]\n",
      "47it [00:00, 39961.95it/s]\n",
      "45it [00:00, 41318.67it/s]\n",
      "54it [00:00, 41726.68it/s]\n"
     ]
    },
    {
     "name": "stdout",
     "output_type": "stream",
     "text": [
      "43\n",
      "55\n",
      "43\n",
      "48\n",
      "46\n",
      "44\n",
      "53\n"
     ]
    },
    {
     "name": "stderr",
     "output_type": "stream",
     "text": [
      "49it [00:00, 40964.90it/s]\n",
      "46it [00:00, 41933.92it/s]\n",
      "51it [00:00, 41828.22it/s]\n",
      "41it [00:00, 40038.76it/s]\n",
      "38it [00:00, 38535.68it/s]\n",
      "43it [00:00, 41101.89it/s]\n",
      "45it [00:00, 41084.82it/s]\n"
     ]
    },
    {
     "name": "stdout",
     "output_type": "stream",
     "text": [
      "48\n",
      "45\n",
      "50\n",
      "40\n",
      "37\n",
      "42\n",
      "44\n"
     ]
    },
    {
     "name": "stderr",
     "output_type": "stream",
     "text": [
      "56it [00:00, 40934.30it/s]\n",
      "55it [00:00, 41912.56it/s]\n",
      "49it [00:00, 41477.48it/s]\n",
      "55it [00:00, 41828.96it/s]\n",
      "44it [00:00, 41047.46it/s]\n",
      "39it [00:00, 39838.74it/s]\n",
      "39it [00:00, 39559.34it/s]\n",
      "65it [00:00, 42625.04it/s]\n"
     ]
    },
    {
     "name": "stdout",
     "output_type": "stream",
     "text": [
      "55\n",
      "54\n",
      "48\n",
      "54\n",
      "43\n",
      "38\n",
      "38\n",
      "64\n"
     ]
    },
    {
     "name": "stderr",
     "output_type": "stream",
     "text": [
      "43it [00:00, 40529.23it/s]\n",
      "40it [00:00, 41404.78it/s]\n",
      "42it [00:00, 37737.95it/s]\n",
      "39it [00:00, 40161.52it/s]\n",
      "55it [00:00, 41018.26it/s]\n",
      "47it [00:00, 41052.12it/s]\n",
      "54it [00:00, 41090.79it/s]\n",
      "0it [00:00, ?it/s]"
     ]
    },
    {
     "name": "stdout",
     "output_type": "stream",
     "text": [
      "42\n",
      "39\n",
      "41\n",
      "38\n",
      "54\n",
      "46\n",
      "53\n"
     ]
    },
    {
     "name": "stderr",
     "output_type": "stream",
     "text": [
      "42it [00:00, 40265.32it/s]\n",
      "50it [00:00, 41800.92it/s]\n",
      "48it [00:00, 41459.35it/s]\n",
      "46it [00:00, 40859.38it/s]\n",
      "47it [00:00, 40873.38it/s]\n",
      "47it [00:00, 37006.25it/s]\n",
      "34it [00:00, 41014.19it/s]\n"
     ]
    },
    {
     "name": "stdout",
     "output_type": "stream",
     "text": [
      "41\n",
      "49\n",
      "47\n",
      "45\n",
      "46\n",
      "46\n",
      "33\n"
     ]
    },
    {
     "name": "stderr",
     "output_type": "stream",
     "text": [
      "39it [00:00, 41141.31it/s]\n",
      "30it [00:00, 41268.98it/s]\n",
      "54it [00:00, 40597.31it/s]\n",
      "43it [00:00, 40447.43it/s]\n",
      "33it [00:00, 41157.31it/s]\n",
      "40it [00:00, 41070.30it/s]\n",
      "49it [00:00, 39737.22it/s]\n",
      "0it [00:00, ?it/s]"
     ]
    },
    {
     "name": "stdout",
     "output_type": "stream",
     "text": [
      "38\n",
      "29\n",
      "53\n",
      "42\n",
      "32\n",
      "39\n",
      "48\n"
     ]
    },
    {
     "name": "stderr",
     "output_type": "stream",
     "text": [
      "53it [00:00, 41574.36it/s]\n",
      "43it [00:00, 40556.57it/s]\n",
      "45it [00:00, 41129.59it/s]\n",
      "43it [00:00, 39848.67it/s]\n",
      "44it [00:00, 39963.05it/s]\n",
      "61it [00:00, 42129.51it/s]\n",
      "36it [00:00, 41562.05it/s]\n",
      "44it [00:00, 39041.54it/s]\n",
      "0it [00:00, ?it/s]"
     ]
    },
    {
     "name": "stdout",
     "output_type": "stream",
     "text": [
      "52\n",
      "42\n",
      "44\n",
      "42\n",
      "43\n",
      "60\n",
      "35\n",
      "43\n"
     ]
    },
    {
     "name": "stderr",
     "output_type": "stream",
     "text": [
      "55it [00:00, 40140.37it/s]\n",
      "60it [00:00, 42309.72it/s]\n"
     ]
    },
    {
     "name": "stdout",
     "output_type": "stream",
     "text": [
      "54\n",
      "59\n"
     ]
    },
    {
     "name": "stderr",
     "output_type": "stream",
     "text": [
      "57it [00:00, 41276.82it/s]\n",
      "39it [00:00, 40721.40it/s]\n",
      "52it [00:00, 42276.37it/s]\n",
      "38it [00:00, 40804.80it/s]\n",
      "46it [00:00, 41743.40it/s]\n",
      "43it [00:00, 41826.32it/s]\n",
      "55it [00:00, 41760.81it/s]\n",
      "0it [00:00, ?it/s]"
     ]
    },
    {
     "name": "stdout",
     "output_type": "stream",
     "text": [
      "56\n",
      "38\n",
      "51\n",
      "37\n",
      "45\n",
      "42\n",
      "54\n"
     ]
    },
    {
     "name": "stderr",
     "output_type": "stream",
     "text": [
      "45it [00:00, 40502.94it/s]\n",
      "44it [00:00, 40811.45it/s]\n",
      "43it [00:00, 40266.82it/s]\n",
      "38it [00:00, 36051.47it/s]\n",
      "44it [00:00, 39850.87it/s]\n",
      "51it [00:00, 41527.76it/s]\n",
      "49it [00:00, 41569.76it/s]\n"
     ]
    },
    {
     "name": "stdout",
     "output_type": "stream",
     "text": [
      "44\n",
      "43\n",
      "42\n",
      "37\n",
      "43\n",
      "50\n",
      "48\n"
     ]
    },
    {
     "name": "stderr",
     "output_type": "stream",
     "text": [
      "44it [00:00, 39773.57it/s]\n",
      "57it [00:00, 42760.75it/s]\n",
      "54it [00:00, 41391.16it/s]\n",
      "53it [00:00, 41496.75it/s]\n",
      "44it [00:00, 41462.45it/s]\n",
      "53it [00:00, 41535.52it/s]\n"
     ]
    },
    {
     "name": "stdout",
     "output_type": "stream",
     "text": [
      "43\n",
      "56\n",
      "53\n",
      "52\n",
      "43\n",
      "52\n"
     ]
    },
    {
     "name": "stderr",
     "output_type": "stream",
     "text": [
      "44it [00:00, 40285.83it/s]\n",
      "36it [00:00, 43104.47it/s]\n",
      "47it [00:00, 40124.63it/s]\n",
      "44it [00:00, 41084.01it/s]\n",
      "46it [00:00, 40885.35it/s]\n",
      "43it [00:00, 40593.08it/s]\n",
      "60it [00:00, 41174.45it/s]\n"
     ]
    },
    {
     "name": "stdout",
     "output_type": "stream",
     "text": [
      "43\n",
      "35\n",
      "46\n",
      "43\n",
      "45\n",
      "42\n",
      "59\n"
     ]
    },
    {
     "name": "stderr",
     "output_type": "stream",
     "text": [
      "41it [00:00, 39578.01it/s]\n",
      "49it [00:00, 41628.70it/s]\n",
      "51it [00:00, 42467.64it/s]\n",
      "46it [00:00, 39625.79it/s]\n",
      "54it [00:00, 41474.53it/s]\n",
      "45it [00:00, 40827.10it/s]\n",
      "34it [00:00, 43200.95it/s]\n"
     ]
    },
    {
     "name": "stdout",
     "output_type": "stream",
     "text": [
      "40\n",
      "48\n",
      "50\n",
      "45\n",
      "53\n",
      "44\n",
      "33\n"
     ]
    },
    {
     "name": "stderr",
     "output_type": "stream",
     "text": [
      "53it [00:00, 39852.66it/s]\n",
      "52it [00:00, 41670.58it/s]\n",
      "49it [00:00, 41985.88it/s]\n",
      "52it [00:00, 41464.60it/s]\n",
      "40it [00:00, 40358.95it/s]\n",
      "58it [00:00, 42300.41it/s]\n",
      "0it [00:00, ?it/s]"
     ]
    },
    {
     "name": "stdout",
     "output_type": "stream",
     "text": [
      "52\n",
      "51\n",
      "48\n",
      "51\n",
      "39\n",
      "57\n"
     ]
    },
    {
     "name": "stderr",
     "output_type": "stream",
     "text": [
      "53it [00:00, 40118.77it/s]\n",
      "46it [00:00, 39552.68it/s]\n",
      "52it [00:00, 37225.43it/s]\n",
      "54it [00:00, 41098.24it/s]\n",
      "52it [00:00, 41307.54it/s]\n",
      "46it [00:00, 41933.92it/s]\n",
      "0it [00:00, ?it/s]"
     ]
    },
    {
     "name": "stdout",
     "output_type": "stream",
     "text": [
      "52\n",
      "45\n",
      "51\n",
      "53\n",
      "51\n",
      "45\n"
     ]
    },
    {
     "name": "stderr",
     "output_type": "stream",
     "text": [
      "47it [00:00, 40805.69it/s]\n",
      "49it [00:00, 40689.15it/s]\n",
      "42it [00:00, 40348.32it/s]\n",
      "50it [00:00, 41152.90it/s]\n",
      "56it [00:00, 42520.10it/s]\n",
      "59it [00:00, 41368.09it/s]\n",
      "0it [00:00, ?it/s]"
     ]
    },
    {
     "name": "stdout",
     "output_type": "stream",
     "text": [
      "46\n",
      "48\n",
      "41\n",
      "49\n",
      "55\n",
      "58\n"
     ]
    },
    {
     "name": "stderr",
     "output_type": "stream",
     "text": [
      "50it [00:00, 40485.56it/s]\n",
      "68it [00:00, 42741.30it/s]\n",
      "44it [00:00, 40820.48it/s]\n",
      "42it [00:00, 40815.75it/s]\n",
      "43it [00:00, 40832.03it/s]\n",
      "51it [00:00, 41771.04it/s]\n",
      "0it [00:00, ?it/s]"
     ]
    },
    {
     "name": "stdout",
     "output_type": "stream",
     "text": [
      "49\n",
      "67\n",
      "43\n",
      "41\n",
      "42\n",
      "50\n"
     ]
    },
    {
     "name": "stderr",
     "output_type": "stream",
     "text": [
      "52it [00:00, 39880.02it/s]\n",
      "47it [00:00, 39792.55it/s]\n",
      "50it [00:00, 41250.04it/s]\n",
      "48it [00:00, 40606.41it/s]\n",
      "57it [00:00, 42068.51it/s]\n",
      "47it [00:00, 40907.30it/s]\n"
     ]
    },
    {
     "name": "stdout",
     "output_type": "stream",
     "text": [
      "51\n",
      "46\n",
      "49\n",
      "47\n",
      "56\n",
      "46\n"
     ]
    },
    {
     "name": "stderr",
     "output_type": "stream",
     "text": [
      "48it [00:00, 39732.90it/s]\n",
      "47it [00:00, 40839.50it/s]\n",
      "51it [00:00, 41399.17it/s]\n",
      "38it [00:00, 39925.74it/s]\n",
      "57it [00:00, 41913.63it/s]\n",
      "55it [00:00, 41950.67it/s]\n",
      "43it [00:00, 41308.99it/s]"
     ]
    },
    {
     "name": "stdout",
     "output_type": "stream",
     "text": [
      "47\n",
      "46\n",
      "50\n",
      "37\n",
      "56\n",
      "54\n"
     ]
    },
    {
     "name": "stderr",
     "output_type": "stream",
     "text": [
      "\n",
      "49it [00:00, 42349.25it/s]\n",
      "34it [00:00, 42278.78it/s]\n",
      "54it [00:00, 37811.76it/s]\n",
      "51it [00:00, 41431.24it/s]\n",
      "53it [00:00, 42189.81it/s]\n",
      "43it [00:00, 39490.93it/s]\n",
      "38it [00:00, 41658.01it/s]"
     ]
    },
    {
     "name": "stdout",
     "output_type": "stream",
     "text": [
      "42\n",
      "48\n",
      "33\n",
      "53\n",
      "50\n",
      "52\n",
      "42\n"
     ]
    },
    {
     "name": "stderr",
     "output_type": "stream",
     "text": [
      "\n",
      "45it [00:00, 40572.59it/s]\n",
      "54it [00:00, 42153.81it/s]\n",
      "55it [00:00, 42735.59it/s]\n",
      "51it [00:00, 41901.96it/s]\n",
      "47it [00:00, 41747.63it/s]\n",
      "47it [00:00, 40983.84it/s]"
     ]
    },
    {
     "name": "stdout",
     "output_type": "stream",
     "text": [
      "37\n",
      "44\n",
      "53\n",
      "54\n",
      "50\n",
      "46\n"
     ]
    },
    {
     "name": "stderr",
     "output_type": "stream",
     "text": [
      "\n",
      "58it [00:00, 41662.89it/s]\n",
      "46it [00:00, 40245.72it/s]\n",
      "45it [00:00, 39337.99it/s]\n",
      "54it [00:00, 42091.14it/s]\n",
      "0it [00:00, ?it/s]"
     ]
    },
    {
     "name": "stdout",
     "output_type": "stream",
     "text": [
      "46\n",
      "57\n",
      "45\n",
      "44\n",
      "53\n"
     ]
    },
    {
     "name": "stderr",
     "output_type": "stream",
     "text": [
      "53it [00:00, 351.80it/s]\n",
      "52it [00:00, 41409.49it/s]\n",
      "46it [00:00, 39970.58it/s]\n",
      "51it [00:00, 42249.56it/s]\n",
      "42it [00:00, 41625.89it/s]\n",
      "42it [00:00, 41963.02it/s]\n",
      "44it [00:00, 41240.08it/s]\n"
     ]
    },
    {
     "name": "stdout",
     "output_type": "stream",
     "text": [
      "52\n",
      "51\n",
      "45\n",
      "50\n",
      "41\n",
      "41\n",
      "43\n"
     ]
    },
    {
     "name": "stderr",
     "output_type": "stream",
     "text": [
      "54it [00:00, 41098.24it/s]\n",
      "43it [00:00, 39699.55it/s]\n",
      "67it [00:00, 42112.75it/s]\n",
      "50it [00:00, 41626.68it/s]\n",
      "40it [00:00, 40002.90it/s]\n",
      "51it [00:00, 33707.77it/s]\n"
     ]
    },
    {
     "name": "stdout",
     "output_type": "stream",
     "text": [
      "53\n",
      "42\n",
      "66\n",
      "49\n",
      "39\n",
      "50\n"
     ]
    },
    {
     "name": "stderr",
     "output_type": "stream",
     "text": [
      "38it [00:00, 40545.29it/s]\n",
      "42it [00:00, 40422.39it/s]\n",
      "40it [00:00, 40165.71it/s]\n",
      "53it [00:00, 42189.81it/s]\n",
      "46it [00:00, 41173.28it/s]\n",
      "40it [00:00, 40368.66it/s]\n",
      "55it [00:00, 40974.55it/s]\n"
     ]
    },
    {
     "name": "stdout",
     "output_type": "stream",
     "text": [
      "37\n",
      "41\n",
      "39\n",
      "52\n",
      "45\n",
      "39\n",
      "54\n"
     ]
    },
    {
     "name": "stderr",
     "output_type": "stream",
     "text": [
      "49it [00:00, 40401.20it/s]\n",
      "48it [00:00, 40160.90it/s]\n",
      "49it [00:00, 40697.21it/s]\n",
      "53it [00:00, 41958.87it/s]\n",
      "40it [00:00, 40368.66it/s]\n",
      "48it [00:00, 40713.16it/s]\n",
      "48it [00:00, 41969.27it/s]\n"
     ]
    },
    {
     "name": "stdout",
     "output_type": "stream",
     "text": [
      "48\n",
      "47\n",
      "48\n",
      "52\n",
      "39\n",
      "47\n",
      "47\n"
     ]
    },
    {
     "name": "stderr",
     "output_type": "stream",
     "text": [
      "48it [00:00, 41484.98it/s]\n",
      "45it [00:00, 40218.13it/s]\n",
      "48it [00:00, 40201.00it/s]\n",
      "62it [00:00, 42408.16it/s]\n",
      "39it [00:00, 39274.40it/s]\n",
      "49it [00:00, 42279.55it/s]\n",
      "44it [00:00, 40703.44it/s]\n",
      "0it [00:00, ?it/s]"
     ]
    },
    {
     "name": "stdout",
     "output_type": "stream",
     "text": [
      "47\n",
      "44\n",
      "47\n",
      "61\n",
      "38\n",
      "48\n",
      "43\n"
     ]
    },
    {
     "name": "stderr",
     "output_type": "stream",
     "text": [
      "50it [00:00, 41080.35it/s]\n",
      "52it [00:00, 41638.76it/s]\n",
      "55it [00:00, 40952.73it/s]\n",
      "64it [00:00, 43156.83it/s]\n",
      "47it [00:00, 40412.52it/s]\n",
      "43it [00:00, 40447.43it/s]\n",
      "0it [00:00, ?it/s]"
     ]
    },
    {
     "name": "stdout",
     "output_type": "stream",
     "text": [
      "49\n",
      "51\n",
      "54\n",
      "63\n",
      "46\n",
      "42\n"
     ]
    },
    {
     "name": "stderr",
     "output_type": "stream",
     "text": [
      "43it [00:00, 39344.47it/s]\n",
      "49it [00:00, 41310.73it/s]\n",
      "57it [00:00, 42441.92it/s]\n",
      "43it [00:00, 41546.90it/s]\n",
      "42it [00:00, 41655.42it/s]\n",
      "54it [00:00, 40539.18it/s]\n",
      "53it [00:00, 41052.28it/s]\n",
      "0it [00:00, ?it/s]"
     ]
    },
    {
     "name": "stdout",
     "output_type": "stream",
     "text": [
      "42\n",
      "48\n",
      "56\n",
      "42\n",
      "41\n",
      "53\n",
      "52\n"
     ]
    },
    {
     "name": "stderr",
     "output_type": "stream",
     "text": [
      "54it [00:00, 41098.24it/s]\n",
      "53it [00:00, 41793.22it/s]\n",
      "48it [00:00, 40812.20it/s]\n",
      "49it [00:00, 41519.37it/s]\n",
      "53it [00:00, 40984.17it/s]\n",
      "46it [00:00, 40312.99it/s]\n"
     ]
    },
    {
     "name": "stdout",
     "output_type": "stream",
     "text": [
      "53\n",
      "52\n",
      "47\n",
      "48\n",
      "52\n",
      "45\n"
     ]
    },
    {
     "name": "stderr",
     "output_type": "stream",
     "text": [
      "62it [00:00, 40149.27it/s]\n",
      "52it [00:00, 41066.43it/s]\n",
      "37it [00:00, 41011.96it/s]\n",
      "52it [00:00, 41670.58it/s]\n",
      "52it [00:00, 41050.97it/s]\n",
      "33it [00:00, 40841.56it/s]\n",
      "42it [00:00, 40939.06it/s]\n"
     ]
    },
    {
     "name": "stdout",
     "output_type": "stream",
     "text": [
      "61\n",
      "51\n",
      "36\n",
      "51\n",
      "51\n",
      "32\n",
      "41\n"
     ]
    },
    {
     "name": "stderr",
     "output_type": "stream",
     "text": [
      "44it [00:00, 32190.72it/s]\n",
      "47it [00:00, 40839.50it/s]\n",
      "45it [00:00, 40064.46it/s]\n",
      "56it [00:00, 41055.94it/s]\n",
      "46it [00:00, 40747.20it/s]\n",
      "62it [00:00, 41501.25it/s]\n",
      "0it [00:00, ?it/s]"
     ]
    },
    {
     "name": "stdout",
     "output_type": "stream",
     "text": [
      "43\n",
      "46\n",
      "44\n",
      "55\n",
      "45\n",
      "61\n"
     ]
    },
    {
     "name": "stderr",
     "output_type": "stream",
     "text": [
      "44it [00:00, 39602.87it/s]\n",
      "61it [00:00, 41840.15it/s]\n",
      "45it [00:00, 40906.74it/s]\n",
      "45it [00:00, 40651.23it/s]\n",
      "56it [00:00, 41571.86it/s]\n",
      "55it [00:00, 41851.73it/s]\n"
     ]
    },
    {
     "name": "stdout",
     "output_type": "stream",
     "text": [
      "43\n",
      "60\n",
      "44\n",
      "44\n",
      "55\n",
      "54\n"
     ]
    },
    {
     "name": "stderr",
     "output_type": "stream",
     "text": [
      "44it [00:00, 40560.30it/s]\n",
      "43it [00:00, 40878.30it/s]\n",
      "40it [00:00, 41323.19it/s]\n",
      "45it [00:00, 41905.79it/s]\n",
      "46it [00:00, 38657.18it/s]\n",
      "52it [00:00, 41559.41it/s]\n",
      "46it [00:00, 41287.82it/s]\n"
     ]
    },
    {
     "name": "stdout",
     "output_type": "stream",
     "text": [
      "43\n",
      "42\n",
      "39\n",
      "44\n",
      "45\n",
      "51\n",
      "45\n"
     ]
    },
    {
     "name": "stderr",
     "output_type": "stream",
     "text": [
      "49it [00:00, 40464.83it/s]\n",
      "67it [00:00, 41235.27it/s]\n",
      "41it [00:00, 39163.39it/s]\n",
      "46it [00:00, 40998.30it/s]\n",
      "44it [00:00, 40667.56it/s]\n",
      "64it [00:00, 42984.06it/s]\n",
      "0it [00:00, ?it/s]"
     ]
    },
    {
     "name": "stdout",
     "output_type": "stream",
     "text": [
      "48\n",
      "66\n",
      "40\n",
      "45\n",
      "43\n",
      "63\n"
     ]
    },
    {
     "name": "stderr",
     "output_type": "stream",
     "text": [
      "54it [00:00, 41157.99it/s]\n",
      "51it [00:00, 40628.59it/s]\n",
      "64it [00:00, 42393.47it/s]\n",
      "48it [00:00, 40953.33it/s]\n",
      "55it [00:00, 41572.67it/s]\n",
      "46it [00:00, 40601.43it/s]\n"
     ]
    },
    {
     "name": "stdout",
     "output_type": "stream",
     "text": [
      "53\n",
      "50\n",
      "63\n",
      "47\n",
      "54\n",
      "45\n"
     ]
    },
    {
     "name": "stderr",
     "output_type": "stream",
     "text": [
      "54it [00:00, 38710.04it/s]\n",
      "46it [00:00, 303.81it/s]\n"
     ]
    },
    {
     "name": "stdout",
     "output_type": "stream",
     "text": [
      "53\n",
      "45\n"
     ]
    },
    {
     "name": "stderr",
     "output_type": "stream",
     "text": [
      "45it [00:00, 40695.06it/s]\n",
      "47it [00:00, 40140.97it/s]\n",
      "54it [00:00, 42153.81it/s]\n",
      "41it [00:00, 41338.09it/s]\n",
      "46it [00:00, 41861.14it/s]\n",
      "59it [00:00, 42417.54it/s]\n",
      "60it [00:00, 38432.84it/s]"
     ]
    },
    {
     "name": "stdout",
     "output_type": "stream",
     "text": [
      "44\n",
      "46\n",
      "53\n",
      "40\n",
      "45\n",
      "58\n"
     ]
    },
    {
     "name": "stderr",
     "output_type": "stream",
     "text": [
      "\n",
      "45it [00:00, 39436.62it/s]\n",
      "48it [00:00, 40378.38it/s]\n",
      "55it [00:00, 38167.89it/s]\n",
      "56it [00:00, 41417.92it/s]\n",
      "47it [00:00, 40512.18it/s]\n",
      "58it [00:00, 42124.61it/s]\n"
     ]
    },
    {
     "name": "stdout",
     "output_type": "stream",
     "text": [
      "59\n",
      "44\n",
      "47\n",
      "54\n",
      "55\n",
      "46\n",
      "57\n"
     ]
    },
    {
     "name": "stderr",
     "output_type": "stream",
     "text": [
      "36it [00:00, 41098.24it/s]\n",
      "38it [00:00, 40690.21it/s]\n",
      "47it [00:00, 41009.42it/s]\n",
      "52it [00:00, 41798.35it/s]\n",
      "46it [00:00, 41068.11it/s]\n",
      "51it [00:00, 41263.41it/s]\n",
      "42it [00:00, 40543.33it/s]\n",
      "39it [00:00, 38272.78it/s]\n"
     ]
    },
    {
     "name": "stdout",
     "output_type": "stream",
     "text": [
      "35\n",
      "37\n",
      "46\n",
      "51\n",
      "45\n",
      "50\n",
      "41\n",
      "38\n"
     ]
    },
    {
     "name": "stderr",
     "output_type": "stream",
     "text": [
      "48it [00:00, 40647.40it/s]\n",
      "52it [00:00, 40943.08it/s]\n",
      "46it [00:00, 39929.22it/s]\n",
      "44it [00:00, 40965.46it/s]\n",
      "49it [00:00, 37232.05it/s]\n",
      "60it [00:00, 42048.16it/s]\n",
      "0it [00:00, ?it/s]"
     ]
    },
    {
     "name": "stdout",
     "output_type": "stream",
     "text": [
      "47\n",
      "51\n",
      "45\n",
      "43\n",
      "48\n",
      "59\n"
     ]
    },
    {
     "name": "stderr",
     "output_type": "stream",
     "text": [
      "48it [00:00, 40104.90it/s]\n",
      "47it [00:00, 41009.42it/s]\n",
      "68it [00:00, 42291.32it/s]\n",
      "54it [00:00, 41772.85it/s]\n",
      "37it [00:00, 41616.85it/s]\n",
      "52it [00:00, 40843.41it/s]\n",
      "52it [00:00, 39044.72it/s]\n"
     ]
    },
    {
     "name": "stdout",
     "output_type": "stream",
     "text": [
      "47\n",
      "46\n",
      "67\n",
      "53\n",
      "36\n",
      "51\n",
      "51\n"
     ]
    },
    {
     "name": "stderr",
     "output_type": "stream",
     "text": [
      "41it [00:00, 41120.63it/s]\n",
      "41it [00:00, 39163.39it/s]\n",
      "54it [00:00, 42888.17it/s]\n",
      "46it [00:00, 39962.30it/s]\n",
      "60it [00:00, 41610.16it/s]\n",
      "53it [00:00, 41090.22it/s]\n",
      "47it [00:00, 38337.67it/s]"
     ]
    },
    {
     "name": "stdout",
     "output_type": "stream",
     "text": [
      "40\n",
      "40\n",
      "53\n",
      "45\n",
      "59\n",
      "52\n"
     ]
    },
    {
     "name": "stderr",
     "output_type": "stream",
     "text": [
      "\n",
      "64it [00:00, 42246.69it/s]\n",
      "38it [00:00, 39451.37it/s]\n",
      "49it [00:00, 40227.23it/s]\n",
      "63it [00:00, 42305.66it/s]\n",
      "55it [00:00, 41572.67it/s]\n"
     ]
    },
    {
     "name": "stdout",
     "output_type": "stream",
     "text": [
      "46\n",
      "63\n",
      "37\n",
      "48\n",
      "62\n",
      "54\n"
     ]
    },
    {
     "name": "stderr",
     "output_type": "stream",
     "text": [
      "62it [00:00, 42229.11it/s]\n",
      "48it [00:00, 42295.50it/s]\n",
      "42it [00:00, 41053.55it/s]\n",
      "46it [00:00, 41332.04it/s]\n",
      "55it [00:00, 40989.11it/s]\n",
      "34it [00:00, 41014.19it/s]\n",
      "53it [00:00, 42197.82it/s]\n"
     ]
    },
    {
     "name": "stdout",
     "output_type": "stream",
     "text": [
      "61\n",
      "47\n",
      "41\n",
      "45\n",
      "54\n",
      "33\n",
      "52\n"
     ]
    },
    {
     "name": "stderr",
     "output_type": "stream",
     "text": [
      "47it [00:00, 41336.19it/s]\n",
      "52it [00:00, 41894.70it/s]\n",
      "62it [00:00, 42270.29it/s]\n",
      "46it [00:00, 39789.23it/s]\n",
      "38it [00:00, 39995.87it/s]\n",
      "44it [00:00, 38942.68it/s]\n",
      "67it [00:00, 43220.30it/s]\n"
     ]
    },
    {
     "name": "stdout",
     "output_type": "stream",
     "text": [
      "46\n",
      "51\n",
      "61\n",
      "45\n",
      "37\n",
      "43\n",
      "66\n"
     ]
    },
    {
     "name": "stderr",
     "output_type": "stream",
     "text": [
      "53it [00:00, 41250.35it/s]\n",
      "53it [00:00, 40676.69it/s]\n",
      "31it [00:00, 41185.75it/s]\n",
      "34it [00:00, 42291.32it/s]\n",
      "44it [00:00, 40250.68it/s]\n",
      "48it [00:00, 42136.16it/s]\n",
      "48it [00:00, 41230.10it/s]\n"
     ]
    },
    {
     "name": "stdout",
     "output_type": "stream",
     "text": [
      "52\n",
      "52\n",
      "30\n",
      "33\n",
      "43\n",
      "47\n",
      "47\n"
     ]
    },
    {
     "name": "stderr",
     "output_type": "stream",
     "text": [
      "49it [00:00, 40592.71it/s]\n",
      "40it [00:00, 39993.36it/s]\n",
      "38it [00:00, 39796.14it/s]\n",
      "43it [00:00, 41585.21it/s]\n",
      "60it [00:00, 41713.62it/s]\n",
      "50it [00:00, 36465.87it/s]\n",
      "42it [00:00, 39400.75it/s]\n"
     ]
    },
    {
     "name": "stdout",
     "output_type": "stream",
     "text": [
      "48\n",
      "39\n",
      "37\n",
      "42\n",
      "59\n",
      "49\n",
      "41\n"
     ]
    },
    {
     "name": "stderr",
     "output_type": "stream",
     "text": [
      "68it [00:00, 41667.30it/s]\n",
      "43it [00:00, 40266.82it/s]\n",
      "48it [00:00, 41137.43it/s]\n",
      "59it [00:00, 42057.09it/s]\n",
      "41it [00:00, 39578.01it/s]\n",
      "53it [00:00, 41082.63it/s]\n",
      "0it [00:00, ?it/s]"
     ]
    },
    {
     "name": "stdout",
     "output_type": "stream",
     "text": [
      "67\n",
      "42\n",
      "47\n",
      "58\n",
      "40\n",
      "52\n"
     ]
    },
    {
     "name": "stderr",
     "output_type": "stream",
     "text": [
      "43it [00:00, 39857.47it/s]\n",
      "54it [00:00, 41958.58it/s]\n",
      "45it [00:00, 40424.86it/s]\n",
      "51it [00:00, 42492.95it/s]\n"
     ]
    },
    {
     "name": "stdout",
     "output_type": "stream",
     "text": [
      "42\n",
      "53\n",
      "44\n",
      "50\n"
     ]
    },
    {
     "name": "stderr",
     "output_type": "stream",
     "text": [
      "53it [00:00, 40639.51it/s]\n",
      "45it [00:00, 39785.77it/s]\n",
      "33it [00:00, 42418.64it/s]\n",
      "24it [00:00, 39882.45it/s]\n",
      "47it [00:00, 41597.87it/s]\n",
      "47it [00:00, 42077.33it/s]\n",
      "49it [00:00, 42132.21it/s]\n"
     ]
    },
    {
     "name": "stdout",
     "output_type": "stream",
     "text": [
      "52\n",
      "44\n",
      "32\n",
      "23\n",
      "46\n",
      "46\n",
      "48\n"
     ]
    },
    {
     "name": "stderr",
     "output_type": "stream",
     "text": [
      "49it [00:00, 40737.54it/s]\n",
      "43it [00:00, 38878.01it/s]\n",
      "58it [00:00, 42455.43it/s]\n",
      "40it [00:00, 39107.73it/s]\n",
      "48it [00:00, 41095.45it/s]\n",
      "41it [00:00, 41199.44it/s]\n",
      "46it [00:00, 40824.80it/s]\n"
     ]
    },
    {
     "name": "stdout",
     "output_type": "stream",
     "text": [
      "48\n",
      "42\n",
      "57\n",
      "39\n",
      "47\n",
      "40\n",
      "45\n"
     ]
    },
    {
     "name": "stderr",
     "output_type": "stream",
     "text": [
      "37it [00:00, 41339.70it/s]\n",
      "32it [00:00, 41399.67it/s]\n",
      "34it [00:00, 32662.93it/s]\n",
      "54it [00:00, 41413.86it/s]\n",
      "41it [00:00, 39843.94it/s]\n",
      "39it [00:00, 39387.88it/s]\n",
      "45it [00:00, 39411.92it/s]\n"
     ]
    },
    {
     "name": "stdout",
     "output_type": "stream",
     "text": [
      "36\n",
      "31\n",
      "33\n",
      "53\n",
      "40\n",
      "38\n",
      "44\n"
     ]
    },
    {
     "name": "stderr",
     "output_type": "stream",
     "text": [
      "36it [00:00, 40732.38it/s]\n",
      "33it [00:00, 41627.68it/s]\n",
      "30it [00:00, 40708.22it/s]\n",
      "32it [00:00, 41982.40it/s]\n",
      "41it [00:00, 41002.97it/s]\n",
      "61it [00:00, 41840.15it/s]\n",
      "58it [00:00, 41099.79it/s]\n",
      "0it [00:00, ?it/s]"
     ]
    },
    {
     "name": "stdout",
     "output_type": "stream",
     "text": [
      "35\n",
      "32\n",
      "29\n",
      "31\n",
      "40\n",
      "60\n",
      "57\n"
     ]
    },
    {
     "name": "stderr",
     "output_type": "stream",
     "text": [
      "50it [00:00, 40060.21it/s]\n",
      "53it [00:00, 41769.66it/s]\n",
      "47it [00:00, 40620.71it/s]\n",
      "59it [00:00, 42200.53it/s]\n",
      "52it [00:00, 41268.46it/s]\n",
      "56it [00:00, 37538.92it/s]\n"
     ]
    },
    {
     "name": "stdout",
     "output_type": "stream",
     "text": [
      "49\n",
      "52\n",
      "46\n",
      "58\n",
      "51\n",
      "55\n"
     ]
    },
    {
     "name": "stderr",
     "output_type": "stream",
     "text": [
      "54it [00:00, 40445.07it/s]\n",
      "41it [00:00, 39614.48it/s]\n",
      "47it [00:00, 40034.99it/s]\n",
      "50it [00:00, 41601.90it/s]\n",
      "46it [00:00, 40321.42it/s]\n",
      "55it [00:00, 42343.38it/s]\n",
      "37it [00:00, 40572.35it/s]\n"
     ]
    },
    {
     "name": "stdout",
     "output_type": "stream",
     "text": [
      "53\n",
      "40\n",
      "46\n",
      "49\n",
      "45\n",
      "54\n",
      "36\n"
     ]
    },
    {
     "name": "stderr",
     "output_type": "stream",
     "text": [
      "49it [00:00, 40705.27it/s]\n",
      "45it [00:00, 41058.01it/s]\n",
      "49it [00:00, 41252.69it/s]\n",
      "54it [00:00, 41217.91it/s]\n",
      "56it [00:00, 42427.93it/s]\n",
      "58it [00:00, 41372.39it/s]\n"
     ]
    },
    {
     "name": "stdout",
     "output_type": "stream",
     "text": [
      "48\n",
      "44\n",
      "48\n",
      "53\n",
      "55\n",
      "57\n"
     ]
    },
    {
     "name": "stderr",
     "output_type": "stream",
     "text": [
      "51it [00:00, 40970.98it/s]\n",
      "47it [00:00, 41043.57it/s]\n",
      "50it [00:00, 37759.31it/s]\n",
      "51it [00:00, 41407.18it/s]\n",
      "50it [00:00, 41462.08it/s]\n",
      "68it [00:00, 42373.00it/s]\n",
      "38it [00:00, 39093.34it/s]\n",
      "0it [00:00, ?it/s]"
     ]
    },
    {
     "name": "stdout",
     "output_type": "stream",
     "text": [
      "50\n",
      "46\n",
      "49\n",
      "50\n",
      "49\n",
      "67\n",
      "37\n"
     ]
    },
    {
     "name": "stderr",
     "output_type": "stream",
     "text": [
      "54it [00:00, 40539.18it/s]\n",
      "33it [00:00, 41665.27it/s]\n",
      "49it [00:00, 41038.52it/s]\n",
      "39it [00:00, 40210.88it/s]\n",
      "41it [00:00, 41120.63it/s]\n",
      "55it [00:00, 41482.96it/s]\n",
      "56it [00:00, 42176.52it/s]\n",
      "41it [00:00, 39733.47it/s]"
     ]
    },
    {
     "name": "stdout",
     "output_type": "stream",
     "text": [
      "53\n",
      "32\n",
      "48\n",
      "38\n",
      "40\n",
      "54\n",
      "55\n"
     ]
    },
    {
     "name": "stderr",
     "output_type": "stream",
     "text": [
      "\n",
      "48it [00:00, 40541.00it/s]\n",
      "62it [00:00, 43211.51it/s]\n",
      "45it [00:00, 37434.29it/s]\n",
      "49it [00:00, 39837.35it/s]\n",
      "48it [00:00, 41408.18it/s]\n",
      "43it [00:00, 40529.23it/s]\n"
     ]
    },
    {
     "name": "stdout",
     "output_type": "stream",
     "text": [
      "40\n",
      "47\n",
      "61\n",
      "44\n",
      "48\n",
      "47\n",
      "42\n"
     ]
    },
    {
     "name": "stderr",
     "output_type": "stream",
     "text": [
      "45it [00:00, 40183.88it/s]\n",
      "36it [00:00, 41954.69it/s]\n",
      "41it [00:00, 41377.88it/s]\n",
      "50it [00:00, 41676.31it/s]\n",
      "45it [00:00, 40398.90it/s]\n",
      "55it [00:00, 40778.99it/s]\n",
      "57it [00:00, 41248.33it/s]\n"
     ]
    },
    {
     "name": "stdout",
     "output_type": "stream",
     "text": [
      "44\n",
      "35\n",
      "40\n",
      "49\n",
      "44\n",
      "54\n",
      "56\n"
     ]
    },
    {
     "name": "stderr",
     "output_type": "stream",
     "text": [
      "46it [00:00, 39896.19it/s]\n",
      "50it [00:00, 40353.13it/s]\n",
      "45it [00:00, 41509.50it/s]\n",
      "42it [00:00, 40468.82it/s]\n",
      "44it [00:00, 41038.33it/s]\n",
      "48it [00:00, 40978.34it/s]\n",
      "54it [00:00, 38856.14it/s]\n",
      "57it [00:00, 41312.48it/s]\n"
     ]
    },
    {
     "name": "stdout",
     "output_type": "stream",
     "text": [
      "45\n",
      "49\n",
      "44\n",
      "41\n",
      "43\n",
      "47\n",
      "53\n",
      "56\n"
     ]
    },
    {
     "name": "stderr",
     "output_type": "stream",
     "text": [
      "56it [00:00, 41913.10it/s]\n",
      "51it [00:00, 40970.98it/s]\n",
      "37it [00:00, 41616.85it/s]\n",
      "54it [00:00, 41634.64it/s]\n",
      "52it [00:00, 40122.11it/s]\n",
      "38it [00:00, 39995.87it/s]\n",
      "42it [00:00, 41332.89it/s]\n"
     ]
    },
    {
     "name": "stdout",
     "output_type": "stream",
     "text": [
      "55\n",
      "50\n",
      "36\n",
      "53\n",
      "51\n",
      "37\n",
      "41\n"
     ]
    },
    {
     "name": "stderr",
     "output_type": "stream",
     "text": [
      "39it [00:00, 39761.27it/s]\n",
      "52it [00:00, 41734.37it/s]\n",
      "49it [00:00, 40899.68it/s]\n",
      "52it [00:00, 42104.98it/s]\n",
      "48it [00:00, 42206.83it/s]\n",
      "0it [00:00, ?it/s]"
     ]
    },
    {
     "name": "stdout",
     "output_type": "stream",
     "text": [
      "38\n",
      "51\n",
      "48\n",
      "51\n",
      "47\n"
     ]
    },
    {
     "name": "stderr",
     "output_type": "stream",
     "text": [
      "43it [00:00, 39998.91it/s]\n",
      "56it [00:00, 41860.81it/s]\n",
      "49it [00:00, 42166.78it/s]\n",
      "43it [00:00, 41460.94it/s]\n",
      "48it [00:00, 42039.38it/s]\n",
      "48it [00:00, 42554.76it/s]\n",
      "46it [00:00, 42273.88it/s]\n"
     ]
    },
    {
     "name": "stdout",
     "output_type": "stream",
     "text": [
      "42\n",
      "55\n",
      "48\n",
      "42\n",
      "47\n",
      "47\n",
      "45\n"
     ]
    },
    {
     "name": "stderr",
     "output_type": "stream",
     "text": [
      "49it [00:00, 42279.55it/s]\n",
      "43it [00:00, 39673.36it/s]\n",
      "41it [00:00, 39770.23it/s]\n",
      "40it [00:00, 39681.21it/s]\n",
      "51it [00:00, 42569.06it/s]\n",
      "52it [00:00, 41299.72it/s]\n",
      "46it [00:00, 40103.51it/s]\n"
     ]
    },
    {
     "name": "stdout",
     "output_type": "stream",
     "text": [
      "48\n",
      "42\n",
      "40\n",
      "39\n",
      "50\n",
      "51\n",
      "45\n"
     ]
    },
    {
     "name": "stderr",
     "output_type": "stream",
     "text": [
      "48it [00:00, 40233.13it/s]\n",
      "43it [00:00, 40186.07it/s]\n",
      "62it [00:00, 42546.93it/s]\n",
      "44it [00:00, 41276.98it/s]\n",
      "52it [00:00, 41043.25it/s]\n",
      "51it [00:00, 41160.19it/s]\n"
     ]
    },
    {
     "name": "stdout",
     "output_type": "stream",
     "text": [
      "47\n",
      "42\n",
      "61\n",
      "43\n",
      "51\n",
      "50\n"
     ]
    },
    {
     "name": "stderr",
     "output_type": "stream",
     "text": [
      "43it [00:00, 38911.56it/s]\n",
      "46it [00:00, 40859.38it/s]\n",
      "47it [00:00, 40864.90it/s]\n",
      "47it [00:00, 41703.47it/s]\n",
      "37it [00:00, 41706.33it/s]\n",
      "41it [00:00, 39279.69it/s]\n",
      "45it [00:00, 40218.13it/s]\n"
     ]
    },
    {
     "name": "stdout",
     "output_type": "stream",
     "text": [
      "42\n",
      "45\n",
      "46\n",
      "46\n",
      "36\n",
      "40\n",
      "44\n"
     ]
    },
    {
     "name": "stderr",
     "output_type": "stream",
     "text": [
      "47it [00:00, 39889.17it/s]\n",
      "56it [00:00, 41417.92it/s]\n",
      "40it [00:00, 39107.73it/s]\n",
      "46it [00:00, 41296.66it/s]\n",
      "43it [00:00, 39769.59it/s]\n",
      "65it [00:00, 42157.07it/s]\n",
      "54it [00:00, 40337.03it/s]"
     ]
    },
    {
     "name": "stdout",
     "output_type": "stream",
     "text": [
      "46\n",
      "55\n",
      "39\n",
      "45\n",
      "42\n",
      "64\n"
     ]
    },
    {
     "name": "stderr",
     "output_type": "stream",
     "text": [
      "\n",
      "45it [00:00, 40686.29it/s]\n",
      "44it [00:00, 40739.38it/s]\n",
      "35it [00:00, 41317.38it/s]\n",
      "51it [00:00, 42249.56it/s]\n",
      "43it [00:00, 41252.30it/s]\n",
      "53it [00:00, 42358.63it/s]\n"
     ]
    },
    {
     "name": "stdout",
     "output_type": "stream",
     "text": [
      "53\n",
      "44\n",
      "43\n",
      "34\n",
      "50\n",
      "42\n",
      "52\n"
     ]
    },
    {
     "name": "stderr",
     "output_type": "stream",
     "text": [
      "47it [00:00, 39792.55it/s]\n",
      "34it [00:00, 41771.04it/s]\n",
      "57it [00:00, 41269.69it/s]\n",
      "36it [00:00, 40864.67it/s]\n",
      "39it [00:00, 40171.38it/s]\n",
      "48it [00:00, 40297.56it/s]\n",
      "45it [00:00, 40906.74it/s]\n",
      "0it [00:00, ?it/s]"
     ]
    },
    {
     "name": "stdout",
     "output_type": "stream",
     "text": [
      "46\n",
      "33\n",
      "56\n",
      "35\n",
      "38\n",
      "47\n",
      "44\n"
     ]
    },
    {
     "name": "stderr",
     "output_type": "stream",
     "text": [
      "51it [00:00, 39170.39it/s]\n",
      "54it [00:00, 41031.23it/s]\n",
      "50it [00:00, 40090.84it/s]\n",
      "50it [00:00, 41494.90it/s]\n",
      "35it [00:00, 42774.08it/s]\n",
      "48it [00:00, 42030.60it/s]\n",
      "44it [00:00, 40587.06it/s]\n"
     ]
    },
    {
     "name": "stdout",
     "output_type": "stream",
     "text": [
      "50\n",
      "53\n",
      "49\n",
      "49\n",
      "34\n",
      "47\n",
      "43\n"
     ]
    },
    {
     "name": "stderr",
     "output_type": "stream",
     "text": [
      "36it [00:00, 41711.31it/s]\n",
      "53it [00:00, 40366.46it/s]\n",
      "34it [00:00, 42979.61it/s]\n",
      "54it [00:00, 41535.38it/s]\n",
      "63it [00:00, 41095.05it/s]\n",
      "48it [00:00, 42065.73it/s]\n",
      "47it [00:00, 41519.02it/s]\n"
     ]
    },
    {
     "name": "stdout",
     "output_type": "stream",
     "text": [
      "35\n",
      "52\n",
      "33\n",
      "53\n",
      "62\n",
      "47\n",
      "46\n"
     ]
    },
    {
     "name": "stderr",
     "output_type": "stream",
     "text": [
      "55it [00:00, 41349.12it/s]\n",
      "36it [00:00, 41289.29it/s]\n",
      "55it [00:00, 38224.81it/s]\n",
      "40it [00:00, 39062.20it/s]\n",
      "45it [00:00, 40986.68it/s]\n",
      "49it [00:00, 41519.37it/s]\n",
      "53it [00:00, 34326.45it/s]"
     ]
    },
    {
     "name": "stdout",
     "output_type": "stream",
     "text": [
      "54\n",
      "35\n",
      "54\n",
      "39\n",
      "44\n",
      "48\n"
     ]
    },
    {
     "name": "stderr",
     "output_type": "stream",
     "text": [
      "\n",
      "47it [00:00, 38367.51it/s]\n",
      "46it [00:00, 40145.23it/s]\n",
      "48it [00:00, 41484.98it/s]\n",
      "55it [00:00, 41572.67it/s]\n",
      "42it [00:00, 40228.54it/s]\n",
      "38it [00:00, 40391.17it/s]"
     ]
    },
    {
     "name": "stdout",
     "output_type": "stream",
     "text": [
      "52\n",
      "46\n",
      "45\n",
      "47\n",
      "54\n",
      "41\n"
     ]
    },
    {
     "name": "stderr",
     "output_type": "stream",
     "text": [
      "\n",
      "39it [00:00, 40670.77it/s]\n",
      "44it [00:00, 40110.71it/s]\n",
      "52it [00:00, 35297.59it/s]\n",
      "40it [00:00, 39327.74it/s]\n",
      "51it [00:00, 41255.45it/s]\n",
      "58it [00:00, 38485.94it/s]\n"
     ]
    },
    {
     "name": "stdout",
     "output_type": "stream",
     "text": [
      "37\n",
      "38\n",
      "43\n",
      "51\n",
      "39\n",
      "50\n",
      "57\n"
     ]
    },
    {
     "name": "stderr",
     "output_type": "stream",
     "text": [
      "51it [00:00, 40413.66it/s]\n",
      "49it [00:00, 40940.42it/s]\n",
      "39it [00:00, 39799.96it/s]\n",
      "48it [00:00, 32503.49it/s]\n",
      "28it [00:00, 35172.36it/s]\n",
      "38it [00:00, 32205.20it/s]\n",
      "47it [00:00, 40831.05it/s]\n",
      "0it [00:00, ?it/s]"
     ]
    },
    {
     "name": "stdout",
     "output_type": "stream",
     "text": [
      "50\n",
      "48\n",
      "38\n",
      "47\n",
      "27\n",
      "37\n",
      "46\n"
     ]
    },
    {
     "name": "stderr",
     "output_type": "stream",
     "text": [
      "46it [00:00, 36534.37it/s]\n",
      "46it [00:00, 36369.08it/s]\n",
      "50it [00:00, 41917.89it/s]\n",
      "33it [00:00, 40003.48it/s]\n",
      "47it [00:00, 34082.35it/s]\n",
      "42it [00:00, 38354.18it/s]\n",
      "57it [00:00, 41578.32it/s]\n"
     ]
    },
    {
     "name": "stdout",
     "output_type": "stream",
     "text": [
      "45\n",
      "45\n",
      "49\n",
      "32\n",
      "46\n",
      "41\n",
      "56\n"
     ]
    },
    {
     "name": "stderr",
     "output_type": "stream",
     "text": [
      "42it [00:00, 40036.54it/s]\n",
      "52it [00:00, 41758.34it/s]\n",
      "49it [00:00, 40632.84it/s]\n",
      "52it [00:00, 41331.02it/s]\n",
      "55it [00:00, 41105.97it/s]\n",
      "40it [00:00, 40127.28it/s]\n",
      "52it [00:00, 37462.01it/s]\n"
     ]
    },
    {
     "name": "stdout",
     "output_type": "stream",
     "text": [
      "41\n",
      "51\n",
      "48\n",
      "51\n",
      "54\n",
      "39\n",
      "51\n"
     ]
    },
    {
     "name": "stderr",
     "output_type": "stream",
     "text": [
      "34it [00:00, 34487.63it/s]\n",
      "41it [00:00, 39270.72it/s]\n",
      "41it [00:00, 40197.86it/s]\n",
      "46it [00:00, 40070.19it/s]\n",
      "44it [00:00, 39937.11it/s]\n",
      "39it [00:00, 40419.53it/s]\n",
      "42it [00:00, 39991.09it/s]\n"
     ]
    },
    {
     "name": "stdout",
     "output_type": "stream",
     "text": [
      "33\n",
      "40\n",
      "40\n",
      "45\n",
      "43\n",
      "38\n",
      "41\n"
     ]
    },
    {
     "name": "stderr",
     "output_type": "stream",
     "text": [
      "42it [00:00, 39702.67it/s]\n",
      "42it [00:00, 40977.15it/s]\n",
      "46it [00:00, 40003.73it/s]\n",
      "54it [00:00, 41927.51it/s]\n",
      "56it [00:00, 41425.22it/s]\n",
      "54it [00:00, 41857.77it/s]\n",
      "0it [00:00, ?it/s]"
     ]
    },
    {
     "name": "stdout",
     "output_type": "stream",
     "text": [
      "41\n",
      "41\n",
      "45\n",
      "53\n",
      "55\n",
      "53\n"
     ]
    },
    {
     "name": "stderr",
     "output_type": "stream",
     "text": [
      "37it [00:00, 41055.36it/s]\n",
      "62it [00:00, 41855.28it/s]\n",
      "47it [00:00, 40206.46it/s]\n",
      "42it [00:00, 36900.04it/s]\n",
      "43it [00:00, 41224.02it/s]\n",
      "47it [00:00, 42149.30it/s]\n",
      "58it [00:00, 43064.19it/s]\n"
     ]
    },
    {
     "name": "stdout",
     "output_type": "stream",
     "text": [
      "36\n",
      "61\n",
      "46\n",
      "41\n",
      "42\n",
      "46\n",
      "57\n"
     ]
    },
    {
     "name": "stderr",
     "output_type": "stream",
     "text": [
      "55it [00:00, 40322.80it/s]\n",
      "48it [00:00, 40886.80it/s]\n",
      "37it [00:00, 41527.76it/s]\n",
      "43it [00:00, 41176.96it/s]\n",
      "46it [00:00, 42016.11it/s]\n",
      "47it [00:00, 41925.20it/s]\n",
      "51it [00:00, 41463.37it/s]\n"
     ]
    },
    {
     "name": "stdout",
     "output_type": "stream",
     "text": [
      "54\n",
      "47\n",
      "36\n",
      "42\n",
      "45\n",
      "46\n",
      "50\n"
     ]
    },
    {
     "name": "stderr",
     "output_type": "stream",
     "text": [
      "40it [00:00, 38755.41it/s]\n",
      "42it [00:00, 39365.53it/s]\n",
      "47it [00:00, 40100.14it/s]\n",
      "46it [00:00, 39863.22it/s]\n",
      "41it [00:00, 40038.76it/s]\n",
      "44it [00:00, 39458.92it/s]\n",
      "55it [00:00, 41640.20it/s]\n",
      "0it [00:00, ?it/s]"
     ]
    },
    {
     "name": "stdout",
     "output_type": "stream",
     "text": [
      "39\n",
      "41\n",
      "46\n",
      "45\n",
      "40\n",
      "43\n",
      "54\n"
     ]
    },
    {
     "name": "stderr",
     "output_type": "stream",
     "text": [
      "58it [00:00, 41485.27it/s]\n",
      "45it [00:00, 40730.19it/s]\n",
      "62it [00:00, 43240.25it/s]\n",
      "47it [00:00, 40305.11it/s]\n",
      "56it [00:00, 41265.11it/s]\n",
      "45it [00:00, 40295.41it/s]\n",
      "0it [00:00, ?it/s]"
     ]
    },
    {
     "name": "stdout",
     "output_type": "stream",
     "text": [
      "57\n",
      "44\n",
      "61\n",
      "46\n",
      "55\n",
      "44\n"
     ]
    },
    {
     "name": "stderr",
     "output_type": "stream",
     "text": [
      "46it [00:00, 39929.22it/s]\n",
      "41it [00:00, 40434.16it/s]\n",
      "53it [00:00, 40991.72it/s]\n",
      "46it [00:00, 42006.96it/s]\n",
      "46it [00:00, 42052.74it/s]\n",
      "49it [00:00, 41178.30it/s]\n",
      "46it [00:00, 40414.32it/s]\n"
     ]
    },
    {
     "name": "stdout",
     "output_type": "stream",
     "text": [
      "45\n",
      "40\n",
      "52\n",
      "45\n",
      "45\n",
      "48\n",
      "45\n"
     ]
    },
    {
     "name": "stderr",
     "output_type": "stream",
     "text": [
      "46it [00:00, 37010.93it/s]\n",
      "34it [00:00, 40478.66it/s]\n",
      "53it [00:00, 40587.57it/s]\n",
      "48it [00:00, 40241.17it/s]\n",
      "43it [00:00, 40869.04it/s]\n",
      "48it [00:00, 40305.62it/s]\n",
      "48it [00:00, 40435.15it/s]\n"
     ]
    },
    {
     "name": "stdout",
     "output_type": "stream",
     "text": [
      "45\n",
      "33\n",
      "52\n",
      "47\n",
      "42\n",
      "47\n",
      "47\n"
     ]
    },
    {
     "name": "stderr",
     "output_type": "stream",
     "text": [
      "53it [00:00, 36779.97it/s]\n",
      "54it [00:00, 40728.72it/s]\n",
      "42it [00:00, 39551.14it/s]\n",
      "52it [00:00, 42202.75it/s]\n",
      "42it [00:00, 40072.97it/s]\n",
      "43it [00:00, 40447.43it/s]\n",
      "56it [00:00, 42916.32it/s]\n"
     ]
    },
    {
     "name": "stdout",
     "output_type": "stream",
     "text": [
      "52\n",
      "53\n",
      "41\n",
      "51\n",
      "41\n",
      "42\n",
      "55\n"
     ]
    },
    {
     "name": "stderr",
     "output_type": "stream",
     "text": [
      "49it [00:00, 39683.51it/s]\n",
      "46it [00:00, 42209.14it/s]\n",
      "58it [00:00, 38614.23it/s]\n",
      "52it [00:00, 37871.82it/s]\n",
      "60it [00:00, 38078.11it/s]\n",
      "41it [00:00, 34988.09it/s]\n",
      "44it [00:00, 37701.61it/s]"
     ]
    },
    {
     "name": "stdout",
     "output_type": "stream",
     "text": [
      "48\n",
      "45\n",
      "57\n",
      "51\n",
      "59\n",
      "40\n"
     ]
    },
    {
     "name": "stderr",
     "output_type": "stream",
     "text": [
      "\n",
      "47it [00:00, 35334.70it/s]\n",
      "37it [00:00, 41427.99it/s]\n",
      "42it [00:00, 40496.73it/s]\n",
      "49it [00:00, 41637.13it/s]\n",
      "53it [00:00, 41504.50it/s]\n",
      "47it [00:00, 40132.79it/s]\n"
     ]
    },
    {
     "name": "stdout",
     "output_type": "stream",
     "text": [
      "43\n",
      "46\n",
      "36\n",
      "41\n",
      "48\n",
      "52\n",
      "46\n"
     ]
    },
    {
     "name": "stderr",
     "output_type": "stream",
     "text": [
      "46it [00:00, 39896.19it/s]\n",
      "50it [00:00, 41462.08it/s]\n",
      "47it [00:00, 40578.90it/s]\n",
      "44it [00:00, 41001.86it/s]\n",
      "47it [00:00, 40412.52it/s]\n",
      "49it [00:00, 40329.85it/s]\n",
      "52it [00:00, 41206.09it/s]\n"
     ]
    },
    {
     "name": "stdout",
     "output_type": "stream",
     "text": [
      "45\n",
      "49\n",
      "46\n",
      "43\n",
      "46\n",
      "48\n",
      "51\n"
     ]
    },
    {
     "name": "stderr",
     "output_type": "stream",
     "text": [
      "54it [00:00, 40481.22it/s]\n",
      "46it [00:00, 40355.15it/s]\n",
      "43it [00:00, 40952.56it/s]\n",
      "36it [00:00, 43018.50it/s]\n",
      "53it [00:00, 41067.45it/s]\n",
      "43it [00:00, 40221.92it/s]\n",
      "48it [00:00, 39468.06it/s]\n",
      "0it [00:00, ?it/s]"
     ]
    },
    {
     "name": "stdout",
     "output_type": "stream",
     "text": [
      "53\n",
      "45\n",
      "42\n",
      "35\n",
      "52\n",
      "42\n",
      "47\n"
     ]
    },
    {
     "name": "stderr",
     "output_type": "stream",
     "text": [
      "46it [00:00, 40380.49it/s]\n",
      "49it [00:00, 39969.06it/s]\n",
      "46it [00:00, 41734.37it/s]\n",
      "32it [00:00, 39910.12it/s]\n",
      "55it [00:00, 42057.74it/s]\n",
      "41it [00:00, 39890.16it/s]\n",
      "50it [00:00, 42409.54it/s]\n",
      "0it [00:00, ?it/s]"
     ]
    },
    {
     "name": "stdout",
     "output_type": "stream",
     "text": [
      "45\n",
      "48\n",
      "45\n",
      "31\n",
      "54\n",
      "40\n",
      "49\n"
     ]
    },
    {
     "name": "stderr",
     "output_type": "stream",
     "text": [
      "44it [00:00, 39568.91it/s]\n",
      "50it [00:00, 40159.94it/s]\n",
      "52it [00:00, 40457.02it/s]\n"
     ]
    },
    {
     "name": "stdout",
     "output_type": "stream",
     "text": [
      "43\n",
      "49\n",
      "51\n"
     ]
    },
    {
     "name": "stderr",
     "output_type": "stream",
     "text": [
      "57it [00:00, 40659.07it/s]\n",
      "46it [00:00, 40524.68it/s]\n",
      "52it [00:00, 42309.18it/s]\n",
      "52it [00:00, 42309.18it/s]\n",
      "41it [00:00, 41367.92it/s]\n",
      "39it [00:00, 41182.74it/s]\n",
      "45it [00:00, 41868.61it/s]\n"
     ]
    },
    {
     "name": "stdout",
     "output_type": "stream",
     "text": [
      "56\n",
      "45\n",
      "51\n",
      "51\n",
      "40\n",
      "38\n",
      "44\n"
     ]
    },
    {
     "name": "stderr",
     "output_type": "stream",
     "text": [
      "43it [00:00, 40420.23it/s]\n",
      "48it [00:00, 41272.36it/s]\n",
      "45it [00:00, 41049.08it/s]\n",
      "52it [00:00, 41393.78it/s]\n",
      "48it [00:00, 42215.68it/s]\n",
      "55it [00:00, 41098.65it/s]\n",
      "51it [00:00, 42124.75it/s]\n",
      "0it [00:00, ?it/s]"
     ]
    },
    {
     "name": "stdout",
     "output_type": "stream",
     "text": [
      "42\n",
      "47\n",
      "44\n",
      "51\n",
      "47\n",
      "54\n",
      "50\n"
     ]
    },
    {
     "name": "stderr",
     "output_type": "stream",
     "text": [
      "48it [00:00, 40329.85it/s]\n",
      "49it [00:00, 40329.85it/s]\n",
      "42it [00:00, 40265.32it/s]\n",
      "40it [00:00, 39300.11it/s]\n",
      "49it [00:00, 42244.79it/s]\n",
      "47it [00:00, 41336.19it/s]\n",
      "60it [00:00, 42048.16it/s]\n"
     ]
    },
    {
     "name": "stdout",
     "output_type": "stream",
     "text": [
      "47\n",
      "48\n",
      "41\n",
      "39\n",
      "48\n",
      "46\n",
      "59\n"
     ]
    },
    {
     "name": "stderr",
     "output_type": "stream",
     "text": [
      "40it [00:00, 39531.61it/s]\n",
      "48it [00:00, 40265.32it/s]\n",
      "50it [00:00, 41396.60it/s]\n",
      "45it [00:00, 41822.22it/s]\n",
      "51it [00:00, 42291.32it/s]\n",
      "45it [00:00, 40468.20it/s]\n",
      "54it [00:00, 41927.51it/s]\n"
     ]
    },
    {
     "name": "stdout",
     "output_type": "stream",
     "text": [
      "39\n",
      "47\n",
      "49\n",
      "44\n",
      "50\n",
      "44\n",
      "53\n"
     ]
    },
    {
     "name": "stderr",
     "output_type": "stream",
     "text": [
      "44it [00:00, 39249.12it/s]\n",
      "60it [00:00, 41466.18it/s]\n",
      "47it [00:00, 42032.47it/s]\n",
      "45it [00:00, 41058.01it/s]\n",
      "43it [00:00, 40302.81it/s]\n",
      "46it [00:00, 40963.48it/s]\n",
      "56it [00:00, 42048.16it/s]\n"
     ]
    },
    {
     "name": "stdout",
     "output_type": "stream",
     "text": [
      "43\n",
      "59\n",
      "46\n",
      "44\n",
      "42\n",
      "45\n",
      "55\n"
     ]
    },
    {
     "name": "stderr",
     "output_type": "stream",
     "text": [
      "35it [00:00, 41166.75it/s]\n",
      "56it [00:00, 42682.36it/s]\n",
      "46it [00:00, 40609.97it/s]\n",
      "45it [00:00, 40468.20it/s]\n",
      "52it [00:00, 41472.49it/s]\n",
      "46it [00:00, 40279.33it/s]\n",
      "44it [00:00, 41350.97it/s]\n"
     ]
    },
    {
     "name": "stdout",
     "output_type": "stream",
     "text": [
      "34\n",
      "55\n",
      "45\n",
      "44\n",
      "51\n",
      "45\n",
      "43\n"
     ]
    },
    {
     "name": "stderr",
     "output_type": "stream",
     "text": [
      "47it [00:00, 35202.19it/s]\n",
      "47it [00:00, 42266.79it/s]\n",
      "53it [00:00, 41411.72it/s]\n",
      "45it [00:00, 41282.52it/s]\n",
      "39it [00:00, 41317.97it/s]\n",
      "36it [00:00, 42402.40it/s]\n",
      "43it [00:00, 39156.55it/s]\n",
      "0it [00:00, ?it/s]"
     ]
    },
    {
     "name": "stdout",
     "output_type": "stream",
     "text": [
      "46\n",
      "46\n",
      "52\n",
      "44\n",
      "38\n",
      "35\n",
      "42\n"
     ]
    },
    {
     "name": "stderr",
     "output_type": "stream",
     "text": [
      "46it [00:00, 40558.75it/s]\n",
      "54it [00:00, 39707.65it/s]\n",
      "39it [00:00, 39626.42it/s]\n",
      "50it [00:00, 40190.72it/s]\n",
      "49it [00:00, 32560.34it/s]\n",
      "39it [00:00, 37000.19it/s]\n",
      "0it [00:00, ?it/s]"
     ]
    },
    {
     "name": "stdout",
     "output_type": "stream",
     "text": [
      "45\n",
      "53\n",
      "38\n",
      "49\n",
      "48\n",
      "38\n"
     ]
    },
    {
     "name": "stderr",
     "output_type": "stream",
     "text": [
      "43it [00:00, 31525.10it/s]\n",
      "48it [00:00, 27272.64it/s]\n",
      "51it [00:00, 34574.03it/s]\n",
      "45it [00:00, 38425.02it/s]\n",
      "40it [00:00, 36235.89it/s]\n",
      "53it [00:00, 39917.06it/s]\n",
      "0it [00:00, ?it/s]"
     ]
    },
    {
     "name": "stdout",
     "output_type": "stream",
     "text": [
      "42\n",
      "47\n",
      "50\n",
      "44\n",
      "39\n",
      "52\n"
     ]
    },
    {
     "name": "stderr",
     "output_type": "stream",
     "text": [
      "41it [00:00, 36310.49it/s]\n",
      "39it [00:00, 33506.32it/s]\n",
      "39it [00:00, 29194.69it/s]\n",
      "43it [00:00, 36657.53it/s]\n",
      "56it [00:00, 40934.30it/s]\n",
      "44it [00:00, 40110.71it/s]\n",
      "42it [00:00, 41459.35it/s]\n"
     ]
    },
    {
     "name": "stdout",
     "output_type": "stream",
     "text": [
      "40\n",
      "38\n",
      "38\n",
      "42\n",
      "55\n",
      "43\n",
      "41\n"
     ]
    },
    {
     "name": "stderr",
     "output_type": "stream",
     "text": [
      "54it [00:00, 41826.85it/s]\n",
      "47it [00:00, 41659.40it/s]\n",
      "46it [00:00, 41888.40it/s]\n",
      "48it [00:00, 41890.68it/s]\n",
      "49it [00:00, 42132.21it/s]\n",
      "41it [00:00, 38609.44it/s]\n",
      "45it [00:00, 40218.13it/s]\n",
      "0it [00:00, ?it/s]"
     ]
    },
    {
     "name": "stdout",
     "output_type": "stream",
     "text": [
      "53\n",
      "46\n",
      "45\n",
      "47\n",
      "48\n",
      "40\n",
      "44\n"
     ]
    },
    {
     "name": "stderr",
     "output_type": "stream",
     "text": [
      "40it [00:00, 38060.83it/s]\n",
      "59it [00:00, 39149.49it/s]\n",
      "43it [00:00, 35984.65it/s]\n",
      "44it [00:00, 26206.95it/s]\n",
      "51it [00:00, 31917.26it/s]\n",
      "55it [00:00, 38269.20it/s]\n"
     ]
    },
    {
     "name": "stdout",
     "output_type": "stream",
     "text": [
      "39\n",
      "58\n",
      "42\n",
      "43\n",
      "50\n",
      "54\n"
     ]
    },
    {
     "name": "stderr",
     "output_type": "stream",
     "text": [
      "37it [00:00, 36888.34it/s]\n",
      "42it [00:00, 39972.94it/s]\n",
      "48it [00:00, 35607.82it/s]\n",
      "31it [00:00, 39750.36it/s]\n",
      "49it [00:00, 36924.34it/s]\n",
      "44it [00:00, 41313.94it/s]\n",
      "54it [00:00, 41187.93it/s]\n",
      "0it [00:00, ?it/s]"
     ]
    },
    {
     "name": "stdout",
     "output_type": "stream",
     "text": [
      "36\n",
      "41\n",
      "47\n",
      "30\n",
      "48\n",
      "43\n",
      "53\n"
     ]
    },
    {
     "name": "stderr",
     "output_type": "stream",
     "text": [
      "47it [00:00, 40338.10it/s]\n",
      "43it [00:00, 39752.05it/s]\n",
      "45it [00:00, 40005.02it/s]\n",
      "36it [00:00, 41244.18it/s]\n",
      "45it [00:00, 40695.06it/s]\n",
      "47it [00:00, 40797.25it/s]\n",
      "47it [00:00, 41043.57it/s]\n"
     ]
    },
    {
     "name": "stdout",
     "output_type": "stream",
     "text": [
      "46\n",
      "42\n",
      "44\n",
      "35\n",
      "44\n",
      "46\n",
      "46\n"
     ]
    },
    {
     "name": "stderr",
     "output_type": "stream",
     "text": [
      "37it [00:00, 231.35it/s]\n",
      "47it [00:00, 41086.35it/s]\n",
      "50it [00:00, 41290.65it/s]\n",
      "46it [00:00, 42043.58it/s]\n",
      "42it [00:00, 41625.89it/s]\n",
      "51it [00:00, 42433.94it/s]\n",
      "41it [00:00, 41199.44it/s]\n"
     ]
    },
    {
     "name": "stdout",
     "output_type": "stream",
     "text": [
      "36\n",
      "46\n",
      "49\n",
      "45\n",
      "41\n",
      "50\n",
      "40\n"
     ]
    },
    {
     "name": "stderr",
     "output_type": "stream",
     "text": [
      "40it [00:00, 39485.09it/s]\n",
      "53it [00:00, 41373.18it/s]\n",
      "40it [00:00, 39794.16it/s]\n",
      "38it [00:00, 39539.46it/s]\n",
      "44it [00:00, 39713.66it/s]\n",
      "47it [00:00, 39696.39it/s]\n",
      "46it [00:00, 41007.01it/s]\n"
     ]
    },
    {
     "name": "stdout",
     "output_type": "stream",
     "text": [
      "39\n",
      "52\n",
      "39\n",
      "37\n",
      "43\n",
      "46\n",
      "45\n"
     ]
    },
    {
     "name": "stderr",
     "output_type": "stream",
     "text": [
      "48it [00:00, 40096.91it/s]\n",
      "44it [00:00, 40595.99it/s]\n",
      "35it [00:00, 41469.11it/s]\n",
      "43it [00:00, 41346.88it/s]\n",
      "49it [00:00, 40125.13it/s]\n",
      "47it [00:00, 41086.35it/s]\n",
      "42it [00:00, 40045.64it/s]\n"
     ]
    },
    {
     "name": "stdout",
     "output_type": "stream",
     "text": [
      "47\n",
      "43\n",
      "34\n",
      "42\n",
      "48\n",
      "46\n",
      "41\n"
     ]
    },
    {
     "name": "stderr",
     "output_type": "stream",
     "text": [
      "47it [00:00, 40272.17it/s]\n",
      "53it [00:00, 41280.99it/s]\n",
      "42it [00:00, 40608.75it/s]\n",
      "55it [00:00, 41700.42it/s]\n",
      "46it [00:00, 39520.28it/s]\n",
      "32it [00:00, 43129.09it/s]\n",
      "41it [00:00, 39614.48it/s]\n"
     ]
    },
    {
     "name": "stdout",
     "output_type": "stream",
     "text": [
      "46\n",
      "52\n",
      "41\n",
      "54\n",
      "45\n",
      "31\n",
      "40\n"
     ]
    },
    {
     "name": "stderr",
     "output_type": "stream",
     "text": [
      "30it [00:00, 40485.56it/s]\n",
      "43it [00:00, 39708.29it/s]\n",
      "58it [00:00, 41784.55it/s]\n",
      "43it [00:00, 40456.50it/s]\n",
      "41it [00:00, 40644.40it/s]\n",
      "58it [00:00, 42117.32it/s]\n",
      "45it [00:00, 40433.52it/s]\n"
     ]
    },
    {
     "name": "stdout",
     "output_type": "stream",
     "text": [
      "29\n",
      "42\n",
      "57\n",
      "42\n",
      "40\n",
      "57\n",
      "44\n"
     ]
    },
    {
     "name": "stderr",
     "output_type": "stream",
     "text": [
      "43it [00:00, 39919.23it/s]\n",
      "47it [00:00, 40805.69it/s]\n",
      "48it [00:00, 40986.68it/s]\n",
      "61it [00:00, 41514.29it/s]\n",
      "41it [00:00, 39505.28it/s]\n",
      "36it [00:00, 42545.77it/s]\n",
      "46it [00:00, 41007.01it/s]\n"
     ]
    },
    {
     "name": "stdout",
     "output_type": "stream",
     "text": [
      "42\n",
      "46\n",
      "47\n",
      "60\n",
      "40\n",
      "35\n",
      "45\n"
     ]
    },
    {
     "name": "stderr",
     "output_type": "stream",
     "text": [
      "41it [00:00, 39541.61it/s]\n",
      "44it [00:00, 39645.41it/s]\n",
      "45it [00:00, 40424.86it/s]\n",
      "51it [00:00, 41665.27it/s]\n",
      "48it [00:00, 41103.84it/s]\n",
      "51it [00:00, 40931.78it/s]\n",
      "48it [00:00, 39937.83it/s]\n"
     ]
    },
    {
     "name": "stdout",
     "output_type": "stream",
     "text": [
      "40\n",
      "43\n",
      "44\n",
      "50\n",
      "47\n",
      "50\n",
      "47\n"
     ]
    },
    {
     "name": "stderr",
     "output_type": "stream",
     "text": [
      "41it [00:00, 38976.99it/s]\n",
      "46it [00:00, 39789.23it/s]\n",
      "52it [00:00, 40494.58it/s]\n",
      "43it [00:00, 40878.30it/s]\n",
      "49it [00:00, 41170.05it/s]\n",
      "48it [00:00, 41374.15it/s]\n",
      "50it [00:00, 40984.01it/s]\n"
     ]
    },
    {
     "name": "stdout",
     "output_type": "stream",
     "text": [
      "40\n",
      "45\n",
      "51\n",
      "42\n",
      "48\n",
      "47\n",
      "49\n"
     ]
    },
    {
     "name": "stderr",
     "output_type": "stream",
     "text": [
      "38it [00:00, 38572.98it/s]\n",
      "39it [00:00, 40925.16it/s]\n",
      "42it [00:00, 40580.69it/s]\n",
      "30it [00:00, 41555.19it/s]\n",
      "42it [00:00, 40155.18it/s]\n",
      "36it [00:00, 42153.81it/s]\n",
      "49it [00:00, 41874.67it/s]\n",
      "48it [00:00, 39866.65it/s]\n"
     ]
    },
    {
     "name": "stdout",
     "output_type": "stream",
     "text": [
      "37\n",
      "38\n",
      "41\n",
      "29\n",
      "41\n",
      "35\n",
      "48\n",
      "47\n"
     ]
    },
    {
     "name": "stderr",
     "output_type": "stream",
     "text": [
      "46it [00:00, 40346.71it/s]\n",
      "43it [00:00, 41508.65it/s]\n",
      "43it [00:00, 40684.65it/s]\n",
      "41it [00:00, 39724.29it/s]\n",
      "40it [00:00, 38532.88it/s]\n",
      "54it [00:00, 40816.80it/s]\n",
      "46it [00:00, 40954.78it/s]\n"
     ]
    },
    {
     "name": "stdout",
     "output_type": "stream",
     "text": [
      "45\n",
      "42\n",
      "42\n",
      "40\n",
      "39\n",
      "53\n",
      "45\n"
     ]
    },
    {
     "name": "stderr",
     "output_type": "stream",
     "text": [
      "44it [00:00, 39249.12it/s]\n",
      "42it [00:00, 40655.61it/s]\n",
      "60it [00:00, 41520.91it/s]\n",
      "39it [00:00, 39236.71it/s]\n",
      "39it [00:00, 41048.40it/s]\n",
      "50it [00:00, 40423.13it/s]\n",
      "48it [00:00, 41630.81it/s]\n",
      "0it [00:00, ?it/s]"
     ]
    },
    {
     "name": "stdout",
     "output_type": "stream",
     "text": [
      "43\n",
      "41\n",
      "59\n",
      "38\n",
      "38\n",
      "49\n",
      "47\n"
     ]
    },
    {
     "name": "stderr",
     "output_type": "stream",
     "text": [
      "36it [00:00, 40897.87it/s]\n",
      "47it [00:00, 41624.22it/s]\n",
      "51it [00:00, 41096.93it/s]\n",
      "48it [00:00, 41314.71it/s]\n",
      "46it [00:00, 40028.63it/s]\n",
      "44it [00:00, 39859.48it/s]\n",
      "36it [00:00, 42969.53it/s]\n",
      "0it [00:00, ?it/s]"
     ]
    },
    {
     "name": "stdout",
     "output_type": "stream",
     "text": [
      "35\n",
      "46\n",
      "50\n",
      "47\n",
      "45\n",
      "43\n",
      "35\n"
     ]
    },
    {
     "name": "stderr",
     "output_type": "stream",
     "text": [
      "41it [00:00, 39342.59it/s]\n",
      "52it [00:00, 41081.90it/s]\n",
      "46it [00:00, 40747.20it/s]\n",
      "54it [00:00, 41406.29it/s]\n",
      "48it [00:00, 40337.93it/s]\n",
      "51it [00:00, 40970.98it/s]\n",
      "40it [00:00, 39841.41it/s]\n"
     ]
    },
    {
     "name": "stdout",
     "output_type": "stream",
     "text": [
      "40\n",
      "51\n",
      "45\n",
      "53\n",
      "47\n",
      "50\n",
      "39\n"
     ]
    },
    {
     "name": "stderr",
     "output_type": "stream",
     "text": [
      "56it [00:00, 41793.78it/s]\n",
      "48it [00:00, 41061.92it/s]\n",
      "55it [00:00, 42080.76it/s]\n",
      "45it [00:00, 40252.44it/s]\n"
     ]
    },
    {
     "name": "stdout",
     "output_type": "stream",
     "text": [
      "55\n",
      "47\n",
      "54\n",
      "44\n"
     ]
    },
    {
     "name": "stderr",
     "output_type": "stream",
     "text": [
      "35it [00:00, 41040.16it/s]\n",
      "43it [00:00, 40338.87it/s]\n",
      "40it [00:00, 41538.04it/s]\n",
      "46it [00:00, 42117.00it/s]\n",
      "49it [00:00, 42210.08it/s]\n",
      "37it [00:00, 40796.33it/s]\n",
      "41it [00:00, 41258.75it/s]\n",
      "0it [00:00, ?it/s]"
     ]
    },
    {
     "name": "stdout",
     "output_type": "stream",
     "text": [
      "34\n",
      "42\n",
      "39\n",
      "45\n",
      "48\n",
      "36\n",
      "40\n"
     ]
    },
    {
     "name": "stderr",
     "output_type": "stream",
     "text": [
      "41it [00:00, 38757.37it/s]\n",
      "45it [00:00, 39752.25it/s]\n",
      "49it [00:00, 39492.87it/s]\n",
      "60it [00:00, 41100.48it/s]\n",
      "44it [00:00, 40444.75it/s]\n",
      "52it [00:00, 42449.16it/s]\n",
      "42it [00:00, 40496.73it/s]\n"
     ]
    },
    {
     "name": "stdout",
     "output_type": "stream",
     "text": [
      "40\n",
      "44\n",
      "48\n",
      "59\n",
      "43\n",
      "51\n",
      "41\n"
     ]
    },
    {
     "name": "stderr",
     "output_type": "stream",
     "text": [
      "40it [00:00, 38347.92it/s]\n",
      "53it [00:00, 40155.01it/s]\n",
      "34it [00:00, 40432.76it/s]\n",
      "60it [00:00, 42857.33it/s]\n",
      "56it [00:00, 42259.99it/s]\n",
      "44it [00:00, 40667.56it/s]\n",
      "41it [00:00, 40310.94it/s]"
     ]
    },
    {
     "name": "stdout",
     "output_type": "stream",
     "text": [
      "39\n",
      "52\n",
      "33\n",
      "59\n",
      "55\n",
      "43\n"
     ]
    },
    {
     "name": "stderr",
     "output_type": "stream",
     "text": [
      "\n",
      "37it [00:00, 38855.60it/s]\n",
      "37it [00:00, 40434.93it/s]\n",
      "41it [00:00, 40510.36it/s]\n",
      "44it [00:00, 40578.14it/s]\n",
      "55it [00:00, 41981.20it/s]\n",
      "37it [00:00, 41999.80it/s]\n"
     ]
    },
    {
     "name": "stdout",
     "output_type": "stream",
     "text": [
      "40\n",
      "36\n",
      "36\n",
      "40\n",
      "43\n",
      "54\n",
      "36\n"
     ]
    },
    {
     "name": "stderr",
     "output_type": "stream",
     "text": [
      "42it [00:00, 38921.95it/s]\n",
      "35it [00:00, 41132.15it/s]\n",
      "44it [00:00, 40929.11it/s]\n",
      "37it [00:00, 42033.92it/s]\n",
      "48it [00:00, 41699.79it/s]\n",
      "50it [00:00, 41258.15it/s]\n",
      "45it [00:00, 40686.29it/s]\n",
      "0it [00:00, ?it/s]"
     ]
    },
    {
     "name": "stdout",
     "output_type": "stream",
     "text": [
      "41\n",
      "34\n",
      "43\n",
      "36\n",
      "47\n",
      "49\n",
      "44\n"
     ]
    },
    {
     "name": "stderr",
     "output_type": "stream",
     "text": [
      "45it [00:00, 40141.15it/s]\n",
      "64it [00:00, 43122.16it/s]\n",
      "51it [00:00, 40892.66it/s]\n",
      "40it [00:00, 39917.24it/s]\n",
      "44it [00:00, 41084.01it/s]\n",
      "42it [00:00, 39891.48it/s]\n",
      "45it [00:00, 41702.09it/s]\n",
      "0it [00:00, ?it/s]"
     ]
    },
    {
     "name": "stdout",
     "output_type": "stream",
     "text": [
      "44\n",
      "63\n",
      "50\n",
      "39\n",
      "43\n",
      "41\n",
      "44\n"
     ]
    },
    {
     "name": "stderr",
     "output_type": "stream",
     "text": [
      "38it [00:00, 38864.56it/s]\n",
      "54it [00:00, 41950.81it/s]\n",
      "42it [00:00, 39330.38it/s]\n",
      "44it [00:00, 40321.03it/s]\n",
      "43it [00:00, 40070.00it/s]\n",
      "49it [00:00, 41874.67it/s]\n",
      "50it [00:00, 40920.04it/s]\n"
     ]
    },
    {
     "name": "stdout",
     "output_type": "stream",
     "text": [
      "37\n",
      "53\n",
      "41\n",
      "43\n",
      "42\n",
      "48\n",
      "49\n"
     ]
    },
    {
     "name": "stderr",
     "output_type": "stream",
     "text": [
      "48it [00:00, 40096.91it/s]\n",
      "42it [00:00, 41469.11it/s]\n",
      "38it [00:00, 40046.12it/s]\n",
      "47it [00:00, 40729.81it/s]\n",
      "46it [00:00, 40136.88it/s]\n",
      "50it [00:00, 40784.75it/s]\n",
      "43it [00:00, 40150.28it/s]\n"
     ]
    },
    {
     "name": "stdout",
     "output_type": "stream",
     "text": [
      "47\n",
      "41\n",
      "37\n",
      "46\n",
      "45\n",
      "49\n",
      "42\n"
     ]
    },
    {
     "name": "stderr",
     "output_type": "stream",
     "text": [
      "59it [00:00, 41611.56it/s]\n",
      "49it [00:00, 40456.87it/s]\n",
      "39it [00:00, 40925.16it/s]\n",
      "39it [00:00, 40369.66it/s]\n",
      "57it [00:00, 41177.29it/s]\n",
      "31it [00:00, 41329.76it/s]\n",
      "44it [00:00, 41323.19it/s]\n"
     ]
    },
    {
     "name": "stdout",
     "output_type": "stream",
     "text": [
      "58\n",
      "48\n",
      "38\n",
      "38\n",
      "56\n",
      "30\n",
      "43\n"
     ]
    },
    {
     "name": "stderr",
     "output_type": "stream",
     "text": [
      "35it [00:00, 40925.74it/s]\n",
      "53it [00:00, 41574.36it/s]\n",
      "46it [00:00, 40712.81it/s]\n",
      "51it [00:00, 41263.41it/s]\n",
      "46it [00:00, 40635.63it/s]\n",
      "61it [00:00, 41751.39it/s]\n",
      "44it [00:00, 40067.17it/s]"
     ]
    },
    {
     "name": "stdout",
     "output_type": "stream",
     "text": [
      "34\n",
      "52\n",
      "45\n",
      "50\n",
      "45\n",
      "60\n"
     ]
    },
    {
     "name": "stderr",
     "output_type": "stream",
     "text": [
      "\n",
      "37it [00:00, 41561.13it/s]\n",
      "55it [00:00, 41851.73it/s]\n",
      "41it [00:00, 40789.01it/s]\n",
      "52it [00:00, 40374.64it/s]\n",
      "36it [00:00, 31943.08it/s]\n",
      "38it [00:00, 40299.25it/s]\n"
     ]
    },
    {
     "name": "stdout",
     "output_type": "stream",
     "text": [
      "43\n",
      "36\n",
      "54\n",
      "40\n",
      "51\n",
      "35\n",
      "37\n"
     ]
    },
    {
     "name": "stderr",
     "output_type": "stream",
     "text": [
      "49it [00:00, 39607.03it/s]\n",
      "47it [00:00, 40729.81it/s]\n",
      "51it [00:00, 41901.96it/s]\n",
      "38it [00:00, 39588.56it/s]\n",
      "55it [00:00, 41179.35it/s]\n",
      "37it [00:00, 41762.45it/s]\n",
      "47it [00:00, 41266.96it/s]\n"
     ]
    },
    {
     "name": "stdout",
     "output_type": "stream",
     "text": [
      "48\n",
      "46\n",
      "50\n",
      "37\n",
      "54\n",
      "36\n",
      "46\n"
     ]
    },
    {
     "name": "stderr",
     "output_type": "stream",
     "text": [
      "32it [00:00, 41070.30it/s]\n",
      "52it [00:00, 40539.74it/s]\n",
      "47it [00:00, 39768.47it/s]\n",
      "37it [00:00, 41897.75it/s]\n",
      "42it [00:00, 40155.18it/s]\n",
      "39it [00:00, 39597.64it/s]\n",
      "48it [00:00, 41630.81it/s]\n",
      "0it [00:00, ?it/s]"
     ]
    },
    {
     "name": "stdout",
     "output_type": "stream",
     "text": [
      "31\n",
      "51\n",
      "46\n",
      "36\n",
      "41\n",
      "38\n",
      "47\n"
     ]
    },
    {
     "name": "stderr",
     "output_type": "stream",
     "text": [
      "35it [00:00, 41764.05it/s]\n",
      "47it [00:00, 39688.40it/s]\n",
      "41it [00:00, 40367.71it/s]\n",
      "42it [00:00, 40348.32it/s]\n",
      "58it [00:00, 41698.60it/s]\n",
      "50it [00:00, 41080.35it/s]\n",
      "46it [00:00, 41226.06it/s]\n"
     ]
    },
    {
     "name": "stdout",
     "output_type": "stream",
     "text": [
      "34\n",
      "46\n",
      "40\n",
      "41\n",
      "57\n",
      "49\n",
      "45\n"
     ]
    },
    {
     "name": "stderr",
     "output_type": "stream",
     "text": [
      "44it [00:00, 39041.54it/s]\n",
      "41it [00:00, 41328.16it/s]\n",
      "51it [00:00, 41503.59it/s]\n",
      "50it [00:00, 41527.76it/s]\n",
      "39it [00:00, 40290.11it/s]\n",
      "43it [00:00, 40266.82it/s]\n",
      "43it [00:00, 39743.29it/s]\n",
      "0it [00:00, ?it/s]"
     ]
    },
    {
     "name": "stdout",
     "output_type": "stream",
     "text": [
      "43\n",
      "40\n",
      "50\n",
      "49\n",
      "38\n",
      "42\n",
      "42\n"
     ]
    },
    {
     "name": "stderr",
     "output_type": "stream",
     "text": [
      "55it [00:00, 40528.24it/s]\n",
      "36it [00:00, 41619.33it/s]\n",
      "52it [00:00, 41599.05it/s]\n",
      "39it [00:00, 241.66it/s]"
     ]
    },
    {
     "name": "stdout",
     "output_type": "stream",
     "text": [
      "54\n",
      "35\n",
      "51\n"
     ]
    },
    {
     "name": "stderr",
     "output_type": "stream",
     "text": [
      "50it [00:00, 307.85it/s]\n",
      "57it [00:00, 42638.72it/s]\n",
      "51it [00:00, 40931.78it/s]\n",
      "55it [00:00, 41828.96it/s]\n",
      "44it [00:00, 41120.63it/s]\n",
      "45it [00:00, 41785.18it/s]\n",
      "0it [00:00, ?it/s]"
     ]
    },
    {
     "name": "stdout",
     "output_type": "stream",
     "text": [
      "49\n",
      "56\n",
      "50\n",
      "54\n",
      "43\n",
      "44\n"
     ]
    },
    {
     "name": "stderr",
     "output_type": "stream",
     "text": [
      "46it [00:00, 41217.26it/s]\n",
      "37it [00:00, 38943.35it/s]\n",
      "44it [00:00, 41443.83it/s]\n",
      "29it [00:00, 40721.40it/s]\n",
      "45it [00:00, 40364.35it/s]\n",
      "46it [00:00, 40524.68it/s]\n",
      "39it [00:00, 40161.52it/s]\n",
      "44it [00:00, 40775.38it/s]"
     ]
    },
    {
     "name": "stdout",
     "output_type": "stream",
     "text": [
      "45\n",
      "36\n",
      "43\n",
      "28\n",
      "44\n",
      "45\n",
      "38\n"
     ]
    },
    {
     "name": "stderr",
     "output_type": "stream",
     "text": [
      "\n",
      "45it [00:00, 40546.44it/s]\n",
      "46it [00:00, 41852.06it/s]\n",
      "40it [00:00, 39841.41it/s]\n",
      "46it [00:00, 40304.57it/s]\n",
      "49it [00:00, 39961.29it/s]\n",
      "41it [00:00, 39414.73it/s]\n",
      "0it [00:00, ?it/s]"
     ]
    },
    {
     "name": "stdout",
     "output_type": "stream",
     "text": [
      "43\n",
      "44\n",
      "45\n",
      "39\n",
      "45\n",
      "48\n",
      "40\n"
     ]
    },
    {
     "name": "stderr",
     "output_type": "stream",
     "text": [
      "47it [00:00, 41449.18it/s]\n",
      "46it [00:00, 41068.11it/s]\n",
      "45it [00:00, 41400.24it/s]\n",
      "55it [00:00, 42042.41it/s]\n",
      "38it [00:00, 40586.59it/s]\n",
      "46it [00:00, 40920.04it/s]\n",
      "52it [00:00, 41934.98it/s]\n"
     ]
    },
    {
     "name": "stdout",
     "output_type": "stream",
     "text": [
      "46\n",
      "45\n",
      "44\n",
      "54\n",
      "37\n",
      "45\n",
      "51\n"
     ]
    },
    {
     "name": "stderr",
     "output_type": "stream",
     "text": [
      "40it [00:00, 39485.09it/s]\n",
      "41it [00:00, 40424.65it/s]\n",
      "42it [00:00, 41255.45it/s]\n",
      "54it [00:00, 42462.02it/s]\n",
      "37it [00:00, 41383.80it/s]\n",
      "43it [00:00, 40795.09it/s]\n",
      "55it [00:00, 41958.30it/s]\n",
      "0it [00:00, ?it/s]"
     ]
    },
    {
     "name": "stdout",
     "output_type": "stream",
     "text": [
      "39\n",
      "40\n",
      "41\n",
      "53\n",
      "36\n",
      "42\n",
      "54\n"
     ]
    },
    {
     "name": "stderr",
     "output_type": "stream",
     "text": [
      "36it [00:00, 41482.13it/s]\n",
      "66it [00:00, 41847.93it/s]\n",
      "46it [00:00, 40920.04it/s]\n",
      "37it [00:00, 39448.21it/s]\n",
      "42it [00:00, 40155.18it/s]\n",
      "49it [00:00, 42210.08it/s]\n",
      "48it [00:00, 41812.38it/s]\n"
     ]
    },
    {
     "name": "stdout",
     "output_type": "stream",
     "text": [
      "35\n",
      "65\n",
      "45\n",
      "36\n",
      "41\n",
      "48\n",
      "47\n"
     ]
    },
    {
     "name": "stderr",
     "output_type": "stream",
     "text": [
      "34it [00:00, 40861.41it/s]\n",
      "49it [00:00, 40568.67it/s]\n",
      "44it [00:00, 40775.38it/s]\n",
      "45it [00:00, 41246.43it/s]\n",
      "44it [00:00, 40110.71it/s]\n",
      "38it [00:00, 40993.71it/s]\n",
      "46it [00:00, 40928.72it/s]\n",
      "0it [00:00, ?it/s]"
     ]
    },
    {
     "name": "stdout",
     "output_type": "stream",
     "text": [
      "33\n",
      "48\n",
      "43\n",
      "44\n",
      "43\n",
      "37\n",
      "45\n"
     ]
    },
    {
     "name": "stderr",
     "output_type": "stream",
     "text": [
      "50it [00:00, 41024.10it/s]\n",
      "41it [00:00, 40386.68it/s]\n",
      "34it [00:00, 43148.66it/s]\n",
      "57it [00:00, 41585.55it/s]\n",
      "52it [00:00, 40751.83it/s]\n",
      "48it [00:00, 41960.52it/s]\n",
      "47it [00:00, 41969.83it/s]\n"
     ]
    },
    {
     "name": "stdout",
     "output_type": "stream",
     "text": [
      "49\n",
      "40\n",
      "33\n",
      "56\n",
      "51\n",
      "47\n",
      "46\n"
     ]
    },
    {
     "name": "stderr",
     "output_type": "stream",
     "text": [
      "35it [00:00, 40552.66it/s]\n",
      "50it [00:00, 41048.19it/s]\n",
      "42it [00:00, 39400.75it/s]\n",
      "48it [00:00, 41314.71it/s]\n",
      "40it [00:00, 40691.77it/s]\n",
      "38it [00:00, 39995.87it/s]\n",
      "49it [00:00, 41536.16it/s]\n"
     ]
    },
    {
     "name": "stdout",
     "output_type": "stream",
     "text": [
      "34\n",
      "49\n",
      "41\n",
      "47\n",
      "39\n",
      "37\n",
      "48\n"
     ]
    },
    {
     "name": "stderr",
     "output_type": "stream",
     "text": [
      "40it [00:00, 38612.70it/s]\n",
      "45it [00:00, 31120.15it/s]\n",
      "40it [00:00, 38026.33it/s]\n",
      "48it [00:00, 39969.54it/s]\n",
      "47it [00:00, 40864.90it/s]\n",
      "39it [00:00, 39916.51it/s]\n",
      "48it [00:00, 40370.28it/s]\n"
     ]
    },
    {
     "name": "stdout",
     "output_type": "stream",
     "text": [
      "39\n",
      "44\n",
      "39\n",
      "47\n",
      "46\n",
      "38\n",
      "47\n"
     ]
    },
    {
     "name": "stderr",
     "output_type": "stream",
     "text": [
      "39it [00:00, 39312.15it/s]\n",
      "50it [00:00, 40944.01it/s]\n",
      "49it [00:00, 40665.00it/s]\n",
      "47it [00:00, 39970.05it/s]\n",
      "48it [00:00, 37268.90it/s]\n",
      "54it [00:00, 39742.48it/s]\n",
      "0it [00:00, ?it/s]"
     ]
    },
    {
     "name": "stdout",
     "output_type": "stream",
     "text": [
      "38\n",
      "49\n",
      "48\n",
      "46\n",
      "47\n",
      "53\n"
     ]
    },
    {
     "name": "stderr",
     "output_type": "stream",
     "text": [
      "42it [00:00, 41586.58it/s]\n",
      "55it [00:00, 40351.01it/s]\n",
      "55it [00:00, 41768.37it/s]\n",
      "44it [00:00, 40560.30it/s]\n",
      "48it [00:00, 40233.13it/s]\n",
      "46it [00:00, 40456.70it/s]\n",
      "42it [00:00, 41178.30it/s]\n"
     ]
    },
    {
     "name": "stdout",
     "output_type": "stream",
     "text": [
      "41\n",
      "54\n",
      "54\n",
      "43\n",
      "47\n",
      "45\n",
      "41\n"
     ]
    },
    {
     "name": "stderr",
     "output_type": "stream",
     "text": [
      "45it [00:00, 40581.31it/s]\n",
      "47it [00:00, 41519.02it/s]\n",
      "58it [00:00, 43186.51it/s]\n",
      "40it [00:00, 39447.96it/s]\n",
      "47it [00:00, 41845.10it/s]\n",
      "38it [00:00, 39627.93it/s]\n",
      "53it [00:00, 42334.43it/s]\n",
      "0it [00:00, ?it/s]"
     ]
    },
    {
     "name": "stdout",
     "output_type": "stream",
     "text": [
      "44\n",
      "46\n",
      "57\n",
      "39\n",
      "46\n",
      "37\n",
      "52\n"
     ]
    },
    {
     "name": "stderr",
     "output_type": "stream",
     "text": [
      "56it [00:00, 41697.32it/s]\n",
      "38it [00:00, 39257.03it/s]\n",
      "44it [00:00, 41621.42it/s]\n",
      "52it [00:00, 40904.69it/s]\n",
      "42it [00:00, 40891.54it/s]\n",
      "43it [00:00, 40447.43it/s]\n",
      "39it [00:00, 39838.74it/s]\n"
     ]
    },
    {
     "name": "stdout",
     "output_type": "stream",
     "text": [
      "55\n",
      "37\n",
      "43\n",
      "51\n",
      "41\n",
      "42\n",
      "38\n"
     ]
    },
    {
     "name": "stderr",
     "output_type": "stream",
     "text": [
      "44it [00:00, 38762.73it/s]\n",
      "45it [00:00, 39937.30it/s]\n",
      "42it [00:00, 39034.07it/s]\n",
      "52it [00:00, 41198.30it/s]\n",
      "52it [00:00, 41268.46it/s]\n",
      "37it [00:00, 43421.73it/s]\n",
      "53it [00:00, 37883.11it/s]\n",
      "0it [00:00, ?it/s]"
     ]
    },
    {
     "name": "stdout",
     "output_type": "stream",
     "text": [
      "43\n",
      "44\n",
      "41\n",
      "51\n",
      "51\n",
      "36\n",
      "52\n"
     ]
    },
    {
     "name": "stderr",
     "output_type": "stream",
     "text": [
      "46it [00:00, 39863.22it/s]\n",
      "48it [00:00, 39866.65it/s]\n",
      "42it [00:00, 38733.68it/s]\n",
      "43it [00:00, 41224.02it/s]\n",
      "44it [00:00, 40294.62it/s]\n",
      "43it [00:00, 40420.23it/s]\n",
      "46it [00:00, 41007.01it/s]\n"
     ]
    },
    {
     "name": "stdout",
     "output_type": "stream",
     "text": [
      "45\n",
      "47\n",
      "41\n",
      "42\n",
      "43\n",
      "42\n",
      "45\n"
     ]
    },
    {
     "name": "stderr",
     "output_type": "stream",
     "text": [
      "47it [00:00, 42158.32it/s]\n",
      "49it [00:00, 40528.67it/s]\n",
      "32it [00:00, 40512.44it/s]\n"
     ]
    },
    {
     "name": "stdout",
     "output_type": "stream",
     "text": [
      "46\n",
      "48\n",
      "31\n"
     ]
    },
    {
     "name": "stderr",
     "output_type": "stream",
     "text": [
      "39it [00:00, 38725.82it/s]\n",
      "42it [00:00, 39649.06it/s]\n",
      "44it [00:00, 41038.33it/s]\n",
      "43it [00:00, 41710.24it/s]\n",
      "43it [00:00, 41874.87it/s]\n",
      "50it [00:00, 41842.62it/s]\n",
      "57it [00:00, 42760.75it/s]\n"
     ]
    },
    {
     "name": "stdout",
     "output_type": "stream",
     "text": [
      "38\n",
      "41\n",
      "43\n",
      "42\n",
      "42\n",
      "49\n",
      "56\n"
     ]
    },
    {
     "name": "stderr",
     "output_type": "stream",
     "text": [
      "48it [00:00, 39568.91it/s]\n",
      "41it [00:00, 39761.03it/s]\n",
      "34it [00:00, 40908.30it/s]\n",
      "51it [00:00, 40574.64it/s]\n",
      "50it [00:00, 40556.02it/s]\n",
      "49it [00:00, 41079.53it/s]\n",
      "55it [00:00, 41632.69it/s]\n"
     ]
    },
    {
     "name": "stdout",
     "output_type": "stream",
     "text": [
      "47\n",
      "40\n",
      "33\n",
      "50\n",
      "49\n",
      "48\n",
      "54\n"
     ]
    },
    {
     "name": "stderr",
     "output_type": "stream",
     "text": [
      "45it [00:00, 40295.41it/s]\n",
      "42it [00:00, 39586.69it/s]\n",
      "43it [00:00, 40869.04it/s]\n",
      "49it [00:00, 41277.54it/s]\n",
      "44it [00:00, 36278.63it/s]\n",
      "40it [00:00, 40242.78it/s]\n",
      "49it [00:00, 41418.96it/s]\n",
      "0it [00:00, ?it/s]"
     ]
    },
    {
     "name": "stdout",
     "output_type": "stream",
     "text": [
      "44\n",
      "41\n",
      "42\n",
      "48\n",
      "43\n",
      "39\n",
      "48\n"
     ]
    },
    {
     "name": "stderr",
     "output_type": "stream",
     "text": [
      "45it [00:00, 40686.29it/s]\n",
      "53it [00:00, 41373.18it/s]\n",
      "36it [00:00, 41199.17it/s]\n",
      "46it [00:00, 39691.01it/s]\n",
      "43it [00:00, 40915.40it/s]\n",
      "46it [00:00, 41146.94it/s]\n",
      "42it [00:00, 39729.54it/s]\n"
     ]
    },
    {
     "name": "stdout",
     "output_type": "stream",
     "text": [
      "44\n",
      "52\n",
      "35\n",
      "45\n",
      "42\n",
      "45\n",
      "41\n"
     ]
    },
    {
     "name": "stderr",
     "output_type": "stream",
     "text": [
      "44it [00:00, 39893.94it/s]\n",
      "45it [00:00, 40364.35it/s]\n",
      "42it [00:00, 39551.14it/s]\n",
      "48it [00:00, 41408.18it/s]\n",
      "43it [00:00, 39673.36it/s]\n",
      "44it [00:00, 40595.99it/s]\n",
      "52it [00:00, 40033.74it/s]\n",
      "0it [00:00, ?it/s]"
     ]
    },
    {
     "name": "stdout",
     "output_type": "stream",
     "text": [
      "43\n",
      "44\n",
      "41\n",
      "47\n",
      "42\n",
      "43\n",
      "51\n"
     ]
    },
    {
     "name": "stderr",
     "output_type": "stream",
     "text": [
      "43it [00:00, 40538.34it/s]\n",
      "56it [00:00, 41323.19it/s]\n",
      "49it [00:00, 40907.82it/s]\n",
      "47it [00:00, 40108.30it/s]\n",
      "38it [00:00, 40951.58it/s]\n",
      "51it [00:00, 42050.23it/s]\n",
      "47it [00:00, 41969.83it/s]\n"
     ]
    },
    {
     "name": "stdout",
     "output_type": "stream",
     "text": [
      "42\n",
      "55\n",
      "48\n",
      "46\n",
      "37\n",
      "50\n",
      "46\n"
     ]
    },
    {
     "name": "stderr",
     "output_type": "stream",
     "text": [
      "44it [00:00, 41546.46it/s]\n",
      "45it [00:00, 40252.44it/s]\n",
      "44it [00:00, 41129.79it/s]\n",
      "43it [00:00, 40538.34it/s]\n",
      "39it [00:00, 39077.37it/s]\n",
      "46it [00:00, 40499.16it/s]\n",
      "51it [00:00, 40767.96it/s]\n",
      "0it [00:00, ?it/s]"
     ]
    },
    {
     "name": "stdout",
     "output_type": "stream",
     "text": [
      "43\n",
      "44\n",
      "43\n",
      "42\n",
      "38\n",
      "45\n",
      "50\n"
     ]
    },
    {
     "name": "stderr",
     "output_type": "stream",
     "text": [
      "57it [00:00, 41341.06it/s]\n",
      "42it [00:00, 40580.69it/s]\n",
      "45it [00:00, 40791.80it/s]\n",
      "44it [00:00, 40578.14it/s]\n",
      "55it [00:00, 40322.80it/s]\n",
      "40it [00:00, 39728.19it/s]\n",
      "54it [00:00, 41180.44it/s]\n",
      "0it [00:00, ?it/s]"
     ]
    },
    {
     "name": "stdout",
     "output_type": "stream",
     "text": [
      "56\n",
      "41\n",
      "44\n",
      "43\n",
      "54\n",
      "39\n",
      "53\n"
     ]
    },
    {
     "name": "stderr",
     "output_type": "stream",
     "text": [
      "42it [00:00, 40740.23it/s]\n",
      "38it [00:00, 39955.77it/s]\n",
      "50it [00:00, 40721.40it/s]\n",
      "37it [00:00, 39904.67it/s]\n",
      "54it [00:00, 41997.48it/s]\n",
      "53it [00:00, 41535.52it/s]\n",
      "42it [00:00, 39190.38it/s]\n"
     ]
    },
    {
     "name": "stdout",
     "output_type": "stream",
     "text": [
      "41\n",
      "37\n",
      "49\n",
      "36\n",
      "53\n",
      "52\n",
      "41\n"
     ]
    },
    {
     "name": "stderr",
     "output_type": "stream",
     "text": [
      "47it [00:00, 40696.18it/s]\n",
      "37it [00:00, 41472.27it/s]\n",
      "53it [00:00, 41151.08it/s]\n",
      "51it [00:00, 40246.38it/s]\n",
      "51it [00:00, 41901.96it/s]\n",
      "35it [00:00, 42936.72it/s]\n",
      "49it [00:00, 41277.54it/s]\n"
     ]
    },
    {
     "name": "stdout",
     "output_type": "stream",
     "text": [
      "46\n",
      "36\n",
      "52\n",
      "50\n",
      "50\n",
      "34\n",
      "48\n"
     ]
    },
    {
     "name": "stderr",
     "output_type": "stream",
     "text": [
      "52it [00:00, 39843.59it/s]\n",
      "42it [00:00, 39810.34it/s]\n",
      "42it [00:00, 41303.81it/s]\n",
      "33it [00:00, 42198.79it/s]\n",
      "56it [00:00, 41920.58it/s]\n",
      "46it [00:00, 39756.44it/s]\n",
      "47it [00:00, 41077.78it/s]\n"
     ]
    },
    {
     "name": "stdout",
     "output_type": "stream",
     "text": [
      "51\n",
      "41\n",
      "41\n",
      "32\n",
      "55\n",
      "45\n",
      "46\n"
     ]
    },
    {
     "name": "stderr",
     "output_type": "stream",
     "text": [
      "47it [00:00, 40100.14it/s]\n",
      "47it [00:00, 41996.65it/s]\n",
      "48it [00:00, 40297.56it/s]\n",
      "43it [00:00, 39778.36it/s]\n",
      "39it [00:00, 40914.92it/s]\n",
      "53it [00:00, 39054.48it/s]\n",
      "36it [00:00, 41187.93it/s]\n"
     ]
    },
    {
     "name": "stdout",
     "output_type": "stream",
     "text": [
      "46\n",
      "46\n",
      "47\n",
      "42\n",
      "38\n",
      "52\n",
      "35\n"
     ]
    },
    {
     "name": "stderr",
     "output_type": "stream",
     "text": [
      "41it [00:00, 39190.17it/s]\n",
      "41it [00:00, 40038.76it/s]\n",
      "43it [00:00, 38844.51it/s]\n",
      "47it [00:00, 34584.61it/s]\n",
      "50it [00:00, 36980.29it/s]\n",
      "45it [00:00, 39996.54it/s]\n",
      "56it [00:00, 40898.66it/s]\n"
     ]
    },
    {
     "name": "stdout",
     "output_type": "stream",
     "text": [
      "40\n",
      "40\n",
      "42\n",
      "46\n",
      "49\n",
      "44\n",
      "55\n"
     ]
    },
    {
     "name": "stderr",
     "output_type": "stream",
     "text": [
      "44it [00:00, 39971.71it/s]\n",
      "50it [00:00, 39831.95it/s]\n",
      "41it [00:00, 39843.94it/s]\n",
      "44it [00:00, 40974.55it/s]\n",
      "51it [00:00, 42291.32it/s]\n",
      "49it [00:00, 41832.06it/s]\n",
      "41it [00:00, 41051.91it/s]\n"
     ]
    },
    {
     "name": "stdout",
     "output_type": "stream",
     "text": [
      "43\n",
      "49\n",
      "40\n",
      "43\n",
      "50\n",
      "48\n",
      "40\n"
     ]
    },
    {
     "name": "stderr",
     "output_type": "stream",
     "text": [
      "43it [00:00, 39267.38it/s]\n",
      "45it [00:00, 38884.15it/s]\n",
      "49it [00:00, 40899.68it/s]\n",
      "52it [00:00, 40759.45it/s]\n",
      "49it [00:00, 41038.52it/s]\n",
      "50it [00:00, 41250.04it/s]\n",
      "45it [00:00, 39643.71it/s]\n"
     ]
    },
    {
     "name": "stdout",
     "output_type": "stream",
     "text": [
      "42\n",
      "44\n",
      "48\n",
      "51\n",
      "48\n",
      "49\n",
      "44\n"
     ]
    },
    {
     "name": "stderr",
     "output_type": "stream",
     "text": [
      "57it [00:00, 41007.77it/s]\n",
      "54it [00:00, 41504.93it/s]\n",
      "49it [00:00, 40528.67it/s]\n",
      "41it [00:00, 39761.03it/s]\n",
      "55it [00:00, 41386.21it/s]\n",
      "38it [00:00, 38148.29it/s]\n",
      "0it [00:00, ?it/s]"
     ]
    },
    {
     "name": "stdout",
     "output_type": "stream",
     "text": [
      "56\n",
      "53\n",
      "48\n",
      "40\n",
      "54\n",
      "37\n"
     ]
    },
    {
     "name": "stderr",
     "output_type": "stream",
     "text": [
      "47it [00:00, 39832.75it/s]\n",
      "40it [00:00, 41282.52it/s]\n",
      "49it [00:00, 41552.95it/s]\n",
      "57it [00:00, 41979.86it/s]\n",
      "53it [00:00, 40931.34it/s]\n",
      "48it [00:00, 41734.37it/s]\n",
      "0it [00:00, ?it/s]"
     ]
    },
    {
     "name": "stdout",
     "output_type": "stream",
     "text": [
      "46\n",
      "39\n",
      "48\n",
      "56\n",
      "52\n",
      "47\n"
     ]
    },
    {
     "name": "stderr",
     "output_type": "stream",
     "text": [
      "48it [00:00, 41162.66it/s]\n",
      "50it [00:00, 40872.19it/s]\n",
      "49it [00:00, 41352.29it/s]\n",
      "44it [00:00, 40929.11it/s]\n",
      "44it [00:00, 40856.63it/s]\n",
      "41it [00:00, 41160.00it/s]\n",
      "47it [00:00, 40687.78it/s]\n",
      "57it [00:00, 38962.73it/s]\n"
     ]
    },
    {
     "name": "stdout",
     "output_type": "stream",
     "text": [
      "47\n",
      "49\n",
      "48\n",
      "43\n",
      "43\n",
      "40\n",
      "46\n",
      "56\n"
     ]
    },
    {
     "name": "stderr",
     "output_type": "stream",
     "text": [
      "45it [00:00, 242.86it/s]\n",
      "45it [00:00, 40616.24it/s]\n",
      "40it [00:00, 41231.79it/s]\n",
      "51it [00:00, 41160.19it/s]\n",
      "39it [00:00, 40670.77it/s]\n",
      "58it [00:00, 42396.24it/s]\n",
      "45it [00:00, 41665.27it/s]\n"
     ]
    },
    {
     "name": "stdout",
     "output_type": "stream",
     "text": [
      "44\n",
      "44\n",
      "39\n",
      "50\n",
      "38\n",
      "57\n",
      "44\n"
     ]
    },
    {
     "name": "stderr",
     "output_type": "stream",
     "text": [
      "41it [00:00, 41238.96it/s]\n",
      "46it [00:00, 41076.85it/s]\n",
      "51it [00:00, 40223.68it/s]\n",
      "41it [00:00, 39890.16it/s]\n",
      "55it [00:00, 42019.44it/s]\n",
      "44it [00:00, 40775.38it/s]\n",
      "61it [00:00, 41649.45it/s]\n"
     ]
    },
    {
     "name": "stdout",
     "output_type": "stream",
     "text": [
      "40\n",
      "45\n",
      "50\n",
      "40\n",
      "54\n",
      "43\n",
      "60\n"
     ]
    },
    {
     "name": "stderr",
     "output_type": "stream",
     "text": [
      "45it [00:00, 39752.25it/s]\n",
      "38it [00:00, 39627.93it/s]\n",
      "44it [00:00, 41546.46it/s]\n",
      "37it [00:00, 41762.45it/s]\n",
      "47it [00:00, 41129.21it/s]\n",
      "53it [00:00, 41442.60it/s]\n",
      "53it [00:00, 41219.75it/s]\n",
      "0it [00:00, ?it/s]"
     ]
    },
    {
     "name": "stdout",
     "output_type": "stream",
     "text": [
      "44\n",
      "37\n",
      "43\n",
      "36\n",
      "46\n",
      "52\n",
      "52\n"
     ]
    },
    {
     "name": "stderr",
     "output_type": "stream",
     "text": [
      "48it [00:00, 40451.39it/s]\n",
      "56it [00:00, 41608.68it/s]\n",
      "45it [00:00, 40398.90it/s]\n",
      "41it [00:00, 41288.47it/s]\n",
      "43it [00:00, 40492.83it/s]\n",
      "47it [00:00, 41414.35it/s]\n",
      "48it [00:00, 40647.40it/s]\n"
     ]
    },
    {
     "name": "stdout",
     "output_type": "stream",
     "text": [
      "47\n",
      "55\n",
      "44\n",
      "40\n",
      "42\n",
      "46\n",
      "47\n"
     ]
    },
    {
     "name": "stderr",
     "output_type": "stream",
     "text": [
      "38it [00:00, 39461.14it/s]\n",
      "42it [00:00, 40311.39it/s]\n",
      "46it [00:00, 40499.16it/s]\n",
      "46it [00:00, 41068.11it/s]\n",
      "56it [00:00, 40870.20it/s]\n",
      "47it [00:00, 40949.79it/s]\n",
      "52it [00:00, 41198.30it/s]\n"
     ]
    },
    {
     "name": "stdout",
     "output_type": "stream",
     "text": [
      "37\n",
      "41\n",
      "45\n",
      "45\n",
      "55\n",
      "46\n",
      "51\n"
     ]
    },
    {
     "name": "stderr",
     "output_type": "stream",
     "text": [
      "45it [00:00, 40424.86it/s]\n",
      "40it [00:00, 40860.24it/s]\n",
      "41it [00:00, 41130.46it/s]\n",
      "45it [00:00, 41427.50it/s]\n",
      "43it [00:00, 41865.15it/s]\n",
      "48it [00:00, 40606.41it/s]\n",
      "61it [00:00, 42627.88it/s]\n"
     ]
    },
    {
     "name": "stdout",
     "output_type": "stream",
     "text": [
      "44\n",
      "39\n",
      "40\n",
      "44\n",
      "42\n",
      "47\n",
      "60\n"
     ]
    },
    {
     "name": "stderr",
     "output_type": "stream",
     "text": [
      "38it [00:00, 38807.78it/s]\n",
      "49it [00:00, 40156.49it/s]\n",
      "41it [00:00, 40386.68it/s]\n",
      "49it [00:00, 41170.05it/s]\n",
      "51it [00:00, 41327.18it/s]\n",
      "46it [00:00, 41662.27it/s]\n",
      "47it [00:00, 39856.91it/s]\n"
     ]
    },
    {
     "name": "stdout",
     "output_type": "stream",
     "text": [
      "37\n",
      "48\n",
      "40\n",
      "48\n",
      "50\n",
      "45\n",
      "46\n"
     ]
    },
    {
     "name": "stderr",
     "output_type": "stream",
     "text": [
      "49it [00:00, 40266.63it/s]\n",
      "58it [00:00, 41134.53it/s]\n",
      "48it [00:00, 40986.68it/s]\n",
      "47it [00:00, 41292.90it/s]\n",
      "47it [00:00, 41086.35it/s]\n",
      "42it [00:00, 40665.00it/s]\n",
      "45it [00:00, 42177.36it/s]\n"
     ]
    },
    {
     "name": "stdout",
     "output_type": "stream",
     "text": [
      "48\n",
      "57\n",
      "47\n",
      "46\n",
      "46\n",
      "41\n",
      "44\n"
     ]
    },
    {
     "name": "stderr",
     "output_type": "stream",
     "text": [
      "46it [00:00, 40237.33it/s]\n",
      "42it [00:00, 40459.52it/s]\n",
      "48it [00:00, 41137.43it/s]\n",
      "54it [00:00, 41038.67it/s]\n",
      "51it [00:00, 41901.96it/s]\n",
      "44it [00:00, 39859.48it/s]\n",
      "51it [00:00, 41033.86it/s]\n",
      "52it [00:00, 40881.69it/s]"
     ]
    },
    {
     "name": "stdout",
     "output_type": "stream",
     "text": [
      "45\n",
      "41\n",
      "47\n",
      "53\n",
      "50\n",
      "43\n",
      "50\n"
     ]
    },
    {
     "name": "stderr",
     "output_type": "stream",
     "text": [
      "\n",
      "47it [00:00, 40662.60it/s]\n",
      "52it [00:00, 41535.67it/s]\n",
      "50it [00:00, 41527.76it/s]\n",
      "34it [00:00, 41061.43it/s]\n",
      "58it [00:00, 42641.48it/s]\n",
      "44it [00:00, 40365.13it/s]"
     ]
    },
    {
     "name": "stdout",
     "output_type": "stream",
     "text": [
      "51\n",
      "46\n",
      "51\n",
      "49\n",
      "33\n",
      "57\n"
     ]
    },
    {
     "name": "stderr",
     "output_type": "stream",
     "text": [
      "\n",
      "44it [00:00, 41276.98it/s]\n",
      "64it [00:00, 43330.99it/s]\n",
      "43it [00:00, 38702.81it/s]\n",
      "41it [00:00, 40038.76it/s]\n",
      "41it [00:00, 39696.78it/s]\n",
      "41it [00:00, 40207.26it/s]\n"
     ]
    },
    {
     "name": "stdout",
     "output_type": "stream",
     "text": [
      "43\n",
      "43\n",
      "63\n",
      "42\n",
      "40\n",
      "40\n",
      "40\n"
     ]
    },
    {
     "name": "stderr",
     "output_type": "stream",
     "text": [
      "41it [00:00, 39414.73it/s]\n",
      "43it [00:00, 41036.42it/s]\n",
      "57it [00:00, 41972.49it/s]\n",
      "50it [00:00, 41494.90it/s]\n",
      "39it [00:00, 39444.87it/s]\n",
      "43it [00:00, 39199.10it/s]\n",
      "48it [00:00, 39929.91it/s]\n"
     ]
    },
    {
     "name": "stdout",
     "output_type": "stream",
     "text": [
      "40\n",
      "42\n",
      "56\n",
      "49\n",
      "38\n",
      "42\n",
      "47\n"
     ]
    },
    {
     "name": "stderr",
     "output_type": "stream",
     "text": [
      "38it [00:00, 37840.35it/s]\n",
      "56it [00:00, 42146.25it/s]\n",
      "44it [00:00, 40820.48it/s]\n",
      "45it [00:00, 40906.74it/s]\n",
      "46it [00:00, 39756.44it/s]\n",
      "63it [00:00, 42861.50it/s]\n",
      "49it [00:00, 41038.52it/s]"
     ]
    },
    {
     "name": "stdout",
     "output_type": "stream",
     "text": [
      "37\n",
      "55\n",
      "43\n",
      "44\n",
      "45\n",
      "62\n"
     ]
    },
    {
     "name": "stderr",
     "output_type": "stream",
     "text": [
      "\n",
      "40it [00:00, 39917.24it/s]\n",
      "56it [00:00, 42721.18it/s]\n",
      "53it [00:00, 39909.89it/s]\n",
      "29it [00:00, 40383.41it/s]\n",
      "49it [00:00, 41798.03it/s]\n",
      "38it [00:00, 40340.05it/s]\n",
      "0it [00:00, ?it/s]"
     ]
    },
    {
     "name": "stdout",
     "output_type": "stream",
     "text": [
      "48\n",
      "39\n",
      "55\n",
      "52\n",
      "28\n",
      "48\n",
      "37\n"
     ]
    },
    {
     "name": "stderr",
     "output_type": "stream",
     "text": [
      "50it [00:00, 41734.37it/s]\n",
      "46it [00:00, 41076.85it/s]\n",
      "55it [00:00, 40528.24it/s]\n",
      "38it [00:00, 41035.93it/s]\n",
      "59it [00:00, 40748.22it/s]\n",
      "48it [00:00, 40721.40it/s]\n",
      "51it [00:00, 41160.19it/s]\n"
     ]
    },
    {
     "name": "stdout",
     "output_type": "stream",
     "text": [
      "49\n",
      "45\n",
      "54\n",
      "37\n",
      "58\n",
      "47\n",
      "50\n"
     ]
    },
    {
     "name": "stderr",
     "output_type": "stream",
     "text": [
      "42it [00:00, 39963.88it/s]\n",
      "42it [00:00, 41469.11it/s]\n",
      "38it [00:00, 40783.92it/s]\n",
      "47it [00:00, 40873.38it/s]\n",
      "48it [00:00, 41665.27it/s]\n",
      "46it [00:00, 40920.04it/s]\n",
      "37it [00:00, 42090.93it/s]\n"
     ]
    },
    {
     "name": "stdout",
     "output_type": "stream",
     "text": [
      "41\n",
      "41\n",
      "37\n",
      "46\n",
      "47\n",
      "45\n",
      "36\n"
     ]
    },
    {
     "name": "stderr",
     "output_type": "stream",
     "text": [
      "40it [00:00, 38755.41it/s]\n",
      "52it [00:00, 41670.58it/s]\n",
      "53it [00:00, 42334.43it/s]\n",
      "41it [00:00, 41417.74it/s]\n",
      "50it [00:00, 41951.43it/s]\n",
      "40it [00:00, 41150.89it/s]\n",
      "67it [00:00, 43280.20it/s]\n"
     ]
    },
    {
     "name": "stdout",
     "output_type": "stream",
     "text": [
      "39\n",
      "51\n",
      "52\n",
      "40\n",
      "49\n",
      "39\n",
      "66\n"
     ]
    },
    {
     "name": "stderr",
     "output_type": "stream",
     "text": [
      "60it [00:00, 41127.35it/s]\n",
      "36it [00:00, 41413.86it/s]\n",
      "47it [00:00, 41589.09it/s]\n",
      "40it [00:00, 39596.92it/s]\n",
      "35it [00:00, 43432.14it/s]\n",
      "39it [00:00, 41182.74it/s]\n",
      "41it [00:00, 40310.94it/s]\n",
      "0it [00:00, ?it/s]"
     ]
    },
    {
     "name": "stdout",
     "output_type": "stream",
     "text": [
      "59\n",
      "35\n",
      "46\n",
      "39\n",
      "34\n",
      "38\n",
      "40\n"
     ]
    },
    {
     "name": "stderr",
     "output_type": "stream",
     "text": [
      "46it [00:00, 40245.72it/s]\n",
      "42it [00:00, 40118.60it/s]\n",
      "45it [00:00, 40476.88it/s]\n",
      "45it [00:00, 40390.26it/s]\n",
      "44it [00:00, 40110.71it/s]\n",
      "52it [00:00, 41766.34it/s]\n",
      "44it [00:00, 31611.75it/s]\n"
     ]
    },
    {
     "name": "stdout",
     "output_type": "stream",
     "text": [
      "45\n",
      "41\n",
      "44\n",
      "44\n",
      "43\n",
      "51\n",
      "43\n"
     ]
    },
    {
     "name": "stderr",
     "output_type": "stream",
     "text": [
      "46it [00:00, 35603.98it/s]\n",
      "46it [00:00, 35356.05it/s]\n",
      "43it [00:00, 40721.40it/s]\n",
      "46it [00:00, 41815.77it/s]\n",
      "41it [00:00, 39890.16it/s]\n",
      "48it [00:00, 41916.84it/s]\n",
      "46it [00:00, 40928.72it/s]\n"
     ]
    },
    {
     "name": "stdout",
     "output_type": "stream",
     "text": [
      "45\n",
      "45\n",
      "42\n",
      "45\n",
      "40\n",
      "47\n",
      "45\n"
     ]
    },
    {
     "name": "stderr",
     "output_type": "stream",
     "text": [
      "44it [00:00, 38632.90it/s]\n",
      "46it [00:00, 40885.35it/s]\n",
      "53it [00:00, 40395.80it/s]\n",
      "50it [00:00, 41056.23it/s]\n",
      "51it [00:00, 40900.48it/s]\n",
      "61it [00:00, 42338.66it/s]\n"
     ]
    },
    {
     "name": "stdout",
     "output_type": "stream",
     "text": [
      "43\n",
      "45\n",
      "52\n",
      "49\n",
      "50\n",
      "60\n"
     ]
    },
    {
     "name": "stderr",
     "output_type": "stream",
     "text": [
      "45it [00:00, 40312.62it/s]\n",
      "44it [00:00, 40145.61it/s]\n",
      "39it [00:00, 39597.64it/s]\n",
      "31it [00:00, 42408.16it/s]\n",
      "50it [00:00, 42018.67it/s]\n",
      "45it [00:00, 39996.54it/s]\n",
      "49it [00:00, 41352.29it/s]\n",
      "0it [00:00, ?it/s]"
     ]
    },
    {
     "name": "stdout",
     "output_type": "stream",
     "text": [
      "44\n",
      "43\n",
      "38\n",
      "30\n",
      "49\n",
      "44\n",
      "48\n"
     ]
    },
    {
     "name": "stderr",
     "output_type": "stream",
     "text": [
      "42it [00:00, 39034.07it/s]\n",
      "34it [00:00, 41576.19it/s]\n",
      "47it [00:00, 39970.05it/s]\n",
      "43it [00:00, 39928.07it/s]\n",
      "44it [00:00, 39049.80it/s]\n",
      "46it [00:00, 40448.21it/s]\n",
      "49it [00:00, 39868.26it/s]\n"
     ]
    },
    {
     "name": "stdout",
     "output_type": "stream",
     "text": [
      "41\n",
      "33\n",
      "46\n",
      "42\n",
      "43\n",
      "45\n",
      "48\n"
     ]
    },
    {
     "name": "stderr",
     "output_type": "stream",
     "text": [
      "49it [00:00, 41145.32it/s]\n",
      "49it [00:00, 41385.60it/s]\n",
      "31it [00:00, 41003.92it/s]\n",
      "47it [00:00, 41120.63it/s]\n",
      "47it [00:00, 40662.60it/s]\n",
      "49it [00:00, 40172.18it/s]\n",
      "34it [00:00, 40814.64it/s]\n",
      "0it [00:00, ?it/s]"
     ]
    },
    {
     "name": "stdout",
     "output_type": "stream",
     "text": [
      "48\n",
      "48\n",
      "30\n",
      "46\n",
      "46\n",
      "48\n",
      "33\n"
     ]
    },
    {
     "name": "stderr",
     "output_type": "stream",
     "text": [
      "42it [00:00, 39207.83it/s]\n",
      "47it [00:00, 40873.38it/s]\n",
      "42it [00:00, 40665.00it/s]\n",
      "47it [00:00, 40738.23it/s]\n",
      "40it [00:00, 38683.92it/s]\n",
      "63it [00:00, 41783.86it/s]\n",
      "43it [00:00, 39456.37it/s]\n"
     ]
    },
    {
     "name": "stdout",
     "output_type": "stream",
     "text": [
      "41\n",
      "46\n",
      "41\n",
      "46\n",
      "39\n",
      "62\n",
      "42\n"
     ]
    },
    {
     "name": "stderr",
     "output_type": "stream",
     "text": [
      "41it [00:00, 39651.02it/s]\n",
      "62it [00:00, 42498.26it/s]\n",
      "56it [00:00, 42558.62it/s]\n",
      "47it [00:00, 41043.57it/s]\n",
      "50it [00:00, 42264.25it/s]\n",
      "44it [00:00, 40775.38it/s]\n",
      "0it [00:00, ?it/s]"
     ]
    },
    {
     "name": "stdout",
     "output_type": "stream",
     "text": [
      "40\n",
      "61\n",
      "55\n",
      "46\n",
      "49\n",
      "43\n"
     ]
    },
    {
     "name": "stderr",
     "output_type": "stream",
     "text": [
      "46it [00:00, 40212.17it/s]\n",
      "39it [00:00, 40033.74it/s]\n",
      "43it [00:00, 41904.06it/s]\n",
      "43it [00:00, 41797.24it/s]\n",
      "45it [00:00, 40686.29it/s]\n",
      "30it [00:00, 39895.09it/s]\n",
      "44it [00:00, 40338.66it/s]\n",
      "44it [00:00, 40892.84it/s]"
     ]
    },
    {
     "name": "stdout",
     "output_type": "stream",
     "text": [
      "45\n",
      "38\n",
      "42\n",
      "42\n",
      "44\n",
      "29\n",
      "43\n"
     ]
    },
    {
     "name": "stderr",
     "output_type": "stream",
     "text": [
      "\n",
      "48it [00:00, 41028.45it/s]\n",
      "53it [00:00, 40923.81it/s]\n",
      "36it [00:00, 43426.79it/s]\n",
      "38it [00:00, 39247.37it/s]\n",
      "41it [00:00, 40001.50it/s]\n",
      "43it [00:00, 39769.59it/s]\n",
      "0it [00:00, ?it/s]"
     ]
    },
    {
     "name": "stdout",
     "output_type": "stream",
     "text": [
      "43\n",
      "47\n",
      "52\n",
      "35\n",
      "37\n",
      "40\n",
      "42\n"
     ]
    },
    {
     "name": "stderr",
     "output_type": "stream",
     "text": [
      "45it [00:00, 39166.57it/s]\n",
      "46it [00:00, 40003.73it/s]\n",
      "41it [00:00, 40273.18it/s]\n",
      "47it [00:00, 41292.90it/s]\n",
      "43it [00:00, 40878.30it/s]\n",
      "56it [00:00, 41571.86it/s]\n",
      "47it [00:00, 39873.04it/s]\n",
      "0it [00:00, ?it/s]"
     ]
    },
    {
     "name": "stdout",
     "output_type": "stream",
     "text": [
      "44\n",
      "45\n",
      "40\n",
      "46\n",
      "42\n",
      "55\n",
      "46\n"
     ]
    },
    {
     "name": "stderr",
     "output_type": "stream",
     "text": [
      "43it [00:00, 39421.87it/s]\n",
      "46it [00:00, 39407.27it/s]\n",
      "47it [00:00, 40553.85it/s]\n",
      "33it [00:00, 40542.48it/s]\n",
      "37it [00:00, 42193.92it/s]\n",
      "52it [00:00, 41527.76it/s]\n",
      "47it [00:00, 41405.65it/s]\n"
     ]
    },
    {
     "name": "stdout",
     "output_type": "stream",
     "text": [
      "42\n",
      "45\n",
      "46\n",
      "32\n",
      "36\n",
      "51\n",
      "46\n"
     ]
    },
    {
     "name": "stderr",
     "output_type": "stream",
     "text": [
      "30it [00:00, 41080.35it/s]\n",
      "46it [00:00, 41367.49it/s]\n",
      "26it [00:00, 40004.37it/s]\n",
      "62it [00:00, 42961.65it/s]\n",
      "44it [00:00, 41378.78it/s]\n",
      "34it [00:00, 42824.73it/s]\n",
      "44it [00:00, 39679.50it/s]\n",
      "0it [00:00, ?it/s]"
     ]
    },
    {
     "name": "stdout",
     "output_type": "stream",
     "text": [
      "29\n",
      "45\n",
      "25\n",
      "61\n",
      "43\n",
      "33\n",
      "43\n"
     ]
    },
    {
     "name": "stderr",
     "output_type": "stream",
     "text": [
      "43it [00:00, 40712.21it/s]\n",
      "42it [00:00, 40191.82it/s]\n",
      "43it [00:00, 40043.31it/s]\n",
      "28it [00:00, 41178.30it/s]\n",
      "46it [00:00, 41376.36it/s]\n",
      "56it [00:00, 41726.95it/s]\n",
      "59it [00:00, 42200.53it/s]\n"
     ]
    },
    {
     "name": "stdout",
     "output_type": "stream",
     "text": [
      "42\n",
      "41\n",
      "42\n",
      "27\n",
      "45\n",
      "55\n",
      "58\n"
     ]
    },
    {
     "name": "stderr",
     "output_type": "stream",
     "text": [
      "41it [00:00, 39333.59it/s]\n",
      "39it [00:00, 39521.11it/s]\n",
      "44it [00:00, 40041.09it/s]\n",
      "0it [00:00, ?it/s]"
     ]
    },
    {
     "name": "stdout",
     "output_type": "stream",
     "text": [
      "40\n",
      "38\n",
      "43\n"
     ]
    },
    {
     "name": "stderr",
     "output_type": "stream",
     "text": [
      "43it [00:00, 255.54it/s]\n",
      "35it [00:00, 42674.60it/s]\n",
      "54it [00:00, 40568.23it/s]\n",
      "44it [00:00, 38901.64it/s]\n",
      "51it [00:00, 41943.04it/s]\n",
      "38it [00:00, 41035.93it/s]\n",
      "47it [00:00, 41845.10it/s]\n"
     ]
    },
    {
     "name": "stdout",
     "output_type": "stream",
     "text": [
      "42\n",
      "34\n",
      "53\n",
      "43\n",
      "50\n",
      "37\n",
      "46\n"
     ]
    },
    {
     "name": "stderr",
     "output_type": "stream",
     "text": [
      "38it [00:00, 38893.01it/s]\n",
      "45it [00:00, 39231.69it/s]\n",
      "59it [00:00, 42813.83it/s]\n",
      "51it [00:00, 40674.94it/s]\n",
      "51it [00:00, 40482.50it/s]\n",
      "46it [00:00, 40524.68it/s]\n",
      "47it [00:00, 41223.82it/s]\n"
     ]
    },
    {
     "name": "stdout",
     "output_type": "stream",
     "text": [
      "37\n",
      "44\n",
      "58\n",
      "50\n",
      "50\n",
      "45\n",
      "46\n"
     ]
    },
    {
     "name": "stderr",
     "output_type": "stream",
     "text": [
      "39it [00:00, 39549.77it/s]\n",
      "39it [00:00, 39722.65it/s]\n",
      "40it [00:00, 40281.43it/s]\n",
      "36it [00:00, 41722.84it/s]\n",
      "42it [00:00, 39181.67it/s]\n",
      "41it [00:00, 40358.24it/s]\n",
      "31it [00:00, 40317.34it/s]\n",
      "38it [00:00, 40773.48it/s]\n"
     ]
    },
    {
     "name": "stdout",
     "output_type": "stream",
     "text": [
      "38\n",
      "38\n",
      "39\n",
      "35\n",
      "41\n",
      "40\n",
      "30\n",
      "37\n"
     ]
    },
    {
     "name": "stderr",
     "output_type": "stream",
     "text": [
      "51it [00:00, 41869.15it/s]\n",
      "48it [00:00, 40886.80it/s]\n",
      "36it [00:00, 41861.64it/s]\n",
      "43it [00:00, 40447.43it/s]\n",
      "51it [00:00, 41503.59it/s]\n",
      "43it [00:00, 40195.02it/s]\n",
      "60it [00:00, 41901.14it/s]\n",
      "0it [00:00, ?it/s]"
     ]
    },
    {
     "name": "stdout",
     "output_type": "stream",
     "text": [
      "50\n",
      "47\n",
      "35\n",
      "42\n",
      "50\n",
      "42\n",
      "59\n"
     ]
    },
    {
     "name": "stderr",
     "output_type": "stream",
     "text": [
      "43it [00:00, 39928.07it/s]\n",
      "45it [00:00, 40712.61it/s]\n",
      "39it [00:00, 39152.19it/s]\n",
      "33it [00:00, 42483.74it/s]\n",
      "33it [00:00, 40938.19it/s]\n",
      "51it [00:00, 41431.24it/s]\n",
      "23it [00:00, 39585.14it/s]\n",
      "40it [00:00, 40242.78it/s]\n"
     ]
    },
    {
     "name": "stdout",
     "output_type": "stream",
     "text": [
      "42\n",
      "44\n",
      "38\n",
      "32\n",
      "32\n",
      "50\n",
      "22\n",
      "39\n"
     ]
    },
    {
     "name": "stderr",
     "output_type": "stream",
     "text": [
      "47it [00:00, 40898.81it/s]\n",
      "39it [00:00, 39588.06it/s]\n",
      "46it [00:00, 40885.35it/s]\n",
      "29it [00:00, 42351.96it/s]\n",
      "36it [00:00, 43116.77it/s]\n",
      "33it [00:00, 41615.16it/s]\n",
      "44it [00:00, 41668.41it/s]\n",
      "31it [00:00, 40530.99it/s]\n",
      "0it [00:00, ?it/s]"
     ]
    },
    {
     "name": "stdout",
     "output_type": "stream",
     "text": [
      "46\n",
      "38\n",
      "45\n",
      "28\n",
      "35\n",
      "32\n",
      "43\n",
      "30\n"
     ]
    },
    {
     "name": "stderr",
     "output_type": "stream",
     "text": [
      "22it [00:00, 39016.78it/s]\n",
      "52it [00:00, 41702.45it/s]\n"
     ]
    },
    {
     "name": "stdout",
     "output_type": "stream",
     "text": [
      "21\n",
      "51\n"
     ]
    }
   ],
   "source": [
    "test = data.groupby(['GAME_ID']).apply(lambda x: create_stint(x))"
   ]
  },
  {
   "cell_type": "code",
   "execution_count": null,
   "id": "52328df1-e34c-42d2-975b-92023880f6fc",
   "metadata": {},
   "outputs": [],
   "source": [
    "test = get_score(test)\n",
    "test = estimate_possessions(data=test, bool_ingame_plays=bool_ingame_plays)\n",
    "test = estimate_pm_100(data=test)"
   ]
  },
  {
   "cell_type": "code",
   "execution_count": 37,
   "id": "aefa38bb-b350-4cdd-ba20-761287f6b410",
   "metadata": {
    "tags": []
   },
   "outputs": [
    {
     "name": "stderr",
     "output_type": "stream",
     "text": [
      "100%|██████████| 500/500 [20:10<00:00,  2.42s/it]\n"
     ]
    }
   ],
   "source": [
    "starters, roster = get_roster_and_starters(test)"
   ]
  },
  {
   "cell_type": "code",
   "execution_count": 39,
   "id": "e1728f36-a8c8-4579-90d1-9e1e5f2a004c",
   "metadata": {},
   "outputs": [],
   "source": [
    "starters.to_csv(\"starters_safe.csv\")"
   ]
  },
  {
   "cell_type": "code",
   "execution_count": 40,
   "id": "fcb2df31-34ca-404e-9a23-e6baab1cf3fe",
   "metadata": {
    "tags": []
   },
   "outputs": [],
   "source": [
    "starting_lineups = get_starting_lineup(starters)"
   ]
  },
  {
   "cell_type": "code",
   "execution_count": 41,
   "id": "3d426b50-c7ec-4108-8790-6e8a51bfaeaf",
   "metadata": {},
   "outputs": [],
   "source": [
    "subs = get_all_subs(data=test)"
   ]
  },
  {
   "cell_type": "code",
   "execution_count": 42,
   "id": "788d9b69-a7f7-42c7-a271-35656d20aacd",
   "metadata": {},
   "outputs": [
    {
     "name": "stderr",
     "output_type": "stream",
     "text": [
      "100%|██████████| 500/500 [00:49<00:00, 10.14it/s]\n"
     ]
    }
   ],
   "source": [
    "court = get_on_court(data=test, starters=starters, sub=subs)"
   ]
  },
  {
   "cell_type": "code",
   "execution_count": 79,
   "id": "fd04a36b-d986-44a0-8c2d-54a99c746048",
   "metadata": {},
   "outputs": [],
   "source": [
    "col_score = ['HOME_PTS', 'AWAY_PTS', 'HOME_PM', 'HOME_PM_100', 'EST_POSSESSIONS']\n",
    "data_stints = merge_stint_pts(data=test, court_data=court, col_score=col_score)"
   ]
  },
  {
   "cell_type": "code",
   "execution_count": 65,
   "id": "e031af41-831d-4247-b04a-60a263898d3b",
   "metadata": {},
   "outputs": [
    {
     "data": {
      "text/html": [
       "<div>\n",
       "<style scoped>\n",
       "    .dataframe tbody tr th:only-of-type {\n",
       "        vertical-align: middle;\n",
       "    }\n",
       "\n",
       "    .dataframe tbody tr th {\n",
       "        vertical-align: top;\n",
       "    }\n",
       "\n",
       "    .dataframe thead th {\n",
       "        text-align: right;\n",
       "    }\n",
       "</style>\n",
       "<table border=\"1\" class=\"dataframe\">\n",
       "  <thead>\n",
       "    <tr style=\"text-align: right;\">\n",
       "      <th></th>\n",
       "      <th>stint</th>\n",
       "      <th>HOME_1</th>\n",
       "      <th>HOME_2</th>\n",
       "      <th>HOME_3</th>\n",
       "      <th>HOME_4</th>\n",
       "      <th>HOME_5</th>\n",
       "      <th>AWAY_1</th>\n",
       "      <th>AWAY_2</th>\n",
       "      <th>AWAY_3</th>\n",
       "      <th>AWAY_4</th>\n",
       "      <th>AWAY_5</th>\n",
       "      <th>GAME_ID</th>\n",
       "      <th>game_time_left</th>\n",
       "      <th>HOME_PTS</th>\n",
       "      <th>AWAY_PTS</th>\n",
       "      <th>HOME_PM</th>\n",
       "      <th>HOME_PM_100</th>\n",
       "      <th>EST_POSSESSIONS</th>\n",
       "    </tr>\n",
       "  </thead>\n",
       "  <tbody>\n",
       "    <tr>\n",
       "      <th>0</th>\n",
       "      <td>0.0</td>\n",
       "      <td>202695.0</td>\n",
       "      <td>202335.0</td>\n",
       "      <td>1627826.0</td>\n",
       "      <td>1629013.0</td>\n",
       "      <td>201976.0</td>\n",
       "      <td>203076.0</td>\n",
       "      <td>2544.0</td>\n",
       "      <td>201580.0</td>\n",
       "      <td>201980.0</td>\n",
       "      <td>202340.0</td>\n",
       "      <td>0021900002</td>\n",
       "      <td>NaN</td>\n",
       "      <td>0.0</td>\n",
       "      <td>0.0</td>\n",
       "      <td>0.0</td>\n",
       "      <td>0.0</td>\n",
       "      <td>0.0</td>\n",
       "    </tr>\n",
       "    <tr>\n",
       "      <th>1</th>\n",
       "      <td>1.0</td>\n",
       "      <td>202695.0</td>\n",
       "      <td>202335.0</td>\n",
       "      <td>1626149.0</td>\n",
       "      <td>1629013.0</td>\n",
       "      <td>201976.0</td>\n",
       "      <td>203076.0</td>\n",
       "      <td>2544.0</td>\n",
       "      <td>201580.0</td>\n",
       "      <td>201980.0</td>\n",
       "      <td>202340.0</td>\n",
       "      <td>0021900002</td>\n",
       "      <td>NaN</td>\n",
       "      <td>0.0</td>\n",
       "      <td>0.0</td>\n",
       "      <td>0.0</td>\n",
       "      <td>0.0</td>\n",
       "      <td>0.0</td>\n",
       "    </tr>\n",
       "    <tr>\n",
       "      <th>2</th>\n",
       "      <td>2.0</td>\n",
       "      <td>202695.0</td>\n",
       "      <td>202335.0</td>\n",
       "      <td>1626149.0</td>\n",
       "      <td>1629013.0</td>\n",
       "      <td>101150.0</td>\n",
       "      <td>203076.0</td>\n",
       "      <td>2544.0</td>\n",
       "      <td>201580.0</td>\n",
       "      <td>201980.0</td>\n",
       "      <td>202340.0</td>\n",
       "      <td>0021900002</td>\n",
       "      <td>NaN</td>\n",
       "      <td>0.0</td>\n",
       "      <td>0.0</td>\n",
       "      <td>0.0</td>\n",
       "      <td>0.0</td>\n",
       "      <td>0.0</td>\n",
       "    </tr>\n",
       "    <tr>\n",
       "      <th>3</th>\n",
       "      <td>3.0</td>\n",
       "      <td>202695.0</td>\n",
       "      <td>203210.0</td>\n",
       "      <td>1626149.0</td>\n",
       "      <td>1629013.0</td>\n",
       "      <td>101150.0</td>\n",
       "      <td>203076.0</td>\n",
       "      <td>2544.0</td>\n",
       "      <td>201580.0</td>\n",
       "      <td>201980.0</td>\n",
       "      <td>202340.0</td>\n",
       "      <td>0021900002</td>\n",
       "      <td>NaN</td>\n",
       "      <td>0.0</td>\n",
       "      <td>0.0</td>\n",
       "      <td>0.0</td>\n",
       "      <td>0.0</td>\n",
       "      <td>0.0</td>\n",
       "    </tr>\n",
       "    <tr>\n",
       "      <th>4</th>\n",
       "      <td>4.0</td>\n",
       "      <td>203090.0</td>\n",
       "      <td>203210.0</td>\n",
       "      <td>1626149.0</td>\n",
       "      <td>1629013.0</td>\n",
       "      <td>101150.0</td>\n",
       "      <td>203076.0</td>\n",
       "      <td>2544.0</td>\n",
       "      <td>201580.0</td>\n",
       "      <td>201980.0</td>\n",
       "      <td>202340.0</td>\n",
       "      <td>0021900002</td>\n",
       "      <td>NaN</td>\n",
       "      <td>0.0</td>\n",
       "      <td>0.0</td>\n",
       "      <td>0.0</td>\n",
       "      <td>0.0</td>\n",
       "      <td>0.0</td>\n",
       "    </tr>\n",
       "    <tr>\n",
       "      <th>...</th>\n",
       "      <td>...</td>\n",
       "      <td>...</td>\n",
       "      <td>...</td>\n",
       "      <td>...</td>\n",
       "      <td>...</td>\n",
       "      <td>...</td>\n",
       "      <td>...</td>\n",
       "      <td>...</td>\n",
       "      <td>...</td>\n",
       "      <td>...</td>\n",
       "      <td>...</td>\n",
       "      <td>...</td>\n",
       "      <td>...</td>\n",
       "      <td>...</td>\n",
       "      <td>...</td>\n",
       "      <td>...</td>\n",
       "      <td>...</td>\n",
       "      <td>...</td>\n",
       "    </tr>\n",
       "    <tr>\n",
       "      <th>31900</th>\n",
       "      <td>47.0</td>\n",
       "      <td>1627812.0</td>\n",
       "      <td>1627812.0</td>\n",
       "      <td>202357.0</td>\n",
       "      <td>1628385.0</td>\n",
       "      <td>1629713.0</td>\n",
       "      <td>1629599.0</td>\n",
       "      <td>203585.0</td>\n",
       "      <td>1628405.0</td>\n",
       "      <td>1627826.0</td>\n",
       "      <td>1629010.0</td>\n",
       "      <td>0021900499</td>\n",
       "      <td>35.0</td>\n",
       "      <td>104.0</td>\n",
       "      <td>87.0</td>\n",
       "      <td>17.0</td>\n",
       "      <td>850.0</td>\n",
       "      <td>2.0</td>\n",
       "    </tr>\n",
       "    <tr>\n",
       "      <th>31901</th>\n",
       "      <td>47.0</td>\n",
       "      <td>1627812.0</td>\n",
       "      <td>1627812.0</td>\n",
       "      <td>202357.0</td>\n",
       "      <td>1628385.0</td>\n",
       "      <td>1629713.0</td>\n",
       "      <td>1629599.0</td>\n",
       "      <td>203585.0</td>\n",
       "      <td>1628405.0</td>\n",
       "      <td>1627826.0</td>\n",
       "      <td>1629010.0</td>\n",
       "      <td>0021900499</td>\n",
       "      <td>35.0</td>\n",
       "      <td>105.0</td>\n",
       "      <td>87.0</td>\n",
       "      <td>18.0</td>\n",
       "      <td>900.0</td>\n",
       "      <td>2.0</td>\n",
       "    </tr>\n",
       "    <tr>\n",
       "      <th>31902</th>\n",
       "      <td>47.0</td>\n",
       "      <td>1627812.0</td>\n",
       "      <td>1627812.0</td>\n",
       "      <td>202357.0</td>\n",
       "      <td>1628385.0</td>\n",
       "      <td>1629713.0</td>\n",
       "      <td>1629599.0</td>\n",
       "      <td>203585.0</td>\n",
       "      <td>1628405.0</td>\n",
       "      <td>1627826.0</td>\n",
       "      <td>1629010.0</td>\n",
       "      <td>0021900499</td>\n",
       "      <td>25.0</td>\n",
       "      <td>105.0</td>\n",
       "      <td>87.0</td>\n",
       "      <td>18.0</td>\n",
       "      <td>900.0</td>\n",
       "      <td>3.0</td>\n",
       "    </tr>\n",
       "    <tr>\n",
       "      <th>31903</th>\n",
       "      <td>47.0</td>\n",
       "      <td>1627812.0</td>\n",
       "      <td>1627812.0</td>\n",
       "      <td>202357.0</td>\n",
       "      <td>1628385.0</td>\n",
       "      <td>1629713.0</td>\n",
       "      <td>1629599.0</td>\n",
       "      <td>203585.0</td>\n",
       "      <td>1628405.0</td>\n",
       "      <td>1627826.0</td>\n",
       "      <td>1629010.0</td>\n",
       "      <td>0021900499</td>\n",
       "      <td>1.0</td>\n",
       "      <td>105.0</td>\n",
       "      <td>87.0</td>\n",
       "      <td>18.0</td>\n",
       "      <td>900.0</td>\n",
       "      <td>2.0</td>\n",
       "    </tr>\n",
       "    <tr>\n",
       "      <th>31904</th>\n",
       "      <td>48.0</td>\n",
       "      <td>1627812.0</td>\n",
       "      <td>1627812.0</td>\n",
       "      <td>202357.0</td>\n",
       "      <td>1628385.0</td>\n",
       "      <td>1629713.0</td>\n",
       "      <td>1629599.0</td>\n",
       "      <td>203585.0</td>\n",
       "      <td>1628405.0</td>\n",
       "      <td>1628476.0</td>\n",
       "      <td>1629010.0</td>\n",
       "      <td>0021900499</td>\n",
       "      <td>NaN</td>\n",
       "      <td>105.0</td>\n",
       "      <td>87.0</td>\n",
       "      <td>18.0</td>\n",
       "      <td>900.0</td>\n",
       "      <td>2.0</td>\n",
       "    </tr>\n",
       "  </tbody>\n",
       "</table>\n",
       "<p>31266 rows × 18 columns</p>\n",
       "</div>"
      ],
      "text/plain": [
       "       stint     HOME_1     HOME_2     HOME_3     HOME_4     HOME_5  \\\n",
       "0        0.0   202695.0   202335.0  1627826.0  1629013.0   201976.0   \n",
       "1        1.0   202695.0   202335.0  1626149.0  1629013.0   201976.0   \n",
       "2        2.0   202695.0   202335.0  1626149.0  1629013.0   101150.0   \n",
       "3        3.0   202695.0   203210.0  1626149.0  1629013.0   101150.0   \n",
       "4        4.0   203090.0   203210.0  1626149.0  1629013.0   101150.0   \n",
       "...      ...        ...        ...        ...        ...        ...   \n",
       "31900   47.0  1627812.0  1627812.0   202357.0  1628385.0  1629713.0   \n",
       "31901   47.0  1627812.0  1627812.0   202357.0  1628385.0  1629713.0   \n",
       "31902   47.0  1627812.0  1627812.0   202357.0  1628385.0  1629713.0   \n",
       "31903   47.0  1627812.0  1627812.0   202357.0  1628385.0  1629713.0   \n",
       "31904   48.0  1627812.0  1627812.0   202357.0  1628385.0  1629713.0   \n",
       "\n",
       "          AWAY_1    AWAY_2     AWAY_3     AWAY_4     AWAY_5     GAME_ID  \\\n",
       "0       203076.0    2544.0   201580.0   201980.0   202340.0  0021900002   \n",
       "1       203076.0    2544.0   201580.0   201980.0   202340.0  0021900002   \n",
       "2       203076.0    2544.0   201580.0   201980.0   202340.0  0021900002   \n",
       "3       203076.0    2544.0   201580.0   201980.0   202340.0  0021900002   \n",
       "4       203076.0    2544.0   201580.0   201980.0   202340.0  0021900002   \n",
       "...          ...       ...        ...        ...        ...         ...   \n",
       "31900  1629599.0  203585.0  1628405.0  1627826.0  1629010.0  0021900499   \n",
       "31901  1629599.0  203585.0  1628405.0  1627826.0  1629010.0  0021900499   \n",
       "31902  1629599.0  203585.0  1628405.0  1627826.0  1629010.0  0021900499   \n",
       "31903  1629599.0  203585.0  1628405.0  1627826.0  1629010.0  0021900499   \n",
       "31904  1629599.0  203585.0  1628405.0  1628476.0  1629010.0  0021900499   \n",
       "\n",
       "       game_time_left  HOME_PTS  AWAY_PTS  HOME_PM  HOME_PM_100  \\\n",
       "0                 NaN       0.0       0.0      0.0          0.0   \n",
       "1                 NaN       0.0       0.0      0.0          0.0   \n",
       "2                 NaN       0.0       0.0      0.0          0.0   \n",
       "3                 NaN       0.0       0.0      0.0          0.0   \n",
       "4                 NaN       0.0       0.0      0.0          0.0   \n",
       "...               ...       ...       ...      ...          ...   \n",
       "31900            35.0     104.0      87.0     17.0        850.0   \n",
       "31901            35.0     105.0      87.0     18.0        900.0   \n",
       "31902            25.0     105.0      87.0     18.0        900.0   \n",
       "31903             1.0     105.0      87.0     18.0        900.0   \n",
       "31904             NaN     105.0      87.0     18.0        900.0   \n",
       "\n",
       "       EST_POSSESSIONS  \n",
       "0                  0.0  \n",
       "1                  0.0  \n",
       "2                  0.0  \n",
       "3                  0.0  \n",
       "4                  0.0  \n",
       "...                ...  \n",
       "31900              2.0  \n",
       "31901              2.0  \n",
       "31902              3.0  \n",
       "31903              2.0  \n",
       "31904              2.0  \n",
       "\n",
       "[31266 rows x 18 columns]"
      ]
     },
     "execution_count": 65,
     "metadata": {},
     "output_type": "execute_result"
    }
   ],
   "source": [
    "data_stints"
   ]
  },
  {
   "cell_type": "code",
   "execution_count": 156,
   "id": "098e0c0c-1f54-4ddf-afc7-9ae59f6014cf",
   "metadata": {},
   "outputs": [],
   "source": [
    "def stints_to_dummy_unique(data_stints, col_scores):\n",
    "    col_base = ['stint', 'GAME_ID', 'game_time_left']\n",
    "    col_names = [f'HOME_{i}' for i in np.arange(start=1, stop=6)]\n",
    "    col_names.extend([f'AWAY_{i}' for i in np.arange(start=1, stop=6)])\n",
    "    \n",
    "    data_slice = data_stints.drop(col_names, axis=1)\n",
    "    \n",
    "    # colnames, create dummy out of player columns\n",
    "    col_names = [f'HOME_{i}' for i in np.arange(start=1, stop=6)]\n",
    "    col_names.extend([f'AWAY_{i}' for i in np.arange(start=1, stop=6)])\n",
    "    tmp = pd.melt(data_stints, id_vars=['stint', 'GAME_ID'], value_vars=col_names)\n",
    "    tmp_dummy = pd.get_dummies(tmp, columns=['value'], prefix=\"\", prefix_sep=\"\")\n",
    "    \n",
    "    data_dummy = pd.merge(data_slice, tmp_dummy, on=['GAME_ID', 'stint'])\n",
    "    \n",
    "    data_dummy = data_dummy.drop('variable', axis=1)\n",
    "    \n",
    "    # get series objects to track the players and their \"position\"\n",
    "    series_location_player = pd.Series(data_dummy.columns[8:].values)\n",
    "    series_id_player = series_location_player.apply(lambda x: x.replace('.0', ''))\n",
    "    series_id_player = series_id_player.astype(int)\n",
    "    \n",
    "    return data_dummy, series_id_player"
   ]
  },
  {
   "cell_type": "code",
   "execution_count": 157,
   "id": "6b833dfc-9770-40e1-a0e7-54e7c7eda818",
   "metadata": {},
   "outputs": [
    {
     "data": {
      "text/plain": [
       "(500,)"
      ]
     },
     "execution_count": 157,
     "metadata": {},
     "output_type": "execute_result"
    }
   ],
   "source": [
    "data_stints['GAME_ID'].unique().shape"
   ]
  },
  {
   "cell_type": "code",
   "execution_count": 363,
   "id": "ea751eae-cfb9-4fda-bbfd-d7e7196660e1",
   "metadata": {},
   "outputs": [
    {
     "data": {
      "text/html": [
       "<div>\n",
       "<style scoped>\n",
       "    .dataframe tbody tr th:only-of-type {\n",
       "        vertical-align: middle;\n",
       "    }\n",
       "\n",
       "    .dataframe tbody tr th {\n",
       "        vertical-align: top;\n",
       "    }\n",
       "\n",
       "    .dataframe thead th {\n",
       "        text-align: right;\n",
       "    }\n",
       "</style>\n",
       "<table border=\"1\" class=\"dataframe\">\n",
       "  <thead>\n",
       "    <tr style=\"text-align: right;\">\n",
       "      <th></th>\n",
       "      <th>stint</th>\n",
       "      <th>HOME_1</th>\n",
       "      <th>HOME_2</th>\n",
       "      <th>HOME_3</th>\n",
       "      <th>HOME_4</th>\n",
       "      <th>HOME_5</th>\n",
       "      <th>AWAY_1</th>\n",
       "      <th>AWAY_2</th>\n",
       "      <th>AWAY_3</th>\n",
       "      <th>AWAY_4</th>\n",
       "      <th>AWAY_5</th>\n",
       "      <th>GAME_ID</th>\n",
       "      <th>game_time_left</th>\n",
       "      <th>HOME_PTS</th>\n",
       "      <th>AWAY_PTS</th>\n",
       "      <th>HOME_PM</th>\n",
       "      <th>HOME_PM_100</th>\n",
       "      <th>EST_POSSESSIONS</th>\n",
       "    </tr>\n",
       "  </thead>\n",
       "  <tbody>\n",
       "    <tr>\n",
       "      <th>0</th>\n",
       "      <td>0.0</td>\n",
       "      <td>202695.0</td>\n",
       "      <td>202335.0</td>\n",
       "      <td>1627826.0</td>\n",
       "      <td>1629013.0</td>\n",
       "      <td>201976.0</td>\n",
       "      <td>203076.0</td>\n",
       "      <td>2544.0</td>\n",
       "      <td>201580.0</td>\n",
       "      <td>201980.0</td>\n",
       "      <td>202340.0</td>\n",
       "      <td>0021900002</td>\n",
       "      <td>NaN</td>\n",
       "      <td>0.0</td>\n",
       "      <td>0.0</td>\n",
       "      <td>0.0</td>\n",
       "      <td>0.0</td>\n",
       "      <td>0.0</td>\n",
       "    </tr>\n",
       "    <tr>\n",
       "      <th>1</th>\n",
       "      <td>1.0</td>\n",
       "      <td>202695.0</td>\n",
       "      <td>202335.0</td>\n",
       "      <td>1626149.0</td>\n",
       "      <td>1629013.0</td>\n",
       "      <td>201976.0</td>\n",
       "      <td>203076.0</td>\n",
       "      <td>2544.0</td>\n",
       "      <td>201580.0</td>\n",
       "      <td>201980.0</td>\n",
       "      <td>202340.0</td>\n",
       "      <td>0021900002</td>\n",
       "      <td>NaN</td>\n",
       "      <td>0.0</td>\n",
       "      <td>0.0</td>\n",
       "      <td>0.0</td>\n",
       "      <td>0.0</td>\n",
       "      <td>0.0</td>\n",
       "    </tr>\n",
       "    <tr>\n",
       "      <th>2</th>\n",
       "      <td>2.0</td>\n",
       "      <td>202695.0</td>\n",
       "      <td>202335.0</td>\n",
       "      <td>1626149.0</td>\n",
       "      <td>1629013.0</td>\n",
       "      <td>101150.0</td>\n",
       "      <td>203076.0</td>\n",
       "      <td>2544.0</td>\n",
       "      <td>201580.0</td>\n",
       "      <td>201980.0</td>\n",
       "      <td>202340.0</td>\n",
       "      <td>0021900002</td>\n",
       "      <td>NaN</td>\n",
       "      <td>0.0</td>\n",
       "      <td>0.0</td>\n",
       "      <td>0.0</td>\n",
       "      <td>0.0</td>\n",
       "      <td>0.0</td>\n",
       "    </tr>\n",
       "    <tr>\n",
       "      <th>3</th>\n",
       "      <td>3.0</td>\n",
       "      <td>202695.0</td>\n",
       "      <td>203210.0</td>\n",
       "      <td>1626149.0</td>\n",
       "      <td>1629013.0</td>\n",
       "      <td>101150.0</td>\n",
       "      <td>203076.0</td>\n",
       "      <td>2544.0</td>\n",
       "      <td>201580.0</td>\n",
       "      <td>201980.0</td>\n",
       "      <td>202340.0</td>\n",
       "      <td>0021900002</td>\n",
       "      <td>NaN</td>\n",
       "      <td>0.0</td>\n",
       "      <td>0.0</td>\n",
       "      <td>0.0</td>\n",
       "      <td>0.0</td>\n",
       "      <td>0.0</td>\n",
       "    </tr>\n",
       "    <tr>\n",
       "      <th>4</th>\n",
       "      <td>4.0</td>\n",
       "      <td>203090.0</td>\n",
       "      <td>203210.0</td>\n",
       "      <td>1626149.0</td>\n",
       "      <td>1629013.0</td>\n",
       "      <td>101150.0</td>\n",
       "      <td>203076.0</td>\n",
       "      <td>2544.0</td>\n",
       "      <td>201580.0</td>\n",
       "      <td>201980.0</td>\n",
       "      <td>202340.0</td>\n",
       "      <td>0021900002</td>\n",
       "      <td>NaN</td>\n",
       "      <td>0.0</td>\n",
       "      <td>0.0</td>\n",
       "      <td>0.0</td>\n",
       "      <td>0.0</td>\n",
       "      <td>0.0</td>\n",
       "    </tr>\n",
       "    <tr>\n",
       "      <th>...</th>\n",
       "      <td>...</td>\n",
       "      <td>...</td>\n",
       "      <td>...</td>\n",
       "      <td>...</td>\n",
       "      <td>...</td>\n",
       "      <td>...</td>\n",
       "      <td>...</td>\n",
       "      <td>...</td>\n",
       "      <td>...</td>\n",
       "      <td>...</td>\n",
       "      <td>...</td>\n",
       "      <td>...</td>\n",
       "      <td>...</td>\n",
       "      <td>...</td>\n",
       "      <td>...</td>\n",
       "      <td>...</td>\n",
       "      <td>...</td>\n",
       "      <td>...</td>\n",
       "    </tr>\n",
       "    <tr>\n",
       "      <th>31900</th>\n",
       "      <td>47.0</td>\n",
       "      <td>1627812.0</td>\n",
       "      <td>1627812.0</td>\n",
       "      <td>202357.0</td>\n",
       "      <td>1628385.0</td>\n",
       "      <td>1629713.0</td>\n",
       "      <td>1629599.0</td>\n",
       "      <td>203585.0</td>\n",
       "      <td>1628405.0</td>\n",
       "      <td>1627826.0</td>\n",
       "      <td>1629010.0</td>\n",
       "      <td>0021900499</td>\n",
       "      <td>35.0</td>\n",
       "      <td>104.0</td>\n",
       "      <td>87.0</td>\n",
       "      <td>17.0</td>\n",
       "      <td>850.0</td>\n",
       "      <td>2.0</td>\n",
       "    </tr>\n",
       "    <tr>\n",
       "      <th>31901</th>\n",
       "      <td>47.0</td>\n",
       "      <td>1627812.0</td>\n",
       "      <td>1627812.0</td>\n",
       "      <td>202357.0</td>\n",
       "      <td>1628385.0</td>\n",
       "      <td>1629713.0</td>\n",
       "      <td>1629599.0</td>\n",
       "      <td>203585.0</td>\n",
       "      <td>1628405.0</td>\n",
       "      <td>1627826.0</td>\n",
       "      <td>1629010.0</td>\n",
       "      <td>0021900499</td>\n",
       "      <td>35.0</td>\n",
       "      <td>105.0</td>\n",
       "      <td>87.0</td>\n",
       "      <td>18.0</td>\n",
       "      <td>900.0</td>\n",
       "      <td>2.0</td>\n",
       "    </tr>\n",
       "    <tr>\n",
       "      <th>31902</th>\n",
       "      <td>47.0</td>\n",
       "      <td>1627812.0</td>\n",
       "      <td>1627812.0</td>\n",
       "      <td>202357.0</td>\n",
       "      <td>1628385.0</td>\n",
       "      <td>1629713.0</td>\n",
       "      <td>1629599.0</td>\n",
       "      <td>203585.0</td>\n",
       "      <td>1628405.0</td>\n",
       "      <td>1627826.0</td>\n",
       "      <td>1629010.0</td>\n",
       "      <td>0021900499</td>\n",
       "      <td>25.0</td>\n",
       "      <td>105.0</td>\n",
       "      <td>87.0</td>\n",
       "      <td>18.0</td>\n",
       "      <td>900.0</td>\n",
       "      <td>3.0</td>\n",
       "    </tr>\n",
       "    <tr>\n",
       "      <th>31903</th>\n",
       "      <td>47.0</td>\n",
       "      <td>1627812.0</td>\n",
       "      <td>1627812.0</td>\n",
       "      <td>202357.0</td>\n",
       "      <td>1628385.0</td>\n",
       "      <td>1629713.0</td>\n",
       "      <td>1629599.0</td>\n",
       "      <td>203585.0</td>\n",
       "      <td>1628405.0</td>\n",
       "      <td>1627826.0</td>\n",
       "      <td>1629010.0</td>\n",
       "      <td>0021900499</td>\n",
       "      <td>1.0</td>\n",
       "      <td>105.0</td>\n",
       "      <td>87.0</td>\n",
       "      <td>18.0</td>\n",
       "      <td>900.0</td>\n",
       "      <td>2.0</td>\n",
       "    </tr>\n",
       "    <tr>\n",
       "      <th>31904</th>\n",
       "      <td>48.0</td>\n",
       "      <td>1627812.0</td>\n",
       "      <td>1627812.0</td>\n",
       "      <td>202357.0</td>\n",
       "      <td>1628385.0</td>\n",
       "      <td>1629713.0</td>\n",
       "      <td>1629599.0</td>\n",
       "      <td>203585.0</td>\n",
       "      <td>1628405.0</td>\n",
       "      <td>1628476.0</td>\n",
       "      <td>1629010.0</td>\n",
       "      <td>0021900499</td>\n",
       "      <td>NaN</td>\n",
       "      <td>105.0</td>\n",
       "      <td>87.0</td>\n",
       "      <td>18.0</td>\n",
       "      <td>900.0</td>\n",
       "      <td>2.0</td>\n",
       "    </tr>\n",
       "  </tbody>\n",
       "</table>\n",
       "<p>31266 rows × 18 columns</p>\n",
       "</div>"
      ],
      "text/plain": [
       "       stint     HOME_1     HOME_2     HOME_3     HOME_4     HOME_5  \\\n",
       "0        0.0   202695.0   202335.0  1627826.0  1629013.0   201976.0   \n",
       "1        1.0   202695.0   202335.0  1626149.0  1629013.0   201976.0   \n",
       "2        2.0   202695.0   202335.0  1626149.0  1629013.0   101150.0   \n",
       "3        3.0   202695.0   203210.0  1626149.0  1629013.0   101150.0   \n",
       "4        4.0   203090.0   203210.0  1626149.0  1629013.0   101150.0   \n",
       "...      ...        ...        ...        ...        ...        ...   \n",
       "31900   47.0  1627812.0  1627812.0   202357.0  1628385.0  1629713.0   \n",
       "31901   47.0  1627812.0  1627812.0   202357.0  1628385.0  1629713.0   \n",
       "31902   47.0  1627812.0  1627812.0   202357.0  1628385.0  1629713.0   \n",
       "31903   47.0  1627812.0  1627812.0   202357.0  1628385.0  1629713.0   \n",
       "31904   48.0  1627812.0  1627812.0   202357.0  1628385.0  1629713.0   \n",
       "\n",
       "          AWAY_1    AWAY_2     AWAY_3     AWAY_4     AWAY_5     GAME_ID  \\\n",
       "0       203076.0    2544.0   201580.0   201980.0   202340.0  0021900002   \n",
       "1       203076.0    2544.0   201580.0   201980.0   202340.0  0021900002   \n",
       "2       203076.0    2544.0   201580.0   201980.0   202340.0  0021900002   \n",
       "3       203076.0    2544.0   201580.0   201980.0   202340.0  0021900002   \n",
       "4       203076.0    2544.0   201580.0   201980.0   202340.0  0021900002   \n",
       "...          ...       ...        ...        ...        ...         ...   \n",
       "31900  1629599.0  203585.0  1628405.0  1627826.0  1629010.0  0021900499   \n",
       "31901  1629599.0  203585.0  1628405.0  1627826.0  1629010.0  0021900499   \n",
       "31902  1629599.0  203585.0  1628405.0  1627826.0  1629010.0  0021900499   \n",
       "31903  1629599.0  203585.0  1628405.0  1627826.0  1629010.0  0021900499   \n",
       "31904  1629599.0  203585.0  1628405.0  1628476.0  1629010.0  0021900499   \n",
       "\n",
       "       game_time_left  HOME_PTS  AWAY_PTS  HOME_PM  HOME_PM_100  \\\n",
       "0                 NaN       0.0       0.0      0.0          0.0   \n",
       "1                 NaN       0.0       0.0      0.0          0.0   \n",
       "2                 NaN       0.0       0.0      0.0          0.0   \n",
       "3                 NaN       0.0       0.0      0.0          0.0   \n",
       "4                 NaN       0.0       0.0      0.0          0.0   \n",
       "...               ...       ...       ...      ...          ...   \n",
       "31900            35.0     104.0      87.0     17.0        850.0   \n",
       "31901            35.0     105.0      87.0     18.0        900.0   \n",
       "31902            25.0     105.0      87.0     18.0        900.0   \n",
       "31903             1.0     105.0      87.0     18.0        900.0   \n",
       "31904             NaN     105.0      87.0     18.0        900.0   \n",
       "\n",
       "       EST_POSSESSIONS  \n",
       "0                  0.0  \n",
       "1                  0.0  \n",
       "2                  0.0  \n",
       "3                  0.0  \n",
       "4                  0.0  \n",
       "...                ...  \n",
       "31900              2.0  \n",
       "31901              2.0  \n",
       "31902              3.0  \n",
       "31903              2.0  \n",
       "31904              2.0  \n",
       "\n",
       "[31266 rows x 18 columns]"
      ]
     },
     "execution_count": 363,
     "metadata": {},
     "output_type": "execute_result"
    }
   ],
   "source": [
    "data_stints"
   ]
  },
  {
   "cell_type": "code",
   "execution_count": 451,
   "id": "080ef152-8cf9-44b3-b3a7-65800cfdba21",
   "metadata": {},
   "outputs": [],
   "source": [
    "def stints_to_dummy_unique_pm(data_stints):\n",
    "    \n",
    "    home_names = ['HOME_1', 'HOME_2', 'HOME_3', 'HOME_4', 'HOME_5']\n",
    "    away_names = ['AWAY_1', 'AWAY_2', 'AWAY_3', 'AWAY_4', 'AWAY_5']\n",
    "\n",
    "    data_home = data_stints.drop(away_names, axis=1)\n",
    "    data_away = data_stints.drop(home_names, axis=1)\n",
    "\n",
    "    home_long = pd.melt(data_home, id_vars=['stint', 'GAME_ID', 'HOME_PM_100', 'HOME_PM', 'HOME_PTS', 'AWAY_PTS'], \n",
    "                        value_vars=home_names)\n",
    "    dummy_home = pd.get_dummies(home_long, columns=['value'], prefix=\"\", prefix_sep=\"\")\n",
    "\n",
    "    away_long = pd.melt(data_away, id_vars=['stint', 'GAME_ID', 'HOME_PM_100', 'HOME_PM', 'HOME_PTS', 'AWAY_PTS'],\n",
    "                        value_vars=away_names)\n",
    "    dummy_away = pd.get_dummies(away_long, columns=['value'], prefix=\"\", prefix_sep=\"\")\n",
    "    dummy_away.iloc[:, 3:] =  dummy_away.iloc[:, 3:] * (-1)\n",
    "\n",
    "    dummy_pm = pd.concat([dummy_home, dummy_away], join='inner')\n",
    "    dummy_pm = dummy_pm.drop('variable', axis=1)\n",
    "    \n",
    "    # get series objects to track the players and their \"position\"\n",
    "    series_location_player = pd.Series(dummy_pm.columns[6:].values)\n",
    "    series_id_player = series_location_player.apply(lambda x: x.replace('.0', ''))\n",
    "    series_id_player = series_id_player.astype(int)\n",
    "\n",
    "    return dummy_pm, series_id_player"
   ]
  },
  {
   "cell_type": "code",
   "execution_count": 461,
   "id": "d8a50c00-a092-489d-bd6b-a60083ff09b1",
   "metadata": {},
   "outputs": [],
   "source": [
    "dummy_pm, player_ids = stints_to_dummy_unique_pm(data_stints=data_stints)"
   ]
  },
  {
   "cell_type": "code",
   "execution_count": 455,
   "id": "1c2d702d-15f6-40e5-8b26-ecdde9b3373e",
   "metadata": {},
   "outputs": [
    {
     "data": {
      "text/plain": [
       "(448,)"
      ]
     },
     "execution_count": 455,
     "metadata": {},
     "output_type": "execute_result"
    }
   ],
   "source": [
    "player_ids.unique().shape"
   ]
  },
  {
   "cell_type": "code",
   "execution_count": 456,
   "id": "1aa934be-65a5-4d7d-a2c5-294159fa1e50",
   "metadata": {},
   "outputs": [
    {
     "data": {
      "text/plain": [
       "(312660, 454)"
      ]
     },
     "execution_count": 456,
     "metadata": {},
     "output_type": "execute_result"
    }
   ],
   "source": [
    "dummy_pm.shape"
   ]
  },
  {
   "cell_type": "code",
   "execution_count": 159,
   "id": "ec5f786c-b503-49b0-be14-bb8f44bd51ce",
   "metadata": {},
   "outputs": [
    {
     "data": {
      "text/plain": [
       "473"
      ]
     },
     "execution_count": 159,
     "metadata": {},
     "output_type": "execute_result"
    }
   ],
   "source": [
    "data_dummy.shape[1] - 8"
   ]
  },
  {
   "cell_type": "markdown",
   "id": "658a1589-1bd9-4556-a328-2ba7aabdc390",
   "metadata": {},
   "source": [
    "**How to deal with empty stints? Leave them in or out? Do an ffill? How to deal with NA Home PTS?**"
   ]
  },
  {
   "cell_type": "code",
   "execution_count": 462,
   "id": "d1a2917e-5a18-4bb6-8a9a-d5b61736f616",
   "metadata": {
    "tags": []
   },
   "outputs": [],
   "source": [
    "dummy_pm.to_csv(\"dummy_safe_long.csv\") \n",
    "player_ids.to_csv(\"player_ids_model.csv\")"
   ]
  },
  {
   "cell_type": "code",
   "execution_count": 463,
   "id": "85f3896f-978a-474e-b02d-f1c8b9b71fe1",
   "metadata": {},
   "outputs": [],
   "source": [
    "data_dummy = pd.read_csv(\"dummy_safe_long.csv\", dtype={'GAME_ID':str})"
   ]
  },
  {
   "cell_type": "code",
   "execution_count": 457,
   "id": "1dd0a703-f411-4629-83c6-6f1dd7639f3e",
   "metadata": {},
   "outputs": [
    {
     "data": {
      "text/plain": [
       "(312660, 455)"
      ]
     },
     "execution_count": 457,
     "metadata": {},
     "output_type": "execute_result"
    }
   ],
   "source": [
    "data_dummy.shape"
   ]
  },
  {
   "cell_type": "code",
   "execution_count": 238,
   "id": "835c6f4e-4011-4db6-a7b3-c6d98aabca70",
   "metadata": {},
   "outputs": [],
   "source": [
    "from sklearn.linear_model import RidgeCV\n",
    "model = RidgeCV(alphas=[1e-3, 1e-1, 1e1, 1e3, 1e4], normalize=True, cv=3)"
   ]
  },
  {
   "cell_type": "code",
   "execution_count": 498,
   "id": "e644107f-4d74-4d48-9d72-ea4ee55f5d49",
   "metadata": {},
   "outputs": [],
   "source": [
    "from sklearn.linear_model import Ridge\n",
    "model = Ridge(alpha=1.5e3) #1e-3"
   ]
  },
  {
   "cell_type": "code",
   "execution_count": 499,
   "id": "d0d9c220-0ebb-47b4-b2fa-533a871dfd1e",
   "metadata": {},
   "outputs": [
    {
     "data": {
      "text/html": [
       "<div>\n",
       "<style scoped>\n",
       "    .dataframe tbody tr th:only-of-type {\n",
       "        vertical-align: middle;\n",
       "    }\n",
       "\n",
       "    .dataframe tbody tr th {\n",
       "        vertical-align: top;\n",
       "    }\n",
       "\n",
       "    .dataframe thead th {\n",
       "        text-align: right;\n",
       "    }\n",
       "</style>\n",
       "<table border=\"1\" class=\"dataframe\">\n",
       "  <thead>\n",
       "    <tr style=\"text-align: right;\">\n",
       "      <th></th>\n",
       "      <th>Unnamed: 0</th>\n",
       "      <th>stint</th>\n",
       "      <th>GAME_ID</th>\n",
       "      <th>HOME_PM_100</th>\n",
       "      <th>HOME_PM</th>\n",
       "      <th>HOME_PTS</th>\n",
       "      <th>AWAY_PTS</th>\n",
       "      <th>101107.0</th>\n",
       "      <th>101108.0</th>\n",
       "      <th>101133.0</th>\n",
       "      <th>...</th>\n",
       "      <th>204025.0</th>\n",
       "      <th>204038.0</th>\n",
       "      <th>204060.0</th>\n",
       "      <th>204456.0</th>\n",
       "      <th>2199.0</th>\n",
       "      <th>2544.0</th>\n",
       "      <th>2546.0</th>\n",
       "      <th>2594.0</th>\n",
       "      <th>2730.0</th>\n",
       "      <th>2772.0</th>\n",
       "    </tr>\n",
       "  </thead>\n",
       "  <tbody>\n",
       "    <tr>\n",
       "      <th>0</th>\n",
       "      <td>0</td>\n",
       "      <td>0.0</td>\n",
       "      <td>0021900002</td>\n",
       "      <td>0.0</td>\n",
       "      <td>0.0</td>\n",
       "      <td>0.0</td>\n",
       "      <td>0.0</td>\n",
       "      <td>0</td>\n",
       "      <td>0</td>\n",
       "      <td>0</td>\n",
       "      <td>...</td>\n",
       "      <td>0</td>\n",
       "      <td>0</td>\n",
       "      <td>0</td>\n",
       "      <td>0</td>\n",
       "      <td>0</td>\n",
       "      <td>0</td>\n",
       "      <td>0</td>\n",
       "      <td>0</td>\n",
       "      <td>0</td>\n",
       "      <td>0</td>\n",
       "    </tr>\n",
       "    <tr>\n",
       "      <th>1</th>\n",
       "      <td>1</td>\n",
       "      <td>1.0</td>\n",
       "      <td>0021900002</td>\n",
       "      <td>0.0</td>\n",
       "      <td>0.0</td>\n",
       "      <td>0.0</td>\n",
       "      <td>0.0</td>\n",
       "      <td>0</td>\n",
       "      <td>0</td>\n",
       "      <td>0</td>\n",
       "      <td>...</td>\n",
       "      <td>0</td>\n",
       "      <td>0</td>\n",
       "      <td>0</td>\n",
       "      <td>0</td>\n",
       "      <td>0</td>\n",
       "      <td>0</td>\n",
       "      <td>0</td>\n",
       "      <td>0</td>\n",
       "      <td>0</td>\n",
       "      <td>0</td>\n",
       "    </tr>\n",
       "    <tr>\n",
       "      <th>2</th>\n",
       "      <td>2</td>\n",
       "      <td>2.0</td>\n",
       "      <td>0021900002</td>\n",
       "      <td>0.0</td>\n",
       "      <td>0.0</td>\n",
       "      <td>0.0</td>\n",
       "      <td>0.0</td>\n",
       "      <td>0</td>\n",
       "      <td>0</td>\n",
       "      <td>0</td>\n",
       "      <td>...</td>\n",
       "      <td>0</td>\n",
       "      <td>0</td>\n",
       "      <td>0</td>\n",
       "      <td>0</td>\n",
       "      <td>0</td>\n",
       "      <td>0</td>\n",
       "      <td>0</td>\n",
       "      <td>0</td>\n",
       "      <td>0</td>\n",
       "      <td>0</td>\n",
       "    </tr>\n",
       "    <tr>\n",
       "      <th>3</th>\n",
       "      <td>3</td>\n",
       "      <td>3.0</td>\n",
       "      <td>0021900002</td>\n",
       "      <td>0.0</td>\n",
       "      <td>0.0</td>\n",
       "      <td>0.0</td>\n",
       "      <td>0.0</td>\n",
       "      <td>0</td>\n",
       "      <td>0</td>\n",
       "      <td>0</td>\n",
       "      <td>...</td>\n",
       "      <td>0</td>\n",
       "      <td>0</td>\n",
       "      <td>0</td>\n",
       "      <td>0</td>\n",
       "      <td>0</td>\n",
       "      <td>0</td>\n",
       "      <td>0</td>\n",
       "      <td>0</td>\n",
       "      <td>0</td>\n",
       "      <td>0</td>\n",
       "    </tr>\n",
       "    <tr>\n",
       "      <th>4</th>\n",
       "      <td>4</td>\n",
       "      <td>4.0</td>\n",
       "      <td>0021900002</td>\n",
       "      <td>0.0</td>\n",
       "      <td>0.0</td>\n",
       "      <td>0.0</td>\n",
       "      <td>0.0</td>\n",
       "      <td>0</td>\n",
       "      <td>0</td>\n",
       "      <td>0</td>\n",
       "      <td>...</td>\n",
       "      <td>0</td>\n",
       "      <td>0</td>\n",
       "      <td>0</td>\n",
       "      <td>0</td>\n",
       "      <td>0</td>\n",
       "      <td>0</td>\n",
       "      <td>0</td>\n",
       "      <td>0</td>\n",
       "      <td>0</td>\n",
       "      <td>0</td>\n",
       "    </tr>\n",
       "    <tr>\n",
       "      <th>...</th>\n",
       "      <td>...</td>\n",
       "      <td>...</td>\n",
       "      <td>...</td>\n",
       "      <td>...</td>\n",
       "      <td>...</td>\n",
       "      <td>...</td>\n",
       "      <td>...</td>\n",
       "      <td>...</td>\n",
       "      <td>...</td>\n",
       "      <td>...</td>\n",
       "      <td>...</td>\n",
       "      <td>...</td>\n",
       "      <td>...</td>\n",
       "      <td>...</td>\n",
       "      <td>...</td>\n",
       "      <td>...</td>\n",
       "      <td>...</td>\n",
       "      <td>...</td>\n",
       "      <td>...</td>\n",
       "      <td>...</td>\n",
       "      <td>...</td>\n",
       "    </tr>\n",
       "    <tr>\n",
       "      <th>312655</th>\n",
       "      <td>156325</td>\n",
       "      <td>47.0</td>\n",
       "      <td>0021900499</td>\n",
       "      <td>850.0</td>\n",
       "      <td>-17.0</td>\n",
       "      <td>-104.0</td>\n",
       "      <td>-87.0</td>\n",
       "      <td>0</td>\n",
       "      <td>0</td>\n",
       "      <td>0</td>\n",
       "      <td>...</td>\n",
       "      <td>0</td>\n",
       "      <td>0</td>\n",
       "      <td>0</td>\n",
       "      <td>0</td>\n",
       "      <td>0</td>\n",
       "      <td>0</td>\n",
       "      <td>0</td>\n",
       "      <td>0</td>\n",
       "      <td>0</td>\n",
       "      <td>0</td>\n",
       "    </tr>\n",
       "    <tr>\n",
       "      <th>312656</th>\n",
       "      <td>156326</td>\n",
       "      <td>47.0</td>\n",
       "      <td>0021900499</td>\n",
       "      <td>900.0</td>\n",
       "      <td>-18.0</td>\n",
       "      <td>-105.0</td>\n",
       "      <td>-87.0</td>\n",
       "      <td>0</td>\n",
       "      <td>0</td>\n",
       "      <td>0</td>\n",
       "      <td>...</td>\n",
       "      <td>0</td>\n",
       "      <td>0</td>\n",
       "      <td>0</td>\n",
       "      <td>0</td>\n",
       "      <td>0</td>\n",
       "      <td>0</td>\n",
       "      <td>0</td>\n",
       "      <td>0</td>\n",
       "      <td>0</td>\n",
       "      <td>0</td>\n",
       "    </tr>\n",
       "    <tr>\n",
       "      <th>312657</th>\n",
       "      <td>156327</td>\n",
       "      <td>47.0</td>\n",
       "      <td>0021900499</td>\n",
       "      <td>900.0</td>\n",
       "      <td>-18.0</td>\n",
       "      <td>-105.0</td>\n",
       "      <td>-87.0</td>\n",
       "      <td>0</td>\n",
       "      <td>0</td>\n",
       "      <td>0</td>\n",
       "      <td>...</td>\n",
       "      <td>0</td>\n",
       "      <td>0</td>\n",
       "      <td>0</td>\n",
       "      <td>0</td>\n",
       "      <td>0</td>\n",
       "      <td>0</td>\n",
       "      <td>0</td>\n",
       "      <td>0</td>\n",
       "      <td>0</td>\n",
       "      <td>0</td>\n",
       "    </tr>\n",
       "    <tr>\n",
       "      <th>312658</th>\n",
       "      <td>156328</td>\n",
       "      <td>47.0</td>\n",
       "      <td>0021900499</td>\n",
       "      <td>900.0</td>\n",
       "      <td>-18.0</td>\n",
       "      <td>-105.0</td>\n",
       "      <td>-87.0</td>\n",
       "      <td>0</td>\n",
       "      <td>0</td>\n",
       "      <td>0</td>\n",
       "      <td>...</td>\n",
       "      <td>0</td>\n",
       "      <td>0</td>\n",
       "      <td>0</td>\n",
       "      <td>0</td>\n",
       "      <td>0</td>\n",
       "      <td>0</td>\n",
       "      <td>0</td>\n",
       "      <td>0</td>\n",
       "      <td>0</td>\n",
       "      <td>0</td>\n",
       "    </tr>\n",
       "    <tr>\n",
       "      <th>312659</th>\n",
       "      <td>156329</td>\n",
       "      <td>48.0</td>\n",
       "      <td>0021900499</td>\n",
       "      <td>900.0</td>\n",
       "      <td>-18.0</td>\n",
       "      <td>-105.0</td>\n",
       "      <td>-87.0</td>\n",
       "      <td>0</td>\n",
       "      <td>0</td>\n",
       "      <td>0</td>\n",
       "      <td>...</td>\n",
       "      <td>0</td>\n",
       "      <td>0</td>\n",
       "      <td>0</td>\n",
       "      <td>0</td>\n",
       "      <td>0</td>\n",
       "      <td>0</td>\n",
       "      <td>0</td>\n",
       "      <td>0</td>\n",
       "      <td>0</td>\n",
       "      <td>0</td>\n",
       "    </tr>\n",
       "  </tbody>\n",
       "</table>\n",
       "<p>312660 rows × 455 columns</p>\n",
       "</div>"
      ],
      "text/plain": [
       "        Unnamed: 0  stint     GAME_ID  HOME_PM_100  HOME_PM  HOME_PTS  \\\n",
       "0                0    0.0  0021900002          0.0      0.0       0.0   \n",
       "1                1    1.0  0021900002          0.0      0.0       0.0   \n",
       "2                2    2.0  0021900002          0.0      0.0       0.0   \n",
       "3                3    3.0  0021900002          0.0      0.0       0.0   \n",
       "4                4    4.0  0021900002          0.0      0.0       0.0   \n",
       "...            ...    ...         ...          ...      ...       ...   \n",
       "312655      156325   47.0  0021900499        850.0    -17.0    -104.0   \n",
       "312656      156326   47.0  0021900499        900.0    -18.0    -105.0   \n",
       "312657      156327   47.0  0021900499        900.0    -18.0    -105.0   \n",
       "312658      156328   47.0  0021900499        900.0    -18.0    -105.0   \n",
       "312659      156329   48.0  0021900499        900.0    -18.0    -105.0   \n",
       "\n",
       "        AWAY_PTS  101107.0  101108.0  101133.0  ...  204025.0  204038.0  \\\n",
       "0            0.0         0         0         0  ...         0         0   \n",
       "1            0.0         0         0         0  ...         0         0   \n",
       "2            0.0         0         0         0  ...         0         0   \n",
       "3            0.0         0         0         0  ...         0         0   \n",
       "4            0.0         0         0         0  ...         0         0   \n",
       "...          ...       ...       ...       ...  ...       ...       ...   \n",
       "312655     -87.0         0         0         0  ...         0         0   \n",
       "312656     -87.0         0         0         0  ...         0         0   \n",
       "312657     -87.0         0         0         0  ...         0         0   \n",
       "312658     -87.0         0         0         0  ...         0         0   \n",
       "312659     -87.0         0         0         0  ...         0         0   \n",
       "\n",
       "        204060.0  204456.0  2199.0  2544.0  2546.0  2594.0  2730.0  2772.0  \n",
       "0              0         0       0       0       0       0       0       0  \n",
       "1              0         0       0       0       0       0       0       0  \n",
       "2              0         0       0       0       0       0       0       0  \n",
       "3              0         0       0       0       0       0       0       0  \n",
       "4              0         0       0       0       0       0       0       0  \n",
       "...          ...       ...     ...     ...     ...     ...     ...     ...  \n",
       "312655         0         0       0       0       0       0       0       0  \n",
       "312656         0         0       0       0       0       0       0       0  \n",
       "312657         0         0       0       0       0       0       0       0  \n",
       "312658         0         0       0       0       0       0       0       0  \n",
       "312659         0         0       0       0       0       0       0       0  \n",
       "\n",
       "[312660 rows x 455 columns]"
      ]
     },
     "execution_count": 499,
     "metadata": {},
     "output_type": "execute_result"
    }
   ],
   "source": [
    "data_dummy"
   ]
  },
  {
   "cell_type": "code",
   "execution_count": 500,
   "id": "90785039-578e-4397-94c1-240f94140e15",
   "metadata": {},
   "outputs": [
    {
     "name": "stdout",
     "output_type": "stream",
     "text": [
      "Starting model fitting...\n"
     ]
    }
   ],
   "source": [
    "model, X, y = estimate_model(data_dummy=data_dummy, ids_start=7, col_y=\"HOME_PM\", model=model)"
   ]
  },
  {
   "cell_type": "code",
   "execution_count": 501,
   "id": "30f98cd4-cc72-4d09-9d4b-e9d3e0db295d",
   "metadata": {},
   "outputs": [],
   "source": [
    "# model.best_score_, model.alpha_"
   ]
  },
  {
   "cell_type": "code",
   "execution_count": 502,
   "id": "7c685f52-d54e-4378-a905-706ce88ed39f",
   "metadata": {},
   "outputs": [
    {
     "data": {
      "text/plain": [
       "(448,)"
      ]
     },
     "execution_count": 502,
     "metadata": {},
     "output_type": "execute_result"
    }
   ],
   "source": [
    "model.coef_.shape"
   ]
  },
  {
   "cell_type": "code",
   "execution_count": 503,
   "id": "c2b330ac-ab43-45d1-b7f4-1c0913babd00",
   "metadata": {},
   "outputs": [],
   "source": [
    "#coef = model.coef_[:-1]\n",
    "#coef = coef[:-1]"
   ]
  },
  {
   "cell_type": "code",
   "execution_count": 504,
   "id": "6c5ca86d-b2ed-4067-bbff-818d192f2c84",
   "metadata": {},
   "outputs": [],
   "source": [
    "coef = model.coef_"
   ]
  },
  {
   "cell_type": "code",
   "execution_count": 505,
   "id": "b9a5dde6-3de1-4834-a18f-72bf05f057bf",
   "metadata": {},
   "outputs": [
    {
     "data": {
      "text/plain": [
       "(448,)"
      ]
     },
     "execution_count": 505,
     "metadata": {},
     "output_type": "execute_result"
    }
   ],
   "source": [
    "player_ids.shape"
   ]
  },
  {
   "cell_type": "code",
   "execution_count": 429,
   "id": "57fc6d44-cca5-485a-8b7a-802d3810e011",
   "metadata": {},
   "outputs": [],
   "source": [
    "import pickle\n",
    "pickle.dump(model, open(\"model_ridge_no_cv\", 'wb'))"
   ]
  },
  {
   "cell_type": "markdown",
   "id": "de21a5d3-cbda-4af3-af1a-9d7fa664c773",
   "metadata": {},
   "source": [
    "Merge daten müssen zur Saison passen"
   ]
  },
  {
   "cell_type": "code",
   "execution_count": 506,
   "id": "478aeaee-cd40-4730-815c-385c2db0d5ec",
   "metadata": {},
   "outputs": [],
   "source": [
    "scores = show_scores_player(coef=coef, series_id_player=player_ids, filter_na=False)"
   ]
  },
  {
   "cell_type": "code",
   "execution_count": 507,
   "id": "7fac4da3-c5e7-44cc-bef2-84a159f5cb30",
   "metadata": {},
   "outputs": [],
   "source": [
    "scores['PLAYER_ID'] = scores['PLAYER_ID'].astype(int).astype(str)"
   ]
  },
  {
   "cell_type": "code",
   "execution_count": 291,
   "id": "ec16fcad-bba0-4f99-8dc1-6bfeb2c2d089",
   "metadata": {},
   "outputs": [
    {
     "name": "stderr",
     "output_type": "stream",
     "text": [
      "100%|██████████| 473/473 [17:58<00:00,  2.28s/it]\n"
     ]
    }
   ],
   "source": [
    "full_player_ratingdata import get_clean_player_data\n",
    "import time\n",
    "from tqdm import tqdm\n",
    "list_player = list()\n",
    "\n",
    "for player in tqdm(scores['PLAYER_ID']):\n",
    "    list_player.append(get_clean_player_data(player_id=player))\n",
    "    time.sleep(0.75)\n",
    "    \n",
    "data_player = pd.concat(list_player)"
   ]
  },
  {
   "cell_type": "code",
   "execution_count": 508,
   "id": "9d094455-a12c-445a-9bde-0b81c7eeddbb",
   "metadata": {},
   "outputs": [],
   "source": [
    "last_season = data_player.groupby('PLAYER_ID').nth(-2).reset_index()\n",
    "last_season['PLAYER_ID'] = last_season['PLAYER_ID'].astype(str)"
   ]
  },
  {
   "cell_type": "code",
   "execution_count": 509,
   "id": "9891eabe-4551-4d1a-98f2-39e72f684349",
   "metadata": {},
   "outputs": [
    {
     "data": {
      "text/html": [
       "<div>\n",
       "<style scoped>\n",
       "    .dataframe tbody tr th:only-of-type {\n",
       "        vertical-align: middle;\n",
       "    }\n",
       "\n",
       "    .dataframe tbody tr th {\n",
       "        vertical-align: top;\n",
       "    }\n",
       "\n",
       "    .dataframe thead th {\n",
       "        text-align: right;\n",
       "    }\n",
       "</style>\n",
       "<table border=\"1\" class=\"dataframe\">\n",
       "  <thead>\n",
       "    <tr style=\"text-align: right;\">\n",
       "      <th></th>\n",
       "      <th>PLAYER_ID</th>\n",
       "      <th>SEASON_ID</th>\n",
       "      <th>TEAM_ID</th>\n",
       "      <th>PLAYER_AGE</th>\n",
       "      <th>GP</th>\n",
       "      <th>GS</th>\n",
       "      <th>MIN</th>\n",
       "      <th>FG_PCT</th>\n",
       "      <th>FGA</th>\n",
       "      <th>FG3_PCT</th>\n",
       "      <th>...</th>\n",
       "      <th>STL</th>\n",
       "      <th>BLK</th>\n",
       "      <th>TOV</th>\n",
       "      <th>PF</th>\n",
       "      <th>PTS</th>\n",
       "      <th>SCORE</th>\n",
       "      <th>id</th>\n",
       "      <th>player_names</th>\n",
       "      <th>position</th>\n",
       "      <th>team</th>\n",
       "    </tr>\n",
       "  </thead>\n",
       "  <tbody>\n",
       "    <tr>\n",
       "      <th>305</th>\n",
       "      <td>1629002</td>\n",
       "      <td>2020-21</td>\n",
       "      <td>1.610613e+09</td>\n",
       "      <td>24.0</td>\n",
       "      <td>36</td>\n",
       "      <td>6</td>\n",
       "      <td>13.6</td>\n",
       "      <td>0.508</td>\n",
       "      <td>5.0</td>\n",
       "      <td>0.351</td>\n",
       "      <td>...</td>\n",
       "      <td>0.4</td>\n",
       "      <td>0.5</td>\n",
       "      <td>0.8</td>\n",
       "      <td>1.6</td>\n",
       "      <td>6.3</td>\n",
       "      <td>0.552511</td>\n",
       "      <td>1629002.0</td>\n",
       "      <td>Chimezie Metu</td>\n",
       "      <td>F</td>\n",
       "      <td>SAC</td>\n",
       "    </tr>\n",
       "    <tr>\n",
       "      <th>34</th>\n",
       "      <td>201577</td>\n",
       "      <td>2020-21</td>\n",
       "      <td>1.610613e+09</td>\n",
       "      <td>33.0</td>\n",
       "      <td>71</td>\n",
       "      <td>9</td>\n",
       "      <td>19.1</td>\n",
       "      <td>0.633</td>\n",
       "      <td>6.0</td>\n",
       "      <td>0.278</td>\n",
       "      <td>...</td>\n",
       "      <td>0.2</td>\n",
       "      <td>0.6</td>\n",
       "      <td>1.1</td>\n",
       "      <td>1.5</td>\n",
       "      <td>9.0</td>\n",
       "      <td>0.469818</td>\n",
       "      <td>201577.0</td>\n",
       "      <td>Robin Lopez</td>\n",
       "      <td>C</td>\n",
       "      <td>WAS</td>\n",
       "    </tr>\n",
       "    <tr>\n",
       "      <th>74</th>\n",
       "      <td>202689</td>\n",
       "      <td>2020-21</td>\n",
       "      <td>1.610613e+09</td>\n",
       "      <td>31.0</td>\n",
       "      <td>43</td>\n",
       "      <td>43</td>\n",
       "      <td>31.8</td>\n",
       "      <td>0.420</td>\n",
       "      <td>15.7</td>\n",
       "      <td>0.36</td>\n",
       "      <td>...</td>\n",
       "      <td>1.1</td>\n",
       "      <td>0.3</td>\n",
       "      <td>2.0</td>\n",
       "      <td>1.4</td>\n",
       "      <td>19.3</td>\n",
       "      <td>0.406425</td>\n",
       "      <td>202689.0</td>\n",
       "      <td>Kemba Walker</td>\n",
       "      <td>G</td>\n",
       "      <td>BOS</td>\n",
       "    </tr>\n",
       "    <tr>\n",
       "      <th>202</th>\n",
       "      <td>1626224</td>\n",
       "      <td>2020-21</td>\n",
       "      <td>1.610613e+09</td>\n",
       "      <td>26.0</td>\n",
       "      <td>59</td>\n",
       "      <td>26</td>\n",
       "      <td>25.6</td>\n",
       "      <td>0.374</td>\n",
       "      <td>9.9</td>\n",
       "      <td>0.306</td>\n",
       "      <td>...</td>\n",
       "      <td>0.9</td>\n",
       "      <td>0.2</td>\n",
       "      <td>1.4</td>\n",
       "      <td>2.0</td>\n",
       "      <td>10.4</td>\n",
       "      <td>0.370301</td>\n",
       "      <td>1626224.0</td>\n",
       "      <td>Cedi Osman</td>\n",
       "      <td>F</td>\n",
       "      <td>CLE</td>\n",
       "    </tr>\n",
       "    <tr>\n",
       "      <th>230</th>\n",
       "      <td>1627814</td>\n",
       "      <td>2020-21</td>\n",
       "      <td>1.610613e+09</td>\n",
       "      <td>28.0</td>\n",
       "      <td>57</td>\n",
       "      <td>1</td>\n",
       "      <td>18.9</td>\n",
       "      <td>0.467</td>\n",
       "      <td>4.8</td>\n",
       "      <td>0.397</td>\n",
       "      <td>...</td>\n",
       "      <td>0.7</td>\n",
       "      <td>0.1</td>\n",
       "      <td>0.5</td>\n",
       "      <td>1.6</td>\n",
       "      <td>6.5</td>\n",
       "      <td>0.350379</td>\n",
       "      <td>1627814.0</td>\n",
       "      <td>Damion Lee</td>\n",
       "      <td>G</td>\n",
       "      <td>GSW</td>\n",
       "    </tr>\n",
       "    <tr>\n",
       "      <th>49</th>\n",
       "      <td>201952</td>\n",
       "      <td>2020-21</td>\n",
       "      <td>1.610613e+09</td>\n",
       "      <td>33.0</td>\n",
       "      <td>34</td>\n",
       "      <td>5</td>\n",
       "      <td>18.1</td>\n",
       "      <td>0.415</td>\n",
       "      <td>5.5</td>\n",
       "      <td>0.464</td>\n",
       "      <td>...</td>\n",
       "      <td>0.8</td>\n",
       "      <td>0.2</td>\n",
       "      <td>1.1</td>\n",
       "      <td>1.3</td>\n",
       "      <td>6.9</td>\n",
       "      <td>0.306606</td>\n",
       "      <td>NaN</td>\n",
       "      <td>NaN</td>\n",
       "      <td>NaN</td>\n",
       "      <td>NaN</td>\n",
       "    </tr>\n",
       "    <tr>\n",
       "      <th>210</th>\n",
       "      <td>1627745</td>\n",
       "      <td>2020-21</td>\n",
       "      <td>1.610613e+09</td>\n",
       "      <td>26.0</td>\n",
       "      <td>17</td>\n",
       "      <td>4</td>\n",
       "      <td>20.0</td>\n",
       "      <td>0.657</td>\n",
       "      <td>4.1</td>\n",
       "      <td>0.25</td>\n",
       "      <td>...</td>\n",
       "      <td>0.5</td>\n",
       "      <td>1.0</td>\n",
       "      <td>0.9</td>\n",
       "      <td>2.1</td>\n",
       "      <td>6.9</td>\n",
       "      <td>0.286884</td>\n",
       "      <td>1627745.0</td>\n",
       "      <td>Damian Jones</td>\n",
       "      <td>C</td>\n",
       "      <td>SAC</td>\n",
       "    </tr>\n",
       "    <tr>\n",
       "      <th>43</th>\n",
       "      <td>201935</td>\n",
       "      <td>2020-21</td>\n",
       "      <td>1.610613e+09</td>\n",
       "      <td>31.0</td>\n",
       "      <td>36</td>\n",
       "      <td>35</td>\n",
       "      <td>36.6</td>\n",
       "      <td>0.471</td>\n",
       "      <td>16.6</td>\n",
       "      <td>0.366</td>\n",
       "      <td>...</td>\n",
       "      <td>1.3</td>\n",
       "      <td>0.8</td>\n",
       "      <td>4.0</td>\n",
       "      <td>2.4</td>\n",
       "      <td>24.6</td>\n",
       "      <td>0.279097</td>\n",
       "      <td>201935.0</td>\n",
       "      <td>James Harden</td>\n",
       "      <td>G</td>\n",
       "      <td>BKN</td>\n",
       "    </tr>\n",
       "    <tr>\n",
       "      <th>222</th>\n",
       "      <td>1627774</td>\n",
       "      <td>2020-21</td>\n",
       "      <td>1.610613e+09</td>\n",
       "      <td>27.0</td>\n",
       "      <td>45</td>\n",
       "      <td>11</td>\n",
       "      <td>13.9</td>\n",
       "      <td>0.495</td>\n",
       "      <td>4.1</td>\n",
       "      <td>0.295</td>\n",
       "      <td>...</td>\n",
       "      <td>0.6</td>\n",
       "      <td>0.4</td>\n",
       "      <td>0.6</td>\n",
       "      <td>1.0</td>\n",
       "      <td>5.1</td>\n",
       "      <td>0.277446</td>\n",
       "      <td>1627774.0</td>\n",
       "      <td>Jake Layman</td>\n",
       "      <td>F</td>\n",
       "      <td>MIN</td>\n",
       "    </tr>\n",
       "    <tr>\n",
       "      <th>131</th>\n",
       "      <td>203503</td>\n",
       "      <td>2020-21</td>\n",
       "      <td>1.610613e+09</td>\n",
       "      <td>29.0</td>\n",
       "      <td>47</td>\n",
       "      <td>23</td>\n",
       "      <td>21.1</td>\n",
       "      <td>0.515</td>\n",
       "      <td>3.6</td>\n",
       "      <td>0.569</td>\n",
       "      <td>...</td>\n",
       "      <td>0.3</td>\n",
       "      <td>0.2</td>\n",
       "      <td>0.4</td>\n",
       "      <td>1.6</td>\n",
       "      <td>5.3</td>\n",
       "      <td>0.274455</td>\n",
       "      <td>203503.0</td>\n",
       "      <td>Tony Snell</td>\n",
       "      <td>G</td>\n",
       "      <td>ATL</td>\n",
       "    </tr>\n",
       "    <tr>\n",
       "      <th>264</th>\n",
       "      <td>1628395</td>\n",
       "      <td>2020-21</td>\n",
       "      <td>1.610613e+09</td>\n",
       "      <td>26.0</td>\n",
       "      <td>5</td>\n",
       "      <td>1</td>\n",
       "      <td>13.4</td>\n",
       "      <td>0.350</td>\n",
       "      <td>4.0</td>\n",
       "      <td>0.0</td>\n",
       "      <td>...</td>\n",
       "      <td>0.6</td>\n",
       "      <td>0.6</td>\n",
       "      <td>0.6</td>\n",
       "      <td>1.0</td>\n",
       "      <td>2.8</td>\n",
       "      <td>0.266980</td>\n",
       "      <td>NaN</td>\n",
       "      <td>NaN</td>\n",
       "      <td>NaN</td>\n",
       "      <td>NaN</td>\n",
       "    </tr>\n",
       "    <tr>\n",
       "      <th>87</th>\n",
       "      <td>202734</td>\n",
       "      <td>2019-20</td>\n",
       "      <td>1.610613e+09</td>\n",
       "      <td>31.0</td>\n",
       "      <td>56</td>\n",
       "      <td>6</td>\n",
       "      <td>18.2</td>\n",
       "      <td>0.426</td>\n",
       "      <td>7.8</td>\n",
       "      <td>0.377</td>\n",
       "      <td>...</td>\n",
       "      <td>0.6</td>\n",
       "      <td>0.2</td>\n",
       "      <td>0.7</td>\n",
       "      <td>1.4</td>\n",
       "      <td>8.3</td>\n",
       "      <td>0.265128</td>\n",
       "      <td>202734.0</td>\n",
       "      <td>E'Twaun Moore</td>\n",
       "      <td>G</td>\n",
       "      <td>PHX</td>\n",
       "    </tr>\n",
       "    <tr>\n",
       "      <th>323</th>\n",
       "      <td>1629027</td>\n",
       "      <td>2020-21</td>\n",
       "      <td>1.610613e+09</td>\n",
       "      <td>22.0</td>\n",
       "      <td>63</td>\n",
       "      <td>63</td>\n",
       "      <td>33.7</td>\n",
       "      <td>0.438</td>\n",
       "      <td>17.7</td>\n",
       "      <td>0.343</td>\n",
       "      <td>...</td>\n",
       "      <td>0.8</td>\n",
       "      <td>0.2</td>\n",
       "      <td>4.1</td>\n",
       "      <td>1.8</td>\n",
       "      <td>25.3</td>\n",
       "      <td>0.251867</td>\n",
       "      <td>1629027.0</td>\n",
       "      <td>Trae Young</td>\n",
       "      <td>G</td>\n",
       "      <td>ATL</td>\n",
       "    </tr>\n",
       "    <tr>\n",
       "      <th>80</th>\n",
       "      <td>202699</td>\n",
       "      <td>2021-22</td>\n",
       "      <td>1.610613e+09</td>\n",
       "      <td>29.0</td>\n",
       "      <td>16</td>\n",
       "      <td>16</td>\n",
       "      <td>34.5</td>\n",
       "      <td>0.473</td>\n",
       "      <td>16.3</td>\n",
       "      <td>0.313</td>\n",
       "      <td>...</td>\n",
       "      <td>0.4</td>\n",
       "      <td>0.6</td>\n",
       "      <td>1.7</td>\n",
       "      <td>1.4</td>\n",
       "      <td>19.3</td>\n",
       "      <td>0.245132</td>\n",
       "      <td>202699.0</td>\n",
       "      <td>Tobias Harris</td>\n",
       "      <td>F</td>\n",
       "      <td>PHI</td>\n",
       "    </tr>\n",
       "    <tr>\n",
       "      <th>225</th>\n",
       "      <td>1627783</td>\n",
       "      <td>2020-21</td>\n",
       "      <td>1.610613e+09</td>\n",
       "      <td>27.0</td>\n",
       "      <td>56</td>\n",
       "      <td>56</td>\n",
       "      <td>35.8</td>\n",
       "      <td>0.455</td>\n",
       "      <td>17.2</td>\n",
       "      <td>0.297</td>\n",
       "      <td>...</td>\n",
       "      <td>1.1</td>\n",
       "      <td>0.7</td>\n",
       "      <td>2.3</td>\n",
       "      <td>3.1</td>\n",
       "      <td>21.4</td>\n",
       "      <td>0.240639</td>\n",
       "      <td>1627783.0</td>\n",
       "      <td>Pascal Siakam</td>\n",
       "      <td>F</td>\n",
       "      <td>TOR</td>\n",
       "    </tr>\n",
       "    <tr>\n",
       "      <th>325</th>\n",
       "      <td>1629029</td>\n",
       "      <td>2020-21</td>\n",
       "      <td>1.610613e+09</td>\n",
       "      <td>22.0</td>\n",
       "      <td>66</td>\n",
       "      <td>66</td>\n",
       "      <td>34.3</td>\n",
       "      <td>0.479</td>\n",
       "      <td>20.5</td>\n",
       "      <td>0.35</td>\n",
       "      <td>...</td>\n",
       "      <td>1.0</td>\n",
       "      <td>0.5</td>\n",
       "      <td>4.3</td>\n",
       "      <td>2.3</td>\n",
       "      <td>27.7</td>\n",
       "      <td>0.234864</td>\n",
       "      <td>1629029.0</td>\n",
       "      <td>Luka Doncic</td>\n",
       "      <td>F</td>\n",
       "      <td>DAL</td>\n",
       "    </tr>\n",
       "    <tr>\n",
       "      <th>308</th>\n",
       "      <td>1629006</td>\n",
       "      <td>2020-21</td>\n",
       "      <td>1.610613e+09</td>\n",
       "      <td>22.0</td>\n",
       "      <td>59</td>\n",
       "      <td>37</td>\n",
       "      <td>20.3</td>\n",
       "      <td>0.402</td>\n",
       "      <td>4.3</td>\n",
       "      <td>0.269</td>\n",
       "      <td>...</td>\n",
       "      <td>0.9</td>\n",
       "      <td>0.5</td>\n",
       "      <td>0.7</td>\n",
       "      <td>2.1</td>\n",
       "      <td>5.4</td>\n",
       "      <td>0.233623</td>\n",
       "      <td>1629006.0</td>\n",
       "      <td>Josh Okogie</td>\n",
       "      <td>G</td>\n",
       "      <td>MIN</td>\n",
       "    </tr>\n",
       "    <tr>\n",
       "      <th>270</th>\n",
       "      <td>1628404</td>\n",
       "      <td>2020-21</td>\n",
       "      <td>1.610613e+09</td>\n",
       "      <td>26.0</td>\n",
       "      <td>47</td>\n",
       "      <td>4</td>\n",
       "      <td>28.7</td>\n",
       "      <td>0.439</td>\n",
       "      <td>7.3</td>\n",
       "      <td>0.326</td>\n",
       "      <td>...</td>\n",
       "      <td>0.8</td>\n",
       "      <td>0.3</td>\n",
       "      <td>1.0</td>\n",
       "      <td>2.4</td>\n",
       "      <td>9.2</td>\n",
       "      <td>0.230957</td>\n",
       "      <td>1628404.0</td>\n",
       "      <td>Josh Hart</td>\n",
       "      <td>G</td>\n",
       "      <td>NOP</td>\n",
       "    </tr>\n",
       "    <tr>\n",
       "      <th>198</th>\n",
       "      <td>1626203</td>\n",
       "      <td>2019-20</td>\n",
       "      <td>1.610613e+09</td>\n",
       "      <td>26.0</td>\n",
       "      <td>33</td>\n",
       "      <td>20</td>\n",
       "      <td>20.1</td>\n",
       "      <td>0.354</td>\n",
       "      <td>5.3</td>\n",
       "      <td>0.241</td>\n",
       "      <td>...</td>\n",
       "      <td>0.5</td>\n",
       "      <td>0.1</td>\n",
       "      <td>0.6</td>\n",
       "      <td>2.0</td>\n",
       "      <td>5.2</td>\n",
       "      <td>0.218249</td>\n",
       "      <td>NaN</td>\n",
       "      <td>NaN</td>\n",
       "      <td>NaN</td>\n",
       "      <td>NaN</td>\n",
       "    </tr>\n",
       "    <tr>\n",
       "      <th>268</th>\n",
       "      <td>1628401</td>\n",
       "      <td>2020-21</td>\n",
       "      <td>1.610613e+09</td>\n",
       "      <td>26.0</td>\n",
       "      <td>36</td>\n",
       "      <td>32</td>\n",
       "      <td>29.5</td>\n",
       "      <td>0.411</td>\n",
       "      <td>12.6</td>\n",
       "      <td>0.346</td>\n",
       "      <td>...</td>\n",
       "      <td>0.7</td>\n",
       "      <td>1.0</td>\n",
       "      <td>1.3</td>\n",
       "      <td>2.5</td>\n",
       "      <td>15.4</td>\n",
       "      <td>0.213019</td>\n",
       "      <td>1628401.0</td>\n",
       "      <td>Derrick White</td>\n",
       "      <td>G</td>\n",
       "      <td>SAS</td>\n",
       "    </tr>\n",
       "    <tr>\n",
       "      <th>257</th>\n",
       "      <td>1628384</td>\n",
       "      <td>2020-21</td>\n",
       "      <td>1.610613e+09</td>\n",
       "      <td>23.0</td>\n",
       "      <td>43</td>\n",
       "      <td>43</td>\n",
       "      <td>33.3</td>\n",
       "      <td>0.480</td>\n",
       "      <td>12.1</td>\n",
       "      <td>0.398</td>\n",
       "      <td>...</td>\n",
       "      <td>1.5</td>\n",
       "      <td>0.7</td>\n",
       "      <td>1.7</td>\n",
       "      <td>2.7</td>\n",
       "      <td>15.9</td>\n",
       "      <td>0.205383</td>\n",
       "      <td>1628384.0</td>\n",
       "      <td>OG Anunoby</td>\n",
       "      <td>F</td>\n",
       "      <td>TOR</td>\n",
       "    </tr>\n",
       "    <tr>\n",
       "      <th>85</th>\n",
       "      <td>202718</td>\n",
       "      <td>2018-19</td>\n",
       "      <td>1.610613e+09</td>\n",
       "      <td>30.0</td>\n",
       "      <td>25</td>\n",
       "      <td>3</td>\n",
       "      <td>19.8</td>\n",
       "      <td>0.374</td>\n",
       "      <td>7.3</td>\n",
       "      <td>0.309</td>\n",
       "      <td>...</td>\n",
       "      <td>0.8</td>\n",
       "      <td>0.2</td>\n",
       "      <td>1.3</td>\n",
       "      <td>1.8</td>\n",
       "      <td>7.5</td>\n",
       "      <td>0.190727</td>\n",
       "      <td>NaN</td>\n",
       "      <td>NaN</td>\n",
       "      <td>NaN</td>\n",
       "      <td>NaN</td>\n",
       "    </tr>\n",
       "    <tr>\n",
       "      <th>283</th>\n",
       "      <td>1628470</td>\n",
       "      <td>2020-21</td>\n",
       "      <td>1.610613e+09</td>\n",
       "      <td>30.0</td>\n",
       "      <td>32</td>\n",
       "      <td>8</td>\n",
       "      <td>18.8</td>\n",
       "      <td>0.503</td>\n",
       "      <td>5.7</td>\n",
       "      <td>0.369</td>\n",
       "      <td>...</td>\n",
       "      <td>0.6</td>\n",
       "      <td>0.6</td>\n",
       "      <td>0.6</td>\n",
       "      <td>1.8</td>\n",
       "      <td>7.2</td>\n",
       "      <td>0.189919</td>\n",
       "      <td>1628470.0</td>\n",
       "      <td>Torrey Craig</td>\n",
       "      <td>F</td>\n",
       "      <td>PHX</td>\n",
       "    </tr>\n",
       "    <tr>\n",
       "      <th>133</th>\n",
       "      <td>203507</td>\n",
       "      <td>2020-21</td>\n",
       "      <td>1.610613e+09</td>\n",
       "      <td>26.0</td>\n",
       "      <td>61</td>\n",
       "      <td>61</td>\n",
       "      <td>33.0</td>\n",
       "      <td>0.569</td>\n",
       "      <td>18.0</td>\n",
       "      <td>0.303</td>\n",
       "      <td>...</td>\n",
       "      <td>1.2</td>\n",
       "      <td>1.2</td>\n",
       "      <td>3.4</td>\n",
       "      <td>2.8</td>\n",
       "      <td>28.1</td>\n",
       "      <td>0.188675</td>\n",
       "      <td>203507.0</td>\n",
       "      <td>Giannis Antetokounmpo</td>\n",
       "      <td>F</td>\n",
       "      <td>MIL</td>\n",
       "    </tr>\n",
       "    <tr>\n",
       "      <th>164</th>\n",
       "      <td>203991</td>\n",
       "      <td>2020-21</td>\n",
       "      <td>1.610613e+09</td>\n",
       "      <td>27.0</td>\n",
       "      <td>63</td>\n",
       "      <td>63</td>\n",
       "      <td>30.1</td>\n",
       "      <td>0.594</td>\n",
       "      <td>11.0</td>\n",
       "      <td>0.0</td>\n",
       "      <td>...</td>\n",
       "      <td>0.7</td>\n",
       "      <td>2.0</td>\n",
       "      <td>1.2</td>\n",
       "      <td>2.3</td>\n",
       "      <td>15.2</td>\n",
       "      <td>0.182100</td>\n",
       "      <td>203991.0</td>\n",
       "      <td>Clint Capela</td>\n",
       "      <td>C</td>\n",
       "      <td>ATL</td>\n",
       "    </tr>\n",
       "    <tr>\n",
       "      <th>217</th>\n",
       "      <td>1627756</td>\n",
       "      <td>2020-21</td>\n",
       "      <td>1.610613e+09</td>\n",
       "      <td>27.0</td>\n",
       "      <td>62</td>\n",
       "      <td>3</td>\n",
       "      <td>16.7</td>\n",
       "      <td>0.373</td>\n",
       "      <td>6.7</td>\n",
       "      <td>0.331</td>\n",
       "      <td>...</td>\n",
       "      <td>0.5</td>\n",
       "      <td>0.1</td>\n",
       "      <td>0.7</td>\n",
       "      <td>1.1</td>\n",
       "      <td>6.5</td>\n",
       "      <td>0.175997</td>\n",
       "      <td>1627756.0</td>\n",
       "      <td>Denzel Valentine</td>\n",
       "      <td>G</td>\n",
       "      <td>CHI</td>\n",
       "    </tr>\n",
       "    <tr>\n",
       "      <th>351</th>\n",
       "      <td>1629637</td>\n",
       "      <td>2020-21</td>\n",
       "      <td>1.610613e+09</td>\n",
       "      <td>21.0</td>\n",
       "      <td>60</td>\n",
       "      <td>3</td>\n",
       "      <td>16.1</td>\n",
       "      <td>0.625</td>\n",
       "      <td>4.7</td>\n",
       "      <td>0.429</td>\n",
       "      <td>...</td>\n",
       "      <td>0.4</td>\n",
       "      <td>0.6</td>\n",
       "      <td>0.7</td>\n",
       "      <td>1.7</td>\n",
       "      <td>7.5</td>\n",
       "      <td>0.169584</td>\n",
       "      <td>1629637.0</td>\n",
       "      <td>Jaxson Hayes</td>\n",
       "      <td>C</td>\n",
       "      <td>NOP</td>\n",
       "    </tr>\n",
       "    <tr>\n",
       "      <th>50</th>\n",
       "      <td>201959</td>\n",
       "      <td>2020-21</td>\n",
       "      <td>1.610613e+09</td>\n",
       "      <td>36.0</td>\n",
       "      <td>45</td>\n",
       "      <td>3</td>\n",
       "      <td>20.8</td>\n",
       "      <td>0.627</td>\n",
       "      <td>3.5</td>\n",
       "      <td>0.2</td>\n",
       "      <td>...</td>\n",
       "      <td>0.7</td>\n",
       "      <td>1.1</td>\n",
       "      <td>0.5</td>\n",
       "      <td>2.2</td>\n",
       "      <td>5.4</td>\n",
       "      <td>0.169450</td>\n",
       "      <td>201959.0</td>\n",
       "      <td>Taj Gibson</td>\n",
       "      <td>F</td>\n",
       "      <td>NYK</td>\n",
       "    </tr>\n",
       "    <tr>\n",
       "      <th>207</th>\n",
       "      <td>1627739</td>\n",
       "      <td>2019-20</td>\n",
       "      <td>1.610613e+09</td>\n",
       "      <td>26.0</td>\n",
       "      <td>51</td>\n",
       "      <td>32</td>\n",
       "      <td>24.9</td>\n",
       "      <td>0.444</td>\n",
       "      <td>6.7</td>\n",
       "      <td>0.259</td>\n",
       "      <td>...</td>\n",
       "      <td>2.0</td>\n",
       "      <td>0.3</td>\n",
       "      <td>1.3</td>\n",
       "      <td>3.1</td>\n",
       "      <td>7.3</td>\n",
       "      <td>0.167078</td>\n",
       "      <td>NaN</td>\n",
       "      <td>NaN</td>\n",
       "      <td>NaN</td>\n",
       "      <td>NaN</td>\n",
       "    </tr>\n",
       "    <tr>\n",
       "      <th>216</th>\n",
       "      <td>1627752</td>\n",
       "      <td>2020-21</td>\n",
       "      <td>1.610613e+09</td>\n",
       "      <td>27.0</td>\n",
       "      <td>29</td>\n",
       "      <td>6</td>\n",
       "      <td>23.7</td>\n",
       "      <td>0.399</td>\n",
       "      <td>8.7</td>\n",
       "      <td>0.415</td>\n",
       "      <td>...</td>\n",
       "      <td>0.7</td>\n",
       "      <td>0.5</td>\n",
       "      <td>1.2</td>\n",
       "      <td>1.9</td>\n",
       "      <td>10.1</td>\n",
       "      <td>0.162487</td>\n",
       "      <td>1627752.0</td>\n",
       "      <td>Taurean Prince</td>\n",
       "      <td>F</td>\n",
       "      <td>CLE</td>\n",
       "    </tr>\n",
       "  </tbody>\n",
       "</table>\n",
       "<p>30 rows × 27 columns</p>\n",
       "</div>"
      ],
      "text/plain": [
       "    PLAYER_ID SEASON_ID       TEAM_ID PLAYER_AGE  GP  GS   MIN  FG_PCT   FGA  \\\n",
       "305   1629002   2020-21  1.610613e+09       24.0  36   6  13.6   0.508   5.0   \n",
       "34     201577   2020-21  1.610613e+09       33.0  71   9  19.1   0.633   6.0   \n",
       "74     202689   2020-21  1.610613e+09       31.0  43  43  31.8   0.420  15.7   \n",
       "202   1626224   2020-21  1.610613e+09       26.0  59  26  25.6   0.374   9.9   \n",
       "230   1627814   2020-21  1.610613e+09       28.0  57   1  18.9   0.467   4.8   \n",
       "49     201952   2020-21  1.610613e+09       33.0  34   5  18.1   0.415   5.5   \n",
       "210   1627745   2020-21  1.610613e+09       26.0  17   4  20.0   0.657   4.1   \n",
       "43     201935   2020-21  1.610613e+09       31.0  36  35  36.6   0.471  16.6   \n",
       "222   1627774   2020-21  1.610613e+09       27.0  45  11  13.9   0.495   4.1   \n",
       "131    203503   2020-21  1.610613e+09       29.0  47  23  21.1   0.515   3.6   \n",
       "264   1628395   2020-21  1.610613e+09       26.0   5   1  13.4   0.350   4.0   \n",
       "87     202734   2019-20  1.610613e+09       31.0  56   6  18.2   0.426   7.8   \n",
       "323   1629027   2020-21  1.610613e+09       22.0  63  63  33.7   0.438  17.7   \n",
       "80     202699   2021-22  1.610613e+09       29.0  16  16  34.5   0.473  16.3   \n",
       "225   1627783   2020-21  1.610613e+09       27.0  56  56  35.8   0.455  17.2   \n",
       "325   1629029   2020-21  1.610613e+09       22.0  66  66  34.3   0.479  20.5   \n",
       "308   1629006   2020-21  1.610613e+09       22.0  59  37  20.3   0.402   4.3   \n",
       "270   1628404   2020-21  1.610613e+09       26.0  47   4  28.7   0.439   7.3   \n",
       "198   1626203   2019-20  1.610613e+09       26.0  33  20  20.1   0.354   5.3   \n",
       "268   1628401   2020-21  1.610613e+09       26.0  36  32  29.5   0.411  12.6   \n",
       "257   1628384   2020-21  1.610613e+09       23.0  43  43  33.3   0.480  12.1   \n",
       "85     202718   2018-19  1.610613e+09       30.0  25   3  19.8   0.374   7.3   \n",
       "283   1628470   2020-21  1.610613e+09       30.0  32   8  18.8   0.503   5.7   \n",
       "133    203507   2020-21  1.610613e+09       26.0  61  61  33.0   0.569  18.0   \n",
       "164    203991   2020-21  1.610613e+09       27.0  63  63  30.1   0.594  11.0   \n",
       "217   1627756   2020-21  1.610613e+09       27.0  62   3  16.7   0.373   6.7   \n",
       "351   1629637   2020-21  1.610613e+09       21.0  60   3  16.1   0.625   4.7   \n",
       "50     201959   2020-21  1.610613e+09       36.0  45   3  20.8   0.627   3.5   \n",
       "207   1627739   2019-20  1.610613e+09       26.0  51  32  24.9   0.444   6.7   \n",
       "216   1627752   2020-21  1.610613e+09       27.0  29   6  23.7   0.399   8.7   \n",
       "\n",
       "    FG3_PCT  ...  STL  BLK  TOV   PF   PTS     SCORE         id  \\\n",
       "305   0.351  ...  0.4  0.5  0.8  1.6   6.3  0.552511  1629002.0   \n",
       "34    0.278  ...  0.2  0.6  1.1  1.5   9.0  0.469818   201577.0   \n",
       "74     0.36  ...  1.1  0.3  2.0  1.4  19.3  0.406425   202689.0   \n",
       "202   0.306  ...  0.9  0.2  1.4  2.0  10.4  0.370301  1626224.0   \n",
       "230   0.397  ...  0.7  0.1  0.5  1.6   6.5  0.350379  1627814.0   \n",
       "49    0.464  ...  0.8  0.2  1.1  1.3   6.9  0.306606        NaN   \n",
       "210    0.25  ...  0.5  1.0  0.9  2.1   6.9  0.286884  1627745.0   \n",
       "43    0.366  ...  1.3  0.8  4.0  2.4  24.6  0.279097   201935.0   \n",
       "222   0.295  ...  0.6  0.4  0.6  1.0   5.1  0.277446  1627774.0   \n",
       "131   0.569  ...  0.3  0.2  0.4  1.6   5.3  0.274455   203503.0   \n",
       "264     0.0  ...  0.6  0.6  0.6  1.0   2.8  0.266980        NaN   \n",
       "87    0.377  ...  0.6  0.2  0.7  1.4   8.3  0.265128   202734.0   \n",
       "323   0.343  ...  0.8  0.2  4.1  1.8  25.3  0.251867  1629027.0   \n",
       "80    0.313  ...  0.4  0.6  1.7  1.4  19.3  0.245132   202699.0   \n",
       "225   0.297  ...  1.1  0.7  2.3  3.1  21.4  0.240639  1627783.0   \n",
       "325    0.35  ...  1.0  0.5  4.3  2.3  27.7  0.234864  1629029.0   \n",
       "308   0.269  ...  0.9  0.5  0.7  2.1   5.4  0.233623  1629006.0   \n",
       "270   0.326  ...  0.8  0.3  1.0  2.4   9.2  0.230957  1628404.0   \n",
       "198   0.241  ...  0.5  0.1  0.6  2.0   5.2  0.218249        NaN   \n",
       "268   0.346  ...  0.7  1.0  1.3  2.5  15.4  0.213019  1628401.0   \n",
       "257   0.398  ...  1.5  0.7  1.7  2.7  15.9  0.205383  1628384.0   \n",
       "85    0.309  ...  0.8  0.2  1.3  1.8   7.5  0.190727        NaN   \n",
       "283   0.369  ...  0.6  0.6  0.6  1.8   7.2  0.189919  1628470.0   \n",
       "133   0.303  ...  1.2  1.2  3.4  2.8  28.1  0.188675   203507.0   \n",
       "164     0.0  ...  0.7  2.0  1.2  2.3  15.2  0.182100   203991.0   \n",
       "217   0.331  ...  0.5  0.1  0.7  1.1   6.5  0.175997  1627756.0   \n",
       "351   0.429  ...  0.4  0.6  0.7  1.7   7.5  0.169584  1629637.0   \n",
       "50      0.2  ...  0.7  1.1  0.5  2.2   5.4  0.169450   201959.0   \n",
       "207   0.259  ...  2.0  0.3  1.3  3.1   7.3  0.167078        NaN   \n",
       "216   0.415  ...  0.7  0.5  1.2  1.9  10.1  0.162487  1627752.0   \n",
       "\n",
       "              player_names  position  team  \n",
       "305          Chimezie Metu         F   SAC  \n",
       "34             Robin Lopez         C   WAS  \n",
       "74            Kemba Walker         G   BOS  \n",
       "202             Cedi Osman         F   CLE  \n",
       "230             Damion Lee         G   GSW  \n",
       "49                     NaN       NaN   NaN  \n",
       "210           Damian Jones         C   SAC  \n",
       "43            James Harden         G   BKN  \n",
       "222            Jake Layman         F   MIN  \n",
       "131             Tony Snell         G   ATL  \n",
       "264                    NaN       NaN   NaN  \n",
       "87           E'Twaun Moore         G   PHX  \n",
       "323             Trae Young         G   ATL  \n",
       "80           Tobias Harris         F   PHI  \n",
       "225          Pascal Siakam         F   TOR  \n",
       "325            Luka Doncic         F   DAL  \n",
       "308            Josh Okogie         G   MIN  \n",
       "270              Josh Hart         G   NOP  \n",
       "198                    NaN       NaN   NaN  \n",
       "268          Derrick White         G   SAS  \n",
       "257             OG Anunoby         F   TOR  \n",
       "85                     NaN       NaN   NaN  \n",
       "283           Torrey Craig         F   PHX  \n",
       "133  Giannis Antetokounmpo         F   MIL  \n",
       "164           Clint Capela         C   ATL  \n",
       "217       Denzel Valentine         G   CHI  \n",
       "351           Jaxson Hayes         C   NOP  \n",
       "50              Taj Gibson         F   NYK  \n",
       "207                    NaN       NaN   NaN  \n",
       "216         Taurean Prince         F   CLE  \n",
       "\n",
       "[30 rows x 27 columns]"
      ]
     },
     "execution_count": 509,
     "metadata": {},
     "output_type": "execute_result"
    }
   ],
   "source": [
    "full_player_rating = pd.merge(last_season[last_season['MIN'] > 12], scores, on='PLAYER_ID')\n",
    "full_player_rating.sort_values('SCORE', ascending=False).head(30)\n",
    "#full_player_rating[~full_player_rating['id'].isna()].sort_values('SCORE', ascending=False).head(30)"
   ]
  },
  {
   "cell_type": "code",
   "execution_count": null,
   "id": "e169ec58-55f1-4028-8105-0feef5aa594d",
   "metadata": {},
   "outputs": [],
   "source": [
    "201142, 201935"
   ]
  },
  {
   "cell_type": "code",
   "execution_count": 444,
   "id": "2e1d5b4e-0365-4610-8aa0-ed57f9ae8a7a",
   "metadata": {},
   "outputs": [
    {
     "data": {
      "text/html": [
       "<div>\n",
       "<style scoped>\n",
       "    .dataframe tbody tr th:only-of-type {\n",
       "        vertical-align: middle;\n",
       "    }\n",
       "\n",
       "    .dataframe tbody tr th {\n",
       "        vertical-align: top;\n",
       "    }\n",
       "\n",
       "    .dataframe thead th {\n",
       "        text-align: right;\n",
       "    }\n",
       "</style>\n",
       "<table border=\"1\" class=\"dataframe\">\n",
       "  <thead>\n",
       "    <tr style=\"text-align: right;\">\n",
       "      <th></th>\n",
       "      <th>PLAYER_ID</th>\n",
       "      <th>SEASON_ID</th>\n",
       "      <th>TEAM_ID</th>\n",
       "      <th>PLAYER_AGE</th>\n",
       "      <th>GP</th>\n",
       "      <th>GS</th>\n",
       "      <th>MIN</th>\n",
       "      <th>FG_PCT</th>\n",
       "      <th>FGA</th>\n",
       "      <th>FG3_PCT</th>\n",
       "      <th>...</th>\n",
       "      <th>STL</th>\n",
       "      <th>BLK</th>\n",
       "      <th>TOV</th>\n",
       "      <th>PF</th>\n",
       "      <th>PTS</th>\n",
       "      <th>SCORE</th>\n",
       "      <th>id</th>\n",
       "      <th>player_names</th>\n",
       "      <th>position</th>\n",
       "      <th>team</th>\n",
       "    </tr>\n",
       "  </thead>\n",
       "  <tbody>\n",
       "    <tr>\n",
       "      <th>28</th>\n",
       "      <td>201566</td>\n",
       "      <td>2020-21</td>\n",
       "      <td>1.610613e+09</td>\n",
       "      <td>32.0</td>\n",
       "      <td>65</td>\n",
       "      <td>65</td>\n",
       "      <td>36.4</td>\n",
       "      <td>0.439</td>\n",
       "      <td>19.0</td>\n",
       "      <td>0.315</td>\n",
       "      <td>...</td>\n",
       "      <td>1.4</td>\n",
       "      <td>0.4</td>\n",
       "      <td>4.8</td>\n",
       "      <td>2.9</td>\n",
       "      <td>22.2</td>\n",
       "      <td>-1.732368</td>\n",
       "      <td>201566.0</td>\n",
       "      <td>Russell Westbrook</td>\n",
       "      <td>G</td>\n",
       "      <td>WAS</td>\n",
       "    </tr>\n",
       "  </tbody>\n",
       "</table>\n",
       "<p>1 rows × 27 columns</p>\n",
       "</div>"
      ],
      "text/plain": [
       "   PLAYER_ID SEASON_ID       TEAM_ID PLAYER_AGE  GP  GS   MIN  FG_PCT   FGA  \\\n",
       "28    201566   2020-21  1.610613e+09       32.0  65  65  36.4   0.439  19.0   \n",
       "\n",
       "   FG3_PCT  ...  STL  BLK  TOV   PF   PTS     SCORE        id  \\\n",
       "28   0.315  ...  1.4  0.4  4.8  2.9  22.2 -1.732368  201566.0   \n",
       "\n",
       "         player_names  position  team  \n",
       "28  Russell Westbrook         G   WAS  \n",
       "\n",
       "[1 rows x 27 columns]"
      ]
     },
     "execution_count": 444,
     "metadata": {},
     "output_type": "execute_result"
    }
   ],
   "source": [
    "full_player_rating[full_player_rating['PLAYER_ID'] == \"201566\"]"
   ]
  },
  {
   "cell_type": "code",
   "execution_count": 294,
   "id": "861ddfe6-2f30-4c9e-b996-6b2d4c012e12",
   "metadata": {},
   "outputs": [],
   "source": [
    "full_player_rating.to_csv(\"full_player_rating.csv\")"
   ]
  }
 ],
 "metadata": {
  "kernelspec": {
   "display_name": "Python 3",
   "language": "python",
   "name": "python3"
  },
  "language_info": {
   "codemirror_mode": {
    "name": "ipython",
    "version": 3
   },
   "file_extension": ".py",
   "mimetype": "text/x-python",
   "name": "python",
   "nbconvert_exporter": "python",
   "pygments_lexer": "ipython3",
   "version": "3.9.7"
  }
 },
 "nbformat": 4,
 "nbformat_minor": 5
}
