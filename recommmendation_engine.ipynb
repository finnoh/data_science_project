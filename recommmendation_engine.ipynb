{
 "cells": [
  {
   "cell_type": "markdown",
   "id": "8ba4c1f2",
   "metadata": {},
   "source": [
    "# NBA recommendation engine"
   ]
  },
  {
   "cell_type": "code",
   "execution_count": 145,
   "id": "87a6a674",
   "metadata": {},
   "outputs": [],
   "source": [
    "import pandas as pd\n",
    "import numpy as np\n",
    "import seaborn as sns\n",
    "from tqdm import tqdm\n",
    "import matplotlib.pyplot as plt\n",
    "from sklearn.neighbors import NearestNeighbors"
   ]
  },
  {
   "cell_type": "code",
   "execution_count": 33,
   "id": "d4876b9b",
   "metadata": {},
   "outputs": [],
   "source": [
    "from nba_api.stats.static import players\n",
    "from nba_api.stats.endpoints import commonplayerinfo"
   ]
  },
  {
   "cell_type": "markdown",
   "id": "eb906052",
   "metadata": {},
   "source": [
    "## List of all active players"
   ]
  },
  {
   "cell_type": "code",
   "execution_count": 2,
   "id": "fe78a65d",
   "metadata": {},
   "outputs": [
    {
     "name": "stdout",
     "output_type": "stream",
     "text": [
      "Number of players fetched: 519\n"
     ]
    }
   ],
   "source": [
    "# get_players returns a list of dictionaries, each representing a player.\n",
    "nba_players = pd.DataFrame(players.get_active_players())\n",
    "print(f'Number of players fetched: {len(nba_players)}')"
   ]
  },
  {
   "cell_type": "code",
   "execution_count": 3,
   "id": "98d7b58d",
   "metadata": {},
   "outputs": [
    {
     "data": {
      "text/html": [
       "<div>\n",
       "<style scoped>\n",
       "    .dataframe tbody tr th:only-of-type {\n",
       "        vertical-align: middle;\n",
       "    }\n",
       "\n",
       "    .dataframe tbody tr th {\n",
       "        vertical-align: top;\n",
       "    }\n",
       "\n",
       "    .dataframe thead th {\n",
       "        text-align: right;\n",
       "    }\n",
       "</style>\n",
       "<table border=\"1\" class=\"dataframe\">\n",
       "  <thead>\n",
       "    <tr style=\"text-align: right;\">\n",
       "      <th></th>\n",
       "      <th>id</th>\n",
       "      <th>full_name</th>\n",
       "      <th>first_name</th>\n",
       "      <th>last_name</th>\n",
       "      <th>is_active</th>\n",
       "    </tr>\n",
       "  </thead>\n",
       "  <tbody>\n",
       "    <tr>\n",
       "      <th>0</th>\n",
       "      <td>203500</td>\n",
       "      <td>Steven Adams</td>\n",
       "      <td>Steven</td>\n",
       "      <td>Adams</td>\n",
       "      <td>True</td>\n",
       "    </tr>\n",
       "    <tr>\n",
       "      <th>1</th>\n",
       "      <td>1628389</td>\n",
       "      <td>Bam Adebayo</td>\n",
       "      <td>Bam</td>\n",
       "      <td>Adebayo</td>\n",
       "      <td>True</td>\n",
       "    </tr>\n",
       "    <tr>\n",
       "      <th>2</th>\n",
       "      <td>200746</td>\n",
       "      <td>LaMarcus Aldridge</td>\n",
       "      <td>LaMarcus</td>\n",
       "      <td>Aldridge</td>\n",
       "      <td>True</td>\n",
       "    </tr>\n",
       "    <tr>\n",
       "      <th>3</th>\n",
       "      <td>1629734</td>\n",
       "      <td>Kyle Alexander</td>\n",
       "      <td>Kyle</td>\n",
       "      <td>Alexander</td>\n",
       "      <td>True</td>\n",
       "    </tr>\n",
       "    <tr>\n",
       "      <th>4</th>\n",
       "      <td>1629638</td>\n",
       "      <td>Nickeil Alexander-Walker</td>\n",
       "      <td>Nickeil</td>\n",
       "      <td>Alexander-Walker</td>\n",
       "      <td>True</td>\n",
       "    </tr>\n",
       "    <tr>\n",
       "      <th>...</th>\n",
       "      <td>...</td>\n",
       "      <td>...</td>\n",
       "      <td>...</td>\n",
       "      <td>...</td>\n",
       "      <td>...</td>\n",
       "    </tr>\n",
       "    <tr>\n",
       "      <th>514</th>\n",
       "      <td>201152</td>\n",
       "      <td>Thaddeus Young</td>\n",
       "      <td>Thaddeus</td>\n",
       "      <td>Young</td>\n",
       "      <td>True</td>\n",
       "    </tr>\n",
       "    <tr>\n",
       "      <th>515</th>\n",
       "      <td>1629027</td>\n",
       "      <td>Trae Young</td>\n",
       "      <td>Trae</td>\n",
       "      <td>Young</td>\n",
       "      <td>True</td>\n",
       "    </tr>\n",
       "    <tr>\n",
       "      <th>516</th>\n",
       "      <td>203469</td>\n",
       "      <td>Cody Zeller</td>\n",
       "      <td>Cody</td>\n",
       "      <td>Zeller</td>\n",
       "      <td>True</td>\n",
       "    </tr>\n",
       "    <tr>\n",
       "      <th>517</th>\n",
       "      <td>1627790</td>\n",
       "      <td>Ante Zizic</td>\n",
       "      <td>Ante</td>\n",
       "      <td>Zizic</td>\n",
       "      <td>True</td>\n",
       "    </tr>\n",
       "    <tr>\n",
       "      <th>518</th>\n",
       "      <td>1627826</td>\n",
       "      <td>Ivica Zubac</td>\n",
       "      <td>Ivica</td>\n",
       "      <td>Zubac</td>\n",
       "      <td>True</td>\n",
       "    </tr>\n",
       "  </tbody>\n",
       "</table>\n",
       "<p>519 rows × 5 columns</p>\n",
       "</div>"
      ],
      "text/plain": [
       "          id                 full_name first_name         last_name  is_active\n",
       "0     203500              Steven Adams     Steven             Adams       True\n",
       "1    1628389               Bam Adebayo        Bam           Adebayo       True\n",
       "2     200746         LaMarcus Aldridge   LaMarcus          Aldridge       True\n",
       "3    1629734            Kyle Alexander       Kyle         Alexander       True\n",
       "4    1629638  Nickeil Alexander-Walker    Nickeil  Alexander-Walker       True\n",
       "..       ...                       ...        ...               ...        ...\n",
       "514   201152            Thaddeus Young   Thaddeus             Young       True\n",
       "515  1629027                Trae Young       Trae             Young       True\n",
       "516   203469               Cody Zeller       Cody            Zeller       True\n",
       "517  1627790                Ante Zizic       Ante             Zizic       True\n",
       "518  1627826               Ivica Zubac      Ivica             Zubac       True\n",
       "\n",
       "[519 rows x 5 columns]"
      ]
     },
     "execution_count": 3,
     "metadata": {},
     "output_type": "execute_result"
    }
   ],
   "source": [
    "nba_players"
   ]
  },
  {
   "cell_type": "markdown",
   "id": "f5cc7db6",
   "metadata": {},
   "source": [
    "## Preparation of dataset (time-consuming, only executed once)"
   ]
  },
  {
   "cell_type": "code",
   "execution_count": 32,
   "id": "e605b9ae",
   "metadata": {},
   "outputs": [
    {
     "name": "stderr",
     "output_type": "stream",
     "text": [
      "100%|██████████| 519/519 [20:12<00:00,  2.34s/it]\n"
     ]
    }
   ],
   "source": [
    "from nba_api.stats.endpoints import playercareerstats\n",
    "import time\n",
    "\n",
    "stats = list()\n",
    "\n",
    "for player in tqdm(nba_players['id']):\n",
    "    time.sleep(.600)\n",
    "    call_career = playercareerstats.PlayerCareerStats(player_id=player) \n",
    "    # how to select data more efficiently, i.e. only last season?\n",
    "    stats.append(call_career.get_data_frames()[0])"
   ]
  },
  {
   "cell_type": "code",
   "execution_count": 91,
   "id": "f4421a0a",
   "metadata": {},
   "outputs": [
    {
     "name": "stderr",
     "output_type": "stream",
     "text": [
      "  3%|▎         | 15/592 [11:26<7:20:22, 45.79s/it]\n"
     ]
    }
   ],
   "source": [
    "stats_df = pd.concat(stats)\n",
    "stats_df.to_csv('playercareerstats.csv', index = False)"
   ]
  },
  {
   "cell_type": "markdown",
   "id": "9fd0b5c1",
   "metadata": {},
   "source": [
    "## Loading dataset"
   ]
  },
  {
   "cell_type": "code",
   "execution_count": 92,
   "id": "a9ac4f1a",
   "metadata": {},
   "outputs": [],
   "source": [
    "playercareerstats = pd.read_csv('playercareerstats.csv')"
   ]
  },
  {
   "cell_type": "code",
   "execution_count": 98,
   "id": "d27493ea",
   "metadata": {
    "scrolled": true
   },
   "outputs": [],
   "source": [
    "stats_lastSeason = playercareerstats[playercareerstats['SEASON_ID'] == '2020-21'].reset_index().drop(columns=['index'])"
   ]
  },
  {
   "cell_type": "code",
   "execution_count": 99,
   "id": "e46d12cc",
   "metadata": {},
   "outputs": [
    {
     "data": {
      "text/html": [
       "<div>\n",
       "<style scoped>\n",
       "    .dataframe tbody tr th:only-of-type {\n",
       "        vertical-align: middle;\n",
       "    }\n",
       "\n",
       "    .dataframe tbody tr th {\n",
       "        vertical-align: top;\n",
       "    }\n",
       "\n",
       "    .dataframe thead th {\n",
       "        text-align: right;\n",
       "    }\n",
       "</style>\n",
       "<table border=\"1\" class=\"dataframe\">\n",
       "  <thead>\n",
       "    <tr style=\"text-align: right;\">\n",
       "      <th></th>\n",
       "      <th>PLAYER_ID</th>\n",
       "      <th>SEASON_ID</th>\n",
       "      <th>LEAGUE_ID</th>\n",
       "      <th>TEAM_ID</th>\n",
       "      <th>TEAM_ABBREVIATION</th>\n",
       "      <th>PLAYER_AGE</th>\n",
       "      <th>GP</th>\n",
       "      <th>GS</th>\n",
       "      <th>MIN</th>\n",
       "      <th>FGM</th>\n",
       "      <th>...</th>\n",
       "      <th>FT_PCT</th>\n",
       "      <th>OREB</th>\n",
       "      <th>DREB</th>\n",
       "      <th>REB</th>\n",
       "      <th>AST</th>\n",
       "      <th>STL</th>\n",
       "      <th>BLK</th>\n",
       "      <th>TOV</th>\n",
       "      <th>PF</th>\n",
       "      <th>PTS</th>\n",
       "    </tr>\n",
       "  </thead>\n",
       "  <tbody>\n",
       "    <tr>\n",
       "      <th>0</th>\n",
       "      <td>203500</td>\n",
       "      <td>2020-21</td>\n",
       "      <td>0</td>\n",
       "      <td>1610612740</td>\n",
       "      <td>NOP</td>\n",
       "      <td>27.0</td>\n",
       "      <td>58</td>\n",
       "      <td>58</td>\n",
       "      <td>1605.0</td>\n",
       "      <td>189</td>\n",
       "      <td>...</td>\n",
       "      <td>0.444</td>\n",
       "      <td>213</td>\n",
       "      <td>301</td>\n",
       "      <td>514</td>\n",
       "      <td>111</td>\n",
       "      <td>54</td>\n",
       "      <td>38</td>\n",
       "      <td>78</td>\n",
       "      <td>113</td>\n",
       "      <td>438</td>\n",
       "    </tr>\n",
       "    <tr>\n",
       "      <th>1</th>\n",
       "      <td>1628389</td>\n",
       "      <td>2020-21</td>\n",
       "      <td>0</td>\n",
       "      <td>1610612748</td>\n",
       "      <td>MIA</td>\n",
       "      <td>23.0</td>\n",
       "      <td>64</td>\n",
       "      <td>64</td>\n",
       "      <td>2143.0</td>\n",
       "      <td>456</td>\n",
       "      <td>...</td>\n",
       "      <td>0.799</td>\n",
       "      <td>142</td>\n",
       "      <td>431</td>\n",
       "      <td>573</td>\n",
       "      <td>346</td>\n",
       "      <td>75</td>\n",
       "      <td>66</td>\n",
       "      <td>169</td>\n",
       "      <td>145</td>\n",
       "      <td>1197</td>\n",
       "    </tr>\n",
       "    <tr>\n",
       "      <th>2</th>\n",
       "      <td>200746</td>\n",
       "      <td>2020-21</td>\n",
       "      <td>0</td>\n",
       "      <td>1610612759</td>\n",
       "      <td>SAS</td>\n",
       "      <td>35.0</td>\n",
       "      <td>21</td>\n",
       "      <td>18</td>\n",
       "      <td>544.0</td>\n",
       "      <td>115</td>\n",
       "      <td>...</td>\n",
       "      <td>0.838</td>\n",
       "      <td>17</td>\n",
       "      <td>77</td>\n",
       "      <td>94</td>\n",
       "      <td>36</td>\n",
       "      <td>8</td>\n",
       "      <td>18</td>\n",
       "      <td>20</td>\n",
       "      <td>36</td>\n",
       "      <td>288</td>\n",
       "    </tr>\n",
       "    <tr>\n",
       "      <th>3</th>\n",
       "      <td>200746</td>\n",
       "      <td>2020-21</td>\n",
       "      <td>0</td>\n",
       "      <td>1610612751</td>\n",
       "      <td>BKN</td>\n",
       "      <td>35.0</td>\n",
       "      <td>5</td>\n",
       "      <td>5</td>\n",
       "      <td>130.0</td>\n",
       "      <td>25</td>\n",
       "      <td>...</td>\n",
       "      <td>1.000</td>\n",
       "      <td>2</td>\n",
       "      <td>22</td>\n",
       "      <td>24</td>\n",
       "      <td>13</td>\n",
       "      <td>3</td>\n",
       "      <td>11</td>\n",
       "      <td>7</td>\n",
       "      <td>11</td>\n",
       "      <td>64</td>\n",
       "    </tr>\n",
       "    <tr>\n",
       "      <th>4</th>\n",
       "      <td>200746</td>\n",
       "      <td>2020-21</td>\n",
       "      <td>0</td>\n",
       "      <td>0</td>\n",
       "      <td>TOT</td>\n",
       "      <td>35.0</td>\n",
       "      <td>26</td>\n",
       "      <td>23</td>\n",
       "      <td>674.0</td>\n",
       "      <td>140</td>\n",
       "      <td>...</td>\n",
       "      <td>0.872</td>\n",
       "      <td>19</td>\n",
       "      <td>99</td>\n",
       "      <td>118</td>\n",
       "      <td>49</td>\n",
       "      <td>11</td>\n",
       "      <td>29</td>\n",
       "      <td>27</td>\n",
       "      <td>47</td>\n",
       "      <td>352</td>\n",
       "    </tr>\n",
       "    <tr>\n",
       "      <th>...</th>\n",
       "      <td>...</td>\n",
       "      <td>...</td>\n",
       "      <td>...</td>\n",
       "      <td>...</td>\n",
       "      <td>...</td>\n",
       "      <td>...</td>\n",
       "      <td>...</td>\n",
       "      <td>...</td>\n",
       "      <td>...</td>\n",
       "      <td>...</td>\n",
       "      <td>...</td>\n",
       "      <td>...</td>\n",
       "      <td>...</td>\n",
       "      <td>...</td>\n",
       "      <td>...</td>\n",
       "      <td>...</td>\n",
       "      <td>...</td>\n",
       "      <td>...</td>\n",
       "      <td>...</td>\n",
       "      <td>...</td>\n",
       "      <td>...</td>\n",
       "    </tr>\n",
       "    <tr>\n",
       "      <th>587</th>\n",
       "      <td>1626153</td>\n",
       "      <td>2020-21</td>\n",
       "      <td>0</td>\n",
       "      <td>0</td>\n",
       "      <td>TOT</td>\n",
       "      <td>29.0</td>\n",
       "      <td>63</td>\n",
       "      <td>39</td>\n",
       "      <td>1748.0</td>\n",
       "      <td>240</td>\n",
       "      <td>...</td>\n",
       "      <td>0.802</td>\n",
       "      <td>65</td>\n",
       "      <td>204</td>\n",
       "      <td>269</td>\n",
       "      <td>278</td>\n",
       "      <td>101</td>\n",
       "      <td>30</td>\n",
       "      <td>83</td>\n",
       "      <td>75</td>\n",
       "      <td>645</td>\n",
       "    </tr>\n",
       "    <tr>\n",
       "      <th>588</th>\n",
       "      <td>201152</td>\n",
       "      <td>2020-21</td>\n",
       "      <td>0</td>\n",
       "      <td>1610612741</td>\n",
       "      <td>CHI</td>\n",
       "      <td>33.0</td>\n",
       "      <td>68</td>\n",
       "      <td>23</td>\n",
       "      <td>1652.0</td>\n",
       "      <td>370</td>\n",
       "      <td>...</td>\n",
       "      <td>0.628</td>\n",
       "      <td>168</td>\n",
       "      <td>255</td>\n",
       "      <td>423</td>\n",
       "      <td>291</td>\n",
       "      <td>74</td>\n",
       "      <td>40</td>\n",
       "      <td>137</td>\n",
       "      <td>152</td>\n",
       "      <td>823</td>\n",
       "    </tr>\n",
       "    <tr>\n",
       "      <th>589</th>\n",
       "      <td>1629027</td>\n",
       "      <td>2020-21</td>\n",
       "      <td>0</td>\n",
       "      <td>1610612737</td>\n",
       "      <td>ATL</td>\n",
       "      <td>22.0</td>\n",
       "      <td>63</td>\n",
       "      <td>63</td>\n",
       "      <td>2125.0</td>\n",
       "      <td>487</td>\n",
       "      <td>...</td>\n",
       "      <td>0.886</td>\n",
       "      <td>38</td>\n",
       "      <td>207</td>\n",
       "      <td>245</td>\n",
       "      <td>594</td>\n",
       "      <td>53</td>\n",
       "      <td>12</td>\n",
       "      <td>261</td>\n",
       "      <td>111</td>\n",
       "      <td>1594</td>\n",
       "    </tr>\n",
       "    <tr>\n",
       "      <th>590</th>\n",
       "      <td>203469</td>\n",
       "      <td>2020-21</td>\n",
       "      <td>0</td>\n",
       "      <td>1610612766</td>\n",
       "      <td>CHA</td>\n",
       "      <td>28.0</td>\n",
       "      <td>48</td>\n",
       "      <td>21</td>\n",
       "      <td>1005.0</td>\n",
       "      <td>181</td>\n",
       "      <td>...</td>\n",
       "      <td>0.714</td>\n",
       "      <td>119</td>\n",
       "      <td>209</td>\n",
       "      <td>328</td>\n",
       "      <td>86</td>\n",
       "      <td>27</td>\n",
       "      <td>17</td>\n",
       "      <td>51</td>\n",
       "      <td>121</td>\n",
       "      <td>451</td>\n",
       "    </tr>\n",
       "    <tr>\n",
       "      <th>591</th>\n",
       "      <td>1627826</td>\n",
       "      <td>2020-21</td>\n",
       "      <td>0</td>\n",
       "      <td>1610612746</td>\n",
       "      <td>LAC</td>\n",
       "      <td>24.0</td>\n",
       "      <td>72</td>\n",
       "      <td>33</td>\n",
       "      <td>1609.0</td>\n",
       "      <td>257</td>\n",
       "      <td>...</td>\n",
       "      <td>0.789</td>\n",
       "      <td>189</td>\n",
       "      <td>330</td>\n",
       "      <td>519</td>\n",
       "      <td>90</td>\n",
       "      <td>24</td>\n",
       "      <td>62</td>\n",
       "      <td>81</td>\n",
       "      <td>187</td>\n",
       "      <td>650</td>\n",
       "    </tr>\n",
       "  </tbody>\n",
       "</table>\n",
       "<p>592 rows × 27 columns</p>\n",
       "</div>"
      ],
      "text/plain": [
       "     PLAYER_ID SEASON_ID  LEAGUE_ID     TEAM_ID TEAM_ABBREVIATION  PLAYER_AGE  \\\n",
       "0       203500   2020-21          0  1610612740               NOP        27.0   \n",
       "1      1628389   2020-21          0  1610612748               MIA        23.0   \n",
       "2       200746   2020-21          0  1610612759               SAS        35.0   \n",
       "3       200746   2020-21          0  1610612751               BKN        35.0   \n",
       "4       200746   2020-21          0           0               TOT        35.0   \n",
       "..         ...       ...        ...         ...               ...         ...   \n",
       "587    1626153   2020-21          0           0               TOT        29.0   \n",
       "588     201152   2020-21          0  1610612741               CHI        33.0   \n",
       "589    1629027   2020-21          0  1610612737               ATL        22.0   \n",
       "590     203469   2020-21          0  1610612766               CHA        28.0   \n",
       "591    1627826   2020-21          0  1610612746               LAC        24.0   \n",
       "\n",
       "     GP  GS     MIN  FGM  ...  FT_PCT  OREB  DREB  REB  AST  STL  BLK  TOV  \\\n",
       "0    58  58  1605.0  189  ...   0.444   213   301  514  111   54   38   78   \n",
       "1    64  64  2143.0  456  ...   0.799   142   431  573  346   75   66  169   \n",
       "2    21  18   544.0  115  ...   0.838    17    77   94   36    8   18   20   \n",
       "3     5   5   130.0   25  ...   1.000     2    22   24   13    3   11    7   \n",
       "4    26  23   674.0  140  ...   0.872    19    99  118   49   11   29   27   \n",
       "..   ..  ..     ...  ...  ...     ...   ...   ...  ...  ...  ...  ...  ...   \n",
       "587  63  39  1748.0  240  ...   0.802    65   204  269  278  101   30   83   \n",
       "588  68  23  1652.0  370  ...   0.628   168   255  423  291   74   40  137   \n",
       "589  63  63  2125.0  487  ...   0.886    38   207  245  594   53   12  261   \n",
       "590  48  21  1005.0  181  ...   0.714   119   209  328   86   27   17   51   \n",
       "591  72  33  1609.0  257  ...   0.789   189   330  519   90   24   62   81   \n",
       "\n",
       "      PF   PTS  \n",
       "0    113   438  \n",
       "1    145  1197  \n",
       "2     36   288  \n",
       "3     11    64  \n",
       "4     47   352  \n",
       "..   ...   ...  \n",
       "587   75   645  \n",
       "588  152   823  \n",
       "589  111  1594  \n",
       "590  121   451  \n",
       "591  187   650  \n",
       "\n",
       "[592 rows x 27 columns]"
      ]
     },
     "execution_count": 99,
     "metadata": {},
     "output_type": "execute_result"
    }
   ],
   "source": [
    "stats_lastSeason"
   ]
  },
  {
   "cell_type": "code",
   "execution_count": 79,
   "id": "e1babd9e",
   "metadata": {},
   "outputs": [
    {
     "data": {
      "text/plain": [
       "435"
      ]
     },
     "execution_count": 79,
     "metadata": {},
     "output_type": "execute_result"
    }
   ],
   "source": [
    "stats_lastSeason['PLAYER_ID'].nunique() # -> where duplicates?"
   ]
  },
  {
   "cell_type": "code",
   "execution_count": 100,
   "id": "e83c96a1",
   "metadata": {},
   "outputs": [
    {
     "name": "stderr",
     "output_type": "stream",
     "text": [
      "100%|██████████| 592/592 [13:22<00:00,  1.36s/it]"
     ]
    },
    {
     "name": "stdout",
     "output_type": "stream",
     "text": [
      "592\n"
     ]
    },
    {
     "name": "stderr",
     "output_type": "stream",
     "text": [
      "\n"
     ]
    }
   ],
   "source": [
    "positions = []\n",
    "for i in tqdm(range(stats_lastSeason.shape[0])):\n",
    "    time.sleep(.600)\n",
    "    positions.append(commonplayerinfo.CommonPlayerInfo(stats_lastSeason['PLAYER_ID'][i]).get_data_frames()[0]['POSITION'][0])\n",
    "print(len(positions))"
   ]
  },
  {
   "cell_type": "code",
   "execution_count": 106,
   "id": "bfea7444",
   "metadata": {},
   "outputs": [],
   "source": [
    "def adj_position(pos):\n",
    "    if pos[0] in ['C', 'F', 'G']:\n",
    "        return pos[0]\n",
    "    else:\n",
    "        print('Please enter a valid position.')\n",
    "        pass"
   ]
  },
  {
   "cell_type": "code",
   "execution_count": 109,
   "id": "b906f214",
   "metadata": {},
   "outputs": [
    {
     "data": {
      "text/plain": [
       "Counter({'C': 88, 'G': 266, 'F': 238})"
      ]
     },
     "execution_count": 109,
     "metadata": {},
     "output_type": "execute_result"
    }
   ],
   "source": [
    "from collections import Counter\n",
    "\n",
    "Counter([adj_position(position) for position in positions])"
   ]
  },
  {
   "cell_type": "code",
   "execution_count": 110,
   "id": "f9c2b1af",
   "metadata": {},
   "outputs": [],
   "source": [
    "stats_lastSeason['POSITION'] = [adj_position(position) for position in positions]"
   ]
  },
  {
   "cell_type": "code",
   "execution_count": 112,
   "id": "28669b3d",
   "metadata": {},
   "outputs": [],
   "source": [
    "#stats_lastSeason.to_csv('stats_lastSeason.csv', index = False)\n",
    "stats_lS = pd.read_csv('stats_lastSeason.csv')"
   ]
  },
  {
   "cell_type": "markdown",
   "id": "269c24e7",
   "metadata": {},
   "source": [
    "## Class definition"
   ]
  },
  {
   "cell_type": "code",
   "execution_count": 251,
   "id": "92dfc222",
   "metadata": {},
   "outputs": [],
   "source": [
    "class RecommendationEngine:\n",
    "    def __init__(self, replacing_player):\n",
    "        self.player_name = replacing_player\n",
    "        try:\n",
    "            self.player_id = nba_players[nba_players[\"full_name\"] == replacing_player]['id'][0]\n",
    "        except KeyError:\n",
    "            print(\"Please provide the full name of a valid active NBA player.\")\n",
    "        self.position = adj_position(commonplayerinfo.CommonPlayerInfo(self.player_id).get_data_frames()[0]['POSITION'][0])\n",
    "            \n",
    "    def recommend(self):\n",
    "        stats = stats_lastSeason[(stats_lastSeason['POSITION'] == self.position)].drop(columns=['POSITION'])\n",
    "        stats_repl_player = stats[stats['PLAYER_ID'] == self.player_id].iloc[:,5:]\n",
    "        stats_num = stats.iloc[:,5:]\n",
    "        \n",
    "        model = NearestNeighbors().fit(stats_num)\n",
    "        res_players = model.kneighbors(stats_repl_player, return_distance = False)[0]\n",
    "        res_player_0, res_player_1 = res_players[0], res_players[1]\n",
    "        if stats.reset_index()['PLAYER_ID'][res_player_0] == self.player_id:\n",
    "            print(\"Clustering worked.\")\n",
    "            \n",
    "        #print(stats['PLAYER_ID'].head(10))\n",
    "            \n",
    "        res_player_id = stats.reset_index()['PLAYER_ID'][res_player_1]\n",
    "        \n",
    "        rec_player = nba_players[nba_players['id'] == res_player_id]['full_name'].iloc[0]\n",
    "        \n",
    "        print('Input Player:', self.player_name,'\\nRecommended Player:', rec_player)\n",
    "        return rec_player"
   ]
  },
  {
   "cell_type": "markdown",
   "id": "f5ca56df",
   "metadata": {},
   "source": [
    "## Exemplary execution"
   ]
  },
  {
   "cell_type": "code",
   "execution_count": 262,
   "id": "04f54d13",
   "metadata": {},
   "outputs": [
    {
     "name": "stdout",
     "output_type": "stream",
     "text": [
      "Clustering worked.\n",
      "Input Player: Steven Adams \n",
      "Recommended Player: Khem Birch\n"
     ]
    }
   ],
   "source": [
    "r1 = RecommendationEngine(\"Steven Adams\")\n",
    "#print(r1.position)\n",
    "rec_player = r1.recommend()"
   ]
  },
  {
   "cell_type": "code",
   "execution_count": null,
   "id": "f9e39c17",
   "metadata": {
    "scrolled": true
   },
   "outputs": [],
   "source": []
  }
 ],
 "metadata": {
  "kernelspec": {
   "display_name": "Python 3",
   "language": "python",
   "name": "python3"
  },
  "language_info": {
   "codemirror_mode": {
    "name": "ipython",
    "version": 3
   },
   "file_extension": ".py",
   "mimetype": "text/x-python",
   "name": "python",
   "nbconvert_exporter": "python",
   "pygments_lexer": "ipython3",
   "version": "3.8.8"
  }
 },
 "nbformat": 4,
 "nbformat_minor": 5
}
