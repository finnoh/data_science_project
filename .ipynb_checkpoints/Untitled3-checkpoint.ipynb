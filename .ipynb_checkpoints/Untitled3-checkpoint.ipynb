{
 "cells": [
  {
   "cell_type": "code",
   "execution_count": 20,
   "id": "1519fd3f-64bf-4fdc-9b7b-28641c34e75c",
   "metadata": {},
   "outputs": [],
   "source": [
    "import pandas as pd\n",
    "import numpy as np\n",
    "from tqdm import tqdm\n",
    "import time"
   ]
  },
  {
   "cell_type": "code",
   "execution_count": 14,
   "id": "6420c430-9902-4787-99d9-c5709df15f4b",
   "metadata": {},
   "outputs": [],
   "source": [
    "from nba_api.stats.endpoints import leaguegamelog\n",
    "call = leaguegamelog.LeagueGameLog(season=\"2021-22\")\n",
    "current_season = pd.concat(call.get_data_frames())"
   ]
  },
  {
   "cell_type": "code",
   "execution_count": 16,
   "id": "3f0934eb-c929-4a5d-9778-cbdd25f0e076",
   "metadata": {},
   "outputs": [],
   "source": [
    "current_games = current_season['GAME_ID'].unique()"
   ]
  },
  {
   "cell_type": "code",
   "execution_count": 22,
   "id": "ad34aa3a-ddfc-4eb9-812b-658f2e802570",
   "metadata": {},
   "outputs": [
    {
     "name": "stderr",
     "output_type": "stream",
     "text": [
      "100%|██████████| 883/883 [18:44<00:00,  1.27s/it]\n"
     ]
    }
   ],
   "source": [
    "from nba_api.stats.endpoints import boxscoreadvancedv2\n",
    "list_current_boxscores = list()\n",
    "\n",
    "for game in tqdm(current_games):\n",
    "    call = boxscoreadvancedv2.BoxScoreAdvancedV2(game_id=game)\n",
    "    list_current_boxscores.append(pd.concat(call.get_data_frames()))"
   ]
  },
  {
   "cell_type": "code",
   "execution_count": 23,
   "id": "8dd136a8-e425-450c-9656-7106fb319e68",
   "metadata": {},
   "outputs": [],
   "source": [
    "boxscores = pd.concat(list_current_boxscores)\n",
    "boxscores.to_csv(\"data/season_prediction/boxscores_current.csv\")\n",
    "current_season.to_csv(\"data/season_prediction/schedule_current.csv\")"
   ]
  }
 ],
 "metadata": {
  "kernelspec": {
   "display_name": "Python 3",
   "language": "python",
   "name": "python3"
  },
  "language_info": {
   "codemirror_mode": {
    "name": "ipython",
    "version": 3
   },
   "file_extension": ".py",
   "mimetype": "text/x-python",
   "name": "python",
   "nbconvert_exporter": "python",
   "pygments_lexer": "ipython3",
   "version": "3.9.7"
  }
 },
 "nbformat": 4,
 "nbformat_minor": 5
}
