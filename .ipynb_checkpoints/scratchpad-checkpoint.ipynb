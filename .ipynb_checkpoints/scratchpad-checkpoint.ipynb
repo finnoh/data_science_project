{
 "cells": [
  {
   "cell_type": "markdown",
   "id": "7dba5019-601b-48df-85ec-0b0ef84886db",
   "metadata": {},
   "source": [
    "# NBA API"
   ]
  },
  {
   "cell_type": "code",
   "execution_count": 156,
   "id": "ea1ce583-c7e7-4b77-bdef-4845f4a988e8",
   "metadata": {},
   "outputs": [],
   "source": [
    "import pandas as pd\n",
    "import numpy as np\n",
    "import seaborn as sns\n",
    "from tqdm import tqdm"
   ]
  },
  {
   "cell_type": "code",
   "execution_count": 157,
   "id": "db28c4d6-fdba-45b6-a204-b4a12fc6a57f",
   "metadata": {},
   "outputs": [
    {
     "name": "stdout",
     "output_type": "stream",
     "text": [
      "Number of players fetched: 519\n"
     ]
    }
   ],
   "source": [
    "from nba_api.stats.static import players\n",
    "\n",
    "# get_players returns a list of dictionaries, each representing a player.\n",
    "nba_players = pd.DataFrame(players.get_active_players())\n",
    "print(f'Number of players fetched: {len(nba_players)}')"
   ]
  },
  {
   "cell_type": "code",
   "execution_count": 158,
   "id": "37516a26-b70b-4605-a09b-834f3d4e78a0",
   "metadata": {},
   "outputs": [
    {
     "data": {
      "text/html": [
       "<div>\n",
       "<style scoped>\n",
       "    .dataframe tbody tr th:only-of-type {\n",
       "        vertical-align: middle;\n",
       "    }\n",
       "\n",
       "    .dataframe tbody tr th {\n",
       "        vertical-align: top;\n",
       "    }\n",
       "\n",
       "    .dataframe thead th {\n",
       "        text-align: right;\n",
       "    }\n",
       "</style>\n",
       "<table border=\"1\" class=\"dataframe\">\n",
       "  <thead>\n",
       "    <tr style=\"text-align: right;\">\n",
       "      <th></th>\n",
       "      <th>id</th>\n",
       "      <th>full_name</th>\n",
       "      <th>first_name</th>\n",
       "      <th>last_name</th>\n",
       "      <th>is_active</th>\n",
       "    </tr>\n",
       "  </thead>\n",
       "  <tbody>\n",
       "    <tr>\n",
       "      <th>0</th>\n",
       "      <td>203500</td>\n",
       "      <td>Steven Adams</td>\n",
       "      <td>Steven</td>\n",
       "      <td>Adams</td>\n",
       "      <td>True</td>\n",
       "    </tr>\n",
       "    <tr>\n",
       "      <th>1</th>\n",
       "      <td>1628389</td>\n",
       "      <td>Bam Adebayo</td>\n",
       "      <td>Bam</td>\n",
       "      <td>Adebayo</td>\n",
       "      <td>True</td>\n",
       "    </tr>\n",
       "    <tr>\n",
       "      <th>2</th>\n",
       "      <td>200746</td>\n",
       "      <td>LaMarcus Aldridge</td>\n",
       "      <td>LaMarcus</td>\n",
       "      <td>Aldridge</td>\n",
       "      <td>True</td>\n",
       "    </tr>\n",
       "    <tr>\n",
       "      <th>3</th>\n",
       "      <td>1629734</td>\n",
       "      <td>Kyle Alexander</td>\n",
       "      <td>Kyle</td>\n",
       "      <td>Alexander</td>\n",
       "      <td>True</td>\n",
       "    </tr>\n",
       "    <tr>\n",
       "      <th>4</th>\n",
       "      <td>1629638</td>\n",
       "      <td>Nickeil Alexander-Walker</td>\n",
       "      <td>Nickeil</td>\n",
       "      <td>Alexander-Walker</td>\n",
       "      <td>True</td>\n",
       "    </tr>\n",
       "    <tr>\n",
       "      <th>...</th>\n",
       "      <td>...</td>\n",
       "      <td>...</td>\n",
       "      <td>...</td>\n",
       "      <td>...</td>\n",
       "      <td>...</td>\n",
       "    </tr>\n",
       "    <tr>\n",
       "      <th>514</th>\n",
       "      <td>201152</td>\n",
       "      <td>Thaddeus Young</td>\n",
       "      <td>Thaddeus</td>\n",
       "      <td>Young</td>\n",
       "      <td>True</td>\n",
       "    </tr>\n",
       "    <tr>\n",
       "      <th>515</th>\n",
       "      <td>1629027</td>\n",
       "      <td>Trae Young</td>\n",
       "      <td>Trae</td>\n",
       "      <td>Young</td>\n",
       "      <td>True</td>\n",
       "    </tr>\n",
       "    <tr>\n",
       "      <th>516</th>\n",
       "      <td>203469</td>\n",
       "      <td>Cody Zeller</td>\n",
       "      <td>Cody</td>\n",
       "      <td>Zeller</td>\n",
       "      <td>True</td>\n",
       "    </tr>\n",
       "    <tr>\n",
       "      <th>517</th>\n",
       "      <td>1627790</td>\n",
       "      <td>Ante Zizic</td>\n",
       "      <td>Ante</td>\n",
       "      <td>Zizic</td>\n",
       "      <td>True</td>\n",
       "    </tr>\n",
       "    <tr>\n",
       "      <th>518</th>\n",
       "      <td>1627826</td>\n",
       "      <td>Ivica Zubac</td>\n",
       "      <td>Ivica</td>\n",
       "      <td>Zubac</td>\n",
       "      <td>True</td>\n",
       "    </tr>\n",
       "  </tbody>\n",
       "</table>\n",
       "<p>519 rows × 5 columns</p>\n",
       "</div>"
      ],
      "text/plain": [
       "          id                 full_name first_name         last_name  is_active\n",
       "0     203500              Steven Adams     Steven             Adams       True\n",
       "1    1628389               Bam Adebayo        Bam           Adebayo       True\n",
       "2     200746         LaMarcus Aldridge   LaMarcus          Aldridge       True\n",
       "3    1629734            Kyle Alexander       Kyle         Alexander       True\n",
       "4    1629638  Nickeil Alexander-Walker    Nickeil  Alexander-Walker       True\n",
       "..       ...                       ...        ...               ...        ...\n",
       "514   201152            Thaddeus Young   Thaddeus             Young       True\n",
       "515  1629027                Trae Young       Trae             Young       True\n",
       "516   203469               Cody Zeller       Cody            Zeller       True\n",
       "517  1627790                Ante Zizic       Ante             Zizic       True\n",
       "518  1627826               Ivica Zubac      Ivica             Zubac       True\n",
       "\n",
       "[519 rows x 5 columns]"
      ]
     },
     "execution_count": 158,
     "metadata": {},
     "output_type": "execute_result"
    }
   ],
   "source": [
    "nba_players"
   ]
  },
  {
   "cell_type": "code",
   "execution_count": 159,
   "id": "71883384-d888-4c97-b7d8-f7faa01291cb",
   "metadata": {},
   "outputs": [],
   "source": [
    "id = nba_players['id'][0]"
   ]
  },
  {
   "cell_type": "code",
   "execution_count": 161,
   "id": "87b09c6b-60b1-475d-a5f7-cfcabf53a75e",
   "metadata": {},
   "outputs": [
    {
     "name": "stderr",
     "output_type": "stream",
     "text": [
      "  5%|▌         | 1/20 [00:01<00:37,  1.99s/it]"
     ]
    },
    {
     "name": "stdout",
     "output_type": "stream",
     "text": [
      "1628989\n"
     ]
    },
    {
     "name": "stderr",
     "output_type": "stream",
     "text": [
      " 10%|█         | 2/20 [00:06<01:01,  3.41s/it]"
     ]
    },
    {
     "name": "stdout",
     "output_type": "stream",
     "text": [
      "1629627\n"
     ]
    },
    {
     "name": "stderr",
     "output_type": "stream",
     "text": [
      " 15%|█▌        | 3/20 [00:09<00:56,  3.30s/it]"
     ]
    },
    {
     "name": "stdout",
     "output_type": "stream",
     "text": [
      "1629052\n"
     ]
    },
    {
     "name": "stderr",
     "output_type": "stream",
     "text": [
      " 20%|██        | 4/20 [00:12<00:53,  3.33s/it]"
     ]
    },
    {
     "name": "stdout",
     "output_type": "stream",
     "text": [
      "202355\n"
     ]
    },
    {
     "name": "stderr",
     "output_type": "stream",
     "text": [
      " 25%|██▌       | 5/20 [00:17<00:56,  3.79s/it]"
     ]
    },
    {
     "name": "stdout",
     "output_type": "stream",
     "text": [
      "2617\n"
     ]
    },
    {
     "name": "stderr",
     "output_type": "stream",
     "text": [
      " 30%|███       | 6/20 [00:20<00:46,  3.34s/it]"
     ]
    },
    {
     "name": "stdout",
     "output_type": "stream",
     "text": [
      "1626192\n"
     ]
    },
    {
     "name": "stderr",
     "output_type": "stream",
     "text": [
      " 35%|███▌      | 7/20 [00:21<00:36,  2.85s/it]"
     ]
    },
    {
     "name": "stdout",
     "output_type": "stream",
     "text": [
      "202710\n"
     ]
    },
    {
     "name": "stderr",
     "output_type": "stream",
     "text": [
      " 40%|████      | 8/20 [00:23<00:31,  2.61s/it]"
     ]
    },
    {
     "name": "stdout",
     "output_type": "stream",
     "text": [
      "1627790\n"
     ]
    },
    {
     "name": "stderr",
     "output_type": "stream",
     "text": [
      " 45%|████▌     | 9/20 [00:27<00:30,  2.81s/it]"
     ]
    },
    {
     "name": "stdout",
     "output_type": "stream",
     "text": [
      "1629744\n"
     ]
    },
    {
     "name": "stderr",
     "output_type": "stream",
     "text": [
      " 50%|█████     | 10/20 [00:31<00:31,  3.17s/it]"
     ]
    },
    {
     "name": "stdout",
     "output_type": "stream",
     "text": [
      "201188\n"
     ]
    },
    {
     "name": "stderr",
     "output_type": "stream",
     "text": [
      " 55%|█████▌    | 11/20 [00:35<00:30,  3.43s/it]"
     ]
    },
    {
     "name": "stdout",
     "output_type": "stream",
     "text": [
      "1628396\n"
     ]
    },
    {
     "name": "stderr",
     "output_type": "stream",
     "text": [
      " 60%|██████    | 12/20 [00:37<00:25,  3.24s/it]"
     ]
    },
    {
     "name": "stdout",
     "output_type": "stream",
     "text": [
      "200768\n"
     ]
    },
    {
     "name": "stderr",
     "output_type": "stream",
     "text": [
      " 65%|██████▌   | 13/20 [00:42<00:24,  3.50s/it]"
     ]
    },
    {
     "name": "stdout",
     "output_type": "stream",
     "text": [
      "1629065\n"
     ]
    },
    {
     "name": "stderr",
     "output_type": "stream",
     "text": [
      " 70%|███████   | 14/20 [00:44<00:18,  3.17s/it]"
     ]
    },
    {
     "name": "stdout",
     "output_type": "stream",
     "text": [
      "204038\n"
     ]
    },
    {
     "name": "stderr",
     "output_type": "stream",
     "text": [
      " 75%|███████▌  | 15/20 [00:48<00:17,  3.42s/it]"
     ]
    },
    {
     "name": "stdout",
     "output_type": "stream",
     "text": [
      "202685\n"
     ]
    },
    {
     "name": "stderr",
     "output_type": "stream",
     "text": [
      " 80%|████████  | 16/20 [00:52<00:14,  3.58s/it]"
     ]
    },
    {
     "name": "stdout",
     "output_type": "stream",
     "text": [
      "202681\n"
     ]
    },
    {
     "name": "stderr",
     "output_type": "stream",
     "text": [
      " 85%|████████▌ | 17/20 [00:57<00:11,  3.88s/it]"
     ]
    },
    {
     "name": "stdout",
     "output_type": "stream",
     "text": [
      "1629058\n"
     ]
    },
    {
     "name": "stderr",
     "output_type": "stream",
     "text": [
      " 90%|█████████ | 18/20 [01:00<00:07,  3.85s/it]"
     ]
    },
    {
     "name": "stdout",
     "output_type": "stream",
     "text": [
      "1628401\n"
     ]
    },
    {
     "name": "stderr",
     "output_type": "stream",
     "text": [
      " 95%|█████████▌| 19/20 [01:02<00:03,  3.29s/it]"
     ]
    },
    {
     "name": "stdout",
     "output_type": "stream",
     "text": [
      "1629673\n"
     ]
    },
    {
     "name": "stderr",
     "output_type": "stream",
     "text": [
      "100%|██████████| 20/20 [01:05<00:00,  3.27s/it]"
     ]
    },
    {
     "name": "stdout",
     "output_type": "stream",
     "text": [
      "203503\n"
     ]
    },
    {
     "name": "stderr",
     "output_type": "stream",
     "text": [
      "\n"
     ]
    }
   ],
   "source": [
    "from nba_api.stats.endpoints import playercareerstats\n",
    "import time\n",
    "\n",
    "career = list()\n",
    "\n",
    "sample_players = nba_players.sample(20)\n",
    "\n",
    "for player in tqdm(sample_players['id']):\n",
    "    time.sleep(1.5)\n",
    "    call_career = playercareerstats.PlayerCareerStats(player_id=player)\n",
    "    career.append(call_career.get_data_frames()[0])\n",
    "    print(player)"
   ]
  },
  {
   "cell_type": "code",
   "execution_count": 162,
   "id": "8fa7b9d9-94ba-4f28-b0e3-37038ccd07c2",
   "metadata": {},
   "outputs": [],
   "source": [
    "player_info = pd.concat(career)"
   ]
  },
  {
   "cell_type": "code",
   "execution_count": 163,
   "id": "bffcb849-6e64-4ee0-9c04-cf30f8cdd2c2",
   "metadata": {},
   "outputs": [
    {
     "data": {
      "text/html": [
       "<div>\n",
       "<style scoped>\n",
       "    .dataframe tbody tr th:only-of-type {\n",
       "        vertical-align: middle;\n",
       "    }\n",
       "\n",
       "    .dataframe tbody tr th {\n",
       "        vertical-align: top;\n",
       "    }\n",
       "\n",
       "    .dataframe thead th {\n",
       "        text-align: right;\n",
       "    }\n",
       "</style>\n",
       "<table border=\"1\" class=\"dataframe\">\n",
       "  <thead>\n",
       "    <tr style=\"text-align: right;\">\n",
       "      <th></th>\n",
       "      <th>PLAYER_ID</th>\n",
       "      <th>SEASON_ID</th>\n",
       "      <th>LEAGUE_ID</th>\n",
       "      <th>TEAM_ID</th>\n",
       "      <th>TEAM_ABBREVIATION</th>\n",
       "      <th>PLAYER_AGE</th>\n",
       "      <th>GP</th>\n",
       "      <th>GS</th>\n",
       "      <th>MIN</th>\n",
       "      <th>FGM</th>\n",
       "      <th>...</th>\n",
       "      <th>FT_PCT</th>\n",
       "      <th>OREB</th>\n",
       "      <th>DREB</th>\n",
       "      <th>REB</th>\n",
       "      <th>AST</th>\n",
       "      <th>STL</th>\n",
       "      <th>BLK</th>\n",
       "      <th>TOV</th>\n",
       "      <th>PF</th>\n",
       "      <th>PTS</th>\n",
       "    </tr>\n",
       "  </thead>\n",
       "  <tbody>\n",
       "    <tr>\n",
       "      <th>0</th>\n",
       "      <td>1628989</td>\n",
       "      <td>2018-19</td>\n",
       "      <td>00</td>\n",
       "      <td>1610612737</td>\n",
       "      <td>ATL</td>\n",
       "      <td>20.0</td>\n",
       "      <td>75</td>\n",
       "      <td>59</td>\n",
       "      <td>2049.0</td>\n",
       "      <td>275</td>\n",
       "      <td>...</td>\n",
       "      <td>0.732</td>\n",
       "      <td>60</td>\n",
       "      <td>185</td>\n",
       "      <td>245</td>\n",
       "      <td>214</td>\n",
       "      <td>65</td>\n",
       "      <td>25</td>\n",
       "      <td>109</td>\n",
       "      <td>155</td>\n",
       "      <td>727</td>\n",
       "    </tr>\n",
       "    <tr>\n",
       "      <th>1</th>\n",
       "      <td>1628989</td>\n",
       "      <td>2019-20</td>\n",
       "      <td>00</td>\n",
       "      <td>1610612737</td>\n",
       "      <td>ATL</td>\n",
       "      <td>21.0</td>\n",
       "      <td>56</td>\n",
       "      <td>48</td>\n",
       "      <td>1760.0</td>\n",
       "      <td>252</td>\n",
       "      <td>...</td>\n",
       "      <td>0.828</td>\n",
       "      <td>35</td>\n",
       "      <td>193</td>\n",
       "      <td>228</td>\n",
       "      <td>213</td>\n",
       "      <td>51</td>\n",
       "      <td>27</td>\n",
       "      <td>87</td>\n",
       "      <td>139</td>\n",
       "      <td>684</td>\n",
       "    </tr>\n",
       "    <tr>\n",
       "      <th>2</th>\n",
       "      <td>1628989</td>\n",
       "      <td>2020-21</td>\n",
       "      <td>00</td>\n",
       "      <td>1610612737</td>\n",
       "      <td>ATL</td>\n",
       "      <td>22.0</td>\n",
       "      <td>69</td>\n",
       "      <td>49</td>\n",
       "      <td>2126.0</td>\n",
       "      <td>316</td>\n",
       "      <td>...</td>\n",
       "      <td>0.781</td>\n",
       "      <td>38</td>\n",
       "      <td>193</td>\n",
       "      <td>231</td>\n",
       "      <td>241</td>\n",
       "      <td>82</td>\n",
       "      <td>18</td>\n",
       "      <td>79</td>\n",
       "      <td>165</td>\n",
       "      <td>822</td>\n",
       "    </tr>\n",
       "    <tr>\n",
       "      <th>0</th>\n",
       "      <td>1629627</td>\n",
       "      <td>2019-20</td>\n",
       "      <td>00</td>\n",
       "      <td>1610612740</td>\n",
       "      <td>NOP</td>\n",
       "      <td>19.0</td>\n",
       "      <td>24</td>\n",
       "      <td>24</td>\n",
       "      <td>668.0</td>\n",
       "      <td>210</td>\n",
       "      <td>...</td>\n",
       "      <td>0.640</td>\n",
       "      <td>64</td>\n",
       "      <td>86</td>\n",
       "      <td>150</td>\n",
       "      <td>50</td>\n",
       "      <td>16</td>\n",
       "      <td>9</td>\n",
       "      <td>59</td>\n",
       "      <td>42</td>\n",
       "      <td>540</td>\n",
       "    </tr>\n",
       "    <tr>\n",
       "      <th>1</th>\n",
       "      <td>1629627</td>\n",
       "      <td>2020-21</td>\n",
       "      <td>00</td>\n",
       "      <td>1610612740</td>\n",
       "      <td>NOP</td>\n",
       "      <td>20.0</td>\n",
       "      <td>61</td>\n",
       "      <td>61</td>\n",
       "      <td>2026.0</td>\n",
       "      <td>634</td>\n",
       "      <td>...</td>\n",
       "      <td>0.698</td>\n",
       "      <td>167</td>\n",
       "      <td>274</td>\n",
       "      <td>441</td>\n",
       "      <td>226</td>\n",
       "      <td>57</td>\n",
       "      <td>39</td>\n",
       "      <td>167</td>\n",
       "      <td>135</td>\n",
       "      <td>1647</td>\n",
       "    </tr>\n",
       "    <tr>\n",
       "      <th>...</th>\n",
       "      <td>...</td>\n",
       "      <td>...</td>\n",
       "      <td>...</td>\n",
       "      <td>...</td>\n",
       "      <td>...</td>\n",
       "      <td>...</td>\n",
       "      <td>...</td>\n",
       "      <td>...</td>\n",
       "      <td>...</td>\n",
       "      <td>...</td>\n",
       "      <td>...</td>\n",
       "      <td>...</td>\n",
       "      <td>...</td>\n",
       "      <td>...</td>\n",
       "      <td>...</td>\n",
       "      <td>...</td>\n",
       "      <td>...</td>\n",
       "      <td>...</td>\n",
       "      <td>...</td>\n",
       "      <td>...</td>\n",
       "      <td>...</td>\n",
       "    </tr>\n",
       "    <tr>\n",
       "      <th>3</th>\n",
       "      <td>203503</td>\n",
       "      <td>2016-17</td>\n",
       "      <td>00</td>\n",
       "      <td>1610612749</td>\n",
       "      <td>MIL</td>\n",
       "      <td>25.0</td>\n",
       "      <td>80</td>\n",
       "      <td>80</td>\n",
       "      <td>2336.0</td>\n",
       "      <td>246</td>\n",
       "      <td>...</td>\n",
       "      <td>0.810</td>\n",
       "      <td>22</td>\n",
       "      <td>226</td>\n",
       "      <td>248</td>\n",
       "      <td>96</td>\n",
       "      <td>55</td>\n",
       "      <td>14</td>\n",
       "      <td>55</td>\n",
       "      <td>125</td>\n",
       "      <td>683</td>\n",
       "    </tr>\n",
       "    <tr>\n",
       "      <th>4</th>\n",
       "      <td>203503</td>\n",
       "      <td>2017-18</td>\n",
       "      <td>00</td>\n",
       "      <td>1610612749</td>\n",
       "      <td>MIL</td>\n",
       "      <td>26.0</td>\n",
       "      <td>75</td>\n",
       "      <td>59</td>\n",
       "      <td>2053.0</td>\n",
       "      <td>185</td>\n",
       "      <td>...</td>\n",
       "      <td>0.792</td>\n",
       "      <td>9</td>\n",
       "      <td>132</td>\n",
       "      <td>141</td>\n",
       "      <td>98</td>\n",
       "      <td>47</td>\n",
       "      <td>28</td>\n",
       "      <td>36</td>\n",
       "      <td>115</td>\n",
       "      <td>516</td>\n",
       "    </tr>\n",
       "    <tr>\n",
       "      <th>5</th>\n",
       "      <td>203503</td>\n",
       "      <td>2018-19</td>\n",
       "      <td>00</td>\n",
       "      <td>1610612749</td>\n",
       "      <td>MIL</td>\n",
       "      <td>27.0</td>\n",
       "      <td>74</td>\n",
       "      <td>12</td>\n",
       "      <td>1304.0</td>\n",
       "      <td>163</td>\n",
       "      <td>...</td>\n",
       "      <td>0.881</td>\n",
       "      <td>29</td>\n",
       "      <td>128</td>\n",
       "      <td>157</td>\n",
       "      <td>68</td>\n",
       "      <td>26</td>\n",
       "      <td>18</td>\n",
       "      <td>23</td>\n",
       "      <td>90</td>\n",
       "      <td>444</td>\n",
       "    </tr>\n",
       "    <tr>\n",
       "      <th>6</th>\n",
       "      <td>203503</td>\n",
       "      <td>2019-20</td>\n",
       "      <td>00</td>\n",
       "      <td>1610612765</td>\n",
       "      <td>DET</td>\n",
       "      <td>28.0</td>\n",
       "      <td>59</td>\n",
       "      <td>57</td>\n",
       "      <td>1641.0</td>\n",
       "      <td>170</td>\n",
       "      <td>...</td>\n",
       "      <td>1.000</td>\n",
       "      <td>9</td>\n",
       "      <td>102</td>\n",
       "      <td>111</td>\n",
       "      <td>127</td>\n",
       "      <td>32</td>\n",
       "      <td>15</td>\n",
       "      <td>31</td>\n",
       "      <td>101</td>\n",
       "      <td>474</td>\n",
       "    </tr>\n",
       "    <tr>\n",
       "      <th>7</th>\n",
       "      <td>203503</td>\n",
       "      <td>2020-21</td>\n",
       "      <td>00</td>\n",
       "      <td>1610612737</td>\n",
       "      <td>ATL</td>\n",
       "      <td>29.0</td>\n",
       "      <td>47</td>\n",
       "      <td>23</td>\n",
       "      <td>992.0</td>\n",
       "      <td>88</td>\n",
       "      <td>...</td>\n",
       "      <td>1.000</td>\n",
       "      <td>18</td>\n",
       "      <td>94</td>\n",
       "      <td>112</td>\n",
       "      <td>59</td>\n",
       "      <td>13</td>\n",
       "      <td>11</td>\n",
       "      <td>21</td>\n",
       "      <td>75</td>\n",
       "      <td>249</td>\n",
       "    </tr>\n",
       "  </tbody>\n",
       "</table>\n",
       "<p>144 rows × 27 columns</p>\n",
       "</div>"
      ],
      "text/plain": [
       "    PLAYER_ID SEASON_ID LEAGUE_ID     TEAM_ID TEAM_ABBREVIATION  PLAYER_AGE  \\\n",
       "0     1628989   2018-19        00  1610612737               ATL        20.0   \n",
       "1     1628989   2019-20        00  1610612737               ATL        21.0   \n",
       "2     1628989   2020-21        00  1610612737               ATL        22.0   \n",
       "0     1629627   2019-20        00  1610612740               NOP        19.0   \n",
       "1     1629627   2020-21        00  1610612740               NOP        20.0   \n",
       "..        ...       ...       ...         ...               ...         ...   \n",
       "3      203503   2016-17        00  1610612749               MIL        25.0   \n",
       "4      203503   2017-18        00  1610612749               MIL        26.0   \n",
       "5      203503   2018-19        00  1610612749               MIL        27.0   \n",
       "6      203503   2019-20        00  1610612765               DET        28.0   \n",
       "7      203503   2020-21        00  1610612737               ATL        29.0   \n",
       "\n",
       "    GP  GS     MIN  FGM  ...  FT_PCT  OREB  DREB  REB  AST  STL  BLK  TOV  \\\n",
       "0   75  59  2049.0  275  ...   0.732    60   185  245  214   65   25  109   \n",
       "1   56  48  1760.0  252  ...   0.828    35   193  228  213   51   27   87   \n",
       "2   69  49  2126.0  316  ...   0.781    38   193  231  241   82   18   79   \n",
       "0   24  24   668.0  210  ...   0.640    64    86  150   50   16    9   59   \n",
       "1   61  61  2026.0  634  ...   0.698   167   274  441  226   57   39  167   \n",
       "..  ..  ..     ...  ...  ...     ...   ...   ...  ...  ...  ...  ...  ...   \n",
       "3   80  80  2336.0  246  ...   0.810    22   226  248   96   55   14   55   \n",
       "4   75  59  2053.0  185  ...   0.792     9   132  141   98   47   28   36   \n",
       "5   74  12  1304.0  163  ...   0.881    29   128  157   68   26   18   23   \n",
       "6   59  57  1641.0  170  ...   1.000     9   102  111  127   32   15   31   \n",
       "7   47  23   992.0   88  ...   1.000    18    94  112   59   13   11   21   \n",
       "\n",
       "     PF   PTS  \n",
       "0   155   727  \n",
       "1   139   684  \n",
       "2   165   822  \n",
       "0    42   540  \n",
       "1   135  1647  \n",
       "..  ...   ...  \n",
       "3   125   683  \n",
       "4   115   516  \n",
       "5    90   444  \n",
       "6   101   474  \n",
       "7    75   249  \n",
       "\n",
       "[144 rows x 27 columns]"
      ]
     },
     "execution_count": 163,
     "metadata": {},
     "output_type": "execute_result"
    }
   ],
   "source": [
    "player_info"
   ]
  },
  {
   "cell_type": "code",
   "execution_count": 124,
   "id": "8579a6b4-5193-432e-a411-dac45e8b1056",
   "metadata": {},
   "outputs": [],
   "source": [
    "nba_players = pd.merge(player_info, nba_players, how=\"left\", left_on=\"PLAYER_ID\", right_on=\"id\")"
   ]
  },
  {
   "cell_type": "markdown",
   "id": "b3e3e0e5-2062-4f10-89b3-41530ef42068",
   "metadata": {},
   "source": [
    "# Scrape Salaries"
   ]
  },
  {
   "cell_type": "markdown",
   "id": "00a3047e-559a-482f-aefa-cb6ecf940efe",
   "metadata": {},
   "source": [
    "Adapt the years being scraped to today!"
   ]
  },
  {
   "cell_type": "code",
   "execution_count": 78,
   "id": "7fbd8b8f-33a7-469b-9105-89f8b82ccef5",
   "metadata": {},
   "outputs": [],
   "source": [
    "import requests\n",
    "from bs4 import BeautifulSoup\n",
    "import pandas as pd\n",
    "import matplotlib.pyplot as plt\n",
    "import numpy as np\n",
    "\n",
    "url='https://hoopshype.com/salaries/players/'"
   ]
  },
  {
   "cell_type": "code",
   "execution_count": 79,
   "id": "5209e7db-693c-4ec1-8821-81fbd34aaba9",
   "metadata": {},
   "outputs": [],
   "source": [
    "r = requests.get(url, timeout=2.5)\n",
    "r_html = r.text\n",
    "\n",
    "soup = BeautifulSoup(r_html, 'html.parser')\n",
    "\n",
    "salary_table = soup.find('table')"
   ]
  },
  {
   "cell_type": "code",
   "execution_count": 42,
   "id": "2d0cd81e-52f0-4d80-9df4-ed6a6b0043bb",
   "metadata": {},
   "outputs": [],
   "source": [
    "length=len(salary_table.find_all(\"td\"))\n",
    "\n",
    "player_names=[salary_table.find_all(\"td\")[i].text.strip() for i in range(9,length,8)]\n",
    "\n",
    "column1=[salary_table.find_all(\"td\")[i].text.strip() for i in range(10,length,8)]\n",
    "column2=[salary_table.find_all(\"td\")[i].text.strip() for i in range(11,length,8)]\n",
    "column3=[salary_table.find_all(\"td\")[i].text.strip() for i in range(12,length,8)]\n",
    "column4=[salary_table.find_all(\"td\")[i].text.strip() for i in range(13,length,8)]\n",
    "column5=[salary_table.find_all(\"td\")[i].text.strip() for i in range(14,length,8)]\n",
    "column6=[salary_table.find_all(\"td\")[i].text.strip() for i in range(15,length,8)]"
   ]
  },
  {
   "cell_type": "code",
   "execution_count": 45,
   "id": "9f683c6c-56c1-40cd-92e9-bf89aa4a79b2",
   "metadata": {},
   "outputs": [],
   "source": [
    "dict_df={'player_names':player_names,\n",
    "        '2019/20':column1,\n",
    "        '2020/21':column2,\n",
    "        '2021/22':column3,\n",
    "        '2022/23':column4,\n",
    "        '2023/24':column5,\n",
    "        '20124/25':column6}\n",
    "        \n",
    "df_salary=pd.DataFrame(dict_df)"
   ]
  },
  {
   "cell_type": "code",
   "execution_count": 46,
   "id": "055217bc-9904-44a4-8bcc-6b9f866409c2",
   "metadata": {
    "tags": []
   },
   "outputs": [
    {
     "data": {
      "text/html": [
       "<div>\n",
       "<style scoped>\n",
       "    .dataframe tbody tr th:only-of-type {\n",
       "        vertical-align: middle;\n",
       "    }\n",
       "\n",
       "    .dataframe tbody tr th {\n",
       "        vertical-align: top;\n",
       "    }\n",
       "\n",
       "    .dataframe thead th {\n",
       "        text-align: right;\n",
       "    }\n",
       "</style>\n",
       "<table border=\"1\" class=\"dataframe\">\n",
       "  <thead>\n",
       "    <tr style=\"text-align: right;\">\n",
       "      <th></th>\n",
       "      <th>player_names</th>\n",
       "      <th>2019/20</th>\n",
       "      <th>2020/21</th>\n",
       "      <th>2021/22</th>\n",
       "      <th>2022/23</th>\n",
       "      <th>2023/24</th>\n",
       "      <th>20124/25</th>\n",
       "    </tr>\n",
       "  </thead>\n",
       "  <tbody>\n",
       "    <tr>\n",
       "      <th>0</th>\n",
       "      <td>Stephen Curry</td>\n",
       "      <td>$45,780,966</td>\n",
       "      <td>$48,070,014</td>\n",
       "      <td>$51,915,615</td>\n",
       "      <td>$55,761,217</td>\n",
       "      <td>$59,606,817</td>\n",
       "      <td>$0</td>\n",
       "    </tr>\n",
       "    <tr>\n",
       "      <th>1</th>\n",
       "      <td>James Harden</td>\n",
       "      <td>$44,310,840</td>\n",
       "      <td>$47,366,760</td>\n",
       "      <td>$0</td>\n",
       "      <td>$0</td>\n",
       "      <td>$0</td>\n",
       "      <td>$0</td>\n",
       "    </tr>\n",
       "    <tr>\n",
       "      <th>2</th>\n",
       "      <td>John Wall</td>\n",
       "      <td>$44,310,840</td>\n",
       "      <td>$47,366,760</td>\n",
       "      <td>$0</td>\n",
       "      <td>$0</td>\n",
       "      <td>$0</td>\n",
       "      <td>$0</td>\n",
       "    </tr>\n",
       "    <tr>\n",
       "      <th>3</th>\n",
       "      <td>Russell Westbrook</td>\n",
       "      <td>$44,211,146</td>\n",
       "      <td>$47,063,478</td>\n",
       "      <td>$0</td>\n",
       "      <td>$0</td>\n",
       "      <td>$0</td>\n",
       "      <td>$0</td>\n",
       "    </tr>\n",
       "    <tr>\n",
       "      <th>4</th>\n",
       "      <td>LeBron James</td>\n",
       "      <td>$41,180,544</td>\n",
       "      <td>$44,474,988</td>\n",
       "      <td>$0</td>\n",
       "      <td>$0</td>\n",
       "      <td>$0</td>\n",
       "      <td>$0</td>\n",
       "    </tr>\n",
       "    <tr>\n",
       "      <th>...</th>\n",
       "      <td>...</td>\n",
       "      <td>...</td>\n",
       "      <td>...</td>\n",
       "      <td>...</td>\n",
       "      <td>...</td>\n",
       "      <td>...</td>\n",
       "      <td>...</td>\n",
       "    </tr>\n",
       "    <tr>\n",
       "      <th>566</th>\n",
       "      <td>Cassius Winston</td>\n",
       "      <td>$462,629</td>\n",
       "      <td>$1,576,305</td>\n",
       "      <td>$0</td>\n",
       "      <td>$0</td>\n",
       "      <td>$0</td>\n",
       "      <td>$0</td>\n",
       "    </tr>\n",
       "    <tr>\n",
       "      <th>567</th>\n",
       "      <td>Dakari Johnson</td>\n",
       "      <td>$459,414</td>\n",
       "      <td>$0</td>\n",
       "      <td>$0</td>\n",
       "      <td>$0</td>\n",
       "      <td>$0</td>\n",
       "      <td>$0</td>\n",
       "    </tr>\n",
       "    <tr>\n",
       "      <th>568</th>\n",
       "      <td>Jontay Porter</td>\n",
       "      <td>$300,000</td>\n",
       "      <td>$0</td>\n",
       "      <td>$0</td>\n",
       "      <td>$0</td>\n",
       "      <td>$0</td>\n",
       "      <td>$0</td>\n",
       "    </tr>\n",
       "    <tr>\n",
       "      <th>569</th>\n",
       "      <td>Troy Williams</td>\n",
       "      <td>$122,741</td>\n",
       "      <td>$0</td>\n",
       "      <td>$0</td>\n",
       "      <td>$0</td>\n",
       "      <td>$0</td>\n",
       "      <td>$0</td>\n",
       "    </tr>\n",
       "    <tr>\n",
       "      <th>570</th>\n",
       "      <td>Mamadi Diakite</td>\n",
       "      <td>$100,000</td>\n",
       "      <td>$0</td>\n",
       "      <td>$0</td>\n",
       "      <td>$0</td>\n",
       "      <td>$0</td>\n",
       "      <td>$0</td>\n",
       "    </tr>\n",
       "  </tbody>\n",
       "</table>\n",
       "<p>571 rows × 7 columns</p>\n",
       "</div>"
      ],
      "text/plain": [
       "          player_names      2019/20      2020/21      2021/22      2022/23  \\\n",
       "0        Stephen Curry  $45,780,966  $48,070,014  $51,915,615  $55,761,217   \n",
       "1         James Harden  $44,310,840  $47,366,760           $0           $0   \n",
       "2            John Wall  $44,310,840  $47,366,760           $0           $0   \n",
       "3    Russell Westbrook  $44,211,146  $47,063,478           $0           $0   \n",
       "4         LeBron James  $41,180,544  $44,474,988           $0           $0   \n",
       "..                 ...          ...          ...          ...          ...   \n",
       "566    Cassius Winston     $462,629   $1,576,305           $0           $0   \n",
       "567     Dakari Johnson     $459,414           $0           $0           $0   \n",
       "568      Jontay Porter     $300,000           $0           $0           $0   \n",
       "569      Troy Williams     $122,741           $0           $0           $0   \n",
       "570     Mamadi Diakite     $100,000           $0           $0           $0   \n",
       "\n",
       "         2023/24 20124/25  \n",
       "0    $59,606,817       $0  \n",
       "1             $0       $0  \n",
       "2             $0       $0  \n",
       "3             $0       $0  \n",
       "4             $0       $0  \n",
       "..           ...      ...  \n",
       "566           $0       $0  \n",
       "567           $0       $0  \n",
       "568           $0       $0  \n",
       "569           $0       $0  \n",
       "570           $0       $0  \n",
       "\n",
       "[571 rows x 7 columns]"
      ]
     },
     "execution_count": 46,
     "metadata": {},
     "output_type": "execute_result"
    }
   ],
   "source": [
    "df_salary"
   ]
  },
  {
   "cell_type": "code",
   "execution_count": 64,
   "id": "922a9ff3-3115-4924-a5f3-243ab796d776",
   "metadata": {},
   "outputs": [],
   "source": [
    "df_salary = df_salary.rename(columns={\"20124/25\": \"2024/25\"})"
   ]
  },
  {
   "cell_type": "code",
   "execution_count": 65,
   "id": "8c4334a8-db4b-46ca-b178-609ea74cf00a",
   "metadata": {},
   "outputs": [],
   "source": [
    "salary_years = ['2019/20', '2020/21', '2021/22', '2022/23', '2023/24', '2024/25']"
   ]
  },
  {
   "cell_type": "code",
   "execution_count": 66,
   "id": "ad612327-7410-467e-a05a-381a16c4bd40",
   "metadata": {},
   "outputs": [],
   "source": [
    "df_player = pd.merge(df_salary, nba_players, left_on=\"player_names\", right_on=\"full_name\")"
   ]
  },
  {
   "cell_type": "code",
   "execution_count": 67,
   "id": "243db761-7d31-45a5-a666-c1633975073d",
   "metadata": {},
   "outputs": [],
   "source": [
    "for col in salary_years:\n",
    "    df_player[col] = df_player[col].apply(lambda x: x.replace('$', '').replace(',', '')).astype(float)"
   ]
  },
  {
   "cell_type": "code",
   "execution_count": 127,
   "id": "b17ef70f-c7f3-48dc-a0f5-b9107c294b10",
   "metadata": {},
   "outputs": [],
   "source": [
    "df_player = pd.merge(df_player, nba_players)"
   ]
  },
  {
   "cell_type": "code",
   "execution_count": 128,
   "id": "325d9dbb-0bc9-433e-b62b-cf814ef78cac",
   "metadata": {},
   "outputs": [],
   "source": [
    "def discount_salary(df: pd.DataFrame, interest: float, year_cols: list):\n",
    "    \n",
    "    dcf = np.zeros((df.shape[0], len(year_cols)))\n",
    "    \n",
    "    for i, col in enumerate(year_cols):\n",
    "        dcf[:, i] = df[col] * (1 + interest)**((-1)*i)\n",
    "    \n",
    "    npv = dcf.sum(axis=1)\n",
    "    \n",
    "    return dcf, npv"
   ]
  },
  {
   "cell_type": "code",
   "execution_count": 129,
   "id": "48438c30-7b6f-4f8c-a64a-4138f498fdf2",
   "metadata": {},
   "outputs": [],
   "source": [
    "dcf, npv = discount_salary(df=df_player, interest=0.02, year_cols=salary_years)"
   ]
  },
  {
   "cell_type": "code",
   "execution_count": 141,
   "id": "7749a1d9-597a-476e-a235-19a29b117680",
   "metadata": {},
   "outputs": [],
   "source": [
    "df_player['npv_contract'] = npv"
   ]
  },
  {
   "cell_type": "markdown",
   "id": "58c5ca32-7975-4b9f-b2a0-2ce213944b49",
   "metadata": {},
   "source": [
    "# Visualizations"
   ]
  },
  {
   "cell_type": "code",
   "execution_count": 142,
   "id": "738f2431-f739-4215-bc10-01da37711578",
   "metadata": {},
   "outputs": [],
   "source": [
    "import matplotlib.pyplot as plt\n",
    "plt.rcParams[\"figure.figsize\"] = (20,10)\n",
    "sns.set_context(\"talk\")"
   ]
  },
  {
   "cell_type": "code",
   "execution_count": 144,
   "id": "f4d84783-bf57-43b5-9177-cdc151747da8",
   "metadata": {},
   "outputs": [
    {
     "data": {
      "text/plain": [
       "<AxesSubplot:xlabel='2019/20', ylabel='Count'>"
      ]
     },
     "execution_count": 144,
     "metadata": {},
     "output_type": "execute_result"
    },
    {
     "data": {
      "image/png": "[encoded data removed]",
      "text/plain": [
       "<Figure size 1440x720 with 1 Axes>"
      ]
     },
     "metadata": {
      "needs_background": "light"
     },
     "output_type": "display_data"
    }
   ],
   "source": [
    "sns.histplot(data=df_player, x='2019/20')"
   ]
  },
  {
   "cell_type": "code",
   "execution_count": 147,
   "id": "17966a7f-3a87-4ca4-a85d-59f6dbdd0dbf",
   "metadata": {},
   "outputs": [
    {
     "data": {
      "text/plain": [
       "Index(['player_names', '2019/20', '2020/21', '2021/22', '2022/23', '2023/24',\n",
       "       '2024/25', 'id', 'full_name', 'first_name', 'last_name', 'is_active',\n",
       "       'npv_contract', 'PLAYER_ID', 'SEASON_ID', 'LEAGUE_ID', 'TEAM_ID',\n",
       "       'TEAM_ABBREVIATION', 'PLAYER_AGE', 'GP', 'GS', 'MIN', 'FGM', 'FGA',\n",
       "       'FG_PCT', 'FG3M', 'FG3A', 'FG3_PCT', 'FTM', 'FTA', 'FT_PCT', 'OREB',\n",
       "       'DREB', 'REB', 'AST', 'STL', 'BLK', 'TOV', 'PF', 'PTS'],\n",
       "      dtype='object')"
      ]
     },
     "execution_count": 147,
     "metadata": {},
     "output_type": "execute_result"
    }
   ],
   "source": [
    "df_player.columns"
   ]
  },
  {
   "cell_type": "code",
   "execution_count": 154,
   "id": "6243587d-8c42-4315-92a6-be516e2c946b",
   "metadata": {
    "scrolled": false
   },
   "outputs": [
    {
     "data": {
      "text/plain": [
       "<AxesSubplot:xlabel='REB', ylabel='PTS'>"
      ]
     },
     "execution_count": 154,
     "metadata": {},
     "output_type": "execute_result"
    },
    {
     "data": {
      "image/png": "[encoded data removed]",
      "text/plain": [
       "<Figure size 1440x720 with 1 Axes>"
      ]
     },
     "metadata": {
      "needs_background": "light"
     },
     "output_type": "display_data"
    }
   ],
   "source": [
    "sns.scatterplot(data=df_player, x=\"REB\", y=\"PTS\")"
   ]
  },
  {
   "cell_type": "markdown",
   "id": "c571eb4c",
   "metadata": {},
   "source": [
    "## Specific player"
   ]
  },
  {
   "cell_type": "code",
   "execution_count": 9,
   "id": "5ab7b483",
   "metadata": {},
   "outputs": [],
   "source": [
    "from nba_api.stats.static import players\n",
    "from nba_api.stats.endpoints import playergamelog\n",
    "from nba_api.stats.library.parameters import SeasonAll"
   ]
  },
  {
   "cell_type": "code",
   "execution_count": 1,
   "id": "729ff4bc",
   "metadata": {},
   "outputs": [],
   "source": [
    "# player_dict = players.get_players()\n",
    "# player_dict[:5]\n",
    "\n",
    "gamelog_bron_all = playergamelog.PlayerGameLog(player_id = '2544', season = SeasonAll.all)\n",
    "df_bron_games_all = gamelog_bron_all.get_data_frames()"
   ]
  },
  {
   "cell_type": "code",
   "execution_count": 8,
   "id": "35d112ca",
   "metadata": {},
   "outputs": [
    {
     "data": {
      "text/html": [
       "<div>\n",
       "<style scoped>\n",
       "    .dataframe tbody tr th:only-of-type {\n",
       "        vertical-align: middle;\n",
       "    }\n",
       "\n",
       "    .dataframe tbody tr th {\n",
       "        vertical-align: top;\n",
       "    }\n",
       "\n",
       "    .dataframe thead th {\n",
       "        text-align: right;\n",
       "    }\n",
       "</style>\n",
       "<table border=\"1\" class=\"dataframe\">\n",
       "  <thead>\n",
       "    <tr style=\"text-align: right;\">\n",
       "      <th></th>\n",
       "      <th>SEASON_ID</th>\n",
       "      <th>Player_ID</th>\n",
       "      <th>Game_ID</th>\n",
       "      <th>GAME_DATE</th>\n",
       "      <th>MATCHUP</th>\n",
       "      <th>WL</th>\n",
       "      <th>MIN</th>\n",
       "      <th>FGM</th>\n",
       "      <th>FGA</th>\n",
       "      <th>FG_PCT</th>\n",
       "      <th>...</th>\n",
       "      <th>DREB</th>\n",
       "      <th>REB</th>\n",
       "      <th>AST</th>\n",
       "      <th>STL</th>\n",
       "      <th>BLK</th>\n",
       "      <th>TOV</th>\n",
       "      <th>PF</th>\n",
       "      <th>PTS</th>\n",
       "      <th>PLUS_MINUS</th>\n",
       "      <th>VIDEO_AVAILABLE</th>\n",
       "    </tr>\n",
       "  </thead>\n",
       "  <tbody>\n",
       "    <tr>\n",
       "      <th>0</th>\n",
       "      <td>22020</td>\n",
       "      <td>2544</td>\n",
       "      <td>0022001072</td>\n",
       "      <td>MAY 16, 2021</td>\n",
       "      <td>LAL @ NOP</td>\n",
       "      <td>W</td>\n",
       "      <td>27</td>\n",
       "      <td>11</td>\n",
       "      <td>22</td>\n",
       "      <td>0.500</td>\n",
       "      <td>...</td>\n",
       "      <td>0</td>\n",
       "      <td>1</td>\n",
       "      <td>6</td>\n",
       "      <td>3</td>\n",
       "      <td>0</td>\n",
       "      <td>2</td>\n",
       "      <td>0</td>\n",
       "      <td>25</td>\n",
       "      <td>-2</td>\n",
       "      <td>1</td>\n",
       "    </tr>\n",
       "    <tr>\n",
       "      <th>1</th>\n",
       "      <td>22020</td>\n",
       "      <td>2544</td>\n",
       "      <td>0022001061</td>\n",
       "      <td>MAY 15, 2021</td>\n",
       "      <td>LAL @ IND</td>\n",
       "      <td>W</td>\n",
       "      <td>28</td>\n",
       "      <td>11</td>\n",
       "      <td>22</td>\n",
       "      <td>0.500</td>\n",
       "      <td>...</td>\n",
       "      <td>4</td>\n",
       "      <td>7</td>\n",
       "      <td>8</td>\n",
       "      <td>0</td>\n",
       "      <td>0</td>\n",
       "      <td>4</td>\n",
       "      <td>2</td>\n",
       "      <td>24</td>\n",
       "      <td>7</td>\n",
       "      <td>1</td>\n",
       "    </tr>\n",
       "    <tr>\n",
       "      <th>2</th>\n",
       "      <td>22020</td>\n",
       "      <td>2544</td>\n",
       "      <td>0022000974</td>\n",
       "      <td>MAY 02, 2021</td>\n",
       "      <td>LAL vs. TOR</td>\n",
       "      <td>L</td>\n",
       "      <td>28</td>\n",
       "      <td>6</td>\n",
       "      <td>11</td>\n",
       "      <td>0.545</td>\n",
       "      <td>...</td>\n",
       "      <td>7</td>\n",
       "      <td>7</td>\n",
       "      <td>6</td>\n",
       "      <td>0</td>\n",
       "      <td>0</td>\n",
       "      <td>5</td>\n",
       "      <td>2</td>\n",
       "      <td>19</td>\n",
       "      <td>-4</td>\n",
       "      <td>1</td>\n",
       "    </tr>\n",
       "    <tr>\n",
       "      <th>3</th>\n",
       "      <td>22020</td>\n",
       "      <td>2544</td>\n",
       "      <td>0022000956</td>\n",
       "      <td>APR 30, 2021</td>\n",
       "      <td>LAL vs. SAC</td>\n",
       "      <td>L</td>\n",
       "      <td>32</td>\n",
       "      <td>6</td>\n",
       "      <td>12</td>\n",
       "      <td>0.500</td>\n",
       "      <td>...</td>\n",
       "      <td>7</td>\n",
       "      <td>8</td>\n",
       "      <td>7</td>\n",
       "      <td>2</td>\n",
       "      <td>1</td>\n",
       "      <td>5</td>\n",
       "      <td>1</td>\n",
       "      <td>16</td>\n",
       "      <td>5</td>\n",
       "      <td>1</td>\n",
       "    </tr>\n",
       "    <tr>\n",
       "      <th>4</th>\n",
       "      <td>22020</td>\n",
       "      <td>2544</td>\n",
       "      <td>0022000640</td>\n",
       "      <td>MAR 20, 2021</td>\n",
       "      <td>LAL vs. ATL</td>\n",
       "      <td>L</td>\n",
       "      <td>11</td>\n",
       "      <td>3</td>\n",
       "      <td>6</td>\n",
       "      <td>0.500</td>\n",
       "      <td>...</td>\n",
       "      <td>1</td>\n",
       "      <td>1</td>\n",
       "      <td>4</td>\n",
       "      <td>0</td>\n",
       "      <td>0</td>\n",
       "      <td>1</td>\n",
       "      <td>0</td>\n",
       "      <td>10</td>\n",
       "      <td>-5</td>\n",
       "      <td>1</td>\n",
       "    </tr>\n",
       "    <tr>\n",
       "      <th>...</th>\n",
       "      <td>...</td>\n",
       "      <td>...</td>\n",
       "      <td>...</td>\n",
       "      <td>...</td>\n",
       "      <td>...</td>\n",
       "      <td>...</td>\n",
       "      <td>...</td>\n",
       "      <td>...</td>\n",
       "      <td>...</td>\n",
       "      <td>...</td>\n",
       "      <td>...</td>\n",
       "      <td>...</td>\n",
       "      <td>...</td>\n",
       "      <td>...</td>\n",
       "      <td>...</td>\n",
       "      <td>...</td>\n",
       "      <td>...</td>\n",
       "      <td>...</td>\n",
       "      <td>...</td>\n",
       "      <td>...</td>\n",
       "      <td>...</td>\n",
       "    </tr>\n",
       "    <tr>\n",
       "      <th>1305</th>\n",
       "      <td>22003</td>\n",
       "      <td>2544</td>\n",
       "      <td>0020300068</td>\n",
       "      <td>NOV 07, 2003</td>\n",
       "      <td>CLE @ IND</td>\n",
       "      <td>L</td>\n",
       "      <td>44</td>\n",
       "      <td>8</td>\n",
       "      <td>18</td>\n",
       "      <td>0.444</td>\n",
       "      <td>...</td>\n",
       "      <td>5</td>\n",
       "      <td>5</td>\n",
       "      <td>3</td>\n",
       "      <td>0</td>\n",
       "      <td>0</td>\n",
       "      <td>7</td>\n",
       "      <td>2</td>\n",
       "      <td>23</td>\n",
       "      <td>-7</td>\n",
       "      <td>0</td>\n",
       "    </tr>\n",
       "    <tr>\n",
       "      <th>1306</th>\n",
       "      <td>22003</td>\n",
       "      <td>2544</td>\n",
       "      <td>0020300057</td>\n",
       "      <td>NOV 05, 2003</td>\n",
       "      <td>CLE vs. DEN</td>\n",
       "      <td>L</td>\n",
       "      <td>41</td>\n",
       "      <td>3</td>\n",
       "      <td>11</td>\n",
       "      <td>0.273</td>\n",
       "      <td>...</td>\n",
       "      <td>9</td>\n",
       "      <td>11</td>\n",
       "      <td>7</td>\n",
       "      <td>2</td>\n",
       "      <td>3</td>\n",
       "      <td>2</td>\n",
       "      <td>1</td>\n",
       "      <td>7</td>\n",
       "      <td>-3</td>\n",
       "      <td>0</td>\n",
       "    </tr>\n",
       "    <tr>\n",
       "      <th>1307</th>\n",
       "      <td>22003</td>\n",
       "      <td>2544</td>\n",
       "      <td>0020300038</td>\n",
       "      <td>NOV 01, 2003</td>\n",
       "      <td>CLE @ POR</td>\n",
       "      <td>L</td>\n",
       "      <td>39</td>\n",
       "      <td>3</td>\n",
       "      <td>12</td>\n",
       "      <td>0.250</td>\n",
       "      <td>...</td>\n",
       "      <td>4</td>\n",
       "      <td>4</td>\n",
       "      <td>6</td>\n",
       "      <td>2</td>\n",
       "      <td>0</td>\n",
       "      <td>2</td>\n",
       "      <td>3</td>\n",
       "      <td>8</td>\n",
       "      <td>-21</td>\n",
       "      <td>0</td>\n",
       "    </tr>\n",
       "    <tr>\n",
       "      <th>1308</th>\n",
       "      <td>22003</td>\n",
       "      <td>2544</td>\n",
       "      <td>0020300018</td>\n",
       "      <td>OCT 30, 2003</td>\n",
       "      <td>CLE @ PHX</td>\n",
       "      <td>L</td>\n",
       "      <td>41</td>\n",
       "      <td>8</td>\n",
       "      <td>17</td>\n",
       "      <td>0.471</td>\n",
       "      <td>...</td>\n",
       "      <td>10</td>\n",
       "      <td>12</td>\n",
       "      <td>8</td>\n",
       "      <td>1</td>\n",
       "      <td>0</td>\n",
       "      <td>7</td>\n",
       "      <td>1</td>\n",
       "      <td>21</td>\n",
       "      <td>-3</td>\n",
       "      <td>0</td>\n",
       "    </tr>\n",
       "    <tr>\n",
       "      <th>1309</th>\n",
       "      <td>22003</td>\n",
       "      <td>2544</td>\n",
       "      <td>0020300014</td>\n",
       "      <td>OCT 29, 2003</td>\n",
       "      <td>CLE @ SAC</td>\n",
       "      <td>L</td>\n",
       "      <td>42</td>\n",
       "      <td>12</td>\n",
       "      <td>20</td>\n",
       "      <td>0.600</td>\n",
       "      <td>...</td>\n",
       "      <td>4</td>\n",
       "      <td>6</td>\n",
       "      <td>9</td>\n",
       "      <td>4</td>\n",
       "      <td>0</td>\n",
       "      <td>2</td>\n",
       "      <td>3</td>\n",
       "      <td>25</td>\n",
       "      <td>-9</td>\n",
       "      <td>0</td>\n",
       "    </tr>\n",
       "  </tbody>\n",
       "</table>\n",
       "<p>1310 rows × 27 columns</p>\n",
       "</div>"
      ],
      "text/plain": [
       "     SEASON_ID  Player_ID     Game_ID     GAME_DATE      MATCHUP WL  MIN  FGM  \\\n",
       "0        22020       2544  0022001072  MAY 16, 2021    LAL @ NOP  W   27   11   \n",
       "1        22020       2544  0022001061  MAY 15, 2021    LAL @ IND  W   28   11   \n",
       "2        22020       2544  0022000974  MAY 02, 2021  LAL vs. TOR  L   28    6   \n",
       "3        22020       2544  0022000956  APR 30, 2021  LAL vs. SAC  L   32    6   \n",
       "4        22020       2544  0022000640  MAR 20, 2021  LAL vs. ATL  L   11    3   \n",
       "...        ...        ...         ...           ...          ... ..  ...  ...   \n",
       "1305     22003       2544  0020300068  NOV 07, 2003    CLE @ IND  L   44    8   \n",
       "1306     22003       2544  0020300057  NOV 05, 2003  CLE vs. DEN  L   41    3   \n",
       "1307     22003       2544  0020300038  NOV 01, 2003    CLE @ POR  L   39    3   \n",
       "1308     22003       2544  0020300018  OCT 30, 2003    CLE @ PHX  L   41    8   \n",
       "1309     22003       2544  0020300014  OCT 29, 2003    CLE @ SAC  L   42   12   \n",
       "\n",
       "      FGA  FG_PCT  ...  DREB  REB  AST  STL  BLK  TOV  PF  PTS  PLUS_MINUS  \\\n",
       "0      22   0.500  ...     0    1    6    3    0    2   0   25          -2   \n",
       "1      22   0.500  ...     4    7    8    0    0    4   2   24           7   \n",
       "2      11   0.545  ...     7    7    6    0    0    5   2   19          -4   \n",
       "3      12   0.500  ...     7    8    7    2    1    5   1   16           5   \n",
       "4       6   0.500  ...     1    1    4    0    0    1   0   10          -5   \n",
       "...   ...     ...  ...   ...  ...  ...  ...  ...  ...  ..  ...         ...   \n",
       "1305   18   0.444  ...     5    5    3    0    0    7   2   23          -7   \n",
       "1306   11   0.273  ...     9   11    7    2    3    2   1    7          -3   \n",
       "1307   12   0.250  ...     4    4    6    2    0    2   3    8         -21   \n",
       "1308   17   0.471  ...    10   12    8    1    0    7   1   21          -3   \n",
       "1309   20   0.600  ...     4    6    9    4    0    2   3   25          -9   \n",
       "\n",
       "      VIDEO_AVAILABLE  \n",
       "0                   1  \n",
       "1                   1  \n",
       "2                   1  \n",
       "3                   1  \n",
       "4                   1  \n",
       "...               ...  \n",
       "1305                0  \n",
       "1306                0  \n",
       "1307                0  \n",
       "1308                0  \n",
       "1309                0  \n",
       "\n",
       "[1310 rows x 27 columns]"
      ]
     },
     "execution_count": 8,
     "metadata": {},
     "output_type": "execute_result"
    }
   ],
   "source": [
    "df_bron_games_all[0]"
   ]
  }
 ],
 "metadata": {
  "kernelspec": {
   "display_name": "Python 3",
   "language": "python",
   "name": "python3"
  },
  "language_info": {
   "codemirror_mode": {
    "name": "ipython",
    "version": 3
   },
   "file_extension": ".py",
   "mimetype": "text/x-python",
   "name": "python",
   "nbconvert_exporter": "python",
   "pygments_lexer": "ipython3",
   "version": "3.8.8"
  }
 },
 "nbformat": 4,
 "nbformat_minor": 5
}
